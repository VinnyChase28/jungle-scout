{
 "cells": [
  {
   "cell_type": "code",
   "execution_count": 26,
   "metadata": {},
   "outputs": [],
   "source": [
    "import pandas as pd\n",
    "import plotly.express as px\n",
    "import plotly.graph_objects as go\n",
    "from plotly.subplots import make_subplots\n",
    "import numpy as np"
   ]
  },
  {
   "cell_type": "markdown",
   "metadata": {},
   "source": [
    "Review Count vs Revenue\n",
    "\n",
    "We can add the trendline parameter in px.scatter. This will automatically calculate and display a trend line based on an ordinary least squares (OLS) regression, helping to highlight any overarching trends between the number of reviews and revenue."
   ]
  },
  {
   "cell_type": "code",
   "execution_count": 27,
   "metadata": {},
   "outputs": [
    {
     "data": {
      "application/vnd.plotly.v1+json": {
       "config": {
        "plotlyServerURL": "https://plot.ly"
       },
       "data": [
        {
         "customdata": [
          [
           "Purina Fancy Feast",
           "Purina Fancy Feast Grilled Wet Cat Food Seafood Collection in Wet Cat Food Variety Pack - (24) 3 oz. Cans"
          ],
          [
           "Purina Fancy Feast",
           "Purina Fancy Feast Grilled Wet Cat Food Seafood Collection in Wet Cat Food Variety Pack - (24) 3 oz. Cans"
          ],
          [
           "Purina Fancy Feast",
           "Purina Fancy Feast Grilled - (24) 3 oz. Cans"
          ],
          [
           "Purina Fancy Feast",
           "Purina Fancy Feast Dry Cat Food, with Savory Chicken & Turkey - 12 lb with Fancy Feast Natural Wet Cat Food Variety Pack, Gourmet Naturals Poultry & Beef Collection - (30) 3 oz. Cans"
          ],
          [
           "Purina Fancy Feast",
           "Purina Fancy Feast Wet Cat Food Variety Pack Gourmet Naturals - (30) 3 oz. Cans"
          ],
          [
           "Purina Fancy Feast",
           "Purina Fancy Feast Grilled - (24) 3 oz. Cans"
          ],
          [
           "Purina Fancy Feast",
           "Purina Fancy Feast Wet Cat Food, Flaked Tuna & Mackerel Feast - (24) 3 oz. Cans"
          ],
          [
           "Purina Fancy Feast",
           "Purina Fancy Feast Gravy Lovers - (24) 3 oz. Cans"
          ],
          [
           "Purina Fancy Feast",
           "Purina Fancy Feast Gravy Wet Cat Food Variety Pack, Gravy Lovers Poultry & Beef - (30) 3 oz. Cans"
          ],
          [
           "Purina Fancy Feast",
           "Purina Fancy Feast Gourmet Wet Cat Food Variety Pack, Petites - (24) 2.8 oz. Tubs"
          ],
          [
           "Purina Fancy Feast",
           "Purina Fancy Feast Tender Beef Feast Classic Grain Free Wet Cat Food Pate - (24) 3 oz. Cans"
          ],
          [
           "Purina Fancy Feast",
           "Purina Fancy Feast Gravy Wet Cat Food Variety Pack, Gravy Lovers Poultry & Beef - (30) 3 oz. Cans"
          ],
          [
           "Purina Fancy Feast",
           "Purina Fancy Feast Wet Cat Food, Medleys Shredded Wild Salmon Fare With Spinach in a Savory Cat Food Broth - (24) 3 Oz. Cans"
          ],
          [
           "Purina Fancy Feast",
           "Purina Fancy Feast Wet Cat Food, Flaked Tuna & Mackerel Feast - (24) 3 oz. Cans"
          ],
          [
           "Purina Fancy Feast",
           "Purina Fancy Feast Pate Wet Cat Food, Medleys Whitefish & Tuna Florentine With Cheese - (24) 3 oz. Cans"
          ],
          [
           "Purina Fancy Feast",
           "Purina Fancy Feast Wet Cat Food Variety Pack Gourmet Naturals Seafood - (30) 3 oz. Cans"
          ],
          [
           "Purina Fancy Feast",
           "Purina Fancy Feast Grilled Gravy Wet Cat Food Variety Pack, Seafood & Poultry Grilled Collection - (30) 3 oz. Cans"
          ],
          [
           "Purina Fancy Feast",
           "Purina Fancy Feast Grilled Wet Cat Food Seafood Collection in Wet Cat Food Variety Pack - (24) 3 oz. Cans"
          ],
          [
           "Purina Fancy Feast",
           "Purina Fancy Feast Dry Cat Food with Savory Chicken and Turkey - 12 lb. Bag"
          ],
          [
           "Purina Fancy Feast",
           "Purina Fancy Feast Wet Cat Food, Flaked Tuna & Mackerel Feast - (24) 3 oz. Cans"
          ],
          [
           "Purina Fancy Feast",
           "Purina Fancy Feast Gravy Lovers - (24) 3 oz. Cans"
          ],
          [
           "Purina Fancy Feast",
           "Purina Fancy Feast Pate Wet Cat Food Variety Pack, Savory Centers - (2 Packs of 12) 3 oz. Pull-Top Cans"
          ],
          [
           "Purina Fancy Feast",
           "Purina Fancy Feast Grilled - (24) 3 oz. Cans"
          ],
          [
           "Purina Fancy Feast",
           "Purina Fancy Feast Grain Free, Natural Pate Wet Cat Food, Gourmet Naturals Plus Coconut Milk, Trout & Tuna Recipe - (24) 3 oz. Cans"
          ],
          [
           "Purina Fancy Feast",
           "Purina Fancy Feast Gravy Lovers - (24) 3 oz. Cans"
          ],
          [
           "Purina Fancy Feast",
           "Purina Fancy Feast Grilled Wet Cat Food Seafood Collection in Wet Cat Food Variety Pack - (24) 3 oz. Cans"
          ],
          [
           "Purina Fancy Feast",
           "Purina Fancy Feast Gourmet Wet Cat Food Variety Pack, Petites - (24) 2.8 oz. Tubs"
          ],
          [
           "Purina Fancy Feast",
           "Purina Fancy Feast Grilled Gravy Wet Cat Food, Delights Grilled Tuna & Cheddar Cheese Feast - (24) 3 oz. Cans"
          ],
          [
           "Purina Fancy Feast",
           "Purina Fancy Feast Savory Centers - (24) 3 oz. Cans"
          ],
          [
           "Purina Fancy Feast",
           "Purina Fancy Feast Wet Cat Food Variety Pack Gourmet Naturals - (30) 3 oz. Cans"
          ],
          [
           "Purina Fancy Feast",
           "Purina Fancy Feast Grilled Wet Cat Food Seafood Collection in Wet Cat Food Variety Pack - (24) 3 oz. Cans"
          ],
          [
           "Purina Fancy Feast",
           "Purina Fancy Feast Gravy Lovers - (24) 3 oz. Cans"
          ],
          [
           "Purina Fancy Feast",
           "Purina Fancy Feast Tender Beef Feast Classic Grain Free Wet Cat Food Pate - (24) 3 oz. Cans"
          ],
          [
           "Purina Fancy Feast",
           "Purina Fancy Feast Grilled - (24) 3 oz. Cans"
          ],
          [
           "Purina Fancy Feast",
           "Purina Fancy Feast Pate Wet Cat Food Variety Pack, Savory Centers - (2 Packs of 12) 3 oz. Pull-Top Cans"
          ],
          [
           "Purina Fancy Feast",
           "Purina Fancy Feast Grilled - (24) 3 oz. Cans"
          ],
          [
           "Purina Fancy Feast",
           "Purina Fancy Feast Grilled - (24) 3 oz. Cans"
          ],
          [
           "Purina Fancy Feast",
           "Purina Fancy Feast Grilled - (24) 3 oz. Cans"
          ],
          [
           "Purina Fancy Feast",
           "Purina Fancy Feast Wet Cat Food, Medleys Shredded Wild Salmon Fare With Spinach in a Savory Cat Food Broth - (24) 3 Oz. Cans"
          ],
          [
           "Purina Fancy Feast",
           "Purina Fancy Feast Grilled Wet Cat Food Seafood Collection in Wet Cat Food Variety Pack - (24) 3 oz. Cans"
          ],
          [
           "Purina Fancy Feast",
           "Purina Fancy Feast Grilled Wet Cat Food Seafood Collection in Wet Cat Food Variety Pack - (24) 3 oz. Cans"
          ],
          [
           "Purina Fancy Feast",
           "Purina Fancy Feast Tender Beef Feast Classic Grain Free Wet Cat Food Pate - (24) 3 oz. Cans"
          ],
          [
           "Purina Fancy Feast",
           "Purina Fancy Feast Grilled - (24) 3 oz. Cans"
          ],
          [
           "Purina Fancy Feast",
           "Purina Fancy Feast Pate Wet Cat Food Variety Pack, Savory Centers - (2 Packs of 12) 3 oz. Pull-Top Cans"
          ],
          [
           "Purina Fancy Feast",
           "Purina Fancy Feast Savory Centers - (24) 3 oz. Cans"
          ],
          [
           "Purina Fancy Feast",
           "Purina Fancy Feast Gravy Wet Cat Food Variety Pack, Gravy Lovers Poultry & Beef - (30) 3 oz. Cans"
          ],
          [
           "Purina",
           "Purina Fancy Feast Grilled - (24) 3 oz. Cans"
          ],
          [
           "Purina Fancy Feast",
           "Purina Fancy Feast Grilled Gravy Wet Cat Food, Delights Grilled Tuna & Cheddar Cheese Feast - (24) 3 oz. Cans"
          ],
          [
           "Purina Fancy Feast",
           "Purina Fancy Feast Grain Free, Natural Pate Wet Cat Food, Gourmet Naturals Plus Coconut Milk Chicken Recipe - (24) 3 oz. Cans"
          ],
          [
           "Purina Fancy Feast",
           "Purina Fancy Feast Cat Food Medleys - (24) 3 oz. Cans"
          ],
          [
           "Purina Fancy Feast",
           "Purina Fancy Feast Dry Cat Food with Savory Chicken and Turkey - 12 lb. Bag"
          ],
          [
           "Purina Fancy Feast",
           "Purina Fancy Feast Gravy Wet Cat Food Variety Pack, Gravy Lovers Poultry & Beef - (30) 3 oz. Cans"
          ],
          [
           "Purina Fancy Feast",
           "Purina Fancy Feast Wet Cat Food Variety Pack Gourmet Naturals Seafood - (30) 3 oz. Cans"
          ],
          [
           "Purina Fancy Feast",
           "Purina Fancy Feast Wet Cat Food, Flaked Tuna & Mackerel Feast - (24) 3 oz. Cans"
          ],
          [
           "Purina Fancy Feast",
           "Purina Fancy Feast Wet Cat Food Medleys - (24) 3 oz. Cans"
          ],
          [
           "Purina Fancy Feast",
           "Purina Fancy Feast Wet Cat Food, Flaked Tuna & Mackerel Feast - (24) 3 oz. Cans"
          ],
          [
           "Purina Fancy Feast",
           "Purina Fancy Feast Cat Food Medleys - (24) 3 oz. Cans"
          ],
          [
           "Purina Fancy Feast",
           "Purina Fancy Feast Cat Food Medleys - (24) 3 oz. Cans"
          ],
          [
           "Purina Fancy Feast",
           "Purina Fancy Feast Tender Beef Feast Classic Grain Free Wet Cat Food Pate - (24) 3 oz. Cans"
          ],
          [
           "Purina Fancy Feast",
           "Purina Fancy Feast Savory Centers - (24) 3 oz. Cans"
          ],
          [
           "Purina Fancy Feast",
           "Purina Fancy Feast Grilled - (24) 3 oz. Cans"
          ],
          [
           "Purina Fancy Feast",
           "Purina Fancy Feast Gourmet Wet Cat Food Variety Pack, Petites - (24) 2.8 oz. Tubs"
          ],
          [
           "Purina Fancy Feast",
           "Purina Fancy Feast High Protein Senior - (24) 3 oz. Cans"
          ],
          [
           "Purina Fancy Feast",
           "Purina Fancy Feast Chicken and Beef Classic Pate - (24) 3 oz. Pull-Top Cans"
          ],
          [
           "Purina Fancy Feast",
           "Purina Fancy Feast Wet Cat Food Medleys - (24) 3 oz. Cans"
          ],
          [
           "Purina Fancy Feast",
           "Purina Fancy Feast Gravy Lovers - (24) 3 oz. Cans"
          ],
          [
           "Purina Fancy Feast",
           "Purina Fancy Feast Grilled - (24) 3 oz. Cans"
          ],
          [
           "Purina Fancy Feast",
           "Purina Fancy Feast Wet Cat Food Variety Pack, Chicken Feast Collection - (24) 3 oz. Cans"
          ],
          [
           "Purina Fancy Feast",
           "Purina Fancy Feast Dry Cat Food with Savory Chicken and Turkey - 12 lb. Bag"
          ],
          [
           "Purina Fancy Feast",
           "Purina Fancy Feast Grilled - (24) 3 oz. Cans"
          ],
          [
           "Purina Fancy Feast",
           "Purina Fancy Feast Savory Centers - (24) 3 oz. Cans"
          ],
          [
           "Purina Fancy Feast",
           "Purina Fancy Feast Wet Cat Food, Flaked Tuna & Mackerel Feast - (24) 3 oz. Cans"
          ],
          [
           "Purina Fancy Feast",
           "Purina Fancy Feast Grilled Gravy Wet Cat Food, Delights Grilled Tuna & Cheddar Cheese Feast - (24) 3 oz. Cans"
          ],
          [
           "Purina Fancy Feast",
           "Purina Fancy Feast Grilled - (24) 3 oz. Cans"
          ],
          [
           "Purina Fancy Feast",
           "Purina Fancy Feast Grilled Gravy Wet Cat Food Variety Pack, Poultry & Beef Grilled Collection - (30) 3 oz. Cans"
          ],
          [
           "Purina Fancy Feast",
           "Purina Fancy Feast Dry Cat Food, with Savory Chicken & Turkey - 12 lb with Fancy Feast Natural Wet Cat Food Variety Pack, Gourmet Naturals Poultry & Beef Collection - (30) 3 oz. Cans"
          ]
         ],
         "hovertemplate": "Short Name=Purina Fan<br>Number of Reviews=%{x}<br>Revenue ($)=%{y}<br>Brand=%{customdata[0]}<br>Name=%{customdata[1]}<extra></extra>",
         "legendgroup": "Purina Fan",
         "marker": {
          "color": "#636efa",
          "symbol": "circle"
         },
         "mode": "markers",
         "name": "Purina Fan",
         "orientation": "v",
         "showlegend": true,
         "type": "scatter",
         "x": [
          143890,
          42030,
          2182,
          3,
          22660,
          35836,
          22765,
          58992,
          5364,
          4849,
          51836,
          55256,
          26001,
          5283,
          25833,
          21617,
          18352,
          33459,
          20784,
          7350,
          44495,
          8659,
          147079,
          39745,
          49304,
          66840,
          5895,
          4179,
          1173,
          1115,
          38104,
          58665,
          12984,
          72374,
          24432,
          1150,
          143890,
          28655,
          12435,
          44291,
          112851,
          13189,
          3689,
          15272,
          773,
          1296,
          2022,
          569,
          233,
          2880,
          1305,
          16701,
          2810,
          468,
          1076,
          7578,
          319,
          5129,
          3051,
          264,
          12902,
          565,
          21673,
          2825,
          43386,
          32789,
          5467,
          1971,
          3182,
          6616,
          1169,
          1764,
          945,
          14359,
          852,
          2
         ],
         "xaxis": "x",
         "y": [
          18339631.180380464,
          16876327.60039282,
          5899598.915750246,
          5584392.010578087,
          5556600.516477984,
          4199063.989888364,
          4148983.0592978187,
          4037299.5801838897,
          3164427.329578329,
          2895692.5025376324,
          2790458.6171859168,
          2303668.10264,
          1576042.1630565834,
          1327461.63971625,
          1259140.0269761668,
          1170268.5895473084,
          1093673.435680692,
          937278.993291,
          890384.415205,
          818555.53700625,
          800299.3296371,
          779182.9081238334,
          774972.3954994375,
          501288.01916252123,
          435399.3464465,
          340937.4311174015,
          300465.745045,
          293227.79013618146,
          250910.46193859412,
          229286.32661411606,
          223110.70246000003,
          208458.787253,
          194814.82479775,
          182929.81722684053,
          170245.474155,
          142637.061438,
          137063.87175375002,
          136884.3809865,
          133102.605124,
          128324.685816,
          125836.03344,
          123916.16371200001,
          113084.367199,
          92921.642937,
          86274.80362825,
          74020.24794900001,
          73504.71036000001,
          55656.394965249994,
          54548.371177999994,
          49314.57089775,
          49214.97174975,
          47076.49813199999,
          31413.384775000002,
          30649.652792,
          28041.134851500006,
          27118.861368,
          25685.263237,
          24674.244451,
          23521.365960000003,
          21667.131656,
          19026.420408,
          17563.4001,
          17412.42438,
          16336.965968999999,
          15214.773145,
          11296.95928,
          9494.13975075,
          8006.672464306118,
          7506.7327005,
          5821.6851835,
          3380.151804,
          2704.4416944999994,
          2698.9046949999997,
          1590.964462,
          622.689436,
          0.012581999999999998
         ],
         "yaxis": "y"
        },
        {
         "customdata": [
          [
           "Purina One",
           "Purina ONE Natural Dry Cat Food, Tender Selects Blend With Real Salmon - 16 lb. Bag"
          ],
          [
           "Purina One",
           "Purina ONE High Protein Dry Cat Food, +Plus Urinary Tract Health Formula - 16 lb. Bag"
          ],
          [
           "Purina One",
           "Purina ONE Sensitive Stomach, Sensitive Skin, Natural Dry Cat Food, +Plus Sensitive Skin and Stomach Formula - 16 lb. Bag"
          ],
          [
           "Purina One",
           "Purina ONE Sensitive Stomach, Sensitive Skin, Natural Dry Cat Food, +Plus Sensitive Skin and Stomach Formula - 16 lb. Bag"
          ],
          [
           "Purina One",
           "Purina ONE Natural Dry Cat Food, Tender Selects Blend With Real Chicken - 16 Lb. Bag"
          ],
          [
           "Purina One",
           "Purina ONE Sensitive Stomach, Sensitive Skin, Natural Dry Cat Food, +Plus Sensitive Skin and Stomach Formula - 16 lb. Bag"
          ],
          [
           "Purina One",
           "Purina ONE High Protein Dry Cat Food, +Plus Urinary Tract Health Formula - 16 lb. Bag"
          ],
          [
           "Purina One",
           "Purina ONE Sensitive Stomach, Sensitive Skin, Natural Dry Cat Food, +Plus Sensitive Skin and Stomach Formula - 16 lb. Bag"
          ],
          [
           "Purina One",
           "Purina ONE Natural, Senior Dry cat Food and Wet cat Food, Indoor Advantage Bundle Pack"
          ],
          [
           "Purina One",
           "Purina ONE Natural, Low Fat, Weight Control, Indoor Dry Cat Food, +Plus Indoor Advantage - 22 lb. Bag"
          ],
          [
           "Purina One",
           "Purina ONE Natural, Low Fat, Weight Control, Indoor Dry Cat Food, +Plus Indoor Advantage - 22 lb. Bag"
          ]
         ],
         "hovertemplate": "Short Name=Purina ONE<br>Number of Reviews=%{x}<br>Revenue ($)=%{y}<br>Brand=%{customdata[0]}<br>Name=%{customdata[1]}<extra></extra>",
         "legendgroup": "Purina ONE",
         "marker": {
          "color": "#EF553B",
          "symbol": "circle"
         },
         "mode": "markers",
         "name": "Purina ONE",
         "orientation": "v",
         "showlegend": true,
         "type": "scatter",
         "x": [
          28796,
          14750,
          39523,
          18478,
          28784,
          7867,
          14204,
          20477,
          1,
          5798,
          9747
         ],
         "xaxis": "x",
         "y": [
          16496897.722157411,
          4593228.29969265,
          4358838.521979666,
          1441038.3896885,
          815573.9036187499,
          366375.878658,
          297245.03587229166,
          135918.576976,
          76174.35544799999,
          54624.038448,
          48947.786834
         ],
         "yaxis": "y"
        },
        {
         "customdata": [
          [
           "Friskies",
           "Purina Friskies Wet Cat Food Variety Pack, YUMbelievaBOX YUM-credible Surprises - (40) 5.5 oz. Pull-Top Cans"
          ],
          [
           "Friskies",
           "Purina Friskies Wet Cat Food Variety Pack, Oceans of Delight Flaked & Prime Filets - 5.5 Ounce (Pack of 40)"
          ],
          [
           "Friskies",
           "Purina Friskies Wet Cat Food Pate - (40) 5.5 oz. Cans"
          ],
          [
           "Purina",
           "Purina Friskies Wet Cat Food Variety Pack, Shreds - (40) 5.5 oz. Cans"
          ],
          [
           "Friskies",
           "Purina Friskies Wet Cat Food Variety Pack, Oceans of Delight Flaked & Prime Filets - 5.5 Ounce (Pack of 40)"
          ],
          [
           "Friskies",
           "Purina Friskies Gravy Wet Cat Food , Poultry Shreds - (32) 5.5 oz. Cans"
          ],
          [
           "Friskies",
           "Purina Friskies Gravy Wet Cat Food Variety Pack, TurChicken - (40) 5.5 oz. Cans"
          ],
          [
           "Friskies",
           "Purina Friskies Gravy Wet Cat Food , Poultry Shreds - (32) 5.5 oz. Cans"
          ],
          [
           "Friskies",
           "Purina Friskies Grain Free Wet Cat Food Lickable Cat Treats Variety Pack, Lil' Soups With Salmon, Tuna or Shrimp - (30) 1.2 oz. Cups"
          ],
          [
           "Friskies",
           "Purina Friskies Gravy Wet Cat Food Variety Pack, TurChicken - (40) 5.5 oz. Cans"
          ],
          [
           "Friskies",
           "Purina Friskies Dry Cat Food, Seafood Sensations - 6.3 lb. Bag"
          ],
          [
           "Purina",
           "Purina Friskies Wet Cat Food Variety Pack, Shreds - (40) 5.5 oz. Cans"
          ],
          [
           "Friskies",
           "Purina Friskies Gravy Wet Cat Food Variety Pack, TurChicken - (40) 5.5 oz. Cans"
          ],
          [
           "Purina",
           "Purina Friskies Wet Cat Food Variety Pack, Shreds - (40) 5.5 oz. Cans"
          ],
          [
           "Friskies",
           "Purina Friskies Grain Free Wet Cat Food Lickable Cat Treats Variety Pack, Lil' Soups With Salmon, Tuna or Shrimp - (30) 1.2 oz. Cups"
          ],
          [
           "Friskies",
           "Purina Friskies Indoor Wet Cat Food Variety Pack, YUMbelievaBOX YUM-stoppable Indoor Adventures - (40) 5.5 oz. Pull-Top Cans"
          ],
          [
           "Friskies",
           "Purina Friskies Gravy Wet Cat Food , Poultry Shreds - (32) 5.5 oz. Cans"
          ],
          [
           "Friskies",
           "Purina Friskies Gravy Wet Cat Food Variety Pack, TurChicken - (40) 5.5 oz. Cans"
          ],
          [
           "Friskies",
           "Purina Friskies Wet Cat Food Variety Pack, Oceans of Delight Flaked & Prime Filets - 5.5 Ounce (Pack of 40)"
          ],
          [
           "Friskies",
           "Purina Friskies Gravy Wet Cat Food Variety Pack, TurChicken - (40) 5.5 oz. Cans"
          ],
          [
           "Friskies",
           "Purina Friskies Gravy Wet Cat Food Variety Pack, TurChicken - (40) 5.5 oz. Cans"
          ],
          [
           "Friskies",
           "Purina Friskies Wet Cat Food Variety Pack, Oceans of Delight Flaked & Prime Filets - 5.5 Ounce (Pack of 40)"
          ],
          [
           "Friskies",
           "Purina Friskies Gravy Wet Cat Food Variety Pack, TurChicken - (40) 5.5 oz. Cans"
          ],
          [
           "Friskies",
           "Purina Friskies Indoor Wet Cat Food Variety Pack, YUMbelievaBOX YUM-stoppable Indoor Adventures - (40) 5.5 oz. Pull-Top Cans"
          ],
          [
           "Friskies",
           "Purina Friskies Indoor Wet Cat Food Variety Pack, YUMbelievaBOX YUM-stoppable Indoor Adventures - (40) 5.5 oz. Pull-Top Cans"
          ],
          [
           "Friskies",
           "Purina Friskies Wet Cat Food Pate - (40) 5.5 oz. Cans"
          ],
          [
           "Friskies",
           "Purina Friskies Grain Free Wet Cat Food Lickable Cat Treats Variety Pack, Lil' Soups With Salmon, Tuna or Shrimp - (30) 1.2 oz. Cups"
          ],
          [
           "Friskies",
           "Purina Friskies Wet Cat Food Variety Pack, YUMbelievaBOX YUM-credible Surprises - (40) 5.5 oz. Pull-Top Cans"
          ],
          [
           "Friskies",
           "Purina Friskies Grain Free Wet Cat Food Lickable Cat Treats Variety Pack, Lil' Soups With Salmon, Tuna or Shrimp - (30) 1.2 oz. Cups"
          ],
          [
           "Friskies",
           "Purina Friskies Gravy Wet Cat Food Variety Pack, TurChicken - (40) 5.5 oz. Cans"
          ],
          [
           "Friskies",
           "Purina Friskies Dry Cat Food, Seafood Sensations - (12) 16.2 oz. Boxes"
          ],
          [
           "Friskies",
           "Purina Friskies Gravy Wet Cat Food Variety Pack, Prime Filets & Shreds Turkey & Chicken Favorites - (40) 5.5 oz. Cans"
          ],
          [
           "Friskies",
           "Purina Friskies Gravy Wet Cat Food Variety Pack, TurChicken - (40) 5.5 oz. Cans"
          ],
          [
           "Friskies",
           "Purina Friskies Indoor Wet Cat Food Variety Pack, YUMbelievaBOX YUM-stoppable Indoor Adventures - (40) 5.5 oz. Pull-Top Cans"
          ],
          [
           "Friskies",
           "Purina Friskies Gravy Wet Cat Food Variety Pack, TurChicken - (40) 5.5 oz. Cans"
          ],
          [
           "Friskies",
           "Purina Friskies Wet Cat Food Variety Pack, YUMbelievaBOX YUM-Sational Treasures - (40) 5.5 Oz. Pull-Top Cans"
          ],
          [
           "Friskies",
           "Purina Friskies Gravy Wet Cat Food Variety Pack, TurChicken - (40) 5.5 oz. Cans"
          ],
          [
           "Friskies",
           "Purina Friskies Pate Wet Cat Food, Picky Pack Turkey & Giblets Dinner - (24) 5.5 oz. Cans"
          ],
          [
           "Friskies",
           "Purina Friskies Wet Cat Food Variety Pack, YUMbelievaBOX YUM-Sational Treasures - (40) 5.5 Oz. Pull-Top Cans"
          ],
          [
           "Friskies",
           "Purina Friskies Dry Cat Food, Seafood Sensations - 6.3 lb. Bag"
          ],
          [
           "Friskies",
           "Purina Friskies Gravy Wet Cat Food Variety Pack, YUMbelievaBOX YUM-azing Extra Gravy Chunky - (40) 5.5 oz. Pull-Top Cans"
          ],
          [
           "Friskies",
           "Purina Friskies Gravy Wet Cat Food Variety Pack, TurChicken - (40) 5.5 oz. Cans"
          ],
          [
           "Friskies",
           "Purina Friskies Pate Wet Cat Food, Picky Pack Turkey & Giblets Dinner - (24) 5.5 oz. Cans"
          ],
          [
           "Friskies",
           "Purina Friskies Wet Cat Food Variety Pack, YUMbelievaBOX YUM-credible Surprises - (40) 5.5 oz. Pull-Top Cans"
          ]
         ],
         "hovertemplate": "Short Name=Purina Fri<br>Number of Reviews=%{x}<br>Revenue ($)=%{y}<br>Brand=%{customdata[0]}<br>Name=%{customdata[1]}<extra></extra>",
         "legendgroup": "Purina Fri",
         "marker": {
          "color": "#00cc96",
          "symbol": "circle"
         },
         "mode": "markers",
         "name": "Purina Fri",
         "orientation": "v",
         "showlegend": true,
         "type": "scatter",
         "x": [
          1221,
          31378,
          27389,
          17127,
          17835,
          101223,
          7411,
          30430,
          4618,
          8331,
          2435,
          15934,
          65009,
          16581,
          980,
          31758,
          32067,
          85911,
          74508,
          17203,
          10425,
          24758,
          27523,
          1649,
          1208,
          25306,
          3868,
          3736,
          1523,
          12577,
          161,
          3506,
          17614,
          1205,
          10995,
          1392,
          23450,
          181,
          1453,
          109,
          1765,
          28515,
          178,
          4122
         ],
         "xaxis": "x",
         "y": [
          12979132.402431898,
          9365286.588409875,
          5570579.355375,
          3374470.4003774063,
          3160017.0035643335,
          2487745.5097954273,
          1677287.4786282917,
          1597712.0073839999,
          1541531.2945985,
          1283713.4891193334,
          1132952.473123499,
          977775.7150525001,
          807961.676883,
          789820.1609261667,
          710345.984358,
          669702.617447,
          346800.12270300003,
          226299.4166915,
          196860.6053,
          173829.54511036063,
          142386.373861,
          100627.942236,
          97628.011088,
          70271.38220875,
          61200.494079,
          53548.43974,
          45383.7955705,
          38535.1024555,
          27324.145,
          23174.552425,
          22407.80779112507,
          15647.641281366426,
          13603.707995499992,
          12824.021540249998,
          7098.731019000001,
          3985.3983200000002,
          3491.3288100000004,
          3001.244726,
          1587.7376669999999,
          992.3753320059682,
          725.6032190000001,
          689.2377660000001,
          263.75756,
          34.44066
         ],
         "yaxis": "y"
        },
        {
         "customdata": [
          [
           "Sheba",
           "SHEBA PERFECT PORTIONS Paté Adult Wet Cat Food Trays (24 Count, 48 Servings), Savory Chicken, Roasted Turkey, and Tender Beef Entrée, Easy Peel Twin-Pack Trays"
          ],
          [
           "Sheba",
           "SHEBA PERFECT PORTIONS Cuts in Gravy Adult Wet Cat Food Trays (24 Count (pack of 2), 48 Servings), Roasted Chicken, Gourmet Salmon and Tender Turkey Entrée, Easy Peel Twin-Pack Trays"
          ],
          [
           "Sheba Wet Food",
           "SHEBA PERFECT PORTIONS Paté Adult Wet Cat Food Trays (24 Count, 48 Servings), Savory Chicken and Roasted Turkey Entrée, Easy Peel Twin-Pack Trays"
          ],
          [
           "Sheba",
           "SHEBA PERFECT PORTIONS Cuts in Gravy Adult Wet Cat Food Trays (24 Count, 48 Servings), Gourmet Salmon, Sustainable Tuna, And Delicate Whitefish & Tuna Entrée, Easy Peel Twin-Pack"
          ],
          [
           "Sheba",
           "SHEBA PERFECT PORTIONS Cuts in Gravy Adult Wet Cat Food Trays (24 Count (pack of 2), 48 Servings), Roasted Chicken, Gourmet Salmon and Tender Turkey Entrée, Easy Peel Twin-Pack Trays"
          ],
          [
           "Sheba",
           "SHEBA PERFECT PORTIONS Cuts in Gravy Adult Wet Cat Food Trays (24 Count, 48 Servings), Gourmet Salmon, Sustainable Tuna, And Delicate Whitefish & Tuna Entrée, Easy Peel Twin-Pack"
          ],
          [
           "Sheba",
           "SHEBA PERFECT PORTIONS Paté Adult Wet Cat Food Trays (24 Count, 48 Servings), Savory Chicken, Roasted Turkey, and Tender Beef Entrée, Easy Peel Twin-Pack Trays"
          ],
          [
           "Sheba",
           "SHEBA PERFECT PORTIONS Cuts in Gravy Adult Wet Cat Food Trays (24 Count, 48 Servings), Gourmet Salmon, Sustainable Tuna, And Delicate Whitefish & Tuna Entrée, Easy Peel Twin-Pack"
          ],
          [
           "Sheba",
           "SHEBA PERFECT PORTIONS Cuts in Gravy Adult Wet Cat Food Trays, Roasted Chicken, Gourmet Salmon, and Sustainable Tuna Entrée, Easy Peel Twin-Pack - 18 Count (Pack of 2)"
          ],
          [
           "Sheba",
           "SHEBA PERFECT PORTIONS Cuts in Gravy Wet Cat Food Trays (24 Count, 48 Servings), Roasted Chicken Entrée, Easy Peel Twin-Pack Trays"
          ],
          [
           "Sheba",
           "SHEBA PERFECT PORTIONS Paté Adult Wet Cat Food Trays (24 Count, 48 Servings), Savory Chicken, Roasted Turkey, and Tender Beef Entrée, Easy Peel Twin-Pack Trays"
          ],
          [
           "Sheba",
           "SHEBA PERFECT PORTIONS Cuts in Gravy Wet Cat Food Trays (24 Count, 48 Servings), Mixed Grill Entrée, Easy Peel Twin-Pack Trays, 2.6 Ounce (Pack of 24)"
          ],
          [
           "Sheba",
           "SHEBA PERFECT PORTIONS Cuts in Gravy Wet Cat Food Trays (24 Count, 48 Servings), Mixed Grill Entrée, Easy Peel Twin-Pack Trays, 2.6 Ounce (Pack of 24)"
          ],
          [
           "Sheba",
           "SHEBA PERFECT PORTIONS Cuts in Gravy Wet Cat Food Trays (24 Count, 48 Servings), Gourmet Salmon & Seafood Entrée, Easy Peel Twin-Pack Trays"
          ]
         ],
         "hovertemplate": "Short Name=SHEBA PERF<br>Number of Reviews=%{x}<br>Revenue ($)=%{y}<br>Brand=%{customdata[0]}<br>Name=%{customdata[1]}<extra></extra>",
         "legendgroup": "SHEBA PERF",
         "marker": {
          "color": "#ab63fa",
          "symbol": "circle"
         },
         "mode": "markers",
         "name": "SHEBA PERF",
         "orientation": "v",
         "showlegend": true,
         "type": "scatter",
         "x": [
          62410,
          23377,
          63073,
          44758,
          17418,
          37436,
          13027,
          90925,
          2971,
          3218,
          14666,
          9836,
          652,
          349
         ],
         "xaxis": "x",
         "y": [
          11790318.604968794,
          8011898.668820358,
          7582000.876917575,
          5486370.282125468,
          344836.210841,
          267577.92619,
          201691.231266,
          100448.14329200001,
          97460.11832400001,
          32858.52196,
          17326.391946,
          3043.095994443282,
          750.15432,
          5.076
         ],
         "yaxis": "y"
        },
        {
         "customdata": [
          [
           "Iams",
           "IAMS PROACTIVE HEALTH Adult Indoor Weight Control & Hairball Care Dry Cat Food with Chicken & Turkey Cat Kibble, 7 lb. Bag"
          ],
          [
           "Iams",
           "IAMS PROACTIVE HEALTH Adult Healthy Dry Cat Food with Chicken Cat Kibble, 22 lb. Bag"
          ],
          [
           "Iams",
           "IAMS PROACTIVE HEALTH Adult Urinary Tract Healthy Dry Cat Food with Chicken Cat Kibble, 16 lb. Bag"
          ],
          [
           "Iams",
           "IAMS PROACTIVE HEALTH Adult Healthy Dry Cat Food with Salmon Cat Kibble, 16 lb. Bag"
          ],
          [
           "Iams",
           "IAMS PROACTIVE HEALTH Adult Urinary Tract Healthy Dry Cat Food with Chicken Cat Kibble, 16 lb. Bag"
          ],
          [
           "Iams",
           "IAMS PROACTIVE HEALTH Adult Healthy Dry Cat Food with Chicken Cat Kibble, 22 lb. Bag"
          ],
          [
           "Iams",
           "IAMS PROACTIVE HEALTH Adult Healthy Dry Cat Food with Salmon Cat Kibble, 16 lb. Bag"
          ]
         ],
         "hovertemplate": "Short Name=IAMS PROAC<br>Number of Reviews=%{x}<br>Revenue ($)=%{y}<br>Brand=%{customdata[0]}<br>Name=%{customdata[1]}<extra></extra>",
         "legendgroup": "IAMS PROAC",
         "marker": {
          "color": "#FFA15A",
          "symbol": "circle"
         },
         "mode": "markers",
         "name": "IAMS PROAC",
         "orientation": "v",
         "showlegend": true,
         "type": "scatter",
         "x": [
          36878,
          20139,
          11695,
          20139,
          10761,
          14723,
          14723
         ],
         "xaxis": "x",
         "y": [
          10218460.580630884,
          4462422.81695425,
          3762806.4374171966,
          3303754.6700389967,
          123785.34418612499,
          58671.077785999994,
          55675.558731
         ],
         "yaxis": "y"
        },
        {
         "customdata": [
          [
           "Hill'S Science Diet",
           "Hill's Science Diet Dry Cat Food, Adult, Sensitive Stomach & Skin"
          ],
          [
           "Hill'S Science Diet",
           "Hill's Science Diet Dry Cat Food, Adult, Perfect Weight for Weight Management, Chicken Recipe, 7 lb. Bag"
          ],
          [
           "Hill'S Science Diet",
           "Hill's Science Diet Dry Cat Food,Adult,Urinary & Hairball Control,Chicken Recipe,15.5 lb Bag with Wet Cat Food,Adult,Urinary & Hairball Control,Savory Chicken Recipe,2.9 oz Cans,24-pack"
          ],
          [
           "Hill'S Science Diet",
           "Hill's Science Diet Adult Indoor Cat Food, Chicken Recipe Dry Cat Food, 7 lb. Bag"
          ],
          [
           "Hill'S Science Diet",
           "Hill's Science Diet Dry Cat Food, Adult, Perfect Weight for Weight Management, Chicken Recipe, 7 lb. Bag"
          ],
          [
           "Hill'S Science Diet",
           "Hill's Science Diet Adult Indoor Cat Food, Chicken Recipe Dry Cat Food, 7 lb. Bag"
          ],
          [
           "Hill'S Science Diet",
           "Hill's Science Diet Dry Cat Food, Adult, Urinary & Hairball Control, Chicken Recipe, 15.5 lb. Bag"
          ],
          [
           "Hill'S Science Diet",
           "Hill's Science Diet Dry Cat Food, Adult, Sensitive Stomach & Skin, Chicken & Rice Recipe, 7 lb Bag"
          ],
          [
           "Hill'S Science Diet",
           "Hill's Science Diet Dry Cat Food, Adult, Sensitive Stomach & Skin, Chicken & Rice Recipe, 7 lb Bag"
          ],
          [
           "Hill'S Science Diet",
           "Hill's Science Diet Dry Cat Food, Adult, Sensitive Stomach & Skin, Chicken & Rice Recipe, 3.5 lb. Bag"
          ],
          [
           "Hill'S Science Diet",
           "Hill's Science Diet Dry Cat Food, Adult, Perfect Weight for Weight Management, Chicken Recipe, 7 lb. Bag"
          ],
          [
           "Hill'S Science Diet",
           "Hill's Science Diet Adult Indoor Cat Food, Chicken Recipe Dry Cat Food"
          ],
          [
           "Hill'S Science Diet",
           "Hill's Science Diet Adult Indoor Cat Food, Chicken Recipe Dry Cat Food"
          ],
          [
           "Hill'S Pet Nutrition",
           "Hill's Science Diet Dry Cat Food, Adult, Sensitive Stomach & Skin, Chicken & Rice Recipe, 7 lb Bag"
          ],
          [
           "Hill'S Science Diet",
           "Hill's Science Diet Dry Cat Food, Adult, Urinary & Hairball Control, Chicken Recipe, 15.5 lb. Bag"
          ],
          [
           "Hill'S Science Diet",
           "Hill's Science Diet Adult Indoor Cat Food, Chicken Recipe Dry Cat Food"
          ],
          [
           "Hill'S Pet Nutrition",
           "Hill's Science Diet Dry Cat Food, Adult, Sensitive Stomach & Skin, Chicken & Rice Recipe, 7 lb Bag"
          ],
          [
           "Hill'S Science Diet",
           "Hill's Science Diet Dry Cat Food, Adult, Urinary & Hairball Control, Chicken Recipe, 15.5 lb. Bag"
          ],
          [
           "Hill'S Pet Nutrition",
           "Hill's Science Diet Dry Cat Food, Adult, Sensitive Stomach & Skin, Chicken & Rice Recipe, 3.5 lb. Bag"
          ],
          [
           "Hill'S Pet Nutrition",
           "Hill's Science Diet Dry Cat Food, Adult, Sensitive Stomach & Skin"
          ],
          [
           "Hill'S Pet Nutrition",
           "Hill's Science Diet Dry Cat Food, Adult, Sensitive Stomach & Skin, Chicken & Rice Recipe, 7 lb Bag"
          ],
          [
           "Hill'S Pet Nutrition",
           "Hill's Science Diet Dry Cat Food, Adult, Sensitive Stomach & Skin, Chicken & Rice Recipe, 3.5 lb. Bag"
          ],
          [
           "Hill'S Science Diet",
           "Hill's Science Diet Dry Cat Food, Adult, Sensitive Stomach & Skin, Chicken & Rice Recipe, 3.5 lb. Bag"
          ],
          [
           "Hill'S Science Diet",
           "Hill's Science Diet Dry Cat Food, Adult, Sensitive Stomach & Skin, Chicken & Rice Recipe, 7 lb Bag"
          ],
          [
           "Hill'S Science Diet",
           "Hill's Science Diet Dry Cat Food, Adult, Sensitive Stomach & Skin, Chicken & Rice Recipe, 7 lb Bag"
          ],
          [
           "Hill'S Science Diet",
           "Hill's Science Diet Dry Cat Food, Adult, Urinary & Hairball Control, Chicken Recipe, 15.5 lb. Bag"
          ],
          [
           "Hill'S Science Diet",
           "Hill's Science Diet Dry Cat Food, Adult, Urinary & Hairball Control, Chicken Recipe, 15.5 lb. Bag"
          ],
          [
           "Hill'S Science Diet",
           "Hill's Science Diet Adult Indoor Cat Food, Chicken Recipe Dry Cat Food"
          ],
          [
           "Hill'S Science Diet",
           "Hill's Science Diet Adult Indoor Cat Food, Chicken Recipe Dry Cat Food"
          ],
          [
           "Hill'S Science Diet",
           "Hill's Science Diet Dry Cat Food, Adult, Sensitive Stomach & Skin, Chicken & Rice Recipe, 7 lb Bag"
          ],
          [
           "Hill'S Science Diet",
           "Hill's Science Diet Dry Cat Food, Adult, Sensitive Stomach & Skin, Chicken & Rice Recipe, 7 lb Bag"
          ],
          [
           "Hill'S Science Diet",
           "Hill's Science Diet Dry Cat Food, Adult, Urinary & Hairball Control, Chicken Recipe, 15.5 lb. Bag"
          ],
          [
           "Hill'S Science Diet",
           "Hill's Science Diet Adult Indoor Chicken Recipe Dry Cat Food, 15.5 lb. Bag"
          ],
          [
           "Hill'S Science Diet",
           "Hill's Science Diet Adult Indoor Cat Food, Chicken Recipe Dry Cat Food, 7 lb. Bag"
          ]
         ],
         "hovertemplate": "Short Name=Hill's Sci<br>Number of Reviews=%{x}<br>Revenue ($)=%{y}<br>Brand=%{customdata[0]}<br>Name=%{customdata[1]}<extra></extra>",
         "legendgroup": "Hill's Sci",
         "marker": {
          "color": "#19d3f3",
          "symbol": "circle"
         },
         "mode": "markers",
         "name": "Hill's Sci",
         "orientation": "v",
         "showlegend": true,
         "type": "scatter",
         "x": [
          30,
          11627,
          7742,
          13220,
          12111,
          13837,
          12693,
          12867,
          12661,
          3864,
          10582,
          13934,
          13922,
          12998,
          12141,
          13837,
          13170,
          12416,
          11871,
          12860,
          11320,
          11341,
          3293,
          12555,
          4440,
          11342,
          11453,
          12660,
          12629,
          8442,
          12378,
          11462,
          12668,
          12668
         ],
         "xaxis": "x",
         "y": [
          8618953.605551405,
          4448349.7152700005,
          3945430.3834565156,
          3402967.4274560693,
          2677923.291397,
          2514960.62817125,
          2488489.60560325,
          1136791.9477758845,
          1117686.9212862626,
          1106395.875391,
          734231.873008,
          583177.3069348033,
          576605.3233223184,
          479683.25383025,
          375881.4048332,
          305748.847692,
          279913.98857850005,
          254820.93155375,
          167778.61637653847,
          135830.64497516345,
          133768.30596025,
          128524.74289307692,
          128512.96519086929,
          111148.74415319231,
          84398.187321,
          61828.019648,
          42822.3830095,
          33870.390851,
          33691.607796,
          26322.17972376923,
          22352.540140000005,
          17922.322446000002,
          16112.476860000002,
          7412.33535
         ],
         "yaxis": "y"
        },
        {
         "customdata": [
          [
           "Meow Mix",
           "Meow Mix Original Choice Dry Cat Food, 22 Pound Bag"
          ],
          [
           "Meow Mix",
           "Meow Mix Original Choice Dry Cat Food, 16 Pound Bag"
          ]
         ],
         "hovertemplate": "Short Name=Meow Mix O<br>Number of Reviews=%{x}<br>Revenue ($)=%{y}<br>Brand=%{customdata[0]}<br>Name=%{customdata[1]}<extra></extra>",
         "legendgroup": "Meow Mix O",
         "marker": {
          "color": "#FF6692",
          "symbol": "circle"
         },
         "mode": "markers",
         "name": "Meow Mix O",
         "orientation": "v",
         "showlegend": true,
         "type": "scatter",
         "x": [
          42267,
          42267
         ],
         "xaxis": "x",
         "y": [
          8048555.926101333,
          103845.208052
         ],
         "yaxis": "y"
        },
        {
         "customdata": [
          [
           "Purina One",
           "PURINA ONE Natural, Low Fat, Weight Control, Indoor Dry Cat Food, +Plus Indoor Advantage - 16 lb. Bag"
          ],
          [
           "Purina One",
           "PURINA ONE Natural, Low Fat, Weight Control, Indoor Dry Cat Food, +Plus Indoor Advantage - 16 lb. Bag"
          ],
          [
           "Purina One",
           "PURINA ONE Natural, Low Fat, Weight Control, Indoor Dry Cat Food, +Plus Indoor Advantage - 16 lb. Bag"
          ]
         ],
         "hovertemplate": "Short Name=PURINA ONE<br>Number of Reviews=%{x}<br>Revenue ($)=%{y}<br>Brand=%{customdata[0]}<br>Name=%{customdata[1]}<extra></extra>",
         "legendgroup": "PURINA ONE",
         "marker": {
          "color": "#B6E880",
          "symbol": "circle"
         },
         "mode": "markers",
         "name": "PURINA ONE",
         "orientation": "v",
         "showlegend": true,
         "type": "scatter",
         "x": [
          6676,
          22828,
          8172
         ],
         "xaxis": "x",
         "y": [
          7420298.154929326,
          1735150.2316959999,
          66259.19455999999
         ],
         "yaxis": "y"
        },
        {
         "customdata": [
          [
           "Orijen",
           "ORIJEN GUARDIAN 8 Dry Cat Food, Grain Free Cat Food for Adult Cats, With Chicken, Salmon and Rabbit, 10lb"
          ],
          [
           "Orijen",
           "ORIJEN GUARDIAN 8 Dry Cat Food, Grain Free Cat Food for Adult Cats, With Chicken, Salmon and Rabbit, 10lb"
          ],
          [
           "Orijen",
           "ORIJEN GUARDIAN 8 Dry Cat Food, Grain Free Cat Food for Adult Cats, With Chicken, Salmon and Rabbit, 10lb"
          ],
          [
           "Orijen",
           "ORIJEN GUARDIAN 8 Dry Cat Food, Grain Free Cat Food for Adult Cats, With Chicken, Salmon and Rabbit, 10lb"
          ]
         ],
         "hovertemplate": "Short Name=ORIJEN GUA<br>Number of Reviews=%{x}<br>Revenue ($)=%{y}<br>Brand=%{customdata[0]}<br>Name=%{customdata[1]}<extra></extra>",
         "legendgroup": "ORIJEN GUA",
         "marker": {
          "color": "#FF97FF",
          "symbol": "circle"
         },
         "mode": "markers",
         "name": "ORIJEN GUA",
         "orientation": "v",
         "showlegend": true,
         "type": "scatter",
         "x": [
          5691,
          6524,
          6254,
          5288
         ],
         "xaxis": "x",
         "y": [
          6147031.022635125,
          282471.27980811655,
          228356.46897003334,
          156418.95288483333
         ],
         "yaxis": "y"
        },
        {
         "customdata": [
          [
           "Blue Buffalo",
           "Blue Buffalo Cat Food, Natural Chicken Recipe, Wilderness High Protein, Adult Dry Cat Food, 12 lb bag"
          ],
          [
           "Blue Buffalo",
           "Blue Buffalo Tastefuls Sensitive Stomach Natural Adult Dry Cat Food, Chicken 15lb bag"
          ],
          [
           "Blue Buffalo",
           "Blue Buffalo Wilderness High Protein, Natural Adult Dry Cat Food, Chicken 6-lb"
          ],
          [
           "Blue Buffalo",
           "Blue Buffalo Wilderness High Protein Grain Free, Natural Adult Pate Wet Cat Food, Chicken 5.5-oz cans (Pack of 24)"
          ],
          [
           "Blue Buffalo",
           "Blue Buffalo Tastefuls Natural Pate Wet Cat Food, Turkey & Chicken Entrée 5.5-oz cans (Pack of 24)"
          ],
          [
           "Blue Buffalo",
           "Blue Buffalo Wilderness High Protein Grain Free, Natural Kitten Pate Wet Cat Food Variety Pack, Chicken, Salmon, 3-oz Can, 24 Count"
          ],
          [
           "Blue Buffalo",
           "Blue Buffalo Cat Food, Natural Chicken Recipe, Wilderness High Protein, Adult Dry Cat Food, 12 lb bag"
          ],
          [
           "Blue Buffalo",
           "Blue Buffalo Wilderness High Protein, Natural Grain Free Kitten Food Bundle, Dry Cat Food and Wet Cat Food, Chicken (5-lb Dry Food + 3oz cans 24ct)"
          ],
          [
           "Blue Buffalo",
           "Blue Buffalo Tastefuls Natural Flaked Wet Cat Food, Chicken Entrée in Gravy 5.5-oz cans (Pack of 24)"
          ],
          [
           "Blue Buffalo",
           "Blue Buffalo Wilderness High Protein, Natural Adult Dry Cat Food, Chicken 6-lb"
          ],
          [
           "Blue Buffalo",
           "Blue Buffalo Tastefuls Natural Flaked Wet Cat Food Bundle, Flaked Chicken and Tuna 3-oz cans (48 Count- 24 of Each Flavor)"
          ],
          [
           "Blue Buffalo",
           "Blue Buffalo Wilderness High Protein Grain Free, Natural Adult Pate Wet Cat Food, Turkey 5.5-oz cans (Pack of 24)"
          ],
          [
           "Blue Buffalo",
           "Blue Buffalo Tastefuls Natural Pate Wet Cat Food, Turkey & Chicken Entrée 5.5-oz cans (Pack of 24)"
          ],
          [
           "Blue Buffalo",
           "Blue Buffalo Cat Food, Natural Chicken Recipe, Wilderness High Protein, Adult Dry Cat Food, 12 lb bag"
          ],
          [
           "Blue Buffalo",
           "Blue Buffalo Wilderness High Protein Grain Free, Natural Adult Pate Wet Cat Food, Chicken 5.5-oz cans (Pack of 24)"
          ],
          [
           "Blue Buffalo",
           "Blue Buffalo Wilderness High Protein Grain Free, Natural Adult Pate Wet Cat Food, Chicken 5.5-oz cans (Pack of 24)"
          ],
          [
           "Blue Buffalo",
           "Blue Buffalo Wilderness High Protein, Natural Adult Dry Cat Food, Chicken 6-lb"
          ],
          [
           "Blue Buffalo",
           "Blue Buffalo Wilderness High Protein, Natural Adult Dry Cat Food, Chicken 6-lb"
          ],
          [
           "Blue Buffalo",
           "Blue Buffalo Tastefuls Indoor Natural Adult Dry Cat Food, Chicken 15lb bag"
          ],
          [
           "Blue Buffalo",
           "Blue Buffalo Wilderness High Protein, Natural Adult Dry Cat Food, Chicken 6-lb"
          ],
          [
           "Blue Buffalo",
           "Blue Buffalo Tastefuls Indoor Natural Adult Dry Cat Food, Chicken 15lb bag"
          ],
          [
           "Blue Buffalo",
           "Blue Buffalo Tastefuls Natural Pate Wet Cat Food, Turkey & Chicken Entrée 5.5-oz cans (Pack of 24)"
          ],
          [
           "Blue Buffalo",
           "Blue Buffalo Cat Food, Natural Chicken Recipe, Wilderness High Protein, Adult Dry Cat Food, 12 lb bag"
          ],
          [
           "Blue Buffalo",
           "Blue Buffalo Wilderness High Protein, Natural Adult Dry Cat Food, Chicken 6-lb"
          ],
          [
           "Blue Buffalo",
           "Blue Buffalo Cat Food, Natural Chicken Recipe, Wilderness High Protein, Adult Dry Cat Food, 12 lb bag"
          ],
          [
           "Blue Buffalo",
           "Blue Buffalo Wilderness High Protein, Natural Adult Dry Cat Food, Duck 11-lb"
          ],
          [
           "Blue Buffalo",
           "Blue Buffalo Tastefuls Natural Flaked Wet Cat Food, Salmon Entrée in Gravy 3-oz cans (Pack of 24)"
          ],
          [
           "Blue Buffalo",
           "Blue Buffalo Wilderness High Protein, Natural Adult Dry Cat Food, Chicken 6-lb"
          ],
          [
           "Blue Buffalo",
           "Blue Buffalo Cat Food, Natural Chicken Recipe, Wilderness High Protein, Adult Dry Cat Food, 12 lb bag"
          ],
          [
           "Blue Buffalo",
           "Blue Buffalo Cat Food, Natural Chicken Recipe, Wilderness High Protein, Adult Dry Cat Food, 12 lb bag"
          ],
          [
           "Blue Buffalo",
           "Blue Buffalo Wilderness High Protein, Natural Grain Free Kitten Food Bundle, Dry Cat Food and Wet Cat Food, Chicken (5-lb Dry Food + 3oz cans 24ct)"
          ],
          [
           "Blue Buffalo",
           "Blue Buffalo Tastefuls Indoor Natural Adult Dry Cat Food, Chicken 15lb bag"
          ],
          [
           "Blue Buffalo",
           "Blue Buffalo Tastefuls Natural Flaked Wet Cat Food Bundle, Flaked Chicken and Tuna 3-oz cans (48 Count- 24 of Each Flavor)"
          ],
          [
           "Blue Buffalo",
           "Blue Buffalo Tastefuls Indoor Natural Adult Dry Cat Food, Chicken 15lb bag"
          ],
          [
           "Blue Buffalo",
           "Blue Buffalo Cat Food, Natural Chicken Recipe, Wilderness High Protein, Adult Dry Cat Food, 12 lb bag"
          ],
          [
           "Blue Buffalo",
           "Blue Buffalo Tastefuls Natural Flaked Wet Cat Food Bundle, Flaked Chicken and Tuna 3-oz cans (48 Count- 24 of Each Flavor)"
          ],
          [
           "Blue Buffalo",
           "Blue Buffalo Tastefuls Natural Flaked Wet Cat Food, Fish & Shrimp Entrée in Gravy 3-oz cans (Pack of 24)"
          ],
          [
           "Blue Buffalo",
           "Blue Buffalo Tastefuls Sensitive Stomach Natural Adult Dry Cat Food, Chicken 15lb bag"
          ],
          [
           "Blue Buffalo",
           "Blue Buffalo Tastefuls Natural Flaked Wet Cat Food, Salmon Entrée in Gravy 3-oz cans (Pack of 24)"
          ],
          [
           "Blue Buffalo",
           "Blue Buffalo Wilderness High Protein, Natural Adult Dry Cat Food, Chicken 6-lb"
          ],
          [
           "Blue Buffalo",
           "Blue Buffalo Tastefuls Natural Flaked Wet Cat Food Bundle, Flaked Chicken and Tuna 5.5-oz cans (48 Count- 24 of Each Flavor)"
          ],
          [
           "Blue Buffalo",
           "Blue Buffalo Tastefuls Natural Flaked Wet Cat Food, Chicken Entrée in Gravy 5.5-oz cans (Pack of 24)"
          ],
          [
           "Blue Buffalo",
           "Blue Buffalo Wilderness High Protein Grain Free, Natural Kitten Pate Wet Cat Food Variety Pack, Chicken, Salmon, 3-oz Can, 24 Count"
          ]
         ],
         "hovertemplate": "Short Name=Blue Buffa<br>Number of Reviews=%{x}<br>Revenue ($)=%{y}<br>Brand=%{customdata[0]}<br>Name=%{customdata[1]}<extra></extra>",
         "legendgroup": "Blue Buffa",
         "marker": {
          "color": "#FECB52",
          "symbol": "circle"
         },
         "mode": "markers",
         "name": "Blue Buffa",
         "orientation": "v",
         "showlegend": true,
         "type": "scatter",
         "x": [
          7131,
          21481,
          25984,
          4938,
          4503,
          8954,
          8779,
          1505,
          2275,
          9828,
          14723,
          17148,
          4743,
          17891,
          17147,
          17945,
          36095,
          855,
          33087,
          17436,
          13682,
          4273,
          16548,
          9589,
          7138,
          17494,
          10838,
          17494,
          8963,
          8913,
          8139,
          5227,
          8950,
          13650,
          17426,
          1961,
          333,
          10494,
          540,
          1708,
          1863,
          1863,
          8113
         ],
         "xaxis": "x",
         "y": [
          5217891.6966063995,
          5023172.355946284,
          4402311.778025945,
          2797640.344409146,
          2600061.507428845,
          2486861.9477012684,
          2122530.6223755,
          1830832.4565882501,
          1809531.3248970082,
          1455761.0373141665,
          1383072.5878793548,
          1247003.2363379726,
          992605.1174570001,
          986075.872445,
          979436.9395864999,
          886472.3964137381,
          427884.65187974996,
          422715.7362945,
          377454.98197674996,
          354979.138644,
          277184.88718200003,
          260175.63379975,
          253558.97991700002,
          216439.98926899998,
          139688.66861975,
          130175.471805,
          124989.3448835,
          119026.703924,
          117230.57451,
          107468.234496,
          93436.359645,
          86010.590084,
          76511.14328450001,
          74842.273844,
          70950.38643000001,
          57308.6115,
          52861.180232,
          17744.126819999998,
          17724.925746,
          15687.359796249999,
          12412.255486,
          7418.822509999999,
          6991.361980000001
         ],
         "yaxis": "y"
        },
        {
         "customdata": [
          [
           "Iris Usa, Inc.",
           "IRIS USA 50Lbs./69Qt. WeatherPro Airtight Pet Food Storage Container with Attachable Casters, For Dog Cat Bird and Other Pet Food Storage Bin, Keep Fresh, Translucent Body, Easy Mobility, Black"
          ],
          [
           "Iris Usa, Inc.",
           "IRIS USA 55qt/45lbs Premium Airtight Pet Food Storage Container, Smoke"
          ],
          [
           "Iris Usa, Inc.",
           "IRIS USA 50 Lbs / 65 Qt WeatherPro Airtight Pet Food Storage Container with Removable Casters, For Dog Cat Bird Keep Pests Out Translucent Body Easy Mobility, Clear/Gray"
          ],
          [
           "Iris Usa, Inc.",
           "IRIS USA 55qt/45lbs Premium Airtight Pet Food Storage Container, Smoke"
          ],
          [
           "Iris",
           "IRIS USA 50 Lbs / 65 Qt WeatherPro Airtight Pet Food Storage Container with Removable Casters, For Dog Cat Bird Keep Pests Out Translucent Body Easy Mobility, Clear/Gray"
          ],
          [
           "Iris Usa, Inc.",
           "IRIS USA 50Lbs./69Qt. WeatherPro Airtight Pet Food Storage Container with Attachable Casters, For Dog Cat Bird and Other Pet Food Storage Bin, Keep Fresh, Translucent Body, Easy Mobility, Black"
          ],
          [
           "Iris Usa, Inc.",
           "IRIS USA 55qt/45lbs Premium Airtight Pet Food Storage Container, Smoke"
          ],
          [
           "Iris Usa, Inc.",
           "IRIS USA 50 Lbs / 65 Qt WeatherPro Airtight Pet Food Storage Container with Removable Casters, For Dog Cat Bird Keep Pests Out Translucent Body Easy Mobility, Clear/Gray"
          ],
          [
           "Iris Usa, Inc.",
           "IRIS USA 55qt/45lbs Premium Airtight Pet Food Storage Container, Smoke"
          ],
          [
           "Iris",
           "IRIS USA 50 Lbs / 65 Qt WeatherPro Airtight Pet Food Storage Container with Removable Casters, For Dog Cat Bird Keep Pests Out Translucent Body Easy Mobility, Clear/Gray"
          ]
         ],
         "hovertemplate": "Short Name=IRIS USA 5<br>Number of Reviews=%{x}<br>Revenue ($)=%{y}<br>Brand=%{customdata[0]}<br>Name=%{customdata[1]}<extra></extra>",
         "legendgroup": "IRIS USA 5",
         "marker": {
          "color": "#636efa",
          "symbol": "circle"
         },
         "mode": "markers",
         "name": "IRIS USA 5",
         "orientation": "v",
         "showlegend": true,
         "type": "scatter",
         "x": [
          52751,
          7616,
          3595,
          50635,
          43543,
          52811,
          26814,
          38926,
          11094,
          1938
         ],
         "xaxis": "x",
         "y": [
          4146325.199427,
          2201854.34137025,
          1709042.6115508124,
          1141732.51838425,
          579738.1706625,
          209796.1765495,
          77473.32988,
          26402.2663115,
          6146.043598,
          1411.499008
         ],
         "yaxis": "y"
        },
        {
         "customdata": [
          [
           "Instinct",
           "Instinct Original Grain Free Recipe with Real Chicken Natural Dry Cat Food, 11 lb. Bag"
          ],
          [
           "Instinct",
           "Instinct Original Grain Free Real Salmon Recipe Natural Wet Canned Cat Food by Nature's Variety, 3 oz. Cans (Case of 24)"
          ],
          [
           "Instinct",
           "Instinct Original Grain Free Real Salmon Recipe Natural Wet Canned Cat Food by Nature's Variety, 3 oz. Cans (Case of 24)"
          ]
         ],
         "hovertemplate": "Short Name=Instinct O<br>Number of Reviews=%{x}<br>Revenue ($)=%{y}<br>Brand=%{customdata[0]}<br>Name=%{customdata[1]}<extra></extra>",
         "legendgroup": "Instinct O",
         "marker": {
          "color": "#EF553B",
          "symbol": "circle"
         },
         "mode": "markers",
         "name": "Instinct O",
         "orientation": "v",
         "showlegend": true,
         "type": "scatter",
         "x": [
          5939,
          4568,
          4498
         ],
         "xaxis": "x",
         "y": [
          4106847.607139555,
          3454965.55284022,
          304235.4262657071
         ],
         "yaxis": "y"
        },
        {
         "customdata": [
          [
           "Iams",
           "Iams Proactive Health Healthy Kitten Dry Cat Food and Grain Free Paté Wet Cat Food, Chicken Recipes"
          ],
          [
           "Iams",
           "Iams Proactive Health Healthy Adult Dry Cat Food and Grain Free Paté Wet Cat Food, Chicken Recipes"
          ]
         ],
         "hovertemplate": "Short Name=Iams Proac<br>Number of Reviews=%{x}<br>Revenue ($)=%{y}<br>Brand=%{customdata[0]}<br>Name=%{customdata[1]}<extra></extra>",
         "legendgroup": "Iams Proac",
         "marker": {
          "color": "#00cc96",
          "symbol": "circle"
         },
         "mode": "markers",
         "name": "Iams Proac",
         "orientation": "v",
         "showlegend": true,
         "type": "scatter",
         "x": [
          17125,
          14722
         ],
         "xaxis": "x",
         "y": [
          4077930.3516500467,
          98084.272344
         ],
         "yaxis": "y"
        },
        {
         "customdata": [
          [
           "Purina Pro Plan",
           "Purina Pro Plan Sensitive Skin and Stomach Cat Food, Lamb and Rice Formula - 22 lb. Bag"
          ],
          [
           "Purina Pro Plan",
           "Purina Pro Plan Urinary Tract - (24) 3 oz. Pull-Top Cans"
          ],
          [
           "Purina Pro Plan",
           "Purina Pro Plan Urinary Tract Health Chicken Entree in Gravy Cat Food - (24) 3 oz. Pull-Top Cans"
          ],
          [
           "Purina Pro Plan",
           "Purina Pro Plan High Protein Wet Kitten Food Variety Pack, DEVELOPMENT Kitten Favorites - (24) 3 oz. Cans"
          ],
          [
           "Purina Pro Plan",
           "Purina Pro Plan Complete Essentials High Protein Cat Food Wet Turkey and Giblets Entree - 5.5 oz. Can"
          ],
          [
           "Purina Pro Plan",
           "Purina Pro Plan Allergen Reducing, High Protein Cat Food, LIVECLEAR Salmon and Rice Formula - 16 lb. Bag"
          ],
          [
           "Purina Pro Plan",
           "Purina Pro Plan Allergen Reducing, High Protein Cat Food, LIVECLEAR Chicken and Rice Formula - 7 lb. Bag"
          ],
          [
           "Purina Pro Plan",
           "Purina Pro Plan High Protein Cat Food Gravy, White Meat Chicken and Vegetable Entree - (24) 3 oz. Pull-Top Cans"
          ],
          [
           "Purina Pro Plan",
           "Purina Pro Plan Allergen Reducing, High Protein Cat Food, LIVECLEAR Chicken and Rice Formula - 16 lb. Bag"
          ],
          [
           "Purina Pro Plan",
           "Purina Pro Plan Allergen Reducing, High Protein Cat Food, LIVECLEAR Chicken and Rice Formula - 16 lb. Bag"
          ],
          [
           "Purina Pro Plan",
           "Purina Pro Plan Sensitive Skin and Stomach Cat Food Wet Pate, Sensitive Skin and Stomach Entree - (24) 3 oz. Pull-Top Cans."
          ],
          [
           "Purina Pro Plan",
           "Purina Pro Plan Allergen Reducing, High Protein Cat Food, LIVECLEAR Chicken and Rice Formula - 16 lb. Bag"
          ],
          [
           "Purina Pro Plan",
           "Purina Pro Plan Urinary Tract Health Chicken Entree in Gravy Cat Food - (24) 3 oz. Pull-Top Cans"
          ],
          [
           "Purina Pro Plan",
           "Purina Pro Plan Complete Essentials High Protein Cat Food Wet Turkey and Giblets Entree - 5.5 oz. Can"
          ],
          [
           "Purina Pro Plan",
           "Purina Pro Plan Allergen Reducing, High Protein Cat Food, LIVECLEAR Salmon and Rice Formula - 16 lb. Bag"
          ],
          [
           "Purina Pro Plan",
           "Purina Pro Plan Urinary Tract - (24) 3 oz. Pull-Top Cans"
          ],
          [
           "Purina Pro Plan",
           "Purina Pro Plan Complete Essentials High Protein Cat Food Wet Turkey and Giblets Entree - 5.5 oz. Can"
          ],
          [
           "Purina Pro Plan",
           "Purina Pro Plan Allergen Reducing, High Protein Cat Food, LIVECLEAR Salmon and Rice Formula - 16 lb. Bag"
          ],
          [
           "Purina Pro Plan",
           "Purina Pro Plan High Protein Cat Food Gravy, White Meat Chicken and Vegetable Entree - (24) 3 oz. Pull-Top Cans"
          ],
          [
           "Purina Pro Plan",
           "Purina Pro Plan High Protein Cat Food Gravy, White Meat Chicken and Vegetable Entree - (24) 3 oz. Pull-Top Cans"
          ],
          [
           "Purina Pro Plan",
           "Purina Pro Plan Grain Free Pate Wet Kitten Food, Chicken Entree - 3 oz. Pull-Top Can"
          ],
          [
           "Purina Pro Plan",
           "Purina Pro Plan Complete Essentials - (24) 5.5 oz. Pull-Top Cans"
          ],
          [
           "Purina Pro Plan",
           "Purina Pro Plan Urinary Tract Cat Food, Urinary Tract Health Wet Cat Food Variety Pack Entrees - (24) 3 oz. Cans"
          ],
          [
           "Purina Pro Plan",
           "Purina Pro Plan Urinary Tract - (24) 3 oz. Pull-Top Cans"
          ],
          [
           "Purina Pro Plan",
           "Purina Pro Plan Urinary Tract - (24) 3 oz. Pull-Top Cans"
          ],
          [
           "Purina Pro Plan",
           "Purina Pro Plan Urinary Cat Food, Wet Cat Food Variety Pack, Urinary Tract - (48) 3 oz. Cans"
          ],
          [
           "Purina Pro Plan",
           "Purina Pro Plan Urinary Tract - (24) 3 oz. Cans"
          ],
          [
           "Purina Pro Plan",
           "Purina Pro Plan Urinary Tract - (24) 3 oz. Pull-Top Cans"
          ],
          [
           "Purina Pro Plan",
           "Purina Pro Plan Urinary Tract Cat Food, Urinary Tract Health Wet Cat Food Variety Pack Entrees - (24) 3 oz. Cans"
          ],
          [
           "Purina Pro Plan",
           "Purina Pro Plan Complete Essentials High Protein Cat Food Wet Turkey and Giblets Entree - 5.5 oz. Can"
          ],
          [
           "Purina Pro Plan",
           "Purina Pro Plan High Protein Wet Kitten Food Variety Pack, DEVELOPMENT Kitten Favorites - (2 Packs of 12) 3 oz. Cans"
          ],
          [
           "Purina Pro Plan",
           "Purina Pro Plan Grain Free Pate Wet Kitten Food, Chicken Entree - 3 oz. Pull-Top Can"
          ],
          [
           "Purina Pro Plan",
           "Purina Pro Plan Urinary Tract Cat Food, Urinary Tract Health Wet Cat Food Variety Pack Entrees - (24) 3 oz. Cans"
          ],
          [
           "Purina Pro Plan",
           "Purina Pro Plan Sensitive Skin and Stomach Cat Food, Lamb and Rice Formula - 16 lb. Bag"
          ],
          [
           "Purina Pro Plan",
           "Purina Pro Plan Urinary Tract Cat Food, Wet Cat Food Variety Pack, Urinary Tract Health Entrees - (36) 3 oz. Cans"
          ],
          [
           "Purina Pro Plan",
           "Purina Pro Plan High Protein Cat Food Gravy, White Meat Chicken and Vegetable Entree - (24) 3 oz. Pull-Top Cans"
          ],
          [
           "Purina Pro Plan",
           "Purina Pro Plan Grain Free, Pate, High Protein Wet Kitten Food, DEVELOPMENT Entree - (24) 3 oz. Pull-Top Cans"
          ],
          [
           "Purina Pro Plan",
           "Purina Pro Plan Grain Free, Pate, High Protein Wet Kitten Food, DEVELOPMENT Entree - (24) 3 oz. Pull-Top Cans"
          ],
          [
           "Purina Pro Plan",
           "Purina Pro Plan Urinary Tract Health Chicken Entree in Gravy Cat Food - (24) 3 oz. Pull-Top Cans"
          ],
          [
           "Purina Pro Plan",
           "Purina Pro Plan Urinary Tract - (24) 3 oz. Cans"
          ],
          [
           "Purina Pro Plan",
           "Purina Pro Plan Complete Essentials - (24) 5.5 oz. Pull-Top Cans"
          ],
          [
           "Purina Pro Plan",
           "Purina Pro Plan High Protein Cat Food Gravy, White Meat Chicken and Vegetable Entree - (24) 3 oz. Pull-Top Cans"
          ],
          [
           "Purina Pro Plan",
           "Purina Pro Plan High Protein Cat Food Gravy, White Meat Chicken and Vegetable Entree - (24) 3 oz. Pull-Top Cans"
          ],
          [
           "Purina Pro Plan",
           "Purina Pro Plan Urinary Tract - (2 Packs of 12) 3 oz. Cans"
          ],
          [
           "Purina Pro Plan",
           "Purina Pro Plan Urinary Cat Food, Wet Cat Food Variety Pack, Urinary Tract - (48) 3 oz. Cans"
          ],
          [
           "Purina Pro Plan",
           "Purina Pro Plan Complete Essentials High Protein Cat Food Wet Turkey and Giblets Entree - 5.5 oz. Can"
          ],
          [
           "Purina Pro Plan",
           "Purina Pro Plan Urinary Tract Cat Food, Wet Cat Food Variety Pack, Urinary Tract Health Entrees - (36) 3 oz. Cans"
          ],
          [
           "Purina Pro Plan",
           "Purina Pro Plan Urinary Tract Cat Food, Urinary Tract Health Wet Cat Food Variety Pack Entrees - (24) 3 oz. Cans"
          ],
          [
           "Purina Pro Plan",
           "Purina Pro Plan Complete Essentials High Protein Cat Food Wet Turkey and Giblets Entree - 5.5 oz. Can"
          ],
          [
           "Purina Pro Plan",
           "Purina Pro Plan Grain Free, Pate, High Protein Wet Kitten Food, DEVELOPMENT Entree - (24) 3 oz. Pull-Top Cans"
          ],
          [
           "Purina Pro Plan",
           "Purina Pro Plan Sensitive Skin and Stomach Cat Food Wet Pate, Sensitive Skin and Stomach Entree - (24) 3 oz. Pull-Top Cans."
          ],
          [
           "Purina Pro Plan",
           "Purina Pro Plan High Protein Wet Kitten Food Variety Pack, DEVELOPMENT Kitten Favorites - (2 Packs of 12) 3 oz. Cans"
          ],
          [
           "Purina Pro Plan",
           "Purina Pro Plan Complete Essentials - (24) 5.5 oz. Pull-Top Cans"
          ]
         ],
         "hovertemplate": "Short Name=Purina Pro<br>Number of Reviews=%{x}<br>Revenue ($)=%{y}<br>Brand=%{customdata[0]}<br>Name=%{customdata[1]}<extra></extra>",
         "legendgroup": "Purina Pro",
         "marker": {
          "color": "#ab63fa",
          "symbol": "circle"
         },
         "mode": "markers",
         "name": "Purina Pro",
         "orientation": "v",
         "showlegend": true,
         "type": "scatter",
         "x": [
          1438,
          3988,
          7929,
          228,
          540,
          3343,
          2070,
          632,
          4583,
          2070,
          2647,
          2014,
          4465,
          5373,
          1489,
          2093,
          9963,
          527,
          3228,
          7234,
          8209,
          4957,
          1362,
          4191,
          803,
          794,
          668,
          3984,
          1341,
          202,
          6192,
          430,
          5439,
          3167,
          544,
          214,
          212,
          215,
          3976,
          1942,
          343,
          245,
          7611,
          445,
          156,
          1332,
          537,
          1848,
          531,
          215,
          3368,
          1176,
          2389
         ],
         "xaxis": "x",
         "y": [
          3853044.998820146,
          3767898.0123691466,
          3598047.2047964167,
          2580250.1703895833,
          2560233.8256083042,
          2513340.1463099997,
          884697.7987668333,
          839258.6025258406,
          822769.05494725,
          822116.3272565,
          794499.7596600001,
          750471.78060075,
          735844.3184252168,
          679296.048864,
          306665.8584805,
          241487.3821835,
          232440.011677,
          225911.16264886488,
          225715.29254400003,
          224935.32039510697,
          182683.55965550002,
          174249.4202975,
          146513.84001800002,
          127886.45378400001,
          125368.28310700001,
          120850.90084725001,
          116532.283326,
          104982.687408,
          102468.69050425,
          82176.910992,
          77004.04601250001,
          76184.53003200001,
          72065.93789175,
          66549.87432,
          59295.770087,
          56470.937424,
          56163.93715500001,
          52588.42219525,
          50359.678846,
          40631.997879,
          29145.836398000003,
          27947.988480000004,
          27322.96595296154,
          25304.377866,
          23382.466490000003,
          17640.458092999997,
          17185.110045,
          13456.5674555,
          6435.020592000001,
          5638.37592,
          5049.189432,
          5021.41874,
          2157.4919040000004
         ],
         "yaxis": "y"
        },
        {
         "customdata": [
          [
           "Hoki Found",
           "Hoki Found XX-Large Silicone Pet Food Mats Tray - Non Slip Pet Dog Cat Bowl Mats Placemat - Dog Pet Cat Feeding Mat - Waterproof Dog Cat Food Mats -Pet Water Mats for Carpet -Cream Brown"
          ]
         ],
         "hovertemplate": "Short Name=Hoki Found<br>Number of Reviews=%{x}<br>Revenue ($)=%{y}<br>Brand=%{customdata[0]}<br>Name=%{customdata[1]}<extra></extra>",
         "legendgroup": "Hoki Found",
         "marker": {
          "color": "#FFA15A",
          "symbol": "circle"
         },
         "mode": "markers",
         "name": "Hoki Found",
         "orientation": "v",
         "showlegend": true,
         "type": "scatter",
         "x": [
          25007
         ],
         "xaxis": "x",
         "y": [
          3712204.9152255184
         ],
         "yaxis": "y"
        },
        {
         "customdata": [
          [
           "Royal Canin",
           "Royal Canin Indoor Adult Dry Cat Food, 15 lb bag"
          ],
          [
           "Royal Canin",
           "Royal Canin Indoor Adult Dry Cat Food, 15 lb bag"
          ]
         ],
         "hovertemplate": "Short Name=Royal Cani<br>Number of Reviews=%{x}<br>Revenue ($)=%{y}<br>Brand=%{customdata[0]}<br>Name=%{customdata[1]}<extra></extra>",
         "legendgroup": "Royal Cani",
         "marker": {
          "color": "#19d3f3",
          "symbol": "circle"
         },
         "mode": "markers",
         "name": "Royal Cani",
         "orientation": "v",
         "showlegend": true,
         "type": "scatter",
         "x": [
          5418,
          4727
         ],
         "xaxis": "x",
         "y": [
          3474449.647098,
          16278.543814
         ],
         "yaxis": "y"
        },
        {
         "customdata": [
          [
           "Rachael Ray Nutrish",
           "Rachael Ray Nutrish Indoor Complete Premium Natural Dry Cat Food, Chicken with Lentils & Salmon Recipe, 14 Pounds (Packaging May Vary)"
          ],
          [
           "Rachael Ray Nutrish",
           "Rachael Ray Nutrish Inner Health Premium Natural Dry Cat Food, Turkey with Chickpeas & Salmon Recipe, 14 Pounds"
          ],
          [
           "Rachael Ray Nutrish",
           "Rachael Ray Nutrish Inner Health Premium Natural Dry Cat Food, Turkey with Chickpeas & Salmon Recipe, 14 Pounds"
          ],
          [
           "Rachael Ray Nutrish",
           "Rachael Ray Nutrish Longevity Premium Natural Dry Cat Food, Chicken with Chickpeas & Salmon Recipe, 14 Pounds (Packaging May Vary)"
          ]
         ],
         "hovertemplate": "Short Name=Rachael Ra<br>Number of Reviews=%{x}<br>Revenue ($)=%{y}<br>Brand=%{customdata[0]}<br>Name=%{customdata[1]}<extra></extra>",
         "legendgroup": "Rachael Ra",
         "marker": {
          "color": "#FF6692",
          "symbol": "circle"
         },
         "mode": "markers",
         "name": "Rachael Ra",
         "orientation": "v",
         "showlegend": true,
         "type": "scatter",
         "x": [
          15200,
          22673,
          4925,
          1855
         ],
         "xaxis": "x",
         "y": [
          3461223.4944418543,
          671188.924392,
          146344.537916,
          76823.418506
         ],
         "yaxis": "y"
        },
        {
         "customdata": [
          [
           "Reopet",
           "Reopet Silicone Dog Cat Bowl Mat Non-Stick Food Pad Water Cushion Waterproof - Multiple Colors, Sizes & Purposes"
          ],
          [
           "Reopet",
           "Reopet Silicone Dog Cat Bowl Mat Non-Stick Food Pad Water Cushion Waterproof - Multiple Colors, Sizes & Purposes"
          ],
          [
           "Reopet",
           "Reopet Silicone Dog Cat Bowl Mat Non-Stick Food Pad Water Cushion Waterproof - Multiple Colors, Sizes & Purposes"
          ],
          [
           "Reopet",
           "Reopet Silicone Dog Cat Bowl Mat Non-Stick Food Pad Water Cushion Waterproof - Multiple Colors, Sizes & Purposes"
          ],
          [
           "Reopet",
           "Reopet Silicone Dog Cat Bowl Mat Non-Stick Food Pad Water Cushion Waterproof - Multiple Colors, Sizes & Purposes"
          ],
          [
           "Reopet",
           "Reopet Silicone Dog Cat Bowl Mat Non-Stick Food Pad Water Cushion Waterproof - Multiple Colors, Sizes & Purposes"
          ],
          [
           "Reopet",
           "Reopet Silicone Dog Cat Bowl Mat Non-Stick Food Pad Water Cushion Waterproof - Multiple Colors, Sizes & Purposes"
          ],
          [
           "Reopet",
           "Reopet Silicone Dog Cat Bowl Mat Non-Stick Food Pad Water Cushion Waterproof - Multiple Colors, Sizes & Purposes"
          ],
          [
           "Reopet",
           "Reopet Silicone Dog Cat Bowl Mat Non-Stick Food Pad Water Cushion Waterproof - Multiple Colors, Sizes & Purposes"
          ],
          [
           "Reopet",
           "Reopet Silicone Dog Cat Bowl Mat Non-Stick Food Pad Water Cushion Waterproof - Multiple Colors, Sizes & Purposes"
          ],
          [
           "Reopet",
           "Reopet Silicone Dog Cat Bowl Mat Non-Stick Food Pad Water Cushion Waterproof - Multiple Colors, Sizes & Purposes"
          ],
          [
           "Reopet",
           "Reopet Silicone Dog Cat Bowl Mat Non-Stick Food Pad Water Cushion Waterproof - Multiple Colors, Sizes & Purposes"
          ]
         ],
         "hovertemplate": "Short Name=Reopet Sil<br>Number of Reviews=%{x}<br>Revenue ($)=%{y}<br>Brand=%{customdata[0]}<br>Name=%{customdata[1]}<extra></extra>",
         "legendgroup": "Reopet Sil",
         "marker": {
          "color": "#B6E880",
          "symbol": "circle"
         },
         "mode": "markers",
         "name": "Reopet Sil",
         "orientation": "v",
         "showlegend": true,
         "type": "scatter",
         "x": [
          38227,
          38181,
          38122,
          33233,
          34675,
          38620,
          33730,
          37969,
          38122,
          37970,
          37422,
          37969
         ],
         "xaxis": "x",
         "y": [
          3430459.4993786104,
          2603940.110419255,
          2174640.352085,
          973299.7086432916,
          739892.0373203182,
          390843.7545568817,
          375281.0606578409,
          275564.67061875,
          271691.4592009322,
          39839.40452321428,
          9728.244106,
          7953.970995
         ],
         "yaxis": "y"
        },
        {
         "customdata": [
          [
           "Wellness",
           "Wellness Complete Health Grain-Free Wet Canned Cat Food, Natural Ingredients, Made with Real Meat, All Breeds, Smooth Pate, Beef & Chicken, 3 Ounce (Pack of 24)"
          ],
          [
           "Wellness",
           "Wellness Complete Health Grain-Free Wet Canned Cat Food, Natural Ingredients, Made with Real Meat, All Breeds, Smooth Pate, Beef & Chicken, 3 Ounce (Pack of 24)"
          ],
          [
           "Wellness",
           "Wellness Complete Health Grain-Free Wet Canned Cat Food, Natural Ingredients, Made with Real Meat, All Breeds, Smooth Pate, Beef & Chicken, 3 Ounce (Pack of 24)"
          ],
          [
           "Wellness",
           "Wellness Complete Health Grain-Free Wet Canned Cat Food, Natural Ingredients, Made with Real Meat, All Breeds, Smooth Pate, Beef & Chicken, 3 Ounce (Pack of 24)"
          ],
          [
           "Wellness",
           "Wellness Complete Health Grain-Free Wet Canned Cat Food, Natural Ingredients, Made with Real Meat, All Breeds, Smooth Pate (Beef & Salmon, 12.5-Ounce Can, Pack of 12)"
          ],
          [
           "Wellness",
           "Wellness Complete Health Grain-Free Wet Canned Cat Food, Natural Ingredients, Made with Real Meat, All Breeds, Smooth Pate (Beef & Salmon, 12.5-Ounce Can, Pack of 12)"
          ],
          [
           "Wellness",
           "Wellness Complete Health Grain-Free Wet Canned Cat Food, Natural Ingredients, Made with Real Meat, All Breeds, Smooth Pate (Chicken & Herring, 12.5-Ounce Can, Pack of 12)"
          ],
          [
           "Wellness",
           "Wellness Complete Health Grain-Free Wet Canned Cat Food, Natural Ingredients, Made with Real Meat, All Breeds, Smooth Pate, Beef & Chicken, 3 Ounce (Pack of 24)"
          ],
          [
           "Wellness",
           "Wellness Complete Health Grain-Free Wet Canned Cat Food, Natural Ingredients, Made with Real Meat, All Breeds, Smooth Pate (Beef & Salmon, 12.5-Ounce Can, Pack of 12)"
          ],
          [
           "Wellness",
           "Wellness Complete Health Grain-Free Wet Canned Cat Food, Natural Ingredients, Made with Real Meat, All Breeds, Smooth Pate, Beef & Chicken, 3 Ounce (Pack of 24)"
          ],
          [
           "Wellness",
           "Wellness Complete Health Grain-Free Wet Canned Cat Food, Natural Ingredients, Made with Real Meat, All Breeds, Smooth Pate (Chicken & Herring, 12.5-Ounce Can, Pack of 12)"
          ],
          [
           "Wellness",
           "Wellness Complete Health Grain-Free Wet Canned Cat Food, Natural Ingredients, Made with Real Meat, All Breeds, Smooth Pate, Beef & Chicken, 3 Ounce (Pack of 24)"
          ]
         ],
         "hovertemplate": "Short Name=Wellness C<br>Number of Reviews=%{x}<br>Revenue ($)=%{y}<br>Brand=%{customdata[0]}<br>Name=%{customdata[1]}<extra></extra>",
         "legendgroup": "Wellness C",
         "marker": {
          "color": "#FF97FF",
          "symbol": "circle"
         },
         "mode": "markers",
         "name": "Wellness C",
         "orientation": "v",
         "showlegend": true,
         "type": "scatter",
         "x": [
          8284,
          5343,
          5335,
          55,
          3915,
          2919,
          1578,
          7519,
          2668,
          7503,
          389,
          208
         ],
         "xaxis": "x",
         "y": [
          3260161.2524310835,
          2056820.8270405834,
          943273.3205850001,
          856039.337985624,
          702835.3553005,
          379162.79924230784,
          305790.46624825,
          244816.68577799998,
          134691.6629035,
          84161.829308,
          78695.160617,
          17652.196562
         ],
         "yaxis": "y"
        },
        {
         "customdata": [
          [
           "Simplehuman",
           "simplehuman 25 Liter, 27 lb / 12.2 kg Medium Pet Food Storage Container for Dog Food, Cat Food, and Bird Feed, Brushed Stainless Steel"
          ],
          [
           "Simplehuman",
           "simplehuman 30 Liter, 32 lb / 14.5 kg Large Pet Food Storage Container for Dog Food, Cat Food, and Bird Feed, Brushed Stainless Steel"
          ],
          [
           "Simplehuman",
           "simplehuman 25 Liter, 27 lb / 12.2 kg Medium Pet Food Storage Container for Dog Food, Cat Food, and Bird Feed, Brushed Stainless Steel"
          ],
          [
           "Simplehuman",
           "simplehuman 35 Liter, 40 lb / 18.1 kg X-Large Pet Food Storage Container for Dog Food, Cat Food, and Bird Feed, Brushed Stainless Steel"
          ],
          [
           "Simplehuman",
           "simplehuman 25 Liter, 27 lb / 12.2 kg Medium Pet Food Storage Container for Dog Food, Cat Food, and Bird Feed, Brushed Stainless Steel"
          ],
          [
           "Simplehuman",
           "simplehuman 30 Liter, 32 lb / 14.5 kg Large Pet Food Storage Container for Dog Food, Cat Food, and Bird Feed, Brushed Stainless Steel"
          ],
          [
           "Simplehuman",
           "simplehuman 25 Liter, 27 lb / 12.2 kg Medium Pet Food Storage Container for Dog Food, Cat Food, and Bird Feed, Brushed Stainless Steel"
          ]
         ],
         "hovertemplate": "Short Name=simplehuma<br>Number of Reviews=%{x}<br>Revenue ($)=%{y}<br>Brand=%{customdata[0]}<br>Name=%{customdata[1]}<extra></extra>",
         "legendgroup": "simplehuma",
         "marker": {
          "color": "#FECB52",
          "symbol": "circle"
         },
         "mode": "markers",
         "name": "simplehuma",
         "orientation": "v",
         "showlegend": true,
         "type": "scatter",
         "x": [
          911,
          6,
          1782,
          3054,
          1772,
          1721,
          1784
         ],
         "xaxis": "x",
         "y": [
          3203168.3650137982,
          1094089.9773385,
          213697.6433565,
          39804.306698,
          20363.496438,
          20138.569428,
          13734.128474999998
         ],
         "yaxis": "y"
        },
        {
         "customdata": [
          [
           "Petlibro",
           "PETLIBRO Automatic Cat Feeder, Automatic Cat Food Dispenser with Freshness Preservation, Timed Cat Feeders for Dry Food, Up to 50 Portions 6 Meals Per Day, Granary Pet Feeder for Cats/Dogs"
          ],
          [
           "Petlibro",
           "PETLIBRO Automatic Dog Feeder, 6L Dog Food Dispenser with Timer Interactive Voice Recorder, Auto Dog Feeder with Desiccant Bag 1-4 Meals Dry Food"
          ],
          [
           "Petlibro",
           "PETLIBRO Automatic Cat Food Dispenser, Stainless Steel, 2L Capacity, 6 Meals/Day, No Overeating, Low Battery Indicator, Easy to Clean, Dishwasher Safe"
          ],
          [
           "Petlibro",
           "PETLIBRO Automatic Cat Feeder, Automatic Cat Food Dispenser with Timer Interactive Voice Recorder, Auto Cat Feeder with 1-4 Meals Control Dry Food"
          ],
          [
           "Petlibro",
           "PETLIBRO Automatic Cat Feeder, Automatic Cat Food Dispenser with Freshness Preservation, Timed Cat Feeders for Dry Food, Up to 50 Portions 6 Meals Per Day, Granary Pet Feeder for Cats/Dogs"
          ],
          [
           "Petlibro",
           "PETLIBRO Automatic Cat Feeder, Automatic Cat Food Dispenser with Freshness Preservation, Timed Cat Feeders for Dry Food, Up to 50 Portions 6 Meals Per Day, Granary Pet Feeder for Cats/Dogs"
          ],
          [
           "Petlibro",
           "PETLIBRO Automatic Cat Food Dispenser, Stainless Steel, Easy to Set Up and Program, Freshness Preservation, Up to 50 Portions per Meal, Infrared Detection"
          ],
          [
           "Petlibro",
           "PETLIBRO Automatic Cat Food Dispenser, Stainless Steel, 2L Capacity, 6 Meals/Day, No Overeating, Low Battery Indicator, Easy to Clean, Dishwasher Safe"
          ],
          [
           "Petlibro",
           "PETLIBRO Automatic Cat Food Dispenser, Stainless Steel, Easy to Set Up and Program, Freshness Preservation, Up to 50 Portions per Meal, Infrared Detection"
          ],
          [
           "Petlibro",
           "PETLIBRO Automatic Dog Feeder, 6L Dog Food Dispenser with Timer Interactive Voice Recorder, Auto Dog Feeder with Desiccant Bag 1-4 Meals Dry Food, White Opaque"
          ],
          [
           "Petlibro",
           "PETLIBRO Automatic Cat Food Dispenser, Stainless Steel, 2L Capacity, 6 Meals/Day, No Overeating, Low Battery Indicator, Easy to Clean, Dishwasher Safe"
          ],
          [
           "Petlibro",
           "PETLIBRO Automatic Cat Food Dispenser, Stainless Steel, 2L Capacity, 6 Meals/Day, No Overeating, Low Battery Indicator, Easy to Clean, Dishwasher Safe"
          ],
          [
           "Petlibro",
           "PETLIBRO Automatic Cat Feeder, Automatic Cat Food Dispenser with Timer Interactive Voice Recorder, Auto Cat Feeder with 1-4 Meals Control Dry Food"
          ],
          [
           "Petlibro",
           "PETLIBRO Automatic Cat Food Dispenser, Stainless Steel, 2L Capacity, 6 Meals/Day, No Overeating, Low Battery Indicator, Easy to Clean, Dishwasher Safe"
          ],
          [
           "Petlibro",
           "PETLIBRO Automatic Cat Feeder, Automatic Cat Food Dispenser with Timer Interactive Voice Recorder, Auto Cat Feeder with 1-4 Meals Control Dry Food"
          ],
          [
           "Petlibro",
           "PETLIBRO Automatic Cat Food Dispenser, Stainless Steel, 2L Capacity, 6 Meals/Day, No Overeating, Low Battery Indicator, Easy to Clean, Dishwasher Safe"
          ],
          [
           "Petlibro",
           "PETLIBRO Automatic Cat Feeder, Automatic Cat Food Dispenser with Freshness Preservation, Timed Cat Feeders for Dry Food, Up to 50 Portions 6 Meals Per Day, Granary Pet Feeder for Cats/Dogs"
          ],
          [
           "Petlibro",
           "PETLIBRO Automatic Cat Feeder, Automatic Cat Food Dispenser with Timer Interactive Voice Recorder, Auto Cat Feeder with 1-4 Meals Control Dry Food"
          ],
          [
           "Petlibro",
           "PETLIBRO Automatic Cat Feeder, Automatic Cat Food Dispenser with Freshness Preservation, Timed Cat Feeders for Dry Food, Up to 50 Portions 6 Meals Per Day, Granary Pet Feeder for Cats/Dogs"
          ],
          [
           "Petlibro",
           "PETLIBRO Automatic Cat Feeder, Automatic Cat Food Dispenser with Freshness Preservation, Timed Cat Feeders for Dry Food, Up to 50 Portions 6 Meals Per Day, Granary Pet Feeder for Cats/Dogs"
          ],
          [
           "Petlibro",
           "PETLIBRO Automatic Cat Feeder, Automatic Cat Food Dispenser with Freshness Preservation, Timed Cat Feeders for Dry Food, Up to 50 Portions 6 Meals Per Day, Granary Pet Feeder for Cats/Dogs"
          ],
          [
           "Petlibro",
           "PETLIBRO Automatic Cat Food Dispenser, Stainless Steel, Easy to Set Up and Program, Freshness Preservation, Up to 50 Portions per Meal, Infrared Detection"
          ],
          [
           "Petlibro",
           "PETLIBRO Automatic Dog Feeder, 6L Dog Food Dispenser with Timer Interactive Voice Recorder, Auto Dog Feeder with Desiccant Bag 1-4 Meals Dry Food"
          ],
          [
           "Petlibro",
           "PETLIBRO Automatic Cat Food Dispenser, Stainless Steel, 2L Capacity, 6 Meals/Day, No Overeating, Low Battery Indicator, Easy to Clean, Dishwasher Safe"
          ],
          [
           "Petlibro",
           "PETLIBRO Automatic Cat Feeder, Automatic Cat Food Dispenser with Timer Interactive Voice Recorder, Auto Cat Feeder with 1-4 Meals Control Dry Food"
          ],
          [
           "Petlibro",
           "PETLIBRO Automatic Cat Feeder, Automatic Cat Food Dispenser with Timer Interactive Voice Recorder, Auto Cat Feeder with 1-4 Meals Control Dry Food"
          ],
          [
           "Petlibro",
           "PETLIBRO Automatic Dog Feeder, 6L Dog Food Dispenser with Timer Interactive Voice Recorder, Auto Dog Feeder with Desiccant Bag 1-4 Meals Dry Food"
          ],
          [
           "Petlibro",
           "PETLIBRO Automatic Dog Feeder, 6L Dog Food Dispenser with Timer Interactive Voice Recorder, Auto Dog Feeder with Desiccant Bag 1-4 Meals Dry Food"
          ],
          [
           "Petlibro",
           "PETLIBRO Automatic Cat Feeder, Automatic Cat Food Dispenser with Timer Interactive Voice Recorder, Auto Cat Feeder with 1-4 Meals Control Dry Food"
          ],
          [
           "Petlibro",
           "PETLIBRO Automatic Cat Food Dispenser, Stainless Steel, 2L Capacity, 6 Meals/Day, No Overeating, Low Battery Indicator, Easy to Clean, Dishwasher Safe"
          ],
          [
           "Petlibro",
           "PETLIBRO Automatic Cat Feeder, Automatic Cat Food Dispenser with Freshness Preservation, Timed Cat Feeders for Dry Food, Up to 50 Portions 6 Meals Per Day, Granary Pet Feeder for Cats/Dogs"
          ],
          [
           "Petlibro",
           "PETLIBRO Automatic Dog Feeder, 6L Dog Food Dispenser with Timer Interactive Voice Recorder, Auto Dog Feeder with Desiccant Bag 1-4 Meals Dry Food"
          ],
          [
           "Petlibro",
           "PETLIBRO Automatic Cat Feeder, Automatic Cat Food Dispenser with Freshness Preservation, Timed Cat Feeders for Dry Food, Up to 50 Portions 6 Meals Per Day, Granary Pet Feeder for Cats/Dogs"
          ],
          [
           "Petlibro",
           "PETLIBRO Automatic Cat Feeder, Automatic Cat Food Dispenser with Timer Interactive Voice Recorder, Auto Cat Feeder with 1-4 Meals Control Dry Food"
          ],
          [
           "Petlibro",
           "PETLIBRO Automatic Cat Feeder, Automatic Cat Food Dispenser with Timer Interactive Voice Recorder, Auto Cat Feeder with 1-4 Meals Control Dry Food"
          ],
          [
           "Petlibro",
           "PETLIBRO Automatic Cat Food Dispenser, Stainless Steel, 2L Capacity, 6 Meals/Day, No Overeating, Low Battery Indicator, Easy to Clean, Dishwasher Safe"
          ],
          [
           "Petlibro",
           "PETLIBRO Automatic Cat Food Dispenser, Stainless Steel, Easy to Set Up and Program, Freshness Preservation, Up to 50 Portions per Meal, Infrared Detection"
          ],
          [
           "Petlibro",
           "PETLIBRO Automatic Cat Food Dispenser, Stainless Steel, Easy to Set Up and Program, Freshness Preservation, Up to 50 Portions per Meal, Infrared Detection"
          ],
          [
           "Petlibro",
           "PETLIBRO Automatic Cat Food Dispenser, Stainless Steel, 2L Capacity, 6 Meals/Day, No Overeating, Low Battery Indicator, Easy to Clean, Dishwasher Safe"
          ],
          [
           "Petlibro",
           "PETLIBRO Automatic Cat Feeder, Automatic Cat Food Dispenser with Freshness Preservation, Timed Cat Feeders for Dry Food, Up to 50 Portions 6 Meals Per Day, Granary Pet Feeder for Cats/Dogs"
          ],
          [
           "Petlibro",
           "PETLIBRO Automatic Cat Food Dispenser, Stainless Steel, 2L Capacity, 6 Meals/Day, No Overeating, Low Battery Indicator, Easy to Clean, Dishwasher Safe"
          ],
          [
           "Petlibro",
           "PETLIBRO Automatic Cat Food Dispenser, Stainless Steel, Easy to Set Up and Program, Freshness Preservation, Up to 50 Portions per Meal, Infrared Detection"
          ],
          [
           "Petlibro",
           "PETLIBRO Automatic Dog Feeder, 6L Dog Food Dispenser with Timer Interactive Voice Recorder, Auto Dog Feeder with Desiccant Bag 1-4 Meals Dry Food"
          ],
          [
           "Petlibro",
           "PETLIBRO Automatic Cat Food Dispenser, Stainless Steel, Easy to Set Up and Program, Freshness Preservation, Up to 50 Portions per Meal, Infrared Detection"
          ],
          [
           "Petlibro",
           "PETLIBRO Automatic Cat Food Dispenser, Stainless Steel, Easy to Set Up and Program, Freshness Preservation, Up to 50 Portions per Meal, Infrared Detection"
          ],
          [
           "Petlibro",
           "PETLIBRO Automatic Dog Feeder, 6L Dog Food Dispenser with Timer Interactive Voice Recorder, Auto Dog Feeder with Desiccant Bag 1-4 Meals Dry Food"
          ],
          [
           "Petlibro",
           "PETLIBRO Automatic Cat Food Dispenser, Stainless Steel, Easy to Set Up and Program, Freshness Preservation, Up to 50 Portions per Meal, Infrared Detection"
          ],
          [
           "Petlibro",
           "PETLIBRO Automatic Dog Feeder, 6L Dog Food Dispenser with Timer Interactive Voice Recorder, Auto Dog Feeder with Desiccant Bag 1-4 Meals Dry Food"
          ],
          [
           "Petlibro",
           "PETLIBRO Automatic Cat Feeder, Automatic Cat Food Dispenser with Freshness Preservation, Timed Cat Feeders for Dry Food, Up to 50 Portions 6 Meals Per Day, Granary Pet Feeder for Cats/Dogs"
          ],
          [
           "Petlibro",
           "PETLIBRO Automatic Cat Feeder, Automatic Cat Food Dispenser with Timer Interactive Voice Recorder, Auto Cat Feeder with 1-4 Meals Control Dry Food"
          ],
          [
           "Petlibro",
           "PETLIBRO Automatic Cat Feeder, Automatic Cat Food Dispenser with Freshness Preservation, Timed Cat Feeders for Dry Food, Up to 50 Portions 6 Meals Per Day, Granary Pet Feeder for Cats/Dogs"
          ],
          [
           "Petlibro",
           "PETLIBRO Automatic Cat Feeder, Automatic Cat Food Dispenser with Freshness Preservation, Timed Cat Feeders for Dry Food, Up to 50 Portions 6 Meals Per Day, Granary Pet Feeder for Cats/Dogs"
          ],
          [
           "Petlibro",
           "PETLIBRO Automatic Cat Feeder, Automatic Cat Food Dispenser with Freshness Preservation, Timed Cat Feeders for Dry Food, Up to 50 Portions 6 Meals Per Day, Granary Pet Feeder for Cats/Dogs"
          ],
          [
           "Petlibro",
           "PETLIBRO Automatic Dog Feeder, 6L Dog Food Dispenser with Timer Interactive Voice Recorder, Auto Dog Feeder with Desiccant Bag 1-4 Meals Dry Food"
          ],
          [
           "Petlibro",
           "PETLIBRO Automatic Cat Food Dispenser, Stainless Steel, 2L Capacity, 6 Meals/Day, No Overeating, Low Battery Indicator, Easy to Clean, Dishwasher Safe"
          ],
          [
           "Petlibro",
           "PETLIBRO Automatic Cat Feeder, Automatic Cat Food Dispenser with Freshness Preservation, Timed Cat Feeders for Dry Food, Up to 50 Portions 6 Meals Per Day, Granary Pet Feeder for Cats/Dogs"
          ],
          [
           "Petlibro",
           "PETLIBRO Automatic Cat Food Dispenser, Stainless Steel, 2L Capacity, 6 Meals/Day, No Overeating, Low Battery Indicator, Easy to Clean, Dishwasher Safe"
          ],
          [
           "Petlibro",
           "PETLIBRO Automatic Dog Feeder, 6L Dog Food Dispenser with Timer Interactive Voice Recorder, Auto Dog Feeder with Desiccant Bag 1-4 Meals Dry Food, White Opaque"
          ],
          [
           "Petlibro",
           "PETLIBRO Automatic Cat Food Dispenser, Stainless Steel, 2L Capacity, 6 Meals/Day, No Overeating, Low Battery Indicator, Easy to Clean, Dishwasher Safe"
          ],
          [
           "Petlibro",
           "PETLIBRO Automatic Dog Feeder, 6L Dog Food Dispenser with Timer Interactive Voice Recorder, Auto Dog Feeder with Desiccant Bag 1-4 Meals Dry Food"
          ],
          [
           "Petlibro",
           "PETLIBRO Automatic Cat Feeder, Automatic Cat Food Dispenser with Freshness Preservation, Timed Cat Feeders for Dry Food, Up to 50 Portions 6 Meals Per Day, Granary Pet Feeder for Cats/Dogs"
          ],
          [
           "Petlibro",
           "PETLIBRO Automatic Cat Feeder, Automatic Cat Food Dispenser with Freshness Preservation, Timed Cat Feeders for Dry Food, Up to 50 Portions 6 Meals Per Day, Granary Pet Feeder for Cats/Dogs"
          ],
          [
           "Petlibro",
           "PETLIBRO Automatic Cat Food Dispenser, Stainless Steel, 2L Capacity, 6 Meals/Day, No Overeating, Low Battery Indicator, Easy to Clean, Dishwasher Safe"
          ],
          [
           "Petlibro",
           "PETLIBRO Automatic Cat Food Dispenser, Stainless Steel, 2L Capacity, 6 Meals/Day, No Overeating, Low Battery Indicator, Easy to Clean, Dishwasher Safe"
          ],
          [
           "Petlibro",
           "PETLIBRO Automatic Cat Food Dispenser, Stainless Steel, Easy to Set Up and Program, Freshness Preservation, Up to 50 Portions per Meal, Infrared Detection"
          ],
          [
           "Petlibro",
           "PETLIBRO Automatic Dog Feeder, 6L Dog Food Dispenser with Timer Interactive Voice Recorder, Auto Dog Feeder with Desiccant Bag 1-4 Meals Dry Food, White Opaque"
          ],
          [
           "Petlibro",
           "PETLIBRO Automatic Cat Feeder, Automatic Cat Food Dispenser with Timer Interactive Voice Recorder, Auto Cat Feeder with 1-4 Meals Control Dry Food"
          ],
          [
           "Petlibro",
           "PETLIBRO Automatic Dog Feeder, 6L Dog Food Dispenser with Timer Interactive Voice Recorder, Auto Dog Feeder with Desiccant Bag 1-4 Meals Dry Food"
          ],
          [
           "Petlibro",
           "PETLIBRO Automatic Cat Food Dispenser, Stainless Steel, Easy to Set Up and Program, Freshness Preservation, Up to 50 Portions per Meal, Infrared Detection"
          ],
          [
           "Petlibro",
           "PETLIBRO Automatic Cat Food Dispenser, Stainless Steel, Easy to Set Up and Program, Freshness Preservation, Up to 50 Portions per Meal, Infrared Detection"
          ],
          [
           "Petlibro",
           "PETLIBRO Automatic Cat Feeder, Automatic Cat Food Dispenser with Timer Interactive Voice Recorder, Auto Cat Feeder with 1-4 Meals Control Dry Food"
          ],
          [
           "Petlibro",
           "PETLIBRO Automatic Dog Feeder, 6L Dog Food Dispenser with Timer Interactive Voice Recorder, Auto Dog Feeder with Desiccant Bag 1-4 Meals Dry Food, White Opaque"
          ],
          [
           "Petlibro",
           "PETLIBRO Automatic Cat Food Dispenser, Stainless Steel, 2L Capacity, 6 Meals/Day, No Overeating, Low Battery Indicator, Easy to Clean, Dishwasher Safe"
          ],
          [
           "Petlibro",
           "PETLIBRO Automatic Cat Feeder, Automatic Cat Food Dispenser with Freshness Preservation, Timed Cat Feeders for Dry Food, Up to 50 Portions 6 Meals Per Day, Granary Pet Feeder for Cats/Dogs"
          ],
          [
           "Petlibro",
           "PETLIBRO Automatic Cat Food Dispenser, Stainless Steel, Easy to Set Up and Program, Freshness Preservation, Up to 50 Portions per Meal, Infrared Detection"
          ],
          [
           "Petlibro",
           "PETLIBRO Automatic Cat Feeder, Automatic Cat Food Dispenser with Timer Interactive Voice Recorder, Auto Cat Feeder with 1-4 Meals Control Dry Food"
          ],
          [
           "Petlibro",
           "PETLIBRO Automatic Cat Feeder, Automatic Cat Food Dispenser with Timer Interactive Voice Recorder, Auto Cat Feeder with 1-4 Meals Control Dry Food"
          ],
          [
           "Petlibro",
           "PETLIBRO Automatic Cat Food Dispenser, Stainless Steel, Easy to Set Up and Program, Freshness Preservation, Up to 50 Portions per Meal, Infrared Detection"
          ],
          [
           "Petlibro",
           "PETLIBRO Automatic Cat Food Dispenser, Stainless Steel, 2L Capacity, 6 Meals/Day, No Overeating, Low Battery Indicator, Easy to Clean, Dishwasher Safe"
          ],
          [
           "Petlibro",
           "PETLIBRO Automatic Cat Food Dispenser, Stainless Steel, 2L Capacity, 6 Meals/Day, No Overeating, Low Battery Indicator, Easy to Clean, Dishwasher Safe"
          ],
          [
           "Petlibro",
           "PETLIBRO Automatic Cat Food Dispenser, Stainless Steel, Easy to Set Up and Program, Freshness Preservation, Up to 50 Portions per Meal, Infrared Detection"
          ],
          [
           "Petlibro",
           "PETLIBRO Automatic Dog Feeder, 6L Dog Food Dispenser with Timer Interactive Voice Recorder, Auto Dog Feeder with Desiccant Bag 1-4 Meals Dry Food"
          ],
          [
           "Petlibro",
           "PETLIBRO Automatic Dog Feeder, 6L Dog Food Dispenser with Timer Interactive Voice Recorder, Auto Dog Feeder with Desiccant Bag 1-4 Meals Dry Food"
          ]
         ],
         "hovertemplate": "Short Name=PETLIBRO A<br>Number of Reviews=%{x}<br>Revenue ($)=%{y}<br>Brand=%{customdata[0]}<br>Name=%{customdata[1]}<extra></extra>",
         "legendgroup": "PETLIBRO A",
         "marker": {
          "color": "#636efa",
          "symbol": "circle"
         },
         "mode": "markers",
         "name": "PETLIBRO A",
         "orientation": "v",
         "showlegend": true,
         "type": "scatter",
         "x": [
          793,
          7626,
          8083,
          13128,
          962,
          996,
          10618,
          4401,
          6221,
          13179,
          4517,
          4572,
          14026,
          3047,
          13171,
          3969,
          10044,
          10795,
          6293,
          7317,
          6823,
          1968,
          2138,
          4422,
          13157,
          11382,
          14719,
          1716,
          15735,
          4218,
          10508,
          2134,
          8159,
          5679,
          12175,
          3824,
          9203,
          4130,
          4168,
          6062,
          4433,
          2863,
          6257,
          8215,
          700,
          6121,
          3997,
          6267,
          10210,
          42,
          10618,
          6114,
          6114,
          1865,
          4103,
          8241,
          2965,
          11382,
          4145,
          2134,
          11401,
          10589,
          4293,
          4179,
          1985,
          496,
          13179,
          2144,
          697,
          1284,
          10795,
          13739,
          2078,
          6116,
          1994,
          15030,
          10802,
          2853,
          4540,
          4445,
          1987,
          17121,
          2141
         ],
         "xaxis": "x",
         "y": [
          3065358.654499875,
          2317409.82059875,
          849817.54864025,
          327017.11410199996,
          291269.7352705,
          230822.2731265,
          224454.704424,
          199375.60260531324,
          187420.940917,
          183138.50100583333,
          175915.740917,
          162783.49649975,
          161713.4672715,
          155163.68083250002,
          154054.169296,
          125136.61545,
          124594.65087325,
          109174.0385635,
          94618.707818,
          83831.495361,
          82953.4397335,
          75896.689075,
          74296.45665200001,
          73498.65843599998,
          72107.5576355,
          68265.135282,
          60563.169635499995,
          59162.94013499999,
          54801.31916399999,
          53879.013993500004,
          49453.5801095,
          42689.7408055,
          42644.585285,
          42565.8217995,
          40987.6946295,
          37502.301863,
          37093.409972,
          35875.854192,
          34584.366743,
          31900.752598499996,
          30285.980688,
          30279.97042125,
          29791.7564085,
          28098.241976999998,
          28024.576527,
          25016.825215499997,
          23765.011176,
          23531.011511,
          20814.5667115,
          20604.174125999998,
          20602.707372,
          20281.460734499997,
          20026.553655,
          19809.807425,
          19173.667028999997,
          16573.152476,
          16190.052611,
          15603.224274,
          14045.521689499998,
          14017.001759,
          13883.027678,
          13637.475603999997,
          12453.429082499999,
          11917.853473499998,
          11683.4136225,
          11286.338759999999,
          10593.168412499997,
          10306.543488,
          9677.600064,
          9536.023143,
          9379.478882999998,
          8614.917909,
          7838.123360999999,
          7229.2586925,
          3744.095265,
          3391.122141,
          3290.4961829999997,
          2713.28159925,
          2544.731943,
          1066.801578,
          1019.5007894999999,
          808.8527579999999,
          137.146752
         ],
         "yaxis": "y"
        },
        {
         "customdata": [
          [
           "Neater Feeder",
           "Neater Feeder - Express Model w/Slow Feed Bowl - Mess-Proof Dog Bowls (M/L, Black) Made in USA – Elevated, No Spill, Non-Tip, Non-Slip, Raised Stainless Steel Food/Water Pet Bowls Aid Digestion"
          ],
          [
           "Neater Feeder",
           "Neater Feeder - Express Model w/Slow Feed Bowl - Mess-Proof Dog Bowls (M/L, Black) Made in USA – Elevated, No Spill, Non-Tip, Non-Slip, Raised Stainless Steel Food/Water Pet Bowls Aid Digestion"
          ]
         ],
         "hovertemplate": "Short Name=Neater Fee<br>Number of Reviews=%{x}<br>Revenue ($)=%{y}<br>Brand=%{customdata[0]}<br>Name=%{customdata[1]}<extra></extra>",
         "legendgroup": "Neater Fee",
         "marker": {
          "color": "#EF553B",
          "symbol": "circle"
         },
         "mode": "markers",
         "name": "Neater Fee",
         "orientation": "v",
         "showlegend": true,
         "type": "scatter",
         "x": [
          29698,
          1998
         ],
         "xaxis": "x",
         "y": [
          2786209.549631495,
          303630.785733
         ],
         "yaxis": "y"
        },
        {
         "customdata": [
          [
           "Weruva",
           "Weruva Classic Cat Food, Variety Pack, Paw Lickin' Pals Wet Cat Food, 3oz Cans (Pack of 24)"
          ],
          [
           "Weruva",
           "Weruva Classic Cat Food, Paw Lickin’ Chicken with Chicken Breast in Gravy, 10oz Can (Pack of 12)"
          ],
          [
           "Weruva",
           "Weruva Classic Cat Food, Wowzer Meowzer Variety Pack, 10oz Cans (Pack of 12)"
          ],
          [
           "Weruva",
           "Weruva Classic Cat Food, Wowzer Meowzer Variety Pack, 10oz Cans (Pack of 12)"
          ],
          [
           "Weruva",
           "Weruva Classic Cat Food, Wowzer Meowzer Variety Pack, 10oz Cans (Pack of 12)"
          ]
         ],
         "hovertemplate": "Short Name=Weruva Cla<br>Number of Reviews=%{x}<br>Revenue ($)=%{y}<br>Brand=%{customdata[0]}<br>Name=%{customdata[1]}<extra></extra>",
         "legendgroup": "Weruva Cla",
         "marker": {
          "color": "#00cc96",
          "symbol": "circle"
         },
         "mode": "markers",
         "name": "Weruva Cla",
         "orientation": "v",
         "showlegend": true,
         "type": "scatter",
         "x": [
          5308,
          7166,
          2308,
          96,
          1862
         ],
         "xaxis": "x",
         "y": [
          2702182.840385375,
          1963684.3179595245,
          86895.974151,
          73445.08806,
          3242.796336
         ],
         "yaxis": "y"
        },
        {
         "customdata": [
          [
           "Iams",
           "IAMS PERFECT PORTIONS Indoor Adult Grain Free* Wet Cat Food Cuts in Gravy, Tuna Recipe, (24) 2.6 oz. Easy Peel Twin-Pack Trays"
          ]
         ],
         "hovertemplate": "Short Name=IAMS PERFE<br>Number of Reviews=%{x}<br>Revenue ($)=%{y}<br>Brand=%{customdata[0]}<br>Name=%{customdata[1]}<extra></extra>",
         "legendgroup": "IAMS PERFE",
         "marker": {
          "color": "#ab63fa",
          "symbol": "circle"
         },
         "mode": "markers",
         "name": "IAMS PERFE",
         "orientation": "v",
         "showlegend": true,
         "type": "scatter",
         "x": [
          6321
         ],
         "xaxis": "x",
         "y": [
          2586943.61101375
         ],
         "yaxis": "y"
        },
        {
         "customdata": [
          [
           "Stella & Chewy'S",
           "Stella & Chewy's Freeze-Dried Raw Cat Dinner Morsels – Grain Free, Protein Rich Cat & Kitten Food – Yummy Lickin’ Salmon & Chicken Recipe – 18 oz Bag"
          ],
          [
           "Stella & Chewy'S",
           "Stella & Chewy's Freeze-Dried Raw Duck Duck Goose Dinner Morsels Cat Food, 18 oz. Bag (CAT-FDD-18)"
          ],
          [
           "Stella & Chewy'S",
           "Stella & Chewy's Freeze-Dried Raw Cat Dinner Morsels – Grain Free, Protein Rich Cat & Kitten Food – Yummy Lickin’ Salmon & Chicken Recipe – 18 oz Bag"
          ],
          [
           "Stella & Chewy'S",
           "Stella & Chewy's Freeze-Dried Raw Duck Duck Goose Dinner Morsels Cat Food, 18 oz. Bag (CAT-FDD-18)"
          ],
          [
           "Stella & Chewy'S",
           "Stella & Chewy's Freeze-Dried Raw Cat Dinner Morsels – Grain Free, Protein Rich Cat & Kitten Food – Yummy Lickin’ Salmon & Chicken Recipe – 18 oz Bag"
          ]
         ],
         "hovertemplate": "Short Name=Stella & C<br>Number of Reviews=%{x}<br>Revenue ($)=%{y}<br>Brand=%{customdata[0]}<br>Name=%{customdata[1]}<extra></extra>",
         "legendgroup": "Stella & C",
         "marker": {
          "color": "#FFA15A",
          "symbol": "circle"
         },
         "mode": "markers",
         "name": "Stella & C",
         "orientation": "v",
         "showlegend": true,
         "type": "scatter",
         "x": [
          6047,
          6047,
          2470,
          5937,
          513
         ],
         "xaxis": "x",
         "y": [
          2558194.03866925,
          278210.1359895,
          82106.7224425,
          31029.768007000002,
          10706.214086
         ],
         "yaxis": "y"
        },
        {
         "customdata": [
          [
           "Iris Usa",
           "IRIS USA 35Lbs./47Qt. WeatherPro Airtight Pet Food Storage Container with Attachable Casters, For Dog Cat Bird and Other Pet Food Storage Bin, Keep Fresh, Translucent Body, Easy Mobility, Black"
          ],
          [
           "Iris Usa, Inc.",
           "IRIS USA 3-Piece 35 Lbs / 45 Qt WeatherPro Airtight Pet Food Storage Container Combo with Scoop and Treat Box for Dog Cat and Bird Food, Keep Pests Out, Translucent Body, Easy Mobility, Dark Gray"
          ],
          [
           "Iris Usa, Inc.",
           "IRIS USA 3-Piece 35 Lbs / 45 Qt WeatherPro Airtight Pet Food Storage Container Combo with Scoop and Treat Box for Dog Cat and Bird Food, Keep Pests Out, Translucent Body, Easy Mobility, Dark Gray"
          ],
          [
           "Iris",
           "IRIS USA 3-Piece 35 Lbs / 45 Qt WeatherPro Airtight Pet Food Storage Container Combo with Scoop and Treat Box for Dog Cat and Bird Food, Keep Pests Out, Translucent Body, Easy Mobility, Dark Gray"
          ],
          [
           "Iris Usa, Inc.",
           "IRIS USA 3-Piece 35 Lbs / 45 Qt WeatherPro Airtight Pet Food Storage Container Combo with Scoop and Treat Box for Dog Cat and Bird Food, Keep Pests Out, Translucent Body, Easy Mobility, Orange"
          ],
          [
           "Iris Usa, Inc.",
           "IRIS USA 3-Piece 35 Lbs / 45 Qt WeatherPro Airtight Pet Food Storage Container Combo with Scoop and Treat Box for Dog Cat and Bird Food, Keep Pests Out, Translucent Body, Easy Mobility, Orange"
          ],
          [
           "Iris Usa, Inc.",
           "IRIS USA 3-Piece 35 Lbs / 45 Qt WeatherPro Airtight Pet Food Storage Container Combo with Scoop and Treat Box for Dog Cat and Bird Food, Keep Pests Out, Translucent Body, Easy Mobility, Dark Gray"
          ],
          [
           "Iris Usa, Inc.",
           "IRIS USA 33qt + 12qt Airtight Pet Food Storage Container Combo with Scoop, Black"
          ],
          [
           "Iris Usa, Inc.",
           "IRIS USA 35Lbs./47Qt. WeatherPro Airtight Pet Food Storage Container with Attachable Casters, For Dog Cat Bird and Other Pet Food Storage Bin, Keep Fresh, Translucent Body, Easy Mobility, Black"
          ],
          [
           "Iris Usa, Inc.",
           "IRIS USA 3-Piece 35 Lbs / 45 Qt WeatherPro Airtight Pet Food Storage Container Combo with Scoop and Treat Box for Dog Cat and Bird Food, Keep Pests Out, Translucent Body, Easy Mobility, Orange"
          ],
          [
           "Iris",
           "IRIS USA 3-Piece 35 Lbs / 45 Qt WeatherPro Airtight Pet Food Storage Container Combo with Scoop and Treat Box for Dog Cat and Bird Food, Keep Pests Out, Translucent Body, Easy Mobility, Dark Gray"
          ],
          [
           "Iris",
           "IRIS USA 33qt + 12qt Airtight Pet Food Container Combo with Scoop, Sea Foam Blue"
          ]
         ],
         "hovertemplate": "Short Name=IRIS USA 3<br>Number of Reviews=%{x}<br>Revenue ($)=%{y}<br>Brand=%{customdata[0]}<br>Name=%{customdata[1]}<extra></extra>",
         "legendgroup": "IRIS USA 3",
         "marker": {
          "color": "#19d3f3",
          "symbol": "circle"
         },
         "mode": "markers",
         "name": "IRIS USA 3",
         "orientation": "v",
         "showlegend": true,
         "type": "scatter",
         "x": [
          56120,
          51005,
          53462,
          57450,
          18271,
          68552,
          57763,
          55993,
          1760,
          1112,
          55993,
          55994
         ],
         "xaxis": "x",
         "y": [
          2491597.13920475,
          1768486.7823182417,
          829565.562728875,
          773138.5096860001,
          694885.2234210001,
          488148.35540137504,
          27848.835299000006,
          15481.525325,
          14886.420796,
          8567.793464,
          7047.943902,
          1080.122796
         ],
         "yaxis": "y"
        },
        {
         "customdata": [
          [
           "Merrick",
           "Merrick Purrfect Bistro"
          ],
          [
           "Merrick",
           "Merrick Purrfect Bistro Grain Free Wet Cat Food Variety Pack Seafood Recipes - (24) 5.5 oz. Cans"
          ],
          [
           "Merrick",
           "Merrick Purrfect Bistro Grain Free Wet Cat Food Variety Pack Seafood Recipes - (24) 5.5 oz. Cans"
          ],
          [
           "Merrick",
           "Merrick Purrfect Bistro Grain Free Wet Cat Food Variety Pack Seafood Recipes - (24) 5.5 oz. Cans"
          ],
          [
           "Merrick",
           "Merrick Purrfect Bistro Grain Free Wet Cat Food Variety Pack Seafood Recipes - (24) 5.5 oz. Cans"
          ]
         ],
         "hovertemplate": "Short Name=Merrick Pu<br>Number of Reviews=%{x}<br>Revenue ($)=%{y}<br>Brand=%{customdata[0]}<br>Name=%{customdata[1]}<extra></extra>",
         "legendgroup": "Merrick Pu",
         "marker": {
          "color": "#FF6692",
          "symbol": "circle"
         },
         "mode": "markers",
         "name": "Merrick Pu",
         "orientation": "v",
         "showlegend": true,
         "type": "scatter",
         "x": [
          2567,
          3913,
          2961,
          3913,
          3022
         ],
         "xaxis": "x",
         "y": [
          2349548.5922012823,
          296318.5297895,
          37948.479438083334,
          31900.350138499995,
          10913.8872
         ],
         "yaxis": "y"
        },
        {
         "customdata": [
          [
           "Purina Fancy Feast",
           "Fancy Feast Chicken Feast Classic Pate - (24) 3 oz. Pull-Top Cans"
          ],
          [
           "Purina Fancy Feast",
           "Fancy Feast Lickable Appetizers - (2 Packs of 12) 1.1 oz. Trays"
          ],
          [
           "Purina Fancy Feast",
           "Fancy Feast Chicken Feast Classic Pate - (24) 3 oz. Pull-Top Cans"
          ],
          [
           "Purina Fancy Feast",
           "Fancy Feast Poultry and Beef Feast Classic Pate - (30) 3 oz. Cans"
          ],
          [
           "Purina Fancy Feast",
           "Fancy Feast Chicken Feast Classic Pate - (24) 3 oz. Pull-Top Cans"
          ],
          [
           "Purina Fancy Feast",
           "Fancy Feast Lickable Appetizers - (2 Packs of 12) 1.1 oz. Trays"
          ]
         ],
         "hovertemplate": "Short Name=Fancy Feas<br>Number of Reviews=%{x}<br>Revenue ($)=%{y}<br>Brand=%{customdata[0]}<br>Name=%{customdata[1]}<extra></extra>",
         "legendgroup": "Fancy Feas",
         "marker": {
          "color": "#B6E880",
          "symbol": "circle"
         },
         "mode": "markers",
         "name": "Fancy Feas",
         "orientation": "v",
         "showlegend": true,
         "type": "scatter",
         "x": [
          4139,
          6048,
          4265,
          76781,
          4219,
          22790
         ],
         "xaxis": "x",
         "y": [
          1845698.3745955208,
          1329240.2103229167,
          1022195.6295299666,
          800084.839655,
          81506.6013105,
          31087.841689000004
         ],
         "yaxis": "y"
        },
        {
         "customdata": [
          [
           "Weruva",
           "Weruva Cats in The Kitchen, Kitchen Cuties Variety Pack, Wet Cat Food, 10oz Cans (Pack of 12)"
          ],
          [
           "Weruva",
           "Weruva Cats in The Kitchen, Kitchen Cuties Variety Pack, Wet Cat Food, 10oz Cans (Pack of 12)"
          ],
          [
           "Weruva",
           "Weruva Cats in The Kitchen, Kitchen Cuties Variety Pack, Wet Cat Food, 10oz Cans (Pack of 12)"
          ],
          [
           "Weruva",
           "Weruva Cats in The Kitchen, Kitchen Cuties Variety Pack, Wet Cat Food, 10oz Cans (Pack of 12)"
          ],
          [
           "Weruva",
           "Weruva Cats in The Kitchen, Kitchen Cuties Variety Pack, Wet Cat Food, 6oz Cans (Pack of 24)"
          ],
          [
           "Weruva",
           "Weruva Cats in The Kitchen, Kitchen Cuties Variety Pack, Wet Cat Food, 10oz Cans (Pack of 12)"
          ],
          [
           "Weruva",
           "Weruva Cats in The Kitchen, Kitchen Cuties Variety Pack, Wet Cat Food, 6oz Cans (Pack of 24)"
          ],
          [
           "Weruva",
           "Weruva Cats in The Kitchen, Kitchen Cuties Variety Pack, Wet Cat Food, 10oz Cans (Pack of 12)"
          ]
         ],
         "hovertemplate": "Short Name=Weruva Cat<br>Number of Reviews=%{x}<br>Revenue ($)=%{y}<br>Brand=%{customdata[0]}<br>Name=%{customdata[1]}<extra></extra>",
         "legendgroup": "Weruva Cat",
         "marker": {
          "color": "#FF97FF",
          "symbol": "circle"
         },
         "mode": "markers",
         "name": "Weruva Cat",
         "orientation": "v",
         "showlegend": true,
         "type": "scatter",
         "x": [
          22109,
          4352,
          15288,
          4640,
          2414,
          6426,
          317,
          4410
         ],
         "xaxis": "x",
         "y": [
          1756494.1299425,
          1554031.7149795,
          1455520.3199470001,
          479214.92361,
          329512.90524623165,
          120549.8298095,
          92633.93639,
          76929.785114
         ],
         "yaxis": "y"
        },
        {
         "customdata": [
          [
           "Reveal Limited Ingredients Approved By Cats",
           "Reveal Natural Wet Cat Food, 24 Count, Grain Free, Limited Ingredient Canned Food for Cats, Tuna Fillet in Broth, 2.47 oz Cans"
          ],
          [
           "Reveal Limited Ingredients Approved By Cats",
           "Reveal Natural Wet Cat Food, 24 Count, Grain Free, Limited Ingredient Canned Food for Cats, Tuna Fillet in Broth, 2.47 oz Cans"
          ],
          [
           "Reveal Limited Ingredients Approved By Cats",
           "Reveal Natural Wet Cat Food, 24 Count, Grain Free, Limited Ingredient Canned Food for Cats, Tuna Fillet in Broth, 2.47 oz Cans"
          ],
          [
           "Reveal Limited Ingredients Approved By Cats",
           "Reveal Natural Wet Cat Food, 24 Pack, Limited Ingredient Canned Wet Cat Food, Grain Free Food for Cats, Tuna with Salmon in Gravy, 2.47oz Cans"
          ],
          [
           "Reveal Limited Ingredients Approved By Cats",
           "Reveal Natural Wet Cat Food, 24 Count, Grain Free, Limited Ingredient Canned Food for Cats, Tuna Fillet in Broth, 2.47 oz Cans"
          ]
         ],
         "hovertemplate": "Short Name=Reveal Nat<br>Number of Reviews=%{x}<br>Revenue ($)=%{y}<br>Brand=%{customdata[0]}<br>Name=%{customdata[1]}<extra></extra>",
         "legendgroup": "Reveal Nat",
         "marker": {
          "color": "#FECB52",
          "symbol": "circle"
         },
         "mode": "markers",
         "name": "Reveal Nat",
         "orientation": "v",
         "showlegend": true,
         "type": "scatter",
         "x": [
          2096,
          5868,
          4052,
          115,
          1726
         ],
         "xaxis": "x",
         "y": [
          1592512.2390073494,
          1392064.0054678333,
          378609.694981,
          84346.35460200909,
          4476.835306666666
         ],
         "yaxis": "y"
        },
        {
         "customdata": [
          [
           "Iams",
           "IAMS Proactive Health Adult Indoor Weight & Hairball Care Dry Cat Food with Salmon, 7 lb. Bag"
          ]
         ],
         "hovertemplate": "Short Name=IAMS Proac<br>Number of Reviews=%{x}<br>Revenue ($)=%{y}<br>Brand=%{customdata[0]}<br>Name=%{customdata[1]}<extra></extra>",
         "legendgroup": "IAMS Proac",
         "marker": {
          "color": "#636efa",
          "symbol": "circle"
         },
         "mode": "markers",
         "name": "IAMS Proac",
         "orientation": "v",
         "showlegend": true,
         "type": "scatter",
         "x": [
          36352
         ],
         "xaxis": "x",
         "y": [
          1539095.9424064
         ],
         "yaxis": "y"
        },
        {
         "customdata": [
          [
           "Gorilla Grip",
           "Gorilla Grip 100% Waterproof Raised Edge BPA Free Silicone Pet Feeding Mat, Dog Cat Food Mats Contain Spills Protects Floors, Placemats for Cats and Dogs Water Bowl, Pets Accessories 28x18 Beige"
          ]
         ],
         "hovertemplate": "Short Name=Gorilla Gr<br>Number of Reviews=%{x}<br>Revenue ($)=%{y}<br>Brand=%{customdata[0]}<br>Name=%{customdata[1]}<extra></extra>",
         "legendgroup": "Gorilla Gr",
         "marker": {
          "color": "#EF553B",
          "symbol": "circle"
         },
         "mode": "markers",
         "name": "Gorilla Gr",
         "orientation": "v",
         "showlegend": true,
         "type": "scatter",
         "x": [
          25542
         ],
         "xaxis": "x",
         "y": [
          1320955.6658079838
         ],
         "yaxis": "y"
        },
        {
         "customdata": [
          [
           "9lives",
           "9Lives Plus Care Dry Cat Food, 3.15 Pound Bag (Pack of 4)"
          ]
         ],
         "hovertemplate": "Short Name=9Lives Plu<br>Number of Reviews=%{x}<br>Revenue ($)=%{y}<br>Brand=%{customdata[0]}<br>Name=%{customdata[1]}<extra></extra>",
         "legendgroup": "9Lives Plu",
         "marker": {
          "color": "#00cc96",
          "symbol": "circle"
         },
         "mode": "markers",
         "name": "9Lives Plu",
         "orientation": "v",
         "showlegend": true,
         "type": "scatter",
         "x": [
          10334
         ],
         "xaxis": "x",
         "y": [
          1163292.07346
         ],
         "yaxis": "y"
        },
        {
         "customdata": [
          [
           "Meow Mix",
           "Meow Mix Tender Centers Basted Bites Dry Cat Food, Beef & Salmon Flavors, 3 Pound Bag (Pack of 4)"
          ],
          [
           "Meow Mix",
           "Meow Mix Tender Centers Basted Bites Dry Cat Food, Beef & Salmon Flavors, 3 Pound Bag (Pack of 4)"
          ],
          [
           "Meow Mix",
           "Meow Mix Tender Centers Basted Bites Dry Cat Food, Beef & Salmon Flavors, 3 Pound Bag (Pack of 4)"
          ]
         ],
         "hovertemplate": "Short Name=Meow Mix T<br>Number of Reviews=%{x}<br>Revenue ($)=%{y}<br>Brand=%{customdata[0]}<br>Name=%{customdata[1]}<extra></extra>",
         "legendgroup": "Meow Mix T",
         "marker": {
          "color": "#ab63fa",
          "symbol": "circle"
         },
         "mode": "markers",
         "name": "Meow Mix T",
         "orientation": "v",
         "showlegend": true,
         "type": "scatter",
         "x": [
          10891,
          14575,
          108
         ],
         "xaxis": "x",
         "y": [
          991397.2543627657,
          68080.15917,
          11374.082400000001
         ],
         "yaxis": "y"
        },
        {
         "customdata": [
          [
           "Hill'S Prescription Diet",
           "Hill's Prescription Diet c/d Multicare Urinary Care with Chicken Dry Cat Food, Veterinary Diet, 8.5 lb. Bag"
          ],
          [
           "Hill'S Prescription Diet",
           "Hill's Prescription Diet c/d Multicare Urinary Care with Ocean Fish Wet Cat Food, Veterinary Diet, 5.5 oz. Cans, 24-Pack"
          ],
          [
           "Hill'S Prescription Diet",
           "Hill's Prescription Diet c/d Multicare Urinary Care with Ocean Fish Wet Cat Food, Veterinary Diet, 5.5 oz. Cans, 24-Pack"
          ],
          [
           "Hill'S Prescription Diet",
           "Hill's Prescription Diet c/d Multicare Urinary Care with Ocean Fish Wet Cat Food, Veterinary Diet, 5.5 oz. Cans, 24-Pack"
          ],
          [
           "Hill'S Prescription Diet",
           "Hill's Prescription Diet c/d Multicare Urinary Care with Chicken Dry Cat Food, Veterinary Diet, 8.5 lb. Bag"
          ],
          [
           "Hill'S Prescription Diet",
           "Hill's Prescription Diet c/d Multicare Urinary Care with Chicken Dry Cat Food, Veterinary Diet, 8.5 lb. Bag"
          ],
          [
           "Hill'S Prescription Diet",
           "Hill's Prescription Diet c/d Multicare Urinary Care with Chicken Dry Cat Food, Veterinary Diet, 8.5 lb. Bag"
          ],
          [
           "Hill'S Prescription Diet",
           "Hill's Prescription Diet c/d Multicare Urinary Care with Chicken Dry Cat Food, Veterinary Diet, 8.5 lb. Bag"
          ],
          [
           "Hill'S Prescription Diet",
           "Hill's Prescription Diet c/d Multicare Urinary Care Ocean Fish Flavor Dry Cat Food, Veterinary Diet, 17.6 lb. Bag"
          ],
          [
           "Hill'S Prescription Diet",
           "Hill's Prescription Diet c/d Multicare Urinary Care with Ocean Fish Dry Cat Food, Veterinary Diet, 8.5 lb. Bag"
          ],
          [
           "Hill'S Prescription Diet",
           "Hill's Prescription Diet c/d Multicare Urinary Care with Chicken Dry Cat Food, Veterinary Diet, 8.5 lb. Bag"
          ],
          [
           "Hill'S Prescription Diet",
           "Hill's Prescription Diet c/d Multicare Urinary Care with Chicken Dry Cat Food, Veterinary Diet, 8.5 lb. Bag"
          ],
          [
           "Hill'S Prescription Diet",
           "Hill's Prescription Diet c/d Multicare Urinary Care with Ocean Fish Wet Cat Food, Veterinary Diet, 5.5 oz. Cans, 24-Pack"
          ],
          [
           "Hill'S Prescription Diet",
           "Hill's Prescription Diet c/d Multicare Urinary Care with Chicken Dry Cat Food, Veterinary Diet, 8.5 lb. Bag"
          ],
          [
           "Hill'S Prescription Diet",
           "Hill's Prescription Diet c/d Multicare Urinary Care with Ocean Fish Dry Cat Food, Veterinary Diet, 8.5 lb. Bag"
          ],
          [
           "Hill'S Prescription Diet",
           "Hill's Prescription Diet c/d Multicare Urinary Care with Ocean Fish Wet Cat Food, Veterinary Diet, 5.5 oz. Cans, 24-Pack"
          ],
          [
           "Hill'S Prescription Diet",
           "Hill's Prescription Diet c/d Multicare Urinary Care with Chicken Dry Cat Food, Veterinary Diet, 8.5 lb. Bag"
          ],
          [
           "Hill'S Prescription Diet",
           "Hill's Prescription Diet c/d Multicare Urinary Care with Ocean Fish Wet Cat Food, Veterinary Diet, 5.5 oz. Cans, 24-Pack"
          ],
          [
           "Hill'S Prescription Diet",
           "Hill's Prescription Diet c/d Multicare Urinary Care with Ocean Fish Wet Cat Food, Veterinary Diet, 5.5 oz. Cans, 24-Pack"
          ],
          [
           "Hill'S Prescription Diet",
           "Hill's Prescription Diet c/d Multicare Urinary Care with Chicken Dry Cat Food, Veterinary Diet, 8.5 lb. Bag"
          ],
          [
           "Hill'S Prescription Diet",
           "Hill's Prescription Diet c/d Multicare Urinary Care with Ocean Fish Wet Cat Food, Veterinary Diet, 5.5 oz. Cans, 24-Pack"
          ]
         ],
         "hovertemplate": "Short Name=Hill's Pre<br>Number of Reviews=%{x}<br>Revenue ($)=%{y}<br>Brand=%{customdata[0]}<br>Name=%{customdata[1]}<extra></extra>",
         "legendgroup": "Hill's Pre",
         "marker": {
          "color": "#FFA15A",
          "symbol": "circle"
         },
         "mode": "markers",
         "name": "Hill's Pre",
         "orientation": "v",
         "showlegend": true,
         "type": "scatter",
         "x": [
          2954,
          218,
          1483,
          433,
          978,
          2239,
          2644,
          978,
          79,
          393,
          2451,
          2326,
          1444,
          2412,
          606,
          217,
          2768,
          436,
          2401,
          1625,
          3038
         ],
         "xaxis": "x",
         "y": [
          908292.0182401935,
          754092.5419172316,
          541356.1893405964,
          447076.128271,
          389104.89115000004,
          256082.377207,
          245742.043833,
          239920.429889,
          204998.34718170515,
          170098.10105,
          165678.36762875,
          149211.0690525,
          126476.1934215,
          99720.7729535,
          93487.382816,
          83839.18771099999,
          61390.166697500004,
          53334.5046525,
          39307.991481,
          30440.069344,
          3740.8553075
         ],
         "yaxis": "y"
        },
        {
         "customdata": [
          [
           "Hill'S Science Diet",
           "Hill's Pet Nutrition Science Diet, Grain Free Dry Cat Food, Adult, Sensitive Stomach & Skin, Salmon & Yellow Pea Recipe, 13 lb. Bag"
          ],
          [
           "Hill'S Science Diet",
           "Hill's Pet Nutrition Science Diet, Grain Free Dry Cat Food, Adult, Sensitive Stomach & Skin, Salmon & Yellow Pea Recipe, 13 lb. Bag"
          ],
          [
           "Hill'S Science Diet",
           "Hill's Pet Nutrition Science Diet, Grain Free Dry Cat Food, Adult, Sensitive Stomach & Skin, Salmon & Yellow Pea Recipe, 13 lb. Bag"
          ],
          [
           "Hill'S Pet Nutrition",
           "Hill's Pet Nutrition Science Diet, Grain Free Dry Cat Food, Adult, Sensitive Stomach & Skin, Salmon & Yellow Pea Recipe, 13 lb. Bag"
          ]
         ],
         "hovertemplate": "Short Name=Hill's Pet<br>Number of Reviews=%{x}<br>Revenue ($)=%{y}<br>Brand=%{customdata[0]}<br>Name=%{customdata[1]}<extra></extra>",
         "legendgroup": "Hill's Pet",
         "marker": {
          "color": "#19d3f3",
          "symbol": "circle"
         },
         "mode": "markers",
         "name": "Hill's Pet",
         "orientation": "v",
         "showlegend": true,
         "type": "scatter",
         "x": [
          12934,
          1240,
          12934,
          1168
         ],
         "xaxis": "x",
         "y": [
          583595.331261,
          409312.119464,
          58287.94410100001,
          32515.7008425
         ],
         "yaxis": "y"
        },
        {
         "customdata": [
          [
           "Petsafe",
           "PetSafe Healthy Pet Water Station- Large, 320 oz Capacity- Gravity Cat & Dog Waterer- Removable Stainless Steel Bowl Resists Corrosion & Stands Up to Frequent Use- Easy to Fill- Filter Compatible"
          ],
          [
           "Petsafe",
           "PetSafe Healthy Pet Water Station- Large, 320 oz Capacity- Gravity Cat & Dog Waterer- Removable Stainless Steel Bowl Resists Corrosion & Stands Up to Frequent Use- Easy to Fill- Filter Compatible"
          ],
          [
           "Petsafe",
           "PetSafe Healthy Pet Water Station- Large, 320 oz Capacity- Gravity Cat & Dog Waterer- Removable Stainless Steel Bowl Resists Corrosion & Stands Up to Frequent Use- Easy to Fill- Filter Compatible"
          ],
          [
           "Petsafe",
           "PetSafe Healthy Pet Water Station- Large, 320 oz Capacity- Gravity Cat & Dog Waterer- Removable Stainless Steel Bowl Resists Corrosion & Stands Up to Frequent Use- Easy to Fill- Filter Compatible"
          ],
          [
           "Petsafe",
           "PetSafe Healthy Pet Water Station- Large, 320 oz Capacity- Gravity Cat & Dog Waterer- Removable Stainless Steel Bowl Resists Corrosion & Stands Up to Frequent Use- Easy to Fill- Filter Compatible"
          ]
         ],
         "hovertemplate": "Short Name=PetSafe He<br>Number of Reviews=%{x}<br>Revenue ($)=%{y}<br>Brand=%{customdata[0]}<br>Name=%{customdata[1]}<extra></extra>",
         "legendgroup": "PetSafe He",
         "marker": {
          "color": "#FF6692",
          "symbol": "circle"
         },
         "mode": "markers",
         "name": "PetSafe He",
         "orientation": "v",
         "showlegend": true,
         "type": "scatter",
         "x": [
          28702,
          17416,
          38528,
          28064,
          38390
         ],
         "xaxis": "x",
         "y": [
          505612.5077338091,
          426877.49074112496,
          93317.355955,
          57088.032905,
          35682.49929
         ],
         "yaxis": "y"
        },
        {
         "customdata": [
          [
           "Purina Beyond",
           "PURINA Beyond Chicken, Beef and Carrot and Turkey, Sweet Potato and Spinach in Wet Cat Food Gravy 12 Ct Variety Pack - (12) 3 oz. Cans"
          ],
          [
           "Purina Beyond",
           "PURINA Beyond Chicken, Beef and Carrot and Turkey, Sweet Potato and Spinach in Wet Cat Food Gravy 12 Ct Variety Pack - (12) 3 oz. Cans"
          ],
          [
           "Purina Beyond",
           "PURINA Beyond Chicken, Beef and Carrot and Turkey, Sweet Potato and Spinach in Wet Cat Food Gravy 12 Ct Variety Pack - (12) 3 oz. Cans"
          ],
          [
           "Purina Beyond",
           "PURINA Beyond Chicken, Beef and Carrot and Turkey, Sweet Potato and Spinach in Wet Cat Food Gravy 12 Ct Variety Pack - (12) 3 oz. Cans"
          ]
         ],
         "hovertemplate": "Short Name=PURINA Bey<br>Number of Reviews=%{x}<br>Revenue ($)=%{y}<br>Brand=%{customdata[0]}<br>Name=%{customdata[1]}<extra></extra>",
         "legendgroup": "PURINA Bey",
         "marker": {
          "color": "#B6E880",
          "symbol": "circle"
         },
         "mode": "markers",
         "name": "PURINA Bey",
         "orientation": "v",
         "showlegend": true,
         "type": "scatter",
         "x": [
          306,
          14308,
          3614,
          68
         ],
         "xaxis": "x",
         "y": [
          217969.23724432528,
          177328.38666000002,
          141505.05602674012,
          30107.183176408074
         ],
         "yaxis": "y"
        },
        {
         "customdata": [
          [
           "Purina Fancy Feast",
           "PURINA Fancy Feast Savory Centers Salmon Pate Adult Wet Cat Food With a Gravy Center - 3 oz. Can"
          ],
          [
           "Purina Fancy Feast",
           "PURINA Fancy Feast Savory Centers Salmon Pate Adult Wet Cat Food With a Gravy Center - 3 oz. Can"
          ]
         ],
         "hovertemplate": "Short Name=PURINA Fan<br>Number of Reviews=%{x}<br>Revenue ($)=%{y}<br>Brand=%{customdata[0]}<br>Name=%{customdata[1]}<extra></extra>",
         "legendgroup": "PURINA Fan",
         "marker": {
          "color": "#FF97FF",
          "symbol": "circle"
         },
         "mode": "markers",
         "name": "PURINA Fan",
         "orientation": "v",
         "showlegend": true,
         "type": "scatter",
         "x": [
          939,
          208
         ],
         "xaxis": "x",
         "y": [
          186480.44170296667,
          192.741696
         ],
         "yaxis": "y"
        },
        {
         "customdata": [
          [
           "Squishmallow",
           "Squishmallows Oficial Kellytoy Food Squad Plush Toys Soft Plush Animal (8 Inch, Hayes The Cheeseburger Cat)"
          ]
         ],
         "hovertemplate": "Short Name=Squishmall<br>Number of Reviews=%{x}<br>Revenue ($)=%{y}<br>Brand=%{customdata[0]}<br>Name=%{customdata[1]}<extra></extra>",
         "legendgroup": "Squishmall",
         "marker": {
          "color": "#FECB52",
          "symbol": "circle"
         },
         "mode": "markers",
         "name": "Squishmall",
         "orientation": "v",
         "showlegend": true,
         "type": "scatter",
         "x": [
          1730
         ],
         "xaxis": "x",
         "y": [
          123568.42856375
         ],
         "yaxis": "y"
        },
        {
         "customdata": [
          [
           "Sheba Wet Food",
           "Sheba Wet Food PERFECT PORTIONS Paté Adult Wet Cat Food Trays (24 Count, 48 Servings), Savory Chicken Entrée, Easy Peel Twin-Pack Trays"
          ],
          [
           "Sheba Wet Food",
           "Sheba Wet Food PERFECT PORTIONS Paté Adult Wet Cat Food Trays (24 Count, 48 Servings), Savory Chicken Entrée, Easy Peel Twin-Pack Trays"
          ]
         ],
         "hovertemplate": "Short Name=Sheba Wet <br>Number of Reviews=%{x}<br>Revenue ($)=%{y}<br>Brand=%{customdata[0]}<br>Name=%{customdata[1]}<extra></extra>",
         "legendgroup": "Sheba Wet ",
         "marker": {
          "color": "#636efa",
          "symbol": "circle"
         },
         "mode": "markers",
         "name": "Sheba Wet ",
         "orientation": "v",
         "showlegend": true,
         "type": "scatter",
         "x": [
          3364,
          7319
         ],
         "xaxis": "x",
         "y": [
          37467.803868,
          18747.423536
         ],
         "yaxis": "y"
        },
        {
         "customdata": [
          [
           "Sheba",
           "Sheba Perfect PORTIONS Bistro Wet Cat Food Trays (24 Count, 48 Servings), Salmon in Creamy Sauce Entrée, Easy Peel Twin-Pack Trays"
          ],
          [
           "Sheba",
           "Sheba Perfect PORTIONS Bistro Wet Cat Food Trays (24 Count, 48 Servings), Salmon in Creamy Sauce Entrée, Easy Peel Twin-Pack Trays"
          ],
          [
           "Sheba",
           "Sheba Perfect PORTIONS Cuts in Gravy Wet Cat Food Trays (36 Count, 72 Servings), Roasted Chicken, Signature Tuna and Tender Turkey Entrée, Easy Peel Twin-Pack Trays"
          ]
         ],
         "hovertemplate": "Short Name=Sheba Perf<br>Number of Reviews=%{x}<br>Revenue ($)=%{y}<br>Brand=%{customdata[0]}<br>Name=%{customdata[1]}<extra></extra>",
         "legendgroup": "Sheba Perf",
         "marker": {
          "color": "#EF553B",
          "symbol": "circle"
         },
         "mode": "markers",
         "name": "Sheba Perf",
         "orientation": "v",
         "showlegend": true,
         "type": "scatter",
         "x": [
          1359,
          438,
          613
         ],
         "xaxis": "x",
         "y": [
          16059.282459416041,
          2719.6427519999997,
          1656.871699
         ],
         "yaxis": "y"
        }
       ],
       "layout": {
        "legend": {
         "title": {
          "text": "Short Name"
         },
         "tracegroupgap": 0
        },
        "template": {
         "data": {
          "bar": [
           {
            "error_x": {
             "color": "#2a3f5f"
            },
            "error_y": {
             "color": "#2a3f5f"
            },
            "marker": {
             "line": {
              "color": "#E5ECF6",
              "width": 0.5
             },
             "pattern": {
              "fillmode": "overlay",
              "size": 10,
              "solidity": 0.2
             }
            },
            "type": "bar"
           }
          ],
          "barpolar": [
           {
            "marker": {
             "line": {
              "color": "#E5ECF6",
              "width": 0.5
             },
             "pattern": {
              "fillmode": "overlay",
              "size": 10,
              "solidity": 0.2
             }
            },
            "type": "barpolar"
           }
          ],
          "carpet": [
           {
            "aaxis": {
             "endlinecolor": "#2a3f5f",
             "gridcolor": "white",
             "linecolor": "white",
             "minorgridcolor": "white",
             "startlinecolor": "#2a3f5f"
            },
            "baxis": {
             "endlinecolor": "#2a3f5f",
             "gridcolor": "white",
             "linecolor": "white",
             "minorgridcolor": "white",
             "startlinecolor": "#2a3f5f"
            },
            "type": "carpet"
           }
          ],
          "choropleth": [
           {
            "colorbar": {
             "outlinewidth": 0,
             "ticks": ""
            },
            "type": "choropleth"
           }
          ],
          "contour": [
           {
            "colorbar": {
             "outlinewidth": 0,
             "ticks": ""
            },
            "colorscale": [
             [
              0,
              "#0d0887"
             ],
             [
              0.1111111111111111,
              "#46039f"
             ],
             [
              0.2222222222222222,
              "#7201a8"
             ],
             [
              0.3333333333333333,
              "#9c179e"
             ],
             [
              0.4444444444444444,
              "#bd3786"
             ],
             [
              0.5555555555555556,
              "#d8576b"
             ],
             [
              0.6666666666666666,
              "#ed7953"
             ],
             [
              0.7777777777777778,
              "#fb9f3a"
             ],
             [
              0.8888888888888888,
              "#fdca26"
             ],
             [
              1,
              "#f0f921"
             ]
            ],
            "type": "contour"
           }
          ],
          "contourcarpet": [
           {
            "colorbar": {
             "outlinewidth": 0,
             "ticks": ""
            },
            "type": "contourcarpet"
           }
          ],
          "heatmap": [
           {
            "colorbar": {
             "outlinewidth": 0,
             "ticks": ""
            },
            "colorscale": [
             [
              0,
              "#0d0887"
             ],
             [
              0.1111111111111111,
              "#46039f"
             ],
             [
              0.2222222222222222,
              "#7201a8"
             ],
             [
              0.3333333333333333,
              "#9c179e"
             ],
             [
              0.4444444444444444,
              "#bd3786"
             ],
             [
              0.5555555555555556,
              "#d8576b"
             ],
             [
              0.6666666666666666,
              "#ed7953"
             ],
             [
              0.7777777777777778,
              "#fb9f3a"
             ],
             [
              0.8888888888888888,
              "#fdca26"
             ],
             [
              1,
              "#f0f921"
             ]
            ],
            "type": "heatmap"
           }
          ],
          "heatmapgl": [
           {
            "colorbar": {
             "outlinewidth": 0,
             "ticks": ""
            },
            "colorscale": [
             [
              0,
              "#0d0887"
             ],
             [
              0.1111111111111111,
              "#46039f"
             ],
             [
              0.2222222222222222,
              "#7201a8"
             ],
             [
              0.3333333333333333,
              "#9c179e"
             ],
             [
              0.4444444444444444,
              "#bd3786"
             ],
             [
              0.5555555555555556,
              "#d8576b"
             ],
             [
              0.6666666666666666,
              "#ed7953"
             ],
             [
              0.7777777777777778,
              "#fb9f3a"
             ],
             [
              0.8888888888888888,
              "#fdca26"
             ],
             [
              1,
              "#f0f921"
             ]
            ],
            "type": "heatmapgl"
           }
          ],
          "histogram": [
           {
            "marker": {
             "pattern": {
              "fillmode": "overlay",
              "size": 10,
              "solidity": 0.2
             }
            },
            "type": "histogram"
           }
          ],
          "histogram2d": [
           {
            "colorbar": {
             "outlinewidth": 0,
             "ticks": ""
            },
            "colorscale": [
             [
              0,
              "#0d0887"
             ],
             [
              0.1111111111111111,
              "#46039f"
             ],
             [
              0.2222222222222222,
              "#7201a8"
             ],
             [
              0.3333333333333333,
              "#9c179e"
             ],
             [
              0.4444444444444444,
              "#bd3786"
             ],
             [
              0.5555555555555556,
              "#d8576b"
             ],
             [
              0.6666666666666666,
              "#ed7953"
             ],
             [
              0.7777777777777778,
              "#fb9f3a"
             ],
             [
              0.8888888888888888,
              "#fdca26"
             ],
             [
              1,
              "#f0f921"
             ]
            ],
            "type": "histogram2d"
           }
          ],
          "histogram2dcontour": [
           {
            "colorbar": {
             "outlinewidth": 0,
             "ticks": ""
            },
            "colorscale": [
             [
              0,
              "#0d0887"
             ],
             [
              0.1111111111111111,
              "#46039f"
             ],
             [
              0.2222222222222222,
              "#7201a8"
             ],
             [
              0.3333333333333333,
              "#9c179e"
             ],
             [
              0.4444444444444444,
              "#bd3786"
             ],
             [
              0.5555555555555556,
              "#d8576b"
             ],
             [
              0.6666666666666666,
              "#ed7953"
             ],
             [
              0.7777777777777778,
              "#fb9f3a"
             ],
             [
              0.8888888888888888,
              "#fdca26"
             ],
             [
              1,
              "#f0f921"
             ]
            ],
            "type": "histogram2dcontour"
           }
          ],
          "mesh3d": [
           {
            "colorbar": {
             "outlinewidth": 0,
             "ticks": ""
            },
            "type": "mesh3d"
           }
          ],
          "parcoords": [
           {
            "line": {
             "colorbar": {
              "outlinewidth": 0,
              "ticks": ""
             }
            },
            "type": "parcoords"
           }
          ],
          "pie": [
           {
            "automargin": true,
            "type": "pie"
           }
          ],
          "scatter": [
           {
            "fillpattern": {
             "fillmode": "overlay",
             "size": 10,
             "solidity": 0.2
            },
            "type": "scatter"
           }
          ],
          "scatter3d": [
           {
            "line": {
             "colorbar": {
              "outlinewidth": 0,
              "ticks": ""
             }
            },
            "marker": {
             "colorbar": {
              "outlinewidth": 0,
              "ticks": ""
             }
            },
            "type": "scatter3d"
           }
          ],
          "scattercarpet": [
           {
            "marker": {
             "colorbar": {
              "outlinewidth": 0,
              "ticks": ""
             }
            },
            "type": "scattercarpet"
           }
          ],
          "scattergeo": [
           {
            "marker": {
             "colorbar": {
              "outlinewidth": 0,
              "ticks": ""
             }
            },
            "type": "scattergeo"
           }
          ],
          "scattergl": [
           {
            "marker": {
             "colorbar": {
              "outlinewidth": 0,
              "ticks": ""
             }
            },
            "type": "scattergl"
           }
          ],
          "scattermapbox": [
           {
            "marker": {
             "colorbar": {
              "outlinewidth": 0,
              "ticks": ""
             }
            },
            "type": "scattermapbox"
           }
          ],
          "scatterpolar": [
           {
            "marker": {
             "colorbar": {
              "outlinewidth": 0,
              "ticks": ""
             }
            },
            "type": "scatterpolar"
           }
          ],
          "scatterpolargl": [
           {
            "marker": {
             "colorbar": {
              "outlinewidth": 0,
              "ticks": ""
             }
            },
            "type": "scatterpolargl"
           }
          ],
          "scatterternary": [
           {
            "marker": {
             "colorbar": {
              "outlinewidth": 0,
              "ticks": ""
             }
            },
            "type": "scatterternary"
           }
          ],
          "surface": [
           {
            "colorbar": {
             "outlinewidth": 0,
             "ticks": ""
            },
            "colorscale": [
             [
              0,
              "#0d0887"
             ],
             [
              0.1111111111111111,
              "#46039f"
             ],
             [
              0.2222222222222222,
              "#7201a8"
             ],
             [
              0.3333333333333333,
              "#9c179e"
             ],
             [
              0.4444444444444444,
              "#bd3786"
             ],
             [
              0.5555555555555556,
              "#d8576b"
             ],
             [
              0.6666666666666666,
              "#ed7953"
             ],
             [
              0.7777777777777778,
              "#fb9f3a"
             ],
             [
              0.8888888888888888,
              "#fdca26"
             ],
             [
              1,
              "#f0f921"
             ]
            ],
            "type": "surface"
           }
          ],
          "table": [
           {
            "cells": {
             "fill": {
              "color": "#EBF0F8"
             },
             "line": {
              "color": "white"
             }
            },
            "header": {
             "fill": {
              "color": "#C8D4E3"
             },
             "line": {
              "color": "white"
             }
            },
            "type": "table"
           }
          ]
         },
         "layout": {
          "annotationdefaults": {
           "arrowcolor": "#2a3f5f",
           "arrowhead": 0,
           "arrowwidth": 1
          },
          "autotypenumbers": "strict",
          "coloraxis": {
           "colorbar": {
            "outlinewidth": 0,
            "ticks": ""
           }
          },
          "colorscale": {
           "diverging": [
            [
             0,
             "#8e0152"
            ],
            [
             0.1,
             "#c51b7d"
            ],
            [
             0.2,
             "#de77ae"
            ],
            [
             0.3,
             "#f1b6da"
            ],
            [
             0.4,
             "#fde0ef"
            ],
            [
             0.5,
             "#f7f7f7"
            ],
            [
             0.6,
             "#e6f5d0"
            ],
            [
             0.7,
             "#b8e186"
            ],
            [
             0.8,
             "#7fbc41"
            ],
            [
             0.9,
             "#4d9221"
            ],
            [
             1,
             "#276419"
            ]
           ],
           "sequential": [
            [
             0,
             "#0d0887"
            ],
            [
             0.1111111111111111,
             "#46039f"
            ],
            [
             0.2222222222222222,
             "#7201a8"
            ],
            [
             0.3333333333333333,
             "#9c179e"
            ],
            [
             0.4444444444444444,
             "#bd3786"
            ],
            [
             0.5555555555555556,
             "#d8576b"
            ],
            [
             0.6666666666666666,
             "#ed7953"
            ],
            [
             0.7777777777777778,
             "#fb9f3a"
            ],
            [
             0.8888888888888888,
             "#fdca26"
            ],
            [
             1,
             "#f0f921"
            ]
           ],
           "sequentialminus": [
            [
             0,
             "#0d0887"
            ],
            [
             0.1111111111111111,
             "#46039f"
            ],
            [
             0.2222222222222222,
             "#7201a8"
            ],
            [
             0.3333333333333333,
             "#9c179e"
            ],
            [
             0.4444444444444444,
             "#bd3786"
            ],
            [
             0.5555555555555556,
             "#d8576b"
            ],
            [
             0.6666666666666666,
             "#ed7953"
            ],
            [
             0.7777777777777778,
             "#fb9f3a"
            ],
            [
             0.8888888888888888,
             "#fdca26"
            ],
            [
             1,
             "#f0f921"
            ]
           ]
          },
          "colorway": [
           "#636efa",
           "#EF553B",
           "#00cc96",
           "#ab63fa",
           "#FFA15A",
           "#19d3f3",
           "#FF6692",
           "#B6E880",
           "#FF97FF",
           "#FECB52"
          ],
          "font": {
           "color": "#2a3f5f"
          },
          "geo": {
           "bgcolor": "white",
           "lakecolor": "white",
           "landcolor": "#E5ECF6",
           "showlakes": true,
           "showland": true,
           "subunitcolor": "white"
          },
          "hoverlabel": {
           "align": "left"
          },
          "hovermode": "closest",
          "mapbox": {
           "style": "light"
          },
          "paper_bgcolor": "white",
          "plot_bgcolor": "#E5ECF6",
          "polar": {
           "angularaxis": {
            "gridcolor": "white",
            "linecolor": "white",
            "ticks": ""
           },
           "bgcolor": "#E5ECF6",
           "radialaxis": {
            "gridcolor": "white",
            "linecolor": "white",
            "ticks": ""
           }
          },
          "scene": {
           "xaxis": {
            "backgroundcolor": "#E5ECF6",
            "gridcolor": "white",
            "gridwidth": 2,
            "linecolor": "white",
            "showbackground": true,
            "ticks": "",
            "zerolinecolor": "white"
           },
           "yaxis": {
            "backgroundcolor": "#E5ECF6",
            "gridcolor": "white",
            "gridwidth": 2,
            "linecolor": "white",
            "showbackground": true,
            "ticks": "",
            "zerolinecolor": "white"
           },
           "zaxis": {
            "backgroundcolor": "#E5ECF6",
            "gridcolor": "white",
            "gridwidth": 2,
            "linecolor": "white",
            "showbackground": true,
            "ticks": "",
            "zerolinecolor": "white"
           }
          },
          "shapedefaults": {
           "line": {
            "color": "#2a3f5f"
           }
          },
          "ternary": {
           "aaxis": {
            "gridcolor": "white",
            "linecolor": "white",
            "ticks": ""
           },
           "baxis": {
            "gridcolor": "white",
            "linecolor": "white",
            "ticks": ""
           },
           "bgcolor": "#E5ECF6",
           "caxis": {
            "gridcolor": "white",
            "linecolor": "white",
            "ticks": ""
           }
          },
          "title": {
           "x": 0.05
          },
          "xaxis": {
           "automargin": true,
           "gridcolor": "white",
           "linecolor": "white",
           "ticks": "",
           "title": {
            "standoff": 15
           },
           "zerolinecolor": "white",
           "zerolinewidth": 2
          },
          "yaxis": {
           "automargin": true,
           "gridcolor": "white",
           "linecolor": "white",
           "ticks": "",
           "title": {
            "standoff": 15
           },
           "zerolinecolor": "white",
           "zerolinewidth": 2
          }
         }
        },
        "title": {
         "text": "Review Count vs. Revenue Correlation by Product"
        },
        "xaxis": {
         "anchor": "y",
         "domain": [
          0,
          1
         ],
         "title": {
          "text": "Number of Reviews"
         },
         "type": "log"
        },
        "yaxis": {
         "anchor": "x",
         "domain": [
          0,
          1
         ],
         "title": {
          "text": "Revenue ($)"
         },
         "type": "log"
        }
       }
      },
      "text/html": [
       "<div>                            <div id=\"fc5e28fc-bc5f-41b5-8297-229e6cc3122f\" class=\"plotly-graph-div\" style=\"height:525px; width:100%;\"></div>            <script type=\"text/javascript\">                require([\"plotly\"], function(Plotly) {                    window.PLOTLYENV=window.PLOTLYENV || {};                                    if (document.getElementById(\"fc5e28fc-bc5f-41b5-8297-229e6cc3122f\")) {                    Plotly.newPlot(                        \"fc5e28fc-bc5f-41b5-8297-229e6cc3122f\",                        [{\"customdata\":[[\"Purina Fancy Feast\",\"Purina Fancy Feast Grilled Wet Cat Food Seafood Collection in Wet Cat Food Variety Pack - (24) 3 oz. Cans\"],[\"Purina Fancy Feast\",\"Purina Fancy Feast Grilled Wet Cat Food Seafood Collection in Wet Cat Food Variety Pack - (24) 3 oz. Cans\"],[\"Purina Fancy Feast\",\"Purina Fancy Feast Grilled - (24) 3 oz. Cans\"],[\"Purina Fancy Feast\",\"Purina Fancy Feast Dry Cat Food, with Savory Chicken & Turkey - 12 lb with Fancy Feast Natural Wet Cat Food Variety Pack, Gourmet Naturals Poultry & Beef Collection - (30) 3 oz. Cans\"],[\"Purina Fancy Feast\",\"Purina Fancy Feast Wet Cat Food Variety Pack Gourmet Naturals - (30) 3 oz. Cans\"],[\"Purina Fancy Feast\",\"Purina Fancy Feast Grilled - (24) 3 oz. Cans\"],[\"Purina Fancy Feast\",\"Purina Fancy Feast Wet Cat Food, Flaked Tuna & Mackerel Feast - (24) 3 oz. Cans\"],[\"Purina Fancy Feast\",\"Purina Fancy Feast Gravy Lovers - (24) 3 oz. Cans\"],[\"Purina Fancy Feast\",\"Purina Fancy Feast Gravy Wet Cat Food Variety Pack, Gravy Lovers Poultry & Beef - (30) 3 oz. Cans\"],[\"Purina Fancy Feast\",\"Purina Fancy Feast Gourmet Wet Cat Food Variety Pack, Petites - (24) 2.8 oz. Tubs\"],[\"Purina Fancy Feast\",\"Purina Fancy Feast Tender Beef Feast Classic Grain Free Wet Cat Food Pate - (24) 3 oz. Cans\"],[\"Purina Fancy Feast\",\"Purina Fancy Feast Gravy Wet Cat Food Variety Pack, Gravy Lovers Poultry & Beef - (30) 3 oz. Cans\"],[\"Purina Fancy Feast\",\"Purina Fancy Feast Wet Cat Food, Medleys Shredded Wild Salmon Fare With Spinach in a Savory Cat Food Broth - (24) 3 Oz. Cans\"],[\"Purina Fancy Feast\",\"Purina Fancy Feast Wet Cat Food, Flaked Tuna & Mackerel Feast - (24) 3 oz. Cans\"],[\"Purina Fancy Feast\",\"Purina Fancy Feast Pate Wet Cat Food, Medleys Whitefish & Tuna Florentine With Cheese - (24) 3 oz. Cans\"],[\"Purina Fancy Feast\",\"Purina Fancy Feast Wet Cat Food Variety Pack Gourmet Naturals Seafood - (30) 3 oz. Cans\"],[\"Purina Fancy Feast\",\"Purina Fancy Feast Grilled Gravy Wet Cat Food Variety Pack, Seafood & Poultry Grilled Collection - (30) 3 oz. Cans\"],[\"Purina Fancy Feast\",\"Purina Fancy Feast Grilled Wet Cat Food Seafood Collection in Wet Cat Food Variety Pack - (24) 3 oz. Cans\"],[\"Purina Fancy Feast\",\"Purina Fancy Feast Dry Cat Food with Savory Chicken and Turkey - 12 lb. Bag\"],[\"Purina Fancy Feast\",\"Purina Fancy Feast Wet Cat Food, Flaked Tuna & Mackerel Feast - (24) 3 oz. Cans\"],[\"Purina Fancy Feast\",\"Purina Fancy Feast Gravy Lovers - (24) 3 oz. Cans\"],[\"Purina Fancy Feast\",\"Purina Fancy Feast Pate Wet Cat Food Variety Pack, Savory Centers - (2 Packs of 12) 3 oz. Pull-Top Cans\"],[\"Purina Fancy Feast\",\"Purina Fancy Feast Grilled - (24) 3 oz. Cans\"],[\"Purina Fancy Feast\",\"Purina Fancy Feast Grain Free, Natural Pate Wet Cat Food, Gourmet Naturals Plus Coconut Milk, Trout & Tuna Recipe - (24) 3 oz. Cans\"],[\"Purina Fancy Feast\",\"Purina Fancy Feast Gravy Lovers - (24) 3 oz. Cans\"],[\"Purina Fancy Feast\",\"Purina Fancy Feast Grilled Wet Cat Food Seafood Collection in Wet Cat Food Variety Pack - (24) 3 oz. Cans\"],[\"Purina Fancy Feast\",\"Purina Fancy Feast Gourmet Wet Cat Food Variety Pack, Petites - (24) 2.8 oz. Tubs\"],[\"Purina Fancy Feast\",\"Purina Fancy Feast Grilled Gravy Wet Cat Food, Delights Grilled Tuna & Cheddar Cheese Feast - (24) 3 oz. Cans\"],[\"Purina Fancy Feast\",\"Purina Fancy Feast Savory Centers - (24) 3 oz. Cans\"],[\"Purina Fancy Feast\",\"Purina Fancy Feast Wet Cat Food Variety Pack Gourmet Naturals - (30) 3 oz. Cans\"],[\"Purina Fancy Feast\",\"Purina Fancy Feast Grilled Wet Cat Food Seafood Collection in Wet Cat Food Variety Pack - (24) 3 oz. Cans\"],[\"Purina Fancy Feast\",\"Purina Fancy Feast Gravy Lovers - (24) 3 oz. Cans\"],[\"Purina Fancy Feast\",\"Purina Fancy Feast Tender Beef Feast Classic Grain Free Wet Cat Food Pate - (24) 3 oz. Cans\"],[\"Purina Fancy Feast\",\"Purina Fancy Feast Grilled - (24) 3 oz. Cans\"],[\"Purina Fancy Feast\",\"Purina Fancy Feast Pate Wet Cat Food Variety Pack, Savory Centers - (2 Packs of 12) 3 oz. Pull-Top Cans\"],[\"Purina Fancy Feast\",\"Purina Fancy Feast Grilled - (24) 3 oz. Cans\"],[\"Purina Fancy Feast\",\"Purina Fancy Feast Grilled - (24) 3 oz. Cans\"],[\"Purina Fancy Feast\",\"Purina Fancy Feast Grilled - (24) 3 oz. Cans\"],[\"Purina Fancy Feast\",\"Purina Fancy Feast Wet Cat Food, Medleys Shredded Wild Salmon Fare With Spinach in a Savory Cat Food Broth - (24) 3 Oz. Cans\"],[\"Purina Fancy Feast\",\"Purina Fancy Feast Grilled Wet Cat Food Seafood Collection in Wet Cat Food Variety Pack - (24) 3 oz. Cans\"],[\"Purina Fancy Feast\",\"Purina Fancy Feast Grilled Wet Cat Food Seafood Collection in Wet Cat Food Variety Pack - (24) 3 oz. Cans\"],[\"Purina Fancy Feast\",\"Purina Fancy Feast Tender Beef Feast Classic Grain Free Wet Cat Food Pate - (24) 3 oz. Cans\"],[\"Purina Fancy Feast\",\"Purina Fancy Feast Grilled - (24) 3 oz. Cans\"],[\"Purina Fancy Feast\",\"Purina Fancy Feast Pate Wet Cat Food Variety Pack, Savory Centers - (2 Packs of 12) 3 oz. Pull-Top Cans\"],[\"Purina Fancy Feast\",\"Purina Fancy Feast Savory Centers - (24) 3 oz. Cans\"],[\"Purina Fancy Feast\",\"Purina Fancy Feast Gravy Wet Cat Food Variety Pack, Gravy Lovers Poultry & Beef - (30) 3 oz. Cans\"],[\"Purina\",\"Purina Fancy Feast Grilled - (24) 3 oz. Cans\"],[\"Purina Fancy Feast\",\"Purina Fancy Feast Grilled Gravy Wet Cat Food, Delights Grilled Tuna & Cheddar Cheese Feast - (24) 3 oz. Cans\"],[\"Purina Fancy Feast\",\"Purina Fancy Feast Grain Free, Natural Pate Wet Cat Food, Gourmet Naturals Plus Coconut Milk Chicken Recipe - (24) 3 oz. Cans\"],[\"Purina Fancy Feast\",\"Purina Fancy Feast Cat Food Medleys - (24) 3 oz. Cans\"],[\"Purina Fancy Feast\",\"Purina Fancy Feast Dry Cat Food with Savory Chicken and Turkey - 12 lb. Bag\"],[\"Purina Fancy Feast\",\"Purina Fancy Feast Gravy Wet Cat Food Variety Pack, Gravy Lovers Poultry & Beef - (30) 3 oz. Cans\"],[\"Purina Fancy Feast\",\"Purina Fancy Feast Wet Cat Food Variety Pack Gourmet Naturals Seafood - (30) 3 oz. Cans\"],[\"Purina Fancy Feast\",\"Purina Fancy Feast Wet Cat Food, Flaked Tuna & Mackerel Feast - (24) 3 oz. Cans\"],[\"Purina Fancy Feast\",\"Purina Fancy Feast Wet Cat Food Medleys - (24) 3 oz. Cans\"],[\"Purina Fancy Feast\",\"Purina Fancy Feast Wet Cat Food, Flaked Tuna & Mackerel Feast - (24) 3 oz. Cans\"],[\"Purina Fancy Feast\",\"Purina Fancy Feast Cat Food Medleys - (24) 3 oz. Cans\"],[\"Purina Fancy Feast\",\"Purina Fancy Feast Cat Food Medleys - (24) 3 oz. Cans\"],[\"Purina Fancy Feast\",\"Purina Fancy Feast Tender Beef Feast Classic Grain Free Wet Cat Food Pate - (24) 3 oz. Cans\"],[\"Purina Fancy Feast\",\"Purina Fancy Feast Savory Centers - (24) 3 oz. Cans\"],[\"Purina Fancy Feast\",\"Purina Fancy Feast Grilled - (24) 3 oz. Cans\"],[\"Purina Fancy Feast\",\"Purina Fancy Feast Gourmet Wet Cat Food Variety Pack, Petites - (24) 2.8 oz. Tubs\"],[\"Purina Fancy Feast\",\"Purina Fancy Feast High Protein Senior - (24) 3 oz. Cans\"],[\"Purina Fancy Feast\",\"Purina Fancy Feast Chicken and Beef Classic Pate - (24) 3 oz. Pull-Top Cans\"],[\"Purina Fancy Feast\",\"Purina Fancy Feast Wet Cat Food Medleys - (24) 3 oz. Cans\"],[\"Purina Fancy Feast\",\"Purina Fancy Feast Gravy Lovers - (24) 3 oz. Cans\"],[\"Purina Fancy Feast\",\"Purina Fancy Feast Grilled - (24) 3 oz. Cans\"],[\"Purina Fancy Feast\",\"Purina Fancy Feast Wet Cat Food Variety Pack, Chicken Feast Collection - (24) 3 oz. Cans\"],[\"Purina Fancy Feast\",\"Purina Fancy Feast Dry Cat Food with Savory Chicken and Turkey - 12 lb. Bag\"],[\"Purina Fancy Feast\",\"Purina Fancy Feast Grilled - (24) 3 oz. Cans\"],[\"Purina Fancy Feast\",\"Purina Fancy Feast Savory Centers - (24) 3 oz. Cans\"],[\"Purina Fancy Feast\",\"Purina Fancy Feast Wet Cat Food, Flaked Tuna & Mackerel Feast - (24) 3 oz. Cans\"],[\"Purina Fancy Feast\",\"Purina Fancy Feast Grilled Gravy Wet Cat Food, Delights Grilled Tuna & Cheddar Cheese Feast - (24) 3 oz. Cans\"],[\"Purina Fancy Feast\",\"Purina Fancy Feast Grilled - (24) 3 oz. Cans\"],[\"Purina Fancy Feast\",\"Purina Fancy Feast Grilled Gravy Wet Cat Food Variety Pack, Poultry & Beef Grilled Collection - (30) 3 oz. Cans\"],[\"Purina Fancy Feast\",\"Purina Fancy Feast Dry Cat Food, with Savory Chicken & Turkey - 12 lb with Fancy Feast Natural Wet Cat Food Variety Pack, Gourmet Naturals Poultry & Beef Collection - (30) 3 oz. Cans\"]],\"hovertemplate\":\"Short Name=Purina Fan\\u003cbr\\u003eNumber of Reviews=%{x}\\u003cbr\\u003eRevenue ($)=%{y}\\u003cbr\\u003eBrand=%{customdata[0]}\\u003cbr\\u003eName=%{customdata[1]}\\u003cextra\\u003e\\u003c\\u002fextra\\u003e\",\"legendgroup\":\"Purina Fan\",\"marker\":{\"color\":\"#636efa\",\"symbol\":\"circle\"},\"mode\":\"markers\",\"name\":\"Purina Fan\",\"orientation\":\"v\",\"showlegend\":true,\"x\":[143890,42030,2182,3,22660,35836,22765,58992,5364,4849,51836,55256,26001,5283,25833,21617,18352,33459,20784,7350,44495,8659,147079,39745,49304,66840,5895,4179,1173,1115,38104,58665,12984,72374,24432,1150,143890,28655,12435,44291,112851,13189,3689,15272,773,1296,2022,569,233,2880,1305,16701,2810,468,1076,7578,319,5129,3051,264,12902,565,21673,2825,43386,32789,5467,1971,3182,6616,1169,1764,945,14359,852,2],\"xaxis\":\"x\",\"y\":[18339631.180380464,16876327.60039282,5899598.915750246,5584392.010578087,5556600.516477984,4199063.989888364,4148983.0592978187,4037299.5801838897,3164427.329578329,2895692.5025376324,2790458.6171859168,2303668.10264,1576042.1630565834,1327461.63971625,1259140.0269761668,1170268.5895473084,1093673.435680692,937278.993291,890384.415205,818555.53700625,800299.3296371,779182.9081238334,774972.3954994375,501288.01916252123,435399.3464465,340937.4311174015,300465.745045,293227.79013618146,250910.46193859412,229286.32661411606,223110.70246000003,208458.787253,194814.82479775,182929.81722684053,170245.474155,142637.061438,137063.87175375002,136884.3809865,133102.605124,128324.685816,125836.03344,123916.16371200001,113084.367199,92921.642937,86274.80362825,74020.24794900001,73504.71036000001,55656.394965249994,54548.371177999994,49314.57089775,49214.97174975,47076.49813199999,31413.384775000002,30649.652792,28041.134851500006,27118.861368,25685.263237,24674.244451,23521.365960000003,21667.131656,19026.420408,17563.4001,17412.42438,16336.965968999999,15214.773145,11296.95928,9494.13975075,8006.672464306118,7506.7327005,5821.6851835,3380.151804,2704.4416944999994,2698.9046949999997,1590.964462,622.689436,0.012581999999999998],\"yaxis\":\"y\",\"type\":\"scatter\"},{\"customdata\":[[\"Purina One\",\"Purina ONE Natural Dry Cat Food, Tender Selects Blend With Real Salmon - 16 lb. Bag\"],[\"Purina One\",\"Purina ONE High Protein Dry Cat Food, +Plus Urinary Tract Health Formula - 16 lb. Bag\"],[\"Purina One\",\"Purina ONE Sensitive Stomach, Sensitive Skin, Natural Dry Cat Food, +Plus Sensitive Skin and Stomach Formula - 16 lb. Bag\"],[\"Purina One\",\"Purina ONE Sensitive Stomach, Sensitive Skin, Natural Dry Cat Food, +Plus Sensitive Skin and Stomach Formula - 16 lb. Bag\"],[\"Purina One\",\"Purina ONE Natural Dry Cat Food, Tender Selects Blend With Real Chicken - 16 Lb. Bag\"],[\"Purina One\",\"Purina ONE Sensitive Stomach, Sensitive Skin, Natural Dry Cat Food, +Plus Sensitive Skin and Stomach Formula - 16 lb. Bag\"],[\"Purina One\",\"Purina ONE High Protein Dry Cat Food, +Plus Urinary Tract Health Formula - 16 lb. Bag\"],[\"Purina One\",\"Purina ONE Sensitive Stomach, Sensitive Skin, Natural Dry Cat Food, +Plus Sensitive Skin and Stomach Formula - 16 lb. Bag\"],[\"Purina One\",\"Purina ONE Natural, Senior Dry cat Food and Wet cat Food, Indoor Advantage Bundle Pack\"],[\"Purina One\",\"Purina ONE Natural, Low Fat, Weight Control, Indoor Dry Cat Food, +Plus Indoor Advantage - 22 lb. Bag\"],[\"Purina One\",\"Purina ONE Natural, Low Fat, Weight Control, Indoor Dry Cat Food, +Plus Indoor Advantage - 22 lb. Bag\"]],\"hovertemplate\":\"Short Name=Purina ONE\\u003cbr\\u003eNumber of Reviews=%{x}\\u003cbr\\u003eRevenue ($)=%{y}\\u003cbr\\u003eBrand=%{customdata[0]}\\u003cbr\\u003eName=%{customdata[1]}\\u003cextra\\u003e\\u003c\\u002fextra\\u003e\",\"legendgroup\":\"Purina ONE\",\"marker\":{\"color\":\"#EF553B\",\"symbol\":\"circle\"},\"mode\":\"markers\",\"name\":\"Purina ONE\",\"orientation\":\"v\",\"showlegend\":true,\"x\":[28796,14750,39523,18478,28784,7867,14204,20477,1,5798,9747],\"xaxis\":\"x\",\"y\":[16496897.722157411,4593228.29969265,4358838.521979666,1441038.3896885,815573.9036187499,366375.878658,297245.03587229166,135918.576976,76174.35544799999,54624.038448,48947.786834],\"yaxis\":\"y\",\"type\":\"scatter\"},{\"customdata\":[[\"Friskies\",\"Purina Friskies Wet Cat Food Variety Pack, YUMbelievaBOX YUM-credible Surprises - (40) 5.5 oz. Pull-Top Cans\"],[\"Friskies\",\"Purina Friskies Wet Cat Food Variety Pack, Oceans of Delight Flaked & Prime Filets - 5.5 Ounce (Pack of 40)\"],[\"Friskies\",\"Purina Friskies Wet Cat Food Pate - (40) 5.5 oz. Cans\"],[\"Purina\",\"Purina Friskies Wet Cat Food Variety Pack, Shreds - (40) 5.5 oz. Cans\"],[\"Friskies\",\"Purina Friskies Wet Cat Food Variety Pack, Oceans of Delight Flaked & Prime Filets - 5.5 Ounce (Pack of 40)\"],[\"Friskies\",\"Purina Friskies Gravy Wet Cat Food , Poultry Shreds - (32) 5.5 oz. Cans\"],[\"Friskies\",\"Purina Friskies Gravy Wet Cat Food Variety Pack, TurChicken - (40) 5.5 oz. Cans\"],[\"Friskies\",\"Purina Friskies Gravy Wet Cat Food , Poultry Shreds - (32) 5.5 oz. Cans\"],[\"Friskies\",\"Purina Friskies Grain Free Wet Cat Food Lickable Cat Treats Variety Pack, Lil' Soups With Salmon, Tuna or Shrimp - (30) 1.2 oz. Cups\"],[\"Friskies\",\"Purina Friskies Gravy Wet Cat Food Variety Pack, TurChicken - (40) 5.5 oz. Cans\"],[\"Friskies\",\"Purina Friskies Dry Cat Food, Seafood Sensations - 6.3 lb. Bag\"],[\"Purina\",\"Purina Friskies Wet Cat Food Variety Pack, Shreds - (40) 5.5 oz. Cans\"],[\"Friskies\",\"Purina Friskies Gravy Wet Cat Food Variety Pack, TurChicken - (40) 5.5 oz. Cans\"],[\"Purina\",\"Purina Friskies Wet Cat Food Variety Pack, Shreds - (40) 5.5 oz. Cans\"],[\"Friskies\",\"Purina Friskies Grain Free Wet Cat Food Lickable Cat Treats Variety Pack, Lil' Soups With Salmon, Tuna or Shrimp - (30) 1.2 oz. Cups\"],[\"Friskies\",\"Purina Friskies Indoor Wet Cat Food Variety Pack, YUMbelievaBOX YUM-stoppable Indoor Adventures - (40) 5.5 oz. Pull-Top Cans\"],[\"Friskies\",\"Purina Friskies Gravy Wet Cat Food , Poultry Shreds - (32) 5.5 oz. Cans\"],[\"Friskies\",\"Purina Friskies Gravy Wet Cat Food Variety Pack, TurChicken - (40) 5.5 oz. Cans\"],[\"Friskies\",\"Purina Friskies Wet Cat Food Variety Pack, Oceans of Delight Flaked & Prime Filets - 5.5 Ounce (Pack of 40)\"],[\"Friskies\",\"Purina Friskies Gravy Wet Cat Food Variety Pack, TurChicken - (40) 5.5 oz. Cans\"],[\"Friskies\",\"Purina Friskies Gravy Wet Cat Food Variety Pack, TurChicken - (40) 5.5 oz. Cans\"],[\"Friskies\",\"Purina Friskies Wet Cat Food Variety Pack, Oceans of Delight Flaked & Prime Filets - 5.5 Ounce (Pack of 40)\"],[\"Friskies\",\"Purina Friskies Gravy Wet Cat Food Variety Pack, TurChicken - (40) 5.5 oz. Cans\"],[\"Friskies\",\"Purina Friskies Indoor Wet Cat Food Variety Pack, YUMbelievaBOX YUM-stoppable Indoor Adventures - (40) 5.5 oz. Pull-Top Cans\"],[\"Friskies\",\"Purina Friskies Indoor Wet Cat Food Variety Pack, YUMbelievaBOX YUM-stoppable Indoor Adventures - (40) 5.5 oz. Pull-Top Cans\"],[\"Friskies\",\"Purina Friskies Wet Cat Food Pate - (40) 5.5 oz. Cans\"],[\"Friskies\",\"Purina Friskies Grain Free Wet Cat Food Lickable Cat Treats Variety Pack, Lil' Soups With Salmon, Tuna or Shrimp - (30) 1.2 oz. Cups\"],[\"Friskies\",\"Purina Friskies Wet Cat Food Variety Pack, YUMbelievaBOX YUM-credible Surprises - (40) 5.5 oz. Pull-Top Cans\"],[\"Friskies\",\"Purina Friskies Grain Free Wet Cat Food Lickable Cat Treats Variety Pack, Lil' Soups With Salmon, Tuna or Shrimp - (30) 1.2 oz. Cups\"],[\"Friskies\",\"Purina Friskies Gravy Wet Cat Food Variety Pack, TurChicken - (40) 5.5 oz. Cans\"],[\"Friskies\",\"Purina Friskies Dry Cat Food, Seafood Sensations - (12) 16.2 oz. Boxes\"],[\"Friskies\",\"Purina Friskies Gravy Wet Cat Food Variety Pack, Prime Filets & Shreds Turkey & Chicken Favorites - (40) 5.5 oz. Cans\"],[\"Friskies\",\"Purina Friskies Gravy Wet Cat Food Variety Pack, TurChicken - (40) 5.5 oz. Cans\"],[\"Friskies\",\"Purina Friskies Indoor Wet Cat Food Variety Pack, YUMbelievaBOX YUM-stoppable Indoor Adventures - (40) 5.5 oz. Pull-Top Cans\"],[\"Friskies\",\"Purina Friskies Gravy Wet Cat Food Variety Pack, TurChicken - (40) 5.5 oz. Cans\"],[\"Friskies\",\"Purina Friskies Wet Cat Food Variety Pack, YUMbelievaBOX YUM-Sational Treasures - (40) 5.5 Oz. Pull-Top Cans\"],[\"Friskies\",\"Purina Friskies Gravy Wet Cat Food Variety Pack, TurChicken - (40) 5.5 oz. Cans\"],[\"Friskies\",\"Purina Friskies Pate Wet Cat Food, Picky Pack Turkey & Giblets Dinner - (24) 5.5 oz. Cans\"],[\"Friskies\",\"Purina Friskies Wet Cat Food Variety Pack, YUMbelievaBOX YUM-Sational Treasures - (40) 5.5 Oz. Pull-Top Cans\"],[\"Friskies\",\"Purina Friskies Dry Cat Food, Seafood Sensations - 6.3 lb. Bag\"],[\"Friskies\",\"Purina Friskies Gravy Wet Cat Food Variety Pack, YUMbelievaBOX YUM-azing Extra Gravy Chunky - (40) 5.5 oz. Pull-Top Cans\"],[\"Friskies\",\"Purina Friskies Gravy Wet Cat Food Variety Pack, TurChicken - (40) 5.5 oz. Cans\"],[\"Friskies\",\"Purina Friskies Pate Wet Cat Food, Picky Pack Turkey & Giblets Dinner - (24) 5.5 oz. Cans\"],[\"Friskies\",\"Purina Friskies Wet Cat Food Variety Pack, YUMbelievaBOX YUM-credible Surprises - (40) 5.5 oz. Pull-Top Cans\"]],\"hovertemplate\":\"Short Name=Purina Fri\\u003cbr\\u003eNumber of Reviews=%{x}\\u003cbr\\u003eRevenue ($)=%{y}\\u003cbr\\u003eBrand=%{customdata[0]}\\u003cbr\\u003eName=%{customdata[1]}\\u003cextra\\u003e\\u003c\\u002fextra\\u003e\",\"legendgroup\":\"Purina Fri\",\"marker\":{\"color\":\"#00cc96\",\"symbol\":\"circle\"},\"mode\":\"markers\",\"name\":\"Purina Fri\",\"orientation\":\"v\",\"showlegend\":true,\"x\":[1221,31378,27389,17127,17835,101223,7411,30430,4618,8331,2435,15934,65009,16581,980,31758,32067,85911,74508,17203,10425,24758,27523,1649,1208,25306,3868,3736,1523,12577,161,3506,17614,1205,10995,1392,23450,181,1453,109,1765,28515,178,4122],\"xaxis\":\"x\",\"y\":[12979132.402431898,9365286.588409875,5570579.355375,3374470.4003774063,3160017.0035643335,2487745.5097954273,1677287.4786282917,1597712.0073839999,1541531.2945985,1283713.4891193334,1132952.473123499,977775.7150525001,807961.676883,789820.1609261667,710345.984358,669702.617447,346800.12270300003,226299.4166915,196860.6053,173829.54511036063,142386.373861,100627.942236,97628.011088,70271.38220875,61200.494079,53548.43974,45383.7955705,38535.1024555,27324.145,23174.552425,22407.80779112507,15647.641281366426,13603.707995499992,12824.021540249998,7098.731019000001,3985.3983200000002,3491.3288100000004,3001.244726,1587.7376669999999,992.3753320059682,725.6032190000001,689.2377660000001,263.75756,34.44066],\"yaxis\":\"y\",\"type\":\"scatter\"},{\"customdata\":[[\"Sheba\",\"SHEBA PERFECT PORTIONS Pat\\u00e9 Adult Wet Cat Food Trays (24 Count, 48 Servings), Savory Chicken, Roasted Turkey, and Tender Beef Entr\\u00e9e, Easy Peel Twin-Pack Trays\"],[\"Sheba\",\"SHEBA PERFECT PORTIONS Cuts in Gravy Adult Wet Cat Food Trays (24 Count (pack of 2), 48 Servings), Roasted Chicken, Gourmet Salmon and Tender Turkey Entr\\u00e9e, Easy Peel Twin-Pack Trays\"],[\"Sheba Wet Food\",\"SHEBA PERFECT PORTIONS Pat\\u00e9 Adult Wet Cat Food Trays (24 Count, 48 Servings), Savory Chicken and Roasted Turkey Entr\\u00e9e, Easy Peel Twin-Pack Trays\"],[\"Sheba\",\"SHEBA PERFECT PORTIONS Cuts in Gravy Adult Wet Cat Food Trays (24 Count, 48 Servings), Gourmet Salmon, Sustainable Tuna, And Delicate Whitefish & Tuna Entr\\u00e9e, Easy Peel Twin-Pack\"],[\"Sheba\",\"SHEBA PERFECT PORTIONS Cuts in Gravy Adult Wet Cat Food Trays (24 Count (pack of 2), 48 Servings), Roasted Chicken, Gourmet Salmon and Tender Turkey Entr\\u00e9e, Easy Peel Twin-Pack Trays\"],[\"Sheba\",\"SHEBA PERFECT PORTIONS Cuts in Gravy Adult Wet Cat Food Trays (24 Count, 48 Servings), Gourmet Salmon, Sustainable Tuna, And Delicate Whitefish & Tuna Entr\\u00e9e, Easy Peel Twin-Pack\"],[\"Sheba\",\"SHEBA PERFECT PORTIONS Pat\\u00e9 Adult Wet Cat Food Trays (24 Count, 48 Servings), Savory Chicken, Roasted Turkey, and Tender Beef Entr\\u00e9e, Easy Peel Twin-Pack Trays\"],[\"Sheba\",\"SHEBA PERFECT PORTIONS Cuts in Gravy Adult Wet Cat Food Trays (24 Count, 48 Servings), Gourmet Salmon, Sustainable Tuna, And Delicate Whitefish & Tuna Entr\\u00e9e, Easy Peel Twin-Pack\"],[\"Sheba\",\"SHEBA PERFECT PORTIONS Cuts in Gravy Adult Wet Cat Food Trays, Roasted Chicken, Gourmet Salmon, and Sustainable Tuna Entr\\u00e9e, Easy Peel Twin-Pack - 18 Count (Pack of 2)\"],[\"Sheba\",\"SHEBA PERFECT PORTIONS Cuts in Gravy Wet Cat Food Trays (24 Count, 48 Servings), Roasted Chicken Entr\\u00e9e, Easy Peel Twin-Pack Trays\"],[\"Sheba\",\"SHEBA PERFECT PORTIONS Pat\\u00e9 Adult Wet Cat Food Trays (24 Count, 48 Servings), Savory Chicken, Roasted Turkey, and Tender Beef Entr\\u00e9e, Easy Peel Twin-Pack Trays\"],[\"Sheba\",\"SHEBA PERFECT PORTIONS Cuts in Gravy Wet Cat Food Trays (24 Count, 48 Servings), Mixed Grill Entr\\u00e9e, Easy Peel Twin-Pack Trays, 2.6 Ounce (Pack of 24)\"],[\"Sheba\",\"SHEBA PERFECT PORTIONS Cuts in Gravy Wet Cat Food Trays (24 Count, 48 Servings), Mixed Grill Entr\\u00e9e, Easy Peel Twin-Pack Trays, 2.6 Ounce (Pack of 24)\"],[\"Sheba\",\"SHEBA PERFECT PORTIONS Cuts in Gravy Wet Cat Food Trays (24 Count, 48 Servings), Gourmet Salmon & Seafood Entr\\u00e9e, Easy Peel Twin-Pack Trays\"]],\"hovertemplate\":\"Short Name=SHEBA PERF\\u003cbr\\u003eNumber of Reviews=%{x}\\u003cbr\\u003eRevenue ($)=%{y}\\u003cbr\\u003eBrand=%{customdata[0]}\\u003cbr\\u003eName=%{customdata[1]}\\u003cextra\\u003e\\u003c\\u002fextra\\u003e\",\"legendgroup\":\"SHEBA PERF\",\"marker\":{\"color\":\"#ab63fa\",\"symbol\":\"circle\"},\"mode\":\"markers\",\"name\":\"SHEBA PERF\",\"orientation\":\"v\",\"showlegend\":true,\"x\":[62410,23377,63073,44758,17418,37436,13027,90925,2971,3218,14666,9836,652,349],\"xaxis\":\"x\",\"y\":[11790318.604968794,8011898.668820358,7582000.876917575,5486370.282125468,344836.210841,267577.92619,201691.231266,100448.14329200001,97460.11832400001,32858.52196,17326.391946,3043.095994443282,750.15432,5.076],\"yaxis\":\"y\",\"type\":\"scatter\"},{\"customdata\":[[\"Iams\",\"IAMS PROACTIVE HEALTH Adult Indoor Weight Control & Hairball Care Dry Cat Food with Chicken & Turkey Cat Kibble, 7 lb. Bag\"],[\"Iams\",\"IAMS PROACTIVE HEALTH Adult Healthy Dry Cat Food with Chicken Cat Kibble, 22 lb. Bag\"],[\"Iams\",\"IAMS PROACTIVE HEALTH Adult Urinary Tract Healthy Dry Cat Food with Chicken Cat Kibble, 16 lb. Bag\"],[\"Iams\",\"IAMS PROACTIVE HEALTH Adult Healthy Dry Cat Food with Salmon Cat Kibble, 16 lb. Bag\"],[\"Iams\",\"IAMS PROACTIVE HEALTH Adult Urinary Tract Healthy Dry Cat Food with Chicken Cat Kibble, 16 lb. Bag\"],[\"Iams\",\"IAMS PROACTIVE HEALTH Adult Healthy Dry Cat Food with Chicken Cat Kibble, 22 lb. Bag\"],[\"Iams\",\"IAMS PROACTIVE HEALTH Adult Healthy Dry Cat Food with Salmon Cat Kibble, 16 lb. Bag\"]],\"hovertemplate\":\"Short Name=IAMS PROAC\\u003cbr\\u003eNumber of Reviews=%{x}\\u003cbr\\u003eRevenue ($)=%{y}\\u003cbr\\u003eBrand=%{customdata[0]}\\u003cbr\\u003eName=%{customdata[1]}\\u003cextra\\u003e\\u003c\\u002fextra\\u003e\",\"legendgroup\":\"IAMS PROAC\",\"marker\":{\"color\":\"#FFA15A\",\"symbol\":\"circle\"},\"mode\":\"markers\",\"name\":\"IAMS PROAC\",\"orientation\":\"v\",\"showlegend\":true,\"x\":[36878,20139,11695,20139,10761,14723,14723],\"xaxis\":\"x\",\"y\":[10218460.580630884,4462422.81695425,3762806.4374171966,3303754.6700389967,123785.34418612499,58671.077785999994,55675.558731],\"yaxis\":\"y\",\"type\":\"scatter\"},{\"customdata\":[[\"Hill'S Science Diet\",\"Hill's Science Diet Dry Cat Food, Adult, Sensitive Stomach & Skin\"],[\"Hill'S Science Diet\",\"Hill's Science Diet Dry Cat Food, Adult, Perfect Weight for Weight Management, Chicken Recipe, 7 lb. Bag\"],[\"Hill'S Science Diet\",\"Hill's Science Diet Dry Cat Food,Adult,Urinary & Hairball Control,Chicken Recipe,15.5 lb Bag with Wet Cat Food,Adult,Urinary & Hairball Control,Savory Chicken Recipe,2.9 oz Cans,24-pack\"],[\"Hill'S Science Diet\",\"Hill's Science Diet Adult Indoor Cat Food, Chicken Recipe Dry Cat Food, 7 lb. Bag\"],[\"Hill'S Science Diet\",\"Hill's Science Diet Dry Cat Food, Adult, Perfect Weight for Weight Management, Chicken Recipe, 7 lb. Bag\"],[\"Hill'S Science Diet\",\"Hill's Science Diet Adult Indoor Cat Food, Chicken Recipe Dry Cat Food, 7 lb. Bag\"],[\"Hill'S Science Diet\",\"Hill's Science Diet Dry Cat Food, Adult, Urinary & Hairball Control, Chicken Recipe, 15.5 lb. Bag\"],[\"Hill'S Science Diet\",\"Hill's Science Diet Dry Cat Food, Adult, Sensitive Stomach & Skin, Chicken & Rice Recipe, 7 lb Bag\"],[\"Hill'S Science Diet\",\"Hill's Science Diet Dry Cat Food, Adult, Sensitive Stomach & Skin, Chicken & Rice Recipe, 7 lb Bag\"],[\"Hill'S Science Diet\",\"Hill's Science Diet Dry Cat Food, Adult, Sensitive Stomach & Skin, Chicken & Rice Recipe, 3.5 lb. Bag\"],[\"Hill'S Science Diet\",\"Hill's Science Diet Dry Cat Food, Adult, Perfect Weight for Weight Management, Chicken Recipe, 7 lb. Bag\"],[\"Hill'S Science Diet\",\"Hill's Science Diet Adult Indoor Cat Food, Chicken Recipe Dry Cat Food\"],[\"Hill'S Science Diet\",\"Hill's Science Diet Adult Indoor Cat Food, Chicken Recipe Dry Cat Food\"],[\"Hill'S Pet Nutrition\",\"Hill's Science Diet Dry Cat Food, Adult, Sensitive Stomach & Skin, Chicken & Rice Recipe, 7 lb Bag\"],[\"Hill'S Science Diet\",\"Hill's Science Diet Dry Cat Food, Adult, Urinary & Hairball Control, Chicken Recipe, 15.5 lb. Bag\"],[\"Hill'S Science Diet\",\"Hill's Science Diet Adult Indoor Cat Food, Chicken Recipe Dry Cat Food\"],[\"Hill'S Pet Nutrition\",\"Hill's Science Diet Dry Cat Food, Adult, Sensitive Stomach & Skin, Chicken & Rice Recipe, 7 lb Bag\"],[\"Hill'S Science Diet\",\"Hill's Science Diet Dry Cat Food, Adult, Urinary & Hairball Control, Chicken Recipe, 15.5 lb. Bag\"],[\"Hill'S Pet Nutrition\",\"Hill's Science Diet Dry Cat Food, Adult, Sensitive Stomach & Skin, Chicken & Rice Recipe, 3.5 lb. Bag\"],[\"Hill'S Pet Nutrition\",\"Hill's Science Diet Dry Cat Food, Adult, Sensitive Stomach & Skin\"],[\"Hill'S Pet Nutrition\",\"Hill's Science Diet Dry Cat Food, Adult, Sensitive Stomach & Skin, Chicken & Rice Recipe, 7 lb Bag\"],[\"Hill'S Pet Nutrition\",\"Hill's Science Diet Dry Cat Food, Adult, Sensitive Stomach & Skin, Chicken & Rice Recipe, 3.5 lb. Bag\"],[\"Hill'S Science Diet\",\"Hill's Science Diet Dry Cat Food, Adult, Sensitive Stomach & Skin, Chicken & Rice Recipe, 3.5 lb. Bag\"],[\"Hill'S Science Diet\",\"Hill's Science Diet Dry Cat Food, Adult, Sensitive Stomach & Skin, Chicken & Rice Recipe, 7 lb Bag\"],[\"Hill'S Science Diet\",\"Hill's Science Diet Dry Cat Food, Adult, Sensitive Stomach & Skin, Chicken & Rice Recipe, 7 lb Bag\"],[\"Hill'S Science Diet\",\"Hill's Science Diet Dry Cat Food, Adult, Urinary & Hairball Control, Chicken Recipe, 15.5 lb. Bag\"],[\"Hill'S Science Diet\",\"Hill's Science Diet Dry Cat Food, Adult, Urinary & Hairball Control, Chicken Recipe, 15.5 lb. Bag\"],[\"Hill'S Science Diet\",\"Hill's Science Diet Adult Indoor Cat Food, Chicken Recipe Dry Cat Food\"],[\"Hill'S Science Diet\",\"Hill's Science Diet Adult Indoor Cat Food, Chicken Recipe Dry Cat Food\"],[\"Hill'S Science Diet\",\"Hill's Science Diet Dry Cat Food, Adult, Sensitive Stomach & Skin, Chicken & Rice Recipe, 7 lb Bag\"],[\"Hill'S Science Diet\",\"Hill's Science Diet Dry Cat Food, Adult, Sensitive Stomach & Skin, Chicken & Rice Recipe, 7 lb Bag\"],[\"Hill'S Science Diet\",\"Hill's Science Diet Dry Cat Food, Adult, Urinary & Hairball Control, Chicken Recipe, 15.5 lb. Bag\"],[\"Hill'S Science Diet\",\"Hill's Science Diet Adult Indoor Chicken Recipe Dry Cat Food, 15.5 lb. Bag\"],[\"Hill'S Science Diet\",\"Hill's Science Diet Adult Indoor Cat Food, Chicken Recipe Dry Cat Food, 7 lb. Bag\"]],\"hovertemplate\":\"Short Name=Hill's Sci\\u003cbr\\u003eNumber of Reviews=%{x}\\u003cbr\\u003eRevenue ($)=%{y}\\u003cbr\\u003eBrand=%{customdata[0]}\\u003cbr\\u003eName=%{customdata[1]}\\u003cextra\\u003e\\u003c\\u002fextra\\u003e\",\"legendgroup\":\"Hill's Sci\",\"marker\":{\"color\":\"#19d3f3\",\"symbol\":\"circle\"},\"mode\":\"markers\",\"name\":\"Hill's Sci\",\"orientation\":\"v\",\"showlegend\":true,\"x\":[30,11627,7742,13220,12111,13837,12693,12867,12661,3864,10582,13934,13922,12998,12141,13837,13170,12416,11871,12860,11320,11341,3293,12555,4440,11342,11453,12660,12629,8442,12378,11462,12668,12668],\"xaxis\":\"x\",\"y\":[8618953.605551405,4448349.7152700005,3945430.3834565156,3402967.4274560693,2677923.291397,2514960.62817125,2488489.60560325,1136791.9477758845,1117686.9212862626,1106395.875391,734231.873008,583177.3069348033,576605.3233223184,479683.25383025,375881.4048332,305748.847692,279913.98857850005,254820.93155375,167778.61637653847,135830.64497516345,133768.30596025,128524.74289307692,128512.96519086929,111148.74415319231,84398.187321,61828.019648,42822.3830095,33870.390851,33691.607796,26322.17972376923,22352.540140000005,17922.322446000002,16112.476860000002,7412.33535],\"yaxis\":\"y\",\"type\":\"scatter\"},{\"customdata\":[[\"Meow Mix\",\"Meow Mix Original Choice Dry Cat Food, 22 Pound Bag\"],[\"Meow Mix\",\"Meow Mix Original Choice Dry Cat Food, 16 Pound Bag\"]],\"hovertemplate\":\"Short Name=Meow Mix O\\u003cbr\\u003eNumber of Reviews=%{x}\\u003cbr\\u003eRevenue ($)=%{y}\\u003cbr\\u003eBrand=%{customdata[0]}\\u003cbr\\u003eName=%{customdata[1]}\\u003cextra\\u003e\\u003c\\u002fextra\\u003e\",\"legendgroup\":\"Meow Mix O\",\"marker\":{\"color\":\"#FF6692\",\"symbol\":\"circle\"},\"mode\":\"markers\",\"name\":\"Meow Mix O\",\"orientation\":\"v\",\"showlegend\":true,\"x\":[42267,42267],\"xaxis\":\"x\",\"y\":[8048555.926101333,103845.208052],\"yaxis\":\"y\",\"type\":\"scatter\"},{\"customdata\":[[\"Purina One\",\"PURINA ONE Natural, Low Fat, Weight Control, Indoor Dry Cat Food, +Plus Indoor Advantage - 16 lb. Bag\"],[\"Purina One\",\"PURINA ONE Natural, Low Fat, Weight Control, Indoor Dry Cat Food, +Plus Indoor Advantage - 16 lb. Bag\"],[\"Purina One\",\"PURINA ONE Natural, Low Fat, Weight Control, Indoor Dry Cat Food, +Plus Indoor Advantage - 16 lb. Bag\"]],\"hovertemplate\":\"Short Name=PURINA ONE\\u003cbr\\u003eNumber of Reviews=%{x}\\u003cbr\\u003eRevenue ($)=%{y}\\u003cbr\\u003eBrand=%{customdata[0]}\\u003cbr\\u003eName=%{customdata[1]}\\u003cextra\\u003e\\u003c\\u002fextra\\u003e\",\"legendgroup\":\"PURINA ONE\",\"marker\":{\"color\":\"#B6E880\",\"symbol\":\"circle\"},\"mode\":\"markers\",\"name\":\"PURINA ONE\",\"orientation\":\"v\",\"showlegend\":true,\"x\":[6676,22828,8172],\"xaxis\":\"x\",\"y\":[7420298.154929326,1735150.2316959999,66259.19455999999],\"yaxis\":\"y\",\"type\":\"scatter\"},{\"customdata\":[[\"Orijen\",\"ORIJEN GUARDIAN 8 Dry Cat Food, Grain Free Cat Food for Adult Cats, With Chicken, Salmon and Rabbit, 10lb\"],[\"Orijen\",\"ORIJEN GUARDIAN 8 Dry Cat Food, Grain Free Cat Food for Adult Cats, With Chicken, Salmon and Rabbit, 10lb\"],[\"Orijen\",\"ORIJEN GUARDIAN 8 Dry Cat Food, Grain Free Cat Food for Adult Cats, With Chicken, Salmon and Rabbit, 10lb\"],[\"Orijen\",\"ORIJEN GUARDIAN 8 Dry Cat Food, Grain Free Cat Food for Adult Cats, With Chicken, Salmon and Rabbit, 10lb\"]],\"hovertemplate\":\"Short Name=ORIJEN GUA\\u003cbr\\u003eNumber of Reviews=%{x}\\u003cbr\\u003eRevenue ($)=%{y}\\u003cbr\\u003eBrand=%{customdata[0]}\\u003cbr\\u003eName=%{customdata[1]}\\u003cextra\\u003e\\u003c\\u002fextra\\u003e\",\"legendgroup\":\"ORIJEN GUA\",\"marker\":{\"color\":\"#FF97FF\",\"symbol\":\"circle\"},\"mode\":\"markers\",\"name\":\"ORIJEN GUA\",\"orientation\":\"v\",\"showlegend\":true,\"x\":[5691,6524,6254,5288],\"xaxis\":\"x\",\"y\":[6147031.022635125,282471.27980811655,228356.46897003334,156418.95288483333],\"yaxis\":\"y\",\"type\":\"scatter\"},{\"customdata\":[[\"Blue Buffalo\",\"Blue Buffalo Cat Food, Natural Chicken Recipe, Wilderness High Protein, Adult Dry Cat Food, 12 lb bag\"],[\"Blue Buffalo\",\"Blue Buffalo Tastefuls Sensitive Stomach Natural Adult Dry Cat Food, Chicken 15lb bag\"],[\"Blue Buffalo\",\"Blue Buffalo Wilderness High Protein, Natural Adult Dry Cat Food, Chicken 6-lb\"],[\"Blue Buffalo\",\"Blue Buffalo Wilderness High Protein Grain Free, Natural Adult Pate Wet Cat Food, Chicken 5.5-oz cans (Pack of 24)\"],[\"Blue Buffalo\",\"Blue Buffalo Tastefuls Natural Pate Wet Cat Food, Turkey & Chicken Entr\\u00e9e 5.5-oz cans (Pack of 24)\"],[\"Blue Buffalo\",\"Blue Buffalo Wilderness High Protein Grain Free, Natural Kitten Pate Wet Cat Food Variety Pack, Chicken, Salmon, 3-oz Can, 24 Count\"],[\"Blue Buffalo\",\"Blue Buffalo Cat Food, Natural Chicken Recipe, Wilderness High Protein, Adult Dry Cat Food, 12 lb bag\"],[\"Blue Buffalo\",\"Blue Buffalo Wilderness High Protein, Natural Grain Free Kitten Food Bundle, Dry Cat Food and Wet Cat Food, Chicken (5-lb Dry Food + 3oz cans 24ct)\"],[\"Blue Buffalo\",\"Blue Buffalo Tastefuls Natural Flaked Wet Cat Food, Chicken Entr\\u00e9e in Gravy 5.5-oz cans (Pack of 24)\"],[\"Blue Buffalo\",\"Blue Buffalo Wilderness High Protein, Natural Adult Dry Cat Food, Chicken 6-lb\"],[\"Blue Buffalo\",\"Blue Buffalo Tastefuls Natural Flaked Wet Cat Food Bundle, Flaked Chicken and Tuna 3-oz cans (48 Count- 24 of Each Flavor)\"],[\"Blue Buffalo\",\"Blue Buffalo Wilderness High Protein Grain Free, Natural Adult Pate Wet Cat Food, Turkey 5.5-oz cans (Pack of 24)\"],[\"Blue Buffalo\",\"Blue Buffalo Tastefuls Natural Pate Wet Cat Food, Turkey & Chicken Entr\\u00e9e 5.5-oz cans (Pack of 24)\"],[\"Blue Buffalo\",\"Blue Buffalo Cat Food, Natural Chicken Recipe, Wilderness High Protein, Adult Dry Cat Food, 12 lb bag\"],[\"Blue Buffalo\",\"Blue Buffalo Wilderness High Protein Grain Free, Natural Adult Pate Wet Cat Food, Chicken 5.5-oz cans (Pack of 24)\"],[\"Blue Buffalo\",\"Blue Buffalo Wilderness High Protein Grain Free, Natural Adult Pate Wet Cat Food, Chicken 5.5-oz cans (Pack of 24)\"],[\"Blue Buffalo\",\"Blue Buffalo Wilderness High Protein, Natural Adult Dry Cat Food, Chicken 6-lb\"],[\"Blue Buffalo\",\"Blue Buffalo Wilderness High Protein, Natural Adult Dry Cat Food, Chicken 6-lb\"],[\"Blue Buffalo\",\"Blue Buffalo Tastefuls Indoor Natural Adult Dry Cat Food, Chicken 15lb bag\"],[\"Blue Buffalo\",\"Blue Buffalo Wilderness High Protein, Natural Adult Dry Cat Food, Chicken 6-lb\"],[\"Blue Buffalo\",\"Blue Buffalo Tastefuls Indoor Natural Adult Dry Cat Food, Chicken 15lb bag\"],[\"Blue Buffalo\",\"Blue Buffalo Tastefuls Natural Pate Wet Cat Food, Turkey & Chicken Entr\\u00e9e 5.5-oz cans (Pack of 24)\"],[\"Blue Buffalo\",\"Blue Buffalo Cat Food, Natural Chicken Recipe, Wilderness High Protein, Adult Dry Cat Food, 12 lb bag\"],[\"Blue Buffalo\",\"Blue Buffalo Wilderness High Protein, Natural Adult Dry Cat Food, Chicken 6-lb\"],[\"Blue Buffalo\",\"Blue Buffalo Cat Food, Natural Chicken Recipe, Wilderness High Protein, Adult Dry Cat Food, 12 lb bag\"],[\"Blue Buffalo\",\"Blue Buffalo Wilderness High Protein, Natural Adult Dry Cat Food, Duck 11-lb\"],[\"Blue Buffalo\",\"Blue Buffalo Tastefuls Natural Flaked Wet Cat Food, Salmon Entr\\u00e9e in Gravy 3-oz cans (Pack of 24)\"],[\"Blue Buffalo\",\"Blue Buffalo Wilderness High Protein, Natural Adult Dry Cat Food, Chicken 6-lb\"],[\"Blue Buffalo\",\"Blue Buffalo Cat Food, Natural Chicken Recipe, Wilderness High Protein, Adult Dry Cat Food, 12 lb bag\"],[\"Blue Buffalo\",\"Blue Buffalo Cat Food, Natural Chicken Recipe, Wilderness High Protein, Adult Dry Cat Food, 12 lb bag\"],[\"Blue Buffalo\",\"Blue Buffalo Wilderness High Protein, Natural Grain Free Kitten Food Bundle, Dry Cat Food and Wet Cat Food, Chicken (5-lb Dry Food + 3oz cans 24ct)\"],[\"Blue Buffalo\",\"Blue Buffalo Tastefuls Indoor Natural Adult Dry Cat Food, Chicken 15lb bag\"],[\"Blue Buffalo\",\"Blue Buffalo Tastefuls Natural Flaked Wet Cat Food Bundle, Flaked Chicken and Tuna 3-oz cans (48 Count- 24 of Each Flavor)\"],[\"Blue Buffalo\",\"Blue Buffalo Tastefuls Indoor Natural Adult Dry Cat Food, Chicken 15lb bag\"],[\"Blue Buffalo\",\"Blue Buffalo Cat Food, Natural Chicken Recipe, Wilderness High Protein, Adult Dry Cat Food, 12 lb bag\"],[\"Blue Buffalo\",\"Blue Buffalo Tastefuls Natural Flaked Wet Cat Food Bundle, Flaked Chicken and Tuna 3-oz cans (48 Count- 24 of Each Flavor)\"],[\"Blue Buffalo\",\"Blue Buffalo Tastefuls Natural Flaked Wet Cat Food, Fish & Shrimp Entr\\u00e9e in Gravy 3-oz cans (Pack of 24)\"],[\"Blue Buffalo\",\"Blue Buffalo Tastefuls Sensitive Stomach Natural Adult Dry Cat Food, Chicken 15lb bag\"],[\"Blue Buffalo\",\"Blue Buffalo Tastefuls Natural Flaked Wet Cat Food, Salmon Entr\\u00e9e in Gravy 3-oz cans (Pack of 24)\"],[\"Blue Buffalo\",\"Blue Buffalo Wilderness High Protein, Natural Adult Dry Cat Food, Chicken 6-lb\"],[\"Blue Buffalo\",\"Blue Buffalo Tastefuls Natural Flaked Wet Cat Food Bundle, Flaked Chicken and Tuna 5.5-oz cans (48 Count- 24 of Each Flavor)\"],[\"Blue Buffalo\",\"Blue Buffalo Tastefuls Natural Flaked Wet Cat Food, Chicken Entr\\u00e9e in Gravy 5.5-oz cans (Pack of 24)\"],[\"Blue Buffalo\",\"Blue Buffalo Wilderness High Protein Grain Free, Natural Kitten Pate Wet Cat Food Variety Pack, Chicken, Salmon, 3-oz Can, 24 Count\"]],\"hovertemplate\":\"Short Name=Blue Buffa\\u003cbr\\u003eNumber of Reviews=%{x}\\u003cbr\\u003eRevenue ($)=%{y}\\u003cbr\\u003eBrand=%{customdata[0]}\\u003cbr\\u003eName=%{customdata[1]}\\u003cextra\\u003e\\u003c\\u002fextra\\u003e\",\"legendgroup\":\"Blue Buffa\",\"marker\":{\"color\":\"#FECB52\",\"symbol\":\"circle\"},\"mode\":\"markers\",\"name\":\"Blue Buffa\",\"orientation\":\"v\",\"showlegend\":true,\"x\":[7131,21481,25984,4938,4503,8954,8779,1505,2275,9828,14723,17148,4743,17891,17147,17945,36095,855,33087,17436,13682,4273,16548,9589,7138,17494,10838,17494,8963,8913,8139,5227,8950,13650,17426,1961,333,10494,540,1708,1863,1863,8113],\"xaxis\":\"x\",\"y\":[5217891.6966063995,5023172.355946284,4402311.778025945,2797640.344409146,2600061.507428845,2486861.9477012684,2122530.6223755,1830832.4565882501,1809531.3248970082,1455761.0373141665,1383072.5878793548,1247003.2363379726,992605.1174570001,986075.872445,979436.9395864999,886472.3964137381,427884.65187974996,422715.7362945,377454.98197674996,354979.138644,277184.88718200003,260175.63379975,253558.97991700002,216439.98926899998,139688.66861975,130175.471805,124989.3448835,119026.703924,117230.57451,107468.234496,93436.359645,86010.590084,76511.14328450001,74842.273844,70950.38643000001,57308.6115,52861.180232,17744.126819999998,17724.925746,15687.359796249999,12412.255486,7418.822509999999,6991.361980000001],\"yaxis\":\"y\",\"type\":\"scatter\"},{\"customdata\":[[\"Iris Usa, Inc.\",\"IRIS USA 50Lbs.\\u002f69Qt. WeatherPro Airtight Pet Food Storage Container with Attachable Casters, For Dog Cat Bird and Other Pet Food Storage Bin, Keep Fresh, Translucent Body, Easy Mobility, Black\"],[\"Iris Usa, Inc.\",\"IRIS USA 55qt\\u002f45lbs Premium Airtight Pet Food Storage Container, Smoke\"],[\"Iris Usa, Inc.\",\"IRIS USA 50 Lbs \\u002f 65 Qt WeatherPro Airtight Pet Food Storage Container with Removable Casters, For Dog Cat Bird Keep Pests Out Translucent Body Easy Mobility, Clear\\u002fGray\"],[\"Iris Usa, Inc.\",\"IRIS USA 55qt\\u002f45lbs Premium Airtight Pet Food Storage Container, Smoke\"],[\"Iris\",\"IRIS USA 50 Lbs \\u002f 65 Qt WeatherPro Airtight Pet Food Storage Container with Removable Casters, For Dog Cat Bird Keep Pests Out Translucent Body Easy Mobility, Clear\\u002fGray\"],[\"Iris Usa, Inc.\",\"IRIS USA 50Lbs.\\u002f69Qt. WeatherPro Airtight Pet Food Storage Container with Attachable Casters, For Dog Cat Bird and Other Pet Food Storage Bin, Keep Fresh, Translucent Body, Easy Mobility, Black\"],[\"Iris Usa, Inc.\",\"IRIS USA 55qt\\u002f45lbs Premium Airtight Pet Food Storage Container, Smoke\"],[\"Iris Usa, Inc.\",\"IRIS USA 50 Lbs \\u002f 65 Qt WeatherPro Airtight Pet Food Storage Container with Removable Casters, For Dog Cat Bird Keep Pests Out Translucent Body Easy Mobility, Clear\\u002fGray\"],[\"Iris Usa, Inc.\",\"IRIS USA 55qt\\u002f45lbs Premium Airtight Pet Food Storage Container, Smoke\"],[\"Iris\",\"IRIS USA 50 Lbs \\u002f 65 Qt WeatherPro Airtight Pet Food Storage Container with Removable Casters, For Dog Cat Bird Keep Pests Out Translucent Body Easy Mobility, Clear\\u002fGray\"]],\"hovertemplate\":\"Short Name=IRIS USA 5\\u003cbr\\u003eNumber of Reviews=%{x}\\u003cbr\\u003eRevenue ($)=%{y}\\u003cbr\\u003eBrand=%{customdata[0]}\\u003cbr\\u003eName=%{customdata[1]}\\u003cextra\\u003e\\u003c\\u002fextra\\u003e\",\"legendgroup\":\"IRIS USA 5\",\"marker\":{\"color\":\"#636efa\",\"symbol\":\"circle\"},\"mode\":\"markers\",\"name\":\"IRIS USA 5\",\"orientation\":\"v\",\"showlegend\":true,\"x\":[52751,7616,3595,50635,43543,52811,26814,38926,11094,1938],\"xaxis\":\"x\",\"y\":[4146325.199427,2201854.34137025,1709042.6115508124,1141732.51838425,579738.1706625,209796.1765495,77473.32988,26402.2663115,6146.043598,1411.499008],\"yaxis\":\"y\",\"type\":\"scatter\"},{\"customdata\":[[\"Instinct\",\"Instinct Original Grain Free Recipe with Real Chicken Natural Dry Cat Food, 11 lb. Bag\"],[\"Instinct\",\"Instinct Original Grain Free Real Salmon Recipe Natural Wet Canned Cat Food by Nature's Variety, 3 oz. Cans (Case of 24)\"],[\"Instinct\",\"Instinct Original Grain Free Real Salmon Recipe Natural Wet Canned Cat Food by Nature's Variety, 3 oz. Cans (Case of 24)\"]],\"hovertemplate\":\"Short Name=Instinct O\\u003cbr\\u003eNumber of Reviews=%{x}\\u003cbr\\u003eRevenue ($)=%{y}\\u003cbr\\u003eBrand=%{customdata[0]}\\u003cbr\\u003eName=%{customdata[1]}\\u003cextra\\u003e\\u003c\\u002fextra\\u003e\",\"legendgroup\":\"Instinct O\",\"marker\":{\"color\":\"#EF553B\",\"symbol\":\"circle\"},\"mode\":\"markers\",\"name\":\"Instinct O\",\"orientation\":\"v\",\"showlegend\":true,\"x\":[5939,4568,4498],\"xaxis\":\"x\",\"y\":[4106847.607139555,3454965.55284022,304235.4262657071],\"yaxis\":\"y\",\"type\":\"scatter\"},{\"customdata\":[[\"Iams\",\"Iams Proactive Health Healthy Kitten Dry Cat Food and Grain Free Pat\\u00e9 Wet Cat Food, Chicken Recipes\"],[\"Iams\",\"Iams Proactive Health Healthy Adult Dry Cat Food and Grain Free Pat\\u00e9 Wet Cat Food, Chicken Recipes\"]],\"hovertemplate\":\"Short Name=Iams Proac\\u003cbr\\u003eNumber of Reviews=%{x}\\u003cbr\\u003eRevenue ($)=%{y}\\u003cbr\\u003eBrand=%{customdata[0]}\\u003cbr\\u003eName=%{customdata[1]}\\u003cextra\\u003e\\u003c\\u002fextra\\u003e\",\"legendgroup\":\"Iams Proac\",\"marker\":{\"color\":\"#00cc96\",\"symbol\":\"circle\"},\"mode\":\"markers\",\"name\":\"Iams Proac\",\"orientation\":\"v\",\"showlegend\":true,\"x\":[17125,14722],\"xaxis\":\"x\",\"y\":[4077930.3516500467,98084.272344],\"yaxis\":\"y\",\"type\":\"scatter\"},{\"customdata\":[[\"Purina Pro Plan\",\"Purina Pro Plan Sensitive Skin and Stomach Cat Food, Lamb and Rice Formula - 22 lb. Bag\"],[\"Purina Pro Plan\",\"Purina Pro Plan Urinary Tract - (24) 3 oz. Pull-Top Cans\"],[\"Purina Pro Plan\",\"Purina Pro Plan Urinary Tract Health Chicken Entree in Gravy Cat Food - (24) 3 oz. Pull-Top Cans\"],[\"Purina Pro Plan\",\"Purina Pro Plan High Protein Wet Kitten Food Variety Pack, DEVELOPMENT Kitten Favorites - (24) 3 oz. Cans\"],[\"Purina Pro Plan\",\"Purina Pro Plan Complete Essentials High Protein Cat Food Wet Turkey and Giblets Entree - 5.5 oz. Can\"],[\"Purina Pro Plan\",\"Purina Pro Plan Allergen Reducing, High Protein Cat Food, LIVECLEAR Salmon and Rice Formula - 16 lb. Bag\"],[\"Purina Pro Plan\",\"Purina Pro Plan Allergen Reducing, High Protein Cat Food, LIVECLEAR Chicken and Rice Formula - 7 lb. Bag\"],[\"Purina Pro Plan\",\"Purina Pro Plan High Protein Cat Food Gravy, White Meat Chicken and Vegetable Entree - (24) 3 oz. Pull-Top Cans\"],[\"Purina Pro Plan\",\"Purina Pro Plan Allergen Reducing, High Protein Cat Food, LIVECLEAR Chicken and Rice Formula - 16 lb. Bag\"],[\"Purina Pro Plan\",\"Purina Pro Plan Allergen Reducing, High Protein Cat Food, LIVECLEAR Chicken and Rice Formula - 16 lb. Bag\"],[\"Purina Pro Plan\",\"Purina Pro Plan Sensitive Skin and Stomach Cat Food Wet Pate, Sensitive Skin and Stomach Entree - (24) 3 oz. Pull-Top Cans.\"],[\"Purina Pro Plan\",\"Purina Pro Plan Allergen Reducing, High Protein Cat Food, LIVECLEAR Chicken and Rice Formula - 16 lb. Bag\"],[\"Purina Pro Plan\",\"Purina Pro Plan Urinary Tract Health Chicken Entree in Gravy Cat Food - (24) 3 oz. Pull-Top Cans\"],[\"Purina Pro Plan\",\"Purina Pro Plan Complete Essentials High Protein Cat Food Wet Turkey and Giblets Entree - 5.5 oz. Can\"],[\"Purina Pro Plan\",\"Purina Pro Plan Allergen Reducing, High Protein Cat Food, LIVECLEAR Salmon and Rice Formula - 16 lb. Bag\"],[\"Purina Pro Plan\",\"Purina Pro Plan Urinary Tract - (24) 3 oz. Pull-Top Cans\"],[\"Purina Pro Plan\",\"Purina Pro Plan Complete Essentials High Protein Cat Food Wet Turkey and Giblets Entree - 5.5 oz. Can\"],[\"Purina Pro Plan\",\"Purina Pro Plan Allergen Reducing, High Protein Cat Food, LIVECLEAR Salmon and Rice Formula - 16 lb. Bag\"],[\"Purina Pro Plan\",\"Purina Pro Plan High Protein Cat Food Gravy, White Meat Chicken and Vegetable Entree - (24) 3 oz. Pull-Top Cans\"],[\"Purina Pro Plan\",\"Purina Pro Plan High Protein Cat Food Gravy, White Meat Chicken and Vegetable Entree - (24) 3 oz. Pull-Top Cans\"],[\"Purina Pro Plan\",\"Purina Pro Plan Grain Free Pate Wet Kitten Food, Chicken Entree - 3 oz. Pull-Top Can\"],[\"Purina Pro Plan\",\"Purina Pro Plan Complete Essentials - (24) 5.5 oz. Pull-Top Cans\"],[\"Purina Pro Plan\",\"Purina Pro Plan Urinary Tract Cat Food, Urinary Tract Health Wet Cat Food Variety Pack Entrees - (24) 3 oz. Cans\"],[\"Purina Pro Plan\",\"Purina Pro Plan Urinary Tract - (24) 3 oz. Pull-Top Cans\"],[\"Purina Pro Plan\",\"Purina Pro Plan Urinary Tract - (24) 3 oz. Pull-Top Cans\"],[\"Purina Pro Plan\",\"Purina Pro Plan Urinary Cat Food, Wet Cat Food Variety Pack, Urinary Tract - (48) 3 oz. Cans\"],[\"Purina Pro Plan\",\"Purina Pro Plan Urinary Tract - (24) 3 oz. Cans\"],[\"Purina Pro Plan\",\"Purina Pro Plan Urinary Tract - (24) 3 oz. Pull-Top Cans\"],[\"Purina Pro Plan\",\"Purina Pro Plan Urinary Tract Cat Food, Urinary Tract Health Wet Cat Food Variety Pack Entrees - (24) 3 oz. Cans\"],[\"Purina Pro Plan\",\"Purina Pro Plan Complete Essentials High Protein Cat Food Wet Turkey and Giblets Entree - 5.5 oz. Can\"],[\"Purina Pro Plan\",\"Purina Pro Plan High Protein Wet Kitten Food Variety Pack, DEVELOPMENT Kitten Favorites - (2 Packs of 12) 3 oz. Cans\"],[\"Purina Pro Plan\",\"Purina Pro Plan Grain Free Pate Wet Kitten Food, Chicken Entree - 3 oz. Pull-Top Can\"],[\"Purina Pro Plan\",\"Purina Pro Plan Urinary Tract Cat Food, Urinary Tract Health Wet Cat Food Variety Pack Entrees - (24) 3 oz. Cans\"],[\"Purina Pro Plan\",\"Purina Pro Plan Sensitive Skin and Stomach Cat Food, Lamb and Rice Formula - 16 lb. Bag\"],[\"Purina Pro Plan\",\"Purina Pro Plan Urinary Tract Cat Food, Wet Cat Food Variety Pack, Urinary Tract Health Entrees - (36) 3 oz. Cans\"],[\"Purina Pro Plan\",\"Purina Pro Plan High Protein Cat Food Gravy, White Meat Chicken and Vegetable Entree - (24) 3 oz. Pull-Top Cans\"],[\"Purina Pro Plan\",\"Purina Pro Plan Grain Free, Pate, High Protein Wet Kitten Food, DEVELOPMENT Entree - (24) 3 oz. Pull-Top Cans\"],[\"Purina Pro Plan\",\"Purina Pro Plan Grain Free, Pate, High Protein Wet Kitten Food, DEVELOPMENT Entree - (24) 3 oz. Pull-Top Cans\"],[\"Purina Pro Plan\",\"Purina Pro Plan Urinary Tract Health Chicken Entree in Gravy Cat Food - (24) 3 oz. Pull-Top Cans\"],[\"Purina Pro Plan\",\"Purina Pro Plan Urinary Tract - (24) 3 oz. Cans\"],[\"Purina Pro Plan\",\"Purina Pro Plan Complete Essentials - (24) 5.5 oz. Pull-Top Cans\"],[\"Purina Pro Plan\",\"Purina Pro Plan High Protein Cat Food Gravy, White Meat Chicken and Vegetable Entree - (24) 3 oz. Pull-Top Cans\"],[\"Purina Pro Plan\",\"Purina Pro Plan High Protein Cat Food Gravy, White Meat Chicken and Vegetable Entree - (24) 3 oz. Pull-Top Cans\"],[\"Purina Pro Plan\",\"Purina Pro Plan Urinary Tract - (2 Packs of 12) 3 oz. Cans\"],[\"Purina Pro Plan\",\"Purina Pro Plan Urinary Cat Food, Wet Cat Food Variety Pack, Urinary Tract - (48) 3 oz. Cans\"],[\"Purina Pro Plan\",\"Purina Pro Plan Complete Essentials High Protein Cat Food Wet Turkey and Giblets Entree - 5.5 oz. Can\"],[\"Purina Pro Plan\",\"Purina Pro Plan Urinary Tract Cat Food, Wet Cat Food Variety Pack, Urinary Tract Health Entrees - (36) 3 oz. Cans\"],[\"Purina Pro Plan\",\"Purina Pro Plan Urinary Tract Cat Food, Urinary Tract Health Wet Cat Food Variety Pack Entrees - (24) 3 oz. Cans\"],[\"Purina Pro Plan\",\"Purina Pro Plan Complete Essentials High Protein Cat Food Wet Turkey and Giblets Entree - 5.5 oz. Can\"],[\"Purina Pro Plan\",\"Purina Pro Plan Grain Free, Pate, High Protein Wet Kitten Food, DEVELOPMENT Entree - (24) 3 oz. Pull-Top Cans\"],[\"Purina Pro Plan\",\"Purina Pro Plan Sensitive Skin and Stomach Cat Food Wet Pate, Sensitive Skin and Stomach Entree - (24) 3 oz. Pull-Top Cans.\"],[\"Purina Pro Plan\",\"Purina Pro Plan High Protein Wet Kitten Food Variety Pack, DEVELOPMENT Kitten Favorites - (2 Packs of 12) 3 oz. Cans\"],[\"Purina Pro Plan\",\"Purina Pro Plan Complete Essentials - (24) 5.5 oz. Pull-Top Cans\"]],\"hovertemplate\":\"Short Name=Purina Pro\\u003cbr\\u003eNumber of Reviews=%{x}\\u003cbr\\u003eRevenue ($)=%{y}\\u003cbr\\u003eBrand=%{customdata[0]}\\u003cbr\\u003eName=%{customdata[1]}\\u003cextra\\u003e\\u003c\\u002fextra\\u003e\",\"legendgroup\":\"Purina Pro\",\"marker\":{\"color\":\"#ab63fa\",\"symbol\":\"circle\"},\"mode\":\"markers\",\"name\":\"Purina Pro\",\"orientation\":\"v\",\"showlegend\":true,\"x\":[1438,3988,7929,228,540,3343,2070,632,4583,2070,2647,2014,4465,5373,1489,2093,9963,527,3228,7234,8209,4957,1362,4191,803,794,668,3984,1341,202,6192,430,5439,3167,544,214,212,215,3976,1942,343,245,7611,445,156,1332,537,1848,531,215,3368,1176,2389],\"xaxis\":\"x\",\"y\":[3853044.998820146,3767898.0123691466,3598047.2047964167,2580250.1703895833,2560233.8256083042,2513340.1463099997,884697.7987668333,839258.6025258406,822769.05494725,822116.3272565,794499.7596600001,750471.78060075,735844.3184252168,679296.048864,306665.8584805,241487.3821835,232440.011677,225911.16264886488,225715.29254400003,224935.32039510697,182683.55965550002,174249.4202975,146513.84001800002,127886.45378400001,125368.28310700001,120850.90084725001,116532.283326,104982.687408,102468.69050425,82176.910992,77004.04601250001,76184.53003200001,72065.93789175,66549.87432,59295.770087,56470.937424,56163.93715500001,52588.42219525,50359.678846,40631.997879,29145.836398000003,27947.988480000004,27322.96595296154,25304.377866,23382.466490000003,17640.458092999997,17185.110045,13456.5674555,6435.020592000001,5638.37592,5049.189432,5021.41874,2157.4919040000004],\"yaxis\":\"y\",\"type\":\"scatter\"},{\"customdata\":[[\"Hoki Found\",\"Hoki Found XX-Large Silicone Pet Food Mats Tray - Non Slip Pet Dog Cat Bowl Mats Placemat - Dog Pet Cat Feeding Mat - Waterproof Dog Cat Food Mats -Pet Water Mats for Carpet -Cream Brown\"]],\"hovertemplate\":\"Short Name=Hoki Found\\u003cbr\\u003eNumber of Reviews=%{x}\\u003cbr\\u003eRevenue ($)=%{y}\\u003cbr\\u003eBrand=%{customdata[0]}\\u003cbr\\u003eName=%{customdata[1]}\\u003cextra\\u003e\\u003c\\u002fextra\\u003e\",\"legendgroup\":\"Hoki Found\",\"marker\":{\"color\":\"#FFA15A\",\"symbol\":\"circle\"},\"mode\":\"markers\",\"name\":\"Hoki Found\",\"orientation\":\"v\",\"showlegend\":true,\"x\":[25007],\"xaxis\":\"x\",\"y\":[3712204.9152255184],\"yaxis\":\"y\",\"type\":\"scatter\"},{\"customdata\":[[\"Royal Canin\",\"Royal Canin Indoor Adult Dry Cat Food, 15 lb bag\"],[\"Royal Canin\",\"Royal Canin Indoor Adult Dry Cat Food, 15 lb bag\"]],\"hovertemplate\":\"Short Name=Royal Cani\\u003cbr\\u003eNumber of Reviews=%{x}\\u003cbr\\u003eRevenue ($)=%{y}\\u003cbr\\u003eBrand=%{customdata[0]}\\u003cbr\\u003eName=%{customdata[1]}\\u003cextra\\u003e\\u003c\\u002fextra\\u003e\",\"legendgroup\":\"Royal Cani\",\"marker\":{\"color\":\"#19d3f3\",\"symbol\":\"circle\"},\"mode\":\"markers\",\"name\":\"Royal Cani\",\"orientation\":\"v\",\"showlegend\":true,\"x\":[5418,4727],\"xaxis\":\"x\",\"y\":[3474449.647098,16278.543814],\"yaxis\":\"y\",\"type\":\"scatter\"},{\"customdata\":[[\"Rachael Ray Nutrish\",\"Rachael Ray Nutrish Indoor Complete Premium Natural Dry Cat Food, Chicken with Lentils & Salmon Recipe, 14 Pounds (Packaging May Vary)\"],[\"Rachael Ray Nutrish\",\"Rachael Ray Nutrish Inner Health Premium Natural Dry Cat Food, Turkey with Chickpeas & Salmon Recipe, 14 Pounds\"],[\"Rachael Ray Nutrish\",\"Rachael Ray Nutrish Inner Health Premium Natural Dry Cat Food, Turkey with Chickpeas & Salmon Recipe, 14 Pounds\"],[\"Rachael Ray Nutrish\",\"Rachael Ray Nutrish Longevity Premium Natural Dry Cat Food, Chicken with Chickpeas & Salmon Recipe, 14 Pounds (Packaging May Vary)\"]],\"hovertemplate\":\"Short Name=Rachael Ra\\u003cbr\\u003eNumber of Reviews=%{x}\\u003cbr\\u003eRevenue ($)=%{y}\\u003cbr\\u003eBrand=%{customdata[0]}\\u003cbr\\u003eName=%{customdata[1]}\\u003cextra\\u003e\\u003c\\u002fextra\\u003e\",\"legendgroup\":\"Rachael Ra\",\"marker\":{\"color\":\"#FF6692\",\"symbol\":\"circle\"},\"mode\":\"markers\",\"name\":\"Rachael Ra\",\"orientation\":\"v\",\"showlegend\":true,\"x\":[15200,22673,4925,1855],\"xaxis\":\"x\",\"y\":[3461223.4944418543,671188.924392,146344.537916,76823.418506],\"yaxis\":\"y\",\"type\":\"scatter\"},{\"customdata\":[[\"Reopet\",\"Reopet Silicone Dog Cat Bowl Mat Non-Stick Food Pad Water Cushion Waterproof - Multiple Colors, Sizes & Purposes\"],[\"Reopet\",\"Reopet Silicone Dog Cat Bowl Mat Non-Stick Food Pad Water Cushion Waterproof - Multiple Colors, Sizes & Purposes\"],[\"Reopet\",\"Reopet Silicone Dog Cat Bowl Mat Non-Stick Food Pad Water Cushion Waterproof - Multiple Colors, Sizes & Purposes\"],[\"Reopet\",\"Reopet Silicone Dog Cat Bowl Mat Non-Stick Food Pad Water Cushion Waterproof - Multiple Colors, Sizes & Purposes\"],[\"Reopet\",\"Reopet Silicone Dog Cat Bowl Mat Non-Stick Food Pad Water Cushion Waterproof - Multiple Colors, Sizes & Purposes\"],[\"Reopet\",\"Reopet Silicone Dog Cat Bowl Mat Non-Stick Food Pad Water Cushion Waterproof - Multiple Colors, Sizes & Purposes\"],[\"Reopet\",\"Reopet Silicone Dog Cat Bowl Mat Non-Stick Food Pad Water Cushion Waterproof - Multiple Colors, Sizes & Purposes\"],[\"Reopet\",\"Reopet Silicone Dog Cat Bowl Mat Non-Stick Food Pad Water Cushion Waterproof - Multiple Colors, Sizes & Purposes\"],[\"Reopet\",\"Reopet Silicone Dog Cat Bowl Mat Non-Stick Food Pad Water Cushion Waterproof - Multiple Colors, Sizes & Purposes\"],[\"Reopet\",\"Reopet Silicone Dog Cat Bowl Mat Non-Stick Food Pad Water Cushion Waterproof - Multiple Colors, Sizes & Purposes\"],[\"Reopet\",\"Reopet Silicone Dog Cat Bowl Mat Non-Stick Food Pad Water Cushion Waterproof - Multiple Colors, Sizes & Purposes\"],[\"Reopet\",\"Reopet Silicone Dog Cat Bowl Mat Non-Stick Food Pad Water Cushion Waterproof - Multiple Colors, Sizes & Purposes\"]],\"hovertemplate\":\"Short Name=Reopet Sil\\u003cbr\\u003eNumber of Reviews=%{x}\\u003cbr\\u003eRevenue ($)=%{y}\\u003cbr\\u003eBrand=%{customdata[0]}\\u003cbr\\u003eName=%{customdata[1]}\\u003cextra\\u003e\\u003c\\u002fextra\\u003e\",\"legendgroup\":\"Reopet Sil\",\"marker\":{\"color\":\"#B6E880\",\"symbol\":\"circle\"},\"mode\":\"markers\",\"name\":\"Reopet Sil\",\"orientation\":\"v\",\"showlegend\":true,\"x\":[38227,38181,38122,33233,34675,38620,33730,37969,38122,37970,37422,37969],\"xaxis\":\"x\",\"y\":[3430459.4993786104,2603940.110419255,2174640.352085,973299.7086432916,739892.0373203182,390843.7545568817,375281.0606578409,275564.67061875,271691.4592009322,39839.40452321428,9728.244106,7953.970995],\"yaxis\":\"y\",\"type\":\"scatter\"},{\"customdata\":[[\"Wellness\",\"Wellness Complete Health Grain-Free Wet Canned Cat Food, Natural Ingredients, Made with Real Meat, All Breeds, Smooth Pate, Beef & Chicken, 3 Ounce (Pack of 24)\"],[\"Wellness\",\"Wellness Complete Health Grain-Free Wet Canned Cat Food, Natural Ingredients, Made with Real Meat, All Breeds, Smooth Pate, Beef & Chicken, 3 Ounce (Pack of 24)\"],[\"Wellness\",\"Wellness Complete Health Grain-Free Wet Canned Cat Food, Natural Ingredients, Made with Real Meat, All Breeds, Smooth Pate, Beef & Chicken, 3 Ounce (Pack of 24)\"],[\"Wellness\",\"Wellness Complete Health Grain-Free Wet Canned Cat Food, Natural Ingredients, Made with Real Meat, All Breeds, Smooth Pate, Beef & Chicken, 3 Ounce (Pack of 24)\"],[\"Wellness\",\"Wellness Complete Health Grain-Free Wet Canned Cat Food, Natural Ingredients, Made with Real Meat, All Breeds, Smooth Pate (Beef & Salmon, 12.5-Ounce Can, Pack of 12)\"],[\"Wellness\",\"Wellness Complete Health Grain-Free Wet Canned Cat Food, Natural Ingredients, Made with Real Meat, All Breeds, Smooth Pate (Beef & Salmon, 12.5-Ounce Can, Pack of 12)\"],[\"Wellness\",\"Wellness Complete Health Grain-Free Wet Canned Cat Food, Natural Ingredients, Made with Real Meat, All Breeds, Smooth Pate (Chicken & Herring, 12.5-Ounce Can, Pack of 12)\"],[\"Wellness\",\"Wellness Complete Health Grain-Free Wet Canned Cat Food, Natural Ingredients, Made with Real Meat, All Breeds, Smooth Pate, Beef & Chicken, 3 Ounce (Pack of 24)\"],[\"Wellness\",\"Wellness Complete Health Grain-Free Wet Canned Cat Food, Natural Ingredients, Made with Real Meat, All Breeds, Smooth Pate (Beef & Salmon, 12.5-Ounce Can, Pack of 12)\"],[\"Wellness\",\"Wellness Complete Health Grain-Free Wet Canned Cat Food, Natural Ingredients, Made with Real Meat, All Breeds, Smooth Pate, Beef & Chicken, 3 Ounce (Pack of 24)\"],[\"Wellness\",\"Wellness Complete Health Grain-Free Wet Canned Cat Food, Natural Ingredients, Made with Real Meat, All Breeds, Smooth Pate (Chicken & Herring, 12.5-Ounce Can, Pack of 12)\"],[\"Wellness\",\"Wellness Complete Health Grain-Free Wet Canned Cat Food, Natural Ingredients, Made with Real Meat, All Breeds, Smooth Pate, Beef & Chicken, 3 Ounce (Pack of 24)\"]],\"hovertemplate\":\"Short Name=Wellness C\\u003cbr\\u003eNumber of Reviews=%{x}\\u003cbr\\u003eRevenue ($)=%{y}\\u003cbr\\u003eBrand=%{customdata[0]}\\u003cbr\\u003eName=%{customdata[1]}\\u003cextra\\u003e\\u003c\\u002fextra\\u003e\",\"legendgroup\":\"Wellness C\",\"marker\":{\"color\":\"#FF97FF\",\"symbol\":\"circle\"},\"mode\":\"markers\",\"name\":\"Wellness C\",\"orientation\":\"v\",\"showlegend\":true,\"x\":[8284,5343,5335,55,3915,2919,1578,7519,2668,7503,389,208],\"xaxis\":\"x\",\"y\":[3260161.2524310835,2056820.8270405834,943273.3205850001,856039.337985624,702835.3553005,379162.79924230784,305790.46624825,244816.68577799998,134691.6629035,84161.829308,78695.160617,17652.196562],\"yaxis\":\"y\",\"type\":\"scatter\"},{\"customdata\":[[\"Simplehuman\",\"simplehuman 25 Liter, 27 lb \\u002f 12.2 kg Medium Pet Food Storage Container for Dog Food, Cat Food, and Bird Feed, Brushed Stainless Steel\"],[\"Simplehuman\",\"simplehuman 30 Liter, 32 lb \\u002f 14.5 kg Large Pet Food Storage Container for Dog Food, Cat Food, and Bird Feed, Brushed Stainless Steel\"],[\"Simplehuman\",\"simplehuman 25 Liter, 27 lb \\u002f 12.2 kg Medium Pet Food Storage Container for Dog Food, Cat Food, and Bird Feed, Brushed Stainless Steel\"],[\"Simplehuman\",\"simplehuman 35 Liter, 40 lb \\u002f 18.1 kg X-Large Pet Food Storage Container for Dog Food, Cat Food, and Bird Feed, Brushed Stainless Steel\"],[\"Simplehuman\",\"simplehuman 25 Liter, 27 lb \\u002f 12.2 kg Medium Pet Food Storage Container for Dog Food, Cat Food, and Bird Feed, Brushed Stainless Steel\"],[\"Simplehuman\",\"simplehuman 30 Liter, 32 lb \\u002f 14.5 kg Large Pet Food Storage Container for Dog Food, Cat Food, and Bird Feed, Brushed Stainless Steel\"],[\"Simplehuman\",\"simplehuman 25 Liter, 27 lb \\u002f 12.2 kg Medium Pet Food Storage Container for Dog Food, Cat Food, and Bird Feed, Brushed Stainless Steel\"]],\"hovertemplate\":\"Short Name=simplehuma\\u003cbr\\u003eNumber of Reviews=%{x}\\u003cbr\\u003eRevenue ($)=%{y}\\u003cbr\\u003eBrand=%{customdata[0]}\\u003cbr\\u003eName=%{customdata[1]}\\u003cextra\\u003e\\u003c\\u002fextra\\u003e\",\"legendgroup\":\"simplehuma\",\"marker\":{\"color\":\"#FECB52\",\"symbol\":\"circle\"},\"mode\":\"markers\",\"name\":\"simplehuma\",\"orientation\":\"v\",\"showlegend\":true,\"x\":[911,6,1782,3054,1772,1721,1784],\"xaxis\":\"x\",\"y\":[3203168.3650137982,1094089.9773385,213697.6433565,39804.306698,20363.496438,20138.569428,13734.128474999998],\"yaxis\":\"y\",\"type\":\"scatter\"},{\"customdata\":[[\"Petlibro\",\"PETLIBRO Automatic Cat Feeder, Automatic Cat Food Dispenser with Freshness Preservation, Timed Cat Feeders for Dry Food, Up to 50 Portions 6 Meals Per Day, Granary Pet Feeder for Cats\\u002fDogs\"],[\"Petlibro\",\"PETLIBRO Automatic Dog Feeder, 6L Dog Food Dispenser with Timer Interactive Voice Recorder, Auto Dog Feeder with Desiccant Bag 1-4 Meals Dry Food\"],[\"Petlibro\",\"PETLIBRO Automatic Cat Food Dispenser, Stainless Steel, 2L Capacity, 6 Meals\\u002fDay, No Overeating, Low Battery Indicator, Easy to Clean, Dishwasher Safe\"],[\"Petlibro\",\"PETLIBRO Automatic Cat Feeder, Automatic Cat Food Dispenser with Timer Interactive Voice Recorder, Auto Cat Feeder with 1-4 Meals Control Dry Food\"],[\"Petlibro\",\"PETLIBRO Automatic Cat Feeder, Automatic Cat Food Dispenser with Freshness Preservation, Timed Cat Feeders for Dry Food, Up to 50 Portions 6 Meals Per Day, Granary Pet Feeder for Cats\\u002fDogs\"],[\"Petlibro\",\"PETLIBRO Automatic Cat Feeder, Automatic Cat Food Dispenser with Freshness Preservation, Timed Cat Feeders for Dry Food, Up to 50 Portions 6 Meals Per Day, Granary Pet Feeder for Cats\\u002fDogs\"],[\"Petlibro\",\"PETLIBRO Automatic Cat Food Dispenser, Stainless Steel, Easy to Set Up and Program, Freshness Preservation, Up to 50 Portions per Meal, Infrared Detection\"],[\"Petlibro\",\"PETLIBRO Automatic Cat Food Dispenser, Stainless Steel, 2L Capacity, 6 Meals\\u002fDay, No Overeating, Low Battery Indicator, Easy to Clean, Dishwasher Safe\"],[\"Petlibro\",\"PETLIBRO Automatic Cat Food Dispenser, Stainless Steel, Easy to Set Up and Program, Freshness Preservation, Up to 50 Portions per Meal, Infrared Detection\"],[\"Petlibro\",\"PETLIBRO Automatic Dog Feeder, 6L Dog Food Dispenser with Timer Interactive Voice Recorder, Auto Dog Feeder with Desiccant Bag 1-4 Meals Dry Food, White Opaque\"],[\"Petlibro\",\"PETLIBRO Automatic Cat Food Dispenser, Stainless Steel, 2L Capacity, 6 Meals\\u002fDay, No Overeating, Low Battery Indicator, Easy to Clean, Dishwasher Safe\"],[\"Petlibro\",\"PETLIBRO Automatic Cat Food Dispenser, Stainless Steel, 2L Capacity, 6 Meals\\u002fDay, No Overeating, Low Battery Indicator, Easy to Clean, Dishwasher Safe\"],[\"Petlibro\",\"PETLIBRO Automatic Cat Feeder, Automatic Cat Food Dispenser with Timer Interactive Voice Recorder, Auto Cat Feeder with 1-4 Meals Control Dry Food\"],[\"Petlibro\",\"PETLIBRO Automatic Cat Food Dispenser, Stainless Steel, 2L Capacity, 6 Meals\\u002fDay, No Overeating, Low Battery Indicator, Easy to Clean, Dishwasher Safe\"],[\"Petlibro\",\"PETLIBRO Automatic Cat Feeder, Automatic Cat Food Dispenser with Timer Interactive Voice Recorder, Auto Cat Feeder with 1-4 Meals Control Dry Food\"],[\"Petlibro\",\"PETLIBRO Automatic Cat Food Dispenser, Stainless Steel, 2L Capacity, 6 Meals\\u002fDay, No Overeating, Low Battery Indicator, Easy to Clean, Dishwasher Safe\"],[\"Petlibro\",\"PETLIBRO Automatic Cat Feeder, Automatic Cat Food Dispenser with Freshness Preservation, Timed Cat Feeders for Dry Food, Up to 50 Portions 6 Meals Per Day, Granary Pet Feeder for Cats\\u002fDogs\"],[\"Petlibro\",\"PETLIBRO Automatic Cat Feeder, Automatic Cat Food Dispenser with Timer Interactive Voice Recorder, Auto Cat Feeder with 1-4 Meals Control Dry Food\"],[\"Petlibro\",\"PETLIBRO Automatic Cat Feeder, Automatic Cat Food Dispenser with Freshness Preservation, Timed Cat Feeders for Dry Food, Up to 50 Portions 6 Meals Per Day, Granary Pet Feeder for Cats\\u002fDogs\"],[\"Petlibro\",\"PETLIBRO Automatic Cat Feeder, Automatic Cat Food Dispenser with Freshness Preservation, Timed Cat Feeders for Dry Food, Up to 50 Portions 6 Meals Per Day, Granary Pet Feeder for Cats\\u002fDogs\"],[\"Petlibro\",\"PETLIBRO Automatic Cat Feeder, Automatic Cat Food Dispenser with Freshness Preservation, Timed Cat Feeders for Dry Food, Up to 50 Portions 6 Meals Per Day, Granary Pet Feeder for Cats\\u002fDogs\"],[\"Petlibro\",\"PETLIBRO Automatic Cat Food Dispenser, Stainless Steel, Easy to Set Up and Program, Freshness Preservation, Up to 50 Portions per Meal, Infrared Detection\"],[\"Petlibro\",\"PETLIBRO Automatic Dog Feeder, 6L Dog Food Dispenser with Timer Interactive Voice Recorder, Auto Dog Feeder with Desiccant Bag 1-4 Meals Dry Food\"],[\"Petlibro\",\"PETLIBRO Automatic Cat Food Dispenser, Stainless Steel, 2L Capacity, 6 Meals\\u002fDay, No Overeating, Low Battery Indicator, Easy to Clean, Dishwasher Safe\"],[\"Petlibro\",\"PETLIBRO Automatic Cat Feeder, Automatic Cat Food Dispenser with Timer Interactive Voice Recorder, Auto Cat Feeder with 1-4 Meals Control Dry Food\"],[\"Petlibro\",\"PETLIBRO Automatic Cat Feeder, Automatic Cat Food Dispenser with Timer Interactive Voice Recorder, Auto Cat Feeder with 1-4 Meals Control Dry Food\"],[\"Petlibro\",\"PETLIBRO Automatic Dog Feeder, 6L Dog Food Dispenser with Timer Interactive Voice Recorder, Auto Dog Feeder with Desiccant Bag 1-4 Meals Dry Food\"],[\"Petlibro\",\"PETLIBRO Automatic Dog Feeder, 6L Dog Food Dispenser with Timer Interactive Voice Recorder, Auto Dog Feeder with Desiccant Bag 1-4 Meals Dry Food\"],[\"Petlibro\",\"PETLIBRO Automatic Cat Feeder, Automatic Cat Food Dispenser with Timer Interactive Voice Recorder, Auto Cat Feeder with 1-4 Meals Control Dry Food\"],[\"Petlibro\",\"PETLIBRO Automatic Cat Food Dispenser, Stainless Steel, 2L Capacity, 6 Meals\\u002fDay, No Overeating, Low Battery Indicator, Easy to Clean, Dishwasher Safe\"],[\"Petlibro\",\"PETLIBRO Automatic Cat Feeder, Automatic Cat Food Dispenser with Freshness Preservation, Timed Cat Feeders for Dry Food, Up to 50 Portions 6 Meals Per Day, Granary Pet Feeder for Cats\\u002fDogs\"],[\"Petlibro\",\"PETLIBRO Automatic Dog Feeder, 6L Dog Food Dispenser with Timer Interactive Voice Recorder, Auto Dog Feeder with Desiccant Bag 1-4 Meals Dry Food\"],[\"Petlibro\",\"PETLIBRO Automatic Cat Feeder, Automatic Cat Food Dispenser with Freshness Preservation, Timed Cat Feeders for Dry Food, Up to 50 Portions 6 Meals Per Day, Granary Pet Feeder for Cats\\u002fDogs\"],[\"Petlibro\",\"PETLIBRO Automatic Cat Feeder, Automatic Cat Food Dispenser with Timer Interactive Voice Recorder, Auto Cat Feeder with 1-4 Meals Control Dry Food\"],[\"Petlibro\",\"PETLIBRO Automatic Cat Feeder, Automatic Cat Food Dispenser with Timer Interactive Voice Recorder, Auto Cat Feeder with 1-4 Meals Control Dry Food\"],[\"Petlibro\",\"PETLIBRO Automatic Cat Food Dispenser, Stainless Steel, 2L Capacity, 6 Meals\\u002fDay, No Overeating, Low Battery Indicator, Easy to Clean, Dishwasher Safe\"],[\"Petlibro\",\"PETLIBRO Automatic Cat Food Dispenser, Stainless Steel, Easy to Set Up and Program, Freshness Preservation, Up to 50 Portions per Meal, Infrared Detection\"],[\"Petlibro\",\"PETLIBRO Automatic Cat Food Dispenser, Stainless Steel, Easy to Set Up and Program, Freshness Preservation, Up to 50 Portions per Meal, Infrared Detection\"],[\"Petlibro\",\"PETLIBRO Automatic Cat Food Dispenser, Stainless Steel, 2L Capacity, 6 Meals\\u002fDay, No Overeating, Low Battery Indicator, Easy to Clean, Dishwasher Safe\"],[\"Petlibro\",\"PETLIBRO Automatic Cat Feeder, Automatic Cat Food Dispenser with Freshness Preservation, Timed Cat Feeders for Dry Food, Up to 50 Portions 6 Meals Per Day, Granary Pet Feeder for Cats\\u002fDogs\"],[\"Petlibro\",\"PETLIBRO Automatic Cat Food Dispenser, Stainless Steel, 2L Capacity, 6 Meals\\u002fDay, No Overeating, Low Battery Indicator, Easy to Clean, Dishwasher Safe\"],[\"Petlibro\",\"PETLIBRO Automatic Cat Food Dispenser, Stainless Steel, Easy to Set Up and Program, Freshness Preservation, Up to 50 Portions per Meal, Infrared Detection\"],[\"Petlibro\",\"PETLIBRO Automatic Dog Feeder, 6L Dog Food Dispenser with Timer Interactive Voice Recorder, Auto Dog Feeder with Desiccant Bag 1-4 Meals Dry Food\"],[\"Petlibro\",\"PETLIBRO Automatic Cat Food Dispenser, Stainless Steel, Easy to Set Up and Program, Freshness Preservation, Up to 50 Portions per Meal, Infrared Detection\"],[\"Petlibro\",\"PETLIBRO Automatic Cat Food Dispenser, Stainless Steel, Easy to Set Up and Program, Freshness Preservation, Up to 50 Portions per Meal, Infrared Detection\"],[\"Petlibro\",\"PETLIBRO Automatic Dog Feeder, 6L Dog Food Dispenser with Timer Interactive Voice Recorder, Auto Dog Feeder with Desiccant Bag 1-4 Meals Dry Food\"],[\"Petlibro\",\"PETLIBRO Automatic Cat Food Dispenser, Stainless Steel, Easy to Set Up and Program, Freshness Preservation, Up to 50 Portions per Meal, Infrared Detection\"],[\"Petlibro\",\"PETLIBRO Automatic Dog Feeder, 6L Dog Food Dispenser with Timer Interactive Voice Recorder, Auto Dog Feeder with Desiccant Bag 1-4 Meals Dry Food\"],[\"Petlibro\",\"PETLIBRO Automatic Cat Feeder, Automatic Cat Food Dispenser with Freshness Preservation, Timed Cat Feeders for Dry Food, Up to 50 Portions 6 Meals Per Day, Granary Pet Feeder for Cats\\u002fDogs\"],[\"Petlibro\",\"PETLIBRO Automatic Cat Feeder, Automatic Cat Food Dispenser with Timer Interactive Voice Recorder, Auto Cat Feeder with 1-4 Meals Control Dry Food\"],[\"Petlibro\",\"PETLIBRO Automatic Cat Feeder, Automatic Cat Food Dispenser with Freshness Preservation, Timed Cat Feeders for Dry Food, Up to 50 Portions 6 Meals Per Day, Granary Pet Feeder for Cats\\u002fDogs\"],[\"Petlibro\",\"PETLIBRO Automatic Cat Feeder, Automatic Cat Food Dispenser with Freshness Preservation, Timed Cat Feeders for Dry Food, Up to 50 Portions 6 Meals Per Day, Granary Pet Feeder for Cats\\u002fDogs\"],[\"Petlibro\",\"PETLIBRO Automatic Cat Feeder, Automatic Cat Food Dispenser with Freshness Preservation, Timed Cat Feeders for Dry Food, Up to 50 Portions 6 Meals Per Day, Granary Pet Feeder for Cats\\u002fDogs\"],[\"Petlibro\",\"PETLIBRO Automatic Dog Feeder, 6L Dog Food Dispenser with Timer Interactive Voice Recorder, Auto Dog Feeder with Desiccant Bag 1-4 Meals Dry Food\"],[\"Petlibro\",\"PETLIBRO Automatic Cat Food Dispenser, Stainless Steel, 2L Capacity, 6 Meals\\u002fDay, No Overeating, Low Battery Indicator, Easy to Clean, Dishwasher Safe\"],[\"Petlibro\",\"PETLIBRO Automatic Cat Feeder, Automatic Cat Food Dispenser with Freshness Preservation, Timed Cat Feeders for Dry Food, Up to 50 Portions 6 Meals Per Day, Granary Pet Feeder for Cats\\u002fDogs\"],[\"Petlibro\",\"PETLIBRO Automatic Cat Food Dispenser, Stainless Steel, 2L Capacity, 6 Meals\\u002fDay, No Overeating, Low Battery Indicator, Easy to Clean, Dishwasher Safe\"],[\"Petlibro\",\"PETLIBRO Automatic Dog Feeder, 6L Dog Food Dispenser with Timer Interactive Voice Recorder, Auto Dog Feeder with Desiccant Bag 1-4 Meals Dry Food, White Opaque\"],[\"Petlibro\",\"PETLIBRO Automatic Cat Food Dispenser, Stainless Steel, 2L Capacity, 6 Meals\\u002fDay, No Overeating, Low Battery Indicator, Easy to Clean, Dishwasher Safe\"],[\"Petlibro\",\"PETLIBRO Automatic Dog Feeder, 6L Dog Food Dispenser with Timer Interactive Voice Recorder, Auto Dog Feeder with Desiccant Bag 1-4 Meals Dry Food\"],[\"Petlibro\",\"PETLIBRO Automatic Cat Feeder, Automatic Cat Food Dispenser with Freshness Preservation, Timed Cat Feeders for Dry Food, Up to 50 Portions 6 Meals Per Day, Granary Pet Feeder for Cats\\u002fDogs\"],[\"Petlibro\",\"PETLIBRO Automatic Cat Feeder, Automatic Cat Food Dispenser with Freshness Preservation, Timed Cat Feeders for Dry Food, Up to 50 Portions 6 Meals Per Day, Granary Pet Feeder for Cats\\u002fDogs\"],[\"Petlibro\",\"PETLIBRO Automatic Cat Food Dispenser, Stainless Steel, 2L Capacity, 6 Meals\\u002fDay, No Overeating, Low Battery Indicator, Easy to Clean, Dishwasher Safe\"],[\"Petlibro\",\"PETLIBRO Automatic Cat Food Dispenser, Stainless Steel, 2L Capacity, 6 Meals\\u002fDay, No Overeating, Low Battery Indicator, Easy to Clean, Dishwasher Safe\"],[\"Petlibro\",\"PETLIBRO Automatic Cat Food Dispenser, Stainless Steel, Easy to Set Up and Program, Freshness Preservation, Up to 50 Portions per Meal, Infrared Detection\"],[\"Petlibro\",\"PETLIBRO Automatic Dog Feeder, 6L Dog Food Dispenser with Timer Interactive Voice Recorder, Auto Dog Feeder with Desiccant Bag 1-4 Meals Dry Food, White Opaque\"],[\"Petlibro\",\"PETLIBRO Automatic Cat Feeder, Automatic Cat Food Dispenser with Timer Interactive Voice Recorder, Auto Cat Feeder with 1-4 Meals Control Dry Food\"],[\"Petlibro\",\"PETLIBRO Automatic Dog Feeder, 6L Dog Food Dispenser with Timer Interactive Voice Recorder, Auto Dog Feeder with Desiccant Bag 1-4 Meals Dry Food\"],[\"Petlibro\",\"PETLIBRO Automatic Cat Food Dispenser, Stainless Steel, Easy to Set Up and Program, Freshness Preservation, Up to 50 Portions per Meal, Infrared Detection\"],[\"Petlibro\",\"PETLIBRO Automatic Cat Food Dispenser, Stainless Steel, Easy to Set Up and Program, Freshness Preservation, Up to 50 Portions per Meal, Infrared Detection\"],[\"Petlibro\",\"PETLIBRO Automatic Cat Feeder, Automatic Cat Food Dispenser with Timer Interactive Voice Recorder, Auto Cat Feeder with 1-4 Meals Control Dry Food\"],[\"Petlibro\",\"PETLIBRO Automatic Dog Feeder, 6L Dog Food Dispenser with Timer Interactive Voice Recorder, Auto Dog Feeder with Desiccant Bag 1-4 Meals Dry Food, White Opaque\"],[\"Petlibro\",\"PETLIBRO Automatic Cat Food Dispenser, Stainless Steel, 2L Capacity, 6 Meals\\u002fDay, No Overeating, Low Battery Indicator, Easy to Clean, Dishwasher Safe\"],[\"Petlibro\",\"PETLIBRO Automatic Cat Feeder, Automatic Cat Food Dispenser with Freshness Preservation, Timed Cat Feeders for Dry Food, Up to 50 Portions 6 Meals Per Day, Granary Pet Feeder for Cats\\u002fDogs\"],[\"Petlibro\",\"PETLIBRO Automatic Cat Food Dispenser, Stainless Steel, Easy to Set Up and Program, Freshness Preservation, Up to 50 Portions per Meal, Infrared Detection\"],[\"Petlibro\",\"PETLIBRO Automatic Cat Feeder, Automatic Cat Food Dispenser with Timer Interactive Voice Recorder, Auto Cat Feeder with 1-4 Meals Control Dry Food\"],[\"Petlibro\",\"PETLIBRO Automatic Cat Feeder, Automatic Cat Food Dispenser with Timer Interactive Voice Recorder, Auto Cat Feeder with 1-4 Meals Control Dry Food\"],[\"Petlibro\",\"PETLIBRO Automatic Cat Food Dispenser, Stainless Steel, Easy to Set Up and Program, Freshness Preservation, Up to 50 Portions per Meal, Infrared Detection\"],[\"Petlibro\",\"PETLIBRO Automatic Cat Food Dispenser, Stainless Steel, 2L Capacity, 6 Meals\\u002fDay, No Overeating, Low Battery Indicator, Easy to Clean, Dishwasher Safe\"],[\"Petlibro\",\"PETLIBRO Automatic Cat Food Dispenser, Stainless Steel, 2L Capacity, 6 Meals\\u002fDay, No Overeating, Low Battery Indicator, Easy to Clean, Dishwasher Safe\"],[\"Petlibro\",\"PETLIBRO Automatic Cat Food Dispenser, Stainless Steel, Easy to Set Up and Program, Freshness Preservation, Up to 50 Portions per Meal, Infrared Detection\"],[\"Petlibro\",\"PETLIBRO Automatic Dog Feeder, 6L Dog Food Dispenser with Timer Interactive Voice Recorder, Auto Dog Feeder with Desiccant Bag 1-4 Meals Dry Food\"],[\"Petlibro\",\"PETLIBRO Automatic Dog Feeder, 6L Dog Food Dispenser with Timer Interactive Voice Recorder, Auto Dog Feeder with Desiccant Bag 1-4 Meals Dry Food\"]],\"hovertemplate\":\"Short Name=PETLIBRO A\\u003cbr\\u003eNumber of Reviews=%{x}\\u003cbr\\u003eRevenue ($)=%{y}\\u003cbr\\u003eBrand=%{customdata[0]}\\u003cbr\\u003eName=%{customdata[1]}\\u003cextra\\u003e\\u003c\\u002fextra\\u003e\",\"legendgroup\":\"PETLIBRO A\",\"marker\":{\"color\":\"#636efa\",\"symbol\":\"circle\"},\"mode\":\"markers\",\"name\":\"PETLIBRO A\",\"orientation\":\"v\",\"showlegend\":true,\"x\":[793,7626,8083,13128,962,996,10618,4401,6221,13179,4517,4572,14026,3047,13171,3969,10044,10795,6293,7317,6823,1968,2138,4422,13157,11382,14719,1716,15735,4218,10508,2134,8159,5679,12175,3824,9203,4130,4168,6062,4433,2863,6257,8215,700,6121,3997,6267,10210,42,10618,6114,6114,1865,4103,8241,2965,11382,4145,2134,11401,10589,4293,4179,1985,496,13179,2144,697,1284,10795,13739,2078,6116,1994,15030,10802,2853,4540,4445,1987,17121,2141],\"xaxis\":\"x\",\"y\":[3065358.654499875,2317409.82059875,849817.54864025,327017.11410199996,291269.7352705,230822.2731265,224454.704424,199375.60260531324,187420.940917,183138.50100583333,175915.740917,162783.49649975,161713.4672715,155163.68083250002,154054.169296,125136.61545,124594.65087325,109174.0385635,94618.707818,83831.495361,82953.4397335,75896.689075,74296.45665200001,73498.65843599998,72107.5576355,68265.135282,60563.169635499995,59162.94013499999,54801.31916399999,53879.013993500004,49453.5801095,42689.7408055,42644.585285,42565.8217995,40987.6946295,37502.301863,37093.409972,35875.854192,34584.366743,31900.752598499996,30285.980688,30279.97042125,29791.7564085,28098.241976999998,28024.576527,25016.825215499997,23765.011176,23531.011511,20814.5667115,20604.174125999998,20602.707372,20281.460734499997,20026.553655,19809.807425,19173.667028999997,16573.152476,16190.052611,15603.224274,14045.521689499998,14017.001759,13883.027678,13637.475603999997,12453.429082499999,11917.853473499998,11683.4136225,11286.338759999999,10593.168412499997,10306.543488,9677.600064,9536.023143,9379.478882999998,8614.917909,7838.123360999999,7229.2586925,3744.095265,3391.122141,3290.4961829999997,2713.28159925,2544.731943,1066.801578,1019.5007894999999,808.8527579999999,137.146752],\"yaxis\":\"y\",\"type\":\"scatter\"},{\"customdata\":[[\"Neater Feeder\",\"Neater Feeder - Express Model w\\u002fSlow Feed Bowl - Mess-Proof Dog Bowls (M\\u002fL, Black) Made in USA \\u2013 Elevated, No Spill, Non-Tip, Non-Slip, Raised Stainless Steel Food\\u002fWater Pet Bowls Aid Digestion\"],[\"Neater Feeder\",\"Neater Feeder - Express Model w\\u002fSlow Feed Bowl - Mess-Proof Dog Bowls (M\\u002fL, Black) Made in USA \\u2013 Elevated, No Spill, Non-Tip, Non-Slip, Raised Stainless Steel Food\\u002fWater Pet Bowls Aid Digestion\"]],\"hovertemplate\":\"Short Name=Neater Fee\\u003cbr\\u003eNumber of Reviews=%{x}\\u003cbr\\u003eRevenue ($)=%{y}\\u003cbr\\u003eBrand=%{customdata[0]}\\u003cbr\\u003eName=%{customdata[1]}\\u003cextra\\u003e\\u003c\\u002fextra\\u003e\",\"legendgroup\":\"Neater Fee\",\"marker\":{\"color\":\"#EF553B\",\"symbol\":\"circle\"},\"mode\":\"markers\",\"name\":\"Neater Fee\",\"orientation\":\"v\",\"showlegend\":true,\"x\":[29698,1998],\"xaxis\":\"x\",\"y\":[2786209.549631495,303630.785733],\"yaxis\":\"y\",\"type\":\"scatter\"},{\"customdata\":[[\"Weruva\",\"Weruva Classic Cat Food, Variety Pack, Paw Lickin' Pals Wet Cat Food, 3oz Cans (Pack of 24)\"],[\"Weruva\",\"Weruva Classic Cat Food, Paw Lickin\\u2019 Chicken with Chicken Breast in Gravy, 10oz Can (Pack of 12)\"],[\"Weruva\",\"Weruva Classic Cat Food, Wowzer Meowzer Variety Pack, 10oz Cans (Pack of 12)\"],[\"Weruva\",\"Weruva Classic Cat Food, Wowzer Meowzer Variety Pack, 10oz Cans (Pack of 12)\"],[\"Weruva\",\"Weruva Classic Cat Food, Wowzer Meowzer Variety Pack, 10oz Cans (Pack of 12)\"]],\"hovertemplate\":\"Short Name=Weruva Cla\\u003cbr\\u003eNumber of Reviews=%{x}\\u003cbr\\u003eRevenue ($)=%{y}\\u003cbr\\u003eBrand=%{customdata[0]}\\u003cbr\\u003eName=%{customdata[1]}\\u003cextra\\u003e\\u003c\\u002fextra\\u003e\",\"legendgroup\":\"Weruva Cla\",\"marker\":{\"color\":\"#00cc96\",\"symbol\":\"circle\"},\"mode\":\"markers\",\"name\":\"Weruva Cla\",\"orientation\":\"v\",\"showlegend\":true,\"x\":[5308,7166,2308,96,1862],\"xaxis\":\"x\",\"y\":[2702182.840385375,1963684.3179595245,86895.974151,73445.08806,3242.796336],\"yaxis\":\"y\",\"type\":\"scatter\"},{\"customdata\":[[\"Iams\",\"IAMS PERFECT PORTIONS Indoor Adult Grain Free* Wet Cat Food Cuts in Gravy, Tuna Recipe, (24) 2.6 oz. Easy Peel Twin-Pack Trays\"]],\"hovertemplate\":\"Short Name=IAMS PERFE\\u003cbr\\u003eNumber of Reviews=%{x}\\u003cbr\\u003eRevenue ($)=%{y}\\u003cbr\\u003eBrand=%{customdata[0]}\\u003cbr\\u003eName=%{customdata[1]}\\u003cextra\\u003e\\u003c\\u002fextra\\u003e\",\"legendgroup\":\"IAMS PERFE\",\"marker\":{\"color\":\"#ab63fa\",\"symbol\":\"circle\"},\"mode\":\"markers\",\"name\":\"IAMS PERFE\",\"orientation\":\"v\",\"showlegend\":true,\"x\":[6321],\"xaxis\":\"x\",\"y\":[2586943.61101375],\"yaxis\":\"y\",\"type\":\"scatter\"},{\"customdata\":[[\"Stella & Chewy'S\",\"Stella & Chewy's Freeze-Dried Raw Cat Dinner Morsels \\u2013 Grain Free, Protein Rich Cat & Kitten Food \\u2013 Yummy Lickin\\u2019 Salmon & Chicken Recipe \\u2013 18 oz Bag\"],[\"Stella & Chewy'S\",\"Stella & Chewy's Freeze-Dried Raw Duck Duck Goose Dinner Morsels Cat Food, 18 oz. Bag (CAT-FDD-18)\"],[\"Stella & Chewy'S\",\"Stella & Chewy's Freeze-Dried Raw Cat Dinner Morsels \\u2013 Grain Free, Protein Rich Cat & Kitten Food \\u2013 Yummy Lickin\\u2019 Salmon & Chicken Recipe \\u2013 18 oz Bag\"],[\"Stella & Chewy'S\",\"Stella & Chewy's Freeze-Dried Raw Duck Duck Goose Dinner Morsels Cat Food, 18 oz. Bag (CAT-FDD-18)\"],[\"Stella & Chewy'S\",\"Stella & Chewy's Freeze-Dried Raw Cat Dinner Morsels \\u2013 Grain Free, Protein Rich Cat & Kitten Food \\u2013 Yummy Lickin\\u2019 Salmon & Chicken Recipe \\u2013 18 oz Bag\"]],\"hovertemplate\":\"Short Name=Stella & C\\u003cbr\\u003eNumber of Reviews=%{x}\\u003cbr\\u003eRevenue ($)=%{y}\\u003cbr\\u003eBrand=%{customdata[0]}\\u003cbr\\u003eName=%{customdata[1]}\\u003cextra\\u003e\\u003c\\u002fextra\\u003e\",\"legendgroup\":\"Stella & C\",\"marker\":{\"color\":\"#FFA15A\",\"symbol\":\"circle\"},\"mode\":\"markers\",\"name\":\"Stella & C\",\"orientation\":\"v\",\"showlegend\":true,\"x\":[6047,6047,2470,5937,513],\"xaxis\":\"x\",\"y\":[2558194.03866925,278210.1359895,82106.7224425,31029.768007000002,10706.214086],\"yaxis\":\"y\",\"type\":\"scatter\"},{\"customdata\":[[\"Iris Usa\",\"IRIS USA 35Lbs.\\u002f47Qt. WeatherPro Airtight Pet Food Storage Container with Attachable Casters, For Dog Cat Bird and Other Pet Food Storage Bin, Keep Fresh, Translucent Body, Easy Mobility, Black\"],[\"Iris Usa, Inc.\",\"IRIS USA 3-Piece 35 Lbs \\u002f 45 Qt WeatherPro Airtight Pet Food Storage Container Combo with Scoop and Treat Box for Dog Cat and Bird Food, Keep Pests Out, Translucent Body, Easy Mobility, Dark Gray\"],[\"Iris Usa, Inc.\",\"IRIS USA 3-Piece 35 Lbs \\u002f 45 Qt WeatherPro Airtight Pet Food Storage Container Combo with Scoop and Treat Box for Dog Cat and Bird Food, Keep Pests Out, Translucent Body, Easy Mobility, Dark Gray\"],[\"Iris\",\"IRIS USA 3-Piece 35 Lbs \\u002f 45 Qt WeatherPro Airtight Pet Food Storage Container Combo with Scoop and Treat Box for Dog Cat and Bird Food, Keep Pests Out, Translucent Body, Easy Mobility, Dark Gray\"],[\"Iris Usa, Inc.\",\"IRIS USA 3-Piece 35 Lbs \\u002f 45 Qt WeatherPro Airtight Pet Food Storage Container Combo with Scoop and Treat Box for Dog Cat and Bird Food, Keep Pests Out, Translucent Body, Easy Mobility, Orange\"],[\"Iris Usa, Inc.\",\"IRIS USA 3-Piece 35 Lbs \\u002f 45 Qt WeatherPro Airtight Pet Food Storage Container Combo with Scoop and Treat Box for Dog Cat and Bird Food, Keep Pests Out, Translucent Body, Easy Mobility, Orange\"],[\"Iris Usa, Inc.\",\"IRIS USA 3-Piece 35 Lbs \\u002f 45 Qt WeatherPro Airtight Pet Food Storage Container Combo with Scoop and Treat Box for Dog Cat and Bird Food, Keep Pests Out, Translucent Body, Easy Mobility, Dark Gray\"],[\"Iris Usa, Inc.\",\"IRIS USA 33qt + 12qt Airtight Pet Food Storage Container Combo with Scoop, Black\"],[\"Iris Usa, Inc.\",\"IRIS USA 35Lbs.\\u002f47Qt. WeatherPro Airtight Pet Food Storage Container with Attachable Casters, For Dog Cat Bird and Other Pet Food Storage Bin, Keep Fresh, Translucent Body, Easy Mobility, Black\"],[\"Iris Usa, Inc.\",\"IRIS USA 3-Piece 35 Lbs \\u002f 45 Qt WeatherPro Airtight Pet Food Storage Container Combo with Scoop and Treat Box for Dog Cat and Bird Food, Keep Pests Out, Translucent Body, Easy Mobility, Orange\"],[\"Iris\",\"IRIS USA 3-Piece 35 Lbs \\u002f 45 Qt WeatherPro Airtight Pet Food Storage Container Combo with Scoop and Treat Box for Dog Cat and Bird Food, Keep Pests Out, Translucent Body, Easy Mobility, Dark Gray\"],[\"Iris\",\"IRIS USA 33qt + 12qt Airtight Pet Food Container Combo with Scoop, Sea Foam Blue\"]],\"hovertemplate\":\"Short Name=IRIS USA 3\\u003cbr\\u003eNumber of Reviews=%{x}\\u003cbr\\u003eRevenue ($)=%{y}\\u003cbr\\u003eBrand=%{customdata[0]}\\u003cbr\\u003eName=%{customdata[1]}\\u003cextra\\u003e\\u003c\\u002fextra\\u003e\",\"legendgroup\":\"IRIS USA 3\",\"marker\":{\"color\":\"#19d3f3\",\"symbol\":\"circle\"},\"mode\":\"markers\",\"name\":\"IRIS USA 3\",\"orientation\":\"v\",\"showlegend\":true,\"x\":[56120,51005,53462,57450,18271,68552,57763,55993,1760,1112,55993,55994],\"xaxis\":\"x\",\"y\":[2491597.13920475,1768486.7823182417,829565.562728875,773138.5096860001,694885.2234210001,488148.35540137504,27848.835299000006,15481.525325,14886.420796,8567.793464,7047.943902,1080.122796],\"yaxis\":\"y\",\"type\":\"scatter\"},{\"customdata\":[[\"Merrick\",\"Merrick Purrfect Bistro\"],[\"Merrick\",\"Merrick Purrfect Bistro Grain Free Wet Cat Food Variety Pack Seafood Recipes - (24) 5.5 oz. Cans\"],[\"Merrick\",\"Merrick Purrfect Bistro Grain Free Wet Cat Food Variety Pack Seafood Recipes - (24) 5.5 oz. Cans\"],[\"Merrick\",\"Merrick Purrfect Bistro Grain Free Wet Cat Food Variety Pack Seafood Recipes - (24) 5.5 oz. Cans\"],[\"Merrick\",\"Merrick Purrfect Bistro Grain Free Wet Cat Food Variety Pack Seafood Recipes - (24) 5.5 oz. Cans\"]],\"hovertemplate\":\"Short Name=Merrick Pu\\u003cbr\\u003eNumber of Reviews=%{x}\\u003cbr\\u003eRevenue ($)=%{y}\\u003cbr\\u003eBrand=%{customdata[0]}\\u003cbr\\u003eName=%{customdata[1]}\\u003cextra\\u003e\\u003c\\u002fextra\\u003e\",\"legendgroup\":\"Merrick Pu\",\"marker\":{\"color\":\"#FF6692\",\"symbol\":\"circle\"},\"mode\":\"markers\",\"name\":\"Merrick Pu\",\"orientation\":\"v\",\"showlegend\":true,\"x\":[2567,3913,2961,3913,3022],\"xaxis\":\"x\",\"y\":[2349548.5922012823,296318.5297895,37948.479438083334,31900.350138499995,10913.8872],\"yaxis\":\"y\",\"type\":\"scatter\"},{\"customdata\":[[\"Purina Fancy Feast\",\"Fancy Feast Chicken Feast Classic Pate - (24) 3 oz. Pull-Top Cans\"],[\"Purina Fancy Feast\",\"Fancy Feast Lickable Appetizers - (2 Packs of 12) 1.1 oz. Trays\"],[\"Purina Fancy Feast\",\"Fancy Feast Chicken Feast Classic Pate - (24) 3 oz. Pull-Top Cans\"],[\"Purina Fancy Feast\",\"Fancy Feast Poultry and Beef Feast Classic Pate - (30) 3 oz. Cans\"],[\"Purina Fancy Feast\",\"Fancy Feast Chicken Feast Classic Pate - (24) 3 oz. Pull-Top Cans\"],[\"Purina Fancy Feast\",\"Fancy Feast Lickable Appetizers - (2 Packs of 12) 1.1 oz. Trays\"]],\"hovertemplate\":\"Short Name=Fancy Feas\\u003cbr\\u003eNumber of Reviews=%{x}\\u003cbr\\u003eRevenue ($)=%{y}\\u003cbr\\u003eBrand=%{customdata[0]}\\u003cbr\\u003eName=%{customdata[1]}\\u003cextra\\u003e\\u003c\\u002fextra\\u003e\",\"legendgroup\":\"Fancy Feas\",\"marker\":{\"color\":\"#B6E880\",\"symbol\":\"circle\"},\"mode\":\"markers\",\"name\":\"Fancy Feas\",\"orientation\":\"v\",\"showlegend\":true,\"x\":[4139,6048,4265,76781,4219,22790],\"xaxis\":\"x\",\"y\":[1845698.3745955208,1329240.2103229167,1022195.6295299666,800084.839655,81506.6013105,31087.841689000004],\"yaxis\":\"y\",\"type\":\"scatter\"},{\"customdata\":[[\"Weruva\",\"Weruva Cats in The Kitchen, Kitchen Cuties Variety Pack, Wet Cat Food, 10oz Cans (Pack of 12)\"],[\"Weruva\",\"Weruva Cats in The Kitchen, Kitchen Cuties Variety Pack, Wet Cat Food, 10oz Cans (Pack of 12)\"],[\"Weruva\",\"Weruva Cats in The Kitchen, Kitchen Cuties Variety Pack, Wet Cat Food, 10oz Cans (Pack of 12)\"],[\"Weruva\",\"Weruva Cats in The Kitchen, Kitchen Cuties Variety Pack, Wet Cat Food, 10oz Cans (Pack of 12)\"],[\"Weruva\",\"Weruva Cats in The Kitchen, Kitchen Cuties Variety Pack, Wet Cat Food, 6oz Cans (Pack of 24)\"],[\"Weruva\",\"Weruva Cats in The Kitchen, Kitchen Cuties Variety Pack, Wet Cat Food, 10oz Cans (Pack of 12)\"],[\"Weruva\",\"Weruva Cats in The Kitchen, Kitchen Cuties Variety Pack, Wet Cat Food, 6oz Cans (Pack of 24)\"],[\"Weruva\",\"Weruva Cats in The Kitchen, Kitchen Cuties Variety Pack, Wet Cat Food, 10oz Cans (Pack of 12)\"]],\"hovertemplate\":\"Short Name=Weruva Cat\\u003cbr\\u003eNumber of Reviews=%{x}\\u003cbr\\u003eRevenue ($)=%{y}\\u003cbr\\u003eBrand=%{customdata[0]}\\u003cbr\\u003eName=%{customdata[1]}\\u003cextra\\u003e\\u003c\\u002fextra\\u003e\",\"legendgroup\":\"Weruva Cat\",\"marker\":{\"color\":\"#FF97FF\",\"symbol\":\"circle\"},\"mode\":\"markers\",\"name\":\"Weruva Cat\",\"orientation\":\"v\",\"showlegend\":true,\"x\":[22109,4352,15288,4640,2414,6426,317,4410],\"xaxis\":\"x\",\"y\":[1756494.1299425,1554031.7149795,1455520.3199470001,479214.92361,329512.90524623165,120549.8298095,92633.93639,76929.785114],\"yaxis\":\"y\",\"type\":\"scatter\"},{\"customdata\":[[\"Reveal Limited Ingredients Approved By Cats\",\"Reveal Natural Wet Cat Food, 24 Count, Grain Free, Limited Ingredient Canned Food for Cats, Tuna Fillet in Broth, 2.47 oz Cans\"],[\"Reveal Limited Ingredients Approved By Cats\",\"Reveal Natural Wet Cat Food, 24 Count, Grain Free, Limited Ingredient Canned Food for Cats, Tuna Fillet in Broth, 2.47 oz Cans\"],[\"Reveal Limited Ingredients Approved By Cats\",\"Reveal Natural Wet Cat Food, 24 Count, Grain Free, Limited Ingredient Canned Food for Cats, Tuna Fillet in Broth, 2.47 oz Cans\"],[\"Reveal Limited Ingredients Approved By Cats\",\"Reveal Natural Wet Cat Food, 24 Pack, Limited Ingredient Canned Wet Cat Food, Grain Free Food for Cats, Tuna with Salmon in Gravy, 2.47oz Cans\"],[\"Reveal Limited Ingredients Approved By Cats\",\"Reveal Natural Wet Cat Food, 24 Count, Grain Free, Limited Ingredient Canned Food for Cats, Tuna Fillet in Broth, 2.47 oz Cans\"]],\"hovertemplate\":\"Short Name=Reveal Nat\\u003cbr\\u003eNumber of Reviews=%{x}\\u003cbr\\u003eRevenue ($)=%{y}\\u003cbr\\u003eBrand=%{customdata[0]}\\u003cbr\\u003eName=%{customdata[1]}\\u003cextra\\u003e\\u003c\\u002fextra\\u003e\",\"legendgroup\":\"Reveal Nat\",\"marker\":{\"color\":\"#FECB52\",\"symbol\":\"circle\"},\"mode\":\"markers\",\"name\":\"Reveal Nat\",\"orientation\":\"v\",\"showlegend\":true,\"x\":[2096,5868,4052,115,1726],\"xaxis\":\"x\",\"y\":[1592512.2390073494,1392064.0054678333,378609.694981,84346.35460200909,4476.835306666666],\"yaxis\":\"y\",\"type\":\"scatter\"},{\"customdata\":[[\"Iams\",\"IAMS Proactive Health Adult Indoor Weight & Hairball Care Dry Cat Food with Salmon, 7 lb. Bag\"]],\"hovertemplate\":\"Short Name=IAMS Proac\\u003cbr\\u003eNumber of Reviews=%{x}\\u003cbr\\u003eRevenue ($)=%{y}\\u003cbr\\u003eBrand=%{customdata[0]}\\u003cbr\\u003eName=%{customdata[1]}\\u003cextra\\u003e\\u003c\\u002fextra\\u003e\",\"legendgroup\":\"IAMS Proac\",\"marker\":{\"color\":\"#636efa\",\"symbol\":\"circle\"},\"mode\":\"markers\",\"name\":\"IAMS Proac\",\"orientation\":\"v\",\"showlegend\":true,\"x\":[36352],\"xaxis\":\"x\",\"y\":[1539095.9424064],\"yaxis\":\"y\",\"type\":\"scatter\"},{\"customdata\":[[\"Gorilla Grip\",\"Gorilla Grip 100% Waterproof Raised Edge BPA Free Silicone Pet Feeding Mat, Dog Cat Food Mats Contain Spills Protects Floors, Placemats for Cats and Dogs Water Bowl, Pets Accessories 28x18 Beige\"]],\"hovertemplate\":\"Short Name=Gorilla Gr\\u003cbr\\u003eNumber of Reviews=%{x}\\u003cbr\\u003eRevenue ($)=%{y}\\u003cbr\\u003eBrand=%{customdata[0]}\\u003cbr\\u003eName=%{customdata[1]}\\u003cextra\\u003e\\u003c\\u002fextra\\u003e\",\"legendgroup\":\"Gorilla Gr\",\"marker\":{\"color\":\"#EF553B\",\"symbol\":\"circle\"},\"mode\":\"markers\",\"name\":\"Gorilla Gr\",\"orientation\":\"v\",\"showlegend\":true,\"x\":[25542],\"xaxis\":\"x\",\"y\":[1320955.6658079838],\"yaxis\":\"y\",\"type\":\"scatter\"},{\"customdata\":[[\"9lives\",\"9Lives Plus Care Dry Cat Food, 3.15 Pound Bag (Pack of 4)\"]],\"hovertemplate\":\"Short Name=9Lives Plu\\u003cbr\\u003eNumber of Reviews=%{x}\\u003cbr\\u003eRevenue ($)=%{y}\\u003cbr\\u003eBrand=%{customdata[0]}\\u003cbr\\u003eName=%{customdata[1]}\\u003cextra\\u003e\\u003c\\u002fextra\\u003e\",\"legendgroup\":\"9Lives Plu\",\"marker\":{\"color\":\"#00cc96\",\"symbol\":\"circle\"},\"mode\":\"markers\",\"name\":\"9Lives Plu\",\"orientation\":\"v\",\"showlegend\":true,\"x\":[10334],\"xaxis\":\"x\",\"y\":[1163292.07346],\"yaxis\":\"y\",\"type\":\"scatter\"},{\"customdata\":[[\"Meow Mix\",\"Meow Mix Tender Centers Basted Bites Dry Cat Food, Beef & Salmon Flavors, 3 Pound Bag (Pack of 4)\"],[\"Meow Mix\",\"Meow Mix Tender Centers Basted Bites Dry Cat Food, Beef & Salmon Flavors, 3 Pound Bag (Pack of 4)\"],[\"Meow Mix\",\"Meow Mix Tender Centers Basted Bites Dry Cat Food, Beef & Salmon Flavors, 3 Pound Bag (Pack of 4)\"]],\"hovertemplate\":\"Short Name=Meow Mix T\\u003cbr\\u003eNumber of Reviews=%{x}\\u003cbr\\u003eRevenue ($)=%{y}\\u003cbr\\u003eBrand=%{customdata[0]}\\u003cbr\\u003eName=%{customdata[1]}\\u003cextra\\u003e\\u003c\\u002fextra\\u003e\",\"legendgroup\":\"Meow Mix T\",\"marker\":{\"color\":\"#ab63fa\",\"symbol\":\"circle\"},\"mode\":\"markers\",\"name\":\"Meow Mix T\",\"orientation\":\"v\",\"showlegend\":true,\"x\":[10891,14575,108],\"xaxis\":\"x\",\"y\":[991397.2543627657,68080.15917,11374.082400000001],\"yaxis\":\"y\",\"type\":\"scatter\"},{\"customdata\":[[\"Hill'S Prescription Diet\",\"Hill's Prescription Diet c\\u002fd Multicare Urinary Care with Chicken Dry Cat Food, Veterinary Diet, 8.5 lb. Bag\"],[\"Hill'S Prescription Diet\",\"Hill's Prescription Diet c\\u002fd Multicare Urinary Care with Ocean Fish Wet Cat Food, Veterinary Diet, 5.5 oz. Cans, 24-Pack\"],[\"Hill'S Prescription Diet\",\"Hill's Prescription Diet c\\u002fd Multicare Urinary Care with Ocean Fish Wet Cat Food, Veterinary Diet, 5.5 oz. Cans, 24-Pack\"],[\"Hill'S Prescription Diet\",\"Hill's Prescription Diet c\\u002fd Multicare Urinary Care with Ocean Fish Wet Cat Food, Veterinary Diet, 5.5 oz. Cans, 24-Pack\"],[\"Hill'S Prescription Diet\",\"Hill's Prescription Diet c\\u002fd Multicare Urinary Care with Chicken Dry Cat Food, Veterinary Diet, 8.5 lb. Bag\"],[\"Hill'S Prescription Diet\",\"Hill's Prescription Diet c\\u002fd Multicare Urinary Care with Chicken Dry Cat Food, Veterinary Diet, 8.5 lb. Bag\"],[\"Hill'S Prescription Diet\",\"Hill's Prescription Diet c\\u002fd Multicare Urinary Care with Chicken Dry Cat Food, Veterinary Diet, 8.5 lb. Bag\"],[\"Hill'S Prescription Diet\",\"Hill's Prescription Diet c\\u002fd Multicare Urinary Care with Chicken Dry Cat Food, Veterinary Diet, 8.5 lb. Bag\"],[\"Hill'S Prescription Diet\",\"Hill's Prescription Diet c\\u002fd Multicare Urinary Care Ocean Fish Flavor Dry Cat Food, Veterinary Diet, 17.6 lb. Bag\"],[\"Hill'S Prescription Diet\",\"Hill's Prescription Diet c\\u002fd Multicare Urinary Care with Ocean Fish Dry Cat Food, Veterinary Diet, 8.5 lb. Bag\"],[\"Hill'S Prescription Diet\",\"Hill's Prescription Diet c\\u002fd Multicare Urinary Care with Chicken Dry Cat Food, Veterinary Diet, 8.5 lb. Bag\"],[\"Hill'S Prescription Diet\",\"Hill's Prescription Diet c\\u002fd Multicare Urinary Care with Chicken Dry Cat Food, Veterinary Diet, 8.5 lb. Bag\"],[\"Hill'S Prescription Diet\",\"Hill's Prescription Diet c\\u002fd Multicare Urinary Care with Ocean Fish Wet Cat Food, Veterinary Diet, 5.5 oz. Cans, 24-Pack\"],[\"Hill'S Prescription Diet\",\"Hill's Prescription Diet c\\u002fd Multicare Urinary Care with Chicken Dry Cat Food, Veterinary Diet, 8.5 lb. Bag\"],[\"Hill'S Prescription Diet\",\"Hill's Prescription Diet c\\u002fd Multicare Urinary Care with Ocean Fish Dry Cat Food, Veterinary Diet, 8.5 lb. Bag\"],[\"Hill'S Prescription Diet\",\"Hill's Prescription Diet c\\u002fd Multicare Urinary Care with Ocean Fish Wet Cat Food, Veterinary Diet, 5.5 oz. Cans, 24-Pack\"],[\"Hill'S Prescription Diet\",\"Hill's Prescription Diet c\\u002fd Multicare Urinary Care with Chicken Dry Cat Food, Veterinary Diet, 8.5 lb. Bag\"],[\"Hill'S Prescription Diet\",\"Hill's Prescription Diet c\\u002fd Multicare Urinary Care with Ocean Fish Wet Cat Food, Veterinary Diet, 5.5 oz. Cans, 24-Pack\"],[\"Hill'S Prescription Diet\",\"Hill's Prescription Diet c\\u002fd Multicare Urinary Care with Ocean Fish Wet Cat Food, Veterinary Diet, 5.5 oz. Cans, 24-Pack\"],[\"Hill'S Prescription Diet\",\"Hill's Prescription Diet c\\u002fd Multicare Urinary Care with Chicken Dry Cat Food, Veterinary Diet, 8.5 lb. Bag\"],[\"Hill'S Prescription Diet\",\"Hill's Prescription Diet c\\u002fd Multicare Urinary Care with Ocean Fish Wet Cat Food, Veterinary Diet, 5.5 oz. Cans, 24-Pack\"]],\"hovertemplate\":\"Short Name=Hill's Pre\\u003cbr\\u003eNumber of Reviews=%{x}\\u003cbr\\u003eRevenue ($)=%{y}\\u003cbr\\u003eBrand=%{customdata[0]}\\u003cbr\\u003eName=%{customdata[1]}\\u003cextra\\u003e\\u003c\\u002fextra\\u003e\",\"legendgroup\":\"Hill's Pre\",\"marker\":{\"color\":\"#FFA15A\",\"symbol\":\"circle\"},\"mode\":\"markers\",\"name\":\"Hill's Pre\",\"orientation\":\"v\",\"showlegend\":true,\"x\":[2954,218,1483,433,978,2239,2644,978,79,393,2451,2326,1444,2412,606,217,2768,436,2401,1625,3038],\"xaxis\":\"x\",\"y\":[908292.0182401935,754092.5419172316,541356.1893405964,447076.128271,389104.89115000004,256082.377207,245742.043833,239920.429889,204998.34718170515,170098.10105,165678.36762875,149211.0690525,126476.1934215,99720.7729535,93487.382816,83839.18771099999,61390.166697500004,53334.5046525,39307.991481,30440.069344,3740.8553075],\"yaxis\":\"y\",\"type\":\"scatter\"},{\"customdata\":[[\"Hill'S Science Diet\",\"Hill's Pet Nutrition Science Diet, Grain Free Dry Cat Food, Adult, Sensitive Stomach & Skin, Salmon & Yellow Pea Recipe, 13 lb. Bag\"],[\"Hill'S Science Diet\",\"Hill's Pet Nutrition Science Diet, Grain Free Dry Cat Food, Adult, Sensitive Stomach & Skin, Salmon & Yellow Pea Recipe, 13 lb. Bag\"],[\"Hill'S Science Diet\",\"Hill's Pet Nutrition Science Diet, Grain Free Dry Cat Food, Adult, Sensitive Stomach & Skin, Salmon & Yellow Pea Recipe, 13 lb. Bag\"],[\"Hill'S Pet Nutrition\",\"Hill's Pet Nutrition Science Diet, Grain Free Dry Cat Food, Adult, Sensitive Stomach & Skin, Salmon & Yellow Pea Recipe, 13 lb. Bag\"]],\"hovertemplate\":\"Short Name=Hill's Pet\\u003cbr\\u003eNumber of Reviews=%{x}\\u003cbr\\u003eRevenue ($)=%{y}\\u003cbr\\u003eBrand=%{customdata[0]}\\u003cbr\\u003eName=%{customdata[1]}\\u003cextra\\u003e\\u003c\\u002fextra\\u003e\",\"legendgroup\":\"Hill's Pet\",\"marker\":{\"color\":\"#19d3f3\",\"symbol\":\"circle\"},\"mode\":\"markers\",\"name\":\"Hill's Pet\",\"orientation\":\"v\",\"showlegend\":true,\"x\":[12934,1240,12934,1168],\"xaxis\":\"x\",\"y\":[583595.331261,409312.119464,58287.94410100001,32515.7008425],\"yaxis\":\"y\",\"type\":\"scatter\"},{\"customdata\":[[\"Petsafe\",\"PetSafe Healthy Pet Water Station- Large, 320 oz Capacity- Gravity Cat & Dog Waterer- Removable Stainless Steel Bowl Resists Corrosion & Stands Up to Frequent Use- Easy to Fill- Filter Compatible\"],[\"Petsafe\",\"PetSafe Healthy Pet Water Station- Large, 320 oz Capacity- Gravity Cat & Dog Waterer- Removable Stainless Steel Bowl Resists Corrosion & Stands Up to Frequent Use- Easy to Fill- Filter Compatible\"],[\"Petsafe\",\"PetSafe Healthy Pet Water Station- Large, 320 oz Capacity- Gravity Cat & Dog Waterer- Removable Stainless Steel Bowl Resists Corrosion & Stands Up to Frequent Use- Easy to Fill- Filter Compatible\"],[\"Petsafe\",\"PetSafe Healthy Pet Water Station- Large, 320 oz Capacity- Gravity Cat & Dog Waterer- Removable Stainless Steel Bowl Resists Corrosion & Stands Up to Frequent Use- Easy to Fill- Filter Compatible\"],[\"Petsafe\",\"PetSafe Healthy Pet Water Station- Large, 320 oz Capacity- Gravity Cat & Dog Waterer- Removable Stainless Steel Bowl Resists Corrosion & Stands Up to Frequent Use- Easy to Fill- Filter Compatible\"]],\"hovertemplate\":\"Short Name=PetSafe He\\u003cbr\\u003eNumber of Reviews=%{x}\\u003cbr\\u003eRevenue ($)=%{y}\\u003cbr\\u003eBrand=%{customdata[0]}\\u003cbr\\u003eName=%{customdata[1]}\\u003cextra\\u003e\\u003c\\u002fextra\\u003e\",\"legendgroup\":\"PetSafe He\",\"marker\":{\"color\":\"#FF6692\",\"symbol\":\"circle\"},\"mode\":\"markers\",\"name\":\"PetSafe He\",\"orientation\":\"v\",\"showlegend\":true,\"x\":[28702,17416,38528,28064,38390],\"xaxis\":\"x\",\"y\":[505612.5077338091,426877.49074112496,93317.355955,57088.032905,35682.49929],\"yaxis\":\"y\",\"type\":\"scatter\"},{\"customdata\":[[\"Purina Beyond\",\"PURINA Beyond Chicken, Beef and Carrot and Turkey, Sweet Potato and Spinach in Wet Cat Food Gravy 12 Ct Variety Pack - (12) 3 oz. Cans\"],[\"Purina Beyond\",\"PURINA Beyond Chicken, Beef and Carrot and Turkey, Sweet Potato and Spinach in Wet Cat Food Gravy 12 Ct Variety Pack - (12) 3 oz. Cans\"],[\"Purina Beyond\",\"PURINA Beyond Chicken, Beef and Carrot and Turkey, Sweet Potato and Spinach in Wet Cat Food Gravy 12 Ct Variety Pack - (12) 3 oz. Cans\"],[\"Purina Beyond\",\"PURINA Beyond Chicken, Beef and Carrot and Turkey, Sweet Potato and Spinach in Wet Cat Food Gravy 12 Ct Variety Pack - (12) 3 oz. Cans\"]],\"hovertemplate\":\"Short Name=PURINA Bey\\u003cbr\\u003eNumber of Reviews=%{x}\\u003cbr\\u003eRevenue ($)=%{y}\\u003cbr\\u003eBrand=%{customdata[0]}\\u003cbr\\u003eName=%{customdata[1]}\\u003cextra\\u003e\\u003c\\u002fextra\\u003e\",\"legendgroup\":\"PURINA Bey\",\"marker\":{\"color\":\"#B6E880\",\"symbol\":\"circle\"},\"mode\":\"markers\",\"name\":\"PURINA Bey\",\"orientation\":\"v\",\"showlegend\":true,\"x\":[306,14308,3614,68],\"xaxis\":\"x\",\"y\":[217969.23724432528,177328.38666000002,141505.05602674012,30107.183176408074],\"yaxis\":\"y\",\"type\":\"scatter\"},{\"customdata\":[[\"Purina Fancy Feast\",\"PURINA Fancy Feast Savory Centers Salmon Pate Adult Wet Cat Food With a Gravy Center - 3 oz. Can\"],[\"Purina Fancy Feast\",\"PURINA Fancy Feast Savory Centers Salmon Pate Adult Wet Cat Food With a Gravy Center - 3 oz. Can\"]],\"hovertemplate\":\"Short Name=PURINA Fan\\u003cbr\\u003eNumber of Reviews=%{x}\\u003cbr\\u003eRevenue ($)=%{y}\\u003cbr\\u003eBrand=%{customdata[0]}\\u003cbr\\u003eName=%{customdata[1]}\\u003cextra\\u003e\\u003c\\u002fextra\\u003e\",\"legendgroup\":\"PURINA Fan\",\"marker\":{\"color\":\"#FF97FF\",\"symbol\":\"circle\"},\"mode\":\"markers\",\"name\":\"PURINA Fan\",\"orientation\":\"v\",\"showlegend\":true,\"x\":[939,208],\"xaxis\":\"x\",\"y\":[186480.44170296667,192.741696],\"yaxis\":\"y\",\"type\":\"scatter\"},{\"customdata\":[[\"Squishmallow\",\"Squishmallows Oficial Kellytoy Food Squad Plush Toys Soft Plush Animal (8 Inch, Hayes The Cheeseburger Cat)\"]],\"hovertemplate\":\"Short Name=Squishmall\\u003cbr\\u003eNumber of Reviews=%{x}\\u003cbr\\u003eRevenue ($)=%{y}\\u003cbr\\u003eBrand=%{customdata[0]}\\u003cbr\\u003eName=%{customdata[1]}\\u003cextra\\u003e\\u003c\\u002fextra\\u003e\",\"legendgroup\":\"Squishmall\",\"marker\":{\"color\":\"#FECB52\",\"symbol\":\"circle\"},\"mode\":\"markers\",\"name\":\"Squishmall\",\"orientation\":\"v\",\"showlegend\":true,\"x\":[1730],\"xaxis\":\"x\",\"y\":[123568.42856375],\"yaxis\":\"y\",\"type\":\"scatter\"},{\"customdata\":[[\"Sheba Wet Food\",\"Sheba Wet Food PERFECT PORTIONS Pat\\u00e9 Adult Wet Cat Food Trays (24 Count, 48 Servings), Savory Chicken Entr\\u00e9e, Easy Peel Twin-Pack Trays\"],[\"Sheba Wet Food\",\"Sheba Wet Food PERFECT PORTIONS Pat\\u00e9 Adult Wet Cat Food Trays (24 Count, 48 Servings), Savory Chicken Entr\\u00e9e, Easy Peel Twin-Pack Trays\"]],\"hovertemplate\":\"Short Name=Sheba Wet \\u003cbr\\u003eNumber of Reviews=%{x}\\u003cbr\\u003eRevenue ($)=%{y}\\u003cbr\\u003eBrand=%{customdata[0]}\\u003cbr\\u003eName=%{customdata[1]}\\u003cextra\\u003e\\u003c\\u002fextra\\u003e\",\"legendgroup\":\"Sheba Wet \",\"marker\":{\"color\":\"#636efa\",\"symbol\":\"circle\"},\"mode\":\"markers\",\"name\":\"Sheba Wet \",\"orientation\":\"v\",\"showlegend\":true,\"x\":[3364,7319],\"xaxis\":\"x\",\"y\":[37467.803868,18747.423536],\"yaxis\":\"y\",\"type\":\"scatter\"},{\"customdata\":[[\"Sheba\",\"Sheba Perfect PORTIONS Bistro Wet Cat Food Trays (24 Count, 48 Servings), Salmon in Creamy Sauce Entr\\u00e9e, Easy Peel Twin-Pack Trays\"],[\"Sheba\",\"Sheba Perfect PORTIONS Bistro Wet Cat Food Trays (24 Count, 48 Servings), Salmon in Creamy Sauce Entr\\u00e9e, Easy Peel Twin-Pack Trays\"],[\"Sheba\",\"Sheba Perfect PORTIONS Cuts in Gravy Wet Cat Food Trays (36 Count, 72 Servings), Roasted Chicken, Signature Tuna and Tender Turkey Entr\\u00e9e, Easy Peel Twin-Pack Trays\"]],\"hovertemplate\":\"Short Name=Sheba Perf\\u003cbr\\u003eNumber of Reviews=%{x}\\u003cbr\\u003eRevenue ($)=%{y}\\u003cbr\\u003eBrand=%{customdata[0]}\\u003cbr\\u003eName=%{customdata[1]}\\u003cextra\\u003e\\u003c\\u002fextra\\u003e\",\"legendgroup\":\"Sheba Perf\",\"marker\":{\"color\":\"#EF553B\",\"symbol\":\"circle\"},\"mode\":\"markers\",\"name\":\"Sheba Perf\",\"orientation\":\"v\",\"showlegend\":true,\"x\":[1359,438,613],\"xaxis\":\"x\",\"y\":[16059.282459416041,2719.6427519999997,1656.871699],\"yaxis\":\"y\",\"type\":\"scatter\"}],                        {\"template\":{\"data\":{\"histogram2dcontour\":[{\"type\":\"histogram2dcontour\",\"colorbar\":{\"outlinewidth\":0,\"ticks\":\"\"},\"colorscale\":[[0.0,\"#0d0887\"],[0.1111111111111111,\"#46039f\"],[0.2222222222222222,\"#7201a8\"],[0.3333333333333333,\"#9c179e\"],[0.4444444444444444,\"#bd3786\"],[0.5555555555555556,\"#d8576b\"],[0.6666666666666666,\"#ed7953\"],[0.7777777777777778,\"#fb9f3a\"],[0.8888888888888888,\"#fdca26\"],[1.0,\"#f0f921\"]]}],\"choropleth\":[{\"type\":\"choropleth\",\"colorbar\":{\"outlinewidth\":0,\"ticks\":\"\"}}],\"histogram2d\":[{\"type\":\"histogram2d\",\"colorbar\":{\"outlinewidth\":0,\"ticks\":\"\"},\"colorscale\":[[0.0,\"#0d0887\"],[0.1111111111111111,\"#46039f\"],[0.2222222222222222,\"#7201a8\"],[0.3333333333333333,\"#9c179e\"],[0.4444444444444444,\"#bd3786\"],[0.5555555555555556,\"#d8576b\"],[0.6666666666666666,\"#ed7953\"],[0.7777777777777778,\"#fb9f3a\"],[0.8888888888888888,\"#fdca26\"],[1.0,\"#f0f921\"]]}],\"heatmap\":[{\"type\":\"heatmap\",\"colorbar\":{\"outlinewidth\":0,\"ticks\":\"\"},\"colorscale\":[[0.0,\"#0d0887\"],[0.1111111111111111,\"#46039f\"],[0.2222222222222222,\"#7201a8\"],[0.3333333333333333,\"#9c179e\"],[0.4444444444444444,\"#bd3786\"],[0.5555555555555556,\"#d8576b\"],[0.6666666666666666,\"#ed7953\"],[0.7777777777777778,\"#fb9f3a\"],[0.8888888888888888,\"#fdca26\"],[1.0,\"#f0f921\"]]}],\"heatmapgl\":[{\"type\":\"heatmapgl\",\"colorbar\":{\"outlinewidth\":0,\"ticks\":\"\"},\"colorscale\":[[0.0,\"#0d0887\"],[0.1111111111111111,\"#46039f\"],[0.2222222222222222,\"#7201a8\"],[0.3333333333333333,\"#9c179e\"],[0.4444444444444444,\"#bd3786\"],[0.5555555555555556,\"#d8576b\"],[0.6666666666666666,\"#ed7953\"],[0.7777777777777778,\"#fb9f3a\"],[0.8888888888888888,\"#fdca26\"],[1.0,\"#f0f921\"]]}],\"contourcarpet\":[{\"type\":\"contourcarpet\",\"colorbar\":{\"outlinewidth\":0,\"ticks\":\"\"}}],\"contour\":[{\"type\":\"contour\",\"colorbar\":{\"outlinewidth\":0,\"ticks\":\"\"},\"colorscale\":[[0.0,\"#0d0887\"],[0.1111111111111111,\"#46039f\"],[0.2222222222222222,\"#7201a8\"],[0.3333333333333333,\"#9c179e\"],[0.4444444444444444,\"#bd3786\"],[0.5555555555555556,\"#d8576b\"],[0.6666666666666666,\"#ed7953\"],[0.7777777777777778,\"#fb9f3a\"],[0.8888888888888888,\"#fdca26\"],[1.0,\"#f0f921\"]]}],\"surface\":[{\"type\":\"surface\",\"colorbar\":{\"outlinewidth\":0,\"ticks\":\"\"},\"colorscale\":[[0.0,\"#0d0887\"],[0.1111111111111111,\"#46039f\"],[0.2222222222222222,\"#7201a8\"],[0.3333333333333333,\"#9c179e\"],[0.4444444444444444,\"#bd3786\"],[0.5555555555555556,\"#d8576b\"],[0.6666666666666666,\"#ed7953\"],[0.7777777777777778,\"#fb9f3a\"],[0.8888888888888888,\"#fdca26\"],[1.0,\"#f0f921\"]]}],\"mesh3d\":[{\"type\":\"mesh3d\",\"colorbar\":{\"outlinewidth\":0,\"ticks\":\"\"}}],\"scatter\":[{\"fillpattern\":{\"fillmode\":\"overlay\",\"size\":10,\"solidity\":0.2},\"type\":\"scatter\"}],\"parcoords\":[{\"type\":\"parcoords\",\"line\":{\"colorbar\":{\"outlinewidth\":0,\"ticks\":\"\"}}}],\"scatterpolargl\":[{\"type\":\"scatterpolargl\",\"marker\":{\"colorbar\":{\"outlinewidth\":0,\"ticks\":\"\"}}}],\"bar\":[{\"error_x\":{\"color\":\"#2a3f5f\"},\"error_y\":{\"color\":\"#2a3f5f\"},\"marker\":{\"line\":{\"color\":\"#E5ECF6\",\"width\":0.5},\"pattern\":{\"fillmode\":\"overlay\",\"size\":10,\"solidity\":0.2}},\"type\":\"bar\"}],\"scattergeo\":[{\"type\":\"scattergeo\",\"marker\":{\"colorbar\":{\"outlinewidth\":0,\"ticks\":\"\"}}}],\"scatterpolar\":[{\"type\":\"scatterpolar\",\"marker\":{\"colorbar\":{\"outlinewidth\":0,\"ticks\":\"\"}}}],\"histogram\":[{\"marker\":{\"pattern\":{\"fillmode\":\"overlay\",\"size\":10,\"solidity\":0.2}},\"type\":\"histogram\"}],\"scattergl\":[{\"type\":\"scattergl\",\"marker\":{\"colorbar\":{\"outlinewidth\":0,\"ticks\":\"\"}}}],\"scatter3d\":[{\"type\":\"scatter3d\",\"line\":{\"colorbar\":{\"outlinewidth\":0,\"ticks\":\"\"}},\"marker\":{\"colorbar\":{\"outlinewidth\":0,\"ticks\":\"\"}}}],\"scattermapbox\":[{\"type\":\"scattermapbox\",\"marker\":{\"colorbar\":{\"outlinewidth\":0,\"ticks\":\"\"}}}],\"scatterternary\":[{\"type\":\"scatterternary\",\"marker\":{\"colorbar\":{\"outlinewidth\":0,\"ticks\":\"\"}}}],\"scattercarpet\":[{\"type\":\"scattercarpet\",\"marker\":{\"colorbar\":{\"outlinewidth\":0,\"ticks\":\"\"}}}],\"carpet\":[{\"aaxis\":{\"endlinecolor\":\"#2a3f5f\",\"gridcolor\":\"white\",\"linecolor\":\"white\",\"minorgridcolor\":\"white\",\"startlinecolor\":\"#2a3f5f\"},\"baxis\":{\"endlinecolor\":\"#2a3f5f\",\"gridcolor\":\"white\",\"linecolor\":\"white\",\"minorgridcolor\":\"white\",\"startlinecolor\":\"#2a3f5f\"},\"type\":\"carpet\"}],\"table\":[{\"cells\":{\"fill\":{\"color\":\"#EBF0F8\"},\"line\":{\"color\":\"white\"}},\"header\":{\"fill\":{\"color\":\"#C8D4E3\"},\"line\":{\"color\":\"white\"}},\"type\":\"table\"}],\"barpolar\":[{\"marker\":{\"line\":{\"color\":\"#E5ECF6\",\"width\":0.5},\"pattern\":{\"fillmode\":\"overlay\",\"size\":10,\"solidity\":0.2}},\"type\":\"barpolar\"}],\"pie\":[{\"automargin\":true,\"type\":\"pie\"}]},\"layout\":{\"autotypenumbers\":\"strict\",\"colorway\":[\"#636efa\",\"#EF553B\",\"#00cc96\",\"#ab63fa\",\"#FFA15A\",\"#19d3f3\",\"#FF6692\",\"#B6E880\",\"#FF97FF\",\"#FECB52\"],\"font\":{\"color\":\"#2a3f5f\"},\"hovermode\":\"closest\",\"hoverlabel\":{\"align\":\"left\"},\"paper_bgcolor\":\"white\",\"plot_bgcolor\":\"#E5ECF6\",\"polar\":{\"bgcolor\":\"#E5ECF6\",\"angularaxis\":{\"gridcolor\":\"white\",\"linecolor\":\"white\",\"ticks\":\"\"},\"radialaxis\":{\"gridcolor\":\"white\",\"linecolor\":\"white\",\"ticks\":\"\"}},\"ternary\":{\"bgcolor\":\"#E5ECF6\",\"aaxis\":{\"gridcolor\":\"white\",\"linecolor\":\"white\",\"ticks\":\"\"},\"baxis\":{\"gridcolor\":\"white\",\"linecolor\":\"white\",\"ticks\":\"\"},\"caxis\":{\"gridcolor\":\"white\",\"linecolor\":\"white\",\"ticks\":\"\"}},\"coloraxis\":{\"colorbar\":{\"outlinewidth\":0,\"ticks\":\"\"}},\"colorscale\":{\"sequential\":[[0.0,\"#0d0887\"],[0.1111111111111111,\"#46039f\"],[0.2222222222222222,\"#7201a8\"],[0.3333333333333333,\"#9c179e\"],[0.4444444444444444,\"#bd3786\"],[0.5555555555555556,\"#d8576b\"],[0.6666666666666666,\"#ed7953\"],[0.7777777777777778,\"#fb9f3a\"],[0.8888888888888888,\"#fdca26\"],[1.0,\"#f0f921\"]],\"sequentialminus\":[[0.0,\"#0d0887\"],[0.1111111111111111,\"#46039f\"],[0.2222222222222222,\"#7201a8\"],[0.3333333333333333,\"#9c179e\"],[0.4444444444444444,\"#bd3786\"],[0.5555555555555556,\"#d8576b\"],[0.6666666666666666,\"#ed7953\"],[0.7777777777777778,\"#fb9f3a\"],[0.8888888888888888,\"#fdca26\"],[1.0,\"#f0f921\"]],\"diverging\":[[0,\"#8e0152\"],[0.1,\"#c51b7d\"],[0.2,\"#de77ae\"],[0.3,\"#f1b6da\"],[0.4,\"#fde0ef\"],[0.5,\"#f7f7f7\"],[0.6,\"#e6f5d0\"],[0.7,\"#b8e186\"],[0.8,\"#7fbc41\"],[0.9,\"#4d9221\"],[1,\"#276419\"]]},\"xaxis\":{\"gridcolor\":\"white\",\"linecolor\":\"white\",\"ticks\":\"\",\"title\":{\"standoff\":15},\"zerolinecolor\":\"white\",\"automargin\":true,\"zerolinewidth\":2},\"yaxis\":{\"gridcolor\":\"white\",\"linecolor\":\"white\",\"ticks\":\"\",\"title\":{\"standoff\":15},\"zerolinecolor\":\"white\",\"automargin\":true,\"zerolinewidth\":2},\"scene\":{\"xaxis\":{\"backgroundcolor\":\"#E5ECF6\",\"gridcolor\":\"white\",\"linecolor\":\"white\",\"showbackground\":true,\"ticks\":\"\",\"zerolinecolor\":\"white\",\"gridwidth\":2},\"yaxis\":{\"backgroundcolor\":\"#E5ECF6\",\"gridcolor\":\"white\",\"linecolor\":\"white\",\"showbackground\":true,\"ticks\":\"\",\"zerolinecolor\":\"white\",\"gridwidth\":2},\"zaxis\":{\"backgroundcolor\":\"#E5ECF6\",\"gridcolor\":\"white\",\"linecolor\":\"white\",\"showbackground\":true,\"ticks\":\"\",\"zerolinecolor\":\"white\",\"gridwidth\":2}},\"shapedefaults\":{\"line\":{\"color\":\"#2a3f5f\"}},\"annotationdefaults\":{\"arrowcolor\":\"#2a3f5f\",\"arrowhead\":0,\"arrowwidth\":1},\"geo\":{\"bgcolor\":\"white\",\"landcolor\":\"#E5ECF6\",\"subunitcolor\":\"white\",\"showland\":true,\"showlakes\":true,\"lakecolor\":\"white\"},\"title\":{\"x\":0.05},\"mapbox\":{\"style\":\"light\"}}},\"xaxis\":{\"anchor\":\"y\",\"domain\":[0.0,1.0],\"title\":{\"text\":\"Number of Reviews\"},\"type\":\"log\"},\"yaxis\":{\"anchor\":\"x\",\"domain\":[0.0,1.0],\"title\":{\"text\":\"Revenue ($)\"},\"type\":\"log\"},\"legend\":{\"title\":{\"text\":\"Short Name\"},\"tracegroupgap\":0},\"title\":{\"text\":\"Review Count vs. Revenue Correlation by Product\"}},                        {\"responsive\": true}                    ).then(function(){\n",
       "                            \n",
       "var gd = document.getElementById('fc5e28fc-bc5f-41b5-8297-229e6cc3122f');\n",
       "var x = new MutationObserver(function (mutations, observer) {{\n",
       "        var display = window.getComputedStyle(gd).display;\n",
       "        if (!display || display === 'none') {{\n",
       "            console.log([gd, 'removed!']);\n",
       "            Plotly.purge(gd);\n",
       "            observer.disconnect();\n",
       "        }}\n",
       "}});\n",
       "\n",
       "// Listen for the removal of the full notebook cells\n",
       "var notebookContainer = gd.closest('#notebook-container');\n",
       "if (notebookContainer) {{\n",
       "    x.observe(notebookContainer, {childList: true});\n",
       "}}\n",
       "\n",
       "// Listen for the clearing of the current output cell\n",
       "var outputEl = gd.closest('.output');\n",
       "if (outputEl) {{\n",
       "    x.observe(outputEl, {childList: true});\n",
       "}}\n",
       "\n",
       "                        })                };                });            </script>        </div>"
      ]
     },
     "metadata": {},
     "output_type": "display_data"
    }
   ],
   "source": [
    "# Load the 'Segment Products' data\n",
    "product_data = pd.read_excel('../Customer_Success_Engineer_-_Project_Data.xlsx', sheet_name='Segment Products', header=1)\n",
    "\n",
    "# Truncate product names to the first 10 characters for cleaner display\n",
    "product_data['Short Name'] = product_data['Name'].apply(lambda x: x[:10])\n",
    "\n",
    "# Filter out any zero or negative values that might interfere with log scaling\n",
    "product_data = product_data[(product_data['# of Reviews'] > 0) & (product_data['Revenue'] > 0)]\n",
    "\n",
    "# Create the scatter plot, using 'Short Name' for individual product identification\n",
    "fig = px.scatter(\n",
    "    product_data, \n",
    "    x='# of Reviews', \n",
    "    y='Revenue', \n",
    "    title='Review Count vs. Revenue Correlation by Product', \n",
    "    color='Short Name',  # Use the shortened product names for color coding\n",
    "    hover_data=['Brand', 'Name'],  # Include full product name in the hover tooltips for clarity\n",
    "    labels={'# of Reviews': 'Number of Reviews', 'Revenue': 'Revenue ($)'}\n",
    ")\n",
    "\n",
    "# Logarithmic scales for both axes\n",
    "fig.update_layout(\n",
    "    xaxis_title='Number of Reviews',\n",
    "    yaxis_title='Revenue ($)',\n",
    "    xaxis_type='log',\n",
    "    yaxis_type='log'\n",
    ")\n",
    "\n",
    "# Show the plot\n",
    "fig.show()"
   ]
  },
  {
   "cell_type": "markdown",
   "metadata": {},
   "source": [
    "Rating vs. Revenue Correlation with Review Count as Bubble Size"
   ]
  },
  {
   "cell_type": "code",
   "execution_count": 28,
   "metadata": {},
   "outputs": [
    {
     "data": {
      "application/vnd.plotly.v1+json": {
       "config": {
        "plotlyServerURL": "https://plot.ly"
       },
       "data": [
        {
         "hovertemplate": "<b>%{hovertext}</b><br><br>Brand=Purina Fancy Feast<br>Product Rating=%{x}<br>Revenue ($)=%{y}<br>Number of Reviews=%{marker.size}<extra></extra>",
         "hovertext": [
          "Purina Fancy Feast Grilled Wet Cat Food Seafood Collection in Wet Cat Food Variety Pack - (24) 3 oz. Cans",
          "Purina Fancy Feast Grilled Wet Cat Food Seafood Collection in Wet Cat Food Variety Pack - (24) 3 oz. Cans",
          "Purina Fancy Feast Grilled - (24) 3 oz. Cans",
          "Purina Fancy Feast Dry Cat Food, with Savory Chicken & Turkey - 12 lb with Fancy Feast Natural Wet Cat Food Variety Pack, Gourmet Naturals Poultry & Beef Collection - (30) 3 oz. Cans",
          "Purina Fancy Feast Wet Cat Food Variety Pack Gourmet Naturals - (30) 3 oz. Cans",
          "Purina Fancy Feast Grilled - (24) 3 oz. Cans",
          "Purina Fancy Feast Wet Cat Food, Flaked Tuna & Mackerel Feast - (24) 3 oz. Cans",
          "Purina Fancy Feast Gravy Lovers - (24) 3 oz. Cans",
          "Purina Fancy Feast Gravy Wet Cat Food Variety Pack, Gravy Lovers Poultry & Beef - (30) 3 oz. Cans",
          "Purina Fancy Feast Gourmet Wet Cat Food Variety Pack, Petites - (24) 2.8 oz. Tubs",
          "Purina Fancy Feast Tender Beef Feast Classic Grain Free Wet Cat Food Pate - (24) 3 oz. Cans",
          "Purina Fancy Feast Gravy Wet Cat Food Variety Pack, Gravy Lovers Poultry & Beef - (30) 3 oz. Cans",
          "Fancy Feast Chicken Feast Classic Pate - (24) 3 oz. Pull-Top Cans",
          "Purina Fancy Feast Wet Cat Food, Medleys Shredded Wild Salmon Fare With Spinach in a Savory Cat Food Broth - (24) 3 Oz. Cans",
          "Fancy Feast Lickable Appetizers - (2 Packs of 12) 1.1 oz. Trays",
          "Purina Fancy Feast Wet Cat Food, Flaked Tuna & Mackerel Feast - (24) 3 oz. Cans",
          "Purina Fancy Feast Pate Wet Cat Food, Medleys Whitefish & Tuna Florentine With Cheese - (24) 3 oz. Cans",
          "Purina Fancy Feast Wet Cat Food Variety Pack Gourmet Naturals Seafood - (30) 3 oz. Cans",
          "Purina Fancy Feast Grilled Gravy Wet Cat Food Variety Pack, Seafood & Poultry Grilled Collection - (30) 3 oz. Cans",
          "Fancy Feast Chicken Feast Classic Pate - (24) 3 oz. Pull-Top Cans",
          "Purina Fancy Feast Grilled Wet Cat Food Seafood Collection in Wet Cat Food Variety Pack - (24) 3 oz. Cans",
          "Purina Fancy Feast Dry Cat Food with Savory Chicken and Turkey - 12 lb. Bag",
          "Purina Fancy Feast Wet Cat Food, Flaked Tuna & Mackerel Feast - (24) 3 oz. Cans",
          "Purina Fancy Feast Gravy Lovers - (24) 3 oz. Cans",
          "Fancy Feast Poultry and Beef Feast Classic Pate - (30) 3 oz. Cans",
          "Purina Fancy Feast Pate Wet Cat Food Variety Pack, Savory Centers - (2 Packs of 12) 3 oz. Pull-Top Cans",
          "Purina Fancy Feast Grilled - (24) 3 oz. Cans",
          "Purina Fancy Feast Grain Free, Natural Pate Wet Cat Food, Gourmet Naturals Plus Coconut Milk, Trout & Tuna Recipe - (24) 3 oz. Cans",
          "Purina Fancy Feast Gravy Lovers - (24) 3 oz. Cans",
          "Purina Fancy Feast Grilled Wet Cat Food Seafood Collection in Wet Cat Food Variety Pack - (24) 3 oz. Cans",
          "Purina Fancy Feast Gourmet Wet Cat Food Variety Pack, Petites - (24) 2.8 oz. Tubs",
          "Purina Fancy Feast Grilled Gravy Wet Cat Food, Delights Grilled Tuna & Cheddar Cheese Feast - (24) 3 oz. Cans",
          "Purina Fancy Feast Savory Centers - (24) 3 oz. Cans",
          "Purina Fancy Feast Wet Cat Food Variety Pack Gourmet Naturals - (30) 3 oz. Cans",
          "Purina Fancy Feast Grilled Wet Cat Food Seafood Collection in Wet Cat Food Variety Pack - (24) 3 oz. Cans",
          "Purina Fancy Feast Gravy Lovers - (24) 3 oz. Cans",
          "Purina Fancy Feast Tender Beef Feast Classic Grain Free Wet Cat Food Pate - (24) 3 oz. Cans",
          "PURINA Fancy Feast Savory Centers Salmon Pate Adult Wet Cat Food With a Gravy Center - 3 oz. Can",
          "Purina Fancy Feast Grilled - (24) 3 oz. Cans",
          "Purina Fancy Feast Pate Wet Cat Food Variety Pack, Savory Centers - (2 Packs of 12) 3 oz. Pull-Top Cans",
          "Purina Fancy Feast Grilled - (24) 3 oz. Cans",
          "Purina Fancy Feast Grilled - (24) 3 oz. Cans",
          "Purina Fancy Feast Grilled - (24) 3 oz. Cans",
          "Purina Fancy Feast Wet Cat Food, Medleys Shredded Wild Salmon Fare With Spinach in a Savory Cat Food Broth - (24) 3 Oz. Cans",
          "Purina Fancy Feast Grilled Wet Cat Food Seafood Collection in Wet Cat Food Variety Pack - (24) 3 oz. Cans",
          "Purina Fancy Feast Grilled Wet Cat Food Seafood Collection in Wet Cat Food Variety Pack - (24) 3 oz. Cans",
          "Purina Fancy Feast Tender Beef Feast Classic Grain Free Wet Cat Food Pate - (24) 3 oz. Cans",
          "Purina Fancy Feast Grilled - (24) 3 oz. Cans",
          "Purina Fancy Feast Pate Wet Cat Food Variety Pack, Savory Centers - (2 Packs of 12) 3 oz. Pull-Top Cans",
          "Purina Fancy Feast Savory Centers - (24) 3 oz. Cans",
          "Fancy Feast Chicken Feast Classic Pate - (24) 3 oz. Pull-Top Cans",
          "Purina Fancy Feast Gravy Wet Cat Food Variety Pack, Gravy Lovers Poultry & Beef - (30) 3 oz. Cans",
          "Purina Fancy Feast Grilled Gravy Wet Cat Food, Delights Grilled Tuna & Cheddar Cheese Feast - (24) 3 oz. Cans",
          "Purina Fancy Feast Grain Free, Natural Pate Wet Cat Food, Gourmet Naturals Plus Coconut Milk Chicken Recipe - (24) 3 oz. Cans",
          "Purina Fancy Feast Cat Food Medleys - (24) 3 oz. Cans",
          "Purina Fancy Feast Dry Cat Food with Savory Chicken and Turkey - 12 lb. Bag",
          "Purina Fancy Feast Gravy Wet Cat Food Variety Pack, Gravy Lovers Poultry & Beef - (30) 3 oz. Cans",
          "Purina Fancy Feast Wet Cat Food Variety Pack Gourmet Naturals Seafood - (30) 3 oz. Cans",
          "Fancy Feast Lickable Appetizers - (2 Packs of 12) 1.1 oz. Trays",
          "Purina Fancy Feast Wet Cat Food, Flaked Tuna & Mackerel Feast - (24) 3 oz. Cans",
          "Purina Fancy Feast Wet Cat Food Medleys - (24) 3 oz. Cans",
          "Purina Fancy Feast Wet Cat Food, Flaked Tuna & Mackerel Feast - (24) 3 oz. Cans",
          "Purina Fancy Feast Cat Food Medleys - (24) 3 oz. Cans",
          "Purina Fancy Feast Cat Food Medleys - (24) 3 oz. Cans",
          "Purina Fancy Feast Tender Beef Feast Classic Grain Free Wet Cat Food Pate - (24) 3 oz. Cans",
          "Purina Fancy Feast Savory Centers - (24) 3 oz. Cans",
          "Purina Fancy Feast Grilled - (24) 3 oz. Cans",
          "Purina Fancy Feast Gourmet Wet Cat Food Variety Pack, Petites - (24) 2.8 oz. Tubs",
          "Purina Fancy Feast High Protein Senior - (24) 3 oz. Cans",
          "Purina Fancy Feast Chicken and Beef Classic Pate - (24) 3 oz. Pull-Top Cans",
          "Purina Fancy Feast Wet Cat Food Medleys - (24) 3 oz. Cans",
          "Purina Fancy Feast Gravy Lovers - (24) 3 oz. Cans",
          "Purina Fancy Feast Grilled - (24) 3 oz. Cans",
          "Purina Fancy Feast Wet Cat Food Variety Pack, Chicken Feast Collection - (24) 3 oz. Cans",
          "Purina Fancy Feast Dry Cat Food with Savory Chicken and Turkey - 12 lb. Bag",
          "Purina Fancy Feast Grilled - (24) 3 oz. Cans",
          "Purina Fancy Feast Savory Centers - (24) 3 oz. Cans",
          "Purina Fancy Feast Wet Cat Food, Flaked Tuna & Mackerel Feast - (24) 3 oz. Cans",
          "Purina Fancy Feast Grilled Gravy Wet Cat Food, Delights Grilled Tuna & Cheddar Cheese Feast - (24) 3 oz. Cans",
          "Purina Fancy Feast Grilled - (24) 3 oz. Cans",
          "Purina Fancy Feast Grilled Gravy Wet Cat Food Variety Pack, Poultry & Beef Grilled Collection - (30) 3 oz. Cans",
          "PURINA Fancy Feast Savory Centers Salmon Pate Adult Wet Cat Food With a Gravy Center - 3 oz. Can",
          "Purina Fancy Feast Dry Cat Food, with Savory Chicken & Turkey - 12 lb with Fancy Feast Natural Wet Cat Food Variety Pack, Gourmet Naturals Poultry & Beef Collection - (30) 3 oz. Cans"
         ],
         "legendgroup": "Purina Fancy Feast",
         "marker": {
          "color": "#636efa",
          "size": [
           143890,
           42030,
           2182,
           3,
           22660,
           35836,
           22765,
           58992,
           5364,
           4849,
           51836,
           55256,
           4139,
           26001,
           6048,
           5283,
           25833,
           21617,
           18352,
           4265,
           33459,
           20784,
           7350,
           44495,
           76781,
           8659,
           147079,
           39745,
           49304,
           66840,
           5895,
           4179,
           1173,
           1115,
           38104,
           58665,
           12984,
           939,
           72374,
           24432,
           1150,
           143890,
           28655,
           12435,
           44291,
           112851,
           13189,
           3689,
           15272,
           773,
           4219,
           1296,
           569,
           233,
           2880,
           1305,
           16701,
           2810,
           22790,
           468,
           1076,
           7578,
           319,
           5129,
           3051,
           264,
           12902,
           565,
           21673,
           2825,
           43386,
           32789,
           5467,
           1971,
           3182,
           6616,
           1169,
           1764,
           945,
           14359,
           852,
           208,
           2
          ],
          "sizemode": "area",
          "sizeref": 367.6975,
          "symbol": "circle"
         },
         "mode": "markers",
         "name": "Purina Fancy Feast",
         "orientation": "v",
         "showlegend": true,
         "type": "scatter",
         "x": [
          4.7,
          4.7,
          4.7,
          4.6,
          4.6,
          4.7,
          4.6,
          4.7,
          4.7,
          4.6,
          4.7,
          4.7,
          4.7,
          4.6,
          4.6,
          4.6,
          4.6,
          4.6,
          4.7,
          4.7,
          4.7,
          4.8,
          4.6,
          4.7,
          4.7,
          4.6,
          4.7,
          4.7,
          4.7,
          4.7,
          4.5,
          4.7,
          4.5,
          4.6,
          4.7,
          4.7,
          4.7,
          4.5,
          4.7,
          4.6,
          4.7,
          4.7,
          4.7,
          4.6,
          4.7,
          4.7,
          4.7,
          4.7,
          4.6,
          4.5,
          4.7,
          4.7,
          4.7,
          4.6,
          4.6,
          4.8,
          4.7,
          4.6,
          4.6,
          4.6,
          4.5,
          4.6,
          4.5,
          4.6,
          4.7,
          4.5,
          4.7,
          4.5,
          4.6,
          4.7,
          4.6,
          4.7,
          4.7,
          4.7,
          4.8,
          4.7,
          4.6,
          4.7,
          4.7,
          4.7,
          4.7,
          4.5,
          4.5
         ],
         "xaxis": "x",
         "y": [
          18339631.180380464,
          16876327.60039282,
          5899598.915750246,
          5584392.010578087,
          5556600.516477984,
          4199063.989888364,
          4148983.0592978187,
          4037299.5801838897,
          3164427.329578329,
          2895692.5025376324,
          2790458.6171859168,
          2303668.10264,
          1845698.3745955208,
          1576042.1630565834,
          1329240.2103229167,
          1327461.63971625,
          1259140.0269761668,
          1170268.5895473084,
          1093673.435680692,
          1022195.6295299666,
          937278.993291,
          890384.415205,
          818555.53700625,
          800299.3296371,
          800084.839655,
          779182.9081238334,
          774972.3954994375,
          501288.01916252123,
          435399.3464465,
          340937.4311174015,
          300465.745045,
          293227.79013618146,
          250910.46193859412,
          229286.32661411606,
          223110.70246000003,
          208458.787253,
          194814.82479775,
          186480.44170296667,
          182929.81722684053,
          170245.474155,
          142637.061438,
          137063.87175375002,
          136884.3809865,
          133102.605124,
          128324.685816,
          125836.03344,
          123916.16371200001,
          113084.367199,
          92921.642937,
          86274.80362825,
          81506.6013105,
          74020.24794900001,
          55656.394965249994,
          54548.371177999994,
          49314.57089775,
          49214.97174975,
          47076.49813199999,
          31413.384775000002,
          31087.841689000004,
          30649.652792,
          28041.134851500006,
          27118.861368,
          25685.263237,
          24674.244451,
          23521.365960000003,
          21667.131656,
          19026.420408,
          17563.4001,
          17412.42438,
          16336.965968999999,
          15214.773145,
          11296.95928,
          9494.13975075,
          8006.672464306118,
          7506.7327005,
          5821.6851835,
          3380.151804,
          2704.4416944999994,
          2698.9046949999997,
          1590.964462,
          622.689436,
          192.741696,
          0.012581999999999998
         ],
         "yaxis": "y"
        },
        {
         "hovertemplate": "<b>%{hovertext}</b><br><br>Brand=Purina One<br>Product Rating=%{x}<br>Revenue ($)=%{y}<br>Number of Reviews=%{marker.size}<extra></extra>",
         "hovertext": [
          "Purina ONE Natural Dry Cat Food, Tender Selects Blend With Real Salmon - 16 lb. Bag",
          "PURINA ONE Natural, Low Fat, Weight Control, Indoor Dry Cat Food, +Plus Indoor Advantage - 16 lb. Bag",
          "Purina ONE High Protein Dry Cat Food, +Plus Urinary Tract Health Formula - 16 lb. Bag",
          "Purina ONE Sensitive Stomach, Sensitive Skin, Natural Dry Cat Food, +Plus Sensitive Skin and Stomach Formula - 16 lb. Bag",
          "PURINA ONE Natural, Low Fat, Weight Control, Indoor Dry Cat Food, +Plus Indoor Advantage - 16 lb. Bag",
          "Purina ONE Sensitive Stomach, Sensitive Skin, Natural Dry Cat Food, +Plus Sensitive Skin and Stomach Formula - 16 lb. Bag",
          "Purina ONE Natural Dry Cat Food, Tender Selects Blend With Real Chicken - 16 Lb. Bag",
          "Purina ONE Sensitive Stomach, Sensitive Skin, Natural Dry Cat Food, +Plus Sensitive Skin and Stomach Formula - 16 lb. Bag",
          "Purina ONE High Protein Dry Cat Food, +Plus Urinary Tract Health Formula - 16 lb. Bag",
          "Purina ONE Sensitive Stomach, Sensitive Skin, Natural Dry Cat Food, +Plus Sensitive Skin and Stomach Formula - 16 lb. Bag",
          "Purina ONE Natural, Senior Dry cat Food and Wet cat Food, Indoor Advantage Bundle Pack",
          "PURINA ONE Natural, Low Fat, Weight Control, Indoor Dry Cat Food, +Plus Indoor Advantage - 16 lb. Bag",
          "Purina ONE Natural, Low Fat, Weight Control, Indoor Dry Cat Food, +Plus Indoor Advantage - 22 lb. Bag",
          "Purina ONE Natural, Low Fat, Weight Control, Indoor Dry Cat Food, +Plus Indoor Advantage - 22 lb. Bag"
         ],
         "legendgroup": "Purina One",
         "marker": {
          "color": "#EF553B",
          "size": [
           28796,
           6676,
           14750,
           39523,
           22828,
           18478,
           28784,
           7867,
           14204,
           20477,
           1,
           8172,
           5798,
           9747
          ],
          "sizemode": "area",
          "sizeref": 367.6975,
          "symbol": "circle"
         },
         "mode": "markers",
         "name": "Purina One",
         "orientation": "v",
         "showlegend": true,
         "type": "scatter",
         "x": [
          4.7,
          4.8,
          4.6,
          4.7,
          4.8,
          4.7,
          4.7,
          4.8,
          4.6,
          4.7,
          5,
          4.8,
          4.8,
          4.8
         ],
         "xaxis": "x",
         "y": [
          16496897.722157411,
          7420298.154929326,
          4593228.29969265,
          4358838.521979666,
          1735150.2316959999,
          1441038.3896885,
          815573.9036187499,
          366375.878658,
          297245.03587229166,
          135918.576976,
          76174.35544799999,
          66259.19455999999,
          54624.038448,
          48947.786834
         ],
         "yaxis": "y"
        },
        {
         "hovertemplate": "<b>%{hovertext}</b><br><br>Brand=Friskies<br>Product Rating=%{x}<br>Revenue ($)=%{y}<br>Number of Reviews=%{marker.size}<extra></extra>",
         "hovertext": [
          "Purina Friskies Wet Cat Food Variety Pack, YUMbelievaBOX YUM-credible Surprises - (40) 5.5 oz. Pull-Top Cans",
          "Purina Friskies Wet Cat Food Variety Pack, Oceans of Delight Flaked & Prime Filets - 5.5 Ounce (Pack of 40)",
          "Purina Friskies Wet Cat Food Pate - (40) 5.5 oz. Cans",
          "Purina Friskies Wet Cat Food Variety Pack, Oceans of Delight Flaked & Prime Filets - 5.5 Ounce (Pack of 40)",
          "Purina Friskies Gravy Wet Cat Food , Poultry Shreds - (32) 5.5 oz. Cans",
          "Purina Friskies Gravy Wet Cat Food Variety Pack, TurChicken - (40) 5.5 oz. Cans",
          "Purina Friskies Gravy Wet Cat Food , Poultry Shreds - (32) 5.5 oz. Cans",
          "Purina Friskies Grain Free Wet Cat Food Lickable Cat Treats Variety Pack, Lil' Soups With Salmon, Tuna or Shrimp - (30) 1.2 oz. Cups",
          "Purina Friskies Gravy Wet Cat Food Variety Pack, TurChicken - (40) 5.5 oz. Cans",
          "Purina Friskies Dry Cat Food, Seafood Sensations - 6.3 lb. Bag",
          "Purina Friskies Gravy Wet Cat Food Variety Pack, TurChicken - (40) 5.5 oz. Cans",
          "Purina Friskies Grain Free Wet Cat Food Lickable Cat Treats Variety Pack, Lil' Soups With Salmon, Tuna or Shrimp - (30) 1.2 oz. Cups",
          "Purina Friskies Indoor Wet Cat Food Variety Pack, YUMbelievaBOX YUM-stoppable Indoor Adventures - (40) 5.5 oz. Pull-Top Cans",
          "Purina Friskies Gravy Wet Cat Food , Poultry Shreds - (32) 5.5 oz. Cans",
          "Purina Friskies Gravy Wet Cat Food Variety Pack, TurChicken - (40) 5.5 oz. Cans",
          "Purina Friskies Wet Cat Food Variety Pack, Oceans of Delight Flaked & Prime Filets - 5.5 Ounce (Pack of 40)",
          "Purina Friskies Gravy Wet Cat Food Variety Pack, TurChicken - (40) 5.5 oz. Cans",
          "Purina Friskies Gravy Wet Cat Food Variety Pack, TurChicken - (40) 5.5 oz. Cans",
          "Purina Friskies Wet Cat Food Variety Pack, Oceans of Delight Flaked & Prime Filets - 5.5 Ounce (Pack of 40)",
          "Purina Friskies Gravy Wet Cat Food Variety Pack, TurChicken - (40) 5.5 oz. Cans",
          "Purina Friskies Indoor Wet Cat Food Variety Pack, YUMbelievaBOX YUM-stoppable Indoor Adventures - (40) 5.5 oz. Pull-Top Cans",
          "Purina Friskies Indoor Wet Cat Food Variety Pack, YUMbelievaBOX YUM-stoppable Indoor Adventures - (40) 5.5 oz. Pull-Top Cans",
          "Purina Friskies Wet Cat Food Pate - (40) 5.5 oz. Cans",
          "Purina Friskies Grain Free Wet Cat Food Lickable Cat Treats Variety Pack, Lil' Soups With Salmon, Tuna or Shrimp - (30) 1.2 oz. Cups",
          "Purina Friskies Wet Cat Food Variety Pack, YUMbelievaBOX YUM-credible Surprises - (40) 5.5 oz. Pull-Top Cans",
          "Purina Friskies Grain Free Wet Cat Food Lickable Cat Treats Variety Pack, Lil' Soups With Salmon, Tuna or Shrimp - (30) 1.2 oz. Cups",
          "Purina Friskies Gravy Wet Cat Food Variety Pack, TurChicken - (40) 5.5 oz. Cans",
          "Purina Friskies Dry Cat Food, Seafood Sensations - (12) 16.2 oz. Boxes",
          "Purina Friskies Gravy Wet Cat Food Variety Pack, Prime Filets & Shreds Turkey & Chicken Favorites - (40) 5.5 oz. Cans",
          "Purina Friskies Gravy Wet Cat Food Variety Pack, TurChicken - (40) 5.5 oz. Cans",
          "Purina Friskies Indoor Wet Cat Food Variety Pack, YUMbelievaBOX YUM-stoppable Indoor Adventures - (40) 5.5 oz. Pull-Top Cans",
          "Purina Friskies Gravy Wet Cat Food Variety Pack, TurChicken - (40) 5.5 oz. Cans",
          "Purina Friskies Wet Cat Food Variety Pack, YUMbelievaBOX YUM-Sational Treasures - (40) 5.5 Oz. Pull-Top Cans",
          "Purina Friskies Gravy Wet Cat Food Variety Pack, TurChicken - (40) 5.5 oz. Cans",
          "Purina Friskies Pate Wet Cat Food, Picky Pack Turkey & Giblets Dinner - (24) 5.5 oz. Cans",
          "Purina Friskies Wet Cat Food Variety Pack, YUMbelievaBOX YUM-Sational Treasures - (40) 5.5 Oz. Pull-Top Cans",
          "Purina Friskies Dry Cat Food, Seafood Sensations - 6.3 lb. Bag",
          "Purina Friskies Gravy Wet Cat Food Variety Pack, YUMbelievaBOX YUM-azing Extra Gravy Chunky - (40) 5.5 oz. Pull-Top Cans",
          "Purina Friskies Gravy Wet Cat Food Variety Pack, TurChicken - (40) 5.5 oz. Cans",
          "Purina Friskies Pate Wet Cat Food, Picky Pack Turkey & Giblets Dinner - (24) 5.5 oz. Cans",
          "Purina Friskies Wet Cat Food Variety Pack, YUMbelievaBOX YUM-credible Surprises - (40) 5.5 oz. Pull-Top Cans"
         ],
         "legendgroup": "Friskies",
         "marker": {
          "color": "#00cc96",
          "size": [
           1221,
           31378,
           27389,
           17835,
           101223,
           7411,
           30430,
           4618,
           8331,
           2435,
           65009,
           980,
           31758,
           32067,
           85911,
           74508,
           17203,
           10425,
           24758,
           27523,
           1649,
           1208,
           25306,
           3868,
           3736,
           1523,
           12577,
           161,
           3506,
           17614,
           1205,
           10995,
           1392,
           23450,
           181,
           1453,
           109,
           1765,
           28515,
           178,
           4122
          ],
          "sizemode": "area",
          "sizeref": 367.6975,
          "symbol": "circle"
         },
         "mode": "markers",
         "name": "Friskies",
         "orientation": "v",
         "showlegend": true,
         "type": "scatter",
         "x": [
          4.6,
          4.65,
          4.7,
          4.7,
          4.6,
          4.6,
          4.7,
          4.7,
          4.6,
          4.5,
          4.6,
          4.7,
          4.6,
          4.7,
          4.7,
          4.6,
          4.6,
          4.6,
          4.6,
          4.6,
          4.6,
          4.6,
          4.7,
          4.7,
          4.6,
          4.5,
          4.6,
          4.3,
          4.7,
          4.6,
          4.6,
          4.6,
          4.6,
          4.6,
          4.4,
          4.6,
          4.3,
          4.5,
          4.6,
          4.3,
          4.6
         ],
         "xaxis": "x",
         "y": [
          12979132.402431898,
          9365286.588409875,
          5570579.355375,
          3160017.0035643335,
          2487745.5097954273,
          1677287.4786282917,
          1597712.0073839999,
          1541531.2945985,
          1283713.4891193334,
          1132952.473123499,
          807961.676883,
          710345.984358,
          669702.617447,
          346800.12270300003,
          226299.4166915,
          196860.6053,
          173829.54511036063,
          142386.373861,
          100627.942236,
          97628.011088,
          70271.38220875,
          61200.494079,
          53548.43974,
          45383.7955705,
          38535.1024555,
          27324.145,
          23174.552425,
          22407.80779112507,
          15647.641281366426,
          13603.707995499992,
          12824.021540249998,
          7098.731019000001,
          3985.3983200000002,
          3491.3288100000004,
          3001.244726,
          1587.7376669999999,
          992.3753320059682,
          725.6032190000001,
          689.2377660000001,
          263.75756,
          34.44066
         ],
         "yaxis": "y"
        },
        {
         "hovertemplate": "<b>%{hovertext}</b><br><br>Brand=Sheba<br>Product Rating=%{x}<br>Revenue ($)=%{y}<br>Number of Reviews=%{marker.size}<extra></extra>",
         "hovertext": [
          "SHEBA PERFECT PORTIONS Paté Adult Wet Cat Food Trays (24 Count, 48 Servings), Savory Chicken, Roasted Turkey, and Tender Beef Entrée, Easy Peel Twin-Pack Trays",
          "SHEBA PERFECT PORTIONS Cuts in Gravy Adult Wet Cat Food Trays (24 Count (pack of 2), 48 Servings), Roasted Chicken, Gourmet Salmon and Tender Turkey Entrée, Easy Peel Twin-Pack Trays",
          "SHEBA PERFECT PORTIONS Cuts in Gravy Adult Wet Cat Food Trays (24 Count, 48 Servings), Gourmet Salmon, Sustainable Tuna, And Delicate Whitefish & Tuna Entrée, Easy Peel Twin-Pack",
          "SHEBA PERFECT PORTIONS Cuts in Gravy Adult Wet Cat Food Trays (24 Count (pack of 2), 48 Servings), Roasted Chicken, Gourmet Salmon and Tender Turkey Entrée, Easy Peel Twin-Pack Trays",
          "SHEBA PERFECT PORTIONS Cuts in Gravy Adult Wet Cat Food Trays (24 Count, 48 Servings), Gourmet Salmon, Sustainable Tuna, And Delicate Whitefish & Tuna Entrée, Easy Peel Twin-Pack",
          "SHEBA PERFECT PORTIONS Paté Adult Wet Cat Food Trays (24 Count, 48 Servings), Savory Chicken, Roasted Turkey, and Tender Beef Entrée, Easy Peel Twin-Pack Trays",
          "SHEBA PERFECT PORTIONS Cuts in Gravy Adult Wet Cat Food Trays (24 Count, 48 Servings), Gourmet Salmon, Sustainable Tuna, And Delicate Whitefish & Tuna Entrée, Easy Peel Twin-Pack",
          "SHEBA PERFECT PORTIONS Cuts in Gravy Adult Wet Cat Food Trays, Roasted Chicken, Gourmet Salmon, and Sustainable Tuna Entrée, Easy Peel Twin-Pack - 18 Count (Pack of 2)",
          "SHEBA PERFECT PORTIONS Cuts in Gravy Wet Cat Food Trays (24 Count, 48 Servings), Roasted Chicken Entrée, Easy Peel Twin-Pack Trays",
          "SHEBA PERFECT PORTIONS Paté Adult Wet Cat Food Trays (24 Count, 48 Servings), Savory Chicken, Roasted Turkey, and Tender Beef Entrée, Easy Peel Twin-Pack Trays",
          "Sheba Perfect PORTIONS Bistro Wet Cat Food Trays (24 Count, 48 Servings), Salmon in Creamy Sauce Entrée, Easy Peel Twin-Pack Trays",
          "SHEBA PERFECT PORTIONS Cuts in Gravy Wet Cat Food Trays (24 Count, 48 Servings), Mixed Grill Entrée, Easy Peel Twin-Pack Trays, 2.6 Ounce (Pack of 24)",
          "Sheba Perfect PORTIONS Bistro Wet Cat Food Trays (24 Count, 48 Servings), Salmon in Creamy Sauce Entrée, Easy Peel Twin-Pack Trays",
          "Sheba Perfect PORTIONS Cuts in Gravy Wet Cat Food Trays (36 Count, 72 Servings), Roasted Chicken, Signature Tuna and Tender Turkey Entrée, Easy Peel Twin-Pack Trays",
          "SHEBA PERFECT PORTIONS Cuts in Gravy Wet Cat Food Trays (24 Count, 48 Servings), Mixed Grill Entrée, Easy Peel Twin-Pack Trays, 2.6 Ounce (Pack of 24)",
          "SHEBA PERFECT PORTIONS Cuts in Gravy Wet Cat Food Trays (24 Count, 48 Servings), Gourmet Salmon & Seafood Entrée, Easy Peel Twin-Pack Trays"
         ],
         "legendgroup": "Sheba",
         "marker": {
          "color": "#ab63fa",
          "size": [
           62410,
           23377,
           44758,
           17418,
           37436,
           13027,
           90925,
           2971,
           3218,
           14666,
           1359,
           9836,
           438,
           613,
           652,
           349
          ],
          "sizemode": "area",
          "sizeref": 367.6975,
          "symbol": "circle"
         },
         "mode": "markers",
         "name": "Sheba",
         "orientation": "v",
         "showlegend": true,
         "type": "scatter",
         "x": [
          4.6,
          4.6,
          4.6,
          4.7,
          4.7,
          4.6,
          4.6,
          4.5,
          4.6,
          4.6,
          4.6,
          4.6,
          4.6,
          4.6,
          4.6,
          4.6
         ],
         "xaxis": "x",
         "y": [
          11790318.604968794,
          8011898.668820358,
          5486370.282125468,
          344836.210841,
          267577.92619,
          201691.231266,
          100448.14329200001,
          97460.11832400001,
          32858.52196,
          17326.391946,
          16059.282459416041,
          3043.095994443282,
          2719.6427519999997,
          1656.871699,
          750.15432,
          5.076
         ],
         "yaxis": "y"
        },
        {
         "hovertemplate": "<b>%{hovertext}</b><br><br>Brand=Iams<br>Product Rating=%{x}<br>Revenue ($)=%{y}<br>Number of Reviews=%{marker.size}<extra></extra>",
         "hovertext": [
          "IAMS PROACTIVE HEALTH Adult Indoor Weight Control & Hairball Care Dry Cat Food with Chicken & Turkey Cat Kibble, 7 lb. Bag",
          "IAMS PROACTIVE HEALTH Adult Healthy Dry Cat Food with Chicken Cat Kibble, 22 lb. Bag",
          "Iams Proactive Health Healthy Kitten Dry Cat Food and Grain Free Paté Wet Cat Food, Chicken Recipes",
          "IAMS PROACTIVE HEALTH Adult Urinary Tract Healthy Dry Cat Food with Chicken Cat Kibble, 16 lb. Bag",
          "IAMS PROACTIVE HEALTH Adult Healthy Dry Cat Food with Salmon Cat Kibble, 16 lb. Bag",
          "IAMS PERFECT PORTIONS Indoor Adult Grain Free* Wet Cat Food Cuts in Gravy, Tuna Recipe, (24) 2.6 oz. Easy Peel Twin-Pack Trays",
          "IAMS Proactive Health Adult Indoor Weight & Hairball Care Dry Cat Food with Salmon, 7 lb. Bag",
          "IAMS PROACTIVE HEALTH Adult Urinary Tract Healthy Dry Cat Food with Chicken Cat Kibble, 16 lb. Bag",
          "Iams Proactive Health Healthy Adult Dry Cat Food and Grain Free Paté Wet Cat Food, Chicken Recipes",
          "IAMS PROACTIVE HEALTH Adult Healthy Dry Cat Food with Chicken Cat Kibble, 22 lb. Bag",
          "IAMS PROACTIVE HEALTH Adult Healthy Dry Cat Food with Salmon Cat Kibble, 16 lb. Bag"
         ],
         "legendgroup": "Iams",
         "marker": {
          "color": "#FFA15A",
          "size": [
           36878,
           20139,
           17125,
           11695,
           20139,
           6321,
           36352,
           10761,
           14722,
           14723,
           14723
          ],
          "sizemode": "area",
          "sizeref": 367.6975,
          "symbol": "circle"
         },
         "mode": "markers",
         "name": "Iams",
         "orientation": "v",
         "showlegend": true,
         "type": "scatter",
         "x": [
          4.8,
          4.8,
          4.8,
          4.8,
          4.8,
          4.6,
          4.8,
          4.8,
          4.8,
          4.8,
          4.8
         ],
         "xaxis": "x",
         "y": [
          10218460.580630884,
          4462422.81695425,
          4077930.3516500467,
          3762806.4374171966,
          3303754.6700389967,
          2586943.61101375,
          1539095.9424064,
          123785.34418612499,
          98084.272344,
          58671.077785999994,
          55675.558731
         ],
         "yaxis": "y"
        },
        {
         "hovertemplate": "<b>%{hovertext}</b><br><br>Brand=Hill'S Science Diet<br>Product Rating=%{x}<br>Revenue ($)=%{y}<br>Number of Reviews=%{marker.size}<extra></extra>",
         "hovertext": [
          "Hill's Science Diet Dry Cat Food, Adult, Sensitive Stomach & Skin",
          "Hill's Science Diet Dry Cat Food, Adult, Perfect Weight for Weight Management, Chicken Recipe, 7 lb. Bag",
          "Hill's Science Diet Dry Cat Food,Adult,Urinary & Hairball Control,Chicken Recipe,15.5 lb Bag with Wet Cat Food,Adult,Urinary & Hairball Control,Savory Chicken Recipe,2.9 oz Cans,24-pack",
          "Hill's Science Diet Adult Indoor Cat Food, Chicken Recipe Dry Cat Food, 7 lb. Bag",
          "Hill's Science Diet Dry Cat Food, Adult, Perfect Weight for Weight Management, Chicken Recipe, 7 lb. Bag",
          "Hill's Science Diet Adult Indoor Cat Food, Chicken Recipe Dry Cat Food, 7 lb. Bag",
          "Hill's Science Diet Dry Cat Food, Adult, Urinary & Hairball Control, Chicken Recipe, 15.5 lb. Bag",
          "Hill's Science Diet Dry Cat Food, Adult, Sensitive Stomach & Skin, Chicken & Rice Recipe, 7 lb Bag",
          "Hill's Science Diet Dry Cat Food, Adult, Sensitive Stomach & Skin, Chicken & Rice Recipe, 7 lb Bag",
          "Hill's Science Diet Dry Cat Food, Adult, Sensitive Stomach & Skin, Chicken & Rice Recipe, 3.5 lb. Bag",
          "Hill's Science Diet Dry Cat Food, Adult, Perfect Weight for Weight Management, Chicken Recipe, 7 lb. Bag",
          "Hill's Pet Nutrition Science Diet, Grain Free Dry Cat Food, Adult, Sensitive Stomach & Skin, Salmon & Yellow Pea Recipe, 13 lb. Bag",
          "Hill's Science Diet Adult Indoor Cat Food, Chicken Recipe Dry Cat Food",
          "Hill's Science Diet Adult Indoor Cat Food, Chicken Recipe Dry Cat Food",
          "Hill's Pet Nutrition Science Diet, Grain Free Dry Cat Food, Adult, Sensitive Stomach & Skin, Salmon & Yellow Pea Recipe, 13 lb. Bag",
          "Hill's Science Diet Dry Cat Food, Adult, Urinary & Hairball Control, Chicken Recipe, 15.5 lb. Bag",
          "Hill's Science Diet Adult Indoor Cat Food, Chicken Recipe Dry Cat Food",
          "Hill's Science Diet Dry Cat Food, Adult, Urinary & Hairball Control, Chicken Recipe, 15.5 lb. Bag",
          "Hill's Science Diet Dry Cat Food, Adult, Sensitive Stomach & Skin, Chicken & Rice Recipe, 3.5 lb. Bag",
          "Hill's Science Diet Dry Cat Food, Adult, Sensitive Stomach & Skin, Chicken & Rice Recipe, 7 lb Bag",
          "Hill's Science Diet Dry Cat Food, Adult, Sensitive Stomach & Skin, Chicken & Rice Recipe, 7 lb Bag",
          "Hill's Science Diet Dry Cat Food, Adult, Urinary & Hairball Control, Chicken Recipe, 15.5 lb. Bag",
          "Hill's Pet Nutrition Science Diet, Grain Free Dry Cat Food, Adult, Sensitive Stomach & Skin, Salmon & Yellow Pea Recipe, 13 lb. Bag",
          "Hill's Science Diet Dry Cat Food, Adult, Urinary & Hairball Control, Chicken Recipe, 15.5 lb. Bag",
          "Hill's Science Diet Adult Indoor Cat Food, Chicken Recipe Dry Cat Food",
          "Hill's Science Diet Adult Indoor Cat Food, Chicken Recipe Dry Cat Food",
          "Hill's Science Diet Dry Cat Food, Adult, Sensitive Stomach & Skin, Chicken & Rice Recipe, 7 lb Bag",
          "Hill's Science Diet Dry Cat Food, Adult, Sensitive Stomach & Skin, Chicken & Rice Recipe, 7 lb Bag",
          "Hill's Science Diet Dry Cat Food, Adult, Urinary & Hairball Control, Chicken Recipe, 15.5 lb. Bag",
          "Hill's Science Diet Adult Indoor Chicken Recipe Dry Cat Food, 15.5 lb. Bag",
          "Hill's Science Diet Adult Indoor Cat Food, Chicken Recipe Dry Cat Food, 7 lb. Bag"
         ],
         "legendgroup": "Hill'S Science Diet",
         "marker": {
          "color": "#19d3f3",
          "size": [
           30,
           11627,
           7742,
           13220,
           12111,
           13837,
           12693,
           12867,
           12661,
           3864,
           10582,
           12934,
           13934,
           13922,
           1240,
           12141,
           13837,
           12416,
           3293,
           12555,
           4440,
           11342,
           12934,
           11453,
           12660,
           12629,
           8442,
           12378,
           11462,
           12668,
           12668
          ],
          "sizemode": "area",
          "sizeref": 367.6975,
          "symbol": "circle"
         },
         "mode": "markers",
         "name": "Hill'S Science Diet",
         "orientation": "v",
         "showlegend": true,
         "type": "scatter",
         "x": [
          4.4,
          4.7,
          4.7,
          4.7,
          4.8,
          4.7,
          4.7,
          4.7,
          4.7,
          4.7,
          4.7,
          4.7,
          4.7,
          4.7,
          4.7,
          4.7,
          4.7,
          4.7,
          4.7,
          4.7,
          4.7,
          4.7,
          4.7,
          4.7,
          4.7,
          4.7,
          4.7,
          4.7,
          4.7,
          4.7,
          4.7
         ],
         "xaxis": "x",
         "y": [
          8618953.605551405,
          4448349.7152700005,
          3945430.3834565156,
          3402967.4274560693,
          2677923.291397,
          2514960.62817125,
          2488489.60560325,
          1136791.9477758845,
          1117686.9212862626,
          1106395.875391,
          734231.873008,
          583595.331261,
          583177.3069348033,
          576605.3233223184,
          409312.119464,
          375881.4048332,
          305748.847692,
          254820.93155375,
          128512.96519086929,
          111148.74415319231,
          84398.187321,
          61828.019648,
          58287.94410100001,
          42822.3830095,
          33870.390851,
          33691.607796,
          26322.17972376923,
          22352.540140000005,
          17922.322446000002,
          16112.476860000002,
          7412.33535
         ],
         "yaxis": "y"
        },
        {
         "hovertemplate": "<b>%{hovertext}</b><br><br>Brand=Meow Mix<br>Product Rating=%{x}<br>Revenue ($)=%{y}<br>Number of Reviews=%{marker.size}<extra></extra>",
         "hovertext": [
          "Meow Mix Original Choice Dry Cat Food, 22 Pound Bag",
          "Meow Mix Tender Centers Basted Bites Dry Cat Food, Beef & Salmon Flavors, 3 Pound Bag (Pack of 4)",
          "Meow Mix Original Choice Dry Cat Food, 16 Pound Bag",
          "Meow Mix Tender Centers Basted Bites Dry Cat Food, Beef & Salmon Flavors, 3 Pound Bag (Pack of 4)",
          "Meow Mix Tender Centers Basted Bites Dry Cat Food, Beef & Salmon Flavors, 3 Pound Bag (Pack of 4)"
         ],
         "legendgroup": "Meow Mix",
         "marker": {
          "color": "#FF6692",
          "size": [
           42267,
           10891,
           42267,
           14575,
           108
          ],
          "sizemode": "area",
          "sizeref": 367.6975,
          "symbol": "circle"
         },
         "mode": "markers",
         "name": "Meow Mix",
         "orientation": "v",
         "showlegend": true,
         "type": "scatter",
         "x": [
          4.7,
          4.7,
          4.7,
          4.7,
          4.7
         ],
         "xaxis": "x",
         "y": [
          8048555.926101333,
          991397.2543627657,
          103845.208052,
          68080.15917,
          11374.082400000001
         ],
         "yaxis": "y"
        },
        {
         "hovertemplate": "<b>%{hovertext}</b><br><br>Brand=Sheba Wet Food<br>Product Rating=%{x}<br>Revenue ($)=%{y}<br>Number of Reviews=%{marker.size}<extra></extra>",
         "hovertext": [
          "SHEBA PERFECT PORTIONS Paté Adult Wet Cat Food Trays (24 Count, 48 Servings), Savory Chicken and Roasted Turkey Entrée, Easy Peel Twin-Pack Trays",
          "Sheba Wet Food PERFECT PORTIONS Paté Adult Wet Cat Food Trays (24 Count, 48 Servings), Savory Chicken Entrée, Easy Peel Twin-Pack Trays",
          "Sheba Wet Food PERFECT PORTIONS Paté Adult Wet Cat Food Trays (24 Count, 48 Servings), Savory Chicken Entrée, Easy Peel Twin-Pack Trays"
         ],
         "legendgroup": "Sheba Wet Food",
         "marker": {
          "color": "#B6E880",
          "size": [
           63073,
           3364,
           7319
          ],
          "sizemode": "area",
          "sizeref": 367.6975,
          "symbol": "circle"
         },
         "mode": "markers",
         "name": "Sheba Wet Food",
         "orientation": "v",
         "showlegend": true,
         "type": "scatter",
         "x": [
          4.6,
          4.6,
          4.6
         ],
         "xaxis": "x",
         "y": [
          7582000.876917575,
          37467.803868,
          18747.423536
         ],
         "yaxis": "y"
        },
        {
         "hovertemplate": "<b>%{hovertext}</b><br><br>Brand=Orijen<br>Product Rating=%{x}<br>Revenue ($)=%{y}<br>Number of Reviews=%{marker.size}<extra></extra>",
         "hovertext": [
          "ORIJEN GUARDIAN 8 Dry Cat Food, Grain Free Cat Food for Adult Cats, With Chicken, Salmon and Rabbit, 10lb",
          "ORIJEN GUARDIAN 8 Dry Cat Food, Grain Free Cat Food for Adult Cats, With Chicken, Salmon and Rabbit, 10lb",
          "ORIJEN GUARDIAN 8 Dry Cat Food, Grain Free Cat Food for Adult Cats, With Chicken, Salmon and Rabbit, 10lb",
          "ORIJEN GUARDIAN 8 Dry Cat Food, Grain Free Cat Food for Adult Cats, With Chicken, Salmon and Rabbit, 10lb"
         ],
         "legendgroup": "Orijen",
         "marker": {
          "color": "#FF97FF",
          "size": [
           5691,
           6524,
           6254,
           5288
          ],
          "sizemode": "area",
          "sizeref": 367.6975,
          "symbol": "circle"
         },
         "mode": "markers",
         "name": "Orijen",
         "orientation": "v",
         "showlegend": true,
         "type": "scatter",
         "x": [
          4.6,
          4.6,
          4.7,
          4.7
         ],
         "xaxis": "x",
         "y": [
          6147031.022635125,
          282471.27980811655,
          228356.46897003334,
          156418.95288483333
         ],
         "yaxis": "y"
        },
        {
         "hovertemplate": "<b>%{hovertext}</b><br><br>Brand=Blue Buffalo<br>Product Rating=%{x}<br>Revenue ($)=%{y}<br>Number of Reviews=%{marker.size}<extra></extra>",
         "hovertext": [
          "Blue Buffalo Cat Food, Natural Chicken Recipe, Wilderness High Protein, Adult Dry Cat Food, 12 lb bag",
          "Blue Buffalo Tastefuls Sensitive Stomach Natural Adult Dry Cat Food, Chicken 15lb bag",
          "Blue Buffalo Wilderness High Protein, Natural Adult Dry Cat Food, Chicken 6-lb",
          "Blue Buffalo Wilderness High Protein Grain Free, Natural Adult Pate Wet Cat Food, Chicken 5.5-oz cans (Pack of 24)",
          "Blue Buffalo Tastefuls Natural Pate Wet Cat Food, Turkey & Chicken Entrée 5.5-oz cans (Pack of 24)",
          "Blue Buffalo Wilderness High Protein Grain Free, Natural Kitten Pate Wet Cat Food Variety Pack, Chicken, Salmon, 3-oz Can, 24 Count",
          "Blue Buffalo Cat Food, Natural Chicken Recipe, Wilderness High Protein, Adult Dry Cat Food, 12 lb bag",
          "Blue Buffalo Wilderness High Protein, Natural Grain Free Kitten Food Bundle, Dry Cat Food and Wet Cat Food, Chicken (5-lb Dry Food + 3oz cans 24ct)",
          "Blue Buffalo Tastefuls Natural Flaked Wet Cat Food, Chicken Entrée in Gravy 5.5-oz cans (Pack of 24)",
          "Blue Buffalo Wilderness High Protein, Natural Adult Dry Cat Food, Chicken 6-lb",
          "Blue Buffalo Tastefuls Natural Flaked Wet Cat Food Bundle, Flaked Chicken and Tuna 3-oz cans (48 Count- 24 of Each Flavor)",
          "Blue Buffalo Wilderness High Protein Grain Free, Natural Adult Pate Wet Cat Food, Turkey 5.5-oz cans (Pack of 24)",
          "Blue Buffalo Tastefuls Natural Pate Wet Cat Food, Turkey & Chicken Entrée 5.5-oz cans (Pack of 24)",
          "Blue Buffalo Cat Food, Natural Chicken Recipe, Wilderness High Protein, Adult Dry Cat Food, 12 lb bag",
          "Blue Buffalo Wilderness High Protein Grain Free, Natural Adult Pate Wet Cat Food, Chicken 5.5-oz cans (Pack of 24)",
          "Blue Buffalo Wilderness High Protein Grain Free, Natural Adult Pate Wet Cat Food, Chicken 5.5-oz cans (Pack of 24)",
          "Blue Buffalo Wilderness High Protein, Natural Adult Dry Cat Food, Chicken 6-lb",
          "Blue Buffalo Wilderness High Protein, Natural Adult Dry Cat Food, Chicken 6-lb",
          "Blue Buffalo Tastefuls Indoor Natural Adult Dry Cat Food, Chicken 15lb bag",
          "Blue Buffalo Wilderness High Protein, Natural Adult Dry Cat Food, Chicken 6-lb",
          "Blue Buffalo Tastefuls Indoor Natural Adult Dry Cat Food, Chicken 15lb bag",
          "Blue Buffalo Tastefuls Natural Pate Wet Cat Food, Turkey & Chicken Entrée 5.5-oz cans (Pack of 24)",
          "Blue Buffalo Cat Food, Natural Chicken Recipe, Wilderness High Protein, Adult Dry Cat Food, 12 lb bag",
          "Blue Buffalo Wilderness High Protein, Natural Adult Dry Cat Food, Chicken 6-lb",
          "Blue Buffalo Cat Food, Natural Chicken Recipe, Wilderness High Protein, Adult Dry Cat Food, 12 lb bag",
          "Blue Buffalo Wilderness High Protein, Natural Adult Dry Cat Food, Duck 11-lb",
          "Blue Buffalo Tastefuls Natural Flaked Wet Cat Food, Salmon Entrée in Gravy 3-oz cans (Pack of 24)",
          "Blue Buffalo Wilderness High Protein, Natural Adult Dry Cat Food, Chicken 6-lb",
          "Blue Buffalo Cat Food, Natural Chicken Recipe, Wilderness High Protein, Adult Dry Cat Food, 12 lb bag",
          "Blue Buffalo Cat Food, Natural Chicken Recipe, Wilderness High Protein, Adult Dry Cat Food, 12 lb bag",
          "Blue Buffalo Wilderness High Protein, Natural Grain Free Kitten Food Bundle, Dry Cat Food and Wet Cat Food, Chicken (5-lb Dry Food + 3oz cans 24ct)",
          "Blue Buffalo Tastefuls Indoor Natural Adult Dry Cat Food, Chicken 15lb bag",
          "Blue Buffalo Tastefuls Natural Flaked Wet Cat Food Bundle, Flaked Chicken and Tuna 3-oz cans (48 Count- 24 of Each Flavor)",
          "Blue Buffalo Tastefuls Indoor Natural Adult Dry Cat Food, Chicken 15lb bag",
          "Blue Buffalo Cat Food, Natural Chicken Recipe, Wilderness High Protein, Adult Dry Cat Food, 12 lb bag",
          "Blue Buffalo Tastefuls Natural Flaked Wet Cat Food Bundle, Flaked Chicken and Tuna 3-oz cans (48 Count- 24 of Each Flavor)",
          "Blue Buffalo Tastefuls Natural Flaked Wet Cat Food, Fish & Shrimp Entrée in Gravy 3-oz cans (Pack of 24)",
          "Blue Buffalo Tastefuls Sensitive Stomach Natural Adult Dry Cat Food, Chicken 15lb bag",
          "Blue Buffalo Tastefuls Natural Flaked Wet Cat Food, Salmon Entrée in Gravy 3-oz cans (Pack of 24)",
          "Blue Buffalo Wilderness High Protein, Natural Adult Dry Cat Food, Chicken 6-lb",
          "Blue Buffalo Tastefuls Natural Flaked Wet Cat Food Bundle, Flaked Chicken and Tuna 5.5-oz cans (48 Count- 24 of Each Flavor)",
          "Blue Buffalo Tastefuls Natural Flaked Wet Cat Food, Chicken Entrée in Gravy 5.5-oz cans (Pack of 24)",
          "Blue Buffalo Wilderness High Protein Grain Free, Natural Kitten Pate Wet Cat Food Variety Pack, Chicken, Salmon, 3-oz Can, 24 Count"
         ],
         "legendgroup": "Blue Buffalo",
         "marker": {
          "color": "#FECB52",
          "size": [
           7131,
           21481,
           25984,
           4938,
           4503,
           8954,
           8779,
           1505,
           2275,
           9828,
           14723,
           17148,
           4743,
           17891,
           17147,
           17945,
           36095,
           855,
           33087,
           17436,
           13682,
           4273,
           16548,
           9589,
           7138,
           17494,
           10838,
           17494,
           8963,
           8913,
           8139,
           5227,
           8950,
           13650,
           17426,
           1961,
           333,
           10494,
           540,
           1708,
           1863,
           1863,
           8113
          ],
          "sizemode": "area",
          "sizeref": 367.6975,
          "symbol": "circle"
         },
         "mode": "markers",
         "name": "Blue Buffalo",
         "orientation": "v",
         "showlegend": true,
         "type": "scatter",
         "x": [
          4.7,
          4.4,
          4.7,
          4.3,
          4.3,
          4.5,
          4.7,
          4.6,
          4.3,
          4.7,
          4.3,
          4.3,
          4.3,
          4.7,
          4.3,
          4.3,
          4.7,
          4.6,
          4.7,
          4.7,
          4.7,
          4.3,
          4.7,
          4.7,
          4.7,
          4.7,
          4.3,
          4.7,
          4.7,
          4.7,
          4.8,
          4.699999999999999,
          4.3,
          4.7,
          4.7,
          4.2,
          4.3,
          4.7,
          4.3,
          4.75,
          4.3,
          4.3,
          4.5
         ],
         "xaxis": "x",
         "y": [
          5217891.6966063995,
          5023172.355946284,
          4402311.778025945,
          2797640.344409146,
          2600061.507428845,
          2486861.9477012684,
          2122530.6223755,
          1830832.4565882501,
          1809531.3248970082,
          1455761.0373141665,
          1383072.5878793548,
          1247003.2363379726,
          992605.1174570001,
          986075.872445,
          979436.9395864999,
          886472.3964137381,
          427884.65187974996,
          422715.7362945,
          377454.98197674996,
          354979.138644,
          277184.88718200003,
          260175.63379975,
          253558.97991700002,
          216439.98926899998,
          139688.66861975,
          130175.471805,
          124989.3448835,
          119026.703924,
          117230.57451,
          107468.234496,
          93436.359645,
          86010.590084,
          76511.14328450001,
          74842.273844,
          70950.38643000001,
          57308.6115,
          52861.180232,
          17744.126819999998,
          17724.925746,
          15687.359796249999,
          12412.255486,
          7418.822509999999,
          6991.361980000001
         ],
         "yaxis": "y"
        },
        {
         "hovertemplate": "<b>%{hovertext}</b><br><br>Brand=Iris Usa, Inc.<br>Product Rating=%{x}<br>Revenue ($)=%{y}<br>Number of Reviews=%{marker.size}<extra></extra>",
         "hovertext": [
          "IRIS USA 50Lbs./69Qt. WeatherPro Airtight Pet Food Storage Container with Attachable Casters, For Dog Cat Bird and Other Pet Food Storage Bin, Keep Fresh, Translucent Body, Easy Mobility, Black",
          "IRIS USA 55qt/45lbs Premium Airtight Pet Food Storage Container, Smoke",
          "IRIS USA 3-Piece 35 Lbs / 45 Qt WeatherPro Airtight Pet Food Storage Container Combo with Scoop and Treat Box for Dog Cat and Bird Food, Keep Pests Out, Translucent Body, Easy Mobility, Dark Gray",
          "IRIS USA 50 Lbs / 65 Qt WeatherPro Airtight Pet Food Storage Container with Removable Casters, For Dog Cat Bird Keep Pests Out Translucent Body Easy Mobility, Clear/Gray",
          "IRIS USA 55qt/45lbs Premium Airtight Pet Food Storage Container, Smoke",
          "IRIS USA 3-Piece 35 Lbs / 45 Qt WeatherPro Airtight Pet Food Storage Container Combo with Scoop and Treat Box for Dog Cat and Bird Food, Keep Pests Out, Translucent Body, Easy Mobility, Dark Gray",
          "IRIS USA 3-Piece 35 Lbs / 45 Qt WeatherPro Airtight Pet Food Storage Container Combo with Scoop and Treat Box for Dog Cat and Bird Food, Keep Pests Out, Translucent Body, Easy Mobility, Orange",
          "IRIS USA 3-Piece 35 Lbs / 45 Qt WeatherPro Airtight Pet Food Storage Container Combo with Scoop and Treat Box for Dog Cat and Bird Food, Keep Pests Out, Translucent Body, Easy Mobility, Orange",
          "IRIS USA 50Lbs./69Qt. WeatherPro Airtight Pet Food Storage Container with Attachable Casters, For Dog Cat Bird and Other Pet Food Storage Bin, Keep Fresh, Translucent Body, Easy Mobility, Black",
          "IRIS USA 55qt/45lbs Premium Airtight Pet Food Storage Container, Smoke",
          "IRIS USA 3-Piece 35 Lbs / 45 Qt WeatherPro Airtight Pet Food Storage Container Combo with Scoop and Treat Box for Dog Cat and Bird Food, Keep Pests Out, Translucent Body, Easy Mobility, Dark Gray",
          "IRIS USA 50 Lbs / 65 Qt WeatherPro Airtight Pet Food Storage Container with Removable Casters, For Dog Cat Bird Keep Pests Out Translucent Body Easy Mobility, Clear/Gray",
          "IRIS USA 33qt + 12qt Airtight Pet Food Storage Container Combo with Scoop, Black",
          "IRIS USA 35Lbs./47Qt. WeatherPro Airtight Pet Food Storage Container with Attachable Casters, For Dog Cat Bird and Other Pet Food Storage Bin, Keep Fresh, Translucent Body, Easy Mobility, Black",
          "IRIS USA 3-Piece 35 Lbs / 45 Qt WeatherPro Airtight Pet Food Storage Container Combo with Scoop and Treat Box for Dog Cat and Bird Food, Keep Pests Out, Translucent Body, Easy Mobility, Orange",
          "IRIS USA 55qt/45lbs Premium Airtight Pet Food Storage Container, Smoke"
         ],
         "legendgroup": "Iris Usa, Inc.",
         "marker": {
          "color": "#636efa",
          "size": [
           52751,
           7616,
           51005,
           3595,
           50635,
           53462,
           18271,
           68552,
           52811,
           26814,
           57763,
           38926,
           55993,
           1760,
           1112,
           11094
          ],
          "sizemode": "area",
          "sizeref": 367.6975,
          "symbol": "circle"
         },
         "mode": "markers",
         "name": "Iris Usa, Inc.",
         "orientation": "v",
         "showlegend": true,
         "type": "scatter",
         "x": [
          4.6,
          4.6,
          4.6,
          4.6,
          4.5,
          4.6,
          4.6,
          4.6,
          4.6,
          4.5,
          4.6,
          4.6,
          4.6,
          4.5,
          4.4,
          4.5
         ],
         "xaxis": "x",
         "y": [
          4146325.199427,
          2201854.34137025,
          1768486.7823182417,
          1709042.6115508124,
          1141732.51838425,
          829565.562728875,
          694885.2234210001,
          488148.35540137504,
          209796.1765495,
          77473.32988,
          27848.835299000006,
          26402.2663115,
          15481.525325,
          14886.420796,
          8567.793464,
          6146.043598
         ],
         "yaxis": "y"
        },
        {
         "hovertemplate": "<b>%{hovertext}</b><br><br>Brand=Instinct<br>Product Rating=%{x}<br>Revenue ($)=%{y}<br>Number of Reviews=%{marker.size}<extra></extra>",
         "hovertext": [
          "Instinct Original Grain Free Recipe with Real Chicken Natural Dry Cat Food, 11 lb. Bag",
          "Instinct Original Grain Free Real Salmon Recipe Natural Wet Canned Cat Food by Nature's Variety, 3 oz. Cans (Case of 24)",
          "Instinct Original Grain Free Real Salmon Recipe Natural Wet Canned Cat Food by Nature's Variety, 3 oz. Cans (Case of 24)"
         ],
         "legendgroup": "Instinct",
         "marker": {
          "color": "#EF553B",
          "size": [
           5939,
           4568,
           4498
          ],
          "sizemode": "area",
          "sizeref": 367.6975,
          "symbol": "circle"
         },
         "mode": "markers",
         "name": "Instinct",
         "orientation": "v",
         "showlegend": true,
         "type": "scatter",
         "x": [
          4.6,
          4.2,
          4.2
         ],
         "xaxis": "x",
         "y": [
          4106847.607139555,
          3454965.55284022,
          304235.4262657071
         ],
         "yaxis": "y"
        },
        {
         "hovertemplate": "<b>%{hovertext}</b><br><br>Brand=Purina Pro Plan<br>Product Rating=%{x}<br>Revenue ($)=%{y}<br>Number of Reviews=%{marker.size}<extra></extra>",
         "hovertext": [
          "Purina Pro Plan Sensitive Skin and Stomach Cat Food, Lamb and Rice Formula - 22 lb. Bag",
          "Purina Pro Plan Urinary Tract - (24) 3 oz. Pull-Top Cans",
          "Purina Pro Plan Urinary Tract Health Chicken Entree in Gravy Cat Food - (24) 3 oz. Pull-Top Cans",
          "Purina Pro Plan High Protein Wet Kitten Food Variety Pack, DEVELOPMENT Kitten Favorites - (24) 3 oz. Cans",
          "Purina Pro Plan Complete Essentials High Protein Cat Food Wet Turkey and Giblets Entree - 5.5 oz. Can",
          "Purina Pro Plan Allergen Reducing, High Protein Cat Food, LIVECLEAR Salmon and Rice Formula - 16 lb. Bag",
          "Purina Pro Plan Allergen Reducing, High Protein Cat Food, LIVECLEAR Chicken and Rice Formula - 7 lb. Bag",
          "Purina Pro Plan High Protein Cat Food Gravy, White Meat Chicken and Vegetable Entree - (24) 3 oz. Pull-Top Cans",
          "Purina Pro Plan Allergen Reducing, High Protein Cat Food, LIVECLEAR Chicken and Rice Formula - 16 lb. Bag",
          "Purina Pro Plan Allergen Reducing, High Protein Cat Food, LIVECLEAR Chicken and Rice Formula - 16 lb. Bag",
          "Purina Pro Plan Sensitive Skin and Stomach Cat Food Wet Pate, Sensitive Skin and Stomach Entree - (24) 3 oz. Pull-Top Cans.",
          "Purina Pro Plan Allergen Reducing, High Protein Cat Food, LIVECLEAR Chicken and Rice Formula - 16 lb. Bag",
          "Purina Pro Plan Urinary Tract Health Chicken Entree in Gravy Cat Food - (24) 3 oz. Pull-Top Cans",
          "Purina Pro Plan Complete Essentials High Protein Cat Food Wet Turkey and Giblets Entree - 5.5 oz. Can",
          "Purina Pro Plan Allergen Reducing, High Protein Cat Food, LIVECLEAR Salmon and Rice Formula - 16 lb. Bag",
          "Purina Pro Plan Urinary Tract - (24) 3 oz. Pull-Top Cans",
          "Purina Pro Plan Complete Essentials High Protein Cat Food Wet Turkey and Giblets Entree - 5.5 oz. Can",
          "Purina Pro Plan Allergen Reducing, High Protein Cat Food, LIVECLEAR Salmon and Rice Formula - 16 lb. Bag",
          "Purina Pro Plan High Protein Cat Food Gravy, White Meat Chicken and Vegetable Entree - (24) 3 oz. Pull-Top Cans",
          "Purina Pro Plan High Protein Cat Food Gravy, White Meat Chicken and Vegetable Entree - (24) 3 oz. Pull-Top Cans",
          "Purina Pro Plan Grain Free Pate Wet Kitten Food, Chicken Entree - 3 oz. Pull-Top Can",
          "Purina Pro Plan Complete Essentials - (24) 5.5 oz. Pull-Top Cans",
          "Purina Pro Plan Urinary Tract Cat Food, Urinary Tract Health Wet Cat Food Variety Pack Entrees - (24) 3 oz. Cans",
          "Purina Pro Plan Urinary Tract - (24) 3 oz. Pull-Top Cans",
          "Purina Pro Plan Urinary Tract - (24) 3 oz. Pull-Top Cans",
          "Purina Pro Plan Urinary Cat Food, Wet Cat Food Variety Pack, Urinary Tract - (48) 3 oz. Cans",
          "Purina Pro Plan Urinary Tract - (24) 3 oz. Cans",
          "Purina Pro Plan Urinary Tract - (24) 3 oz. Pull-Top Cans",
          "Purina Pro Plan Urinary Tract Cat Food, Urinary Tract Health Wet Cat Food Variety Pack Entrees - (24) 3 oz. Cans",
          "Purina Pro Plan Complete Essentials High Protein Cat Food Wet Turkey and Giblets Entree - 5.5 oz. Can",
          "Purina Pro Plan High Protein Wet Kitten Food Variety Pack, DEVELOPMENT Kitten Favorites - (2 Packs of 12) 3 oz. Cans",
          "Purina Pro Plan Grain Free Pate Wet Kitten Food, Chicken Entree - 3 oz. Pull-Top Can",
          "Purina Pro Plan Urinary Tract Cat Food, Urinary Tract Health Wet Cat Food Variety Pack Entrees - (24) 3 oz. Cans",
          "Purina Pro Plan Sensitive Skin and Stomach Cat Food, Lamb and Rice Formula - 16 lb. Bag",
          "Purina Pro Plan Urinary Tract Cat Food, Wet Cat Food Variety Pack, Urinary Tract Health Entrees - (36) 3 oz. Cans",
          "Purina Pro Plan High Protein Cat Food Gravy, White Meat Chicken and Vegetable Entree - (24) 3 oz. Pull-Top Cans",
          "Purina Pro Plan Grain Free, Pate, High Protein Wet Kitten Food, DEVELOPMENT Entree - (24) 3 oz. Pull-Top Cans",
          "Purina Pro Plan Grain Free, Pate, High Protein Wet Kitten Food, DEVELOPMENT Entree - (24) 3 oz. Pull-Top Cans",
          "Purina Pro Plan Urinary Tract Health Chicken Entree in Gravy Cat Food - (24) 3 oz. Pull-Top Cans",
          "Purina Pro Plan Urinary Tract - (24) 3 oz. Cans",
          "Purina Pro Plan Complete Essentials - (24) 5.5 oz. Pull-Top Cans",
          "Purina Pro Plan High Protein Cat Food Gravy, White Meat Chicken and Vegetable Entree - (24) 3 oz. Pull-Top Cans",
          "Purina Pro Plan High Protein Cat Food Gravy, White Meat Chicken and Vegetable Entree - (24) 3 oz. Pull-Top Cans",
          "Purina Pro Plan Urinary Tract - (2 Packs of 12) 3 oz. Cans",
          "Purina Pro Plan Urinary Cat Food, Wet Cat Food Variety Pack, Urinary Tract - (48) 3 oz. Cans",
          "Purina Pro Plan Complete Essentials High Protein Cat Food Wet Turkey and Giblets Entree - 5.5 oz. Can",
          "Purina Pro Plan Urinary Tract Cat Food, Wet Cat Food Variety Pack, Urinary Tract Health Entrees - (36) 3 oz. Cans",
          "Purina Pro Plan Urinary Tract Cat Food, Urinary Tract Health Wet Cat Food Variety Pack Entrees - (24) 3 oz. Cans",
          "Purina Pro Plan Complete Essentials High Protein Cat Food Wet Turkey and Giblets Entree - 5.5 oz. Can",
          "Purina Pro Plan Grain Free, Pate, High Protein Wet Kitten Food, DEVELOPMENT Entree - (24) 3 oz. Pull-Top Cans",
          "Purina Pro Plan Sensitive Skin and Stomach Cat Food Wet Pate, Sensitive Skin and Stomach Entree - (24) 3 oz. Pull-Top Cans.",
          "Purina Pro Plan High Protein Wet Kitten Food Variety Pack, DEVELOPMENT Kitten Favorites - (2 Packs of 12) 3 oz. Cans",
          "Purina Pro Plan Complete Essentials - (24) 5.5 oz. Pull-Top Cans"
         ],
         "legendgroup": "Purina Pro Plan",
         "marker": {
          "color": "#00cc96",
          "size": [
           1438,
           3988,
           7929,
           228,
           540,
           3343,
           2070,
           632,
           4583,
           2070,
           2647,
           2014,
           4465,
           5373,
           1489,
           2093,
           9963,
           527,
           3228,
           7234,
           8209,
           4957,
           1362,
           4191,
           803,
           794,
           668,
           3984,
           1341,
           202,
           6192,
           430,
           5439,
           3167,
           544,
           214,
           212,
           215,
           3976,
           1942,
           343,
           245,
           7611,
           445,
           156,
           1332,
           537,
           1848,
           531,
           215,
           3368,
           1176,
           2389
          ],
          "sizemode": "area",
          "sizeref": 367.6975,
          "symbol": "circle"
         },
         "mode": "markers",
         "name": "Purina Pro Plan",
         "orientation": "v",
         "showlegend": true,
         "type": "scatter",
         "x": [
          4.7,
          4.5,
          4.6,
          4.7,
          4.5,
          4.7,
          4.7,
          4.6,
          4.7,
          4.7,
          4.5,
          4.65,
          4.7,
          4.6,
          4.7,
          4.6,
          4.6,
          4.7,
          4.6,
          4.6,
          4.8,
          4.6,
          4.6,
          4.6,
          4.6,
          4.6,
          4.6,
          4.5,
          4.6,
          4.3,
          4.7,
          4.7,
          4.6,
          4.7,
          4.6,
          4.6,
          4.7,
          4.7,
          4.6,
          4.6,
          4.6,
          4.6,
          4.6,
          4.6,
          4.6,
          4.6,
          4.7,
          4.6,
          4.5,
          4.7,
          4.6,
          4.6,
          4.7
         ],
         "xaxis": "x",
         "y": [
          3853044.998820146,
          3767898.0123691466,
          3598047.2047964167,
          2580250.1703895833,
          2560233.8256083042,
          2513340.1463099997,
          884697.7987668333,
          839258.6025258406,
          822769.05494725,
          822116.3272565,
          794499.7596600001,
          750471.78060075,
          735844.3184252168,
          679296.048864,
          306665.8584805,
          241487.3821835,
          232440.011677,
          225911.16264886488,
          225715.29254400003,
          224935.32039510697,
          182683.55965550002,
          174249.4202975,
          146513.84001800002,
          127886.45378400001,
          125368.28310700001,
          120850.90084725001,
          116532.283326,
          104982.687408,
          102468.69050425,
          82176.910992,
          77004.04601250001,
          76184.53003200001,
          72065.93789175,
          66549.87432,
          59295.770087,
          56470.937424,
          56163.93715500001,
          52588.42219525,
          50359.678846,
          40631.997879,
          29145.836398000003,
          27947.988480000004,
          27322.96595296154,
          25304.377866,
          23382.466490000003,
          17640.458092999997,
          17185.110045,
          13456.5674555,
          6435.020592000001,
          5638.37592,
          5049.189432,
          5021.41874,
          2157.4919040000004
         ],
         "yaxis": "y"
        },
        {
         "hovertemplate": "<b>%{hovertext}</b><br><br>Brand=Hoki Found<br>Product Rating=%{x}<br>Revenue ($)=%{y}<br>Number of Reviews=%{marker.size}<extra></extra>",
         "hovertext": [
          "Hoki Found XX-Large Silicone Pet Food Mats Tray - Non Slip Pet Dog Cat Bowl Mats Placemat - Dog Pet Cat Feeding Mat - Waterproof Dog Cat Food Mats -Pet Water Mats for Carpet -Cream Brown"
         ],
         "legendgroup": "Hoki Found",
         "marker": {
          "color": "#ab63fa",
          "size": [
           25007
          ],
          "sizemode": "area",
          "sizeref": 367.6975,
          "symbol": "circle"
         },
         "mode": "markers",
         "name": "Hoki Found",
         "orientation": "v",
         "showlegend": true,
         "type": "scatter",
         "x": [
          4.6
         ],
         "xaxis": "x",
         "y": [
          3712204.9152255184
         ],
         "yaxis": "y"
        },
        {
         "hovertemplate": "<b>%{hovertext}</b><br><br>Brand=Royal Canin<br>Product Rating=%{x}<br>Revenue ($)=%{y}<br>Number of Reviews=%{marker.size}<extra></extra>",
         "hovertext": [
          "Royal Canin Indoor Adult Dry Cat Food, 15 lb bag",
          "Royal Canin Indoor Adult Dry Cat Food, 15 lb bag"
         ],
         "legendgroup": "Royal Canin",
         "marker": {
          "color": "#FFA15A",
          "size": [
           5418,
           4727
          ],
          "sizemode": "area",
          "sizeref": 367.6975,
          "symbol": "circle"
         },
         "mode": "markers",
         "name": "Royal Canin",
         "orientation": "v",
         "showlegend": true,
         "type": "scatter",
         "x": [
          4.7,
          4.8
         ],
         "xaxis": "x",
         "y": [
          3474449.647098,
          16278.543814
         ],
         "yaxis": "y"
        },
        {
         "hovertemplate": "<b>%{hovertext}</b><br><br>Brand=Rachael Ray Nutrish<br>Product Rating=%{x}<br>Revenue ($)=%{y}<br>Number of Reviews=%{marker.size}<extra></extra>",
         "hovertext": [
          "Rachael Ray Nutrish Indoor Complete Premium Natural Dry Cat Food, Chicken with Lentils & Salmon Recipe, 14 Pounds (Packaging May Vary)",
          "Rachael Ray Nutrish Inner Health Premium Natural Dry Cat Food, Turkey with Chickpeas & Salmon Recipe, 14 Pounds",
          "Rachael Ray Nutrish Inner Health Premium Natural Dry Cat Food, Turkey with Chickpeas & Salmon Recipe, 14 Pounds",
          "Rachael Ray Nutrish Longevity Premium Natural Dry Cat Food, Chicken with Chickpeas & Salmon Recipe, 14 Pounds (Packaging May Vary)"
         ],
         "legendgroup": "Rachael Ray Nutrish",
         "marker": {
          "color": "#19d3f3",
          "size": [
           15200,
           22673,
           4925,
           1855
          ],
          "sizemode": "area",
          "sizeref": 367.6975,
          "symbol": "circle"
         },
         "mode": "markers",
         "name": "Rachael Ray Nutrish",
         "orientation": "v",
         "showlegend": true,
         "type": "scatter",
         "x": [
          4.7,
          4.6,
          4.4,
          4.6
         ],
         "xaxis": "x",
         "y": [
          3461223.4944418543,
          671188.924392,
          146344.537916,
          76823.418506
         ],
         "yaxis": "y"
        },
        {
         "hovertemplate": "<b>%{hovertext}</b><br><br>Brand=Reopet<br>Product Rating=%{x}<br>Revenue ($)=%{y}<br>Number of Reviews=%{marker.size}<extra></extra>",
         "hovertext": [
          "Reopet Silicone Dog Cat Bowl Mat Non-Stick Food Pad Water Cushion Waterproof - Multiple Colors, Sizes & Purposes",
          "Reopet Silicone Dog Cat Bowl Mat Non-Stick Food Pad Water Cushion Waterproof - Multiple Colors, Sizes & Purposes",
          "Reopet Silicone Dog Cat Bowl Mat Non-Stick Food Pad Water Cushion Waterproof - Multiple Colors, Sizes & Purposes",
          "Reopet Silicone Dog Cat Bowl Mat Non-Stick Food Pad Water Cushion Waterproof - Multiple Colors, Sizes & Purposes",
          "Reopet Silicone Dog Cat Bowl Mat Non-Stick Food Pad Water Cushion Waterproof - Multiple Colors, Sizes & Purposes",
          "Reopet Silicone Dog Cat Bowl Mat Non-Stick Food Pad Water Cushion Waterproof - Multiple Colors, Sizes & Purposes",
          "Reopet Silicone Dog Cat Bowl Mat Non-Stick Food Pad Water Cushion Waterproof - Multiple Colors, Sizes & Purposes",
          "Reopet Silicone Dog Cat Bowl Mat Non-Stick Food Pad Water Cushion Waterproof - Multiple Colors, Sizes & Purposes",
          "Reopet Silicone Dog Cat Bowl Mat Non-Stick Food Pad Water Cushion Waterproof - Multiple Colors, Sizes & Purposes",
          "Reopet Silicone Dog Cat Bowl Mat Non-Stick Food Pad Water Cushion Waterproof - Multiple Colors, Sizes & Purposes",
          "Reopet Silicone Dog Cat Bowl Mat Non-Stick Food Pad Water Cushion Waterproof - Multiple Colors, Sizes & Purposes",
          "Reopet Silicone Dog Cat Bowl Mat Non-Stick Food Pad Water Cushion Waterproof - Multiple Colors, Sizes & Purposes"
         ],
         "legendgroup": "Reopet",
         "marker": {
          "color": "#FF6692",
          "size": [
           38227,
           38181,
           38122,
           33233,
           34675,
           38620,
           33730,
           37969,
           38122,
           37970,
           37422,
           37969
          ],
          "sizemode": "area",
          "sizeref": 367.6975,
          "symbol": "circle"
         },
         "mode": "markers",
         "name": "Reopet",
         "orientation": "v",
         "showlegend": true,
         "type": "scatter",
         "x": [
          4.5,
          4.5,
          4.5,
          4.5,
          4.5,
          4.5,
          4.5,
          4.5,
          4.5,
          4.5,
          4.5,
          4.5
         ],
         "xaxis": "x",
         "y": [
          3430459.4993786104,
          2603940.110419255,
          2174640.352085,
          973299.7086432916,
          739892.0373203182,
          390843.7545568817,
          375281.0606578409,
          275564.67061875,
          271691.4592009322,
          39839.40452321428,
          9728.244106,
          7953.970995
         ],
         "yaxis": "y"
        },
        {
         "hovertemplate": "<b>%{hovertext}</b><br><br>Brand=Purina<br>Product Rating=%{x}<br>Revenue ($)=%{y}<br>Number of Reviews=%{marker.size}<extra></extra>",
         "hovertext": [
          "Purina Friskies Wet Cat Food Variety Pack, Shreds - (40) 5.5 oz. Cans",
          "Purina Friskies Wet Cat Food Variety Pack, Shreds - (40) 5.5 oz. Cans",
          "Purina Friskies Wet Cat Food Variety Pack, Shreds - (40) 5.5 oz. Cans",
          "Purina Fancy Feast Grilled - (24) 3 oz. Cans"
         ],
         "legendgroup": "Purina",
         "marker": {
          "color": "#B6E880",
          "size": [
           17127,
           15934,
           16581,
           2022
          ],
          "sizemode": "area",
          "sizeref": 367.6975,
          "symbol": "circle"
         },
         "mode": "markers",
         "name": "Purina",
         "orientation": "v",
         "showlegend": true,
         "type": "scatter",
         "x": [
          4.7,
          4.7,
          4.7,
          4.7
         ],
         "xaxis": "x",
         "y": [
          3374470.4003774063,
          977775.7150525001,
          789820.1609261667,
          73504.71036000001
         ],
         "yaxis": "y"
        },
        {
         "hovertemplate": "<b>%{hovertext}</b><br><br>Brand=Wellness<br>Product Rating=%{x}<br>Revenue ($)=%{y}<br>Number of Reviews=%{marker.size}<extra></extra>",
         "hovertext": [
          "Wellness Complete Health Grain-Free Wet Canned Cat Food, Natural Ingredients, Made with Real Meat, All Breeds, Smooth Pate, Beef & Chicken, 3 Ounce (Pack of 24)",
          "Wellness Complete Health Grain-Free Wet Canned Cat Food, Natural Ingredients, Made with Real Meat, All Breeds, Smooth Pate, Beef & Chicken, 3 Ounce (Pack of 24)",
          "Wellness Complete Health Grain-Free Wet Canned Cat Food, Natural Ingredients, Made with Real Meat, All Breeds, Smooth Pate, Beef & Chicken, 3 Ounce (Pack of 24)",
          "Wellness Complete Health Grain-Free Wet Canned Cat Food, Natural Ingredients, Made with Real Meat, All Breeds, Smooth Pate, Beef & Chicken, 3 Ounce (Pack of 24)",
          "Wellness Complete Health Grain-Free Wet Canned Cat Food, Natural Ingredients, Made with Real Meat, All Breeds, Smooth Pate (Beef & Salmon, 12.5-Ounce Can, Pack of 12)",
          "Wellness Complete Health Grain-Free Wet Canned Cat Food, Natural Ingredients, Made with Real Meat, All Breeds, Smooth Pate (Beef & Salmon, 12.5-Ounce Can, Pack of 12)",
          "Wellness Complete Health Grain-Free Wet Canned Cat Food, Natural Ingredients, Made with Real Meat, All Breeds, Smooth Pate (Chicken & Herring, 12.5-Ounce Can, Pack of 12)",
          "Wellness Complete Health Grain-Free Wet Canned Cat Food, Natural Ingredients, Made with Real Meat, All Breeds, Smooth Pate, Beef & Chicken, 3 Ounce (Pack of 24)",
          "Wellness Complete Health Grain-Free Wet Canned Cat Food, Natural Ingredients, Made with Real Meat, All Breeds, Smooth Pate (Beef & Salmon, 12.5-Ounce Can, Pack of 12)",
          "Wellness Complete Health Grain-Free Wet Canned Cat Food, Natural Ingredients, Made with Real Meat, All Breeds, Smooth Pate, Beef & Chicken, 3 Ounce (Pack of 24)",
          "Wellness Complete Health Grain-Free Wet Canned Cat Food, Natural Ingredients, Made with Real Meat, All Breeds, Smooth Pate (Chicken & Herring, 12.5-Ounce Can, Pack of 12)",
          "Wellness Complete Health Grain-Free Wet Canned Cat Food, Natural Ingredients, Made with Real Meat, All Breeds, Smooth Pate, Beef & Chicken, 3 Ounce (Pack of 24)"
         ],
         "legendgroup": "Wellness",
         "marker": {
          "color": "#FF97FF",
          "size": [
           8284,
           5343,
           5335,
           55,
           3915,
           2919,
           1578,
           7519,
           2668,
           7503,
           389,
           208
          ],
          "sizemode": "area",
          "sizeref": 367.6975,
          "symbol": "circle"
         },
         "mode": "markers",
         "name": "Wellness",
         "orientation": "v",
         "showlegend": true,
         "type": "scatter",
         "x": [
          4.5,
          4.5,
          4.5,
          4.1,
          4.5,
          4.4,
          4.5,
          4.4,
          4.6,
          4.4,
          4.4,
          4.4
         ],
         "xaxis": "x",
         "y": [
          3260161.2524310835,
          2056820.8270405834,
          943273.3205850001,
          856039.337985624,
          702835.3553005,
          379162.79924230784,
          305790.46624825,
          244816.68577799998,
          134691.6629035,
          84161.829308,
          78695.160617,
          17652.196562
         ],
         "yaxis": "y"
        },
        {
         "hovertemplate": "<b>%{hovertext}</b><br><br>Brand=Simplehuman<br>Product Rating=%{x}<br>Revenue ($)=%{y}<br>Number of Reviews=%{marker.size}<extra></extra>",
         "hovertext": [
          "simplehuman 25 Liter, 27 lb / 12.2 kg Medium Pet Food Storage Container for Dog Food, Cat Food, and Bird Feed, Brushed Stainless Steel",
          "simplehuman 30 Liter, 32 lb / 14.5 kg Large Pet Food Storage Container for Dog Food, Cat Food, and Bird Feed, Brushed Stainless Steel",
          "simplehuman 25 Liter, 27 lb / 12.2 kg Medium Pet Food Storage Container for Dog Food, Cat Food, and Bird Feed, Brushed Stainless Steel",
          "simplehuman 35 Liter, 40 lb / 18.1 kg X-Large Pet Food Storage Container for Dog Food, Cat Food, and Bird Feed, Brushed Stainless Steel",
          "simplehuman 25 Liter, 27 lb / 12.2 kg Medium Pet Food Storage Container for Dog Food, Cat Food, and Bird Feed, Brushed Stainless Steel",
          "simplehuman 30 Liter, 32 lb / 14.5 kg Large Pet Food Storage Container for Dog Food, Cat Food, and Bird Feed, Brushed Stainless Steel",
          "simplehuman 25 Liter, 27 lb / 12.2 kg Medium Pet Food Storage Container for Dog Food, Cat Food, and Bird Feed, Brushed Stainless Steel"
         ],
         "legendgroup": "Simplehuman",
         "marker": {
          "color": "#FECB52",
          "size": [
           911,
           6,
           1782,
           3054,
           1772,
           1721,
           1784
          ],
          "sizemode": "area",
          "sizeref": 367.6975,
          "symbol": "circle"
         },
         "mode": "markers",
         "name": "Simplehuman",
         "orientation": "v",
         "showlegend": true,
         "type": "scatter",
         "x": [
          4.9,
          4.7,
          4.7,
          4.7,
          4.8,
          4.8,
          4.8
         ],
         "xaxis": "x",
         "y": [
          3203168.3650137982,
          1094089.9773385,
          213697.6433565,
          39804.306698,
          20363.496438,
          20138.569428,
          13734.128474999998
         ],
         "yaxis": "y"
        },
        {
         "hovertemplate": "<b>%{hovertext}</b><br><br>Brand=Petlibro<br>Product Rating=%{x}<br>Revenue ($)=%{y}<br>Number of Reviews=%{marker.size}<extra></extra>",
         "hovertext": [
          "PETLIBRO Automatic Cat Feeder, Automatic Cat Food Dispenser with Freshness Preservation, Timed Cat Feeders for Dry Food, Up to 50 Portions 6 Meals Per Day, Granary Pet Feeder for Cats/Dogs",
          "PETLIBRO Automatic Dog Feeder, 6L Dog Food Dispenser with Timer Interactive Voice Recorder, Auto Dog Feeder with Desiccant Bag 1-4 Meals Dry Food",
          "PETLIBRO Automatic Cat Food Dispenser, Stainless Steel, 2L Capacity, 6 Meals/Day, No Overeating, Low Battery Indicator, Easy to Clean, Dishwasher Safe",
          "PETLIBRO Automatic Cat Feeder, Automatic Cat Food Dispenser with Timer Interactive Voice Recorder, Auto Cat Feeder with 1-4 Meals Control Dry Food",
          "PETLIBRO Automatic Cat Feeder, Automatic Cat Food Dispenser with Freshness Preservation, Timed Cat Feeders for Dry Food, Up to 50 Portions 6 Meals Per Day, Granary Pet Feeder for Cats/Dogs",
          "PETLIBRO Automatic Cat Feeder, Automatic Cat Food Dispenser with Freshness Preservation, Timed Cat Feeders for Dry Food, Up to 50 Portions 6 Meals Per Day, Granary Pet Feeder for Cats/Dogs",
          "PETLIBRO Automatic Cat Food Dispenser, Stainless Steel, Easy to Set Up and Program, Freshness Preservation, Up to 50 Portions per Meal, Infrared Detection",
          "PETLIBRO Automatic Cat Food Dispenser, Stainless Steel, 2L Capacity, 6 Meals/Day, No Overeating, Low Battery Indicator, Easy to Clean, Dishwasher Safe",
          "PETLIBRO Automatic Cat Food Dispenser, Stainless Steel, Easy to Set Up and Program, Freshness Preservation, Up to 50 Portions per Meal, Infrared Detection",
          "PETLIBRO Automatic Dog Feeder, 6L Dog Food Dispenser with Timer Interactive Voice Recorder, Auto Dog Feeder with Desiccant Bag 1-4 Meals Dry Food, White Opaque",
          "PETLIBRO Automatic Cat Food Dispenser, Stainless Steel, 2L Capacity, 6 Meals/Day, No Overeating, Low Battery Indicator, Easy to Clean, Dishwasher Safe",
          "PETLIBRO Automatic Cat Food Dispenser, Stainless Steel, 2L Capacity, 6 Meals/Day, No Overeating, Low Battery Indicator, Easy to Clean, Dishwasher Safe",
          "PETLIBRO Automatic Cat Feeder, Automatic Cat Food Dispenser with Timer Interactive Voice Recorder, Auto Cat Feeder with 1-4 Meals Control Dry Food",
          "PETLIBRO Automatic Cat Food Dispenser, Stainless Steel, 2L Capacity, 6 Meals/Day, No Overeating, Low Battery Indicator, Easy to Clean, Dishwasher Safe",
          "PETLIBRO Automatic Cat Feeder, Automatic Cat Food Dispenser with Timer Interactive Voice Recorder, Auto Cat Feeder with 1-4 Meals Control Dry Food",
          "PETLIBRO Automatic Cat Food Dispenser, Stainless Steel, 2L Capacity, 6 Meals/Day, No Overeating, Low Battery Indicator, Easy to Clean, Dishwasher Safe",
          "PETLIBRO Automatic Cat Feeder, Automatic Cat Food Dispenser with Freshness Preservation, Timed Cat Feeders for Dry Food, Up to 50 Portions 6 Meals Per Day, Granary Pet Feeder for Cats/Dogs",
          "PETLIBRO Automatic Cat Feeder, Automatic Cat Food Dispenser with Timer Interactive Voice Recorder, Auto Cat Feeder with 1-4 Meals Control Dry Food",
          "PETLIBRO Automatic Cat Feeder, Automatic Cat Food Dispenser with Freshness Preservation, Timed Cat Feeders for Dry Food, Up to 50 Portions 6 Meals Per Day, Granary Pet Feeder for Cats/Dogs",
          "PETLIBRO Automatic Cat Feeder, Automatic Cat Food Dispenser with Freshness Preservation, Timed Cat Feeders for Dry Food, Up to 50 Portions 6 Meals Per Day, Granary Pet Feeder for Cats/Dogs",
          "PETLIBRO Automatic Cat Feeder, Automatic Cat Food Dispenser with Freshness Preservation, Timed Cat Feeders for Dry Food, Up to 50 Portions 6 Meals Per Day, Granary Pet Feeder for Cats/Dogs",
          "PETLIBRO Automatic Cat Food Dispenser, Stainless Steel, Easy to Set Up and Program, Freshness Preservation, Up to 50 Portions per Meal, Infrared Detection",
          "PETLIBRO Automatic Dog Feeder, 6L Dog Food Dispenser with Timer Interactive Voice Recorder, Auto Dog Feeder with Desiccant Bag 1-4 Meals Dry Food",
          "PETLIBRO Automatic Cat Food Dispenser, Stainless Steel, 2L Capacity, 6 Meals/Day, No Overeating, Low Battery Indicator, Easy to Clean, Dishwasher Safe",
          "PETLIBRO Automatic Cat Feeder, Automatic Cat Food Dispenser with Timer Interactive Voice Recorder, Auto Cat Feeder with 1-4 Meals Control Dry Food",
          "PETLIBRO Automatic Cat Feeder, Automatic Cat Food Dispenser with Timer Interactive Voice Recorder, Auto Cat Feeder with 1-4 Meals Control Dry Food",
          "PETLIBRO Automatic Dog Feeder, 6L Dog Food Dispenser with Timer Interactive Voice Recorder, Auto Dog Feeder with Desiccant Bag 1-4 Meals Dry Food",
          "PETLIBRO Automatic Dog Feeder, 6L Dog Food Dispenser with Timer Interactive Voice Recorder, Auto Dog Feeder with Desiccant Bag 1-4 Meals Dry Food",
          "PETLIBRO Automatic Cat Feeder, Automatic Cat Food Dispenser with Timer Interactive Voice Recorder, Auto Cat Feeder with 1-4 Meals Control Dry Food",
          "PETLIBRO Automatic Cat Food Dispenser, Stainless Steel, 2L Capacity, 6 Meals/Day, No Overeating, Low Battery Indicator, Easy to Clean, Dishwasher Safe",
          "PETLIBRO Automatic Cat Feeder, Automatic Cat Food Dispenser with Freshness Preservation, Timed Cat Feeders for Dry Food, Up to 50 Portions 6 Meals Per Day, Granary Pet Feeder for Cats/Dogs",
          "PETLIBRO Automatic Dog Feeder, 6L Dog Food Dispenser with Timer Interactive Voice Recorder, Auto Dog Feeder with Desiccant Bag 1-4 Meals Dry Food",
          "PETLIBRO Automatic Cat Feeder, Automatic Cat Food Dispenser with Freshness Preservation, Timed Cat Feeders for Dry Food, Up to 50 Portions 6 Meals Per Day, Granary Pet Feeder for Cats/Dogs",
          "PETLIBRO Automatic Cat Feeder, Automatic Cat Food Dispenser with Timer Interactive Voice Recorder, Auto Cat Feeder with 1-4 Meals Control Dry Food",
          "PETLIBRO Automatic Cat Feeder, Automatic Cat Food Dispenser with Timer Interactive Voice Recorder, Auto Cat Feeder with 1-4 Meals Control Dry Food",
          "PETLIBRO Automatic Cat Food Dispenser, Stainless Steel, 2L Capacity, 6 Meals/Day, No Overeating, Low Battery Indicator, Easy to Clean, Dishwasher Safe",
          "PETLIBRO Automatic Cat Food Dispenser, Stainless Steel, Easy to Set Up and Program, Freshness Preservation, Up to 50 Portions per Meal, Infrared Detection",
          "PETLIBRO Automatic Cat Food Dispenser, Stainless Steel, Easy to Set Up and Program, Freshness Preservation, Up to 50 Portions per Meal, Infrared Detection",
          "PETLIBRO Automatic Cat Food Dispenser, Stainless Steel, 2L Capacity, 6 Meals/Day, No Overeating, Low Battery Indicator, Easy to Clean, Dishwasher Safe",
          "PETLIBRO Automatic Cat Feeder, Automatic Cat Food Dispenser with Freshness Preservation, Timed Cat Feeders for Dry Food, Up to 50 Portions 6 Meals Per Day, Granary Pet Feeder for Cats/Dogs",
          "PETLIBRO Automatic Cat Food Dispenser, Stainless Steel, 2L Capacity, 6 Meals/Day, No Overeating, Low Battery Indicator, Easy to Clean, Dishwasher Safe",
          "PETLIBRO Automatic Cat Food Dispenser, Stainless Steel, Easy to Set Up and Program, Freshness Preservation, Up to 50 Portions per Meal, Infrared Detection",
          "PETLIBRO Automatic Dog Feeder, 6L Dog Food Dispenser with Timer Interactive Voice Recorder, Auto Dog Feeder with Desiccant Bag 1-4 Meals Dry Food",
          "PETLIBRO Automatic Cat Food Dispenser, Stainless Steel, Easy to Set Up and Program, Freshness Preservation, Up to 50 Portions per Meal, Infrared Detection",
          "PETLIBRO Automatic Cat Food Dispenser, Stainless Steel, Easy to Set Up and Program, Freshness Preservation, Up to 50 Portions per Meal, Infrared Detection",
          "PETLIBRO Automatic Dog Feeder, 6L Dog Food Dispenser with Timer Interactive Voice Recorder, Auto Dog Feeder with Desiccant Bag 1-4 Meals Dry Food",
          "PETLIBRO Automatic Cat Food Dispenser, Stainless Steel, Easy to Set Up and Program, Freshness Preservation, Up to 50 Portions per Meal, Infrared Detection",
          "PETLIBRO Automatic Dog Feeder, 6L Dog Food Dispenser with Timer Interactive Voice Recorder, Auto Dog Feeder with Desiccant Bag 1-4 Meals Dry Food",
          "PETLIBRO Automatic Cat Feeder, Automatic Cat Food Dispenser with Freshness Preservation, Timed Cat Feeders for Dry Food, Up to 50 Portions 6 Meals Per Day, Granary Pet Feeder for Cats/Dogs",
          "PETLIBRO Automatic Cat Feeder, Automatic Cat Food Dispenser with Timer Interactive Voice Recorder, Auto Cat Feeder with 1-4 Meals Control Dry Food",
          "PETLIBRO Automatic Cat Feeder, Automatic Cat Food Dispenser with Freshness Preservation, Timed Cat Feeders for Dry Food, Up to 50 Portions 6 Meals Per Day, Granary Pet Feeder for Cats/Dogs",
          "PETLIBRO Automatic Cat Feeder, Automatic Cat Food Dispenser with Freshness Preservation, Timed Cat Feeders for Dry Food, Up to 50 Portions 6 Meals Per Day, Granary Pet Feeder for Cats/Dogs",
          "PETLIBRO Automatic Cat Feeder, Automatic Cat Food Dispenser with Freshness Preservation, Timed Cat Feeders for Dry Food, Up to 50 Portions 6 Meals Per Day, Granary Pet Feeder for Cats/Dogs",
          "PETLIBRO Automatic Dog Feeder, 6L Dog Food Dispenser with Timer Interactive Voice Recorder, Auto Dog Feeder with Desiccant Bag 1-4 Meals Dry Food",
          "PETLIBRO Automatic Cat Food Dispenser, Stainless Steel, 2L Capacity, 6 Meals/Day, No Overeating, Low Battery Indicator, Easy to Clean, Dishwasher Safe",
          "PETLIBRO Automatic Cat Feeder, Automatic Cat Food Dispenser with Freshness Preservation, Timed Cat Feeders for Dry Food, Up to 50 Portions 6 Meals Per Day, Granary Pet Feeder for Cats/Dogs",
          "PETLIBRO Automatic Cat Food Dispenser, Stainless Steel, 2L Capacity, 6 Meals/Day, No Overeating, Low Battery Indicator, Easy to Clean, Dishwasher Safe",
          "PETLIBRO Automatic Dog Feeder, 6L Dog Food Dispenser with Timer Interactive Voice Recorder, Auto Dog Feeder with Desiccant Bag 1-4 Meals Dry Food, White Opaque",
          "PETLIBRO Automatic Cat Food Dispenser, Stainless Steel, 2L Capacity, 6 Meals/Day, No Overeating, Low Battery Indicator, Easy to Clean, Dishwasher Safe",
          "PETLIBRO Automatic Dog Feeder, 6L Dog Food Dispenser with Timer Interactive Voice Recorder, Auto Dog Feeder with Desiccant Bag 1-4 Meals Dry Food",
          "PETLIBRO Automatic Cat Feeder, Automatic Cat Food Dispenser with Freshness Preservation, Timed Cat Feeders for Dry Food, Up to 50 Portions 6 Meals Per Day, Granary Pet Feeder for Cats/Dogs",
          "PETLIBRO Automatic Cat Feeder, Automatic Cat Food Dispenser with Freshness Preservation, Timed Cat Feeders for Dry Food, Up to 50 Portions 6 Meals Per Day, Granary Pet Feeder for Cats/Dogs",
          "PETLIBRO Automatic Cat Food Dispenser, Stainless Steel, 2L Capacity, 6 Meals/Day, No Overeating, Low Battery Indicator, Easy to Clean, Dishwasher Safe",
          "PETLIBRO Automatic Cat Food Dispenser, Stainless Steel, 2L Capacity, 6 Meals/Day, No Overeating, Low Battery Indicator, Easy to Clean, Dishwasher Safe",
          "PETLIBRO Automatic Cat Food Dispenser, Stainless Steel, Easy to Set Up and Program, Freshness Preservation, Up to 50 Portions per Meal, Infrared Detection",
          "PETLIBRO Automatic Dog Feeder, 6L Dog Food Dispenser with Timer Interactive Voice Recorder, Auto Dog Feeder with Desiccant Bag 1-4 Meals Dry Food, White Opaque",
          "PETLIBRO Automatic Cat Feeder, Automatic Cat Food Dispenser with Timer Interactive Voice Recorder, Auto Cat Feeder with 1-4 Meals Control Dry Food",
          "PETLIBRO Automatic Dog Feeder, 6L Dog Food Dispenser with Timer Interactive Voice Recorder, Auto Dog Feeder with Desiccant Bag 1-4 Meals Dry Food",
          "PETLIBRO Automatic Cat Food Dispenser, Stainless Steel, Easy to Set Up and Program, Freshness Preservation, Up to 50 Portions per Meal, Infrared Detection",
          "PETLIBRO Automatic Cat Food Dispenser, Stainless Steel, Easy to Set Up and Program, Freshness Preservation, Up to 50 Portions per Meal, Infrared Detection",
          "PETLIBRO Automatic Cat Feeder, Automatic Cat Food Dispenser with Timer Interactive Voice Recorder, Auto Cat Feeder with 1-4 Meals Control Dry Food",
          "PETLIBRO Automatic Dog Feeder, 6L Dog Food Dispenser with Timer Interactive Voice Recorder, Auto Dog Feeder with Desiccant Bag 1-4 Meals Dry Food, White Opaque",
          "PETLIBRO Automatic Cat Food Dispenser, Stainless Steel, 2L Capacity, 6 Meals/Day, No Overeating, Low Battery Indicator, Easy to Clean, Dishwasher Safe",
          "PETLIBRO Automatic Cat Feeder, Automatic Cat Food Dispenser with Freshness Preservation, Timed Cat Feeders for Dry Food, Up to 50 Portions 6 Meals Per Day, Granary Pet Feeder for Cats/Dogs",
          "PETLIBRO Automatic Cat Food Dispenser, Stainless Steel, Easy to Set Up and Program, Freshness Preservation, Up to 50 Portions per Meal, Infrared Detection",
          "PETLIBRO Automatic Cat Feeder, Automatic Cat Food Dispenser with Timer Interactive Voice Recorder, Auto Cat Feeder with 1-4 Meals Control Dry Food",
          "PETLIBRO Automatic Cat Feeder, Automatic Cat Food Dispenser with Timer Interactive Voice Recorder, Auto Cat Feeder with 1-4 Meals Control Dry Food",
          "PETLIBRO Automatic Cat Food Dispenser, Stainless Steel, Easy to Set Up and Program, Freshness Preservation, Up to 50 Portions per Meal, Infrared Detection",
          "PETLIBRO Automatic Cat Food Dispenser, Stainless Steel, 2L Capacity, 6 Meals/Day, No Overeating, Low Battery Indicator, Easy to Clean, Dishwasher Safe",
          "PETLIBRO Automatic Cat Food Dispenser, Stainless Steel, 2L Capacity, 6 Meals/Day, No Overeating, Low Battery Indicator, Easy to Clean, Dishwasher Safe",
          "PETLIBRO Automatic Cat Food Dispenser, Stainless Steel, Easy to Set Up and Program, Freshness Preservation, Up to 50 Portions per Meal, Infrared Detection",
          "PETLIBRO Automatic Dog Feeder, 6L Dog Food Dispenser with Timer Interactive Voice Recorder, Auto Dog Feeder with Desiccant Bag 1-4 Meals Dry Food",
          "PETLIBRO Automatic Dog Feeder, 6L Dog Food Dispenser with Timer Interactive Voice Recorder, Auto Dog Feeder with Desiccant Bag 1-4 Meals Dry Food"
         ],
         "legendgroup": "Petlibro",
         "marker": {
          "color": "#636efa",
          "size": [
           793,
           7626,
           8083,
           13128,
           962,
           996,
           10618,
           4401,
           6221,
           13179,
           4517,
           4572,
           14026,
           3047,
           13171,
           3969,
           10044,
           10795,
           6293,
           7317,
           6823,
           1968,
           2138,
           4422,
           13157,
           11382,
           14719,
           1716,
           15735,
           4218,
           10508,
           2134,
           8159,
           5679,
           12175,
           3824,
           9203,
           4130,
           4168,
           6062,
           4433,
           2863,
           6257,
           8215,
           700,
           6121,
           3997,
           6267,
           10210,
           42,
           10618,
           6114,
           6114,
           1865,
           4103,
           8241,
           2965,
           11382,
           4145,
           2134,
           11401,
           10589,
           4293,
           4179,
           1985,
           496,
           13179,
           2144,
           697,
           1284,
           10795,
           13739,
           2078,
           6116,
           1994,
           15030,
           10802,
           2853,
           4540,
           4445,
           1987,
           17121,
           2141
          ],
          "sizemode": "area",
          "sizeref": 367.6975,
          "symbol": "circle"
         },
         "mode": "markers",
         "name": "Petlibro",
         "orientation": "v",
         "showlegend": true,
         "type": "scatter",
         "x": [
          4.5,
          4.35,
          4.55,
          4.5,
          4.5,
          4.5,
          4.4,
          4.3,
          4.5,
          4.5,
          4.3,
          4.3,
          4.5,
          4.6,
          4.5,
          4.4,
          4.5,
          4.5,
          4.5,
          4.5,
          4.5,
          4.5,
          4.6,
          4.3,
          4.5,
          4.5,
          4.5,
          4.4,
          4.5,
          4.4,
          4.4,
          4.6,
          4.4,
          4.45,
          4.4,
          4.300000000000001,
          4.5,
          4.3,
          4.4,
          4.5,
          4.3,
          4.3,
          4.4,
          4.5,
          4.6,
          4.55,
          4.4,
          4.4,
          4.4,
          4.5,
          4.4,
          4.5,
          4.5,
          4.6,
          4.4,
          4.5,
          4.6,
          4.5,
          4.4,
          4.6,
          4.4,
          4.4,
          4.3,
          4.4,
          4.5,
          4.4,
          4.5,
          4.6,
          4.6,
          4.5,
          4.5,
          4.5,
          4.4,
          4.5,
          4.5,
          4.4,
          4.5,
          4.3,
          4.3,
          4.3,
          4.5,
          4.5,
          4.6
         ],
         "xaxis": "x",
         "y": [
          3065358.654499875,
          2317409.82059875,
          849817.54864025,
          327017.11410199996,
          291269.7352705,
          230822.2731265,
          224454.704424,
          199375.60260531324,
          187420.940917,
          183138.50100583333,
          175915.740917,
          162783.49649975,
          161713.4672715,
          155163.68083250002,
          154054.169296,
          125136.61545,
          124594.65087325,
          109174.0385635,
          94618.707818,
          83831.495361,
          82953.4397335,
          75896.689075,
          74296.45665200001,
          73498.65843599998,
          72107.5576355,
          68265.135282,
          60563.169635499995,
          59162.94013499999,
          54801.31916399999,
          53879.013993500004,
          49453.5801095,
          42689.7408055,
          42644.585285,
          42565.8217995,
          40987.6946295,
          37502.301863,
          37093.409972,
          35875.854192,
          34584.366743,
          31900.752598499996,
          30285.980688,
          30279.97042125,
          29791.7564085,
          28098.241976999998,
          28024.576527,
          25016.825215499997,
          23765.011176,
          23531.011511,
          20814.5667115,
          20604.174125999998,
          20602.707372,
          20281.460734499997,
          20026.553655,
          19809.807425,
          19173.667028999997,
          16573.152476,
          16190.052611,
          15603.224274,
          14045.521689499998,
          14017.001759,
          13883.027678,
          13637.475603999997,
          12453.429082499999,
          11917.853473499998,
          11683.4136225,
          11286.338759999999,
          10593.168412499997,
          10306.543488,
          9677.600064,
          9536.023143,
          9379.478882999998,
          8614.917909,
          7838.123360999999,
          7229.2586925,
          3744.095265,
          3391.122141,
          3290.4961829999997,
          2713.28159925,
          2544.731943,
          1066.801578,
          1019.5007894999999,
          808.8527579999999,
          137.146752
         ],
         "yaxis": "y"
        },
        {
         "hovertemplate": "<b>%{hovertext}</b><br><br>Brand=Neater Feeder<br>Product Rating=%{x}<br>Revenue ($)=%{y}<br>Number of Reviews=%{marker.size}<extra></extra>",
         "hovertext": [
          "Neater Feeder - Express Model w/Slow Feed Bowl - Mess-Proof Dog Bowls (M/L, Black) Made in USA – Elevated, No Spill, Non-Tip, Non-Slip, Raised Stainless Steel Food/Water Pet Bowls Aid Digestion",
          "Neater Feeder - Express Model w/Slow Feed Bowl - Mess-Proof Dog Bowls (M/L, Black) Made in USA – Elevated, No Spill, Non-Tip, Non-Slip, Raised Stainless Steel Food/Water Pet Bowls Aid Digestion"
         ],
         "legendgroup": "Neater Feeder",
         "marker": {
          "color": "#EF553B",
          "size": [
           29698,
           1998
          ],
          "sizemode": "area",
          "sizeref": 367.6975,
          "symbol": "circle"
         },
         "mode": "markers",
         "name": "Neater Feeder",
         "orientation": "v",
         "showlegend": true,
         "type": "scatter",
         "x": [
          4.6,
          4.6
         ],
         "xaxis": "x",
         "y": [
          2786209.549631495,
          303630.785733
         ],
         "yaxis": "y"
        },
        {
         "hovertemplate": "<b>%{hovertext}</b><br><br>Brand=Weruva<br>Product Rating=%{x}<br>Revenue ($)=%{y}<br>Number of Reviews=%{marker.size}<extra></extra>",
         "hovertext": [
          "Weruva Classic Cat Food, Variety Pack, Paw Lickin' Pals Wet Cat Food, 3oz Cans (Pack of 24)",
          "Weruva Classic Cat Food, Paw Lickin’ Chicken with Chicken Breast in Gravy, 10oz Can (Pack of 12)",
          "Weruva Cats in The Kitchen, Kitchen Cuties Variety Pack, Wet Cat Food, 10oz Cans (Pack of 12)",
          "Weruva Cats in The Kitchen, Kitchen Cuties Variety Pack, Wet Cat Food, 10oz Cans (Pack of 12)",
          "Weruva Cats in The Kitchen, Kitchen Cuties Variety Pack, Wet Cat Food, 10oz Cans (Pack of 12)",
          "Weruva Cats in The Kitchen, Kitchen Cuties Variety Pack, Wet Cat Food, 10oz Cans (Pack of 12)",
          "Weruva Cats in The Kitchen, Kitchen Cuties Variety Pack, Wet Cat Food, 6oz Cans (Pack of 24)",
          "Weruva Cats in The Kitchen, Kitchen Cuties Variety Pack, Wet Cat Food, 10oz Cans (Pack of 12)",
          "Weruva Cats in The Kitchen, Kitchen Cuties Variety Pack, Wet Cat Food, 6oz Cans (Pack of 24)",
          "Weruva Classic Cat Food, Wowzer Meowzer Variety Pack, 10oz Cans (Pack of 12)",
          "Weruva Cats in The Kitchen, Kitchen Cuties Variety Pack, Wet Cat Food, 10oz Cans (Pack of 12)",
          "Weruva Classic Cat Food, Wowzer Meowzer Variety Pack, 10oz Cans (Pack of 12)",
          "Weruva Classic Cat Food, Wowzer Meowzer Variety Pack, 10oz Cans (Pack of 12)"
         ],
         "legendgroup": "Weruva",
         "marker": {
          "color": "#00cc96",
          "size": [
           5308,
           7166,
           22109,
           4352,
           15288,
           4640,
           2414,
           6426,
           317,
           2308,
           4410,
           96,
           1862
          ],
          "sizemode": "area",
          "sizeref": 367.6975,
          "symbol": "circle"
         },
         "mode": "markers",
         "name": "Weruva",
         "orientation": "v",
         "showlegend": true,
         "type": "scatter",
         "x": [
          4.35,
          4.3,
          4.2,
          4.3,
          4.2,
          4.3,
          4.2,
          4.3,
          4.4,
          4.3,
          4.3,
          4.3,
          4.3
         ],
         "xaxis": "x",
         "y": [
          2702182.840385375,
          1963684.3179595245,
          1756494.1299425,
          1554031.7149795,
          1455520.3199470001,
          479214.92361,
          329512.90524623165,
          120549.8298095,
          92633.93639,
          86895.974151,
          76929.785114,
          73445.08806,
          3242.796336
         ],
         "yaxis": "y"
        },
        {
         "hovertemplate": "<b>%{hovertext}</b><br><br>Brand=Stella & Chewy'S<br>Product Rating=%{x}<br>Revenue ($)=%{y}<br>Number of Reviews=%{marker.size}<extra></extra>",
         "hovertext": [
          "Stella & Chewy's Freeze-Dried Raw Cat Dinner Morsels – Grain Free, Protein Rich Cat & Kitten Food – Yummy Lickin’ Salmon & Chicken Recipe – 18 oz Bag",
          "Stella & Chewy's Freeze-Dried Raw Duck Duck Goose Dinner Morsels Cat Food, 18 oz. Bag (CAT-FDD-18)",
          "Stella & Chewy's Freeze-Dried Raw Cat Dinner Morsels – Grain Free, Protein Rich Cat & Kitten Food – Yummy Lickin’ Salmon & Chicken Recipe – 18 oz Bag",
          "Stella & Chewy's Freeze-Dried Raw Duck Duck Goose Dinner Morsels Cat Food, 18 oz. Bag (CAT-FDD-18)",
          "Stella & Chewy's Freeze-Dried Raw Cat Dinner Morsels – Grain Free, Protein Rich Cat & Kitten Food – Yummy Lickin’ Salmon & Chicken Recipe – 18 oz Bag"
         ],
         "legendgroup": "Stella & Chewy'S",
         "marker": {
          "color": "#ab63fa",
          "size": [
           6047,
           6047,
           2470,
           5937,
           513
          ],
          "sizemode": "area",
          "sizeref": 367.6975,
          "symbol": "circle"
         },
         "mode": "markers",
         "name": "Stella & Chewy'S",
         "orientation": "v",
         "showlegend": true,
         "type": "scatter",
         "x": [
          4.3,
          4.3,
          4.1,
          4.4,
          4.4
         ],
         "xaxis": "x",
         "y": [
          2558194.03866925,
          278210.1359895,
          82106.7224425,
          31029.768007000002,
          10706.214086
         ],
         "yaxis": "y"
        },
        {
         "hovertemplate": "<b>%{hovertext}</b><br><br>Brand=Iris Usa<br>Product Rating=%{x}<br>Revenue ($)=%{y}<br>Number of Reviews=%{marker.size}<extra></extra>",
         "hovertext": [
          "IRIS USA 35Lbs./47Qt. WeatherPro Airtight Pet Food Storage Container with Attachable Casters, For Dog Cat Bird and Other Pet Food Storage Bin, Keep Fresh, Translucent Body, Easy Mobility, Black"
         ],
         "legendgroup": "Iris Usa",
         "marker": {
          "color": "#FFA15A",
          "size": [
           56120
          ],
          "sizemode": "area",
          "sizeref": 367.6975,
          "symbol": "circle"
         },
         "mode": "markers",
         "name": "Iris Usa",
         "orientation": "v",
         "showlegend": true,
         "type": "scatter",
         "x": [
          4.6
         ],
         "xaxis": "x",
         "y": [
          2491597.13920475
         ],
         "yaxis": "y"
        },
        {
         "hovertemplate": "<b>%{hovertext}</b><br><br>Brand=Merrick<br>Product Rating=%{x}<br>Revenue ($)=%{y}<br>Number of Reviews=%{marker.size}<extra></extra>",
         "hovertext": [
          "Merrick Purrfect Bistro",
          "Merrick Purrfect Bistro Grain Free Wet Cat Food Variety Pack Seafood Recipes - (24) 5.5 oz. Cans",
          "Merrick Purrfect Bistro Grain Free Wet Cat Food Variety Pack Seafood Recipes - (24) 5.5 oz. Cans",
          "Merrick Purrfect Bistro Grain Free Wet Cat Food Variety Pack Seafood Recipes - (24) 5.5 oz. Cans",
          "Merrick Purrfect Bistro Grain Free Wet Cat Food Variety Pack Seafood Recipes - (24) 5.5 oz. Cans"
         ],
         "legendgroup": "Merrick",
         "marker": {
          "color": "#19d3f3",
          "size": [
           2567,
           3913,
           2961,
           3913,
           3022
          ],
          "sizemode": "area",
          "sizeref": 367.6975,
          "symbol": "circle"
         },
         "mode": "markers",
         "name": "Merrick",
         "orientation": "v",
         "showlegend": true,
         "type": "scatter",
         "x": [
          4.2,
          4.4,
          4.3,
          4.4,
          4.3
         ],
         "xaxis": "x",
         "y": [
          2349548.5922012823,
          296318.5297895,
          37948.479438083334,
          31900.350138499995,
          10913.8872
         ],
         "yaxis": "y"
        },
        {
         "hovertemplate": "<b>%{hovertext}</b><br><br>Brand=Reveal Limited Ingredients Approved By Cats<br>Product Rating=%{x}<br>Revenue ($)=%{y}<br>Number of Reviews=%{marker.size}<extra></extra>",
         "hovertext": [
          "Reveal Natural Wet Cat Food, 24 Count, Grain Free, Limited Ingredient Canned Food for Cats, Tuna Fillet in Broth, 2.47 oz Cans",
          "Reveal Natural Wet Cat Food, 24 Count, Grain Free, Limited Ingredient Canned Food for Cats, Tuna Fillet in Broth, 2.47 oz Cans",
          "Reveal Natural Wet Cat Food, 24 Count, Grain Free, Limited Ingredient Canned Food for Cats, Tuna Fillet in Broth, 2.47 oz Cans",
          "Reveal Natural Wet Cat Food, 24 Pack, Limited Ingredient Canned Wet Cat Food, Grain Free Food for Cats, Tuna with Salmon in Gravy, 2.47oz Cans",
          "Reveal Natural Wet Cat Food, 24 Count, Grain Free, Limited Ingredient Canned Food for Cats, Tuna Fillet in Broth, 2.47 oz Cans"
         ],
         "legendgroup": "Reveal Limited Ingredients Approved By Cats",
         "marker": {
          "color": "#FF6692",
          "size": [
           2096,
           5868,
           4052,
           115,
           1726
          ],
          "sizemode": "area",
          "sizeref": 367.6975,
          "symbol": "circle"
         },
         "mode": "markers",
         "name": "Reveal Limited Ingredients Approved By Cats",
         "orientation": "v",
         "showlegend": true,
         "type": "scatter",
         "x": [
          4.5,
          4.5,
          4.5,
          4.1,
          4.6
         ],
         "xaxis": "x",
         "y": [
          1592512.2390073494,
          1392064.0054678333,
          378609.694981,
          84346.35460200909,
          4476.835306666666
         ],
         "yaxis": "y"
        },
        {
         "hovertemplate": "<b>%{hovertext}</b><br><br>Brand=Gorilla Grip<br>Product Rating=%{x}<br>Revenue ($)=%{y}<br>Number of Reviews=%{marker.size}<extra></extra>",
         "hovertext": [
          "Gorilla Grip 100% Waterproof Raised Edge BPA Free Silicone Pet Feeding Mat, Dog Cat Food Mats Contain Spills Protects Floors, Placemats for Cats and Dogs Water Bowl, Pets Accessories 28x18 Beige"
         ],
         "legendgroup": "Gorilla Grip",
         "marker": {
          "color": "#B6E880",
          "size": [
           25542
          ],
          "sizemode": "area",
          "sizeref": 367.6975,
          "symbol": "circle"
         },
         "mode": "markers",
         "name": "Gorilla Grip",
         "orientation": "v",
         "showlegend": true,
         "type": "scatter",
         "x": [
          4.6
         ],
         "xaxis": "x",
         "y": [
          1320955.6658079838
         ],
         "yaxis": "y"
        },
        {
         "hovertemplate": "<b>%{hovertext}</b><br><br>Brand=9lives<br>Product Rating=%{x}<br>Revenue ($)=%{y}<br>Number of Reviews=%{marker.size}<extra></extra>",
         "hovertext": [
          "9Lives Plus Care Dry Cat Food, 3.15 Pound Bag (Pack of 4)"
         ],
         "legendgroup": "9lives",
         "marker": {
          "color": "#FF97FF",
          "size": [
           10334
          ],
          "sizemode": "area",
          "sizeref": 367.6975,
          "symbol": "circle"
         },
         "mode": "markers",
         "name": "9lives",
         "orientation": "v",
         "showlegend": true,
         "type": "scatter",
         "x": [
          4.6
         ],
         "xaxis": "x",
         "y": [
          1163292.07346
         ],
         "yaxis": "y"
        },
        {
         "hovertemplate": "<b>%{hovertext}</b><br><br>Brand=Hill'S Prescription Diet<br>Product Rating=%{x}<br>Revenue ($)=%{y}<br>Number of Reviews=%{marker.size}<extra></extra>",
         "hovertext": [
          "Hill's Prescription Diet c/d Multicare Urinary Care with Chicken Dry Cat Food, Veterinary Diet, 8.5 lb. Bag",
          "Hill's Prescription Diet c/d Multicare Urinary Care with Ocean Fish Wet Cat Food, Veterinary Diet, 5.5 oz. Cans, 24-Pack",
          "Hill's Prescription Diet c/d Multicare Urinary Care with Ocean Fish Wet Cat Food, Veterinary Diet, 5.5 oz. Cans, 24-Pack",
          "Hill's Prescription Diet c/d Multicare Urinary Care with Ocean Fish Wet Cat Food, Veterinary Diet, 5.5 oz. Cans, 24-Pack",
          "Hill's Prescription Diet c/d Multicare Urinary Care with Chicken Dry Cat Food, Veterinary Diet, 8.5 lb. Bag",
          "Hill's Prescription Diet c/d Multicare Urinary Care with Chicken Dry Cat Food, Veterinary Diet, 8.5 lb. Bag",
          "Hill's Prescription Diet c/d Multicare Urinary Care with Chicken Dry Cat Food, Veterinary Diet, 8.5 lb. Bag",
          "Hill's Prescription Diet c/d Multicare Urinary Care with Chicken Dry Cat Food, Veterinary Diet, 8.5 lb. Bag",
          "Hill's Prescription Diet c/d Multicare Urinary Care Ocean Fish Flavor Dry Cat Food, Veterinary Diet, 17.6 lb. Bag",
          "Hill's Prescription Diet c/d Multicare Urinary Care with Ocean Fish Dry Cat Food, Veterinary Diet, 8.5 lb. Bag",
          "Hill's Prescription Diet c/d Multicare Urinary Care with Chicken Dry Cat Food, Veterinary Diet, 8.5 lb. Bag",
          "Hill's Prescription Diet c/d Multicare Urinary Care with Chicken Dry Cat Food, Veterinary Diet, 8.5 lb. Bag",
          "Hill's Prescription Diet c/d Multicare Urinary Care with Ocean Fish Wet Cat Food, Veterinary Diet, 5.5 oz. Cans, 24-Pack",
          "Hill's Prescription Diet c/d Multicare Urinary Care with Chicken Dry Cat Food, Veterinary Diet, 8.5 lb. Bag",
          "Hill's Prescription Diet c/d Multicare Urinary Care with Ocean Fish Dry Cat Food, Veterinary Diet, 8.5 lb. Bag",
          "Hill's Prescription Diet c/d Multicare Urinary Care with Ocean Fish Wet Cat Food, Veterinary Diet, 5.5 oz. Cans, 24-Pack",
          "Hill's Prescription Diet c/d Multicare Urinary Care with Chicken Dry Cat Food, Veterinary Diet, 8.5 lb. Bag",
          "Hill's Prescription Diet c/d Multicare Urinary Care with Ocean Fish Wet Cat Food, Veterinary Diet, 5.5 oz. Cans, 24-Pack",
          "Hill's Prescription Diet c/d Multicare Urinary Care with Ocean Fish Wet Cat Food, Veterinary Diet, 5.5 oz. Cans, 24-Pack",
          "Hill's Prescription Diet c/d Multicare Urinary Care with Chicken Dry Cat Food, Veterinary Diet, 8.5 lb. Bag",
          "Hill's Prescription Diet c/d Multicare Urinary Care with Ocean Fish Wet Cat Food, Veterinary Diet, 5.5 oz. Cans, 24-Pack"
         ],
         "legendgroup": "Hill'S Prescription Diet",
         "marker": {
          "color": "#FECB52",
          "size": [
           2954,
           218,
           1483,
           433,
           978,
           2239,
           2644,
           978,
           79,
           393,
           2451,
           2326,
           1444,
           2412,
           606,
           217,
           2768,
           436,
           2401,
           1625,
           3038
          ],
          "sizemode": "area",
          "sizeref": 367.6975,
          "symbol": "circle"
         },
         "mode": "markers",
         "name": "Hill'S Prescription Diet",
         "orientation": "v",
         "showlegend": true,
         "type": "scatter",
         "x": [
          4.8,
          4.5,
          4.6,
          4.6,
          4.8,
          4.8,
          4.8,
          4.8,
          4.6,
          4.8,
          4.8,
          4.8,
          4.6,
          4.8,
          4.8,
          4.5,
          4.7,
          4.6,
          4.8,
          4.8,
          4.8
         ],
         "xaxis": "x",
         "y": [
          908292.0182401935,
          754092.5419172316,
          541356.1893405964,
          447076.128271,
          389104.89115000004,
          256082.377207,
          245742.043833,
          239920.429889,
          204998.34718170515,
          170098.10105,
          165678.36762875,
          149211.0690525,
          126476.1934215,
          99720.7729535,
          93487.382816,
          83839.18771099999,
          61390.166697500004,
          53334.5046525,
          39307.991481,
          30440.069344,
          3740.8553075
         ],
         "yaxis": "y"
        },
        {
         "hovertemplate": "<b>%{hovertext}</b><br><br>Brand=Iris<br>Product Rating=%{x}<br>Revenue ($)=%{y}<br>Number of Reviews=%{marker.size}<extra></extra>",
         "hovertext": [
          "IRIS USA 3-Piece 35 Lbs / 45 Qt WeatherPro Airtight Pet Food Storage Container Combo with Scoop and Treat Box for Dog Cat and Bird Food, Keep Pests Out, Translucent Body, Easy Mobility, Dark Gray",
          "IRIS USA 50 Lbs / 65 Qt WeatherPro Airtight Pet Food Storage Container with Removable Casters, For Dog Cat Bird Keep Pests Out Translucent Body Easy Mobility, Clear/Gray",
          "IRIS USA 3-Piece 35 Lbs / 45 Qt WeatherPro Airtight Pet Food Storage Container Combo with Scoop and Treat Box for Dog Cat and Bird Food, Keep Pests Out, Translucent Body, Easy Mobility, Dark Gray",
          "IRIS USA 50 Lbs / 65 Qt WeatherPro Airtight Pet Food Storage Container with Removable Casters, For Dog Cat Bird Keep Pests Out Translucent Body Easy Mobility, Clear/Gray",
          "IRIS USA 33qt + 12qt Airtight Pet Food Container Combo with Scoop, Sea Foam Blue"
         ],
         "legendgroup": "Iris",
         "marker": {
          "color": "#636efa",
          "size": [
           57450,
           43543,
           55993,
           1938,
           55994
          ],
          "sizemode": "area",
          "sizeref": 367.6975,
          "symbol": "circle"
         },
         "mode": "markers",
         "name": "Iris",
         "orientation": "v",
         "showlegend": true,
         "type": "scatter",
         "x": [
          4.6,
          4.6,
          4.6,
          4.5,
          4.6
         ],
         "xaxis": "x",
         "y": [
          773138.5096860001,
          579738.1706625,
          7047.943902,
          1411.499008,
          1080.122796
         ],
         "yaxis": "y"
        },
        {
         "hovertemplate": "<b>%{hovertext}</b><br><br>Brand=Petsafe<br>Product Rating=%{x}<br>Revenue ($)=%{y}<br>Number of Reviews=%{marker.size}<extra></extra>",
         "hovertext": [
          "PetSafe Healthy Pet Water Station- Large, 320 oz Capacity- Gravity Cat & Dog Waterer- Removable Stainless Steel Bowl Resists Corrosion & Stands Up to Frequent Use- Easy to Fill- Filter Compatible",
          "PetSafe Healthy Pet Water Station- Large, 320 oz Capacity- Gravity Cat & Dog Waterer- Removable Stainless Steel Bowl Resists Corrosion & Stands Up to Frequent Use- Easy to Fill- Filter Compatible",
          "PetSafe Healthy Pet Water Station- Large, 320 oz Capacity- Gravity Cat & Dog Waterer- Removable Stainless Steel Bowl Resists Corrosion & Stands Up to Frequent Use- Easy to Fill- Filter Compatible",
          "PetSafe Healthy Pet Water Station- Large, 320 oz Capacity- Gravity Cat & Dog Waterer- Removable Stainless Steel Bowl Resists Corrosion & Stands Up to Frequent Use- Easy to Fill- Filter Compatible",
          "PetSafe Healthy Pet Water Station- Large, 320 oz Capacity- Gravity Cat & Dog Waterer- Removable Stainless Steel Bowl Resists Corrosion & Stands Up to Frequent Use- Easy to Fill- Filter Compatible"
         ],
         "legendgroup": "Petsafe",
         "marker": {
          "color": "#EF553B",
          "size": [
           28702,
           17416,
           38528,
           28064,
           38390
          ],
          "sizemode": "area",
          "sizeref": 367.6975,
          "symbol": "circle"
         },
         "mode": "markers",
         "name": "Petsafe",
         "orientation": "v",
         "showlegend": true,
         "type": "scatter",
         "x": [
          4.4,
          4.35,
          4.4,
          4.4,
          4.4
         ],
         "xaxis": "x",
         "y": [
          505612.5077338091,
          426877.49074112496,
          93317.355955,
          57088.032905,
          35682.49929
         ],
         "yaxis": "y"
        },
        {
         "hovertemplate": "<b>%{hovertext}</b><br><br>Brand=Hill'S Pet Nutrition<br>Product Rating=%{x}<br>Revenue ($)=%{y}<br>Number of Reviews=%{marker.size}<extra></extra>",
         "hovertext": [
          "Hill's Science Diet Dry Cat Food, Adult, Sensitive Stomach & Skin, Chicken & Rice Recipe, 7 lb Bag",
          "Hill's Science Diet Dry Cat Food, Adult, Sensitive Stomach & Skin, Chicken & Rice Recipe, 7 lb Bag",
          "Hill's Science Diet Dry Cat Food, Adult, Sensitive Stomach & Skin, Chicken & Rice Recipe, 3.5 lb. Bag",
          "Hill's Science Diet Dry Cat Food, Adult, Sensitive Stomach & Skin",
          "Hill's Science Diet Dry Cat Food, Adult, Sensitive Stomach & Skin, Chicken & Rice Recipe, 7 lb Bag",
          "Hill's Science Diet Dry Cat Food, Adult, Sensitive Stomach & Skin, Chicken & Rice Recipe, 3.5 lb. Bag",
          "Hill's Pet Nutrition Science Diet, Grain Free Dry Cat Food, Adult, Sensitive Stomach & Skin, Salmon & Yellow Pea Recipe, 13 lb. Bag"
         ],
         "legendgroup": "Hill'S Pet Nutrition",
         "marker": {
          "color": "#00cc96",
          "size": [
           12998,
           13170,
           11871,
           12860,
           11320,
           11341,
           1168
          ],
          "sizemode": "area",
          "sizeref": 367.6975,
          "symbol": "circle"
         },
         "mode": "markers",
         "name": "Hill'S Pet Nutrition",
         "orientation": "v",
         "showlegend": true,
         "type": "scatter",
         "x": [
          4.7,
          4.7,
          4.7,
          4.7,
          4.7,
          4.7,
          4.7
         ],
         "xaxis": "x",
         "y": [
          479683.25383025,
          279913.98857850005,
          167778.61637653847,
          135830.64497516345,
          133768.30596025,
          128524.74289307692,
          32515.7008425
         ],
         "yaxis": "y"
        },
        {
         "hovertemplate": "<b>%{hovertext}</b><br><br>Brand=Purina Beyond<br>Product Rating=%{x}<br>Revenue ($)=%{y}<br>Number of Reviews=%{marker.size}<extra></extra>",
         "hovertext": [
          "PURINA Beyond Chicken, Beef and Carrot and Turkey, Sweet Potato and Spinach in Wet Cat Food Gravy 12 Ct Variety Pack - (12) 3 oz. Cans",
          "PURINA Beyond Chicken, Beef and Carrot and Turkey, Sweet Potato and Spinach in Wet Cat Food Gravy 12 Ct Variety Pack - (12) 3 oz. Cans",
          "PURINA Beyond Chicken, Beef and Carrot and Turkey, Sweet Potato and Spinach in Wet Cat Food Gravy 12 Ct Variety Pack - (12) 3 oz. Cans",
          "PURINA Beyond Chicken, Beef and Carrot and Turkey, Sweet Potato and Spinach in Wet Cat Food Gravy 12 Ct Variety Pack - (12) 3 oz. Cans"
         ],
         "legendgroup": "Purina Beyond",
         "marker": {
          "color": "#ab63fa",
          "size": [
           306,
           14308,
           3614,
           68
          ],
          "sizemode": "area",
          "sizeref": 367.6975,
          "symbol": "circle"
         },
         "mode": "markers",
         "name": "Purina Beyond",
         "orientation": "v",
         "showlegend": true,
         "type": "scatter",
         "x": [
          4.2,
          4.5,
          4.2,
          4.3
         ],
         "xaxis": "x",
         "y": [
          217969.23724432528,
          177328.38666000002,
          141505.05602674012,
          30107.183176408074
         ],
         "yaxis": "y"
        },
        {
         "hovertemplate": "<b>%{hovertext}</b><br><br>Brand=Squishmallow<br>Product Rating=%{x}<br>Revenue ($)=%{y}<br>Number of Reviews=%{marker.size}<extra></extra>",
         "hovertext": [
          "Squishmallows Oficial Kellytoy Food Squad Plush Toys Soft Plush Animal (8 Inch, Hayes The Cheeseburger Cat)"
         ],
         "legendgroup": "Squishmallow",
         "marker": {
          "color": "#FFA15A",
          "size": [
           1730
          ],
          "sizemode": "area",
          "sizeref": 367.6975,
          "symbol": "circle"
         },
         "mode": "markers",
         "name": "Squishmallow",
         "orientation": "v",
         "showlegend": true,
         "type": "scatter",
         "x": [
          4.7
         ],
         "xaxis": "x",
         "y": [
          123568.42856375
         ],
         "yaxis": "y"
        },
        {
         "mode": "lines",
         "name": "Trend Line",
         "type": "scatter",
         "x": [
          4.7,
          4.7,
          4.7,
          4.6,
          4.6,
          4.8,
          4.65,
          4.4,
          4.7,
          4.6,
          4.6,
          4.8,
          4.6,
          4.7,
          4.6,
          4.7,
          4.6,
          4.6,
          4.7,
          4.4,
          4.6,
          4.8,
          4.7,
          4.7,
          4.7,
          4.7,
          4.6,
          4.6,
          4.6,
          4.8,
          4.7,
          4.7,
          4.7,
          4.5,
          4.8,
          4.6,
          4.6,
          4.7,
          4.7,
          4.2,
          4.5,
          4.7,
          4.7,
          4.8,
          4.5,
          4.9,
          4.7,
          4.7,
          4.5,
          4.6,
          4.3,
          4.7,
          4.6,
          4.35,
          4.8,
          4.5,
          4.3,
          4.6,
          4.7,
          4.5,
          4.3,
          4.7,
          4.7,
          4.6,
          4.7,
          4.6,
          4.5,
          4.2,
          4.35,
          4.7,
          4.6,
          4.5,
          4.7,
          4.5,
          4.3,
          4.7,
          4.6,
          4.3,
          4.6,
          4.2,
          4.8,
          4.6,
          4.6,
          4.7,
          4.5,
          4.6,
          4.3,
          4.7,
          4.8,
          4.7,
          4.2,
          4.7,
          4.5,
          4.3,
          4.6,
          4.6,
          4.6,
          4.6,
          4.6,
          4.3,
          4.6,
          4.6,
          4.5,
          4.7,
          4.5,
          4.7,
          4.7,
          4.7,
          4.7,
          4.7,
          4.3,
          4.7,
          4.7,
          4.3,
          4.7,
          4.5,
          4.5,
          4.7,
          4.8,
          4.8,
          4.3,
          4.7,
          4.1,
          4.55,
          4.6,
          4.6,
          4.7,
          4.7,
          4.6,
          4.7,
          4.6,
          4.7,
          4.7,
          4.5,
          4.7,
          4.6,
          4.7,
          4.6,
          4.5,
          4.65,
          4.5,
          4.7,
          4.7,
          4.7,
          4.5,
          4.6,
          4.6,
          4.6,
          4.6,
          4.7,
          4.7,
          4.6,
          4.7,
          4.6,
          4.4,
          4.7,
          4.6,
          4.7,
          4.3,
          4.6,
          4.7,
          4.7,
          4.35,
          4.6,
          4.7,
          4.5,
          4.8,
          4.4,
          4.5,
          4.7,
          4.7,
          4.5,
          4.8,
          4.7,
          4.7,
          4.7,
          4.7,
          4.2,
          4.5,
          4.7,
          4.5,
          4.7,
          4.2,
          4.6,
          4.5,
          4.6,
          4.4,
          4.7,
          4.5,
          4.6,
          4.7,
          4.3,
          4.7,
          4.5,
          4.5,
          4.7,
          4.3,
          4.8,
          4.7,
          4.7,
          4.5,
          4.8,
          4.4,
          4.6,
          4.8,
          4.6,
          4.5,
          4.6,
          4.7,
          4.7,
          4.7,
          4.6,
          4.6,
          4.4,
          4.7,
          4.2,
          4.7,
          4.7,
          4.6,
          4.7,
          4.6,
          4.6,
          4.3,
          4.6,
          4.7,
          4.5,
          4.5,
          4.5,
          4.7,
          4.8,
          4.5,
          4.3,
          4.6,
          4.6,
          4.6,
          4.8,
          4.7,
          4.8,
          4.3,
          4.5,
          4.7,
          4.6,
          4.5,
          4.8,
          4.6,
          4.4,
          4.7,
          4.6,
          4.2,
          4.7,
          4.7,
          4.7,
          4.7,
          4.7,
          4.6,
          4.7,
          4.6,
          4.7,
          4.7,
          4.7,
          4.7,
          4.6,
          4.6,
          4.7,
          4.6,
          4.4,
          4.3,
          4.5,
          4.7,
          4.8,
          4.7,
          4.6,
          4.3,
          4.7,
          4.7,
          4.6,
          4.7,
          4.7,
          4.5,
          4.7,
          4.5,
          4.7,
          4.6,
          4.6,
          4.6,
          4.8,
          4.8,
          4.6,
          4.5,
          4.5,
          4.8,
          4.8,
          4.4,
          4.6,
          4.4,
          4.3,
          4.5,
          4.699999999999999,
          4.7,
          4.1,
          4.4,
          4.5,
          4.5,
          4.5,
          4.3,
          4.1,
          4.7,
          4.4,
          4.5,
          4.7,
          4.3,
          4.6,
          4.3,
          4.7,
          5,
          4.5,
          4.7,
          4.6,
          4.7,
          4.7,
          4.3,
          4.3,
          4.5,
          4.6,
          4.7,
          4.6,
          4.5,
          4.7,
          4.7,
          4.8,
          4.7,
          4.7,
          4.6,
          4.5,
          4.6,
          4.4,
          4.8,
          4.7,
          4.2,
          4.4,
          4.6,
          4.7,
          4.8,
          4.7,
          4.5,
          4.8,
          4.6,
          4.4,
          4.7,
          4.6,
          4.3,
          4.7,
          4.6,
          4.4,
          4.6,
          4.8,
          4.8,
          4.7,
          4.7,
          4.7,
          4.6,
          4.4,
          4.45,
          4.4,
          4.6,
          4.5,
          4.7,
          4.8,
          4.6,
          4.3,
          4.300000000000001,
          4.6,
          4.5,
          4.3,
          4.4,
          4.4,
          4.7,
          4.7,
          4.6,
          4.7,
          4.5,
          4.4,
          4.6,
          4.6,
          4.4,
          4.6,
          4.8,
          4.3,
          4.3,
          4.3,
          4.4,
          4.6,
          4.5,
          4.5,
          4.6,
          4.6,
          4.6,
          4.5,
          4.6,
          4.6,
          4.6,
          4.7,
          4.5,
          4.6,
          4.55,
          4.6,
          4.4,
          4.4,
          4.7,
          4.6,
          4.6,
          4.3,
          4.7,
          4.5,
          4.4,
          4.5,
          4.4,
          4.8,
          4.5,
          4.8,
          4.5,
          4.6,
          4.4,
          4.7,
          4.6,
          4.7,
          4.7,
          4.3,
          4.4,
          4.6,
          4.5,
          4.6,
          4.6,
          4.7,
          4.5,
          4.7,
          4.8,
          4.6,
          4.7,
          4.6,
          4.75,
          4.7,
          4.5,
          4.6,
          4.6,
          4.5,
          4.4,
          4.6,
          4.4,
          4.8,
          4.4,
          4.6,
          4.6,
          4.6,
          4.3,
          4.3,
          4.4,
          4.5,
          4.7,
          4.7,
          4.4,
          4.3,
          4.4,
          4.5,
          4.6,
          4.5,
          4.6,
          4.5,
          4.7,
          4.5,
          4.5,
          4.4,
          4.7,
          4.5,
          4.4,
          4.8,
          4.3,
          4.7,
          4.5,
          4.6,
          4.6,
          4.5,
          4.5,
          4.5,
          4.7,
          4.7,
          4.6,
          4.6,
          4.6,
          4.6,
          4.5,
          4.8,
          4.6,
          4.4,
          4.6,
          4.5,
          4.3,
          4.6,
          4.4,
          4.6,
          4.3,
          4.7,
          4.7,
          4.3,
          4.7,
          4.6,
          4.7,
          4.6,
          4.5,
          4.6,
          4.3,
          4.5,
          4.3,
          4.5,
          4.6,
          4.5,
          4.6,
          4.7,
          4.3,
          4.5,
          4.6,
          4.6,
          4.6,
          4.5
         ],
         "y": [
          169599.47671119016,
          169599.47671119016,
          169599.47671119016,
          136385.72000508884,
          136385.72000508884,
          210901.71683396355,
          152088.61477356564,
          88197.78663039794,
          169599.47671119016,
          136385.72000508884,
          136385.72000508884,
          210901.71683396355,
          136385.72000508884,
          169599.47671119016,
          136385.72000508884,
          169599.47671119016,
          136385.72000508884,
          136385.72000508884,
          169599.47671119016,
          88197.78663039794,
          136385.72000508884,
          210901.71683396355,
          169599.47671119016,
          169599.47671119016,
          169599.47671119016,
          169599.47671119016,
          136385.72000508884,
          136385.72000508884,
          136385.72000508884,
          210901.71683396355,
          169599.47671119016,
          169599.47671119016,
          169599.47671119016,
          109676.42696788596,
          210901.71683396355,
          136385.72000508884,
          136385.72000508884,
          169599.47671119016,
          169599.47671119016,
          57035.66008384843,
          109676.42696788596,
          169599.47671119016,
          169599.47671119016,
          210901.71683396355,
          109676.42696788596,
          262262.2134575175,
          169599.47671119016,
          169599.47671119016,
          109676.42696788596,
          136385.72000508884,
          70925.44662107635,
          169599.47671119016,
          136385.72000508884,
          79091.51286801486,
          210901.71683396355,
          109676.42696788596,
          70925.44662107635,
          136385.72000508884,
          169599.47671119016,
          109676.42696788596,
          70925.44662107635,
          169599.47671119016,
          169599.47671119016,
          136385.72000508884,
          169599.47671119016,
          136385.72000508884,
          109676.42696788596,
          57035.66008384843,
          79091.51286801486,
          169599.47671119016,
          136385.72000508884,
          109676.42696788596,
          169599.47671119016,
          109676.42696788596,
          70925.44662107635,
          169599.47671119016,
          136385.72000508884,
          70925.44662107635,
          136385.72000508884,
          57035.66008384843,
          210901.71683396355,
          136385.72000508884,
          136385.72000508884,
          169599.47671119016,
          109676.42696788596,
          136385.72000508884,
          70925.44662107635,
          169599.47671119016,
          210901.71683396355,
          169599.47671119016,
          57035.66008384843,
          169599.47671119016,
          109676.42696788596,
          70925.44662107635,
          136385.72000508884,
          136385.72000508884,
          136385.72000508884,
          136385.72000508884,
          136385.72000508884,
          70925.44662107635,
          136385.72000508884,
          136385.72000508884,
          109676.42696788596,
          169599.47671119016,
          109676.42696788596,
          169599.47671119016,
          169599.47671119016,
          169599.47671119016,
          169599.47671119016,
          169599.47671119016,
          70925.44662107635,
          169599.47671119016,
          169599.47671119016,
          70925.44662107635,
          169599.47671119016,
          109676.42696788596,
          109676.42696788596,
          169599.47671119016,
          210901.71683396355,
          210901.71683396355,
          70925.44662107635,
          169599.47671119016,
          45865.99980934921,
          122304.12282339725,
          136385.72000508884,
          136385.72000508884,
          169599.47671119016,
          169599.47671119016,
          136385.72000508884,
          169599.47671119016,
          136385.72000508884,
          169599.47671119016,
          169599.47671119016,
          109676.42696788596,
          169599.47671119016,
          136385.72000508884,
          169599.47671119016,
          136385.72000508884,
          109676.42696788596,
          152088.61477356564,
          109676.42696788596,
          169599.47671119016,
          169599.47671119016,
          169599.47671119016,
          109676.42696788596,
          136385.72000508884,
          136385.72000508884,
          136385.72000508884,
          136385.72000508884,
          169599.47671119016,
          169599.47671119016,
          136385.72000508884,
          169599.47671119016,
          136385.72000508884,
          88197.78663039794,
          169599.47671119016,
          136385.72000508884,
          169599.47671119016,
          70925.44662107635,
          136385.72000508884,
          169599.47671119016,
          169599.47671119016,
          79091.51286801486,
          136385.72000508884,
          169599.47671119016,
          109676.42696788596,
          210901.71683396355,
          88197.78663039794,
          109676.42696788596,
          169599.47671119016,
          169599.47671119016,
          109676.42696788596,
          210901.71683396355,
          169599.47671119016,
          169599.47671119016,
          169599.47671119016,
          169599.47671119016,
          57035.66008384843,
          109676.42696788596,
          169599.47671119016,
          109676.42696788596,
          169599.47671119016,
          57035.66008384843,
          136385.72000508884,
          109676.42696788596,
          136385.72000508884,
          88197.78663039794,
          169599.47671119016,
          109676.42696788596,
          136385.72000508884,
          169599.47671119016,
          70925.44662107635,
          169599.47671119016,
          109676.42696788596,
          109676.42696788596,
          169599.47671119016,
          70925.44662107635,
          210901.71683396355,
          169599.47671119016,
          169599.47671119016,
          109676.42696788596,
          210901.71683396355,
          88197.78663039794,
          136385.72000508884,
          210901.71683396355,
          136385.72000508884,
          109676.42696788596,
          136385.72000508884,
          169599.47671119016,
          169599.47671119016,
          169599.47671119016,
          136385.72000508884,
          136385.72000508884,
          88197.78663039794,
          169599.47671119016,
          57035.66008384843,
          169599.47671119016,
          169599.47671119016,
          136385.72000508884,
          169599.47671119016,
          136385.72000508884,
          136385.72000508884,
          70925.44662107635,
          136385.72000508884,
          169599.47671119016,
          109676.42696788596,
          109676.42696788596,
          109676.42696788596,
          169599.47671119016,
          210901.71683396355,
          109676.42696788596,
          70925.44662107635,
          136385.72000508884,
          136385.72000508884,
          136385.72000508884,
          210901.71683396355,
          169599.47671119016,
          210901.71683396355,
          70925.44662107635,
          109676.42696788596,
          169599.47671119016,
          136385.72000508884,
          109676.42696788596,
          210901.71683396355,
          136385.72000508884,
          88197.78663039794,
          169599.47671119016,
          136385.72000508884,
          57035.66008384843,
          169599.47671119016,
          169599.47671119016,
          169599.47671119016,
          169599.47671119016,
          169599.47671119016,
          136385.72000508884,
          169599.47671119016,
          136385.72000508884,
          169599.47671119016,
          169599.47671119016,
          169599.47671119016,
          169599.47671119016,
          136385.72000508884,
          136385.72000508884,
          169599.47671119016,
          136385.72000508884,
          88197.78663039794,
          70925.44662107635,
          109676.42696788596,
          169599.47671119016,
          210901.71683396355,
          169599.47671119016,
          136385.72000508884,
          70925.44662107635,
          169599.47671119016,
          169599.47671119016,
          136385.72000508884,
          169599.47671119016,
          169599.47671119016,
          109676.42696788596,
          169599.47671119016,
          109676.42696788596,
          169599.47671119016,
          136385.72000508884,
          136385.72000508884,
          136385.72000508884,
          210901.71683396355,
          210901.71683396355,
          136385.72000508884,
          109676.42696788596,
          109676.42696788596,
          210901.71683396355,
          210901.71683396355,
          88197.78663039794,
          136385.72000508884,
          88197.78663039794,
          70925.44662107635,
          109676.42696788596,
          169599.47671118987,
          169599.47671119016,
          45865.99980934921,
          88197.78663039794,
          109676.42696788596,
          109676.42696788596,
          109676.42696788596,
          70925.44662107635,
          45865.99980934921,
          169599.47671119016,
          88197.78663039794,
          109676.42696788596,
          169599.47671119016,
          70925.44662107635,
          136385.72000508884,
          70925.44662107635,
          169599.47671119016,
          326130.43478344945,
          109676.42696788596,
          169599.47671119016,
          136385.72000508884,
          169599.47671119016,
          169599.47671119016,
          70925.44662107635,
          70925.44662107635,
          109676.42696788596,
          136385.72000508884,
          169599.47671119016,
          136385.72000508884,
          109676.42696788596,
          169599.47671119016,
          169599.47671119016,
          210901.71683396355,
          169599.47671119016,
          169599.47671119016,
          136385.72000508884,
          109676.42696788596,
          136385.72000508884,
          88197.78663039794,
          210901.71683396355,
          169599.47671119016,
          57035.66008384843,
          88197.78663039794,
          136385.72000508884,
          169599.47671119016,
          210901.71683396355,
          169599.47671119016,
          109676.42696788596,
          210901.71683396355,
          136385.72000508884,
          88197.78663039794,
          169599.47671119016,
          136385.72000508884,
          70925.44662107635,
          169599.47671119016,
          136385.72000508884,
          88197.78663039794,
          136385.72000508884,
          210901.71683396355,
          210901.71683396355,
          169599.47671119016,
          169599.47671119016,
          169599.47671119016,
          136385.72000508884,
          88197.78663039794,
          98352.51956151408,
          88197.78663039794,
          136385.72000508884,
          109676.42696788596,
          169599.47671119016,
          210901.71683396355,
          136385.72000508884,
          70925.44662107635,
          70925.44662107661,
          136385.72000508884,
          109676.42696788596,
          70925.44662107635,
          88197.78663039794,
          88197.78663039794,
          169599.47671119016,
          169599.47671119016,
          136385.72000508884,
          169599.47671119016,
          109676.42696788596,
          88197.78663039794,
          136385.72000508884,
          136385.72000508884,
          88197.78663039794,
          136385.72000508884,
          210901.71683396355,
          70925.44662107635,
          70925.44662107635,
          70925.44662107635,
          88197.78663039794,
          136385.72000508884,
          109676.42696788596,
          109676.42696788596,
          136385.72000508884,
          136385.72000508884,
          136385.72000508884,
          109676.42696788596,
          136385.72000508884,
          136385.72000508884,
          136385.72000508884,
          169599.47671119016,
          109676.42696788596,
          136385.72000508884,
          122304.12282339725,
          136385.72000508884,
          88197.78663039794,
          88197.78663039794,
          169599.47671119016,
          136385.72000508884,
          136385.72000508884,
          70925.44662107635,
          169599.47671119016,
          109676.42696788596,
          88197.78663039794,
          109676.42696788596,
          88197.78663039794,
          210901.71683396355,
          109676.42696788596,
          210901.71683396355,
          109676.42696788596,
          136385.72000508884,
          88197.78663039794,
          169599.47671119016,
          136385.72000508884,
          169599.47671119016,
          169599.47671119016,
          70925.44662107635,
          88197.78663039794,
          136385.72000508884,
          109676.42696788596,
          136385.72000508884,
          136385.72000508884,
          169599.47671119016,
          109676.42696788596,
          169599.47671119016,
          210901.71683396355,
          136385.72000508884,
          169599.47671119016,
          136385.72000508884,
          189126.46777363523,
          169599.47671119016,
          109676.42696788596,
          136385.72000508884,
          136385.72000508884,
          109676.42696788596,
          88197.78663039794,
          136385.72000508884,
          88197.78663039794,
          210901.71683396355,
          88197.78663039794,
          136385.72000508884,
          136385.72000508884,
          136385.72000508884,
          70925.44662107635,
          70925.44662107635,
          88197.78663039794,
          109676.42696788596,
          169599.47671119016,
          169599.47671119016,
          88197.78663039794,
          70925.44662107635,
          88197.78663039794,
          109676.42696788596,
          136385.72000508884,
          109676.42696788596,
          136385.72000508884,
          109676.42696788596,
          169599.47671119016,
          109676.42696788596,
          109676.42696788596,
          88197.78663039794,
          169599.47671119016,
          109676.42696788596,
          88197.78663039794,
          210901.71683396355,
          70925.44662107635,
          169599.47671119016,
          109676.42696788596,
          136385.72000508884,
          136385.72000508884,
          109676.42696788596,
          109676.42696788596,
          109676.42696788596,
          169599.47671119016,
          169599.47671119016,
          136385.72000508884,
          136385.72000508884,
          136385.72000508884,
          136385.72000508884,
          109676.42696788596,
          210901.71683396355,
          136385.72000508884,
          88197.78663039794,
          136385.72000508884,
          109676.42696788596,
          70925.44662107635,
          136385.72000508884,
          88197.78663039794,
          136385.72000508884,
          70925.44662107635,
          169599.47671119016,
          169599.47671119016,
          70925.44662107635,
          169599.47671119016,
          136385.72000508884,
          169599.47671119016,
          136385.72000508884,
          109676.42696788596,
          136385.72000508884,
          70925.44662107635,
          109676.42696788596,
          70925.44662107635,
          109676.42696788596,
          136385.72000508884,
          109676.42696788596,
          136385.72000508884,
          169599.47671119016,
          70925.44662107635,
          109676.42696788596,
          136385.72000508884,
          136385.72000508884,
          136385.72000508884,
          109676.42696788596
         ]
        }
       ],
       "layout": {
        "legend": {
         "itemsizing": "constant",
         "title": {
          "text": "Brand"
         },
         "tracegroupgap": 0
        },
        "template": {
         "data": {
          "bar": [
           {
            "error_x": {
             "color": "#2a3f5f"
            },
            "error_y": {
             "color": "#2a3f5f"
            },
            "marker": {
             "line": {
              "color": "#E5ECF6",
              "width": 0.5
             },
             "pattern": {
              "fillmode": "overlay",
              "size": 10,
              "solidity": 0.2
             }
            },
            "type": "bar"
           }
          ],
          "barpolar": [
           {
            "marker": {
             "line": {
              "color": "#E5ECF6",
              "width": 0.5
             },
             "pattern": {
              "fillmode": "overlay",
              "size": 10,
              "solidity": 0.2
             }
            },
            "type": "barpolar"
           }
          ],
          "carpet": [
           {
            "aaxis": {
             "endlinecolor": "#2a3f5f",
             "gridcolor": "white",
             "linecolor": "white",
             "minorgridcolor": "white",
             "startlinecolor": "#2a3f5f"
            },
            "baxis": {
             "endlinecolor": "#2a3f5f",
             "gridcolor": "white",
             "linecolor": "white",
             "minorgridcolor": "white",
             "startlinecolor": "#2a3f5f"
            },
            "type": "carpet"
           }
          ],
          "choropleth": [
           {
            "colorbar": {
             "outlinewidth": 0,
             "ticks": ""
            },
            "type": "choropleth"
           }
          ],
          "contour": [
           {
            "colorbar": {
             "outlinewidth": 0,
             "ticks": ""
            },
            "colorscale": [
             [
              0,
              "#0d0887"
             ],
             [
              0.1111111111111111,
              "#46039f"
             ],
             [
              0.2222222222222222,
              "#7201a8"
             ],
             [
              0.3333333333333333,
              "#9c179e"
             ],
             [
              0.4444444444444444,
              "#bd3786"
             ],
             [
              0.5555555555555556,
              "#d8576b"
             ],
             [
              0.6666666666666666,
              "#ed7953"
             ],
             [
              0.7777777777777778,
              "#fb9f3a"
             ],
             [
              0.8888888888888888,
              "#fdca26"
             ],
             [
              1,
              "#f0f921"
             ]
            ],
            "type": "contour"
           }
          ],
          "contourcarpet": [
           {
            "colorbar": {
             "outlinewidth": 0,
             "ticks": ""
            },
            "type": "contourcarpet"
           }
          ],
          "heatmap": [
           {
            "colorbar": {
             "outlinewidth": 0,
             "ticks": ""
            },
            "colorscale": [
             [
              0,
              "#0d0887"
             ],
             [
              0.1111111111111111,
              "#46039f"
             ],
             [
              0.2222222222222222,
              "#7201a8"
             ],
             [
              0.3333333333333333,
              "#9c179e"
             ],
             [
              0.4444444444444444,
              "#bd3786"
             ],
             [
              0.5555555555555556,
              "#d8576b"
             ],
             [
              0.6666666666666666,
              "#ed7953"
             ],
             [
              0.7777777777777778,
              "#fb9f3a"
             ],
             [
              0.8888888888888888,
              "#fdca26"
             ],
             [
              1,
              "#f0f921"
             ]
            ],
            "type": "heatmap"
           }
          ],
          "heatmapgl": [
           {
            "colorbar": {
             "outlinewidth": 0,
             "ticks": ""
            },
            "colorscale": [
             [
              0,
              "#0d0887"
             ],
             [
              0.1111111111111111,
              "#46039f"
             ],
             [
              0.2222222222222222,
              "#7201a8"
             ],
             [
              0.3333333333333333,
              "#9c179e"
             ],
             [
              0.4444444444444444,
              "#bd3786"
             ],
             [
              0.5555555555555556,
              "#d8576b"
             ],
             [
              0.6666666666666666,
              "#ed7953"
             ],
             [
              0.7777777777777778,
              "#fb9f3a"
             ],
             [
              0.8888888888888888,
              "#fdca26"
             ],
             [
              1,
              "#f0f921"
             ]
            ],
            "type": "heatmapgl"
           }
          ],
          "histogram": [
           {
            "marker": {
             "pattern": {
              "fillmode": "overlay",
              "size": 10,
              "solidity": 0.2
             }
            },
            "type": "histogram"
           }
          ],
          "histogram2d": [
           {
            "colorbar": {
             "outlinewidth": 0,
             "ticks": ""
            },
            "colorscale": [
             [
              0,
              "#0d0887"
             ],
             [
              0.1111111111111111,
              "#46039f"
             ],
             [
              0.2222222222222222,
              "#7201a8"
             ],
             [
              0.3333333333333333,
              "#9c179e"
             ],
             [
              0.4444444444444444,
              "#bd3786"
             ],
             [
              0.5555555555555556,
              "#d8576b"
             ],
             [
              0.6666666666666666,
              "#ed7953"
             ],
             [
              0.7777777777777778,
              "#fb9f3a"
             ],
             [
              0.8888888888888888,
              "#fdca26"
             ],
             [
              1,
              "#f0f921"
             ]
            ],
            "type": "histogram2d"
           }
          ],
          "histogram2dcontour": [
           {
            "colorbar": {
             "outlinewidth": 0,
             "ticks": ""
            },
            "colorscale": [
             [
              0,
              "#0d0887"
             ],
             [
              0.1111111111111111,
              "#46039f"
             ],
             [
              0.2222222222222222,
              "#7201a8"
             ],
             [
              0.3333333333333333,
              "#9c179e"
             ],
             [
              0.4444444444444444,
              "#bd3786"
             ],
             [
              0.5555555555555556,
              "#d8576b"
             ],
             [
              0.6666666666666666,
              "#ed7953"
             ],
             [
              0.7777777777777778,
              "#fb9f3a"
             ],
             [
              0.8888888888888888,
              "#fdca26"
             ],
             [
              1,
              "#f0f921"
             ]
            ],
            "type": "histogram2dcontour"
           }
          ],
          "mesh3d": [
           {
            "colorbar": {
             "outlinewidth": 0,
             "ticks": ""
            },
            "type": "mesh3d"
           }
          ],
          "parcoords": [
           {
            "line": {
             "colorbar": {
              "outlinewidth": 0,
              "ticks": ""
             }
            },
            "type": "parcoords"
           }
          ],
          "pie": [
           {
            "automargin": true,
            "type": "pie"
           }
          ],
          "scatter": [
           {
            "fillpattern": {
             "fillmode": "overlay",
             "size": 10,
             "solidity": 0.2
            },
            "type": "scatter"
           }
          ],
          "scatter3d": [
           {
            "line": {
             "colorbar": {
              "outlinewidth": 0,
              "ticks": ""
             }
            },
            "marker": {
             "colorbar": {
              "outlinewidth": 0,
              "ticks": ""
             }
            },
            "type": "scatter3d"
           }
          ],
          "scattercarpet": [
           {
            "marker": {
             "colorbar": {
              "outlinewidth": 0,
              "ticks": ""
             }
            },
            "type": "scattercarpet"
           }
          ],
          "scattergeo": [
           {
            "marker": {
             "colorbar": {
              "outlinewidth": 0,
              "ticks": ""
             }
            },
            "type": "scattergeo"
           }
          ],
          "scattergl": [
           {
            "marker": {
             "colorbar": {
              "outlinewidth": 0,
              "ticks": ""
             }
            },
            "type": "scattergl"
           }
          ],
          "scattermapbox": [
           {
            "marker": {
             "colorbar": {
              "outlinewidth": 0,
              "ticks": ""
             }
            },
            "type": "scattermapbox"
           }
          ],
          "scatterpolar": [
           {
            "marker": {
             "colorbar": {
              "outlinewidth": 0,
              "ticks": ""
             }
            },
            "type": "scatterpolar"
           }
          ],
          "scatterpolargl": [
           {
            "marker": {
             "colorbar": {
              "outlinewidth": 0,
              "ticks": ""
             }
            },
            "type": "scatterpolargl"
           }
          ],
          "scatterternary": [
           {
            "marker": {
             "colorbar": {
              "outlinewidth": 0,
              "ticks": ""
             }
            },
            "type": "scatterternary"
           }
          ],
          "surface": [
           {
            "colorbar": {
             "outlinewidth": 0,
             "ticks": ""
            },
            "colorscale": [
             [
              0,
              "#0d0887"
             ],
             [
              0.1111111111111111,
              "#46039f"
             ],
             [
              0.2222222222222222,
              "#7201a8"
             ],
             [
              0.3333333333333333,
              "#9c179e"
             ],
             [
              0.4444444444444444,
              "#bd3786"
             ],
             [
              0.5555555555555556,
              "#d8576b"
             ],
             [
              0.6666666666666666,
              "#ed7953"
             ],
             [
              0.7777777777777778,
              "#fb9f3a"
             ],
             [
              0.8888888888888888,
              "#fdca26"
             ],
             [
              1,
              "#f0f921"
             ]
            ],
            "type": "surface"
           }
          ],
          "table": [
           {
            "cells": {
             "fill": {
              "color": "#EBF0F8"
             },
             "line": {
              "color": "white"
             }
            },
            "header": {
             "fill": {
              "color": "#C8D4E3"
             },
             "line": {
              "color": "white"
             }
            },
            "type": "table"
           }
          ]
         },
         "layout": {
          "annotationdefaults": {
           "arrowcolor": "#2a3f5f",
           "arrowhead": 0,
           "arrowwidth": 1
          },
          "autotypenumbers": "strict",
          "coloraxis": {
           "colorbar": {
            "outlinewidth": 0,
            "ticks": ""
           }
          },
          "colorscale": {
           "diverging": [
            [
             0,
             "#8e0152"
            ],
            [
             0.1,
             "#c51b7d"
            ],
            [
             0.2,
             "#de77ae"
            ],
            [
             0.3,
             "#f1b6da"
            ],
            [
             0.4,
             "#fde0ef"
            ],
            [
             0.5,
             "#f7f7f7"
            ],
            [
             0.6,
             "#e6f5d0"
            ],
            [
             0.7,
             "#b8e186"
            ],
            [
             0.8,
             "#7fbc41"
            ],
            [
             0.9,
             "#4d9221"
            ],
            [
             1,
             "#276419"
            ]
           ],
           "sequential": [
            [
             0,
             "#0d0887"
            ],
            [
             0.1111111111111111,
             "#46039f"
            ],
            [
             0.2222222222222222,
             "#7201a8"
            ],
            [
             0.3333333333333333,
             "#9c179e"
            ],
            [
             0.4444444444444444,
             "#bd3786"
            ],
            [
             0.5555555555555556,
             "#d8576b"
            ],
            [
             0.6666666666666666,
             "#ed7953"
            ],
            [
             0.7777777777777778,
             "#fb9f3a"
            ],
            [
             0.8888888888888888,
             "#fdca26"
            ],
            [
             1,
             "#f0f921"
            ]
           ],
           "sequentialminus": [
            [
             0,
             "#0d0887"
            ],
            [
             0.1111111111111111,
             "#46039f"
            ],
            [
             0.2222222222222222,
             "#7201a8"
            ],
            [
             0.3333333333333333,
             "#9c179e"
            ],
            [
             0.4444444444444444,
             "#bd3786"
            ],
            [
             0.5555555555555556,
             "#d8576b"
            ],
            [
             0.6666666666666666,
             "#ed7953"
            ],
            [
             0.7777777777777778,
             "#fb9f3a"
            ],
            [
             0.8888888888888888,
             "#fdca26"
            ],
            [
             1,
             "#f0f921"
            ]
           ]
          },
          "colorway": [
           "#636efa",
           "#EF553B",
           "#00cc96",
           "#ab63fa",
           "#FFA15A",
           "#19d3f3",
           "#FF6692",
           "#B6E880",
           "#FF97FF",
           "#FECB52"
          ],
          "font": {
           "color": "#2a3f5f"
          },
          "geo": {
           "bgcolor": "white",
           "lakecolor": "white",
           "landcolor": "#E5ECF6",
           "showlakes": true,
           "showland": true,
           "subunitcolor": "white"
          },
          "hoverlabel": {
           "align": "left"
          },
          "hovermode": "closest",
          "mapbox": {
           "style": "light"
          },
          "paper_bgcolor": "white",
          "plot_bgcolor": "#E5ECF6",
          "polar": {
           "angularaxis": {
            "gridcolor": "white",
            "linecolor": "white",
            "ticks": ""
           },
           "bgcolor": "#E5ECF6",
           "radialaxis": {
            "gridcolor": "white",
            "linecolor": "white",
            "ticks": ""
           }
          },
          "scene": {
           "xaxis": {
            "backgroundcolor": "#E5ECF6",
            "gridcolor": "white",
            "gridwidth": 2,
            "linecolor": "white",
            "showbackground": true,
            "ticks": "",
            "zerolinecolor": "white"
           },
           "yaxis": {
            "backgroundcolor": "#E5ECF6",
            "gridcolor": "white",
            "gridwidth": 2,
            "linecolor": "white",
            "showbackground": true,
            "ticks": "",
            "zerolinecolor": "white"
           },
           "zaxis": {
            "backgroundcolor": "#E5ECF6",
            "gridcolor": "white",
            "gridwidth": 2,
            "linecolor": "white",
            "showbackground": true,
            "ticks": "",
            "zerolinecolor": "white"
           }
          },
          "shapedefaults": {
           "line": {
            "color": "#2a3f5f"
           }
          },
          "ternary": {
           "aaxis": {
            "gridcolor": "white",
            "linecolor": "white",
            "ticks": ""
           },
           "baxis": {
            "gridcolor": "white",
            "linecolor": "white",
            "ticks": ""
           },
           "bgcolor": "#E5ECF6",
           "caxis": {
            "gridcolor": "white",
            "linecolor": "white",
            "ticks": ""
           }
          },
          "title": {
           "x": 0.05
          },
          "xaxis": {
           "automargin": true,
           "gridcolor": "white",
           "linecolor": "white",
           "ticks": "",
           "title": {
            "standoff": 15
           },
           "zerolinecolor": "white",
           "zerolinewidth": 2
          },
          "yaxis": {
           "automargin": true,
           "gridcolor": "white",
           "linecolor": "white",
           "ticks": "",
           "title": {
            "standoff": 15
           },
           "zerolinecolor": "white",
           "zerolinewidth": 2
          }
         }
        },
        "title": {
         "text": "Rating vs. Revenue Correlation with Review Count as Bubble Size"
        },
        "xaxis": {
         "anchor": "y",
         "domain": [
          0,
          1
         ],
         "title": {
          "text": "Product Rating"
         }
        },
        "yaxis": {
         "anchor": "x",
         "domain": [
          0,
          1
         ],
         "title": {
          "text": "Revenue ($)"
         },
         "type": "log"
        }
       }
      },
      "text/html": [
       "<div>                            <div id=\"325acb9e-004c-43b1-9989-9806512aee79\" class=\"plotly-graph-div\" style=\"height:525px; width:100%;\"></div>            <script type=\"text/javascript\">                require([\"plotly\"], function(Plotly) {                    window.PLOTLYENV=window.PLOTLYENV || {};                                    if (document.getElementById(\"325acb9e-004c-43b1-9989-9806512aee79\")) {                    Plotly.newPlot(                        \"325acb9e-004c-43b1-9989-9806512aee79\",                        [{\"hovertemplate\":\"\\u003cb\\u003e%{hovertext}\\u003c\\u002fb\\u003e\\u003cbr\\u003e\\u003cbr\\u003eBrand=Purina Fancy Feast\\u003cbr\\u003eProduct Rating=%{x}\\u003cbr\\u003eRevenue ($)=%{y}\\u003cbr\\u003eNumber of Reviews=%{marker.size}\\u003cextra\\u003e\\u003c\\u002fextra\\u003e\",\"hovertext\":[\"Purina Fancy Feast Grilled Wet Cat Food Seafood Collection in Wet Cat Food Variety Pack - (24) 3 oz. Cans\",\"Purina Fancy Feast Grilled Wet Cat Food Seafood Collection in Wet Cat Food Variety Pack - (24) 3 oz. Cans\",\"Purina Fancy Feast Grilled - (24) 3 oz. Cans\",\"Purina Fancy Feast Dry Cat Food, with Savory Chicken & Turkey - 12 lb with Fancy Feast Natural Wet Cat Food Variety Pack, Gourmet Naturals Poultry & Beef Collection - (30) 3 oz. Cans\",\"Purina Fancy Feast Wet Cat Food Variety Pack Gourmet Naturals - (30) 3 oz. Cans\",\"Purina Fancy Feast Grilled - (24) 3 oz. Cans\",\"Purina Fancy Feast Wet Cat Food, Flaked Tuna & Mackerel Feast - (24) 3 oz. Cans\",\"Purina Fancy Feast Gravy Lovers - (24) 3 oz. Cans\",\"Purina Fancy Feast Gravy Wet Cat Food Variety Pack, Gravy Lovers Poultry & Beef - (30) 3 oz. Cans\",\"Purina Fancy Feast Gourmet Wet Cat Food Variety Pack, Petites - (24) 2.8 oz. Tubs\",\"Purina Fancy Feast Tender Beef Feast Classic Grain Free Wet Cat Food Pate - (24) 3 oz. Cans\",\"Purina Fancy Feast Gravy Wet Cat Food Variety Pack, Gravy Lovers Poultry & Beef - (30) 3 oz. Cans\",\"Fancy Feast Chicken Feast Classic Pate - (24) 3 oz. Pull-Top Cans\",\"Purina Fancy Feast Wet Cat Food, Medleys Shredded Wild Salmon Fare With Spinach in a Savory Cat Food Broth - (24) 3 Oz. Cans\",\"Fancy Feast Lickable Appetizers - (2 Packs of 12) 1.1 oz. Trays\",\"Purina Fancy Feast Wet Cat Food, Flaked Tuna & Mackerel Feast - (24) 3 oz. Cans\",\"Purina Fancy Feast Pate Wet Cat Food, Medleys Whitefish & Tuna Florentine With Cheese - (24) 3 oz. Cans\",\"Purina Fancy Feast Wet Cat Food Variety Pack Gourmet Naturals Seafood - (30) 3 oz. Cans\",\"Purina Fancy Feast Grilled Gravy Wet Cat Food Variety Pack, Seafood & Poultry Grilled Collection - (30) 3 oz. Cans\",\"Fancy Feast Chicken Feast Classic Pate - (24) 3 oz. Pull-Top Cans\",\"Purina Fancy Feast Grilled Wet Cat Food Seafood Collection in Wet Cat Food Variety Pack - (24) 3 oz. Cans\",\"Purina Fancy Feast Dry Cat Food with Savory Chicken and Turkey - 12 lb. Bag\",\"Purina Fancy Feast Wet Cat Food, Flaked Tuna & Mackerel Feast - (24) 3 oz. Cans\",\"Purina Fancy Feast Gravy Lovers - (24) 3 oz. Cans\",\"Fancy Feast Poultry and Beef Feast Classic Pate - (30) 3 oz. Cans\",\"Purina Fancy Feast Pate Wet Cat Food Variety Pack, Savory Centers - (2 Packs of 12) 3 oz. Pull-Top Cans\",\"Purina Fancy Feast Grilled - (24) 3 oz. Cans\",\"Purina Fancy Feast Grain Free, Natural Pate Wet Cat Food, Gourmet Naturals Plus Coconut Milk, Trout & Tuna Recipe - (24) 3 oz. Cans\",\"Purina Fancy Feast Gravy Lovers - (24) 3 oz. Cans\",\"Purina Fancy Feast Grilled Wet Cat Food Seafood Collection in Wet Cat Food Variety Pack - (24) 3 oz. Cans\",\"Purina Fancy Feast Gourmet Wet Cat Food Variety Pack, Petites - (24) 2.8 oz. Tubs\",\"Purina Fancy Feast Grilled Gravy Wet Cat Food, Delights Grilled Tuna & Cheddar Cheese Feast - (24) 3 oz. Cans\",\"Purina Fancy Feast Savory Centers - (24) 3 oz. Cans\",\"Purina Fancy Feast Wet Cat Food Variety Pack Gourmet Naturals - (30) 3 oz. Cans\",\"Purina Fancy Feast Grilled Wet Cat Food Seafood Collection in Wet Cat Food Variety Pack - (24) 3 oz. Cans\",\"Purina Fancy Feast Gravy Lovers - (24) 3 oz. Cans\",\"Purina Fancy Feast Tender Beef Feast Classic Grain Free Wet Cat Food Pate - (24) 3 oz. Cans\",\"PURINA Fancy Feast Savory Centers Salmon Pate Adult Wet Cat Food With a Gravy Center - 3 oz. Can\",\"Purina Fancy Feast Grilled - (24) 3 oz. Cans\",\"Purina Fancy Feast Pate Wet Cat Food Variety Pack, Savory Centers - (2 Packs of 12) 3 oz. Pull-Top Cans\",\"Purina Fancy Feast Grilled - (24) 3 oz. Cans\",\"Purina Fancy Feast Grilled - (24) 3 oz. Cans\",\"Purina Fancy Feast Grilled - (24) 3 oz. Cans\",\"Purina Fancy Feast Wet Cat Food, Medleys Shredded Wild Salmon Fare With Spinach in a Savory Cat Food Broth - (24) 3 Oz. Cans\",\"Purina Fancy Feast Grilled Wet Cat Food Seafood Collection in Wet Cat Food Variety Pack - (24) 3 oz. Cans\",\"Purina Fancy Feast Grilled Wet Cat Food Seafood Collection in Wet Cat Food Variety Pack - (24) 3 oz. Cans\",\"Purina Fancy Feast Tender Beef Feast Classic Grain Free Wet Cat Food Pate - (24) 3 oz. Cans\",\"Purina Fancy Feast Grilled - (24) 3 oz. Cans\",\"Purina Fancy Feast Pate Wet Cat Food Variety Pack, Savory Centers - (2 Packs of 12) 3 oz. Pull-Top Cans\",\"Purina Fancy Feast Savory Centers - (24) 3 oz. Cans\",\"Fancy Feast Chicken Feast Classic Pate - (24) 3 oz. Pull-Top Cans\",\"Purina Fancy Feast Gravy Wet Cat Food Variety Pack, Gravy Lovers Poultry & Beef - (30) 3 oz. Cans\",\"Purina Fancy Feast Grilled Gravy Wet Cat Food, Delights Grilled Tuna & Cheddar Cheese Feast - (24) 3 oz. Cans\",\"Purina Fancy Feast Grain Free, Natural Pate Wet Cat Food, Gourmet Naturals Plus Coconut Milk Chicken Recipe - (24) 3 oz. Cans\",\"Purina Fancy Feast Cat Food Medleys - (24) 3 oz. Cans\",\"Purina Fancy Feast Dry Cat Food with Savory Chicken and Turkey - 12 lb. Bag\",\"Purina Fancy Feast Gravy Wet Cat Food Variety Pack, Gravy Lovers Poultry & Beef - (30) 3 oz. Cans\",\"Purina Fancy Feast Wet Cat Food Variety Pack Gourmet Naturals Seafood - (30) 3 oz. Cans\",\"Fancy Feast Lickable Appetizers - (2 Packs of 12) 1.1 oz. Trays\",\"Purina Fancy Feast Wet Cat Food, Flaked Tuna & Mackerel Feast - (24) 3 oz. Cans\",\"Purina Fancy Feast Wet Cat Food Medleys - (24) 3 oz. Cans\",\"Purina Fancy Feast Wet Cat Food, Flaked Tuna & Mackerel Feast - (24) 3 oz. Cans\",\"Purina Fancy Feast Cat Food Medleys - (24) 3 oz. Cans\",\"Purina Fancy Feast Cat Food Medleys - (24) 3 oz. Cans\",\"Purina Fancy Feast Tender Beef Feast Classic Grain Free Wet Cat Food Pate - (24) 3 oz. Cans\",\"Purina Fancy Feast Savory Centers - (24) 3 oz. Cans\",\"Purina Fancy Feast Grilled - (24) 3 oz. Cans\",\"Purina Fancy Feast Gourmet Wet Cat Food Variety Pack, Petites - (24) 2.8 oz. Tubs\",\"Purina Fancy Feast High Protein Senior - (24) 3 oz. Cans\",\"Purina Fancy Feast Chicken and Beef Classic Pate - (24) 3 oz. Pull-Top Cans\",\"Purina Fancy Feast Wet Cat Food Medleys - (24) 3 oz. Cans\",\"Purina Fancy Feast Gravy Lovers - (24) 3 oz. Cans\",\"Purina Fancy Feast Grilled - (24) 3 oz. Cans\",\"Purina Fancy Feast Wet Cat Food Variety Pack, Chicken Feast Collection - (24) 3 oz. Cans\",\"Purina Fancy Feast Dry Cat Food with Savory Chicken and Turkey - 12 lb. Bag\",\"Purina Fancy Feast Grilled - (24) 3 oz. Cans\",\"Purina Fancy Feast Savory Centers - (24) 3 oz. Cans\",\"Purina Fancy Feast Wet Cat Food, Flaked Tuna & Mackerel Feast - (24) 3 oz. Cans\",\"Purina Fancy Feast Grilled Gravy Wet Cat Food, Delights Grilled Tuna & Cheddar Cheese Feast - (24) 3 oz. Cans\",\"Purina Fancy Feast Grilled - (24) 3 oz. Cans\",\"Purina Fancy Feast Grilled Gravy Wet Cat Food Variety Pack, Poultry & Beef Grilled Collection - (30) 3 oz. Cans\",\"PURINA Fancy Feast Savory Centers Salmon Pate Adult Wet Cat Food With a Gravy Center - 3 oz. Can\",\"Purina Fancy Feast Dry Cat Food, with Savory Chicken & Turkey - 12 lb with Fancy Feast Natural Wet Cat Food Variety Pack, Gourmet Naturals Poultry & Beef Collection - (30) 3 oz. Cans\"],\"legendgroup\":\"Purina Fancy Feast\",\"marker\":{\"color\":\"#636efa\",\"size\":[143890,42030,2182,3,22660,35836,22765,58992,5364,4849,51836,55256,4139,26001,6048,5283,25833,21617,18352,4265,33459,20784,7350,44495,76781,8659,147079,39745,49304,66840,5895,4179,1173,1115,38104,58665,12984,939,72374,24432,1150,143890,28655,12435,44291,112851,13189,3689,15272,773,4219,1296,569,233,2880,1305,16701,2810,22790,468,1076,7578,319,5129,3051,264,12902,565,21673,2825,43386,32789,5467,1971,3182,6616,1169,1764,945,14359,852,208,2],\"sizemode\":\"area\",\"sizeref\":367.6975,\"symbol\":\"circle\"},\"mode\":\"markers\",\"name\":\"Purina Fancy Feast\",\"orientation\":\"v\",\"showlegend\":true,\"x\":[4.7,4.7,4.7,4.6,4.6,4.7,4.6,4.7,4.7,4.6,4.7,4.7,4.7,4.6,4.6,4.6,4.6,4.6,4.7,4.7,4.7,4.8,4.6,4.7,4.7,4.6,4.7,4.7,4.7,4.7,4.5,4.7,4.5,4.6,4.7,4.7,4.7,4.5,4.7,4.6,4.7,4.7,4.7,4.6,4.7,4.7,4.7,4.7,4.6,4.5,4.7,4.7,4.7,4.6,4.6,4.8,4.7,4.6,4.6,4.6,4.5,4.6,4.5,4.6,4.7,4.5,4.7,4.5,4.6,4.7,4.6,4.7,4.7,4.7,4.8,4.7,4.6,4.7,4.7,4.7,4.7,4.5,4.5],\"xaxis\":\"x\",\"y\":[18339631.180380464,16876327.60039282,5899598.915750246,5584392.010578087,5556600.516477984,4199063.989888364,4148983.0592978187,4037299.5801838897,3164427.329578329,2895692.5025376324,2790458.6171859168,2303668.10264,1845698.3745955208,1576042.1630565834,1329240.2103229167,1327461.63971625,1259140.0269761668,1170268.5895473084,1093673.435680692,1022195.6295299666,937278.993291,890384.415205,818555.53700625,800299.3296371,800084.839655,779182.9081238334,774972.3954994375,501288.01916252123,435399.3464465,340937.4311174015,300465.745045,293227.79013618146,250910.46193859412,229286.32661411606,223110.70246000003,208458.787253,194814.82479775,186480.44170296667,182929.81722684053,170245.474155,142637.061438,137063.87175375002,136884.3809865,133102.605124,128324.685816,125836.03344,123916.16371200001,113084.367199,92921.642937,86274.80362825,81506.6013105,74020.24794900001,55656.394965249994,54548.371177999994,49314.57089775,49214.97174975,47076.49813199999,31413.384775000002,31087.841689000004,30649.652792,28041.134851500006,27118.861368,25685.263237,24674.244451,23521.365960000003,21667.131656,19026.420408,17563.4001,17412.42438,16336.965968999999,15214.773145,11296.95928,9494.13975075,8006.672464306118,7506.7327005,5821.6851835,3380.151804,2704.4416944999994,2698.9046949999997,1590.964462,622.689436,192.741696,0.012581999999999998],\"yaxis\":\"y\",\"type\":\"scatter\"},{\"hovertemplate\":\"\\u003cb\\u003e%{hovertext}\\u003c\\u002fb\\u003e\\u003cbr\\u003e\\u003cbr\\u003eBrand=Purina One\\u003cbr\\u003eProduct Rating=%{x}\\u003cbr\\u003eRevenue ($)=%{y}\\u003cbr\\u003eNumber of Reviews=%{marker.size}\\u003cextra\\u003e\\u003c\\u002fextra\\u003e\",\"hovertext\":[\"Purina ONE Natural Dry Cat Food, Tender Selects Blend With Real Salmon - 16 lb. Bag\",\"PURINA ONE Natural, Low Fat, Weight Control, Indoor Dry Cat Food, +Plus Indoor Advantage - 16 lb. Bag\",\"Purina ONE High Protein Dry Cat Food, +Plus Urinary Tract Health Formula - 16 lb. Bag\",\"Purina ONE Sensitive Stomach, Sensitive Skin, Natural Dry Cat Food, +Plus Sensitive Skin and Stomach Formula - 16 lb. Bag\",\"PURINA ONE Natural, Low Fat, Weight Control, Indoor Dry Cat Food, +Plus Indoor Advantage - 16 lb. Bag\",\"Purina ONE Sensitive Stomach, Sensitive Skin, Natural Dry Cat Food, +Plus Sensitive Skin and Stomach Formula - 16 lb. Bag\",\"Purina ONE Natural Dry Cat Food, Tender Selects Blend With Real Chicken - 16 Lb. Bag\",\"Purina ONE Sensitive Stomach, Sensitive Skin, Natural Dry Cat Food, +Plus Sensitive Skin and Stomach Formula - 16 lb. Bag\",\"Purina ONE High Protein Dry Cat Food, +Plus Urinary Tract Health Formula - 16 lb. Bag\",\"Purina ONE Sensitive Stomach, Sensitive Skin, Natural Dry Cat Food, +Plus Sensitive Skin and Stomach Formula - 16 lb. Bag\",\"Purina ONE Natural, Senior Dry cat Food and Wet cat Food, Indoor Advantage Bundle Pack\",\"PURINA ONE Natural, Low Fat, Weight Control, Indoor Dry Cat Food, +Plus Indoor Advantage - 16 lb. Bag\",\"Purina ONE Natural, Low Fat, Weight Control, Indoor Dry Cat Food, +Plus Indoor Advantage - 22 lb. Bag\",\"Purina ONE Natural, Low Fat, Weight Control, Indoor Dry Cat Food, +Plus Indoor Advantage - 22 lb. Bag\"],\"legendgroup\":\"Purina One\",\"marker\":{\"color\":\"#EF553B\",\"size\":[28796,6676,14750,39523,22828,18478,28784,7867,14204,20477,1,8172,5798,9747],\"sizemode\":\"area\",\"sizeref\":367.6975,\"symbol\":\"circle\"},\"mode\":\"markers\",\"name\":\"Purina One\",\"orientation\":\"v\",\"showlegend\":true,\"x\":[4.7,4.8,4.6,4.7,4.8,4.7,4.7,4.8,4.6,4.7,5.0,4.8,4.8,4.8],\"xaxis\":\"x\",\"y\":[16496897.722157411,7420298.154929326,4593228.29969265,4358838.521979666,1735150.2316959999,1441038.3896885,815573.9036187499,366375.878658,297245.03587229166,135918.576976,76174.35544799999,66259.19455999999,54624.038448,48947.786834],\"yaxis\":\"y\",\"type\":\"scatter\"},{\"hovertemplate\":\"\\u003cb\\u003e%{hovertext}\\u003c\\u002fb\\u003e\\u003cbr\\u003e\\u003cbr\\u003eBrand=Friskies\\u003cbr\\u003eProduct Rating=%{x}\\u003cbr\\u003eRevenue ($)=%{y}\\u003cbr\\u003eNumber of Reviews=%{marker.size}\\u003cextra\\u003e\\u003c\\u002fextra\\u003e\",\"hovertext\":[\"Purina Friskies Wet Cat Food Variety Pack, YUMbelievaBOX YUM-credible Surprises - (40) 5.5 oz. Pull-Top Cans\",\"Purina Friskies Wet Cat Food Variety Pack, Oceans of Delight Flaked & Prime Filets - 5.5 Ounce (Pack of 40)\",\"Purina Friskies Wet Cat Food Pate - (40) 5.5 oz. Cans\",\"Purina Friskies Wet Cat Food Variety Pack, Oceans of Delight Flaked & Prime Filets - 5.5 Ounce (Pack of 40)\",\"Purina Friskies Gravy Wet Cat Food , Poultry Shreds - (32) 5.5 oz. Cans\",\"Purina Friskies Gravy Wet Cat Food Variety Pack, TurChicken - (40) 5.5 oz. Cans\",\"Purina Friskies Gravy Wet Cat Food , Poultry Shreds - (32) 5.5 oz. Cans\",\"Purina Friskies Grain Free Wet Cat Food Lickable Cat Treats Variety Pack, Lil' Soups With Salmon, Tuna or Shrimp - (30) 1.2 oz. Cups\",\"Purina Friskies Gravy Wet Cat Food Variety Pack, TurChicken - (40) 5.5 oz. Cans\",\"Purina Friskies Dry Cat Food, Seafood Sensations - 6.3 lb. Bag\",\"Purina Friskies Gravy Wet Cat Food Variety Pack, TurChicken - (40) 5.5 oz. Cans\",\"Purina Friskies Grain Free Wet Cat Food Lickable Cat Treats Variety Pack, Lil' Soups With Salmon, Tuna or Shrimp - (30) 1.2 oz. Cups\",\"Purina Friskies Indoor Wet Cat Food Variety Pack, YUMbelievaBOX YUM-stoppable Indoor Adventures - (40) 5.5 oz. Pull-Top Cans\",\"Purina Friskies Gravy Wet Cat Food , Poultry Shreds - (32) 5.5 oz. Cans\",\"Purina Friskies Gravy Wet Cat Food Variety Pack, TurChicken - (40) 5.5 oz. Cans\",\"Purina Friskies Wet Cat Food Variety Pack, Oceans of Delight Flaked & Prime Filets - 5.5 Ounce (Pack of 40)\",\"Purina Friskies Gravy Wet Cat Food Variety Pack, TurChicken - (40) 5.5 oz. Cans\",\"Purina Friskies Gravy Wet Cat Food Variety Pack, TurChicken - (40) 5.5 oz. Cans\",\"Purina Friskies Wet Cat Food Variety Pack, Oceans of Delight Flaked & Prime Filets - 5.5 Ounce (Pack of 40)\",\"Purina Friskies Gravy Wet Cat Food Variety Pack, TurChicken - (40) 5.5 oz. Cans\",\"Purina Friskies Indoor Wet Cat Food Variety Pack, YUMbelievaBOX YUM-stoppable Indoor Adventures - (40) 5.5 oz. Pull-Top Cans\",\"Purina Friskies Indoor Wet Cat Food Variety Pack, YUMbelievaBOX YUM-stoppable Indoor Adventures - (40) 5.5 oz. Pull-Top Cans\",\"Purina Friskies Wet Cat Food Pate - (40) 5.5 oz. Cans\",\"Purina Friskies Grain Free Wet Cat Food Lickable Cat Treats Variety Pack, Lil' Soups With Salmon, Tuna or Shrimp - (30) 1.2 oz. Cups\",\"Purina Friskies Wet Cat Food Variety Pack, YUMbelievaBOX YUM-credible Surprises - (40) 5.5 oz. Pull-Top Cans\",\"Purina Friskies Grain Free Wet Cat Food Lickable Cat Treats Variety Pack, Lil' Soups With Salmon, Tuna or Shrimp - (30) 1.2 oz. Cups\",\"Purina Friskies Gravy Wet Cat Food Variety Pack, TurChicken - (40) 5.5 oz. Cans\",\"Purina Friskies Dry Cat Food, Seafood Sensations - (12) 16.2 oz. Boxes\",\"Purina Friskies Gravy Wet Cat Food Variety Pack, Prime Filets & Shreds Turkey & Chicken Favorites - (40) 5.5 oz. Cans\",\"Purina Friskies Gravy Wet Cat Food Variety Pack, TurChicken - (40) 5.5 oz. Cans\",\"Purina Friskies Indoor Wet Cat Food Variety Pack, YUMbelievaBOX YUM-stoppable Indoor Adventures - (40) 5.5 oz. Pull-Top Cans\",\"Purina Friskies Gravy Wet Cat Food Variety Pack, TurChicken - (40) 5.5 oz. Cans\",\"Purina Friskies Wet Cat Food Variety Pack, YUMbelievaBOX YUM-Sational Treasures - (40) 5.5 Oz. Pull-Top Cans\",\"Purina Friskies Gravy Wet Cat Food Variety Pack, TurChicken - (40) 5.5 oz. Cans\",\"Purina Friskies Pate Wet Cat Food, Picky Pack Turkey & Giblets Dinner - (24) 5.5 oz. Cans\",\"Purina Friskies Wet Cat Food Variety Pack, YUMbelievaBOX YUM-Sational Treasures - (40) 5.5 Oz. Pull-Top Cans\",\"Purina Friskies Dry Cat Food, Seafood Sensations - 6.3 lb. Bag\",\"Purina Friskies Gravy Wet Cat Food Variety Pack, YUMbelievaBOX YUM-azing Extra Gravy Chunky - (40) 5.5 oz. Pull-Top Cans\",\"Purina Friskies Gravy Wet Cat Food Variety Pack, TurChicken - (40) 5.5 oz. Cans\",\"Purina Friskies Pate Wet Cat Food, Picky Pack Turkey & Giblets Dinner - (24) 5.5 oz. Cans\",\"Purina Friskies Wet Cat Food Variety Pack, YUMbelievaBOX YUM-credible Surprises - (40) 5.5 oz. Pull-Top Cans\"],\"legendgroup\":\"Friskies\",\"marker\":{\"color\":\"#00cc96\",\"size\":[1221,31378,27389,17835,101223,7411,30430,4618,8331,2435,65009,980,31758,32067,85911,74508,17203,10425,24758,27523,1649,1208,25306,3868,3736,1523,12577,161,3506,17614,1205,10995,1392,23450,181,1453,109,1765,28515,178,4122],\"sizemode\":\"area\",\"sizeref\":367.6975,\"symbol\":\"circle\"},\"mode\":\"markers\",\"name\":\"Friskies\",\"orientation\":\"v\",\"showlegend\":true,\"x\":[4.6,4.65,4.7,4.7,4.6,4.6,4.7,4.7,4.6,4.5,4.6,4.7,4.6,4.7,4.7,4.6,4.6,4.6,4.6,4.6,4.6,4.6,4.7,4.7,4.6,4.5,4.6,4.3,4.7,4.6,4.6,4.6,4.6,4.6,4.4,4.6,4.3,4.5,4.6,4.3,4.6],\"xaxis\":\"x\",\"y\":[12979132.402431898,9365286.588409875,5570579.355375,3160017.0035643335,2487745.5097954273,1677287.4786282917,1597712.0073839999,1541531.2945985,1283713.4891193334,1132952.473123499,807961.676883,710345.984358,669702.617447,346800.12270300003,226299.4166915,196860.6053,173829.54511036063,142386.373861,100627.942236,97628.011088,70271.38220875,61200.494079,53548.43974,45383.7955705,38535.1024555,27324.145,23174.552425,22407.80779112507,15647.641281366426,13603.707995499992,12824.021540249998,7098.731019000001,3985.3983200000002,3491.3288100000004,3001.244726,1587.7376669999999,992.3753320059682,725.6032190000001,689.2377660000001,263.75756,34.44066],\"yaxis\":\"y\",\"type\":\"scatter\"},{\"hovertemplate\":\"\\u003cb\\u003e%{hovertext}\\u003c\\u002fb\\u003e\\u003cbr\\u003e\\u003cbr\\u003eBrand=Sheba\\u003cbr\\u003eProduct Rating=%{x}\\u003cbr\\u003eRevenue ($)=%{y}\\u003cbr\\u003eNumber of Reviews=%{marker.size}\\u003cextra\\u003e\\u003c\\u002fextra\\u003e\",\"hovertext\":[\"SHEBA PERFECT PORTIONS Pat\\u00e9 Adult Wet Cat Food Trays (24 Count, 48 Servings), Savory Chicken, Roasted Turkey, and Tender Beef Entr\\u00e9e, Easy Peel Twin-Pack Trays\",\"SHEBA PERFECT PORTIONS Cuts in Gravy Adult Wet Cat Food Trays (24 Count (pack of 2), 48 Servings), Roasted Chicken, Gourmet Salmon and Tender Turkey Entr\\u00e9e, Easy Peel Twin-Pack Trays\",\"SHEBA PERFECT PORTIONS Cuts in Gravy Adult Wet Cat Food Trays (24 Count, 48 Servings), Gourmet Salmon, Sustainable Tuna, And Delicate Whitefish & Tuna Entr\\u00e9e, Easy Peel Twin-Pack\",\"SHEBA PERFECT PORTIONS Cuts in Gravy Adult Wet Cat Food Trays (24 Count (pack of 2), 48 Servings), Roasted Chicken, Gourmet Salmon and Tender Turkey Entr\\u00e9e, Easy Peel Twin-Pack Trays\",\"SHEBA PERFECT PORTIONS Cuts in Gravy Adult Wet Cat Food Trays (24 Count, 48 Servings), Gourmet Salmon, Sustainable Tuna, And Delicate Whitefish & Tuna Entr\\u00e9e, Easy Peel Twin-Pack\",\"SHEBA PERFECT PORTIONS Pat\\u00e9 Adult Wet Cat Food Trays (24 Count, 48 Servings), Savory Chicken, Roasted Turkey, and Tender Beef Entr\\u00e9e, Easy Peel Twin-Pack Trays\",\"SHEBA PERFECT PORTIONS Cuts in Gravy Adult Wet Cat Food Trays (24 Count, 48 Servings), Gourmet Salmon, Sustainable Tuna, And Delicate Whitefish & Tuna Entr\\u00e9e, Easy Peel Twin-Pack\",\"SHEBA PERFECT PORTIONS Cuts in Gravy Adult Wet Cat Food Trays, Roasted Chicken, Gourmet Salmon, and Sustainable Tuna Entr\\u00e9e, Easy Peel Twin-Pack - 18 Count (Pack of 2)\",\"SHEBA PERFECT PORTIONS Cuts in Gravy Wet Cat Food Trays (24 Count, 48 Servings), Roasted Chicken Entr\\u00e9e, Easy Peel Twin-Pack Trays\",\"SHEBA PERFECT PORTIONS Pat\\u00e9 Adult Wet Cat Food Trays (24 Count, 48 Servings), Savory Chicken, Roasted Turkey, and Tender Beef Entr\\u00e9e, Easy Peel Twin-Pack Trays\",\"Sheba Perfect PORTIONS Bistro Wet Cat Food Trays (24 Count, 48 Servings), Salmon in Creamy Sauce Entr\\u00e9e, Easy Peel Twin-Pack Trays\",\"SHEBA PERFECT PORTIONS Cuts in Gravy Wet Cat Food Trays (24 Count, 48 Servings), Mixed Grill Entr\\u00e9e, Easy Peel Twin-Pack Trays, 2.6 Ounce (Pack of 24)\",\"Sheba Perfect PORTIONS Bistro Wet Cat Food Trays (24 Count, 48 Servings), Salmon in Creamy Sauce Entr\\u00e9e, Easy Peel Twin-Pack Trays\",\"Sheba Perfect PORTIONS Cuts in Gravy Wet Cat Food Trays (36 Count, 72 Servings), Roasted Chicken, Signature Tuna and Tender Turkey Entr\\u00e9e, Easy Peel Twin-Pack Trays\",\"SHEBA PERFECT PORTIONS Cuts in Gravy Wet Cat Food Trays (24 Count, 48 Servings), Mixed Grill Entr\\u00e9e, Easy Peel Twin-Pack Trays, 2.6 Ounce (Pack of 24)\",\"SHEBA PERFECT PORTIONS Cuts in Gravy Wet Cat Food Trays (24 Count, 48 Servings), Gourmet Salmon & Seafood Entr\\u00e9e, Easy Peel Twin-Pack Trays\"],\"legendgroup\":\"Sheba\",\"marker\":{\"color\":\"#ab63fa\",\"size\":[62410,23377,44758,17418,37436,13027,90925,2971,3218,14666,1359,9836,438,613,652,349],\"sizemode\":\"area\",\"sizeref\":367.6975,\"symbol\":\"circle\"},\"mode\":\"markers\",\"name\":\"Sheba\",\"orientation\":\"v\",\"showlegend\":true,\"x\":[4.6,4.6,4.6,4.7,4.7,4.6,4.6,4.5,4.6,4.6,4.6,4.6,4.6,4.6,4.6,4.6],\"xaxis\":\"x\",\"y\":[11790318.604968794,8011898.668820358,5486370.282125468,344836.210841,267577.92619,201691.231266,100448.14329200001,97460.11832400001,32858.52196,17326.391946,16059.282459416041,3043.095994443282,2719.6427519999997,1656.871699,750.15432,5.076],\"yaxis\":\"y\",\"type\":\"scatter\"},{\"hovertemplate\":\"\\u003cb\\u003e%{hovertext}\\u003c\\u002fb\\u003e\\u003cbr\\u003e\\u003cbr\\u003eBrand=Iams\\u003cbr\\u003eProduct Rating=%{x}\\u003cbr\\u003eRevenue ($)=%{y}\\u003cbr\\u003eNumber of Reviews=%{marker.size}\\u003cextra\\u003e\\u003c\\u002fextra\\u003e\",\"hovertext\":[\"IAMS PROACTIVE HEALTH Adult Indoor Weight Control & Hairball Care Dry Cat Food with Chicken & Turkey Cat Kibble, 7 lb. Bag\",\"IAMS PROACTIVE HEALTH Adult Healthy Dry Cat Food with Chicken Cat Kibble, 22 lb. Bag\",\"Iams Proactive Health Healthy Kitten Dry Cat Food and Grain Free Pat\\u00e9 Wet Cat Food, Chicken Recipes\",\"IAMS PROACTIVE HEALTH Adult Urinary Tract Healthy Dry Cat Food with Chicken Cat Kibble, 16 lb. Bag\",\"IAMS PROACTIVE HEALTH Adult Healthy Dry Cat Food with Salmon Cat Kibble, 16 lb. Bag\",\"IAMS PERFECT PORTIONS Indoor Adult Grain Free* Wet Cat Food Cuts in Gravy, Tuna Recipe, (24) 2.6 oz. Easy Peel Twin-Pack Trays\",\"IAMS Proactive Health Adult Indoor Weight & Hairball Care Dry Cat Food with Salmon, 7 lb. Bag\",\"IAMS PROACTIVE HEALTH Adult Urinary Tract Healthy Dry Cat Food with Chicken Cat Kibble, 16 lb. Bag\",\"Iams Proactive Health Healthy Adult Dry Cat Food and Grain Free Pat\\u00e9 Wet Cat Food, Chicken Recipes\",\"IAMS PROACTIVE HEALTH Adult Healthy Dry Cat Food with Chicken Cat Kibble, 22 lb. Bag\",\"IAMS PROACTIVE HEALTH Adult Healthy Dry Cat Food with Salmon Cat Kibble, 16 lb. Bag\"],\"legendgroup\":\"Iams\",\"marker\":{\"color\":\"#FFA15A\",\"size\":[36878,20139,17125,11695,20139,6321,36352,10761,14722,14723,14723],\"sizemode\":\"area\",\"sizeref\":367.6975,\"symbol\":\"circle\"},\"mode\":\"markers\",\"name\":\"Iams\",\"orientation\":\"v\",\"showlegend\":true,\"x\":[4.8,4.8,4.8,4.8,4.8,4.6,4.8,4.8,4.8,4.8,4.8],\"xaxis\":\"x\",\"y\":[10218460.580630884,4462422.81695425,4077930.3516500467,3762806.4374171966,3303754.6700389967,2586943.61101375,1539095.9424064,123785.34418612499,98084.272344,58671.077785999994,55675.558731],\"yaxis\":\"y\",\"type\":\"scatter\"},{\"hovertemplate\":\"\\u003cb\\u003e%{hovertext}\\u003c\\u002fb\\u003e\\u003cbr\\u003e\\u003cbr\\u003eBrand=Hill'S Science Diet\\u003cbr\\u003eProduct Rating=%{x}\\u003cbr\\u003eRevenue ($)=%{y}\\u003cbr\\u003eNumber of Reviews=%{marker.size}\\u003cextra\\u003e\\u003c\\u002fextra\\u003e\",\"hovertext\":[\"Hill's Science Diet Dry Cat Food, Adult, Sensitive Stomach & Skin\",\"Hill's Science Diet Dry Cat Food, Adult, Perfect Weight for Weight Management, Chicken Recipe, 7 lb. Bag\",\"Hill's Science Diet Dry Cat Food,Adult,Urinary & Hairball Control,Chicken Recipe,15.5 lb Bag with Wet Cat Food,Adult,Urinary & Hairball Control,Savory Chicken Recipe,2.9 oz Cans,24-pack\",\"Hill's Science Diet Adult Indoor Cat Food, Chicken Recipe Dry Cat Food, 7 lb. Bag\",\"Hill's Science Diet Dry Cat Food, Adult, Perfect Weight for Weight Management, Chicken Recipe, 7 lb. Bag\",\"Hill's Science Diet Adult Indoor Cat Food, Chicken Recipe Dry Cat Food, 7 lb. Bag\",\"Hill's Science Diet Dry Cat Food, Adult, Urinary & Hairball Control, Chicken Recipe, 15.5 lb. Bag\",\"Hill's Science Diet Dry Cat Food, Adult, Sensitive Stomach & Skin, Chicken & Rice Recipe, 7 lb Bag\",\"Hill's Science Diet Dry Cat Food, Adult, Sensitive Stomach & Skin, Chicken & Rice Recipe, 7 lb Bag\",\"Hill's Science Diet Dry Cat Food, Adult, Sensitive Stomach & Skin, Chicken & Rice Recipe, 3.5 lb. Bag\",\"Hill's Science Diet Dry Cat Food, Adult, Perfect Weight for Weight Management, Chicken Recipe, 7 lb. Bag\",\"Hill's Pet Nutrition Science Diet, Grain Free Dry Cat Food, Adult, Sensitive Stomach & Skin, Salmon & Yellow Pea Recipe, 13 lb. Bag\",\"Hill's Science Diet Adult Indoor Cat Food, Chicken Recipe Dry Cat Food\",\"Hill's Science Diet Adult Indoor Cat Food, Chicken Recipe Dry Cat Food\",\"Hill's Pet Nutrition Science Diet, Grain Free Dry Cat Food, Adult, Sensitive Stomach & Skin, Salmon & Yellow Pea Recipe, 13 lb. Bag\",\"Hill's Science Diet Dry Cat Food, Adult, Urinary & Hairball Control, Chicken Recipe, 15.5 lb. Bag\",\"Hill's Science Diet Adult Indoor Cat Food, Chicken Recipe Dry Cat Food\",\"Hill's Science Diet Dry Cat Food, Adult, Urinary & Hairball Control, Chicken Recipe, 15.5 lb. Bag\",\"Hill's Science Diet Dry Cat Food, Adult, Sensitive Stomach & Skin, Chicken & Rice Recipe, 3.5 lb. Bag\",\"Hill's Science Diet Dry Cat Food, Adult, Sensitive Stomach & Skin, Chicken & Rice Recipe, 7 lb Bag\",\"Hill's Science Diet Dry Cat Food, Adult, Sensitive Stomach & Skin, Chicken & Rice Recipe, 7 lb Bag\",\"Hill's Science Diet Dry Cat Food, Adult, Urinary & Hairball Control, Chicken Recipe, 15.5 lb. Bag\",\"Hill's Pet Nutrition Science Diet, Grain Free Dry Cat Food, Adult, Sensitive Stomach & Skin, Salmon & Yellow Pea Recipe, 13 lb. Bag\",\"Hill's Science Diet Dry Cat Food, Adult, Urinary & Hairball Control, Chicken Recipe, 15.5 lb. Bag\",\"Hill's Science Diet Adult Indoor Cat Food, Chicken Recipe Dry Cat Food\",\"Hill's Science Diet Adult Indoor Cat Food, Chicken Recipe Dry Cat Food\",\"Hill's Science Diet Dry Cat Food, Adult, Sensitive Stomach & Skin, Chicken & Rice Recipe, 7 lb Bag\",\"Hill's Science Diet Dry Cat Food, Adult, Sensitive Stomach & Skin, Chicken & Rice Recipe, 7 lb Bag\",\"Hill's Science Diet Dry Cat Food, Adult, Urinary & Hairball Control, Chicken Recipe, 15.5 lb. Bag\",\"Hill's Science Diet Adult Indoor Chicken Recipe Dry Cat Food, 15.5 lb. Bag\",\"Hill's Science Diet Adult Indoor Cat Food, Chicken Recipe Dry Cat Food, 7 lb. Bag\"],\"legendgroup\":\"Hill'S Science Diet\",\"marker\":{\"color\":\"#19d3f3\",\"size\":[30,11627,7742,13220,12111,13837,12693,12867,12661,3864,10582,12934,13934,13922,1240,12141,13837,12416,3293,12555,4440,11342,12934,11453,12660,12629,8442,12378,11462,12668,12668],\"sizemode\":\"area\",\"sizeref\":367.6975,\"symbol\":\"circle\"},\"mode\":\"markers\",\"name\":\"Hill'S Science Diet\",\"orientation\":\"v\",\"showlegend\":true,\"x\":[4.4,4.7,4.7,4.7,4.8,4.7,4.7,4.7,4.7,4.7,4.7,4.7,4.7,4.7,4.7,4.7,4.7,4.7,4.7,4.7,4.7,4.7,4.7,4.7,4.7,4.7,4.7,4.7,4.7,4.7,4.7],\"xaxis\":\"x\",\"y\":[8618953.605551405,4448349.7152700005,3945430.3834565156,3402967.4274560693,2677923.291397,2514960.62817125,2488489.60560325,1136791.9477758845,1117686.9212862626,1106395.875391,734231.873008,583595.331261,583177.3069348033,576605.3233223184,409312.119464,375881.4048332,305748.847692,254820.93155375,128512.96519086929,111148.74415319231,84398.187321,61828.019648,58287.94410100001,42822.3830095,33870.390851,33691.607796,26322.17972376923,22352.540140000005,17922.322446000002,16112.476860000002,7412.33535],\"yaxis\":\"y\",\"type\":\"scatter\"},{\"hovertemplate\":\"\\u003cb\\u003e%{hovertext}\\u003c\\u002fb\\u003e\\u003cbr\\u003e\\u003cbr\\u003eBrand=Meow Mix\\u003cbr\\u003eProduct Rating=%{x}\\u003cbr\\u003eRevenue ($)=%{y}\\u003cbr\\u003eNumber of Reviews=%{marker.size}\\u003cextra\\u003e\\u003c\\u002fextra\\u003e\",\"hovertext\":[\"Meow Mix Original Choice Dry Cat Food, 22 Pound Bag\",\"Meow Mix Tender Centers Basted Bites Dry Cat Food, Beef & Salmon Flavors, 3 Pound Bag (Pack of 4)\",\"Meow Mix Original Choice Dry Cat Food, 16 Pound Bag\",\"Meow Mix Tender Centers Basted Bites Dry Cat Food, Beef & Salmon Flavors, 3 Pound Bag (Pack of 4)\",\"Meow Mix Tender Centers Basted Bites Dry Cat Food, Beef & Salmon Flavors, 3 Pound Bag (Pack of 4)\"],\"legendgroup\":\"Meow Mix\",\"marker\":{\"color\":\"#FF6692\",\"size\":[42267,10891,42267,14575,108],\"sizemode\":\"area\",\"sizeref\":367.6975,\"symbol\":\"circle\"},\"mode\":\"markers\",\"name\":\"Meow Mix\",\"orientation\":\"v\",\"showlegend\":true,\"x\":[4.7,4.7,4.7,4.7,4.7],\"xaxis\":\"x\",\"y\":[8048555.926101333,991397.2543627657,103845.208052,68080.15917,11374.082400000001],\"yaxis\":\"y\",\"type\":\"scatter\"},{\"hovertemplate\":\"\\u003cb\\u003e%{hovertext}\\u003c\\u002fb\\u003e\\u003cbr\\u003e\\u003cbr\\u003eBrand=Sheba Wet Food\\u003cbr\\u003eProduct Rating=%{x}\\u003cbr\\u003eRevenue ($)=%{y}\\u003cbr\\u003eNumber of Reviews=%{marker.size}\\u003cextra\\u003e\\u003c\\u002fextra\\u003e\",\"hovertext\":[\"SHEBA PERFECT PORTIONS Pat\\u00e9 Adult Wet Cat Food Trays (24 Count, 48 Servings), Savory Chicken and Roasted Turkey Entr\\u00e9e, Easy Peel Twin-Pack Trays\",\"Sheba Wet Food PERFECT PORTIONS Pat\\u00e9 Adult Wet Cat Food Trays (24 Count, 48 Servings), Savory Chicken Entr\\u00e9e, Easy Peel Twin-Pack Trays\",\"Sheba Wet Food PERFECT PORTIONS Pat\\u00e9 Adult Wet Cat Food Trays (24 Count, 48 Servings), Savory Chicken Entr\\u00e9e, Easy Peel Twin-Pack Trays\"],\"legendgroup\":\"Sheba Wet Food\",\"marker\":{\"color\":\"#B6E880\",\"size\":[63073,3364,7319],\"sizemode\":\"area\",\"sizeref\":367.6975,\"symbol\":\"circle\"},\"mode\":\"markers\",\"name\":\"Sheba Wet Food\",\"orientation\":\"v\",\"showlegend\":true,\"x\":[4.6,4.6,4.6],\"xaxis\":\"x\",\"y\":[7582000.876917575,37467.803868,18747.423536],\"yaxis\":\"y\",\"type\":\"scatter\"},{\"hovertemplate\":\"\\u003cb\\u003e%{hovertext}\\u003c\\u002fb\\u003e\\u003cbr\\u003e\\u003cbr\\u003eBrand=Orijen\\u003cbr\\u003eProduct Rating=%{x}\\u003cbr\\u003eRevenue ($)=%{y}\\u003cbr\\u003eNumber of Reviews=%{marker.size}\\u003cextra\\u003e\\u003c\\u002fextra\\u003e\",\"hovertext\":[\"ORIJEN GUARDIAN 8 Dry Cat Food, Grain Free Cat Food for Adult Cats, With Chicken, Salmon and Rabbit, 10lb\",\"ORIJEN GUARDIAN 8 Dry Cat Food, Grain Free Cat Food for Adult Cats, With Chicken, Salmon and Rabbit, 10lb\",\"ORIJEN GUARDIAN 8 Dry Cat Food, Grain Free Cat Food for Adult Cats, With Chicken, Salmon and Rabbit, 10lb\",\"ORIJEN GUARDIAN 8 Dry Cat Food, Grain Free Cat Food for Adult Cats, With Chicken, Salmon and Rabbit, 10lb\"],\"legendgroup\":\"Orijen\",\"marker\":{\"color\":\"#FF97FF\",\"size\":[5691,6524,6254,5288],\"sizemode\":\"area\",\"sizeref\":367.6975,\"symbol\":\"circle\"},\"mode\":\"markers\",\"name\":\"Orijen\",\"orientation\":\"v\",\"showlegend\":true,\"x\":[4.6,4.6,4.7,4.7],\"xaxis\":\"x\",\"y\":[6147031.022635125,282471.27980811655,228356.46897003334,156418.95288483333],\"yaxis\":\"y\",\"type\":\"scatter\"},{\"hovertemplate\":\"\\u003cb\\u003e%{hovertext}\\u003c\\u002fb\\u003e\\u003cbr\\u003e\\u003cbr\\u003eBrand=Blue Buffalo\\u003cbr\\u003eProduct Rating=%{x}\\u003cbr\\u003eRevenue ($)=%{y}\\u003cbr\\u003eNumber of Reviews=%{marker.size}\\u003cextra\\u003e\\u003c\\u002fextra\\u003e\",\"hovertext\":[\"Blue Buffalo Cat Food, Natural Chicken Recipe, Wilderness High Protein, Adult Dry Cat Food, 12 lb bag\",\"Blue Buffalo Tastefuls Sensitive Stomach Natural Adult Dry Cat Food, Chicken 15lb bag\",\"Blue Buffalo Wilderness High Protein, Natural Adult Dry Cat Food, Chicken 6-lb\",\"Blue Buffalo Wilderness High Protein Grain Free, Natural Adult Pate Wet Cat Food, Chicken 5.5-oz cans (Pack of 24)\",\"Blue Buffalo Tastefuls Natural Pate Wet Cat Food, Turkey & Chicken Entr\\u00e9e 5.5-oz cans (Pack of 24)\",\"Blue Buffalo Wilderness High Protein Grain Free, Natural Kitten Pate Wet Cat Food Variety Pack, Chicken, Salmon, 3-oz Can, 24 Count\",\"Blue Buffalo Cat Food, Natural Chicken Recipe, Wilderness High Protein, Adult Dry Cat Food, 12 lb bag\",\"Blue Buffalo Wilderness High Protein, Natural Grain Free Kitten Food Bundle, Dry Cat Food and Wet Cat Food, Chicken (5-lb Dry Food + 3oz cans 24ct)\",\"Blue Buffalo Tastefuls Natural Flaked Wet Cat Food, Chicken Entr\\u00e9e in Gravy 5.5-oz cans (Pack of 24)\",\"Blue Buffalo Wilderness High Protein, Natural Adult Dry Cat Food, Chicken 6-lb\",\"Blue Buffalo Tastefuls Natural Flaked Wet Cat Food Bundle, Flaked Chicken and Tuna 3-oz cans (48 Count- 24 of Each Flavor)\",\"Blue Buffalo Wilderness High Protein Grain Free, Natural Adult Pate Wet Cat Food, Turkey 5.5-oz cans (Pack of 24)\",\"Blue Buffalo Tastefuls Natural Pate Wet Cat Food, Turkey & Chicken Entr\\u00e9e 5.5-oz cans (Pack of 24)\",\"Blue Buffalo Cat Food, Natural Chicken Recipe, Wilderness High Protein, Adult Dry Cat Food, 12 lb bag\",\"Blue Buffalo Wilderness High Protein Grain Free, Natural Adult Pate Wet Cat Food, Chicken 5.5-oz cans (Pack of 24)\",\"Blue Buffalo Wilderness High Protein Grain Free, Natural Adult Pate Wet Cat Food, Chicken 5.5-oz cans (Pack of 24)\",\"Blue Buffalo Wilderness High Protein, Natural Adult Dry Cat Food, Chicken 6-lb\",\"Blue Buffalo Wilderness High Protein, Natural Adult Dry Cat Food, Chicken 6-lb\",\"Blue Buffalo Tastefuls Indoor Natural Adult Dry Cat Food, Chicken 15lb bag\",\"Blue Buffalo Wilderness High Protein, Natural Adult Dry Cat Food, Chicken 6-lb\",\"Blue Buffalo Tastefuls Indoor Natural Adult Dry Cat Food, Chicken 15lb bag\",\"Blue Buffalo Tastefuls Natural Pate Wet Cat Food, Turkey & Chicken Entr\\u00e9e 5.5-oz cans (Pack of 24)\",\"Blue Buffalo Cat Food, Natural Chicken Recipe, Wilderness High Protein, Adult Dry Cat Food, 12 lb bag\",\"Blue Buffalo Wilderness High Protein, Natural Adult Dry Cat Food, Chicken 6-lb\",\"Blue Buffalo Cat Food, Natural Chicken Recipe, Wilderness High Protein, Adult Dry Cat Food, 12 lb bag\",\"Blue Buffalo Wilderness High Protein, Natural Adult Dry Cat Food, Duck 11-lb\",\"Blue Buffalo Tastefuls Natural Flaked Wet Cat Food, Salmon Entr\\u00e9e in Gravy 3-oz cans (Pack of 24)\",\"Blue Buffalo Wilderness High Protein, Natural Adult Dry Cat Food, Chicken 6-lb\",\"Blue Buffalo Cat Food, Natural Chicken Recipe, Wilderness High Protein, Adult Dry Cat Food, 12 lb bag\",\"Blue Buffalo Cat Food, Natural Chicken Recipe, Wilderness High Protein, Adult Dry Cat Food, 12 lb bag\",\"Blue Buffalo Wilderness High Protein, Natural Grain Free Kitten Food Bundle, Dry Cat Food and Wet Cat Food, Chicken (5-lb Dry Food + 3oz cans 24ct)\",\"Blue Buffalo Tastefuls Indoor Natural Adult Dry Cat Food, Chicken 15lb bag\",\"Blue Buffalo Tastefuls Natural Flaked Wet Cat Food Bundle, Flaked Chicken and Tuna 3-oz cans (48 Count- 24 of Each Flavor)\",\"Blue Buffalo Tastefuls Indoor Natural Adult Dry Cat Food, Chicken 15lb bag\",\"Blue Buffalo Cat Food, Natural Chicken Recipe, Wilderness High Protein, Adult Dry Cat Food, 12 lb bag\",\"Blue Buffalo Tastefuls Natural Flaked Wet Cat Food Bundle, Flaked Chicken and Tuna 3-oz cans (48 Count- 24 of Each Flavor)\",\"Blue Buffalo Tastefuls Natural Flaked Wet Cat Food, Fish & Shrimp Entr\\u00e9e in Gravy 3-oz cans (Pack of 24)\",\"Blue Buffalo Tastefuls Sensitive Stomach Natural Adult Dry Cat Food, Chicken 15lb bag\",\"Blue Buffalo Tastefuls Natural Flaked Wet Cat Food, Salmon Entr\\u00e9e in Gravy 3-oz cans (Pack of 24)\",\"Blue Buffalo Wilderness High Protein, Natural Adult Dry Cat Food, Chicken 6-lb\",\"Blue Buffalo Tastefuls Natural Flaked Wet Cat Food Bundle, Flaked Chicken and Tuna 5.5-oz cans (48 Count- 24 of Each Flavor)\",\"Blue Buffalo Tastefuls Natural Flaked Wet Cat Food, Chicken Entr\\u00e9e in Gravy 5.5-oz cans (Pack of 24)\",\"Blue Buffalo Wilderness High Protein Grain Free, Natural Kitten Pate Wet Cat Food Variety Pack, Chicken, Salmon, 3-oz Can, 24 Count\"],\"legendgroup\":\"Blue Buffalo\",\"marker\":{\"color\":\"#FECB52\",\"size\":[7131,21481,25984,4938,4503,8954,8779,1505,2275,9828,14723,17148,4743,17891,17147,17945,36095,855,33087,17436,13682,4273,16548,9589,7138,17494,10838,17494,8963,8913,8139,5227,8950,13650,17426,1961,333,10494,540,1708,1863,1863,8113],\"sizemode\":\"area\",\"sizeref\":367.6975,\"symbol\":\"circle\"},\"mode\":\"markers\",\"name\":\"Blue Buffalo\",\"orientation\":\"v\",\"showlegend\":true,\"x\":[4.7,4.4,4.7,4.3,4.3,4.5,4.7,4.6,4.3,4.7,4.3,4.3,4.3,4.7,4.3,4.3,4.7,4.6,4.7,4.7,4.7,4.3,4.7,4.7,4.7,4.7,4.3,4.7,4.7,4.7,4.8,4.699999999999999,4.3,4.7,4.7,4.2,4.3,4.7,4.3,4.75,4.3,4.3,4.5],\"xaxis\":\"x\",\"y\":[5217891.6966063995,5023172.355946284,4402311.778025945,2797640.344409146,2600061.507428845,2486861.9477012684,2122530.6223755,1830832.4565882501,1809531.3248970082,1455761.0373141665,1383072.5878793548,1247003.2363379726,992605.1174570001,986075.872445,979436.9395864999,886472.3964137381,427884.65187974996,422715.7362945,377454.98197674996,354979.138644,277184.88718200003,260175.63379975,253558.97991700002,216439.98926899998,139688.66861975,130175.471805,124989.3448835,119026.703924,117230.57451,107468.234496,93436.359645,86010.590084,76511.14328450001,74842.273844,70950.38643000001,57308.6115,52861.180232,17744.126819999998,17724.925746,15687.359796249999,12412.255486,7418.822509999999,6991.361980000001],\"yaxis\":\"y\",\"type\":\"scatter\"},{\"hovertemplate\":\"\\u003cb\\u003e%{hovertext}\\u003c\\u002fb\\u003e\\u003cbr\\u003e\\u003cbr\\u003eBrand=Iris Usa, Inc.\\u003cbr\\u003eProduct Rating=%{x}\\u003cbr\\u003eRevenue ($)=%{y}\\u003cbr\\u003eNumber of Reviews=%{marker.size}\\u003cextra\\u003e\\u003c\\u002fextra\\u003e\",\"hovertext\":[\"IRIS USA 50Lbs.\\u002f69Qt. WeatherPro Airtight Pet Food Storage Container with Attachable Casters, For Dog Cat Bird and Other Pet Food Storage Bin, Keep Fresh, Translucent Body, Easy Mobility, Black\",\"IRIS USA 55qt\\u002f45lbs Premium Airtight Pet Food Storage Container, Smoke\",\"IRIS USA 3-Piece 35 Lbs \\u002f 45 Qt WeatherPro Airtight Pet Food Storage Container Combo with Scoop and Treat Box for Dog Cat and Bird Food, Keep Pests Out, Translucent Body, Easy Mobility, Dark Gray\",\"IRIS USA 50 Lbs \\u002f 65 Qt WeatherPro Airtight Pet Food Storage Container with Removable Casters, For Dog Cat Bird Keep Pests Out Translucent Body Easy Mobility, Clear\\u002fGray\",\"IRIS USA 55qt\\u002f45lbs Premium Airtight Pet Food Storage Container, Smoke\",\"IRIS USA 3-Piece 35 Lbs \\u002f 45 Qt WeatherPro Airtight Pet Food Storage Container Combo with Scoop and Treat Box for Dog Cat and Bird Food, Keep Pests Out, Translucent Body, Easy Mobility, Dark Gray\",\"IRIS USA 3-Piece 35 Lbs \\u002f 45 Qt WeatherPro Airtight Pet Food Storage Container Combo with Scoop and Treat Box for Dog Cat and Bird Food, Keep Pests Out, Translucent Body, Easy Mobility, Orange\",\"IRIS USA 3-Piece 35 Lbs \\u002f 45 Qt WeatherPro Airtight Pet Food Storage Container Combo with Scoop and Treat Box for Dog Cat and Bird Food, Keep Pests Out, Translucent Body, Easy Mobility, Orange\",\"IRIS USA 50Lbs.\\u002f69Qt. WeatherPro Airtight Pet Food Storage Container with Attachable Casters, For Dog Cat Bird and Other Pet Food Storage Bin, Keep Fresh, Translucent Body, Easy Mobility, Black\",\"IRIS USA 55qt\\u002f45lbs Premium Airtight Pet Food Storage Container, Smoke\",\"IRIS USA 3-Piece 35 Lbs \\u002f 45 Qt WeatherPro Airtight Pet Food Storage Container Combo with Scoop and Treat Box for Dog Cat and Bird Food, Keep Pests Out, Translucent Body, Easy Mobility, Dark Gray\",\"IRIS USA 50 Lbs \\u002f 65 Qt WeatherPro Airtight Pet Food Storage Container with Removable Casters, For Dog Cat Bird Keep Pests Out Translucent Body Easy Mobility, Clear\\u002fGray\",\"IRIS USA 33qt + 12qt Airtight Pet Food Storage Container Combo with Scoop, Black\",\"IRIS USA 35Lbs.\\u002f47Qt. WeatherPro Airtight Pet Food Storage Container with Attachable Casters, For Dog Cat Bird and Other Pet Food Storage Bin, Keep Fresh, Translucent Body, Easy Mobility, Black\",\"IRIS USA 3-Piece 35 Lbs \\u002f 45 Qt WeatherPro Airtight Pet Food Storage Container Combo with Scoop and Treat Box for Dog Cat and Bird Food, Keep Pests Out, Translucent Body, Easy Mobility, Orange\",\"IRIS USA 55qt\\u002f45lbs Premium Airtight Pet Food Storage Container, Smoke\"],\"legendgroup\":\"Iris Usa, Inc.\",\"marker\":{\"color\":\"#636efa\",\"size\":[52751,7616,51005,3595,50635,53462,18271,68552,52811,26814,57763,38926,55993,1760,1112,11094],\"sizemode\":\"area\",\"sizeref\":367.6975,\"symbol\":\"circle\"},\"mode\":\"markers\",\"name\":\"Iris Usa, Inc.\",\"orientation\":\"v\",\"showlegend\":true,\"x\":[4.6,4.6,4.6,4.6,4.5,4.6,4.6,4.6,4.6,4.5,4.6,4.6,4.6,4.5,4.4,4.5],\"xaxis\":\"x\",\"y\":[4146325.199427,2201854.34137025,1768486.7823182417,1709042.6115508124,1141732.51838425,829565.562728875,694885.2234210001,488148.35540137504,209796.1765495,77473.32988,27848.835299000006,26402.2663115,15481.525325,14886.420796,8567.793464,6146.043598],\"yaxis\":\"y\",\"type\":\"scatter\"},{\"hovertemplate\":\"\\u003cb\\u003e%{hovertext}\\u003c\\u002fb\\u003e\\u003cbr\\u003e\\u003cbr\\u003eBrand=Instinct\\u003cbr\\u003eProduct Rating=%{x}\\u003cbr\\u003eRevenue ($)=%{y}\\u003cbr\\u003eNumber of Reviews=%{marker.size}\\u003cextra\\u003e\\u003c\\u002fextra\\u003e\",\"hovertext\":[\"Instinct Original Grain Free Recipe with Real Chicken Natural Dry Cat Food, 11 lb. Bag\",\"Instinct Original Grain Free Real Salmon Recipe Natural Wet Canned Cat Food by Nature's Variety, 3 oz. Cans (Case of 24)\",\"Instinct Original Grain Free Real Salmon Recipe Natural Wet Canned Cat Food by Nature's Variety, 3 oz. Cans (Case of 24)\"],\"legendgroup\":\"Instinct\",\"marker\":{\"color\":\"#EF553B\",\"size\":[5939,4568,4498],\"sizemode\":\"area\",\"sizeref\":367.6975,\"symbol\":\"circle\"},\"mode\":\"markers\",\"name\":\"Instinct\",\"orientation\":\"v\",\"showlegend\":true,\"x\":[4.6,4.2,4.2],\"xaxis\":\"x\",\"y\":[4106847.607139555,3454965.55284022,304235.4262657071],\"yaxis\":\"y\",\"type\":\"scatter\"},{\"hovertemplate\":\"\\u003cb\\u003e%{hovertext}\\u003c\\u002fb\\u003e\\u003cbr\\u003e\\u003cbr\\u003eBrand=Purina Pro Plan\\u003cbr\\u003eProduct Rating=%{x}\\u003cbr\\u003eRevenue ($)=%{y}\\u003cbr\\u003eNumber of Reviews=%{marker.size}\\u003cextra\\u003e\\u003c\\u002fextra\\u003e\",\"hovertext\":[\"Purina Pro Plan Sensitive Skin and Stomach Cat Food, Lamb and Rice Formula - 22 lb. Bag\",\"Purina Pro Plan Urinary Tract - (24) 3 oz. Pull-Top Cans\",\"Purina Pro Plan Urinary Tract Health Chicken Entree in Gravy Cat Food - (24) 3 oz. Pull-Top Cans\",\"Purina Pro Plan High Protein Wet Kitten Food Variety Pack, DEVELOPMENT Kitten Favorites - (24) 3 oz. Cans\",\"Purina Pro Plan Complete Essentials High Protein Cat Food Wet Turkey and Giblets Entree - 5.5 oz. Can\",\"Purina Pro Plan Allergen Reducing, High Protein Cat Food, LIVECLEAR Salmon and Rice Formula - 16 lb. Bag\",\"Purina Pro Plan Allergen Reducing, High Protein Cat Food, LIVECLEAR Chicken and Rice Formula - 7 lb. Bag\",\"Purina Pro Plan High Protein Cat Food Gravy, White Meat Chicken and Vegetable Entree - (24) 3 oz. Pull-Top Cans\",\"Purina Pro Plan Allergen Reducing, High Protein Cat Food, LIVECLEAR Chicken and Rice Formula - 16 lb. Bag\",\"Purina Pro Plan Allergen Reducing, High Protein Cat Food, LIVECLEAR Chicken and Rice Formula - 16 lb. Bag\",\"Purina Pro Plan Sensitive Skin and Stomach Cat Food Wet Pate, Sensitive Skin and Stomach Entree - (24) 3 oz. Pull-Top Cans.\",\"Purina Pro Plan Allergen Reducing, High Protein Cat Food, LIVECLEAR Chicken and Rice Formula - 16 lb. Bag\",\"Purina Pro Plan Urinary Tract Health Chicken Entree in Gravy Cat Food - (24) 3 oz. Pull-Top Cans\",\"Purina Pro Plan Complete Essentials High Protein Cat Food Wet Turkey and Giblets Entree - 5.5 oz. Can\",\"Purina Pro Plan Allergen Reducing, High Protein Cat Food, LIVECLEAR Salmon and Rice Formula - 16 lb. Bag\",\"Purina Pro Plan Urinary Tract - (24) 3 oz. Pull-Top Cans\",\"Purina Pro Plan Complete Essentials High Protein Cat Food Wet Turkey and Giblets Entree - 5.5 oz. Can\",\"Purina Pro Plan Allergen Reducing, High Protein Cat Food, LIVECLEAR Salmon and Rice Formula - 16 lb. Bag\",\"Purina Pro Plan High Protein Cat Food Gravy, White Meat Chicken and Vegetable Entree - (24) 3 oz. Pull-Top Cans\",\"Purina Pro Plan High Protein Cat Food Gravy, White Meat Chicken and Vegetable Entree - (24) 3 oz. Pull-Top Cans\",\"Purina Pro Plan Grain Free Pate Wet Kitten Food, Chicken Entree - 3 oz. Pull-Top Can\",\"Purina Pro Plan Complete Essentials - (24) 5.5 oz. Pull-Top Cans\",\"Purina Pro Plan Urinary Tract Cat Food, Urinary Tract Health Wet Cat Food Variety Pack Entrees - (24) 3 oz. Cans\",\"Purina Pro Plan Urinary Tract - (24) 3 oz. Pull-Top Cans\",\"Purina Pro Plan Urinary Tract - (24) 3 oz. Pull-Top Cans\",\"Purina Pro Plan Urinary Cat Food, Wet Cat Food Variety Pack, Urinary Tract - (48) 3 oz. Cans\",\"Purina Pro Plan Urinary Tract - (24) 3 oz. Cans\",\"Purina Pro Plan Urinary Tract - (24) 3 oz. Pull-Top Cans\",\"Purina Pro Plan Urinary Tract Cat Food, Urinary Tract Health Wet Cat Food Variety Pack Entrees - (24) 3 oz. Cans\",\"Purina Pro Plan Complete Essentials High Protein Cat Food Wet Turkey and Giblets Entree - 5.5 oz. Can\",\"Purina Pro Plan High Protein Wet Kitten Food Variety Pack, DEVELOPMENT Kitten Favorites - (2 Packs of 12) 3 oz. Cans\",\"Purina Pro Plan Grain Free Pate Wet Kitten Food, Chicken Entree - 3 oz. Pull-Top Can\",\"Purina Pro Plan Urinary Tract Cat Food, Urinary Tract Health Wet Cat Food Variety Pack Entrees - (24) 3 oz. Cans\",\"Purina Pro Plan Sensitive Skin and Stomach Cat Food, Lamb and Rice Formula - 16 lb. Bag\",\"Purina Pro Plan Urinary Tract Cat Food, Wet Cat Food Variety Pack, Urinary Tract Health Entrees - (36) 3 oz. Cans\",\"Purina Pro Plan High Protein Cat Food Gravy, White Meat Chicken and Vegetable Entree - (24) 3 oz. Pull-Top Cans\",\"Purina Pro Plan Grain Free, Pate, High Protein Wet Kitten Food, DEVELOPMENT Entree - (24) 3 oz. Pull-Top Cans\",\"Purina Pro Plan Grain Free, Pate, High Protein Wet Kitten Food, DEVELOPMENT Entree - (24) 3 oz. Pull-Top Cans\",\"Purina Pro Plan Urinary Tract Health Chicken Entree in Gravy Cat Food - (24) 3 oz. Pull-Top Cans\",\"Purina Pro Plan Urinary Tract - (24) 3 oz. Cans\",\"Purina Pro Plan Complete Essentials - (24) 5.5 oz. Pull-Top Cans\",\"Purina Pro Plan High Protein Cat Food Gravy, White Meat Chicken and Vegetable Entree - (24) 3 oz. Pull-Top Cans\",\"Purina Pro Plan High Protein Cat Food Gravy, White Meat Chicken and Vegetable Entree - (24) 3 oz. Pull-Top Cans\",\"Purina Pro Plan Urinary Tract - (2 Packs of 12) 3 oz. Cans\",\"Purina Pro Plan Urinary Cat Food, Wet Cat Food Variety Pack, Urinary Tract - (48) 3 oz. Cans\",\"Purina Pro Plan Complete Essentials High Protein Cat Food Wet Turkey and Giblets Entree - 5.5 oz. Can\",\"Purina Pro Plan Urinary Tract Cat Food, Wet Cat Food Variety Pack, Urinary Tract Health Entrees - (36) 3 oz. Cans\",\"Purina Pro Plan Urinary Tract Cat Food, Urinary Tract Health Wet Cat Food Variety Pack Entrees - (24) 3 oz. Cans\",\"Purina Pro Plan Complete Essentials High Protein Cat Food Wet Turkey and Giblets Entree - 5.5 oz. Can\",\"Purina Pro Plan Grain Free, Pate, High Protein Wet Kitten Food, DEVELOPMENT Entree - (24) 3 oz. Pull-Top Cans\",\"Purina Pro Plan Sensitive Skin and Stomach Cat Food Wet Pate, Sensitive Skin and Stomach Entree - (24) 3 oz. Pull-Top Cans.\",\"Purina Pro Plan High Protein Wet Kitten Food Variety Pack, DEVELOPMENT Kitten Favorites - (2 Packs of 12) 3 oz. Cans\",\"Purina Pro Plan Complete Essentials - (24) 5.5 oz. Pull-Top Cans\"],\"legendgroup\":\"Purina Pro Plan\",\"marker\":{\"color\":\"#00cc96\",\"size\":[1438,3988,7929,228,540,3343,2070,632,4583,2070,2647,2014,4465,5373,1489,2093,9963,527,3228,7234,8209,4957,1362,4191,803,794,668,3984,1341,202,6192,430,5439,3167,544,214,212,215,3976,1942,343,245,7611,445,156,1332,537,1848,531,215,3368,1176,2389],\"sizemode\":\"area\",\"sizeref\":367.6975,\"symbol\":\"circle\"},\"mode\":\"markers\",\"name\":\"Purina Pro Plan\",\"orientation\":\"v\",\"showlegend\":true,\"x\":[4.7,4.5,4.6,4.7,4.5,4.7,4.7,4.6,4.7,4.7,4.5,4.65,4.7,4.6,4.7,4.6,4.6,4.7,4.6,4.6,4.8,4.6,4.6,4.6,4.6,4.6,4.6,4.5,4.6,4.3,4.7,4.7,4.6,4.7,4.6,4.6,4.7,4.7,4.6,4.6,4.6,4.6,4.6,4.6,4.6,4.6,4.7,4.6,4.5,4.7,4.6,4.6,4.7],\"xaxis\":\"x\",\"y\":[3853044.998820146,3767898.0123691466,3598047.2047964167,2580250.1703895833,2560233.8256083042,2513340.1463099997,884697.7987668333,839258.6025258406,822769.05494725,822116.3272565,794499.7596600001,750471.78060075,735844.3184252168,679296.048864,306665.8584805,241487.3821835,232440.011677,225911.16264886488,225715.29254400003,224935.32039510697,182683.55965550002,174249.4202975,146513.84001800002,127886.45378400001,125368.28310700001,120850.90084725001,116532.283326,104982.687408,102468.69050425,82176.910992,77004.04601250001,76184.53003200001,72065.93789175,66549.87432,59295.770087,56470.937424,56163.93715500001,52588.42219525,50359.678846,40631.997879,29145.836398000003,27947.988480000004,27322.96595296154,25304.377866,23382.466490000003,17640.458092999997,17185.110045,13456.5674555,6435.020592000001,5638.37592,5049.189432,5021.41874,2157.4919040000004],\"yaxis\":\"y\",\"type\":\"scatter\"},{\"hovertemplate\":\"\\u003cb\\u003e%{hovertext}\\u003c\\u002fb\\u003e\\u003cbr\\u003e\\u003cbr\\u003eBrand=Hoki Found\\u003cbr\\u003eProduct Rating=%{x}\\u003cbr\\u003eRevenue ($)=%{y}\\u003cbr\\u003eNumber of Reviews=%{marker.size}\\u003cextra\\u003e\\u003c\\u002fextra\\u003e\",\"hovertext\":[\"Hoki Found XX-Large Silicone Pet Food Mats Tray - Non Slip Pet Dog Cat Bowl Mats Placemat - Dog Pet Cat Feeding Mat - Waterproof Dog Cat Food Mats -Pet Water Mats for Carpet -Cream Brown\"],\"legendgroup\":\"Hoki Found\",\"marker\":{\"color\":\"#ab63fa\",\"size\":[25007],\"sizemode\":\"area\",\"sizeref\":367.6975,\"symbol\":\"circle\"},\"mode\":\"markers\",\"name\":\"Hoki Found\",\"orientation\":\"v\",\"showlegend\":true,\"x\":[4.6],\"xaxis\":\"x\",\"y\":[3712204.9152255184],\"yaxis\":\"y\",\"type\":\"scatter\"},{\"hovertemplate\":\"\\u003cb\\u003e%{hovertext}\\u003c\\u002fb\\u003e\\u003cbr\\u003e\\u003cbr\\u003eBrand=Royal Canin\\u003cbr\\u003eProduct Rating=%{x}\\u003cbr\\u003eRevenue ($)=%{y}\\u003cbr\\u003eNumber of Reviews=%{marker.size}\\u003cextra\\u003e\\u003c\\u002fextra\\u003e\",\"hovertext\":[\"Royal Canin Indoor Adult Dry Cat Food, 15 lb bag\",\"Royal Canin Indoor Adult Dry Cat Food, 15 lb bag\"],\"legendgroup\":\"Royal Canin\",\"marker\":{\"color\":\"#FFA15A\",\"size\":[5418,4727],\"sizemode\":\"area\",\"sizeref\":367.6975,\"symbol\":\"circle\"},\"mode\":\"markers\",\"name\":\"Royal Canin\",\"orientation\":\"v\",\"showlegend\":true,\"x\":[4.7,4.8],\"xaxis\":\"x\",\"y\":[3474449.647098,16278.543814],\"yaxis\":\"y\",\"type\":\"scatter\"},{\"hovertemplate\":\"\\u003cb\\u003e%{hovertext}\\u003c\\u002fb\\u003e\\u003cbr\\u003e\\u003cbr\\u003eBrand=Rachael Ray Nutrish\\u003cbr\\u003eProduct Rating=%{x}\\u003cbr\\u003eRevenue ($)=%{y}\\u003cbr\\u003eNumber of Reviews=%{marker.size}\\u003cextra\\u003e\\u003c\\u002fextra\\u003e\",\"hovertext\":[\"Rachael Ray Nutrish Indoor Complete Premium Natural Dry Cat Food, Chicken with Lentils & Salmon Recipe, 14 Pounds (Packaging May Vary)\",\"Rachael Ray Nutrish Inner Health Premium Natural Dry Cat Food, Turkey with Chickpeas & Salmon Recipe, 14 Pounds\",\"Rachael Ray Nutrish Inner Health Premium Natural Dry Cat Food, Turkey with Chickpeas & Salmon Recipe, 14 Pounds\",\"Rachael Ray Nutrish Longevity Premium Natural Dry Cat Food, Chicken with Chickpeas & Salmon Recipe, 14 Pounds (Packaging May Vary)\"],\"legendgroup\":\"Rachael Ray Nutrish\",\"marker\":{\"color\":\"#19d3f3\",\"size\":[15200,22673,4925,1855],\"sizemode\":\"area\",\"sizeref\":367.6975,\"symbol\":\"circle\"},\"mode\":\"markers\",\"name\":\"Rachael Ray Nutrish\",\"orientation\":\"v\",\"showlegend\":true,\"x\":[4.7,4.6,4.4,4.6],\"xaxis\":\"x\",\"y\":[3461223.4944418543,671188.924392,146344.537916,76823.418506],\"yaxis\":\"y\",\"type\":\"scatter\"},{\"hovertemplate\":\"\\u003cb\\u003e%{hovertext}\\u003c\\u002fb\\u003e\\u003cbr\\u003e\\u003cbr\\u003eBrand=Reopet\\u003cbr\\u003eProduct Rating=%{x}\\u003cbr\\u003eRevenue ($)=%{y}\\u003cbr\\u003eNumber of Reviews=%{marker.size}\\u003cextra\\u003e\\u003c\\u002fextra\\u003e\",\"hovertext\":[\"Reopet Silicone Dog Cat Bowl Mat Non-Stick Food Pad Water Cushion Waterproof - Multiple Colors, Sizes & Purposes\",\"Reopet Silicone Dog Cat Bowl Mat Non-Stick Food Pad Water Cushion Waterproof - Multiple Colors, Sizes & Purposes\",\"Reopet Silicone Dog Cat Bowl Mat Non-Stick Food Pad Water Cushion Waterproof - Multiple Colors, Sizes & Purposes\",\"Reopet Silicone Dog Cat Bowl Mat Non-Stick Food Pad Water Cushion Waterproof - Multiple Colors, Sizes & Purposes\",\"Reopet Silicone Dog Cat Bowl Mat Non-Stick Food Pad Water Cushion Waterproof - Multiple Colors, Sizes & Purposes\",\"Reopet Silicone Dog Cat Bowl Mat Non-Stick Food Pad Water Cushion Waterproof - Multiple Colors, Sizes & Purposes\",\"Reopet Silicone Dog Cat Bowl Mat Non-Stick Food Pad Water Cushion Waterproof - Multiple Colors, Sizes & Purposes\",\"Reopet Silicone Dog Cat Bowl Mat Non-Stick Food Pad Water Cushion Waterproof - Multiple Colors, Sizes & Purposes\",\"Reopet Silicone Dog Cat Bowl Mat Non-Stick Food Pad Water Cushion Waterproof - Multiple Colors, Sizes & Purposes\",\"Reopet Silicone Dog Cat Bowl Mat Non-Stick Food Pad Water Cushion Waterproof - Multiple Colors, Sizes & Purposes\",\"Reopet Silicone Dog Cat Bowl Mat Non-Stick Food Pad Water Cushion Waterproof - Multiple Colors, Sizes & Purposes\",\"Reopet Silicone Dog Cat Bowl Mat Non-Stick Food Pad Water Cushion Waterproof - Multiple Colors, Sizes & Purposes\"],\"legendgroup\":\"Reopet\",\"marker\":{\"color\":\"#FF6692\",\"size\":[38227,38181,38122,33233,34675,38620,33730,37969,38122,37970,37422,37969],\"sizemode\":\"area\",\"sizeref\":367.6975,\"symbol\":\"circle\"},\"mode\":\"markers\",\"name\":\"Reopet\",\"orientation\":\"v\",\"showlegend\":true,\"x\":[4.5,4.5,4.5,4.5,4.5,4.5,4.5,4.5,4.5,4.5,4.5,4.5],\"xaxis\":\"x\",\"y\":[3430459.4993786104,2603940.110419255,2174640.352085,973299.7086432916,739892.0373203182,390843.7545568817,375281.0606578409,275564.67061875,271691.4592009322,39839.40452321428,9728.244106,7953.970995],\"yaxis\":\"y\",\"type\":\"scatter\"},{\"hovertemplate\":\"\\u003cb\\u003e%{hovertext}\\u003c\\u002fb\\u003e\\u003cbr\\u003e\\u003cbr\\u003eBrand=Purina\\u003cbr\\u003eProduct Rating=%{x}\\u003cbr\\u003eRevenue ($)=%{y}\\u003cbr\\u003eNumber of Reviews=%{marker.size}\\u003cextra\\u003e\\u003c\\u002fextra\\u003e\",\"hovertext\":[\"Purina Friskies Wet Cat Food Variety Pack, Shreds - (40) 5.5 oz. Cans\",\"Purina Friskies Wet Cat Food Variety Pack, Shreds - (40) 5.5 oz. Cans\",\"Purina Friskies Wet Cat Food Variety Pack, Shreds - (40) 5.5 oz. Cans\",\"Purina Fancy Feast Grilled - (24) 3 oz. Cans\"],\"legendgroup\":\"Purina\",\"marker\":{\"color\":\"#B6E880\",\"size\":[17127,15934,16581,2022],\"sizemode\":\"area\",\"sizeref\":367.6975,\"symbol\":\"circle\"},\"mode\":\"markers\",\"name\":\"Purina\",\"orientation\":\"v\",\"showlegend\":true,\"x\":[4.7,4.7,4.7,4.7],\"xaxis\":\"x\",\"y\":[3374470.4003774063,977775.7150525001,789820.1609261667,73504.71036000001],\"yaxis\":\"y\",\"type\":\"scatter\"},{\"hovertemplate\":\"\\u003cb\\u003e%{hovertext}\\u003c\\u002fb\\u003e\\u003cbr\\u003e\\u003cbr\\u003eBrand=Wellness\\u003cbr\\u003eProduct Rating=%{x}\\u003cbr\\u003eRevenue ($)=%{y}\\u003cbr\\u003eNumber of Reviews=%{marker.size}\\u003cextra\\u003e\\u003c\\u002fextra\\u003e\",\"hovertext\":[\"Wellness Complete Health Grain-Free Wet Canned Cat Food, Natural Ingredients, Made with Real Meat, All Breeds, Smooth Pate, Beef & Chicken, 3 Ounce (Pack of 24)\",\"Wellness Complete Health Grain-Free Wet Canned Cat Food, Natural Ingredients, Made with Real Meat, All Breeds, Smooth Pate, Beef & Chicken, 3 Ounce (Pack of 24)\",\"Wellness Complete Health Grain-Free Wet Canned Cat Food, Natural Ingredients, Made with Real Meat, All Breeds, Smooth Pate, Beef & Chicken, 3 Ounce (Pack of 24)\",\"Wellness Complete Health Grain-Free Wet Canned Cat Food, Natural Ingredients, Made with Real Meat, All Breeds, Smooth Pate, Beef & Chicken, 3 Ounce (Pack of 24)\",\"Wellness Complete Health Grain-Free Wet Canned Cat Food, Natural Ingredients, Made with Real Meat, All Breeds, Smooth Pate (Beef & Salmon, 12.5-Ounce Can, Pack of 12)\",\"Wellness Complete Health Grain-Free Wet Canned Cat Food, Natural Ingredients, Made with Real Meat, All Breeds, Smooth Pate (Beef & Salmon, 12.5-Ounce Can, Pack of 12)\",\"Wellness Complete Health Grain-Free Wet Canned Cat Food, Natural Ingredients, Made with Real Meat, All Breeds, Smooth Pate (Chicken & Herring, 12.5-Ounce Can, Pack of 12)\",\"Wellness Complete Health Grain-Free Wet Canned Cat Food, Natural Ingredients, Made with Real Meat, All Breeds, Smooth Pate, Beef & Chicken, 3 Ounce (Pack of 24)\",\"Wellness Complete Health Grain-Free Wet Canned Cat Food, Natural Ingredients, Made with Real Meat, All Breeds, Smooth Pate (Beef & Salmon, 12.5-Ounce Can, Pack of 12)\",\"Wellness Complete Health Grain-Free Wet Canned Cat Food, Natural Ingredients, Made with Real Meat, All Breeds, Smooth Pate, Beef & Chicken, 3 Ounce (Pack of 24)\",\"Wellness Complete Health Grain-Free Wet Canned Cat Food, Natural Ingredients, Made with Real Meat, All Breeds, Smooth Pate (Chicken & Herring, 12.5-Ounce Can, Pack of 12)\",\"Wellness Complete Health Grain-Free Wet Canned Cat Food, Natural Ingredients, Made with Real Meat, All Breeds, Smooth Pate, Beef & Chicken, 3 Ounce (Pack of 24)\"],\"legendgroup\":\"Wellness\",\"marker\":{\"color\":\"#FF97FF\",\"size\":[8284,5343,5335,55,3915,2919,1578,7519,2668,7503,389,208],\"sizemode\":\"area\",\"sizeref\":367.6975,\"symbol\":\"circle\"},\"mode\":\"markers\",\"name\":\"Wellness\",\"orientation\":\"v\",\"showlegend\":true,\"x\":[4.5,4.5,4.5,4.1,4.5,4.4,4.5,4.4,4.6,4.4,4.4,4.4],\"xaxis\":\"x\",\"y\":[3260161.2524310835,2056820.8270405834,943273.3205850001,856039.337985624,702835.3553005,379162.79924230784,305790.46624825,244816.68577799998,134691.6629035,84161.829308,78695.160617,17652.196562],\"yaxis\":\"y\",\"type\":\"scatter\"},{\"hovertemplate\":\"\\u003cb\\u003e%{hovertext}\\u003c\\u002fb\\u003e\\u003cbr\\u003e\\u003cbr\\u003eBrand=Simplehuman\\u003cbr\\u003eProduct Rating=%{x}\\u003cbr\\u003eRevenue ($)=%{y}\\u003cbr\\u003eNumber of Reviews=%{marker.size}\\u003cextra\\u003e\\u003c\\u002fextra\\u003e\",\"hovertext\":[\"simplehuman 25 Liter, 27 lb \\u002f 12.2 kg Medium Pet Food Storage Container for Dog Food, Cat Food, and Bird Feed, Brushed Stainless Steel\",\"simplehuman 30 Liter, 32 lb \\u002f 14.5 kg Large Pet Food Storage Container for Dog Food, Cat Food, and Bird Feed, Brushed Stainless Steel\",\"simplehuman 25 Liter, 27 lb \\u002f 12.2 kg Medium Pet Food Storage Container for Dog Food, Cat Food, and Bird Feed, Brushed Stainless Steel\",\"simplehuman 35 Liter, 40 lb \\u002f 18.1 kg X-Large Pet Food Storage Container for Dog Food, Cat Food, and Bird Feed, Brushed Stainless Steel\",\"simplehuman 25 Liter, 27 lb \\u002f 12.2 kg Medium Pet Food Storage Container for Dog Food, Cat Food, and Bird Feed, Brushed Stainless Steel\",\"simplehuman 30 Liter, 32 lb \\u002f 14.5 kg Large Pet Food Storage Container for Dog Food, Cat Food, and Bird Feed, Brushed Stainless Steel\",\"simplehuman 25 Liter, 27 lb \\u002f 12.2 kg Medium Pet Food Storage Container for Dog Food, Cat Food, and Bird Feed, Brushed Stainless Steel\"],\"legendgroup\":\"Simplehuman\",\"marker\":{\"color\":\"#FECB52\",\"size\":[911,6,1782,3054,1772,1721,1784],\"sizemode\":\"area\",\"sizeref\":367.6975,\"symbol\":\"circle\"},\"mode\":\"markers\",\"name\":\"Simplehuman\",\"orientation\":\"v\",\"showlegend\":true,\"x\":[4.9,4.7,4.7,4.7,4.8,4.8,4.8],\"xaxis\":\"x\",\"y\":[3203168.3650137982,1094089.9773385,213697.6433565,39804.306698,20363.496438,20138.569428,13734.128474999998],\"yaxis\":\"y\",\"type\":\"scatter\"},{\"hovertemplate\":\"\\u003cb\\u003e%{hovertext}\\u003c\\u002fb\\u003e\\u003cbr\\u003e\\u003cbr\\u003eBrand=Petlibro\\u003cbr\\u003eProduct Rating=%{x}\\u003cbr\\u003eRevenue ($)=%{y}\\u003cbr\\u003eNumber of Reviews=%{marker.size}\\u003cextra\\u003e\\u003c\\u002fextra\\u003e\",\"hovertext\":[\"PETLIBRO Automatic Cat Feeder, Automatic Cat Food Dispenser with Freshness Preservation, Timed Cat Feeders for Dry Food, Up to 50 Portions 6 Meals Per Day, Granary Pet Feeder for Cats\\u002fDogs\",\"PETLIBRO Automatic Dog Feeder, 6L Dog Food Dispenser with Timer Interactive Voice Recorder, Auto Dog Feeder with Desiccant Bag 1-4 Meals Dry Food\",\"PETLIBRO Automatic Cat Food Dispenser, Stainless Steel, 2L Capacity, 6 Meals\\u002fDay, No Overeating, Low Battery Indicator, Easy to Clean, Dishwasher Safe\",\"PETLIBRO Automatic Cat Feeder, Automatic Cat Food Dispenser with Timer Interactive Voice Recorder, Auto Cat Feeder with 1-4 Meals Control Dry Food\",\"PETLIBRO Automatic Cat Feeder, Automatic Cat Food Dispenser with Freshness Preservation, Timed Cat Feeders for Dry Food, Up to 50 Portions 6 Meals Per Day, Granary Pet Feeder for Cats\\u002fDogs\",\"PETLIBRO Automatic Cat Feeder, Automatic Cat Food Dispenser with Freshness Preservation, Timed Cat Feeders for Dry Food, Up to 50 Portions 6 Meals Per Day, Granary Pet Feeder for Cats\\u002fDogs\",\"PETLIBRO Automatic Cat Food Dispenser, Stainless Steel, Easy to Set Up and Program, Freshness Preservation, Up to 50 Portions per Meal, Infrared Detection\",\"PETLIBRO Automatic Cat Food Dispenser, Stainless Steel, 2L Capacity, 6 Meals\\u002fDay, No Overeating, Low Battery Indicator, Easy to Clean, Dishwasher Safe\",\"PETLIBRO Automatic Cat Food Dispenser, Stainless Steel, Easy to Set Up and Program, Freshness Preservation, Up to 50 Portions per Meal, Infrared Detection\",\"PETLIBRO Automatic Dog Feeder, 6L Dog Food Dispenser with Timer Interactive Voice Recorder, Auto Dog Feeder with Desiccant Bag 1-4 Meals Dry Food, White Opaque\",\"PETLIBRO Automatic Cat Food Dispenser, Stainless Steel, 2L Capacity, 6 Meals\\u002fDay, No Overeating, Low Battery Indicator, Easy to Clean, Dishwasher Safe\",\"PETLIBRO Automatic Cat Food Dispenser, Stainless Steel, 2L Capacity, 6 Meals\\u002fDay, No Overeating, Low Battery Indicator, Easy to Clean, Dishwasher Safe\",\"PETLIBRO Automatic Cat Feeder, Automatic Cat Food Dispenser with Timer Interactive Voice Recorder, Auto Cat Feeder with 1-4 Meals Control Dry Food\",\"PETLIBRO Automatic Cat Food Dispenser, Stainless Steel, 2L Capacity, 6 Meals\\u002fDay, No Overeating, Low Battery Indicator, Easy to Clean, Dishwasher Safe\",\"PETLIBRO Automatic Cat Feeder, Automatic Cat Food Dispenser with Timer Interactive Voice Recorder, Auto Cat Feeder with 1-4 Meals Control Dry Food\",\"PETLIBRO Automatic Cat Food Dispenser, Stainless Steel, 2L Capacity, 6 Meals\\u002fDay, No Overeating, Low Battery Indicator, Easy to Clean, Dishwasher Safe\",\"PETLIBRO Automatic Cat Feeder, Automatic Cat Food Dispenser with Freshness Preservation, Timed Cat Feeders for Dry Food, Up to 50 Portions 6 Meals Per Day, Granary Pet Feeder for Cats\\u002fDogs\",\"PETLIBRO Automatic Cat Feeder, Automatic Cat Food Dispenser with Timer Interactive Voice Recorder, Auto Cat Feeder with 1-4 Meals Control Dry Food\",\"PETLIBRO Automatic Cat Feeder, Automatic Cat Food Dispenser with Freshness Preservation, Timed Cat Feeders for Dry Food, Up to 50 Portions 6 Meals Per Day, Granary Pet Feeder for Cats\\u002fDogs\",\"PETLIBRO Automatic Cat Feeder, Automatic Cat Food Dispenser with Freshness Preservation, Timed Cat Feeders for Dry Food, Up to 50 Portions 6 Meals Per Day, Granary Pet Feeder for Cats\\u002fDogs\",\"PETLIBRO Automatic Cat Feeder, Automatic Cat Food Dispenser with Freshness Preservation, Timed Cat Feeders for Dry Food, Up to 50 Portions 6 Meals Per Day, Granary Pet Feeder for Cats\\u002fDogs\",\"PETLIBRO Automatic Cat Food Dispenser, Stainless Steel, Easy to Set Up and Program, Freshness Preservation, Up to 50 Portions per Meal, Infrared Detection\",\"PETLIBRO Automatic Dog Feeder, 6L Dog Food Dispenser with Timer Interactive Voice Recorder, Auto Dog Feeder with Desiccant Bag 1-4 Meals Dry Food\",\"PETLIBRO Automatic Cat Food Dispenser, Stainless Steel, 2L Capacity, 6 Meals\\u002fDay, No Overeating, Low Battery Indicator, Easy to Clean, Dishwasher Safe\",\"PETLIBRO Automatic Cat Feeder, Automatic Cat Food Dispenser with Timer Interactive Voice Recorder, Auto Cat Feeder with 1-4 Meals Control Dry Food\",\"PETLIBRO Automatic Cat Feeder, Automatic Cat Food Dispenser with Timer Interactive Voice Recorder, Auto Cat Feeder with 1-4 Meals Control Dry Food\",\"PETLIBRO Automatic Dog Feeder, 6L Dog Food Dispenser with Timer Interactive Voice Recorder, Auto Dog Feeder with Desiccant Bag 1-4 Meals Dry Food\",\"PETLIBRO Automatic Dog Feeder, 6L Dog Food Dispenser with Timer Interactive Voice Recorder, Auto Dog Feeder with Desiccant Bag 1-4 Meals Dry Food\",\"PETLIBRO Automatic Cat Feeder, Automatic Cat Food Dispenser with Timer Interactive Voice Recorder, Auto Cat Feeder with 1-4 Meals Control Dry Food\",\"PETLIBRO Automatic Cat Food Dispenser, Stainless Steel, 2L Capacity, 6 Meals\\u002fDay, No Overeating, Low Battery Indicator, Easy to Clean, Dishwasher Safe\",\"PETLIBRO Automatic Cat Feeder, Automatic Cat Food Dispenser with Freshness Preservation, Timed Cat Feeders for Dry Food, Up to 50 Portions 6 Meals Per Day, Granary Pet Feeder for Cats\\u002fDogs\",\"PETLIBRO Automatic Dog Feeder, 6L Dog Food Dispenser with Timer Interactive Voice Recorder, Auto Dog Feeder with Desiccant Bag 1-4 Meals Dry Food\",\"PETLIBRO Automatic Cat Feeder, Automatic Cat Food Dispenser with Freshness Preservation, Timed Cat Feeders for Dry Food, Up to 50 Portions 6 Meals Per Day, Granary Pet Feeder for Cats\\u002fDogs\",\"PETLIBRO Automatic Cat Feeder, Automatic Cat Food Dispenser with Timer Interactive Voice Recorder, Auto Cat Feeder with 1-4 Meals Control Dry Food\",\"PETLIBRO Automatic Cat Feeder, Automatic Cat Food Dispenser with Timer Interactive Voice Recorder, Auto Cat Feeder with 1-4 Meals Control Dry Food\",\"PETLIBRO Automatic Cat Food Dispenser, Stainless Steel, 2L Capacity, 6 Meals\\u002fDay, No Overeating, Low Battery Indicator, Easy to Clean, Dishwasher Safe\",\"PETLIBRO Automatic Cat Food Dispenser, Stainless Steel, Easy to Set Up and Program, Freshness Preservation, Up to 50 Portions per Meal, Infrared Detection\",\"PETLIBRO Automatic Cat Food Dispenser, Stainless Steel, Easy to Set Up and Program, Freshness Preservation, Up to 50 Portions per Meal, Infrared Detection\",\"PETLIBRO Automatic Cat Food Dispenser, Stainless Steel, 2L Capacity, 6 Meals\\u002fDay, No Overeating, Low Battery Indicator, Easy to Clean, Dishwasher Safe\",\"PETLIBRO Automatic Cat Feeder, Automatic Cat Food Dispenser with Freshness Preservation, Timed Cat Feeders for Dry Food, Up to 50 Portions 6 Meals Per Day, Granary Pet Feeder for Cats\\u002fDogs\",\"PETLIBRO Automatic Cat Food Dispenser, Stainless Steel, 2L Capacity, 6 Meals\\u002fDay, No Overeating, Low Battery Indicator, Easy to Clean, Dishwasher Safe\",\"PETLIBRO Automatic Cat Food Dispenser, Stainless Steel, Easy to Set Up and Program, Freshness Preservation, Up to 50 Portions per Meal, Infrared Detection\",\"PETLIBRO Automatic Dog Feeder, 6L Dog Food Dispenser with Timer Interactive Voice Recorder, Auto Dog Feeder with Desiccant Bag 1-4 Meals Dry Food\",\"PETLIBRO Automatic Cat Food Dispenser, Stainless Steel, Easy to Set Up and Program, Freshness Preservation, Up to 50 Portions per Meal, Infrared Detection\",\"PETLIBRO Automatic Cat Food Dispenser, Stainless Steel, Easy to Set Up and Program, Freshness Preservation, Up to 50 Portions per Meal, Infrared Detection\",\"PETLIBRO Automatic Dog Feeder, 6L Dog Food Dispenser with Timer Interactive Voice Recorder, Auto Dog Feeder with Desiccant Bag 1-4 Meals Dry Food\",\"PETLIBRO Automatic Cat Food Dispenser, Stainless Steel, Easy to Set Up and Program, Freshness Preservation, Up to 50 Portions per Meal, Infrared Detection\",\"PETLIBRO Automatic Dog Feeder, 6L Dog Food Dispenser with Timer Interactive Voice Recorder, Auto Dog Feeder with Desiccant Bag 1-4 Meals Dry Food\",\"PETLIBRO Automatic Cat Feeder, Automatic Cat Food Dispenser with Freshness Preservation, Timed Cat Feeders for Dry Food, Up to 50 Portions 6 Meals Per Day, Granary Pet Feeder for Cats\\u002fDogs\",\"PETLIBRO Automatic Cat Feeder, Automatic Cat Food Dispenser with Timer Interactive Voice Recorder, Auto Cat Feeder with 1-4 Meals Control Dry Food\",\"PETLIBRO Automatic Cat Feeder, Automatic Cat Food Dispenser with Freshness Preservation, Timed Cat Feeders for Dry Food, Up to 50 Portions 6 Meals Per Day, Granary Pet Feeder for Cats\\u002fDogs\",\"PETLIBRO Automatic Cat Feeder, Automatic Cat Food Dispenser with Freshness Preservation, Timed Cat Feeders for Dry Food, Up to 50 Portions 6 Meals Per Day, Granary Pet Feeder for Cats\\u002fDogs\",\"PETLIBRO Automatic Cat Feeder, Automatic Cat Food Dispenser with Freshness Preservation, Timed Cat Feeders for Dry Food, Up to 50 Portions 6 Meals Per Day, Granary Pet Feeder for Cats\\u002fDogs\",\"PETLIBRO Automatic Dog Feeder, 6L Dog Food Dispenser with Timer Interactive Voice Recorder, Auto Dog Feeder with Desiccant Bag 1-4 Meals Dry Food\",\"PETLIBRO Automatic Cat Food Dispenser, Stainless Steel, 2L Capacity, 6 Meals\\u002fDay, No Overeating, Low Battery Indicator, Easy to Clean, Dishwasher Safe\",\"PETLIBRO Automatic Cat Feeder, Automatic Cat Food Dispenser with Freshness Preservation, Timed Cat Feeders for Dry Food, Up to 50 Portions 6 Meals Per Day, Granary Pet Feeder for Cats\\u002fDogs\",\"PETLIBRO Automatic Cat Food Dispenser, Stainless Steel, 2L Capacity, 6 Meals\\u002fDay, No Overeating, Low Battery Indicator, Easy to Clean, Dishwasher Safe\",\"PETLIBRO Automatic Dog Feeder, 6L Dog Food Dispenser with Timer Interactive Voice Recorder, Auto Dog Feeder with Desiccant Bag 1-4 Meals Dry Food, White Opaque\",\"PETLIBRO Automatic Cat Food Dispenser, Stainless Steel, 2L Capacity, 6 Meals\\u002fDay, No Overeating, Low Battery Indicator, Easy to Clean, Dishwasher Safe\",\"PETLIBRO Automatic Dog Feeder, 6L Dog Food Dispenser with Timer Interactive Voice Recorder, Auto Dog Feeder with Desiccant Bag 1-4 Meals Dry Food\",\"PETLIBRO Automatic Cat Feeder, Automatic Cat Food Dispenser with Freshness Preservation, Timed Cat Feeders for Dry Food, Up to 50 Portions 6 Meals Per Day, Granary Pet Feeder for Cats\\u002fDogs\",\"PETLIBRO Automatic Cat Feeder, Automatic Cat Food Dispenser with Freshness Preservation, Timed Cat Feeders for Dry Food, Up to 50 Portions 6 Meals Per Day, Granary Pet Feeder for Cats\\u002fDogs\",\"PETLIBRO Automatic Cat Food Dispenser, Stainless Steel, 2L Capacity, 6 Meals\\u002fDay, No Overeating, Low Battery Indicator, Easy to Clean, Dishwasher Safe\",\"PETLIBRO Automatic Cat Food Dispenser, Stainless Steel, 2L Capacity, 6 Meals\\u002fDay, No Overeating, Low Battery Indicator, Easy to Clean, Dishwasher Safe\",\"PETLIBRO Automatic Cat Food Dispenser, Stainless Steel, Easy to Set Up and Program, Freshness Preservation, Up to 50 Portions per Meal, Infrared Detection\",\"PETLIBRO Automatic Dog Feeder, 6L Dog Food Dispenser with Timer Interactive Voice Recorder, Auto Dog Feeder with Desiccant Bag 1-4 Meals Dry Food, White Opaque\",\"PETLIBRO Automatic Cat Feeder, Automatic Cat Food Dispenser with Timer Interactive Voice Recorder, Auto Cat Feeder with 1-4 Meals Control Dry Food\",\"PETLIBRO Automatic Dog Feeder, 6L Dog Food Dispenser with Timer Interactive Voice Recorder, Auto Dog Feeder with Desiccant Bag 1-4 Meals Dry Food\",\"PETLIBRO Automatic Cat Food Dispenser, Stainless Steel, Easy to Set Up and Program, Freshness Preservation, Up to 50 Portions per Meal, Infrared Detection\",\"PETLIBRO Automatic Cat Food Dispenser, Stainless Steel, Easy to Set Up and Program, Freshness Preservation, Up to 50 Portions per Meal, Infrared Detection\",\"PETLIBRO Automatic Cat Feeder, Automatic Cat Food Dispenser with Timer Interactive Voice Recorder, Auto Cat Feeder with 1-4 Meals Control Dry Food\",\"PETLIBRO Automatic Dog Feeder, 6L Dog Food Dispenser with Timer Interactive Voice Recorder, Auto Dog Feeder with Desiccant Bag 1-4 Meals Dry Food, White Opaque\",\"PETLIBRO Automatic Cat Food Dispenser, Stainless Steel, 2L Capacity, 6 Meals\\u002fDay, No Overeating, Low Battery Indicator, Easy to Clean, Dishwasher Safe\",\"PETLIBRO Automatic Cat Feeder, Automatic Cat Food Dispenser with Freshness Preservation, Timed Cat Feeders for Dry Food, Up to 50 Portions 6 Meals Per Day, Granary Pet Feeder for Cats\\u002fDogs\",\"PETLIBRO Automatic Cat Food Dispenser, Stainless Steel, Easy to Set Up and Program, Freshness Preservation, Up to 50 Portions per Meal, Infrared Detection\",\"PETLIBRO Automatic Cat Feeder, Automatic Cat Food Dispenser with Timer Interactive Voice Recorder, Auto Cat Feeder with 1-4 Meals Control Dry Food\",\"PETLIBRO Automatic Cat Feeder, Automatic Cat Food Dispenser with Timer Interactive Voice Recorder, Auto Cat Feeder with 1-4 Meals Control Dry Food\",\"PETLIBRO Automatic Cat Food Dispenser, Stainless Steel, Easy to Set Up and Program, Freshness Preservation, Up to 50 Portions per Meal, Infrared Detection\",\"PETLIBRO Automatic Cat Food Dispenser, Stainless Steel, 2L Capacity, 6 Meals\\u002fDay, No Overeating, Low Battery Indicator, Easy to Clean, Dishwasher Safe\",\"PETLIBRO Automatic Cat Food Dispenser, Stainless Steel, 2L Capacity, 6 Meals\\u002fDay, No Overeating, Low Battery Indicator, Easy to Clean, Dishwasher Safe\",\"PETLIBRO Automatic Cat Food Dispenser, Stainless Steel, Easy to Set Up and Program, Freshness Preservation, Up to 50 Portions per Meal, Infrared Detection\",\"PETLIBRO Automatic Dog Feeder, 6L Dog Food Dispenser with Timer Interactive Voice Recorder, Auto Dog Feeder with Desiccant Bag 1-4 Meals Dry Food\",\"PETLIBRO Automatic Dog Feeder, 6L Dog Food Dispenser with Timer Interactive Voice Recorder, Auto Dog Feeder with Desiccant Bag 1-4 Meals Dry Food\"],\"legendgroup\":\"Petlibro\",\"marker\":{\"color\":\"#636efa\",\"size\":[793,7626,8083,13128,962,996,10618,4401,6221,13179,4517,4572,14026,3047,13171,3969,10044,10795,6293,7317,6823,1968,2138,4422,13157,11382,14719,1716,15735,4218,10508,2134,8159,5679,12175,3824,9203,4130,4168,6062,4433,2863,6257,8215,700,6121,3997,6267,10210,42,10618,6114,6114,1865,4103,8241,2965,11382,4145,2134,11401,10589,4293,4179,1985,496,13179,2144,697,1284,10795,13739,2078,6116,1994,15030,10802,2853,4540,4445,1987,17121,2141],\"sizemode\":\"area\",\"sizeref\":367.6975,\"symbol\":\"circle\"},\"mode\":\"markers\",\"name\":\"Petlibro\",\"orientation\":\"v\",\"showlegend\":true,\"x\":[4.5,4.35,4.55,4.5,4.5,4.5,4.4,4.3,4.5,4.5,4.3,4.3,4.5,4.6,4.5,4.4,4.5,4.5,4.5,4.5,4.5,4.5,4.6,4.3,4.5,4.5,4.5,4.4,4.5,4.4,4.4,4.6,4.4,4.45,4.4,4.300000000000001,4.5,4.3,4.4,4.5,4.3,4.3,4.4,4.5,4.6,4.55,4.4,4.4,4.4,4.5,4.4,4.5,4.5,4.6,4.4,4.5,4.6,4.5,4.4,4.6,4.4,4.4,4.3,4.4,4.5,4.4,4.5,4.6,4.6,4.5,4.5,4.5,4.4,4.5,4.5,4.4,4.5,4.3,4.3,4.3,4.5,4.5,4.6],\"xaxis\":\"x\",\"y\":[3065358.654499875,2317409.82059875,849817.54864025,327017.11410199996,291269.7352705,230822.2731265,224454.704424,199375.60260531324,187420.940917,183138.50100583333,175915.740917,162783.49649975,161713.4672715,155163.68083250002,154054.169296,125136.61545,124594.65087325,109174.0385635,94618.707818,83831.495361,82953.4397335,75896.689075,74296.45665200001,73498.65843599998,72107.5576355,68265.135282,60563.169635499995,59162.94013499999,54801.31916399999,53879.013993500004,49453.5801095,42689.7408055,42644.585285,42565.8217995,40987.6946295,37502.301863,37093.409972,35875.854192,34584.366743,31900.752598499996,30285.980688,30279.97042125,29791.7564085,28098.241976999998,28024.576527,25016.825215499997,23765.011176,23531.011511,20814.5667115,20604.174125999998,20602.707372,20281.460734499997,20026.553655,19809.807425,19173.667028999997,16573.152476,16190.052611,15603.224274,14045.521689499998,14017.001759,13883.027678,13637.475603999997,12453.429082499999,11917.853473499998,11683.4136225,11286.338759999999,10593.168412499997,10306.543488,9677.600064,9536.023143,9379.478882999998,8614.917909,7838.123360999999,7229.2586925,3744.095265,3391.122141,3290.4961829999997,2713.28159925,2544.731943,1066.801578,1019.5007894999999,808.8527579999999,137.146752],\"yaxis\":\"y\",\"type\":\"scatter\"},{\"hovertemplate\":\"\\u003cb\\u003e%{hovertext}\\u003c\\u002fb\\u003e\\u003cbr\\u003e\\u003cbr\\u003eBrand=Neater Feeder\\u003cbr\\u003eProduct Rating=%{x}\\u003cbr\\u003eRevenue ($)=%{y}\\u003cbr\\u003eNumber of Reviews=%{marker.size}\\u003cextra\\u003e\\u003c\\u002fextra\\u003e\",\"hovertext\":[\"Neater Feeder - Express Model w\\u002fSlow Feed Bowl - Mess-Proof Dog Bowls (M\\u002fL, Black) Made in USA \\u2013 Elevated, No Spill, Non-Tip, Non-Slip, Raised Stainless Steel Food\\u002fWater Pet Bowls Aid Digestion\",\"Neater Feeder - Express Model w\\u002fSlow Feed Bowl - Mess-Proof Dog Bowls (M\\u002fL, Black) Made in USA \\u2013 Elevated, No Spill, Non-Tip, Non-Slip, Raised Stainless Steel Food\\u002fWater Pet Bowls Aid Digestion\"],\"legendgroup\":\"Neater Feeder\",\"marker\":{\"color\":\"#EF553B\",\"size\":[29698,1998],\"sizemode\":\"area\",\"sizeref\":367.6975,\"symbol\":\"circle\"},\"mode\":\"markers\",\"name\":\"Neater Feeder\",\"orientation\":\"v\",\"showlegend\":true,\"x\":[4.6,4.6],\"xaxis\":\"x\",\"y\":[2786209.549631495,303630.785733],\"yaxis\":\"y\",\"type\":\"scatter\"},{\"hovertemplate\":\"\\u003cb\\u003e%{hovertext}\\u003c\\u002fb\\u003e\\u003cbr\\u003e\\u003cbr\\u003eBrand=Weruva\\u003cbr\\u003eProduct Rating=%{x}\\u003cbr\\u003eRevenue ($)=%{y}\\u003cbr\\u003eNumber of Reviews=%{marker.size}\\u003cextra\\u003e\\u003c\\u002fextra\\u003e\",\"hovertext\":[\"Weruva Classic Cat Food, Variety Pack, Paw Lickin' Pals Wet Cat Food, 3oz Cans (Pack of 24)\",\"Weruva Classic Cat Food, Paw Lickin\\u2019 Chicken with Chicken Breast in Gravy, 10oz Can (Pack of 12)\",\"Weruva Cats in The Kitchen, Kitchen Cuties Variety Pack, Wet Cat Food, 10oz Cans (Pack of 12)\",\"Weruva Cats in The Kitchen, Kitchen Cuties Variety Pack, Wet Cat Food, 10oz Cans (Pack of 12)\",\"Weruva Cats in The Kitchen, Kitchen Cuties Variety Pack, Wet Cat Food, 10oz Cans (Pack of 12)\",\"Weruva Cats in The Kitchen, Kitchen Cuties Variety Pack, Wet Cat Food, 10oz Cans (Pack of 12)\",\"Weruva Cats in The Kitchen, Kitchen Cuties Variety Pack, Wet Cat Food, 6oz Cans (Pack of 24)\",\"Weruva Cats in The Kitchen, Kitchen Cuties Variety Pack, Wet Cat Food, 10oz Cans (Pack of 12)\",\"Weruva Cats in The Kitchen, Kitchen Cuties Variety Pack, Wet Cat Food, 6oz Cans (Pack of 24)\",\"Weruva Classic Cat Food, Wowzer Meowzer Variety Pack, 10oz Cans (Pack of 12)\",\"Weruva Cats in The Kitchen, Kitchen Cuties Variety Pack, Wet Cat Food, 10oz Cans (Pack of 12)\",\"Weruva Classic Cat Food, Wowzer Meowzer Variety Pack, 10oz Cans (Pack of 12)\",\"Weruva Classic Cat Food, Wowzer Meowzer Variety Pack, 10oz Cans (Pack of 12)\"],\"legendgroup\":\"Weruva\",\"marker\":{\"color\":\"#00cc96\",\"size\":[5308,7166,22109,4352,15288,4640,2414,6426,317,2308,4410,96,1862],\"sizemode\":\"area\",\"sizeref\":367.6975,\"symbol\":\"circle\"},\"mode\":\"markers\",\"name\":\"Weruva\",\"orientation\":\"v\",\"showlegend\":true,\"x\":[4.35,4.3,4.2,4.3,4.2,4.3,4.2,4.3,4.4,4.3,4.3,4.3,4.3],\"xaxis\":\"x\",\"y\":[2702182.840385375,1963684.3179595245,1756494.1299425,1554031.7149795,1455520.3199470001,479214.92361,329512.90524623165,120549.8298095,92633.93639,86895.974151,76929.785114,73445.08806,3242.796336],\"yaxis\":\"y\",\"type\":\"scatter\"},{\"hovertemplate\":\"\\u003cb\\u003e%{hovertext}\\u003c\\u002fb\\u003e\\u003cbr\\u003e\\u003cbr\\u003eBrand=Stella & Chewy'S\\u003cbr\\u003eProduct Rating=%{x}\\u003cbr\\u003eRevenue ($)=%{y}\\u003cbr\\u003eNumber of Reviews=%{marker.size}\\u003cextra\\u003e\\u003c\\u002fextra\\u003e\",\"hovertext\":[\"Stella & Chewy's Freeze-Dried Raw Cat Dinner Morsels \\u2013 Grain Free, Protein Rich Cat & Kitten Food \\u2013 Yummy Lickin\\u2019 Salmon & Chicken Recipe \\u2013 18 oz Bag\",\"Stella & Chewy's Freeze-Dried Raw Duck Duck Goose Dinner Morsels Cat Food, 18 oz. Bag (CAT-FDD-18)\",\"Stella & Chewy's Freeze-Dried Raw Cat Dinner Morsels \\u2013 Grain Free, Protein Rich Cat & Kitten Food \\u2013 Yummy Lickin\\u2019 Salmon & Chicken Recipe \\u2013 18 oz Bag\",\"Stella & Chewy's Freeze-Dried Raw Duck Duck Goose Dinner Morsels Cat Food, 18 oz. Bag (CAT-FDD-18)\",\"Stella & Chewy's Freeze-Dried Raw Cat Dinner Morsels \\u2013 Grain Free, Protein Rich Cat & Kitten Food \\u2013 Yummy Lickin\\u2019 Salmon & Chicken Recipe \\u2013 18 oz Bag\"],\"legendgroup\":\"Stella & Chewy'S\",\"marker\":{\"color\":\"#ab63fa\",\"size\":[6047,6047,2470,5937,513],\"sizemode\":\"area\",\"sizeref\":367.6975,\"symbol\":\"circle\"},\"mode\":\"markers\",\"name\":\"Stella & Chewy'S\",\"orientation\":\"v\",\"showlegend\":true,\"x\":[4.3,4.3,4.1,4.4,4.4],\"xaxis\":\"x\",\"y\":[2558194.03866925,278210.1359895,82106.7224425,31029.768007000002,10706.214086],\"yaxis\":\"y\",\"type\":\"scatter\"},{\"hovertemplate\":\"\\u003cb\\u003e%{hovertext}\\u003c\\u002fb\\u003e\\u003cbr\\u003e\\u003cbr\\u003eBrand=Iris Usa\\u003cbr\\u003eProduct Rating=%{x}\\u003cbr\\u003eRevenue ($)=%{y}\\u003cbr\\u003eNumber of Reviews=%{marker.size}\\u003cextra\\u003e\\u003c\\u002fextra\\u003e\",\"hovertext\":[\"IRIS USA 35Lbs.\\u002f47Qt. WeatherPro Airtight Pet Food Storage Container with Attachable Casters, For Dog Cat Bird and Other Pet Food Storage Bin, Keep Fresh, Translucent Body, Easy Mobility, Black\"],\"legendgroup\":\"Iris Usa\",\"marker\":{\"color\":\"#FFA15A\",\"size\":[56120],\"sizemode\":\"area\",\"sizeref\":367.6975,\"symbol\":\"circle\"},\"mode\":\"markers\",\"name\":\"Iris Usa\",\"orientation\":\"v\",\"showlegend\":true,\"x\":[4.6],\"xaxis\":\"x\",\"y\":[2491597.13920475],\"yaxis\":\"y\",\"type\":\"scatter\"},{\"hovertemplate\":\"\\u003cb\\u003e%{hovertext}\\u003c\\u002fb\\u003e\\u003cbr\\u003e\\u003cbr\\u003eBrand=Merrick\\u003cbr\\u003eProduct Rating=%{x}\\u003cbr\\u003eRevenue ($)=%{y}\\u003cbr\\u003eNumber of Reviews=%{marker.size}\\u003cextra\\u003e\\u003c\\u002fextra\\u003e\",\"hovertext\":[\"Merrick Purrfect Bistro\",\"Merrick Purrfect Bistro Grain Free Wet Cat Food Variety Pack Seafood Recipes - (24) 5.5 oz. Cans\",\"Merrick Purrfect Bistro Grain Free Wet Cat Food Variety Pack Seafood Recipes - (24) 5.5 oz. Cans\",\"Merrick Purrfect Bistro Grain Free Wet Cat Food Variety Pack Seafood Recipes - (24) 5.5 oz. Cans\",\"Merrick Purrfect Bistro Grain Free Wet Cat Food Variety Pack Seafood Recipes - (24) 5.5 oz. Cans\"],\"legendgroup\":\"Merrick\",\"marker\":{\"color\":\"#19d3f3\",\"size\":[2567,3913,2961,3913,3022],\"sizemode\":\"area\",\"sizeref\":367.6975,\"symbol\":\"circle\"},\"mode\":\"markers\",\"name\":\"Merrick\",\"orientation\":\"v\",\"showlegend\":true,\"x\":[4.2,4.4,4.3,4.4,4.3],\"xaxis\":\"x\",\"y\":[2349548.5922012823,296318.5297895,37948.479438083334,31900.350138499995,10913.8872],\"yaxis\":\"y\",\"type\":\"scatter\"},{\"hovertemplate\":\"\\u003cb\\u003e%{hovertext}\\u003c\\u002fb\\u003e\\u003cbr\\u003e\\u003cbr\\u003eBrand=Reveal Limited Ingredients Approved By Cats\\u003cbr\\u003eProduct Rating=%{x}\\u003cbr\\u003eRevenue ($)=%{y}\\u003cbr\\u003eNumber of Reviews=%{marker.size}\\u003cextra\\u003e\\u003c\\u002fextra\\u003e\",\"hovertext\":[\"Reveal Natural Wet Cat Food, 24 Count, Grain Free, Limited Ingredient Canned Food for Cats, Tuna Fillet in Broth, 2.47 oz Cans\",\"Reveal Natural Wet Cat Food, 24 Count, Grain Free, Limited Ingredient Canned Food for Cats, Tuna Fillet in Broth, 2.47 oz Cans\",\"Reveal Natural Wet Cat Food, 24 Count, Grain Free, Limited Ingredient Canned Food for Cats, Tuna Fillet in Broth, 2.47 oz Cans\",\"Reveal Natural Wet Cat Food, 24 Pack, Limited Ingredient Canned Wet Cat Food, Grain Free Food for Cats, Tuna with Salmon in Gravy, 2.47oz Cans\",\"Reveal Natural Wet Cat Food, 24 Count, Grain Free, Limited Ingredient Canned Food for Cats, Tuna Fillet in Broth, 2.47 oz Cans\"],\"legendgroup\":\"Reveal Limited Ingredients Approved By Cats\",\"marker\":{\"color\":\"#FF6692\",\"size\":[2096,5868,4052,115,1726],\"sizemode\":\"area\",\"sizeref\":367.6975,\"symbol\":\"circle\"},\"mode\":\"markers\",\"name\":\"Reveal Limited Ingredients Approved By Cats\",\"orientation\":\"v\",\"showlegend\":true,\"x\":[4.5,4.5,4.5,4.1,4.6],\"xaxis\":\"x\",\"y\":[1592512.2390073494,1392064.0054678333,378609.694981,84346.35460200909,4476.835306666666],\"yaxis\":\"y\",\"type\":\"scatter\"},{\"hovertemplate\":\"\\u003cb\\u003e%{hovertext}\\u003c\\u002fb\\u003e\\u003cbr\\u003e\\u003cbr\\u003eBrand=Gorilla Grip\\u003cbr\\u003eProduct Rating=%{x}\\u003cbr\\u003eRevenue ($)=%{y}\\u003cbr\\u003eNumber of Reviews=%{marker.size}\\u003cextra\\u003e\\u003c\\u002fextra\\u003e\",\"hovertext\":[\"Gorilla Grip 100% Waterproof Raised Edge BPA Free Silicone Pet Feeding Mat, Dog Cat Food Mats Contain Spills Protects Floors, Placemats for Cats and Dogs Water Bowl, Pets Accessories 28x18 Beige\"],\"legendgroup\":\"Gorilla Grip\",\"marker\":{\"color\":\"#B6E880\",\"size\":[25542],\"sizemode\":\"area\",\"sizeref\":367.6975,\"symbol\":\"circle\"},\"mode\":\"markers\",\"name\":\"Gorilla Grip\",\"orientation\":\"v\",\"showlegend\":true,\"x\":[4.6],\"xaxis\":\"x\",\"y\":[1320955.6658079838],\"yaxis\":\"y\",\"type\":\"scatter\"},{\"hovertemplate\":\"\\u003cb\\u003e%{hovertext}\\u003c\\u002fb\\u003e\\u003cbr\\u003e\\u003cbr\\u003eBrand=9lives\\u003cbr\\u003eProduct Rating=%{x}\\u003cbr\\u003eRevenue ($)=%{y}\\u003cbr\\u003eNumber of Reviews=%{marker.size}\\u003cextra\\u003e\\u003c\\u002fextra\\u003e\",\"hovertext\":[\"9Lives Plus Care Dry Cat Food, 3.15 Pound Bag (Pack of 4)\"],\"legendgroup\":\"9lives\",\"marker\":{\"color\":\"#FF97FF\",\"size\":[10334],\"sizemode\":\"area\",\"sizeref\":367.6975,\"symbol\":\"circle\"},\"mode\":\"markers\",\"name\":\"9lives\",\"orientation\":\"v\",\"showlegend\":true,\"x\":[4.6],\"xaxis\":\"x\",\"y\":[1163292.07346],\"yaxis\":\"y\",\"type\":\"scatter\"},{\"hovertemplate\":\"\\u003cb\\u003e%{hovertext}\\u003c\\u002fb\\u003e\\u003cbr\\u003e\\u003cbr\\u003eBrand=Hill'S Prescription Diet\\u003cbr\\u003eProduct Rating=%{x}\\u003cbr\\u003eRevenue ($)=%{y}\\u003cbr\\u003eNumber of Reviews=%{marker.size}\\u003cextra\\u003e\\u003c\\u002fextra\\u003e\",\"hovertext\":[\"Hill's Prescription Diet c\\u002fd Multicare Urinary Care with Chicken Dry Cat Food, Veterinary Diet, 8.5 lb. Bag\",\"Hill's Prescription Diet c\\u002fd Multicare Urinary Care with Ocean Fish Wet Cat Food, Veterinary Diet, 5.5 oz. Cans, 24-Pack\",\"Hill's Prescription Diet c\\u002fd Multicare Urinary Care with Ocean Fish Wet Cat Food, Veterinary Diet, 5.5 oz. Cans, 24-Pack\",\"Hill's Prescription Diet c\\u002fd Multicare Urinary Care with Ocean Fish Wet Cat Food, Veterinary Diet, 5.5 oz. Cans, 24-Pack\",\"Hill's Prescription Diet c\\u002fd Multicare Urinary Care with Chicken Dry Cat Food, Veterinary Diet, 8.5 lb. Bag\",\"Hill's Prescription Diet c\\u002fd Multicare Urinary Care with Chicken Dry Cat Food, Veterinary Diet, 8.5 lb. Bag\",\"Hill's Prescription Diet c\\u002fd Multicare Urinary Care with Chicken Dry Cat Food, Veterinary Diet, 8.5 lb. Bag\",\"Hill's Prescription Diet c\\u002fd Multicare Urinary Care with Chicken Dry Cat Food, Veterinary Diet, 8.5 lb. Bag\",\"Hill's Prescription Diet c\\u002fd Multicare Urinary Care Ocean Fish Flavor Dry Cat Food, Veterinary Diet, 17.6 lb. Bag\",\"Hill's Prescription Diet c\\u002fd Multicare Urinary Care with Ocean Fish Dry Cat Food, Veterinary Diet, 8.5 lb. Bag\",\"Hill's Prescription Diet c\\u002fd Multicare Urinary Care with Chicken Dry Cat Food, Veterinary Diet, 8.5 lb. Bag\",\"Hill's Prescription Diet c\\u002fd Multicare Urinary Care with Chicken Dry Cat Food, Veterinary Diet, 8.5 lb. Bag\",\"Hill's Prescription Diet c\\u002fd Multicare Urinary Care with Ocean Fish Wet Cat Food, Veterinary Diet, 5.5 oz. Cans, 24-Pack\",\"Hill's Prescription Diet c\\u002fd Multicare Urinary Care with Chicken Dry Cat Food, Veterinary Diet, 8.5 lb. Bag\",\"Hill's Prescription Diet c\\u002fd Multicare Urinary Care with Ocean Fish Dry Cat Food, Veterinary Diet, 8.5 lb. Bag\",\"Hill's Prescription Diet c\\u002fd Multicare Urinary Care with Ocean Fish Wet Cat Food, Veterinary Diet, 5.5 oz. Cans, 24-Pack\",\"Hill's Prescription Diet c\\u002fd Multicare Urinary Care with Chicken Dry Cat Food, Veterinary Diet, 8.5 lb. Bag\",\"Hill's Prescription Diet c\\u002fd Multicare Urinary Care with Ocean Fish Wet Cat Food, Veterinary Diet, 5.5 oz. Cans, 24-Pack\",\"Hill's Prescription Diet c\\u002fd Multicare Urinary Care with Ocean Fish Wet Cat Food, Veterinary Diet, 5.5 oz. Cans, 24-Pack\",\"Hill's Prescription Diet c\\u002fd Multicare Urinary Care with Chicken Dry Cat Food, Veterinary Diet, 8.5 lb. Bag\",\"Hill's Prescription Diet c\\u002fd Multicare Urinary Care with Ocean Fish Wet Cat Food, Veterinary Diet, 5.5 oz. Cans, 24-Pack\"],\"legendgroup\":\"Hill'S Prescription Diet\",\"marker\":{\"color\":\"#FECB52\",\"size\":[2954,218,1483,433,978,2239,2644,978,79,393,2451,2326,1444,2412,606,217,2768,436,2401,1625,3038],\"sizemode\":\"area\",\"sizeref\":367.6975,\"symbol\":\"circle\"},\"mode\":\"markers\",\"name\":\"Hill'S Prescription Diet\",\"orientation\":\"v\",\"showlegend\":true,\"x\":[4.8,4.5,4.6,4.6,4.8,4.8,4.8,4.8,4.6,4.8,4.8,4.8,4.6,4.8,4.8,4.5,4.7,4.6,4.8,4.8,4.8],\"xaxis\":\"x\",\"y\":[908292.0182401935,754092.5419172316,541356.1893405964,447076.128271,389104.89115000004,256082.377207,245742.043833,239920.429889,204998.34718170515,170098.10105,165678.36762875,149211.0690525,126476.1934215,99720.7729535,93487.382816,83839.18771099999,61390.166697500004,53334.5046525,39307.991481,30440.069344,3740.8553075],\"yaxis\":\"y\",\"type\":\"scatter\"},{\"hovertemplate\":\"\\u003cb\\u003e%{hovertext}\\u003c\\u002fb\\u003e\\u003cbr\\u003e\\u003cbr\\u003eBrand=Iris\\u003cbr\\u003eProduct Rating=%{x}\\u003cbr\\u003eRevenue ($)=%{y}\\u003cbr\\u003eNumber of Reviews=%{marker.size}\\u003cextra\\u003e\\u003c\\u002fextra\\u003e\",\"hovertext\":[\"IRIS USA 3-Piece 35 Lbs \\u002f 45 Qt WeatherPro Airtight Pet Food Storage Container Combo with Scoop and Treat Box for Dog Cat and Bird Food, Keep Pests Out, Translucent Body, Easy Mobility, Dark Gray\",\"IRIS USA 50 Lbs \\u002f 65 Qt WeatherPro Airtight Pet Food Storage Container with Removable Casters, For Dog Cat Bird Keep Pests Out Translucent Body Easy Mobility, Clear\\u002fGray\",\"IRIS USA 3-Piece 35 Lbs \\u002f 45 Qt WeatherPro Airtight Pet Food Storage Container Combo with Scoop and Treat Box for Dog Cat and Bird Food, Keep Pests Out, Translucent Body, Easy Mobility, Dark Gray\",\"IRIS USA 50 Lbs \\u002f 65 Qt WeatherPro Airtight Pet Food Storage Container with Removable Casters, For Dog Cat Bird Keep Pests Out Translucent Body Easy Mobility, Clear\\u002fGray\",\"IRIS USA 33qt + 12qt Airtight Pet Food Container Combo with Scoop, Sea Foam Blue\"],\"legendgroup\":\"Iris\",\"marker\":{\"color\":\"#636efa\",\"size\":[57450,43543,55993,1938,55994],\"sizemode\":\"area\",\"sizeref\":367.6975,\"symbol\":\"circle\"},\"mode\":\"markers\",\"name\":\"Iris\",\"orientation\":\"v\",\"showlegend\":true,\"x\":[4.6,4.6,4.6,4.5,4.6],\"xaxis\":\"x\",\"y\":[773138.5096860001,579738.1706625,7047.943902,1411.499008,1080.122796],\"yaxis\":\"y\",\"type\":\"scatter\"},{\"hovertemplate\":\"\\u003cb\\u003e%{hovertext}\\u003c\\u002fb\\u003e\\u003cbr\\u003e\\u003cbr\\u003eBrand=Petsafe\\u003cbr\\u003eProduct Rating=%{x}\\u003cbr\\u003eRevenue ($)=%{y}\\u003cbr\\u003eNumber of Reviews=%{marker.size}\\u003cextra\\u003e\\u003c\\u002fextra\\u003e\",\"hovertext\":[\"PetSafe Healthy Pet Water Station- Large, 320 oz Capacity- Gravity Cat & Dog Waterer- Removable Stainless Steel Bowl Resists Corrosion & Stands Up to Frequent Use- Easy to Fill- Filter Compatible\",\"PetSafe Healthy Pet Water Station- Large, 320 oz Capacity- Gravity Cat & Dog Waterer- Removable Stainless Steel Bowl Resists Corrosion & Stands Up to Frequent Use- Easy to Fill- Filter Compatible\",\"PetSafe Healthy Pet Water Station- Large, 320 oz Capacity- Gravity Cat & Dog Waterer- Removable Stainless Steel Bowl Resists Corrosion & Stands Up to Frequent Use- Easy to Fill- Filter Compatible\",\"PetSafe Healthy Pet Water Station- Large, 320 oz Capacity- Gravity Cat & Dog Waterer- Removable Stainless Steel Bowl Resists Corrosion & Stands Up to Frequent Use- Easy to Fill- Filter Compatible\",\"PetSafe Healthy Pet Water Station- Large, 320 oz Capacity- Gravity Cat & Dog Waterer- Removable Stainless Steel Bowl Resists Corrosion & Stands Up to Frequent Use- Easy to Fill- Filter Compatible\"],\"legendgroup\":\"Petsafe\",\"marker\":{\"color\":\"#EF553B\",\"size\":[28702,17416,38528,28064,38390],\"sizemode\":\"area\",\"sizeref\":367.6975,\"symbol\":\"circle\"},\"mode\":\"markers\",\"name\":\"Petsafe\",\"orientation\":\"v\",\"showlegend\":true,\"x\":[4.4,4.35,4.4,4.4,4.4],\"xaxis\":\"x\",\"y\":[505612.5077338091,426877.49074112496,93317.355955,57088.032905,35682.49929],\"yaxis\":\"y\",\"type\":\"scatter\"},{\"hovertemplate\":\"\\u003cb\\u003e%{hovertext}\\u003c\\u002fb\\u003e\\u003cbr\\u003e\\u003cbr\\u003eBrand=Hill'S Pet Nutrition\\u003cbr\\u003eProduct Rating=%{x}\\u003cbr\\u003eRevenue ($)=%{y}\\u003cbr\\u003eNumber of Reviews=%{marker.size}\\u003cextra\\u003e\\u003c\\u002fextra\\u003e\",\"hovertext\":[\"Hill's Science Diet Dry Cat Food, Adult, Sensitive Stomach & Skin, Chicken & Rice Recipe, 7 lb Bag\",\"Hill's Science Diet Dry Cat Food, Adult, Sensitive Stomach & Skin, Chicken & Rice Recipe, 7 lb Bag\",\"Hill's Science Diet Dry Cat Food, Adult, Sensitive Stomach & Skin, Chicken & Rice Recipe, 3.5 lb. Bag\",\"Hill's Science Diet Dry Cat Food, Adult, Sensitive Stomach & Skin\",\"Hill's Science Diet Dry Cat Food, Adult, Sensitive Stomach & Skin, Chicken & Rice Recipe, 7 lb Bag\",\"Hill's Science Diet Dry Cat Food, Adult, Sensitive Stomach & Skin, Chicken & Rice Recipe, 3.5 lb. Bag\",\"Hill's Pet Nutrition Science Diet, Grain Free Dry Cat Food, Adult, Sensitive Stomach & Skin, Salmon & Yellow Pea Recipe, 13 lb. Bag\"],\"legendgroup\":\"Hill'S Pet Nutrition\",\"marker\":{\"color\":\"#00cc96\",\"size\":[12998,13170,11871,12860,11320,11341,1168],\"sizemode\":\"area\",\"sizeref\":367.6975,\"symbol\":\"circle\"},\"mode\":\"markers\",\"name\":\"Hill'S Pet Nutrition\",\"orientation\":\"v\",\"showlegend\":true,\"x\":[4.7,4.7,4.7,4.7,4.7,4.7,4.7],\"xaxis\":\"x\",\"y\":[479683.25383025,279913.98857850005,167778.61637653847,135830.64497516345,133768.30596025,128524.74289307692,32515.7008425],\"yaxis\":\"y\",\"type\":\"scatter\"},{\"hovertemplate\":\"\\u003cb\\u003e%{hovertext}\\u003c\\u002fb\\u003e\\u003cbr\\u003e\\u003cbr\\u003eBrand=Purina Beyond\\u003cbr\\u003eProduct Rating=%{x}\\u003cbr\\u003eRevenue ($)=%{y}\\u003cbr\\u003eNumber of Reviews=%{marker.size}\\u003cextra\\u003e\\u003c\\u002fextra\\u003e\",\"hovertext\":[\"PURINA Beyond Chicken, Beef and Carrot and Turkey, Sweet Potato and Spinach in Wet Cat Food Gravy 12 Ct Variety Pack - (12) 3 oz. Cans\",\"PURINA Beyond Chicken, Beef and Carrot and Turkey, Sweet Potato and Spinach in Wet Cat Food Gravy 12 Ct Variety Pack - (12) 3 oz. Cans\",\"PURINA Beyond Chicken, Beef and Carrot and Turkey, Sweet Potato and Spinach in Wet Cat Food Gravy 12 Ct Variety Pack - (12) 3 oz. Cans\",\"PURINA Beyond Chicken, Beef and Carrot and Turkey, Sweet Potato and Spinach in Wet Cat Food Gravy 12 Ct Variety Pack - (12) 3 oz. Cans\"],\"legendgroup\":\"Purina Beyond\",\"marker\":{\"color\":\"#ab63fa\",\"size\":[306,14308,3614,68],\"sizemode\":\"area\",\"sizeref\":367.6975,\"symbol\":\"circle\"},\"mode\":\"markers\",\"name\":\"Purina Beyond\",\"orientation\":\"v\",\"showlegend\":true,\"x\":[4.2,4.5,4.2,4.3],\"xaxis\":\"x\",\"y\":[217969.23724432528,177328.38666000002,141505.05602674012,30107.183176408074],\"yaxis\":\"y\",\"type\":\"scatter\"},{\"hovertemplate\":\"\\u003cb\\u003e%{hovertext}\\u003c\\u002fb\\u003e\\u003cbr\\u003e\\u003cbr\\u003eBrand=Squishmallow\\u003cbr\\u003eProduct Rating=%{x}\\u003cbr\\u003eRevenue ($)=%{y}\\u003cbr\\u003eNumber of Reviews=%{marker.size}\\u003cextra\\u003e\\u003c\\u002fextra\\u003e\",\"hovertext\":[\"Squishmallows Oficial Kellytoy Food Squad Plush Toys Soft Plush Animal (8 Inch, Hayes The Cheeseburger Cat)\"],\"legendgroup\":\"Squishmallow\",\"marker\":{\"color\":\"#FFA15A\",\"size\":[1730],\"sizemode\":\"area\",\"sizeref\":367.6975,\"symbol\":\"circle\"},\"mode\":\"markers\",\"name\":\"Squishmallow\",\"orientation\":\"v\",\"showlegend\":true,\"x\":[4.7],\"xaxis\":\"x\",\"y\":[123568.42856375],\"yaxis\":\"y\",\"type\":\"scatter\"},{\"mode\":\"lines\",\"name\":\"Trend Line\",\"x\":[4.7,4.7,4.7,4.6,4.6,4.8,4.65,4.4,4.7,4.6,4.6,4.8,4.6,4.7,4.6,4.7,4.6,4.6,4.7,4.4,4.6,4.8,4.7,4.7,4.7,4.7,4.6,4.6,4.6,4.8,4.7,4.7,4.7,4.5,4.8,4.6,4.6,4.7,4.7,4.2,4.5,4.7,4.7,4.8,4.5,4.9,4.7,4.7,4.5,4.6,4.3,4.7,4.6,4.35,4.8,4.5,4.3,4.6,4.7,4.5,4.3,4.7,4.7,4.6,4.7,4.6,4.5,4.2,4.35,4.7,4.6,4.5,4.7,4.5,4.3,4.7,4.6,4.3,4.6,4.2,4.8,4.6,4.6,4.7,4.5,4.6,4.3,4.7,4.8,4.7,4.2,4.7,4.5,4.3,4.6,4.6,4.6,4.6,4.6,4.3,4.6,4.6,4.5,4.7,4.5,4.7,4.7,4.7,4.7,4.7,4.3,4.7,4.7,4.3,4.7,4.5,4.5,4.7,4.8,4.8,4.3,4.7,4.1,4.55,4.6,4.6,4.7,4.7,4.6,4.7,4.6,4.7,4.7,4.5,4.7,4.6,4.7,4.6,4.5,4.65,4.5,4.7,4.7,4.7,4.5,4.6,4.6,4.6,4.6,4.7,4.7,4.6,4.7,4.6,4.4,4.7,4.6,4.7,4.3,4.6,4.7,4.7,4.35,4.6,4.7,4.5,4.8,4.4,4.5,4.7,4.7,4.5,4.8,4.7,4.7,4.7,4.7,4.2,4.5,4.7,4.5,4.7,4.2,4.6,4.5,4.6,4.4,4.7,4.5,4.6,4.7,4.3,4.7,4.5,4.5,4.7,4.3,4.8,4.7,4.7,4.5,4.8,4.4,4.6,4.8,4.6,4.5,4.6,4.7,4.7,4.7,4.6,4.6,4.4,4.7,4.2,4.7,4.7,4.6,4.7,4.6,4.6,4.3,4.6,4.7,4.5,4.5,4.5,4.7,4.8,4.5,4.3,4.6,4.6,4.6,4.8,4.7,4.8,4.3,4.5,4.7,4.6,4.5,4.8,4.6,4.4,4.7,4.6,4.2,4.7,4.7,4.7,4.7,4.7,4.6,4.7,4.6,4.7,4.7,4.7,4.7,4.6,4.6,4.7,4.6,4.4,4.3,4.5,4.7,4.8,4.7,4.6,4.3,4.7,4.7,4.6,4.7,4.7,4.5,4.7,4.5,4.7,4.6,4.6,4.6,4.8,4.8,4.6,4.5,4.5,4.8,4.8,4.4,4.6,4.4,4.3,4.5,4.699999999999999,4.7,4.1,4.4,4.5,4.5,4.5,4.3,4.1,4.7,4.4,4.5,4.7,4.3,4.6,4.3,4.7,5.0,4.5,4.7,4.6,4.7,4.7,4.3,4.3,4.5,4.6,4.7,4.6,4.5,4.7,4.7,4.8,4.7,4.7,4.6,4.5,4.6,4.4,4.8,4.7,4.2,4.4,4.6,4.7,4.8,4.7,4.5,4.8,4.6,4.4,4.7,4.6,4.3,4.7,4.6,4.4,4.6,4.8,4.8,4.7,4.7,4.7,4.6,4.4,4.45,4.4,4.6,4.5,4.7,4.8,4.6,4.3,4.300000000000001,4.6,4.5,4.3,4.4,4.4,4.7,4.7,4.6,4.7,4.5,4.4,4.6,4.6,4.4,4.6,4.8,4.3,4.3,4.3,4.4,4.6,4.5,4.5,4.6,4.6,4.6,4.5,4.6,4.6,4.6,4.7,4.5,4.6,4.55,4.6,4.4,4.4,4.7,4.6,4.6,4.3,4.7,4.5,4.4,4.5,4.4,4.8,4.5,4.8,4.5,4.6,4.4,4.7,4.6,4.7,4.7,4.3,4.4,4.6,4.5,4.6,4.6,4.7,4.5,4.7,4.8,4.6,4.7,4.6,4.75,4.7,4.5,4.6,4.6,4.5,4.4,4.6,4.4,4.8,4.4,4.6,4.6,4.6,4.3,4.3,4.4,4.5,4.7,4.7,4.4,4.3,4.4,4.5,4.6,4.5,4.6,4.5,4.7,4.5,4.5,4.4,4.7,4.5,4.4,4.8,4.3,4.7,4.5,4.6,4.6,4.5,4.5,4.5,4.7,4.7,4.6,4.6,4.6,4.6,4.5,4.8,4.6,4.4,4.6,4.5,4.3,4.6,4.4,4.6,4.3,4.7,4.7,4.3,4.7,4.6,4.7,4.6,4.5,4.6,4.3,4.5,4.3,4.5,4.6,4.5,4.6,4.7,4.3,4.5,4.6,4.6,4.6,4.5],\"y\":[169599.47671119016,169599.47671119016,169599.47671119016,136385.72000508884,136385.72000508884,210901.71683396355,152088.61477356564,88197.78663039794,169599.47671119016,136385.72000508884,136385.72000508884,210901.71683396355,136385.72000508884,169599.47671119016,136385.72000508884,169599.47671119016,136385.72000508884,136385.72000508884,169599.47671119016,88197.78663039794,136385.72000508884,210901.71683396355,169599.47671119016,169599.47671119016,169599.47671119016,169599.47671119016,136385.72000508884,136385.72000508884,136385.72000508884,210901.71683396355,169599.47671119016,169599.47671119016,169599.47671119016,109676.42696788596,210901.71683396355,136385.72000508884,136385.72000508884,169599.47671119016,169599.47671119016,57035.66008384843,109676.42696788596,169599.47671119016,169599.47671119016,210901.71683396355,109676.42696788596,262262.2134575175,169599.47671119016,169599.47671119016,109676.42696788596,136385.72000508884,70925.44662107635,169599.47671119016,136385.72000508884,79091.51286801486,210901.71683396355,109676.42696788596,70925.44662107635,136385.72000508884,169599.47671119016,109676.42696788596,70925.44662107635,169599.47671119016,169599.47671119016,136385.72000508884,169599.47671119016,136385.72000508884,109676.42696788596,57035.66008384843,79091.51286801486,169599.47671119016,136385.72000508884,109676.42696788596,169599.47671119016,109676.42696788596,70925.44662107635,169599.47671119016,136385.72000508884,70925.44662107635,136385.72000508884,57035.66008384843,210901.71683396355,136385.72000508884,136385.72000508884,169599.47671119016,109676.42696788596,136385.72000508884,70925.44662107635,169599.47671119016,210901.71683396355,169599.47671119016,57035.66008384843,169599.47671119016,109676.42696788596,70925.44662107635,136385.72000508884,136385.72000508884,136385.72000508884,136385.72000508884,136385.72000508884,70925.44662107635,136385.72000508884,136385.72000508884,109676.42696788596,169599.47671119016,109676.42696788596,169599.47671119016,169599.47671119016,169599.47671119016,169599.47671119016,169599.47671119016,70925.44662107635,169599.47671119016,169599.47671119016,70925.44662107635,169599.47671119016,109676.42696788596,109676.42696788596,169599.47671119016,210901.71683396355,210901.71683396355,70925.44662107635,169599.47671119016,45865.99980934921,122304.12282339725,136385.72000508884,136385.72000508884,169599.47671119016,169599.47671119016,136385.72000508884,169599.47671119016,136385.72000508884,169599.47671119016,169599.47671119016,109676.42696788596,169599.47671119016,136385.72000508884,169599.47671119016,136385.72000508884,109676.42696788596,152088.61477356564,109676.42696788596,169599.47671119016,169599.47671119016,169599.47671119016,109676.42696788596,136385.72000508884,136385.72000508884,136385.72000508884,136385.72000508884,169599.47671119016,169599.47671119016,136385.72000508884,169599.47671119016,136385.72000508884,88197.78663039794,169599.47671119016,136385.72000508884,169599.47671119016,70925.44662107635,136385.72000508884,169599.47671119016,169599.47671119016,79091.51286801486,136385.72000508884,169599.47671119016,109676.42696788596,210901.71683396355,88197.78663039794,109676.42696788596,169599.47671119016,169599.47671119016,109676.42696788596,210901.71683396355,169599.47671119016,169599.47671119016,169599.47671119016,169599.47671119016,57035.66008384843,109676.42696788596,169599.47671119016,109676.42696788596,169599.47671119016,57035.66008384843,136385.72000508884,109676.42696788596,136385.72000508884,88197.78663039794,169599.47671119016,109676.42696788596,136385.72000508884,169599.47671119016,70925.44662107635,169599.47671119016,109676.42696788596,109676.42696788596,169599.47671119016,70925.44662107635,210901.71683396355,169599.47671119016,169599.47671119016,109676.42696788596,210901.71683396355,88197.78663039794,136385.72000508884,210901.71683396355,136385.72000508884,109676.42696788596,136385.72000508884,169599.47671119016,169599.47671119016,169599.47671119016,136385.72000508884,136385.72000508884,88197.78663039794,169599.47671119016,57035.66008384843,169599.47671119016,169599.47671119016,136385.72000508884,169599.47671119016,136385.72000508884,136385.72000508884,70925.44662107635,136385.72000508884,169599.47671119016,109676.42696788596,109676.42696788596,109676.42696788596,169599.47671119016,210901.71683396355,109676.42696788596,70925.44662107635,136385.72000508884,136385.72000508884,136385.72000508884,210901.71683396355,169599.47671119016,210901.71683396355,70925.44662107635,109676.42696788596,169599.47671119016,136385.72000508884,109676.42696788596,210901.71683396355,136385.72000508884,88197.78663039794,169599.47671119016,136385.72000508884,57035.66008384843,169599.47671119016,169599.47671119016,169599.47671119016,169599.47671119016,169599.47671119016,136385.72000508884,169599.47671119016,136385.72000508884,169599.47671119016,169599.47671119016,169599.47671119016,169599.47671119016,136385.72000508884,136385.72000508884,169599.47671119016,136385.72000508884,88197.78663039794,70925.44662107635,109676.42696788596,169599.47671119016,210901.71683396355,169599.47671119016,136385.72000508884,70925.44662107635,169599.47671119016,169599.47671119016,136385.72000508884,169599.47671119016,169599.47671119016,109676.42696788596,169599.47671119016,109676.42696788596,169599.47671119016,136385.72000508884,136385.72000508884,136385.72000508884,210901.71683396355,210901.71683396355,136385.72000508884,109676.42696788596,109676.42696788596,210901.71683396355,210901.71683396355,88197.78663039794,136385.72000508884,88197.78663039794,70925.44662107635,109676.42696788596,169599.47671118987,169599.47671119016,45865.99980934921,88197.78663039794,109676.42696788596,109676.42696788596,109676.42696788596,70925.44662107635,45865.99980934921,169599.47671119016,88197.78663039794,109676.42696788596,169599.47671119016,70925.44662107635,136385.72000508884,70925.44662107635,169599.47671119016,326130.43478344945,109676.42696788596,169599.47671119016,136385.72000508884,169599.47671119016,169599.47671119016,70925.44662107635,70925.44662107635,109676.42696788596,136385.72000508884,169599.47671119016,136385.72000508884,109676.42696788596,169599.47671119016,169599.47671119016,210901.71683396355,169599.47671119016,169599.47671119016,136385.72000508884,109676.42696788596,136385.72000508884,88197.78663039794,210901.71683396355,169599.47671119016,57035.66008384843,88197.78663039794,136385.72000508884,169599.47671119016,210901.71683396355,169599.47671119016,109676.42696788596,210901.71683396355,136385.72000508884,88197.78663039794,169599.47671119016,136385.72000508884,70925.44662107635,169599.47671119016,136385.72000508884,88197.78663039794,136385.72000508884,210901.71683396355,210901.71683396355,169599.47671119016,169599.47671119016,169599.47671119016,136385.72000508884,88197.78663039794,98352.51956151408,88197.78663039794,136385.72000508884,109676.42696788596,169599.47671119016,210901.71683396355,136385.72000508884,70925.44662107635,70925.44662107661,136385.72000508884,109676.42696788596,70925.44662107635,88197.78663039794,88197.78663039794,169599.47671119016,169599.47671119016,136385.72000508884,169599.47671119016,109676.42696788596,88197.78663039794,136385.72000508884,136385.72000508884,88197.78663039794,136385.72000508884,210901.71683396355,70925.44662107635,70925.44662107635,70925.44662107635,88197.78663039794,136385.72000508884,109676.42696788596,109676.42696788596,136385.72000508884,136385.72000508884,136385.72000508884,109676.42696788596,136385.72000508884,136385.72000508884,136385.72000508884,169599.47671119016,109676.42696788596,136385.72000508884,122304.12282339725,136385.72000508884,88197.78663039794,88197.78663039794,169599.47671119016,136385.72000508884,136385.72000508884,70925.44662107635,169599.47671119016,109676.42696788596,88197.78663039794,109676.42696788596,88197.78663039794,210901.71683396355,109676.42696788596,210901.71683396355,109676.42696788596,136385.72000508884,88197.78663039794,169599.47671119016,136385.72000508884,169599.47671119016,169599.47671119016,70925.44662107635,88197.78663039794,136385.72000508884,109676.42696788596,136385.72000508884,136385.72000508884,169599.47671119016,109676.42696788596,169599.47671119016,210901.71683396355,136385.72000508884,169599.47671119016,136385.72000508884,189126.46777363523,169599.47671119016,109676.42696788596,136385.72000508884,136385.72000508884,109676.42696788596,88197.78663039794,136385.72000508884,88197.78663039794,210901.71683396355,88197.78663039794,136385.72000508884,136385.72000508884,136385.72000508884,70925.44662107635,70925.44662107635,88197.78663039794,109676.42696788596,169599.47671119016,169599.47671119016,88197.78663039794,70925.44662107635,88197.78663039794,109676.42696788596,136385.72000508884,109676.42696788596,136385.72000508884,109676.42696788596,169599.47671119016,109676.42696788596,109676.42696788596,88197.78663039794,169599.47671119016,109676.42696788596,88197.78663039794,210901.71683396355,70925.44662107635,169599.47671119016,109676.42696788596,136385.72000508884,136385.72000508884,109676.42696788596,109676.42696788596,109676.42696788596,169599.47671119016,169599.47671119016,136385.72000508884,136385.72000508884,136385.72000508884,136385.72000508884,109676.42696788596,210901.71683396355,136385.72000508884,88197.78663039794,136385.72000508884,109676.42696788596,70925.44662107635,136385.72000508884,88197.78663039794,136385.72000508884,70925.44662107635,169599.47671119016,169599.47671119016,70925.44662107635,169599.47671119016,136385.72000508884,169599.47671119016,136385.72000508884,109676.42696788596,136385.72000508884,70925.44662107635,109676.42696788596,70925.44662107635,109676.42696788596,136385.72000508884,109676.42696788596,136385.72000508884,169599.47671119016,70925.44662107635,109676.42696788596,136385.72000508884,136385.72000508884,136385.72000508884,109676.42696788596],\"type\":\"scatter\"}],                        {\"template\":{\"data\":{\"histogram2dcontour\":[{\"type\":\"histogram2dcontour\",\"colorbar\":{\"outlinewidth\":0,\"ticks\":\"\"},\"colorscale\":[[0.0,\"#0d0887\"],[0.1111111111111111,\"#46039f\"],[0.2222222222222222,\"#7201a8\"],[0.3333333333333333,\"#9c179e\"],[0.4444444444444444,\"#bd3786\"],[0.5555555555555556,\"#d8576b\"],[0.6666666666666666,\"#ed7953\"],[0.7777777777777778,\"#fb9f3a\"],[0.8888888888888888,\"#fdca26\"],[1.0,\"#f0f921\"]]}],\"choropleth\":[{\"type\":\"choropleth\",\"colorbar\":{\"outlinewidth\":0,\"ticks\":\"\"}}],\"histogram2d\":[{\"type\":\"histogram2d\",\"colorbar\":{\"outlinewidth\":0,\"ticks\":\"\"},\"colorscale\":[[0.0,\"#0d0887\"],[0.1111111111111111,\"#46039f\"],[0.2222222222222222,\"#7201a8\"],[0.3333333333333333,\"#9c179e\"],[0.4444444444444444,\"#bd3786\"],[0.5555555555555556,\"#d8576b\"],[0.6666666666666666,\"#ed7953\"],[0.7777777777777778,\"#fb9f3a\"],[0.8888888888888888,\"#fdca26\"],[1.0,\"#f0f921\"]]}],\"heatmap\":[{\"type\":\"heatmap\",\"colorbar\":{\"outlinewidth\":0,\"ticks\":\"\"},\"colorscale\":[[0.0,\"#0d0887\"],[0.1111111111111111,\"#46039f\"],[0.2222222222222222,\"#7201a8\"],[0.3333333333333333,\"#9c179e\"],[0.4444444444444444,\"#bd3786\"],[0.5555555555555556,\"#d8576b\"],[0.6666666666666666,\"#ed7953\"],[0.7777777777777778,\"#fb9f3a\"],[0.8888888888888888,\"#fdca26\"],[1.0,\"#f0f921\"]]}],\"heatmapgl\":[{\"type\":\"heatmapgl\",\"colorbar\":{\"outlinewidth\":0,\"ticks\":\"\"},\"colorscale\":[[0.0,\"#0d0887\"],[0.1111111111111111,\"#46039f\"],[0.2222222222222222,\"#7201a8\"],[0.3333333333333333,\"#9c179e\"],[0.4444444444444444,\"#bd3786\"],[0.5555555555555556,\"#d8576b\"],[0.6666666666666666,\"#ed7953\"],[0.7777777777777778,\"#fb9f3a\"],[0.8888888888888888,\"#fdca26\"],[1.0,\"#f0f921\"]]}],\"contourcarpet\":[{\"type\":\"contourcarpet\",\"colorbar\":{\"outlinewidth\":0,\"ticks\":\"\"}}],\"contour\":[{\"type\":\"contour\",\"colorbar\":{\"outlinewidth\":0,\"ticks\":\"\"},\"colorscale\":[[0.0,\"#0d0887\"],[0.1111111111111111,\"#46039f\"],[0.2222222222222222,\"#7201a8\"],[0.3333333333333333,\"#9c179e\"],[0.4444444444444444,\"#bd3786\"],[0.5555555555555556,\"#d8576b\"],[0.6666666666666666,\"#ed7953\"],[0.7777777777777778,\"#fb9f3a\"],[0.8888888888888888,\"#fdca26\"],[1.0,\"#f0f921\"]]}],\"surface\":[{\"type\":\"surface\",\"colorbar\":{\"outlinewidth\":0,\"ticks\":\"\"},\"colorscale\":[[0.0,\"#0d0887\"],[0.1111111111111111,\"#46039f\"],[0.2222222222222222,\"#7201a8\"],[0.3333333333333333,\"#9c179e\"],[0.4444444444444444,\"#bd3786\"],[0.5555555555555556,\"#d8576b\"],[0.6666666666666666,\"#ed7953\"],[0.7777777777777778,\"#fb9f3a\"],[0.8888888888888888,\"#fdca26\"],[1.0,\"#f0f921\"]]}],\"mesh3d\":[{\"type\":\"mesh3d\",\"colorbar\":{\"outlinewidth\":0,\"ticks\":\"\"}}],\"scatter\":[{\"fillpattern\":{\"fillmode\":\"overlay\",\"size\":10,\"solidity\":0.2},\"type\":\"scatter\"}],\"parcoords\":[{\"type\":\"parcoords\",\"line\":{\"colorbar\":{\"outlinewidth\":0,\"ticks\":\"\"}}}],\"scatterpolargl\":[{\"type\":\"scatterpolargl\",\"marker\":{\"colorbar\":{\"outlinewidth\":0,\"ticks\":\"\"}}}],\"bar\":[{\"error_x\":{\"color\":\"#2a3f5f\"},\"error_y\":{\"color\":\"#2a3f5f\"},\"marker\":{\"line\":{\"color\":\"#E5ECF6\",\"width\":0.5},\"pattern\":{\"fillmode\":\"overlay\",\"size\":10,\"solidity\":0.2}},\"type\":\"bar\"}],\"scattergeo\":[{\"type\":\"scattergeo\",\"marker\":{\"colorbar\":{\"outlinewidth\":0,\"ticks\":\"\"}}}],\"scatterpolar\":[{\"type\":\"scatterpolar\",\"marker\":{\"colorbar\":{\"outlinewidth\":0,\"ticks\":\"\"}}}],\"histogram\":[{\"marker\":{\"pattern\":{\"fillmode\":\"overlay\",\"size\":10,\"solidity\":0.2}},\"type\":\"histogram\"}],\"scattergl\":[{\"type\":\"scattergl\",\"marker\":{\"colorbar\":{\"outlinewidth\":0,\"ticks\":\"\"}}}],\"scatter3d\":[{\"type\":\"scatter3d\",\"line\":{\"colorbar\":{\"outlinewidth\":0,\"ticks\":\"\"}},\"marker\":{\"colorbar\":{\"outlinewidth\":0,\"ticks\":\"\"}}}],\"scattermapbox\":[{\"type\":\"scattermapbox\",\"marker\":{\"colorbar\":{\"outlinewidth\":0,\"ticks\":\"\"}}}],\"scatterternary\":[{\"type\":\"scatterternary\",\"marker\":{\"colorbar\":{\"outlinewidth\":0,\"ticks\":\"\"}}}],\"scattercarpet\":[{\"type\":\"scattercarpet\",\"marker\":{\"colorbar\":{\"outlinewidth\":0,\"ticks\":\"\"}}}],\"carpet\":[{\"aaxis\":{\"endlinecolor\":\"#2a3f5f\",\"gridcolor\":\"white\",\"linecolor\":\"white\",\"minorgridcolor\":\"white\",\"startlinecolor\":\"#2a3f5f\"},\"baxis\":{\"endlinecolor\":\"#2a3f5f\",\"gridcolor\":\"white\",\"linecolor\":\"white\",\"minorgridcolor\":\"white\",\"startlinecolor\":\"#2a3f5f\"},\"type\":\"carpet\"}],\"table\":[{\"cells\":{\"fill\":{\"color\":\"#EBF0F8\"},\"line\":{\"color\":\"white\"}},\"header\":{\"fill\":{\"color\":\"#C8D4E3\"},\"line\":{\"color\":\"white\"}},\"type\":\"table\"}],\"barpolar\":[{\"marker\":{\"line\":{\"color\":\"#E5ECF6\",\"width\":0.5},\"pattern\":{\"fillmode\":\"overlay\",\"size\":10,\"solidity\":0.2}},\"type\":\"barpolar\"}],\"pie\":[{\"automargin\":true,\"type\":\"pie\"}]},\"layout\":{\"autotypenumbers\":\"strict\",\"colorway\":[\"#636efa\",\"#EF553B\",\"#00cc96\",\"#ab63fa\",\"#FFA15A\",\"#19d3f3\",\"#FF6692\",\"#B6E880\",\"#FF97FF\",\"#FECB52\"],\"font\":{\"color\":\"#2a3f5f\"},\"hovermode\":\"closest\",\"hoverlabel\":{\"align\":\"left\"},\"paper_bgcolor\":\"white\",\"plot_bgcolor\":\"#E5ECF6\",\"polar\":{\"bgcolor\":\"#E5ECF6\",\"angularaxis\":{\"gridcolor\":\"white\",\"linecolor\":\"white\",\"ticks\":\"\"},\"radialaxis\":{\"gridcolor\":\"white\",\"linecolor\":\"white\",\"ticks\":\"\"}},\"ternary\":{\"bgcolor\":\"#E5ECF6\",\"aaxis\":{\"gridcolor\":\"white\",\"linecolor\":\"white\",\"ticks\":\"\"},\"baxis\":{\"gridcolor\":\"white\",\"linecolor\":\"white\",\"ticks\":\"\"},\"caxis\":{\"gridcolor\":\"white\",\"linecolor\":\"white\",\"ticks\":\"\"}},\"coloraxis\":{\"colorbar\":{\"outlinewidth\":0,\"ticks\":\"\"}},\"colorscale\":{\"sequential\":[[0.0,\"#0d0887\"],[0.1111111111111111,\"#46039f\"],[0.2222222222222222,\"#7201a8\"],[0.3333333333333333,\"#9c179e\"],[0.4444444444444444,\"#bd3786\"],[0.5555555555555556,\"#d8576b\"],[0.6666666666666666,\"#ed7953\"],[0.7777777777777778,\"#fb9f3a\"],[0.8888888888888888,\"#fdca26\"],[1.0,\"#f0f921\"]],\"sequentialminus\":[[0.0,\"#0d0887\"],[0.1111111111111111,\"#46039f\"],[0.2222222222222222,\"#7201a8\"],[0.3333333333333333,\"#9c179e\"],[0.4444444444444444,\"#bd3786\"],[0.5555555555555556,\"#d8576b\"],[0.6666666666666666,\"#ed7953\"],[0.7777777777777778,\"#fb9f3a\"],[0.8888888888888888,\"#fdca26\"],[1.0,\"#f0f921\"]],\"diverging\":[[0,\"#8e0152\"],[0.1,\"#c51b7d\"],[0.2,\"#de77ae\"],[0.3,\"#f1b6da\"],[0.4,\"#fde0ef\"],[0.5,\"#f7f7f7\"],[0.6,\"#e6f5d0\"],[0.7,\"#b8e186\"],[0.8,\"#7fbc41\"],[0.9,\"#4d9221\"],[1,\"#276419\"]]},\"xaxis\":{\"gridcolor\":\"white\",\"linecolor\":\"white\",\"ticks\":\"\",\"title\":{\"standoff\":15},\"zerolinecolor\":\"white\",\"automargin\":true,\"zerolinewidth\":2},\"yaxis\":{\"gridcolor\":\"white\",\"linecolor\":\"white\",\"ticks\":\"\",\"title\":{\"standoff\":15},\"zerolinecolor\":\"white\",\"automargin\":true,\"zerolinewidth\":2},\"scene\":{\"xaxis\":{\"backgroundcolor\":\"#E5ECF6\",\"gridcolor\":\"white\",\"linecolor\":\"white\",\"showbackground\":true,\"ticks\":\"\",\"zerolinecolor\":\"white\",\"gridwidth\":2},\"yaxis\":{\"backgroundcolor\":\"#E5ECF6\",\"gridcolor\":\"white\",\"linecolor\":\"white\",\"showbackground\":true,\"ticks\":\"\",\"zerolinecolor\":\"white\",\"gridwidth\":2},\"zaxis\":{\"backgroundcolor\":\"#E5ECF6\",\"gridcolor\":\"white\",\"linecolor\":\"white\",\"showbackground\":true,\"ticks\":\"\",\"zerolinecolor\":\"white\",\"gridwidth\":2}},\"shapedefaults\":{\"line\":{\"color\":\"#2a3f5f\"}},\"annotationdefaults\":{\"arrowcolor\":\"#2a3f5f\",\"arrowhead\":0,\"arrowwidth\":1},\"geo\":{\"bgcolor\":\"white\",\"landcolor\":\"#E5ECF6\",\"subunitcolor\":\"white\",\"showland\":true,\"showlakes\":true,\"lakecolor\":\"white\"},\"title\":{\"x\":0.05},\"mapbox\":{\"style\":\"light\"}}},\"xaxis\":{\"anchor\":\"y\",\"domain\":[0.0,1.0],\"title\":{\"text\":\"Product Rating\"}},\"yaxis\":{\"anchor\":\"x\",\"domain\":[0.0,1.0],\"title\":{\"text\":\"Revenue ($)\"},\"type\":\"log\"},\"legend\":{\"title\":{\"text\":\"Brand\"},\"tracegroupgap\":0,\"itemsizing\":\"constant\"},\"title\":{\"text\":\"Rating vs. Revenue Correlation with Review Count as Bubble Size\"}},                        {\"responsive\": true}                    ).then(function(){\n",
       "                            \n",
       "var gd = document.getElementById('325acb9e-004c-43b1-9989-9806512aee79');\n",
       "var x = new MutationObserver(function (mutations, observer) {{\n",
       "        var display = window.getComputedStyle(gd).display;\n",
       "        if (!display || display === 'none') {{\n",
       "            console.log([gd, 'removed!']);\n",
       "            Plotly.purge(gd);\n",
       "            observer.disconnect();\n",
       "        }}\n",
       "}});\n",
       "\n",
       "// Listen for the removal of the full notebook cells\n",
       "var notebookContainer = gd.closest('#notebook-container');\n",
       "if (notebookContainer) {{\n",
       "    x.observe(notebookContainer, {childList: true});\n",
       "}}\n",
       "\n",
       "// Listen for the clearing of the current output cell\n",
       "var outputEl = gd.closest('.output');\n",
       "if (outputEl) {{\n",
       "    x.observe(outputEl, {childList: true});\n",
       "}}\n",
       "\n",
       "                        })                };                });            </script>        </div>"
      ]
     },
     "metadata": {},
     "output_type": "display_data"
    }
   ],
   "source": [
    "# Filter out any potential outliers or erroneous data\n",
    "product_data = product_data[(product_data['Rating'] > 0) & (product_data['Revenue'] > 0)]\n",
    "\n",
    "# Create a bubble chart\n",
    "fig = px.scatter(\n",
    "    product_data,\n",
    "    x='Rating',\n",
    "    y='Revenue',\n",
    "    size='# of Reviews',  # Corrected to use the actual column name for number of reviews\n",
    "    color='Brand',  # Color code by brand for better brand-level insights\n",
    "    hover_name='Name',  # Show product name on hover\n",
    "    log_y=True,  # Log scale for revenue\n",
    "    title='Rating vs. Revenue Correlation with Review Count as Bubble Size',\n",
    "    labels={\n",
    "        'Rating': 'Product Rating',\n",
    "        'Revenue': 'Revenue ($)',\n",
    "        '# of Reviews': 'Number of Reviews'\n",
    "    }\n",
    ")\n",
    "\n",
    "# Prepare data for the trendline\n",
    "x = product_data['Rating']\n",
    "y = np.log(product_data['Revenue'])  # Log of Revenue for the linear trend\n",
    "z = np.polyfit(x, y, 1)  # Degree 1 polynomial for a linear fit\n",
    "p = np.poly1d(z)\n",
    "# Add the trend line to the plot\n",
    "fig.add_scatter(x=x, y=np.exp(p(x)), mode='lines', name='Trend Line')\n",
    "\n",
    "# Show the plot\n",
    "fig.show()"
   ]
  },
  {
   "cell_type": "markdown",
   "metadata": {},
   "source": [
    "Impact of Customer Reviews and Ratings on Revenue by Brand"
   ]
  },
  {
   "cell_type": "code",
   "execution_count": 30,
   "metadata": {},
   "outputs": [
    {
     "data": {
      "application/vnd.plotly.v1+json": {
       "config": {
        "plotlyServerURL": "https://plot.ly"
       },
       "data": [
        {
         "hovertemplate": "<b>%{hovertext}</b><br><br>Brands=9lives<br>Average Reviews=%{x}<br>Total Revenue ($)=%{y}<br>Total Units Sold=%{marker.size}<extra></extra>",
         "hovertext": [
          "9lives"
         ],
         "legendgroup": "9lives",
         "marker": {
          "color": "#636efa",
          "line": {
           "color": "DarkSlateGrey",
           "width": 1
          },
          "opacity": 0.7,
          "size": [
           66051.28315
          ],
          "sizemode": "area",
          "sizeref": 1277.771568145136,
          "symbol": "circle"
         },
         "mode": "markers",
         "name": "9lives",
         "orientation": "v",
         "showlegend": true,
         "type": "scatter",
         "x": [
          11095.546961325967
         ],
         "xaxis": "x",
         "y": [
          1163292.07346
         ],
         "yaxis": "y"
        },
        {
         "hovertemplate": "<b>%{hovertext}</b><br><br>Brands=Air Wick<br>Average Reviews=%{x}<br>Total Revenue ($)=%{y}<br>Total Units Sold=%{marker.size}<extra></extra>",
         "hovertext": [
          "Air Wick"
         ],
         "legendgroup": "Air Wick",
         "marker": {
          "color": "#EF553B",
          "line": {
           "color": "DarkSlateGrey",
           "width": 1
          },
          "opacity": 0.7,
          "size": [
           6486.838196153846
          ],
          "sizemode": "area",
          "sizeref": 1277.771568145136,
          "symbol": "circle"
         },
         "mode": "markers",
         "name": "Air Wick",
         "orientation": "v",
         "showlegend": true,
         "type": "scatter",
         "x": [
          3803.0588235294117
         ],
         "xaxis": "x",
         "y": [
          664197.2237408846
         ],
         "yaxis": "y"
        },
        {
         "hovertemplate": "<b>%{hovertext}</b><br><br>Brands=Blue Buffalo<br>Average Reviews=%{x}<br>Total Revenue ($)=%{y}<br>Total Units Sold=%{marker.size}<extra></extra>",
         "hovertext": [
          "Blue Buffalo"
         ],
         "legendgroup": "Blue Buffalo",
         "marker": {
          "color": "#00cc96",
          "line": {
           "color": "DarkSlateGrey",
           "width": 1
          },
          "opacity": 0.7,
          "size": [
           1173853.2913595533
          ],
          "sizemode": "area",
          "sizeref": 1277.771568145136,
          "symbol": "circle"
         },
         "mode": "markers",
         "name": "Blue Buffalo",
         "orientation": "v",
         "showlegend": true,
         "type": "scatter",
         "x": [
          7944.897009520559
         ],
         "xaxis": "x",
         "y": [
          40944054.89063754
         ],
         "yaxis": "y"
        },
        {
         "hovertemplate": "<b>%{hovertext}</b><br><br>Brands=Fancy Feast<br>Average Reviews=%{x}<br>Total Revenue ($)=%{y}<br>Total Units Sold=%{marker.size}<extra></extra>",
         "hovertext": [
          "Fancy Feast"
         ],
         "legendgroup": "Fancy Feast",
         "marker": {
          "color": "#ab63fa",
          "line": {
           "color": "DarkSlateGrey",
           "width": 1
          },
          "opacity": 0.7,
          "size": [
           65977.2745872487
          ],
          "sizemode": "area",
          "sizeref": 1277.771568145136,
          "symbol": "circle"
         },
         "mode": "markers",
         "name": "Fancy Feast",
         "orientation": "v",
         "showlegend": true,
         "type": "scatter",
         "x": [
          69363.5
         ],
         "xaxis": "x",
         "y": [
          1987341.7098253733
         ],
         "yaxis": "y"
        },
        {
         "hovertemplate": "<b>%{hovertext}</b><br><br>Brands=Friskies<br>Average Reviews=%{x}<br>Total Revenue ($)=%{y}<br>Total Units Sold=%{marker.size}<extra></extra>",
         "hovertext": [
          "Friskies"
         ],
         "legendgroup": "Friskies",
         "marker": {
          "color": "#FFA15A",
          "line": {
           "color": "DarkSlateGrey",
           "width": 1
          },
          "opacity": 0.7,
          "size": [
           1587849.4467566607
          ],
          "sizemode": "area",
          "sizeref": 1277.771568145136,
          "symbol": "circle"
         },
         "mode": "markers",
         "name": "Friskies",
         "orientation": "v",
         "showlegend": true,
         "type": "scatter",
         "x": [
          18690.634818636463
         ],
         "xaxis": "x",
         "y": [
          45162701.112168014
         ],
         "yaxis": "y"
        },
        {
         "hovertemplate": "<b>%{hovertext}</b><br><br>Brands=Gorilla Grip<br>Average Reviews=%{x}<br>Total Revenue ($)=%{y}<br>Total Units Sold=%{marker.size}<extra></extra>",
         "hovertext": [
          "Gorilla Grip"
         ],
         "legendgroup": "Gorilla Grip",
         "marker": {
          "color": "#19d3f3",
          "line": {
           "color": "DarkSlateGrey",
           "width": 1
          },
          "opacity": 0.7,
          "size": [
           49877.60262642137
          ],
          "sizemode": "area",
          "sizeref": 1277.771568145136,
          "symbol": "circle"
         },
         "mode": "markers",
         "name": "Gorilla Grip",
         "orientation": "v",
         "showlegend": true,
         "type": "scatter",
         "x": [
          23778.64
         ],
         "xaxis": "x",
         "y": [
          1320955.6658079838
         ],
         "yaxis": "y"
        },
        {
         "hovertemplate": "<b>%{hovertext}</b><br><br>Brands=Hill'S Pet Nutrition<br>Average Reviews=%{x}<br>Total Revenue ($)=%{y}<br>Total Units Sold=%{marker.size}<extra></extra>",
         "hovertext": [
          "Hill'S Pet Nutrition"
         ],
         "legendgroup": "Hill'S Pet Nutrition",
         "marker": {
          "color": "#FF6692",
          "line": {
           "color": "DarkSlateGrey",
           "width": 1
          },
          "opacity": 0.7,
          "size": [
           118740.46038335457
          ],
          "sizemode": "area",
          "sizeref": 1277.771568145136,
          "symbol": "circle"
         },
         "mode": "markers",
         "name": "Hill'S Pet Nutrition",
         "orientation": "v",
         "showlegend": true,
         "type": "scatter",
         "x": [
          4873.196548821548
         ],
         "xaxis": "x",
         "y": [
          8905373.91753626
         ],
         "yaxis": "y"
        },
        {
         "hovertemplate": "<b>%{hovertext}</b><br><br>Brands=Hill'S Prescription Diet<br>Average Reviews=%{x}<br>Total Revenue ($)=%{y}<br>Total Units Sold=%{marker.size}<extra></extra>",
         "hovertext": [
          "Hill'S Prescription Diet"
         ],
         "legendgroup": "Hill'S Prescription Diet",
         "marker": {
          "color": "#B6E880",
          "line": {
           "color": "DarkSlateGrey",
           "width": 1
          },
          "opacity": 0.7,
          "size": [
           95916.38106320197
          ],
          "sizemode": "area",
          "sizeref": 1277.771568145136,
          "symbol": "circle"
         },
         "mode": "markers",
         "name": "Hill'S Prescription Diet",
         "orientation": "v",
         "showlegend": true,
         "type": "scatter",
         "x": [
          1395.7067219152855
         ],
         "xaxis": "x",
         "y": [
          6171347.814916477
         ],
         "yaxis": "y"
        },
        {
         "hovertemplate": "<b>%{hovertext}</b><br><br>Brands=Hill'S Science Diet<br>Average Reviews=%{x}<br>Total Revenue ($)=%{y}<br>Total Units Sold=%{marker.size}<extra></extra>",
         "hovertext": [
          "Hill'S Science Diet"
         ],
         "legendgroup": "Hill'S Science Diet",
         "marker": {
          "color": "#FF97FF",
          "line": {
           "color": "DarkSlateGrey",
           "width": 1
          },
          "opacity": 0.7,
          "size": [
           648925.3467312419
          ],
          "sizemode": "area",
          "sizeref": 1277.771568145136,
          "symbol": "circle"
         },
         "mode": "markers",
         "name": "Hill'S Science Diet",
         "orientation": "v",
         "showlegend": true,
         "type": "scatter",
         "x": [
          11454.514121283872
         ],
         "xaxis": "x",
         "y": [
          29988608.785936028
         ],
         "yaxis": "y"
        },
        {
         "hovertemplate": "<b>%{hovertext}</b><br><br>Brands=Hoki Found<br>Average Reviews=%{x}<br>Total Revenue ($)=%{y}<br>Total Units Sold=%{marker.size}<extra></extra>",
         "hovertext": [
          "Hoki Found"
         ],
         "legendgroup": "Hoki Found",
         "marker": {
          "color": "#FECB52",
          "line": {
           "color": "DarkSlateGrey",
           "width": 1
          },
          "opacity": 0.7,
          "size": [
           170018.65460120153
          ],
          "sizemode": "area",
          "sizeref": 1277.771568145136,
          "symbol": "circle"
         },
         "mode": "markers",
         "name": "Hoki Found",
         "orientation": "v",
         "showlegend": true,
         "type": "scatter",
         "x": [
          10002.669863013698
         ],
         "xaxis": "x",
         "y": [
          3712204.9152255184
         ],
         "yaxis": "y"
        },
        {
         "hovertemplate": "<b>%{hovertext}</b><br><br>Brands=Iams<br>Average Reviews=%{x}<br>Total Revenue ($)=%{y}<br>Total Units Sold=%{marker.size}<extra></extra>",
         "hovertext": [
          "Iams"
         ],
         "legendgroup": "Iams",
         "marker": {
          "color": "#636efa",
          "line": {
           "color": "DarkSlateGrey",
           "width": 1
          },
          "opacity": 0.7,
          "size": [
           1237858.1099984297
          ],
          "sizemode": "area",
          "sizeref": 1277.771568145136,
          "symbol": "circle"
         },
         "mode": "markers",
         "name": "Iams",
         "orientation": "v",
         "showlegend": true,
         "type": "scatter",
         "x": [
          17781.615472901867
         ],
         "xaxis": "x",
         "y": [
          30287630.663158648
         ],
         "yaxis": "y"
        },
        {
         "hovertemplate": "<b>%{hovertext}</b><br><br>Brands=Instinct<br>Average Reviews=%{x}<br>Total Revenue ($)=%{y}<br>Total Units Sold=%{marker.size}<extra></extra>",
         "hovertext": [
          "Instinct"
         ],
         "legendgroup": "Instinct",
         "marker": {
          "color": "#EF553B",
          "line": {
           "color": "DarkSlateGrey",
           "width": 1
          },
          "opacity": 0.7,
          "size": [
           200358.00746538414
          ],
          "sizemode": "area",
          "sizeref": 1277.771568145136,
          "symbol": "circle"
         },
         "mode": "markers",
         "name": "Instinct",
         "orientation": "v",
         "showlegend": true,
         "type": "scatter",
         "x": [
          4960.767955801105
         ],
         "xaxis": "x",
         "y": [
          7866048.586245482
         ],
         "yaxis": "y"
        },
        {
         "hovertemplate": "<b>%{hovertext}</b><br><br>Brands=Iris<br>Average Reviews=%{x}<br>Total Revenue ($)=%{y}<br>Total Units Sold=%{marker.size}<extra></extra>",
         "hovertext": [
          "Iris"
         ],
         "legendgroup": "Iris",
         "marker": {
          "color": "#00cc96",
          "line": {
           "color": "DarkSlateGrey",
           "width": 1
          },
          "opacity": 0.7,
          "size": [
           189590.44945
          ],
          "sizemode": "area",
          "sizeref": 1277.771568145136,
          "symbol": "circle"
         },
         "mode": "markers",
         "name": "Iris",
         "orientation": "v",
         "showlegend": true,
         "type": "scatter",
         "x": [
          48613.61870229008
         ],
         "xaxis": "x",
         "y": [
          5576531.2085
         ],
         "yaxis": "y"
        },
        {
         "hovertemplate": "<b>%{hovertext}</b><br><br>Brands=Iris Usa<br>Average Reviews=%{x}<br>Total Revenue ($)=%{y}<br>Total Units Sold=%{marker.size}<extra></extra>",
         "hovertext": [
          "Iris Usa"
         ],
         "legendgroup": "Iris Usa",
         "marker": {
          "color": "#ab63fa",
          "line": {
           "color": "DarkSlateGrey",
           "width": 1
          },
          "opacity": 0.7,
          "size": [
           18889.6154
          ],
          "sizemode": "area",
          "sizeref": 1277.771568145136,
          "symbol": "circle"
         },
         "mode": "markers",
         "name": "Iris Usa",
         "orientation": "v",
         "showlegend": true,
         "type": "scatter",
         "x": [
          35667.392857142855
         ],
         "xaxis": "x",
         "y": [
          565608.5427605
         ],
         "yaxis": "y"
        },
        {
         "hovertemplate": "<b>%{hovertext}</b><br><br>Brands=Iris Usa, Inc.<br>Average Reviews=%{x}<br>Total Revenue ($)=%{y}<br>Total Units Sold=%{marker.size}<extra></extra>",
         "hovertext": [
          "Iris Usa, Inc."
         ],
         "legendgroup": "Iris Usa, Inc.",
         "marker": {
          "color": "#FFA15A",
          "line": {
           "color": "DarkSlateGrey",
           "width": 1
          },
          "opacity": 0.7,
          "size": [
           366473.4731666667
          ],
          "sizemode": "area",
          "sizeref": 1277.771568145136,
          "symbol": "circle"
         },
         "mode": "markers",
         "name": "Iris Usa, Inc.",
         "orientation": "v",
         "showlegend": true,
         "type": "scatter",
         "x": [
          46370.909523809525
         ],
         "xaxis": "x",
         "y": [
          11078516.619823555
         ],
         "yaxis": "y"
        },
        {
         "hovertemplate": "<b>%{hovertext}</b><br><br>Brands=Meow Mix<br>Average Reviews=%{x}<br>Total Revenue ($)=%{y}<br>Total Units Sold=%{marker.size}<extra></extra>",
         "hovertext": [
          "Meow Mix"
         ],
         "legendgroup": "Meow Mix",
         "marker": {
          "color": "#19d3f3",
          "line": {
           "color": "DarkSlateGrey",
           "width": 1
          },
          "opacity": 0.7,
          "size": [
           412618.1352263219
          ],
          "sizemode": "area",
          "sizeref": 1277.771568145136,
          "symbol": "circle"
         },
         "mode": "markers",
         "name": "Meow Mix",
         "orientation": "v",
         "showlegend": true,
         "type": "scatter",
         "x": [
          25785.613720073663
         ],
         "xaxis": "x",
         "y": [
          9223252.6300861
         ],
         "yaxis": "y"
        },
        {
         "hovertemplate": "<b>%{hovertext}</b><br><br>Brands=Merrick<br>Average Reviews=%{x}<br>Total Revenue ($)=%{y}<br>Total Units Sold=%{marker.size}<extra></extra>",
         "hovertext": [
          "Merrick"
         ],
         "legendgroup": "Merrick",
         "marker": {
          "color": "#FF6692",
          "line": {
           "color": "DarkSlateGrey",
           "width": 1
          },
          "opacity": 0.7,
          "size": [
           58128.95301666667
          ],
          "sizemode": "area",
          "sizeref": 1277.771568145136,
          "symbol": "circle"
         },
         "mode": "markers",
         "name": "Merrick",
         "orientation": "v",
         "showlegend": true,
         "type": "scatter",
         "x": [
          3486.509668508287
         ],
         "xaxis": "x",
         "y": [
          2726629.8387673656
         ],
         "yaxis": "y"
        },
        {
         "hovertemplate": "<b>%{hovertext}</b><br><br>Brands=Neater Feeder<br>Average Reviews=%{x}<br>Total Revenue ($)=%{y}<br>Total Units Sold=%{marker.size}<extra></extra>",
         "hovertext": [
          "Neater Feeder"
         ],
         "legendgroup": "Neater Feeder",
         "marker": {
          "color": "#B6E880",
          "line": {
           "color": "DarkSlateGrey",
           "width": 1
          },
          "opacity": 0.7,
          "size": [
           60483.26051503291
          ],
          "sizemode": "area",
          "sizeref": 1277.771568145136,
          "symbol": "circle"
         },
         "mode": "markers",
         "name": "Neater Feeder",
         "orientation": "v",
         "showlegend": true,
         "type": "scatter",
         "x": [
          21732.881215469613
         ],
         "xaxis": "x",
         "y": [
          3089840.3353644954
         ],
         "yaxis": "y"
        },
        {
         "hovertemplate": "<b>%{hovertext}</b><br><br>Brands=Orijen<br>Average Reviews=%{x}<br>Total Revenue ($)=%{y}<br>Total Units Sold=%{marker.size}<extra></extra>",
         "hovertext": [
          "Orijen"
         ],
         "legendgroup": "Orijen",
         "marker": {
          "color": "#FF97FF",
          "line": {
           "color": "DarkSlateGrey",
           "width": 1
          },
          "opacity": 0.7,
          "size": [
           142978.49703303486
          ],
          "sizemode": "area",
          "sizeref": 1277.771568145136,
          "symbol": "circle"
         },
         "mode": "markers",
         "name": "Orijen",
         "orientation": "v",
         "showlegend": true,
         "type": "scatter",
         "x": [
          6246.314917127072
         ],
         "xaxis": "x",
         "y": [
          6814277.724298108
         ],
         "yaxis": "y"
        },
        {
         "hovertemplate": "<b>%{hovertext}</b><br><br>Brands=Petlibro<br>Average Reviews=%{x}<br>Total Revenue ($)=%{y}<br>Total Units Sold=%{marker.size}<extra></extra>",
         "hovertext": [
          "Petlibro"
         ],
         "legendgroup": "Petlibro",
         "marker": {
          "color": "#FECB52",
          "line": {
           "color": "DarkSlateGrey",
           "width": 1
          },
          "opacity": 0.7,
          "size": [
           158046.67195228685
          ],
          "sizemode": "area",
          "sizeref": 1277.771568145136,
          "symbol": "circle"
         },
         "mode": "markers",
         "name": "Petlibro",
         "orientation": "v",
         "showlegend": true,
         "type": "scatter",
         "x": [
          9832.13884504078
         ],
         "xaxis": "x",
         "y": [
          10897081.39078102
         ],
         "yaxis": "y"
        },
        {
         "hovertemplate": "<b>%{hovertext}</b><br><br>Brands=Petsafe<br>Average Reviews=%{x}<br>Total Revenue ($)=%{y}<br>Total Units Sold=%{marker.size}<extra></extra>",
         "hovertext": [
          "Petsafe"
         ],
         "legendgroup": "Petsafe",
         "marker": {
          "color": "#636efa",
          "line": {
           "color": "DarkSlateGrey",
           "width": 1
          },
          "opacity": 0.7,
          "size": [
           46806.696949432786
          ],
          "sizemode": "area",
          "sizeref": 1277.771568145136,
          "symbol": "circle"
         },
         "mode": "markers",
         "name": "Petsafe",
         "orientation": "v",
         "showlegend": true,
         "type": "scatter",
         "x": [
          29106.220994475138
         ],
         "xaxis": "x",
         "y": [
          1118577.8866249342
         ],
         "yaxis": "y"
        },
        {
         "hovertemplate": "<b>%{hovertext}</b><br><br>Brands=Purina<br>Average Reviews=%{x}<br>Total Revenue ($)=%{y}<br>Total Units Sold=%{marker.size}<extra></extra>",
         "hovertext": [
          "Purina"
         ],
         "legendgroup": "Purina",
         "marker": {
          "color": "#EF553B",
          "line": {
           "color": "DarkSlateGrey",
           "width": 1
          },
          "opacity": 0.7,
          "size": [
           188057.34829119823
          ],
          "sizemode": "area",
          "sizeref": 1277.771568145136,
          "symbol": "circle"
         },
         "mode": "markers",
         "name": "Purina",
         "orientation": "v",
         "showlegend": true,
         "type": "scatter",
         "x": [
          14883.78550295858
         ],
         "xaxis": "x",
         "y": [
          5210906.67328338
         ],
         "yaxis": "y"
        },
        {
         "hovertemplate": "<b>%{hovertext}</b><br><br>Brands=Purina Beyond<br>Average Reviews=%{x}<br>Total Revenue ($)=%{y}<br>Total Units Sold=%{marker.size}<extra></extra>",
         "hovertext": [
          "Purina Beyond"
         ],
         "legendgroup": "Purina Beyond",
         "marker": {
          "color": "#00cc96",
          "line": {
           "color": "DarkSlateGrey",
           "width": 1
          },
          "opacity": 0.7,
          "size": [
           30217.533522975864
          ],
          "sizemode": "area",
          "sizeref": 1277.771568145136,
          "symbol": "circle"
         },
         "mode": "markers",
         "name": "Purina Beyond",
         "orientation": "v",
         "showlegend": true,
         "type": "scatter",
         "x": [
          2168.585164835165
         ],
         "xaxis": "x",
         "y": [
          566909.8631074735
         ],
         "yaxis": "y"
        },
        {
         "hovertemplate": "<b>%{hovertext}</b><br><br>Brands=Purina Fancy Feast<br>Average Reviews=%{x}<br>Total Revenue ($)=%{y}<br>Total Units Sold=%{marker.size}<extra></extra>",
         "hovertext": [
          "Purina Fancy Feast"
         ],
         "legendgroup": "Purina Fancy Feast",
         "marker": {
          "color": "#ab63fa",
          "line": {
           "color": "DarkSlateGrey",
           "width": 1
          },
          "opacity": 0.7,
          "size": [
           4599977.64532249
          ],
          "sizemode": "area",
          "sizeref": 1277.771568145136,
          "symbol": "circle"
         },
         "mode": "markers",
         "name": "Purina Fancy Feast",
         "orientation": "v",
         "showlegend": true,
         "type": "scatter",
         "x": [
          16908.665941645548
         ],
         "xaxis": "x",
         "y": [
          96383518.36667095
         ],
         "yaxis": "y"
        },
        {
         "hovertemplate": "<b>%{hovertext}</b><br><br>Brands=Purina One<br>Average Reviews=%{x}<br>Total Revenue ($)=%{y}<br>Total Units Sold=%{marker.size}<extra></extra>",
         "hovertext": [
          "Purina One"
         ],
         "legendgroup": "Purina One",
         "marker": {
          "color": "#FFA15A",
          "line": {
           "color": "DarkSlateGrey",
           "width": 1
          },
          "opacity": 0.7,
          "size": [
           1277281.6982148138
          ],
          "sizemode": "area",
          "sizeref": 1277.771568145136,
          "symbol": "circle"
         },
         "mode": "markers",
         "name": "Purina One",
         "orientation": "v",
         "showlegend": true,
         "type": "scatter",
         "x": [
          18962.37223756906
         ],
         "xaxis": "x",
         "y": [
          37906570.090558596
         ],
         "yaxis": "y"
        },
        {
         "hovertemplate": "<b>%{hovertext}</b><br><br>Brands=Purina Pro Plan<br>Average Reviews=%{x}<br>Total Revenue ($)=%{y}<br>Total Units Sold=%{marker.size}<extra></extra>",
         "hovertext": [
          "Purina Pro Plan"
         ],
         "legendgroup": "Purina Pro Plan",
         "marker": {
          "color": "#19d3f3",
          "line": {
           "color": "DarkSlateGrey",
           "width": 1
          },
          "opacity": 0.7,
          "size": [
           675708.2518128754
          ],
          "sizemode": "area",
          "sizeref": 1277.771568145136,
          "symbol": "circle"
         },
         "mode": "markers",
         "name": "Purina Pro Plan",
         "orientation": "v",
         "showlegend": true,
         "type": "scatter",
         "x": [
          4131.573092505131
         ],
         "xaxis": "x",
         "y": [
          28755638.50641942
         ],
         "yaxis": "y"
        },
        {
         "hovertemplate": "<b>%{hovertext}</b><br><br>Brands=Rachael Ray Nutrish<br>Average Reviews=%{x}<br>Total Revenue ($)=%{y}<br>Total Units Sold=%{marker.size}<extra></extra>",
         "hovertext": [
          "Rachael Ray Nutrish"
         ],
         "legendgroup": "Rachael Ray Nutrish",
         "marker": {
          "color": "#FF6692",
          "line": {
           "color": "DarkSlateGrey",
           "width": 1
          },
          "opacity": 0.7,
          "size": [
           261660.44455000001
          ],
          "sizemode": "area",
          "sizeref": 1277.771568145136,
          "symbol": "circle"
         },
         "mode": "markers",
         "name": "Rachael Ray Nutrish",
         "orientation": "v",
         "showlegend": true,
         "type": "scatter",
         "x": [
          19940.670810313073
         ],
         "xaxis": "x",
         "y": [
          4355580.375255854
         ],
         "yaxis": "y"
        },
        {
         "hovertemplate": "<b>%{hovertext}</b><br><br>Brands=Reopet<br>Average Reviews=%{x}<br>Total Revenue ($)=%{y}<br>Total Units Sold=%{marker.size}<extra></extra>",
         "hovertext": [
          "Reopet"
         ],
         "legendgroup": "Reopet",
         "marker": {
          "color": "#B6E880",
          "line": {
           "color": "DarkSlateGrey",
           "width": 1
          },
          "opacity": 0.7,
          "size": [
           465981.9667048139
          ],
          "sizemode": "area",
          "sizeref": 1277.771568145136,
          "symbol": "circle"
         },
         "mode": "markers",
         "name": "Reopet",
         "orientation": "v",
         "showlegend": true,
         "type": "scatter",
         "x": [
          35634.967808219175
         ],
         "xaxis": "x",
         "y": [
          11293134.272505095
         ],
         "yaxis": "y"
        },
        {
         "hovertemplate": "<b>%{hovertext}</b><br><br>Brands=Reveal Limited Ingredients Approved By Cats<br>Average Reviews=%{x}<br>Total Revenue ($)=%{y}<br>Total Units Sold=%{marker.size}<extra></extra>",
         "hovertext": [
          "Reveal Limited Ingredients Approved By Cats"
         ],
         "legendgroup": "Reveal Limited Ingredients Approved By Cats",
         "marker": {
          "color": "#FF97FF",
          "line": {
           "color": "DarkSlateGrey",
           "width": 1
          },
          "opacity": 0.7,
          "size": [
           92320.44632241012
          ],
          "sizemode": "area",
          "sizeref": 1277.771568145136,
          "symbol": "circle"
         },
         "mode": "markers",
         "name": "Reveal Limited Ingredients Approved By Cats",
         "orientation": "v",
         "showlegend": true,
         "type": "scatter",
         "x": [
          1855.4254143646408
         ],
         "xaxis": "x",
         "y": [
          3452009.1293648584
         ],
         "yaxis": "y"
        },
        {
         "hovertemplate": "<b>%{hovertext}</b><br><br>Brands=Royal Canin<br>Average Reviews=%{x}<br>Total Revenue ($)=%{y}<br>Total Units Sold=%{marker.size}<extra></extra>",
         "hovertext": [
          "Royal Canin"
         ],
         "legendgroup": "Royal Canin",
         "marker": {
          "color": "#FECB52",
          "line": {
           "color": "DarkSlateGrey",
           "width": 1
          },
          "opacity": 0.7,
          "size": [
           97021.30529999999
          ],
          "sizemode": "area",
          "sizeref": 1277.771568145136,
          "symbol": "circle"
         },
         "mode": "markers",
         "name": "Royal Canin",
         "orientation": "v",
         "showlegend": true,
         "type": "scatter",
         "x": [
          5066.1049723756905
         ],
         "xaxis": "x",
         "y": [
          3490728.190912
         ],
         "yaxis": "y"
        },
        {
         "hovertemplate": "<b>%{hovertext}</b><br><br>Brands=Sheba<br>Average Reviews=%{x}<br>Total Revenue ($)=%{y}<br>Total Units Sold=%{marker.size}<extra></extra>",
         "hovertext": [
          "Sheba"
         ],
         "legendgroup": "Sheba",
         "marker": {
          "color": "#636efa",
          "line": {
           "color": "DarkSlateGrey",
           "width": 1
          },
          "opacity": 0.7,
          "size": [
           1079101.5048104676
          ],
          "sizemode": "area",
          "sizeref": 1277.771568145136,
          "symbol": "circle"
         },
         "mode": "markers",
         "name": "Sheba",
         "orientation": "v",
         "showlegend": true,
         "type": "scatter",
         "x": [
          31055.56837488458
         ],
         "xaxis": "x",
         "y": [
          27770026.799285106
         ],
         "yaxis": "y"
        },
        {
         "hovertemplate": "<b>%{hovertext}</b><br><br>Brands=Sheba Wet Food<br>Average Reviews=%{x}<br>Total Revenue ($)=%{y}<br>Total Units Sold=%{marker.size}<extra></extra>",
         "hovertext": [
          "Sheba Wet Food"
         ],
         "legendgroup": "Sheba Wet Food",
         "marker": {
          "color": "#EF553B",
          "line": {
           "color": "DarkSlateGrey",
           "width": 1
          },
          "opacity": 0.7,
          "size": [
           252917.12372443473
          ],
          "sizemode": "area",
          "sizeref": 1277.771568145136,
          "symbol": "circle"
         },
         "mode": "markers",
         "name": "Sheba Wet Food",
         "orientation": "v",
         "showlegend": true,
         "type": "scatter",
         "x": [
          20814.013812154695
         ],
         "xaxis": "x",
         "y": [
          7007446.317119615
         ],
         "yaxis": "y"
        },
        {
         "hovertemplate": "<b>%{hovertext}</b><br><br>Brands=Simplehuman<br>Average Reviews=%{x}<br>Total Revenue ($)=%{y}<br>Total Units Sold=%{marker.size}<extra></extra>",
         "hovertext": [
          "Simplehuman"
         ],
         "legendgroup": "Simplehuman",
         "marker": {
          "color": "#00cc96",
          "line": {
           "color": "DarkSlateGrey",
           "width": 1
          },
          "opacity": 0.7,
          "size": [
           34186.33965
          ],
          "sizemode": "area",
          "sizeref": 1277.771568145136,
          "symbol": "circle"
         },
         "mode": "markers",
         "name": "Simplehuman",
         "orientation": "v",
         "showlegend": true,
         "type": "scatter",
         "x": [
          2351.176335174954
         ],
         "xaxis": "x",
         "y": [
          4604996.4867477985
         ],
         "yaxis": "y"
        },
        {
         "hovertemplate": "<b>%{hovertext}</b><br><br>Brands=Squishmallow<br>Average Reviews=%{x}<br>Total Revenue ($)=%{y}<br>Total Units Sold=%{marker.size}<extra></extra>",
         "hovertext": [
          "Squishmallow"
         ],
         "legendgroup": "Squishmallow",
         "marker": {
          "color": "#ab63fa",
          "line": {
           "color": "DarkSlateGrey",
           "width": 1
          },
          "opacity": 0.7,
          "size": [
           4266.09765
          ],
          "sizemode": "area",
          "sizeref": 1277.771568145136,
          "symbol": "circle"
         },
         "mode": "markers",
         "name": "Squishmallow",
         "orientation": "v",
         "showlegend": true,
         "type": "scatter",
         "x": [
          1281.9538461538461
         ],
         "xaxis": "x",
         "y": [
          123568.42856375
         ],
         "yaxis": "y"
        },
        {
         "hovertemplate": "<b>%{hovertext}</b><br><br>Brands=Stella & Chewy'S<br>Average Reviews=%{x}<br>Total Revenue ($)=%{y}<br>Total Units Sold=%{marker.size}<extra></extra>",
         "hovertext": [
          "Stella & Chewy'S"
         ],
         "legendgroup": "Stella & Chewy'S",
         "marker": {
          "color": "#FFA15A",
          "line": {
           "color": "DarkSlateGrey",
           "width": 1
          },
          "opacity": 0.7,
          "size": [
           132545.709375
          ],
          "sizemode": "area",
          "sizeref": 1277.771568145136,
          "symbol": "circle"
         },
         "mode": "markers",
         "name": "Stella & Chewy'S",
         "orientation": "v",
         "showlegend": true,
         "type": "scatter",
         "x": [
          6926.42817679558
         ],
         "xaxis": "x",
         "y": [
          2960246.87919425
         ],
         "yaxis": "y"
        },
        {
         "hovertemplate": "<b>%{hovertext}</b><br><br>Brands=Wellness<br>Average Reviews=%{x}<br>Total Revenue ($)=%{y}<br>Total Units Sold=%{marker.size}<extra></extra>",
         "hovertext": [
          "Wellness"
         ],
         "legendgroup": "Wellness",
         "marker": {
          "color": "#19d3f3",
          "line": {
           "color": "DarkSlateGrey",
           "width": 1
          },
          "opacity": 0.7,
          "size": [
           213017.71166924777
          ],
          "sizemode": "area",
          "sizeref": 1277.771568145136,
          "symbol": "circle"
         },
         "mode": "markers",
         "name": "Wellness",
         "orientation": "v",
         "showlegend": true,
         "type": "scatter",
         "x": [
          6371.196132596685
         ],
         "xaxis": "x",
         "y": [
          11075741.63557633
         ],
         "yaxis": "y"
        },
        {
         "hovertemplate": "<b>%{hovertext}</b><br><br>Brands=Wellness Natural Pet Food<br>Average Reviews=%{x}<br>Total Revenue ($)=%{y}<br>Total Units Sold=%{marker.size}<extra></extra>",
         "hovertext": [
          "Wellness Natural Pet Food"
         ],
         "legendgroup": "Wellness Natural Pet Food",
         "marker": {
          "color": "#FF6692",
          "line": {
           "color": "DarkSlateGrey",
           "width": 1
          },
          "opacity": 0.7,
          "size": [
           0
          ],
          "sizemode": "area",
          "sizeref": 1277.771568145136,
          "symbol": "circle"
         },
         "mode": "markers",
         "name": "Wellness Natural Pet Food",
         "orientation": "v",
         "showlegend": true,
         "type": "scatter",
         "x": [
          null
         ],
         "xaxis": "x",
         "y": [
          0
         ],
         "yaxis": "y"
        },
        {
         "hovertemplate": "<b>%{hovertext}</b><br><br>Brands=Weruva<br>Average Reviews=%{x}<br>Total Revenue ($)=%{y}<br>Total Units Sold=%{marker.size}<extra></extra>",
         "hovertext": [
          "Weruva"
         ],
         "legendgroup": "Weruva",
         "marker": {
          "color": "#B6E880",
          "line": {
           "color": "DarkSlateGrey",
           "width": 1
          },
          "opacity": 0.7,
          "size": [
           292238.5528467629
          ],
          "sizemode": "area",
          "sizeref": 1277.771568145136,
          "symbol": "circle"
         },
         "mode": "markers",
         "name": "Weruva",
         "orientation": "v",
         "showlegend": true,
         "type": "scatter",
         "x": [
          6151.57182320442
         ],
         "xaxis": "x",
         "y": [
          10705253.972289631
         ],
         "yaxis": "y"
        }
       ],
       "layout": {
        "legend": {
         "itemsizing": "constant",
         "title": {
          "text": "Brands"
         },
         "tracegroupgap": 0
        },
        "template": {
         "data": {
          "bar": [
           {
            "error_x": {
             "color": "#2a3f5f"
            },
            "error_y": {
             "color": "#2a3f5f"
            },
            "marker": {
             "line": {
              "color": "#E5ECF6",
              "width": 0.5
             },
             "pattern": {
              "fillmode": "overlay",
              "size": 10,
              "solidity": 0.2
             }
            },
            "type": "bar"
           }
          ],
          "barpolar": [
           {
            "marker": {
             "line": {
              "color": "#E5ECF6",
              "width": 0.5
             },
             "pattern": {
              "fillmode": "overlay",
              "size": 10,
              "solidity": 0.2
             }
            },
            "type": "barpolar"
           }
          ],
          "carpet": [
           {
            "aaxis": {
             "endlinecolor": "#2a3f5f",
             "gridcolor": "white",
             "linecolor": "white",
             "minorgridcolor": "white",
             "startlinecolor": "#2a3f5f"
            },
            "baxis": {
             "endlinecolor": "#2a3f5f",
             "gridcolor": "white",
             "linecolor": "white",
             "minorgridcolor": "white",
             "startlinecolor": "#2a3f5f"
            },
            "type": "carpet"
           }
          ],
          "choropleth": [
           {
            "colorbar": {
             "outlinewidth": 0,
             "ticks": ""
            },
            "type": "choropleth"
           }
          ],
          "contour": [
           {
            "colorbar": {
             "outlinewidth": 0,
             "ticks": ""
            },
            "colorscale": [
             [
              0,
              "#0d0887"
             ],
             [
              0.1111111111111111,
              "#46039f"
             ],
             [
              0.2222222222222222,
              "#7201a8"
             ],
             [
              0.3333333333333333,
              "#9c179e"
             ],
             [
              0.4444444444444444,
              "#bd3786"
             ],
             [
              0.5555555555555556,
              "#d8576b"
             ],
             [
              0.6666666666666666,
              "#ed7953"
             ],
             [
              0.7777777777777778,
              "#fb9f3a"
             ],
             [
              0.8888888888888888,
              "#fdca26"
             ],
             [
              1,
              "#f0f921"
             ]
            ],
            "type": "contour"
           }
          ],
          "contourcarpet": [
           {
            "colorbar": {
             "outlinewidth": 0,
             "ticks": ""
            },
            "type": "contourcarpet"
           }
          ],
          "heatmap": [
           {
            "colorbar": {
             "outlinewidth": 0,
             "ticks": ""
            },
            "colorscale": [
             [
              0,
              "#0d0887"
             ],
             [
              0.1111111111111111,
              "#46039f"
             ],
             [
              0.2222222222222222,
              "#7201a8"
             ],
             [
              0.3333333333333333,
              "#9c179e"
             ],
             [
              0.4444444444444444,
              "#bd3786"
             ],
             [
              0.5555555555555556,
              "#d8576b"
             ],
             [
              0.6666666666666666,
              "#ed7953"
             ],
             [
              0.7777777777777778,
              "#fb9f3a"
             ],
             [
              0.8888888888888888,
              "#fdca26"
             ],
             [
              1,
              "#f0f921"
             ]
            ],
            "type": "heatmap"
           }
          ],
          "heatmapgl": [
           {
            "colorbar": {
             "outlinewidth": 0,
             "ticks": ""
            },
            "colorscale": [
             [
              0,
              "#0d0887"
             ],
             [
              0.1111111111111111,
              "#46039f"
             ],
             [
              0.2222222222222222,
              "#7201a8"
             ],
             [
              0.3333333333333333,
              "#9c179e"
             ],
             [
              0.4444444444444444,
              "#bd3786"
             ],
             [
              0.5555555555555556,
              "#d8576b"
             ],
             [
              0.6666666666666666,
              "#ed7953"
             ],
             [
              0.7777777777777778,
              "#fb9f3a"
             ],
             [
              0.8888888888888888,
              "#fdca26"
             ],
             [
              1,
              "#f0f921"
             ]
            ],
            "type": "heatmapgl"
           }
          ],
          "histogram": [
           {
            "marker": {
             "pattern": {
              "fillmode": "overlay",
              "size": 10,
              "solidity": 0.2
             }
            },
            "type": "histogram"
           }
          ],
          "histogram2d": [
           {
            "colorbar": {
             "outlinewidth": 0,
             "ticks": ""
            },
            "colorscale": [
             [
              0,
              "#0d0887"
             ],
             [
              0.1111111111111111,
              "#46039f"
             ],
             [
              0.2222222222222222,
              "#7201a8"
             ],
             [
              0.3333333333333333,
              "#9c179e"
             ],
             [
              0.4444444444444444,
              "#bd3786"
             ],
             [
              0.5555555555555556,
              "#d8576b"
             ],
             [
              0.6666666666666666,
              "#ed7953"
             ],
             [
              0.7777777777777778,
              "#fb9f3a"
             ],
             [
              0.8888888888888888,
              "#fdca26"
             ],
             [
              1,
              "#f0f921"
             ]
            ],
            "type": "histogram2d"
           }
          ],
          "histogram2dcontour": [
           {
            "colorbar": {
             "outlinewidth": 0,
             "ticks": ""
            },
            "colorscale": [
             [
              0,
              "#0d0887"
             ],
             [
              0.1111111111111111,
              "#46039f"
             ],
             [
              0.2222222222222222,
              "#7201a8"
             ],
             [
              0.3333333333333333,
              "#9c179e"
             ],
             [
              0.4444444444444444,
              "#bd3786"
             ],
             [
              0.5555555555555556,
              "#d8576b"
             ],
             [
              0.6666666666666666,
              "#ed7953"
             ],
             [
              0.7777777777777778,
              "#fb9f3a"
             ],
             [
              0.8888888888888888,
              "#fdca26"
             ],
             [
              1,
              "#f0f921"
             ]
            ],
            "type": "histogram2dcontour"
           }
          ],
          "mesh3d": [
           {
            "colorbar": {
             "outlinewidth": 0,
             "ticks": ""
            },
            "type": "mesh3d"
           }
          ],
          "parcoords": [
           {
            "line": {
             "colorbar": {
              "outlinewidth": 0,
              "ticks": ""
             }
            },
            "type": "parcoords"
           }
          ],
          "pie": [
           {
            "automargin": true,
            "type": "pie"
           }
          ],
          "scatter": [
           {
            "fillpattern": {
             "fillmode": "overlay",
             "size": 10,
             "solidity": 0.2
            },
            "type": "scatter"
           }
          ],
          "scatter3d": [
           {
            "line": {
             "colorbar": {
              "outlinewidth": 0,
              "ticks": ""
             }
            },
            "marker": {
             "colorbar": {
              "outlinewidth": 0,
              "ticks": ""
             }
            },
            "type": "scatter3d"
           }
          ],
          "scattercarpet": [
           {
            "marker": {
             "colorbar": {
              "outlinewidth": 0,
              "ticks": ""
             }
            },
            "type": "scattercarpet"
           }
          ],
          "scattergeo": [
           {
            "marker": {
             "colorbar": {
              "outlinewidth": 0,
              "ticks": ""
             }
            },
            "type": "scattergeo"
           }
          ],
          "scattergl": [
           {
            "marker": {
             "colorbar": {
              "outlinewidth": 0,
              "ticks": ""
             }
            },
            "type": "scattergl"
           }
          ],
          "scattermapbox": [
           {
            "marker": {
             "colorbar": {
              "outlinewidth": 0,
              "ticks": ""
             }
            },
            "type": "scattermapbox"
           }
          ],
          "scatterpolar": [
           {
            "marker": {
             "colorbar": {
              "outlinewidth": 0,
              "ticks": ""
             }
            },
            "type": "scatterpolar"
           }
          ],
          "scatterpolargl": [
           {
            "marker": {
             "colorbar": {
              "outlinewidth": 0,
              "ticks": ""
             }
            },
            "type": "scatterpolargl"
           }
          ],
          "scatterternary": [
           {
            "marker": {
             "colorbar": {
              "outlinewidth": 0,
              "ticks": ""
             }
            },
            "type": "scatterternary"
           }
          ],
          "surface": [
           {
            "colorbar": {
             "outlinewidth": 0,
             "ticks": ""
            },
            "colorscale": [
             [
              0,
              "#0d0887"
             ],
             [
              0.1111111111111111,
              "#46039f"
             ],
             [
              0.2222222222222222,
              "#7201a8"
             ],
             [
              0.3333333333333333,
              "#9c179e"
             ],
             [
              0.4444444444444444,
              "#bd3786"
             ],
             [
              0.5555555555555556,
              "#d8576b"
             ],
             [
              0.6666666666666666,
              "#ed7953"
             ],
             [
              0.7777777777777778,
              "#fb9f3a"
             ],
             [
              0.8888888888888888,
              "#fdca26"
             ],
             [
              1,
              "#f0f921"
             ]
            ],
            "type": "surface"
           }
          ],
          "table": [
           {
            "cells": {
             "fill": {
              "color": "#EBF0F8"
             },
             "line": {
              "color": "white"
             }
            },
            "header": {
             "fill": {
              "color": "#C8D4E3"
             },
             "line": {
              "color": "white"
             }
            },
            "type": "table"
           }
          ]
         },
         "layout": {
          "annotationdefaults": {
           "arrowcolor": "#2a3f5f",
           "arrowhead": 0,
           "arrowwidth": 1
          },
          "autotypenumbers": "strict",
          "coloraxis": {
           "colorbar": {
            "outlinewidth": 0,
            "ticks": ""
           }
          },
          "colorscale": {
           "diverging": [
            [
             0,
             "#8e0152"
            ],
            [
             0.1,
             "#c51b7d"
            ],
            [
             0.2,
             "#de77ae"
            ],
            [
             0.3,
             "#f1b6da"
            ],
            [
             0.4,
             "#fde0ef"
            ],
            [
             0.5,
             "#f7f7f7"
            ],
            [
             0.6,
             "#e6f5d0"
            ],
            [
             0.7,
             "#b8e186"
            ],
            [
             0.8,
             "#7fbc41"
            ],
            [
             0.9,
             "#4d9221"
            ],
            [
             1,
             "#276419"
            ]
           ],
           "sequential": [
            [
             0,
             "#0d0887"
            ],
            [
             0.1111111111111111,
             "#46039f"
            ],
            [
             0.2222222222222222,
             "#7201a8"
            ],
            [
             0.3333333333333333,
             "#9c179e"
            ],
            [
             0.4444444444444444,
             "#bd3786"
            ],
            [
             0.5555555555555556,
             "#d8576b"
            ],
            [
             0.6666666666666666,
             "#ed7953"
            ],
            [
             0.7777777777777778,
             "#fb9f3a"
            ],
            [
             0.8888888888888888,
             "#fdca26"
            ],
            [
             1,
             "#f0f921"
            ]
           ],
           "sequentialminus": [
            [
             0,
             "#0d0887"
            ],
            [
             0.1111111111111111,
             "#46039f"
            ],
            [
             0.2222222222222222,
             "#7201a8"
            ],
            [
             0.3333333333333333,
             "#9c179e"
            ],
            [
             0.4444444444444444,
             "#bd3786"
            ],
            [
             0.5555555555555556,
             "#d8576b"
            ],
            [
             0.6666666666666666,
             "#ed7953"
            ],
            [
             0.7777777777777778,
             "#fb9f3a"
            ],
            [
             0.8888888888888888,
             "#fdca26"
            ],
            [
             1,
             "#f0f921"
            ]
           ]
          },
          "colorway": [
           "#636efa",
           "#EF553B",
           "#00cc96",
           "#ab63fa",
           "#FFA15A",
           "#19d3f3",
           "#FF6692",
           "#B6E880",
           "#FF97FF",
           "#FECB52"
          ],
          "font": {
           "color": "#2a3f5f"
          },
          "geo": {
           "bgcolor": "white",
           "lakecolor": "white",
           "landcolor": "#E5ECF6",
           "showlakes": true,
           "showland": true,
           "subunitcolor": "white"
          },
          "hoverlabel": {
           "align": "left"
          },
          "hovermode": "closest",
          "mapbox": {
           "style": "light"
          },
          "paper_bgcolor": "white",
          "plot_bgcolor": "#E5ECF6",
          "polar": {
           "angularaxis": {
            "gridcolor": "white",
            "linecolor": "white",
            "ticks": ""
           },
           "bgcolor": "#E5ECF6",
           "radialaxis": {
            "gridcolor": "white",
            "linecolor": "white",
            "ticks": ""
           }
          },
          "scene": {
           "xaxis": {
            "backgroundcolor": "#E5ECF6",
            "gridcolor": "white",
            "gridwidth": 2,
            "linecolor": "white",
            "showbackground": true,
            "ticks": "",
            "zerolinecolor": "white"
           },
           "yaxis": {
            "backgroundcolor": "#E5ECF6",
            "gridcolor": "white",
            "gridwidth": 2,
            "linecolor": "white",
            "showbackground": true,
            "ticks": "",
            "zerolinecolor": "white"
           },
           "zaxis": {
            "backgroundcolor": "#E5ECF6",
            "gridcolor": "white",
            "gridwidth": 2,
            "linecolor": "white",
            "showbackground": true,
            "ticks": "",
            "zerolinecolor": "white"
           }
          },
          "shapedefaults": {
           "line": {
            "color": "#2a3f5f"
           }
          },
          "ternary": {
           "aaxis": {
            "gridcolor": "white",
            "linecolor": "white",
            "ticks": ""
           },
           "baxis": {
            "gridcolor": "white",
            "linecolor": "white",
            "ticks": ""
           },
           "bgcolor": "#E5ECF6",
           "caxis": {
            "gridcolor": "white",
            "linecolor": "white",
            "ticks": ""
           }
          },
          "title": {
           "x": 0.05
          },
          "xaxis": {
           "automargin": true,
           "gridcolor": "white",
           "linecolor": "white",
           "ticks": "",
           "title": {
            "standoff": 15
           },
           "zerolinecolor": "white",
           "zerolinewidth": 2
          },
          "yaxis": {
           "automargin": true,
           "gridcolor": "white",
           "linecolor": "white",
           "ticks": "",
           "title": {
            "standoff": 15
           },
           "zerolinecolor": "white",
           "zerolinewidth": 2
          }
         }
        },
        "title": {
         "text": "Impact of Customer Reviews and Ratings on Revenue by Brand"
        },
        "xaxis": {
         "anchor": "y",
         "domain": [
          0,
          1
         ],
         "title": {
          "text": "Average Reviews"
         }
        },
        "yaxis": {
         "anchor": "x",
         "domain": [
          0,
          1
         ],
         "title": {
          "text": "Total Revenue ($)"
         }
        }
       }
      },
      "text/html": [
       "<div>                            <div id=\"daa7f17f-1593-4946-8667-2e26e55ed096\" class=\"plotly-graph-div\" style=\"height:525px; width:100%;\"></div>            <script type=\"text/javascript\">                require([\"plotly\"], function(Plotly) {                    window.PLOTLYENV=window.PLOTLYENV || {};                                    if (document.getElementById(\"daa7f17f-1593-4946-8667-2e26e55ed096\")) {                    Plotly.newPlot(                        \"daa7f17f-1593-4946-8667-2e26e55ed096\",                        [{\"hovertemplate\":\"\\u003cb\\u003e%{hovertext}\\u003c\\u002fb\\u003e\\u003cbr\\u003e\\u003cbr\\u003eBrands=9lives\\u003cbr\\u003eAverage Reviews=%{x}\\u003cbr\\u003eTotal Revenue ($)=%{y}\\u003cbr\\u003eTotal Units Sold=%{marker.size}\\u003cextra\\u003e\\u003c\\u002fextra\\u003e\",\"hovertext\":[\"9lives\"],\"legendgroup\":\"9lives\",\"marker\":{\"color\":\"#636efa\",\"opacity\":0.7,\"size\":[66051.28315],\"sizemode\":\"area\",\"sizeref\":1277.771568145136,\"symbol\":\"circle\",\"line\":{\"color\":\"DarkSlateGrey\",\"width\":1}},\"mode\":\"markers\",\"name\":\"9lives\",\"orientation\":\"v\",\"showlegend\":true,\"x\":[11095.546961325967],\"xaxis\":\"x\",\"y\":[1163292.07346],\"yaxis\":\"y\",\"type\":\"scatter\"},{\"hovertemplate\":\"\\u003cb\\u003e%{hovertext}\\u003c\\u002fb\\u003e\\u003cbr\\u003e\\u003cbr\\u003eBrands=Air Wick\\u003cbr\\u003eAverage Reviews=%{x}\\u003cbr\\u003eTotal Revenue ($)=%{y}\\u003cbr\\u003eTotal Units Sold=%{marker.size}\\u003cextra\\u003e\\u003c\\u002fextra\\u003e\",\"hovertext\":[\"Air Wick\"],\"legendgroup\":\"Air Wick\",\"marker\":{\"color\":\"#EF553B\",\"opacity\":0.7,\"size\":[6486.838196153846],\"sizemode\":\"area\",\"sizeref\":1277.771568145136,\"symbol\":\"circle\",\"line\":{\"color\":\"DarkSlateGrey\",\"width\":1}},\"mode\":\"markers\",\"name\":\"Air Wick\",\"orientation\":\"v\",\"showlegend\":true,\"x\":[3803.0588235294117],\"xaxis\":\"x\",\"y\":[664197.2237408846],\"yaxis\":\"y\",\"type\":\"scatter\"},{\"hovertemplate\":\"\\u003cb\\u003e%{hovertext}\\u003c\\u002fb\\u003e\\u003cbr\\u003e\\u003cbr\\u003eBrands=Blue Buffalo\\u003cbr\\u003eAverage Reviews=%{x}\\u003cbr\\u003eTotal Revenue ($)=%{y}\\u003cbr\\u003eTotal Units Sold=%{marker.size}\\u003cextra\\u003e\\u003c\\u002fextra\\u003e\",\"hovertext\":[\"Blue Buffalo\"],\"legendgroup\":\"Blue Buffalo\",\"marker\":{\"color\":\"#00cc96\",\"opacity\":0.7,\"size\":[1173853.2913595533],\"sizemode\":\"area\",\"sizeref\":1277.771568145136,\"symbol\":\"circle\",\"line\":{\"color\":\"DarkSlateGrey\",\"width\":1}},\"mode\":\"markers\",\"name\":\"Blue Buffalo\",\"orientation\":\"v\",\"showlegend\":true,\"x\":[7944.897009520559],\"xaxis\":\"x\",\"y\":[40944054.89063754],\"yaxis\":\"y\",\"type\":\"scatter\"},{\"hovertemplate\":\"\\u003cb\\u003e%{hovertext}\\u003c\\u002fb\\u003e\\u003cbr\\u003e\\u003cbr\\u003eBrands=Fancy Feast\\u003cbr\\u003eAverage Reviews=%{x}\\u003cbr\\u003eTotal Revenue ($)=%{y}\\u003cbr\\u003eTotal Units Sold=%{marker.size}\\u003cextra\\u003e\\u003c\\u002fextra\\u003e\",\"hovertext\":[\"Fancy Feast\"],\"legendgroup\":\"Fancy Feast\",\"marker\":{\"color\":\"#ab63fa\",\"opacity\":0.7,\"size\":[65977.2745872487],\"sizemode\":\"area\",\"sizeref\":1277.771568145136,\"symbol\":\"circle\",\"line\":{\"color\":\"DarkSlateGrey\",\"width\":1}},\"mode\":\"markers\",\"name\":\"Fancy Feast\",\"orientation\":\"v\",\"showlegend\":true,\"x\":[69363.5],\"xaxis\":\"x\",\"y\":[1987341.7098253733],\"yaxis\":\"y\",\"type\":\"scatter\"},{\"hovertemplate\":\"\\u003cb\\u003e%{hovertext}\\u003c\\u002fb\\u003e\\u003cbr\\u003e\\u003cbr\\u003eBrands=Friskies\\u003cbr\\u003eAverage Reviews=%{x}\\u003cbr\\u003eTotal Revenue ($)=%{y}\\u003cbr\\u003eTotal Units Sold=%{marker.size}\\u003cextra\\u003e\\u003c\\u002fextra\\u003e\",\"hovertext\":[\"Friskies\"],\"legendgroup\":\"Friskies\",\"marker\":{\"color\":\"#FFA15A\",\"opacity\":0.7,\"size\":[1587849.4467566607],\"sizemode\":\"area\",\"sizeref\":1277.771568145136,\"symbol\":\"circle\",\"line\":{\"color\":\"DarkSlateGrey\",\"width\":1}},\"mode\":\"markers\",\"name\":\"Friskies\",\"orientation\":\"v\",\"showlegend\":true,\"x\":[18690.634818636463],\"xaxis\":\"x\",\"y\":[45162701.112168014],\"yaxis\":\"y\",\"type\":\"scatter\"},{\"hovertemplate\":\"\\u003cb\\u003e%{hovertext}\\u003c\\u002fb\\u003e\\u003cbr\\u003e\\u003cbr\\u003eBrands=Gorilla Grip\\u003cbr\\u003eAverage Reviews=%{x}\\u003cbr\\u003eTotal Revenue ($)=%{y}\\u003cbr\\u003eTotal Units Sold=%{marker.size}\\u003cextra\\u003e\\u003c\\u002fextra\\u003e\",\"hovertext\":[\"Gorilla Grip\"],\"legendgroup\":\"Gorilla Grip\",\"marker\":{\"color\":\"#19d3f3\",\"opacity\":0.7,\"size\":[49877.60262642137],\"sizemode\":\"area\",\"sizeref\":1277.771568145136,\"symbol\":\"circle\",\"line\":{\"color\":\"DarkSlateGrey\",\"width\":1}},\"mode\":\"markers\",\"name\":\"Gorilla Grip\",\"orientation\":\"v\",\"showlegend\":true,\"x\":[23778.64],\"xaxis\":\"x\",\"y\":[1320955.6658079838],\"yaxis\":\"y\",\"type\":\"scatter\"},{\"hovertemplate\":\"\\u003cb\\u003e%{hovertext}\\u003c\\u002fb\\u003e\\u003cbr\\u003e\\u003cbr\\u003eBrands=Hill'S Pet Nutrition\\u003cbr\\u003eAverage Reviews=%{x}\\u003cbr\\u003eTotal Revenue ($)=%{y}\\u003cbr\\u003eTotal Units Sold=%{marker.size}\\u003cextra\\u003e\\u003c\\u002fextra\\u003e\",\"hovertext\":[\"Hill'S Pet Nutrition\"],\"legendgroup\":\"Hill'S Pet Nutrition\",\"marker\":{\"color\":\"#FF6692\",\"opacity\":0.7,\"size\":[118740.46038335457],\"sizemode\":\"area\",\"sizeref\":1277.771568145136,\"symbol\":\"circle\",\"line\":{\"color\":\"DarkSlateGrey\",\"width\":1}},\"mode\":\"markers\",\"name\":\"Hill'S Pet Nutrition\",\"orientation\":\"v\",\"showlegend\":true,\"x\":[4873.196548821548],\"xaxis\":\"x\",\"y\":[8905373.91753626],\"yaxis\":\"y\",\"type\":\"scatter\"},{\"hovertemplate\":\"\\u003cb\\u003e%{hovertext}\\u003c\\u002fb\\u003e\\u003cbr\\u003e\\u003cbr\\u003eBrands=Hill'S Prescription Diet\\u003cbr\\u003eAverage Reviews=%{x}\\u003cbr\\u003eTotal Revenue ($)=%{y}\\u003cbr\\u003eTotal Units Sold=%{marker.size}\\u003cextra\\u003e\\u003c\\u002fextra\\u003e\",\"hovertext\":[\"Hill'S Prescription Diet\"],\"legendgroup\":\"Hill'S Prescription Diet\",\"marker\":{\"color\":\"#B6E880\",\"opacity\":0.7,\"size\":[95916.38106320197],\"sizemode\":\"area\",\"sizeref\":1277.771568145136,\"symbol\":\"circle\",\"line\":{\"color\":\"DarkSlateGrey\",\"width\":1}},\"mode\":\"markers\",\"name\":\"Hill'S Prescription Diet\",\"orientation\":\"v\",\"showlegend\":true,\"x\":[1395.7067219152855],\"xaxis\":\"x\",\"y\":[6171347.814916477],\"yaxis\":\"y\",\"type\":\"scatter\"},{\"hovertemplate\":\"\\u003cb\\u003e%{hovertext}\\u003c\\u002fb\\u003e\\u003cbr\\u003e\\u003cbr\\u003eBrands=Hill'S Science Diet\\u003cbr\\u003eAverage Reviews=%{x}\\u003cbr\\u003eTotal Revenue ($)=%{y}\\u003cbr\\u003eTotal Units Sold=%{marker.size}\\u003cextra\\u003e\\u003c\\u002fextra\\u003e\",\"hovertext\":[\"Hill'S Science Diet\"],\"legendgroup\":\"Hill'S Science Diet\",\"marker\":{\"color\":\"#FF97FF\",\"opacity\":0.7,\"size\":[648925.3467312419],\"sizemode\":\"area\",\"sizeref\":1277.771568145136,\"symbol\":\"circle\",\"line\":{\"color\":\"DarkSlateGrey\",\"width\":1}},\"mode\":\"markers\",\"name\":\"Hill'S Science Diet\",\"orientation\":\"v\",\"showlegend\":true,\"x\":[11454.514121283872],\"xaxis\":\"x\",\"y\":[29988608.785936028],\"yaxis\":\"y\",\"type\":\"scatter\"},{\"hovertemplate\":\"\\u003cb\\u003e%{hovertext}\\u003c\\u002fb\\u003e\\u003cbr\\u003e\\u003cbr\\u003eBrands=Hoki Found\\u003cbr\\u003eAverage Reviews=%{x}\\u003cbr\\u003eTotal Revenue ($)=%{y}\\u003cbr\\u003eTotal Units Sold=%{marker.size}\\u003cextra\\u003e\\u003c\\u002fextra\\u003e\",\"hovertext\":[\"Hoki Found\"],\"legendgroup\":\"Hoki Found\",\"marker\":{\"color\":\"#FECB52\",\"opacity\":0.7,\"size\":[170018.65460120153],\"sizemode\":\"area\",\"sizeref\":1277.771568145136,\"symbol\":\"circle\",\"line\":{\"color\":\"DarkSlateGrey\",\"width\":1}},\"mode\":\"markers\",\"name\":\"Hoki Found\",\"orientation\":\"v\",\"showlegend\":true,\"x\":[10002.669863013698],\"xaxis\":\"x\",\"y\":[3712204.9152255184],\"yaxis\":\"y\",\"type\":\"scatter\"},{\"hovertemplate\":\"\\u003cb\\u003e%{hovertext}\\u003c\\u002fb\\u003e\\u003cbr\\u003e\\u003cbr\\u003eBrands=Iams\\u003cbr\\u003eAverage Reviews=%{x}\\u003cbr\\u003eTotal Revenue ($)=%{y}\\u003cbr\\u003eTotal Units Sold=%{marker.size}\\u003cextra\\u003e\\u003c\\u002fextra\\u003e\",\"hovertext\":[\"Iams\"],\"legendgroup\":\"Iams\",\"marker\":{\"color\":\"#636efa\",\"opacity\":0.7,\"size\":[1237858.1099984297],\"sizemode\":\"area\",\"sizeref\":1277.771568145136,\"symbol\":\"circle\",\"line\":{\"color\":\"DarkSlateGrey\",\"width\":1}},\"mode\":\"markers\",\"name\":\"Iams\",\"orientation\":\"v\",\"showlegend\":true,\"x\":[17781.615472901867],\"xaxis\":\"x\",\"y\":[30287630.663158648],\"yaxis\":\"y\",\"type\":\"scatter\"},{\"hovertemplate\":\"\\u003cb\\u003e%{hovertext}\\u003c\\u002fb\\u003e\\u003cbr\\u003e\\u003cbr\\u003eBrands=Instinct\\u003cbr\\u003eAverage Reviews=%{x}\\u003cbr\\u003eTotal Revenue ($)=%{y}\\u003cbr\\u003eTotal Units Sold=%{marker.size}\\u003cextra\\u003e\\u003c\\u002fextra\\u003e\",\"hovertext\":[\"Instinct\"],\"legendgroup\":\"Instinct\",\"marker\":{\"color\":\"#EF553B\",\"opacity\":0.7,\"size\":[200358.00746538414],\"sizemode\":\"area\",\"sizeref\":1277.771568145136,\"symbol\":\"circle\",\"line\":{\"color\":\"DarkSlateGrey\",\"width\":1}},\"mode\":\"markers\",\"name\":\"Instinct\",\"orientation\":\"v\",\"showlegend\":true,\"x\":[4960.767955801105],\"xaxis\":\"x\",\"y\":[7866048.586245482],\"yaxis\":\"y\",\"type\":\"scatter\"},{\"hovertemplate\":\"\\u003cb\\u003e%{hovertext}\\u003c\\u002fb\\u003e\\u003cbr\\u003e\\u003cbr\\u003eBrands=Iris\\u003cbr\\u003eAverage Reviews=%{x}\\u003cbr\\u003eTotal Revenue ($)=%{y}\\u003cbr\\u003eTotal Units Sold=%{marker.size}\\u003cextra\\u003e\\u003c\\u002fextra\\u003e\",\"hovertext\":[\"Iris\"],\"legendgroup\":\"Iris\",\"marker\":{\"color\":\"#00cc96\",\"opacity\":0.7,\"size\":[189590.44945],\"sizemode\":\"area\",\"sizeref\":1277.771568145136,\"symbol\":\"circle\",\"line\":{\"color\":\"DarkSlateGrey\",\"width\":1}},\"mode\":\"markers\",\"name\":\"Iris\",\"orientation\":\"v\",\"showlegend\":true,\"x\":[48613.61870229008],\"xaxis\":\"x\",\"y\":[5576531.2085],\"yaxis\":\"y\",\"type\":\"scatter\"},{\"hovertemplate\":\"\\u003cb\\u003e%{hovertext}\\u003c\\u002fb\\u003e\\u003cbr\\u003e\\u003cbr\\u003eBrands=Iris Usa\\u003cbr\\u003eAverage Reviews=%{x}\\u003cbr\\u003eTotal Revenue ($)=%{y}\\u003cbr\\u003eTotal Units Sold=%{marker.size}\\u003cextra\\u003e\\u003c\\u002fextra\\u003e\",\"hovertext\":[\"Iris Usa\"],\"legendgroup\":\"Iris Usa\",\"marker\":{\"color\":\"#ab63fa\",\"opacity\":0.7,\"size\":[18889.6154],\"sizemode\":\"area\",\"sizeref\":1277.771568145136,\"symbol\":\"circle\",\"line\":{\"color\":\"DarkSlateGrey\",\"width\":1}},\"mode\":\"markers\",\"name\":\"Iris Usa\",\"orientation\":\"v\",\"showlegend\":true,\"x\":[35667.392857142855],\"xaxis\":\"x\",\"y\":[565608.5427605],\"yaxis\":\"y\",\"type\":\"scatter\"},{\"hovertemplate\":\"\\u003cb\\u003e%{hovertext}\\u003c\\u002fb\\u003e\\u003cbr\\u003e\\u003cbr\\u003eBrands=Iris Usa, Inc.\\u003cbr\\u003eAverage Reviews=%{x}\\u003cbr\\u003eTotal Revenue ($)=%{y}\\u003cbr\\u003eTotal Units Sold=%{marker.size}\\u003cextra\\u003e\\u003c\\u002fextra\\u003e\",\"hovertext\":[\"Iris Usa, Inc.\"],\"legendgroup\":\"Iris Usa, Inc.\",\"marker\":{\"color\":\"#FFA15A\",\"opacity\":0.7,\"size\":[366473.4731666667],\"sizemode\":\"area\",\"sizeref\":1277.771568145136,\"symbol\":\"circle\",\"line\":{\"color\":\"DarkSlateGrey\",\"width\":1}},\"mode\":\"markers\",\"name\":\"Iris Usa, Inc.\",\"orientation\":\"v\",\"showlegend\":true,\"x\":[46370.909523809525],\"xaxis\":\"x\",\"y\":[11078516.619823555],\"yaxis\":\"y\",\"type\":\"scatter\"},{\"hovertemplate\":\"\\u003cb\\u003e%{hovertext}\\u003c\\u002fb\\u003e\\u003cbr\\u003e\\u003cbr\\u003eBrands=Meow Mix\\u003cbr\\u003eAverage Reviews=%{x}\\u003cbr\\u003eTotal Revenue ($)=%{y}\\u003cbr\\u003eTotal Units Sold=%{marker.size}\\u003cextra\\u003e\\u003c\\u002fextra\\u003e\",\"hovertext\":[\"Meow Mix\"],\"legendgroup\":\"Meow Mix\",\"marker\":{\"color\":\"#19d3f3\",\"opacity\":0.7,\"size\":[412618.1352263219],\"sizemode\":\"area\",\"sizeref\":1277.771568145136,\"symbol\":\"circle\",\"line\":{\"color\":\"DarkSlateGrey\",\"width\":1}},\"mode\":\"markers\",\"name\":\"Meow Mix\",\"orientation\":\"v\",\"showlegend\":true,\"x\":[25785.613720073663],\"xaxis\":\"x\",\"y\":[9223252.6300861],\"yaxis\":\"y\",\"type\":\"scatter\"},{\"hovertemplate\":\"\\u003cb\\u003e%{hovertext}\\u003c\\u002fb\\u003e\\u003cbr\\u003e\\u003cbr\\u003eBrands=Merrick\\u003cbr\\u003eAverage Reviews=%{x}\\u003cbr\\u003eTotal Revenue ($)=%{y}\\u003cbr\\u003eTotal Units Sold=%{marker.size}\\u003cextra\\u003e\\u003c\\u002fextra\\u003e\",\"hovertext\":[\"Merrick\"],\"legendgroup\":\"Merrick\",\"marker\":{\"color\":\"#FF6692\",\"opacity\":0.7,\"size\":[58128.95301666667],\"sizemode\":\"area\",\"sizeref\":1277.771568145136,\"symbol\":\"circle\",\"line\":{\"color\":\"DarkSlateGrey\",\"width\":1}},\"mode\":\"markers\",\"name\":\"Merrick\",\"orientation\":\"v\",\"showlegend\":true,\"x\":[3486.509668508287],\"xaxis\":\"x\",\"y\":[2726629.8387673656],\"yaxis\":\"y\",\"type\":\"scatter\"},{\"hovertemplate\":\"\\u003cb\\u003e%{hovertext}\\u003c\\u002fb\\u003e\\u003cbr\\u003e\\u003cbr\\u003eBrands=Neater Feeder\\u003cbr\\u003eAverage Reviews=%{x}\\u003cbr\\u003eTotal Revenue ($)=%{y}\\u003cbr\\u003eTotal Units Sold=%{marker.size}\\u003cextra\\u003e\\u003c\\u002fextra\\u003e\",\"hovertext\":[\"Neater Feeder\"],\"legendgroup\":\"Neater Feeder\",\"marker\":{\"color\":\"#B6E880\",\"opacity\":0.7,\"size\":[60483.26051503291],\"sizemode\":\"area\",\"sizeref\":1277.771568145136,\"symbol\":\"circle\",\"line\":{\"color\":\"DarkSlateGrey\",\"width\":1}},\"mode\":\"markers\",\"name\":\"Neater Feeder\",\"orientation\":\"v\",\"showlegend\":true,\"x\":[21732.881215469613],\"xaxis\":\"x\",\"y\":[3089840.3353644954],\"yaxis\":\"y\",\"type\":\"scatter\"},{\"hovertemplate\":\"\\u003cb\\u003e%{hovertext}\\u003c\\u002fb\\u003e\\u003cbr\\u003e\\u003cbr\\u003eBrands=Orijen\\u003cbr\\u003eAverage Reviews=%{x}\\u003cbr\\u003eTotal Revenue ($)=%{y}\\u003cbr\\u003eTotal Units Sold=%{marker.size}\\u003cextra\\u003e\\u003c\\u002fextra\\u003e\",\"hovertext\":[\"Orijen\"],\"legendgroup\":\"Orijen\",\"marker\":{\"color\":\"#FF97FF\",\"opacity\":0.7,\"size\":[142978.49703303486],\"sizemode\":\"area\",\"sizeref\":1277.771568145136,\"symbol\":\"circle\",\"line\":{\"color\":\"DarkSlateGrey\",\"width\":1}},\"mode\":\"markers\",\"name\":\"Orijen\",\"orientation\":\"v\",\"showlegend\":true,\"x\":[6246.314917127072],\"xaxis\":\"x\",\"y\":[6814277.724298108],\"yaxis\":\"y\",\"type\":\"scatter\"},{\"hovertemplate\":\"\\u003cb\\u003e%{hovertext}\\u003c\\u002fb\\u003e\\u003cbr\\u003e\\u003cbr\\u003eBrands=Petlibro\\u003cbr\\u003eAverage Reviews=%{x}\\u003cbr\\u003eTotal Revenue ($)=%{y}\\u003cbr\\u003eTotal Units Sold=%{marker.size}\\u003cextra\\u003e\\u003c\\u002fextra\\u003e\",\"hovertext\":[\"Petlibro\"],\"legendgroup\":\"Petlibro\",\"marker\":{\"color\":\"#FECB52\",\"opacity\":0.7,\"size\":[158046.67195228685],\"sizemode\":\"area\",\"sizeref\":1277.771568145136,\"symbol\":\"circle\",\"line\":{\"color\":\"DarkSlateGrey\",\"width\":1}},\"mode\":\"markers\",\"name\":\"Petlibro\",\"orientation\":\"v\",\"showlegend\":true,\"x\":[9832.13884504078],\"xaxis\":\"x\",\"y\":[10897081.39078102],\"yaxis\":\"y\",\"type\":\"scatter\"},{\"hovertemplate\":\"\\u003cb\\u003e%{hovertext}\\u003c\\u002fb\\u003e\\u003cbr\\u003e\\u003cbr\\u003eBrands=Petsafe\\u003cbr\\u003eAverage Reviews=%{x}\\u003cbr\\u003eTotal Revenue ($)=%{y}\\u003cbr\\u003eTotal Units Sold=%{marker.size}\\u003cextra\\u003e\\u003c\\u002fextra\\u003e\",\"hovertext\":[\"Petsafe\"],\"legendgroup\":\"Petsafe\",\"marker\":{\"color\":\"#636efa\",\"opacity\":0.7,\"size\":[46806.696949432786],\"sizemode\":\"area\",\"sizeref\":1277.771568145136,\"symbol\":\"circle\",\"line\":{\"color\":\"DarkSlateGrey\",\"width\":1}},\"mode\":\"markers\",\"name\":\"Petsafe\",\"orientation\":\"v\",\"showlegend\":true,\"x\":[29106.220994475138],\"xaxis\":\"x\",\"y\":[1118577.8866249342],\"yaxis\":\"y\",\"type\":\"scatter\"},{\"hovertemplate\":\"\\u003cb\\u003e%{hovertext}\\u003c\\u002fb\\u003e\\u003cbr\\u003e\\u003cbr\\u003eBrands=Purina\\u003cbr\\u003eAverage Reviews=%{x}\\u003cbr\\u003eTotal Revenue ($)=%{y}\\u003cbr\\u003eTotal Units Sold=%{marker.size}\\u003cextra\\u003e\\u003c\\u002fextra\\u003e\",\"hovertext\":[\"Purina\"],\"legendgroup\":\"Purina\",\"marker\":{\"color\":\"#EF553B\",\"opacity\":0.7,\"size\":[188057.34829119823],\"sizemode\":\"area\",\"sizeref\":1277.771568145136,\"symbol\":\"circle\",\"line\":{\"color\":\"DarkSlateGrey\",\"width\":1}},\"mode\":\"markers\",\"name\":\"Purina\",\"orientation\":\"v\",\"showlegend\":true,\"x\":[14883.78550295858],\"xaxis\":\"x\",\"y\":[5210906.67328338],\"yaxis\":\"y\",\"type\":\"scatter\"},{\"hovertemplate\":\"\\u003cb\\u003e%{hovertext}\\u003c\\u002fb\\u003e\\u003cbr\\u003e\\u003cbr\\u003eBrands=Purina Beyond\\u003cbr\\u003eAverage Reviews=%{x}\\u003cbr\\u003eTotal Revenue ($)=%{y}\\u003cbr\\u003eTotal Units Sold=%{marker.size}\\u003cextra\\u003e\\u003c\\u002fextra\\u003e\",\"hovertext\":[\"Purina Beyond\"],\"legendgroup\":\"Purina Beyond\",\"marker\":{\"color\":\"#00cc96\",\"opacity\":0.7,\"size\":[30217.533522975864],\"sizemode\":\"area\",\"sizeref\":1277.771568145136,\"symbol\":\"circle\",\"line\":{\"color\":\"DarkSlateGrey\",\"width\":1}},\"mode\":\"markers\",\"name\":\"Purina Beyond\",\"orientation\":\"v\",\"showlegend\":true,\"x\":[2168.585164835165],\"xaxis\":\"x\",\"y\":[566909.8631074735],\"yaxis\":\"y\",\"type\":\"scatter\"},{\"hovertemplate\":\"\\u003cb\\u003e%{hovertext}\\u003c\\u002fb\\u003e\\u003cbr\\u003e\\u003cbr\\u003eBrands=Purina Fancy Feast\\u003cbr\\u003eAverage Reviews=%{x}\\u003cbr\\u003eTotal Revenue ($)=%{y}\\u003cbr\\u003eTotal Units Sold=%{marker.size}\\u003cextra\\u003e\\u003c\\u002fextra\\u003e\",\"hovertext\":[\"Purina Fancy Feast\"],\"legendgroup\":\"Purina Fancy Feast\",\"marker\":{\"color\":\"#ab63fa\",\"opacity\":0.7,\"size\":[4599977.64532249],\"sizemode\":\"area\",\"sizeref\":1277.771568145136,\"symbol\":\"circle\",\"line\":{\"color\":\"DarkSlateGrey\",\"width\":1}},\"mode\":\"markers\",\"name\":\"Purina Fancy Feast\",\"orientation\":\"v\",\"showlegend\":true,\"x\":[16908.665941645548],\"xaxis\":\"x\",\"y\":[96383518.36667095],\"yaxis\":\"y\",\"type\":\"scatter\"},{\"hovertemplate\":\"\\u003cb\\u003e%{hovertext}\\u003c\\u002fb\\u003e\\u003cbr\\u003e\\u003cbr\\u003eBrands=Purina One\\u003cbr\\u003eAverage Reviews=%{x}\\u003cbr\\u003eTotal Revenue ($)=%{y}\\u003cbr\\u003eTotal Units Sold=%{marker.size}\\u003cextra\\u003e\\u003c\\u002fextra\\u003e\",\"hovertext\":[\"Purina One\"],\"legendgroup\":\"Purina One\",\"marker\":{\"color\":\"#FFA15A\",\"opacity\":0.7,\"size\":[1277281.6982148138],\"sizemode\":\"area\",\"sizeref\":1277.771568145136,\"symbol\":\"circle\",\"line\":{\"color\":\"DarkSlateGrey\",\"width\":1}},\"mode\":\"markers\",\"name\":\"Purina One\",\"orientation\":\"v\",\"showlegend\":true,\"x\":[18962.37223756906],\"xaxis\":\"x\",\"y\":[37906570.090558596],\"yaxis\":\"y\",\"type\":\"scatter\"},{\"hovertemplate\":\"\\u003cb\\u003e%{hovertext}\\u003c\\u002fb\\u003e\\u003cbr\\u003e\\u003cbr\\u003eBrands=Purina Pro Plan\\u003cbr\\u003eAverage Reviews=%{x}\\u003cbr\\u003eTotal Revenue ($)=%{y}\\u003cbr\\u003eTotal Units Sold=%{marker.size}\\u003cextra\\u003e\\u003c\\u002fextra\\u003e\",\"hovertext\":[\"Purina Pro Plan\"],\"legendgroup\":\"Purina Pro Plan\",\"marker\":{\"color\":\"#19d3f3\",\"opacity\":0.7,\"size\":[675708.2518128754],\"sizemode\":\"area\",\"sizeref\":1277.771568145136,\"symbol\":\"circle\",\"line\":{\"color\":\"DarkSlateGrey\",\"width\":1}},\"mode\":\"markers\",\"name\":\"Purina Pro Plan\",\"orientation\":\"v\",\"showlegend\":true,\"x\":[4131.573092505131],\"xaxis\":\"x\",\"y\":[28755638.50641942],\"yaxis\":\"y\",\"type\":\"scatter\"},{\"hovertemplate\":\"\\u003cb\\u003e%{hovertext}\\u003c\\u002fb\\u003e\\u003cbr\\u003e\\u003cbr\\u003eBrands=Rachael Ray Nutrish\\u003cbr\\u003eAverage Reviews=%{x}\\u003cbr\\u003eTotal Revenue ($)=%{y}\\u003cbr\\u003eTotal Units Sold=%{marker.size}\\u003cextra\\u003e\\u003c\\u002fextra\\u003e\",\"hovertext\":[\"Rachael Ray Nutrish\"],\"legendgroup\":\"Rachael Ray Nutrish\",\"marker\":{\"color\":\"#FF6692\",\"opacity\":0.7,\"size\":[261660.44455000001],\"sizemode\":\"area\",\"sizeref\":1277.771568145136,\"symbol\":\"circle\",\"line\":{\"color\":\"DarkSlateGrey\",\"width\":1}},\"mode\":\"markers\",\"name\":\"Rachael Ray Nutrish\",\"orientation\":\"v\",\"showlegend\":true,\"x\":[19940.670810313073],\"xaxis\":\"x\",\"y\":[4355580.375255854],\"yaxis\":\"y\",\"type\":\"scatter\"},{\"hovertemplate\":\"\\u003cb\\u003e%{hovertext}\\u003c\\u002fb\\u003e\\u003cbr\\u003e\\u003cbr\\u003eBrands=Reopet\\u003cbr\\u003eAverage Reviews=%{x}\\u003cbr\\u003eTotal Revenue ($)=%{y}\\u003cbr\\u003eTotal Units Sold=%{marker.size}\\u003cextra\\u003e\\u003c\\u002fextra\\u003e\",\"hovertext\":[\"Reopet\"],\"legendgroup\":\"Reopet\",\"marker\":{\"color\":\"#B6E880\",\"opacity\":0.7,\"size\":[465981.9667048139],\"sizemode\":\"area\",\"sizeref\":1277.771568145136,\"symbol\":\"circle\",\"line\":{\"color\":\"DarkSlateGrey\",\"width\":1}},\"mode\":\"markers\",\"name\":\"Reopet\",\"orientation\":\"v\",\"showlegend\":true,\"x\":[35634.967808219175],\"xaxis\":\"x\",\"y\":[11293134.272505095],\"yaxis\":\"y\",\"type\":\"scatter\"},{\"hovertemplate\":\"\\u003cb\\u003e%{hovertext}\\u003c\\u002fb\\u003e\\u003cbr\\u003e\\u003cbr\\u003eBrands=Reveal Limited Ingredients Approved By Cats\\u003cbr\\u003eAverage Reviews=%{x}\\u003cbr\\u003eTotal Revenue ($)=%{y}\\u003cbr\\u003eTotal Units Sold=%{marker.size}\\u003cextra\\u003e\\u003c\\u002fextra\\u003e\",\"hovertext\":[\"Reveal Limited Ingredients Approved By Cats\"],\"legendgroup\":\"Reveal Limited Ingredients Approved By Cats\",\"marker\":{\"color\":\"#FF97FF\",\"opacity\":0.7,\"size\":[92320.44632241012],\"sizemode\":\"area\",\"sizeref\":1277.771568145136,\"symbol\":\"circle\",\"line\":{\"color\":\"DarkSlateGrey\",\"width\":1}},\"mode\":\"markers\",\"name\":\"Reveal Limited Ingredients Approved By Cats\",\"orientation\":\"v\",\"showlegend\":true,\"x\":[1855.4254143646408],\"xaxis\":\"x\",\"y\":[3452009.1293648584],\"yaxis\":\"y\",\"type\":\"scatter\"},{\"hovertemplate\":\"\\u003cb\\u003e%{hovertext}\\u003c\\u002fb\\u003e\\u003cbr\\u003e\\u003cbr\\u003eBrands=Royal Canin\\u003cbr\\u003eAverage Reviews=%{x}\\u003cbr\\u003eTotal Revenue ($)=%{y}\\u003cbr\\u003eTotal Units Sold=%{marker.size}\\u003cextra\\u003e\\u003c\\u002fextra\\u003e\",\"hovertext\":[\"Royal Canin\"],\"legendgroup\":\"Royal Canin\",\"marker\":{\"color\":\"#FECB52\",\"opacity\":0.7,\"size\":[97021.30529999999],\"sizemode\":\"area\",\"sizeref\":1277.771568145136,\"symbol\":\"circle\",\"line\":{\"color\":\"DarkSlateGrey\",\"width\":1}},\"mode\":\"markers\",\"name\":\"Royal Canin\",\"orientation\":\"v\",\"showlegend\":true,\"x\":[5066.1049723756905],\"xaxis\":\"x\",\"y\":[3490728.190912],\"yaxis\":\"y\",\"type\":\"scatter\"},{\"hovertemplate\":\"\\u003cb\\u003e%{hovertext}\\u003c\\u002fb\\u003e\\u003cbr\\u003e\\u003cbr\\u003eBrands=Sheba\\u003cbr\\u003eAverage Reviews=%{x}\\u003cbr\\u003eTotal Revenue ($)=%{y}\\u003cbr\\u003eTotal Units Sold=%{marker.size}\\u003cextra\\u003e\\u003c\\u002fextra\\u003e\",\"hovertext\":[\"Sheba\"],\"legendgroup\":\"Sheba\",\"marker\":{\"color\":\"#636efa\",\"opacity\":0.7,\"size\":[1079101.5048104676],\"sizemode\":\"area\",\"sizeref\":1277.771568145136,\"symbol\":\"circle\",\"line\":{\"color\":\"DarkSlateGrey\",\"width\":1}},\"mode\":\"markers\",\"name\":\"Sheba\",\"orientation\":\"v\",\"showlegend\":true,\"x\":[31055.56837488458],\"xaxis\":\"x\",\"y\":[27770026.799285106],\"yaxis\":\"y\",\"type\":\"scatter\"},{\"hovertemplate\":\"\\u003cb\\u003e%{hovertext}\\u003c\\u002fb\\u003e\\u003cbr\\u003e\\u003cbr\\u003eBrands=Sheba Wet Food\\u003cbr\\u003eAverage Reviews=%{x}\\u003cbr\\u003eTotal Revenue ($)=%{y}\\u003cbr\\u003eTotal Units Sold=%{marker.size}\\u003cextra\\u003e\\u003c\\u002fextra\\u003e\",\"hovertext\":[\"Sheba Wet Food\"],\"legendgroup\":\"Sheba Wet Food\",\"marker\":{\"color\":\"#EF553B\",\"opacity\":0.7,\"size\":[252917.12372443473],\"sizemode\":\"area\",\"sizeref\":1277.771568145136,\"symbol\":\"circle\",\"line\":{\"color\":\"DarkSlateGrey\",\"width\":1}},\"mode\":\"markers\",\"name\":\"Sheba Wet Food\",\"orientation\":\"v\",\"showlegend\":true,\"x\":[20814.013812154695],\"xaxis\":\"x\",\"y\":[7007446.317119615],\"yaxis\":\"y\",\"type\":\"scatter\"},{\"hovertemplate\":\"\\u003cb\\u003e%{hovertext}\\u003c\\u002fb\\u003e\\u003cbr\\u003e\\u003cbr\\u003eBrands=Simplehuman\\u003cbr\\u003eAverage Reviews=%{x}\\u003cbr\\u003eTotal Revenue ($)=%{y}\\u003cbr\\u003eTotal Units Sold=%{marker.size}\\u003cextra\\u003e\\u003c\\u002fextra\\u003e\",\"hovertext\":[\"Simplehuman\"],\"legendgroup\":\"Simplehuman\",\"marker\":{\"color\":\"#00cc96\",\"opacity\":0.7,\"size\":[34186.33965],\"sizemode\":\"area\",\"sizeref\":1277.771568145136,\"symbol\":\"circle\",\"line\":{\"color\":\"DarkSlateGrey\",\"width\":1}},\"mode\":\"markers\",\"name\":\"Simplehuman\",\"orientation\":\"v\",\"showlegend\":true,\"x\":[2351.176335174954],\"xaxis\":\"x\",\"y\":[4604996.4867477985],\"yaxis\":\"y\",\"type\":\"scatter\"},{\"hovertemplate\":\"\\u003cb\\u003e%{hovertext}\\u003c\\u002fb\\u003e\\u003cbr\\u003e\\u003cbr\\u003eBrands=Squishmallow\\u003cbr\\u003eAverage Reviews=%{x}\\u003cbr\\u003eTotal Revenue ($)=%{y}\\u003cbr\\u003eTotal Units Sold=%{marker.size}\\u003cextra\\u003e\\u003c\\u002fextra\\u003e\",\"hovertext\":[\"Squishmallow\"],\"legendgroup\":\"Squishmallow\",\"marker\":{\"color\":\"#ab63fa\",\"opacity\":0.7,\"size\":[4266.09765],\"sizemode\":\"area\",\"sizeref\":1277.771568145136,\"symbol\":\"circle\",\"line\":{\"color\":\"DarkSlateGrey\",\"width\":1}},\"mode\":\"markers\",\"name\":\"Squishmallow\",\"orientation\":\"v\",\"showlegend\":true,\"x\":[1281.9538461538461],\"xaxis\":\"x\",\"y\":[123568.42856375],\"yaxis\":\"y\",\"type\":\"scatter\"},{\"hovertemplate\":\"\\u003cb\\u003e%{hovertext}\\u003c\\u002fb\\u003e\\u003cbr\\u003e\\u003cbr\\u003eBrands=Stella & Chewy'S\\u003cbr\\u003eAverage Reviews=%{x}\\u003cbr\\u003eTotal Revenue ($)=%{y}\\u003cbr\\u003eTotal Units Sold=%{marker.size}\\u003cextra\\u003e\\u003c\\u002fextra\\u003e\",\"hovertext\":[\"Stella & Chewy'S\"],\"legendgroup\":\"Stella & Chewy'S\",\"marker\":{\"color\":\"#FFA15A\",\"opacity\":0.7,\"size\":[132545.709375],\"sizemode\":\"area\",\"sizeref\":1277.771568145136,\"symbol\":\"circle\",\"line\":{\"color\":\"DarkSlateGrey\",\"width\":1}},\"mode\":\"markers\",\"name\":\"Stella & Chewy'S\",\"orientation\":\"v\",\"showlegend\":true,\"x\":[6926.42817679558],\"xaxis\":\"x\",\"y\":[2960246.87919425],\"yaxis\":\"y\",\"type\":\"scatter\"},{\"hovertemplate\":\"\\u003cb\\u003e%{hovertext}\\u003c\\u002fb\\u003e\\u003cbr\\u003e\\u003cbr\\u003eBrands=Wellness\\u003cbr\\u003eAverage Reviews=%{x}\\u003cbr\\u003eTotal Revenue ($)=%{y}\\u003cbr\\u003eTotal Units Sold=%{marker.size}\\u003cextra\\u003e\\u003c\\u002fextra\\u003e\",\"hovertext\":[\"Wellness\"],\"legendgroup\":\"Wellness\",\"marker\":{\"color\":\"#19d3f3\",\"opacity\":0.7,\"size\":[213017.71166924777],\"sizemode\":\"area\",\"sizeref\":1277.771568145136,\"symbol\":\"circle\",\"line\":{\"color\":\"DarkSlateGrey\",\"width\":1}},\"mode\":\"markers\",\"name\":\"Wellness\",\"orientation\":\"v\",\"showlegend\":true,\"x\":[6371.196132596685],\"xaxis\":\"x\",\"y\":[11075741.63557633],\"yaxis\":\"y\",\"type\":\"scatter\"},{\"hovertemplate\":\"\\u003cb\\u003e%{hovertext}\\u003c\\u002fb\\u003e\\u003cbr\\u003e\\u003cbr\\u003eBrands=Wellness Natural Pet Food\\u003cbr\\u003eAverage Reviews=%{x}\\u003cbr\\u003eTotal Revenue ($)=%{y}\\u003cbr\\u003eTotal Units Sold=%{marker.size}\\u003cextra\\u003e\\u003c\\u002fextra\\u003e\",\"hovertext\":[\"Wellness Natural Pet Food\"],\"legendgroup\":\"Wellness Natural Pet Food\",\"marker\":{\"color\":\"#FF6692\",\"opacity\":0.7,\"size\":[0.0],\"sizemode\":\"area\",\"sizeref\":1277.771568145136,\"symbol\":\"circle\",\"line\":{\"color\":\"DarkSlateGrey\",\"width\":1}},\"mode\":\"markers\",\"name\":\"Wellness Natural Pet Food\",\"orientation\":\"v\",\"showlegend\":true,\"x\":[null],\"xaxis\":\"x\",\"y\":[0.0],\"yaxis\":\"y\",\"type\":\"scatter\"},{\"hovertemplate\":\"\\u003cb\\u003e%{hovertext}\\u003c\\u002fb\\u003e\\u003cbr\\u003e\\u003cbr\\u003eBrands=Weruva\\u003cbr\\u003eAverage Reviews=%{x}\\u003cbr\\u003eTotal Revenue ($)=%{y}\\u003cbr\\u003eTotal Units Sold=%{marker.size}\\u003cextra\\u003e\\u003c\\u002fextra\\u003e\",\"hovertext\":[\"Weruva\"],\"legendgroup\":\"Weruva\",\"marker\":{\"color\":\"#B6E880\",\"opacity\":0.7,\"size\":[292238.5528467629],\"sizemode\":\"area\",\"sizeref\":1277.771568145136,\"symbol\":\"circle\",\"line\":{\"color\":\"DarkSlateGrey\",\"width\":1}},\"mode\":\"markers\",\"name\":\"Weruva\",\"orientation\":\"v\",\"showlegend\":true,\"x\":[6151.57182320442],\"xaxis\":\"x\",\"y\":[10705253.972289631],\"yaxis\":\"y\",\"type\":\"scatter\"}],                        {\"template\":{\"data\":{\"histogram2dcontour\":[{\"type\":\"histogram2dcontour\",\"colorbar\":{\"outlinewidth\":0,\"ticks\":\"\"},\"colorscale\":[[0.0,\"#0d0887\"],[0.1111111111111111,\"#46039f\"],[0.2222222222222222,\"#7201a8\"],[0.3333333333333333,\"#9c179e\"],[0.4444444444444444,\"#bd3786\"],[0.5555555555555556,\"#d8576b\"],[0.6666666666666666,\"#ed7953\"],[0.7777777777777778,\"#fb9f3a\"],[0.8888888888888888,\"#fdca26\"],[1.0,\"#f0f921\"]]}],\"choropleth\":[{\"type\":\"choropleth\",\"colorbar\":{\"outlinewidth\":0,\"ticks\":\"\"}}],\"histogram2d\":[{\"type\":\"histogram2d\",\"colorbar\":{\"outlinewidth\":0,\"ticks\":\"\"},\"colorscale\":[[0.0,\"#0d0887\"],[0.1111111111111111,\"#46039f\"],[0.2222222222222222,\"#7201a8\"],[0.3333333333333333,\"#9c179e\"],[0.4444444444444444,\"#bd3786\"],[0.5555555555555556,\"#d8576b\"],[0.6666666666666666,\"#ed7953\"],[0.7777777777777778,\"#fb9f3a\"],[0.8888888888888888,\"#fdca26\"],[1.0,\"#f0f921\"]]}],\"heatmap\":[{\"type\":\"heatmap\",\"colorbar\":{\"outlinewidth\":0,\"ticks\":\"\"},\"colorscale\":[[0.0,\"#0d0887\"],[0.1111111111111111,\"#46039f\"],[0.2222222222222222,\"#7201a8\"],[0.3333333333333333,\"#9c179e\"],[0.4444444444444444,\"#bd3786\"],[0.5555555555555556,\"#d8576b\"],[0.6666666666666666,\"#ed7953\"],[0.7777777777777778,\"#fb9f3a\"],[0.8888888888888888,\"#fdca26\"],[1.0,\"#f0f921\"]]}],\"heatmapgl\":[{\"type\":\"heatmapgl\",\"colorbar\":{\"outlinewidth\":0,\"ticks\":\"\"},\"colorscale\":[[0.0,\"#0d0887\"],[0.1111111111111111,\"#46039f\"],[0.2222222222222222,\"#7201a8\"],[0.3333333333333333,\"#9c179e\"],[0.4444444444444444,\"#bd3786\"],[0.5555555555555556,\"#d8576b\"],[0.6666666666666666,\"#ed7953\"],[0.7777777777777778,\"#fb9f3a\"],[0.8888888888888888,\"#fdca26\"],[1.0,\"#f0f921\"]]}],\"contourcarpet\":[{\"type\":\"contourcarpet\",\"colorbar\":{\"outlinewidth\":0,\"ticks\":\"\"}}],\"contour\":[{\"type\":\"contour\",\"colorbar\":{\"outlinewidth\":0,\"ticks\":\"\"},\"colorscale\":[[0.0,\"#0d0887\"],[0.1111111111111111,\"#46039f\"],[0.2222222222222222,\"#7201a8\"],[0.3333333333333333,\"#9c179e\"],[0.4444444444444444,\"#bd3786\"],[0.5555555555555556,\"#d8576b\"],[0.6666666666666666,\"#ed7953\"],[0.7777777777777778,\"#fb9f3a\"],[0.8888888888888888,\"#fdca26\"],[1.0,\"#f0f921\"]]}],\"surface\":[{\"type\":\"surface\",\"colorbar\":{\"outlinewidth\":0,\"ticks\":\"\"},\"colorscale\":[[0.0,\"#0d0887\"],[0.1111111111111111,\"#46039f\"],[0.2222222222222222,\"#7201a8\"],[0.3333333333333333,\"#9c179e\"],[0.4444444444444444,\"#bd3786\"],[0.5555555555555556,\"#d8576b\"],[0.6666666666666666,\"#ed7953\"],[0.7777777777777778,\"#fb9f3a\"],[0.8888888888888888,\"#fdca26\"],[1.0,\"#f0f921\"]]}],\"mesh3d\":[{\"type\":\"mesh3d\",\"colorbar\":{\"outlinewidth\":0,\"ticks\":\"\"}}],\"scatter\":[{\"fillpattern\":{\"fillmode\":\"overlay\",\"size\":10,\"solidity\":0.2},\"type\":\"scatter\"}],\"parcoords\":[{\"type\":\"parcoords\",\"line\":{\"colorbar\":{\"outlinewidth\":0,\"ticks\":\"\"}}}],\"scatterpolargl\":[{\"type\":\"scatterpolargl\",\"marker\":{\"colorbar\":{\"outlinewidth\":0,\"ticks\":\"\"}}}],\"bar\":[{\"error_x\":{\"color\":\"#2a3f5f\"},\"error_y\":{\"color\":\"#2a3f5f\"},\"marker\":{\"line\":{\"color\":\"#E5ECF6\",\"width\":0.5},\"pattern\":{\"fillmode\":\"overlay\",\"size\":10,\"solidity\":0.2}},\"type\":\"bar\"}],\"scattergeo\":[{\"type\":\"scattergeo\",\"marker\":{\"colorbar\":{\"outlinewidth\":0,\"ticks\":\"\"}}}],\"scatterpolar\":[{\"type\":\"scatterpolar\",\"marker\":{\"colorbar\":{\"outlinewidth\":0,\"ticks\":\"\"}}}],\"histogram\":[{\"marker\":{\"pattern\":{\"fillmode\":\"overlay\",\"size\":10,\"solidity\":0.2}},\"type\":\"histogram\"}],\"scattergl\":[{\"type\":\"scattergl\",\"marker\":{\"colorbar\":{\"outlinewidth\":0,\"ticks\":\"\"}}}],\"scatter3d\":[{\"type\":\"scatter3d\",\"line\":{\"colorbar\":{\"outlinewidth\":0,\"ticks\":\"\"}},\"marker\":{\"colorbar\":{\"outlinewidth\":0,\"ticks\":\"\"}}}],\"scattermapbox\":[{\"type\":\"scattermapbox\",\"marker\":{\"colorbar\":{\"outlinewidth\":0,\"ticks\":\"\"}}}],\"scatterternary\":[{\"type\":\"scatterternary\",\"marker\":{\"colorbar\":{\"outlinewidth\":0,\"ticks\":\"\"}}}],\"scattercarpet\":[{\"type\":\"scattercarpet\",\"marker\":{\"colorbar\":{\"outlinewidth\":0,\"ticks\":\"\"}}}],\"carpet\":[{\"aaxis\":{\"endlinecolor\":\"#2a3f5f\",\"gridcolor\":\"white\",\"linecolor\":\"white\",\"minorgridcolor\":\"white\",\"startlinecolor\":\"#2a3f5f\"},\"baxis\":{\"endlinecolor\":\"#2a3f5f\",\"gridcolor\":\"white\",\"linecolor\":\"white\",\"minorgridcolor\":\"white\",\"startlinecolor\":\"#2a3f5f\"},\"type\":\"carpet\"}],\"table\":[{\"cells\":{\"fill\":{\"color\":\"#EBF0F8\"},\"line\":{\"color\":\"white\"}},\"header\":{\"fill\":{\"color\":\"#C8D4E3\"},\"line\":{\"color\":\"white\"}},\"type\":\"table\"}],\"barpolar\":[{\"marker\":{\"line\":{\"color\":\"#E5ECF6\",\"width\":0.5},\"pattern\":{\"fillmode\":\"overlay\",\"size\":10,\"solidity\":0.2}},\"type\":\"barpolar\"}],\"pie\":[{\"automargin\":true,\"type\":\"pie\"}]},\"layout\":{\"autotypenumbers\":\"strict\",\"colorway\":[\"#636efa\",\"#EF553B\",\"#00cc96\",\"#ab63fa\",\"#FFA15A\",\"#19d3f3\",\"#FF6692\",\"#B6E880\",\"#FF97FF\",\"#FECB52\"],\"font\":{\"color\":\"#2a3f5f\"},\"hovermode\":\"closest\",\"hoverlabel\":{\"align\":\"left\"},\"paper_bgcolor\":\"white\",\"plot_bgcolor\":\"#E5ECF6\",\"polar\":{\"bgcolor\":\"#E5ECF6\",\"angularaxis\":{\"gridcolor\":\"white\",\"linecolor\":\"white\",\"ticks\":\"\"},\"radialaxis\":{\"gridcolor\":\"white\",\"linecolor\":\"white\",\"ticks\":\"\"}},\"ternary\":{\"bgcolor\":\"#E5ECF6\",\"aaxis\":{\"gridcolor\":\"white\",\"linecolor\":\"white\",\"ticks\":\"\"},\"baxis\":{\"gridcolor\":\"white\",\"linecolor\":\"white\",\"ticks\":\"\"},\"caxis\":{\"gridcolor\":\"white\",\"linecolor\":\"white\",\"ticks\":\"\"}},\"coloraxis\":{\"colorbar\":{\"outlinewidth\":0,\"ticks\":\"\"}},\"colorscale\":{\"sequential\":[[0.0,\"#0d0887\"],[0.1111111111111111,\"#46039f\"],[0.2222222222222222,\"#7201a8\"],[0.3333333333333333,\"#9c179e\"],[0.4444444444444444,\"#bd3786\"],[0.5555555555555556,\"#d8576b\"],[0.6666666666666666,\"#ed7953\"],[0.7777777777777778,\"#fb9f3a\"],[0.8888888888888888,\"#fdca26\"],[1.0,\"#f0f921\"]],\"sequentialminus\":[[0.0,\"#0d0887\"],[0.1111111111111111,\"#46039f\"],[0.2222222222222222,\"#7201a8\"],[0.3333333333333333,\"#9c179e\"],[0.4444444444444444,\"#bd3786\"],[0.5555555555555556,\"#d8576b\"],[0.6666666666666666,\"#ed7953\"],[0.7777777777777778,\"#fb9f3a\"],[0.8888888888888888,\"#fdca26\"],[1.0,\"#f0f921\"]],\"diverging\":[[0,\"#8e0152\"],[0.1,\"#c51b7d\"],[0.2,\"#de77ae\"],[0.3,\"#f1b6da\"],[0.4,\"#fde0ef\"],[0.5,\"#f7f7f7\"],[0.6,\"#e6f5d0\"],[0.7,\"#b8e186\"],[0.8,\"#7fbc41\"],[0.9,\"#4d9221\"],[1,\"#276419\"]]},\"xaxis\":{\"gridcolor\":\"white\",\"linecolor\":\"white\",\"ticks\":\"\",\"title\":{\"standoff\":15},\"zerolinecolor\":\"white\",\"automargin\":true,\"zerolinewidth\":2},\"yaxis\":{\"gridcolor\":\"white\",\"linecolor\":\"white\",\"ticks\":\"\",\"title\":{\"standoff\":15},\"zerolinecolor\":\"white\",\"automargin\":true,\"zerolinewidth\":2},\"scene\":{\"xaxis\":{\"backgroundcolor\":\"#E5ECF6\",\"gridcolor\":\"white\",\"linecolor\":\"white\",\"showbackground\":true,\"ticks\":\"\",\"zerolinecolor\":\"white\",\"gridwidth\":2},\"yaxis\":{\"backgroundcolor\":\"#E5ECF6\",\"gridcolor\":\"white\",\"linecolor\":\"white\",\"showbackground\":true,\"ticks\":\"\",\"zerolinecolor\":\"white\",\"gridwidth\":2},\"zaxis\":{\"backgroundcolor\":\"#E5ECF6\",\"gridcolor\":\"white\",\"linecolor\":\"white\",\"showbackground\":true,\"ticks\":\"\",\"zerolinecolor\":\"white\",\"gridwidth\":2}},\"shapedefaults\":{\"line\":{\"color\":\"#2a3f5f\"}},\"annotationdefaults\":{\"arrowcolor\":\"#2a3f5f\",\"arrowhead\":0,\"arrowwidth\":1},\"geo\":{\"bgcolor\":\"white\",\"landcolor\":\"#E5ECF6\",\"subunitcolor\":\"white\",\"showland\":true,\"showlakes\":true,\"lakecolor\":\"white\"},\"title\":{\"x\":0.05},\"mapbox\":{\"style\":\"light\"}}},\"xaxis\":{\"anchor\":\"y\",\"domain\":[0.0,1.0],\"title\":{\"text\":\"Average Reviews\"}},\"yaxis\":{\"anchor\":\"x\",\"domain\":[0.0,1.0],\"title\":{\"text\":\"Total Revenue ($)\"}},\"legend\":{\"title\":{\"text\":\"Brands\"},\"tracegroupgap\":0,\"itemsizing\":\"constant\"},\"title\":{\"text\":\"Impact of Customer Reviews and Ratings on Revenue by Brand\"}},                        {\"responsive\": true}                    ).then(function(){\n",
       "                            \n",
       "var gd = document.getElementById('daa7f17f-1593-4946-8667-2e26e55ed096');\n",
       "var x = new MutationObserver(function (mutations, observer) {{\n",
       "        var display = window.getComputedStyle(gd).display;\n",
       "        if (!display || display === 'none') {{\n",
       "            console.log([gd, 'removed!']);\n",
       "            Plotly.purge(gd);\n",
       "            observer.disconnect();\n",
       "        }}\n",
       "}});\n",
       "\n",
       "// Listen for the removal of the full notebook cells\n",
       "var notebookContainer = gd.closest('#notebook-container');\n",
       "if (notebookContainer) {{\n",
       "    x.observe(notebookContainer, {childList: true});\n",
       "}}\n",
       "\n",
       "// Listen for the clearing of the current output cell\n",
       "var outputEl = gd.closest('.output');\n",
       "if (outputEl) {{\n",
       "    x.observe(outputEl, {childList: true});\n",
       "}}\n",
       "\n",
       "                        })                };                });            </script>        </div>"
      ]
     },
     "metadata": {},
     "output_type": "display_data"
    }
   ],
   "source": [
    "# Load Brand Trends\n",
    "data = pd.read_excel('../Customer_Success_Engineer_-_Project_Data.xlsx', sheet_name='Brand Trends', header=1)\n",
    "data['Revenue'] = data['Revenue'].replace('[\\$,]', '', regex=True).astype(float)\n",
    "\n",
    "# Aggregate data by brand to reduce clutter\n",
    "brand_aggregated_data = data.groupby('Brands').agg({\n",
    "    'Avg Reviews': 'mean',  # Average of average reviews\n",
    "    'Revenue': 'sum',       # Sum of revenue\n",
    "    'Unit Sales': 'sum'     # Sum of unit sales\n",
    "}).reset_index()\n",
    "\n",
    "# Display scatter plot with aggregated data\n",
    "fig = px.scatter(\n",
    "    brand_aggregated_data,\n",
    "    x='Avg Reviews',\n",
    "    y='Revenue',\n",
    "    size='Unit Sales',\n",
    "    hover_name='Brands',\n",
    "    color=\"Brands\",\n",
    "    title='Impact of Customer Reviews and Ratings on Revenue by Brand',\n",
    "    labels={\n",
    "        'Avg Reviews': 'Average Reviews',\n",
    "        'Revenue': 'Total Revenue ($)',\n",
    "        'Unit Sales': 'Total Units Sold'\n",
    "    },\n",
    "    size_max=60,\n",
    "    opacity=0.7  # Adjust opacity to manage overlapping\n",
    ")\n",
    "fig.update_traces(marker=dict(line=dict(width=1, color='DarkSlateGrey')))  # Add borders to improve bubble distinction\n",
    "fig.show()"
   ]
  }
 ],
 "metadata": {
  "kernelspec": {
   "display_name": "Python 3 (ipykernel)",
   "language": "python",
   "name": "python3"
  },
  "language_info": {
   "codemirror_mode": {
    "name": "ipython",
    "version": 3
   },
   "file_extension": ".py",
   "mimetype": "text/x-python",
   "name": "python",
   "nbconvert_exporter": "python",
   "pygments_lexer": "ipython3",
   "version": "3.10.0"
  }
 },
 "nbformat": 4,
 "nbformat_minor": 4
}
