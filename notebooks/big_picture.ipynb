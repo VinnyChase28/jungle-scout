{
 "cells": [
  {
   "cell_type": "code",
   "execution_count": 200,
   "id": "53e57317",
   "metadata": {},
   "outputs": [],
   "source": [
    "import numpy as np\n",
    "import pandas as pd\n",
    "import plotly.express as px\n",
    "import plotly.graph_objects as go\n",
    "from plotly.subplots import make_subplots"
   ]
  },
  {
   "cell_type": "markdown",
   "id": "a2120013",
   "metadata": {},
   "source": [
    "Market Share Distribution by brand - groups up all brands with lower than 1% market share"
   ]
  },
  {
   "cell_type": "code",
   "execution_count": 201,
   "id": "07c06744",
   "metadata": {},
   "outputs": [
    {
     "data": {
      "application/vnd.plotly.v1+json": {
       "config": {
        "plotlyServerURL": "https://plot.ly"
       },
       "data": [
        {
         "domain": {
          "x": [
           0,
           1
          ],
          "y": [
           0,
           1
          ]
         },
         "hovertemplate": "Brand=%{label}<br>Market Share=%{value}<extra></extra>",
         "labels": [
          "Purina",
          "Iris",
          "Hill'S Prescription Diet",
          "Orijen",
          "Sheba Wet Food",
          "Instinct",
          "Hill'S Pet Nutrition",
          "Meow Mix",
          "Weruva",
          "Petlibro",
          "Wellness",
          "Iris Usa, Inc.",
          "Reopet",
          "Sheba",
          "Purina Pro Plan",
          "Hill'S Science Diet",
          "Iams",
          "Other",
          "Purina One",
          "Blue Buffalo",
          "Friskies",
          "Purina Fancy Feast"
         ],
         "legendgroup": "",
         "name": "",
         "showlegend": true,
         "type": "pie",
         "values": [
          1.0745769287262463,
          1.149974880513488,
          1.272636106698075,
          1.405219108222882,
          1.4450537332152564,
          1.622112016389864,
          1.8364384460248275,
          1.901990403113329,
          2.2076040996391586,
          2.2471621518423994,
          2.2840049105358027,
          2.2845771591360196,
          2.328834942383488,
          5.726648351162768,
          5.9298981246809115,
          6.184157411834651,
          6.245820771129738,
          7.403740295835551,
          7.816974707165987,
          8.443355353024847,
          9.313311424845724,
          19.875908673878982
         ]
        }
       ],
       "layout": {
        "legend": {
         "tracegroupgap": 0
        },
        "template": {
         "data": {
          "bar": [
           {
            "error_x": {
             "color": "#2a3f5f"
            },
            "error_y": {
             "color": "#2a3f5f"
            },
            "marker": {
             "line": {
              "color": "#E5ECF6",
              "width": 0.5
             },
             "pattern": {
              "fillmode": "overlay",
              "size": 10,
              "solidity": 0.2
             }
            },
            "type": "bar"
           }
          ],
          "barpolar": [
           {
            "marker": {
             "line": {
              "color": "#E5ECF6",
              "width": 0.5
             },
             "pattern": {
              "fillmode": "overlay",
              "size": 10,
              "solidity": 0.2
             }
            },
            "type": "barpolar"
           }
          ],
          "carpet": [
           {
            "aaxis": {
             "endlinecolor": "#2a3f5f",
             "gridcolor": "white",
             "linecolor": "white",
             "minorgridcolor": "white",
             "startlinecolor": "#2a3f5f"
            },
            "baxis": {
             "endlinecolor": "#2a3f5f",
             "gridcolor": "white",
             "linecolor": "white",
             "minorgridcolor": "white",
             "startlinecolor": "#2a3f5f"
            },
            "type": "carpet"
           }
          ],
          "choropleth": [
           {
            "colorbar": {
             "outlinewidth": 0,
             "ticks": ""
            },
            "type": "choropleth"
           }
          ],
          "contour": [
           {
            "colorbar": {
             "outlinewidth": 0,
             "ticks": ""
            },
            "colorscale": [
             [
              0,
              "#0d0887"
             ],
             [
              0.1111111111111111,
              "#46039f"
             ],
             [
              0.2222222222222222,
              "#7201a8"
             ],
             [
              0.3333333333333333,
              "#9c179e"
             ],
             [
              0.4444444444444444,
              "#bd3786"
             ],
             [
              0.5555555555555556,
              "#d8576b"
             ],
             [
              0.6666666666666666,
              "#ed7953"
             ],
             [
              0.7777777777777778,
              "#fb9f3a"
             ],
             [
              0.8888888888888888,
              "#fdca26"
             ],
             [
              1,
              "#f0f921"
             ]
            ],
            "type": "contour"
           }
          ],
          "contourcarpet": [
           {
            "colorbar": {
             "outlinewidth": 0,
             "ticks": ""
            },
            "type": "contourcarpet"
           }
          ],
          "heatmap": [
           {
            "colorbar": {
             "outlinewidth": 0,
             "ticks": ""
            },
            "colorscale": [
             [
              0,
              "#0d0887"
             ],
             [
              0.1111111111111111,
              "#46039f"
             ],
             [
              0.2222222222222222,
              "#7201a8"
             ],
             [
              0.3333333333333333,
              "#9c179e"
             ],
             [
              0.4444444444444444,
              "#bd3786"
             ],
             [
              0.5555555555555556,
              "#d8576b"
             ],
             [
              0.6666666666666666,
              "#ed7953"
             ],
             [
              0.7777777777777778,
              "#fb9f3a"
             ],
             [
              0.8888888888888888,
              "#fdca26"
             ],
             [
              1,
              "#f0f921"
             ]
            ],
            "type": "heatmap"
           }
          ],
          "heatmapgl": [
           {
            "colorbar": {
             "outlinewidth": 0,
             "ticks": ""
            },
            "colorscale": [
             [
              0,
              "#0d0887"
             ],
             [
              0.1111111111111111,
              "#46039f"
             ],
             [
              0.2222222222222222,
              "#7201a8"
             ],
             [
              0.3333333333333333,
              "#9c179e"
             ],
             [
              0.4444444444444444,
              "#bd3786"
             ],
             [
              0.5555555555555556,
              "#d8576b"
             ],
             [
              0.6666666666666666,
              "#ed7953"
             ],
             [
              0.7777777777777778,
              "#fb9f3a"
             ],
             [
              0.8888888888888888,
              "#fdca26"
             ],
             [
              1,
              "#f0f921"
             ]
            ],
            "type": "heatmapgl"
           }
          ],
          "histogram": [
           {
            "marker": {
             "pattern": {
              "fillmode": "overlay",
              "size": 10,
              "solidity": 0.2
             }
            },
            "type": "histogram"
           }
          ],
          "histogram2d": [
           {
            "colorbar": {
             "outlinewidth": 0,
             "ticks": ""
            },
            "colorscale": [
             [
              0,
              "#0d0887"
             ],
             [
              0.1111111111111111,
              "#46039f"
             ],
             [
              0.2222222222222222,
              "#7201a8"
             ],
             [
              0.3333333333333333,
              "#9c179e"
             ],
             [
              0.4444444444444444,
              "#bd3786"
             ],
             [
              0.5555555555555556,
              "#d8576b"
             ],
             [
              0.6666666666666666,
              "#ed7953"
             ],
             [
              0.7777777777777778,
              "#fb9f3a"
             ],
             [
              0.8888888888888888,
              "#fdca26"
             ],
             [
              1,
              "#f0f921"
             ]
            ],
            "type": "histogram2d"
           }
          ],
          "histogram2dcontour": [
           {
            "colorbar": {
             "outlinewidth": 0,
             "ticks": ""
            },
            "colorscale": [
             [
              0,
              "#0d0887"
             ],
             [
              0.1111111111111111,
              "#46039f"
             ],
             [
              0.2222222222222222,
              "#7201a8"
             ],
             [
              0.3333333333333333,
              "#9c179e"
             ],
             [
              0.4444444444444444,
              "#bd3786"
             ],
             [
              0.5555555555555556,
              "#d8576b"
             ],
             [
              0.6666666666666666,
              "#ed7953"
             ],
             [
              0.7777777777777778,
              "#fb9f3a"
             ],
             [
              0.8888888888888888,
              "#fdca26"
             ],
             [
              1,
              "#f0f921"
             ]
            ],
            "type": "histogram2dcontour"
           }
          ],
          "mesh3d": [
           {
            "colorbar": {
             "outlinewidth": 0,
             "ticks": ""
            },
            "type": "mesh3d"
           }
          ],
          "parcoords": [
           {
            "line": {
             "colorbar": {
              "outlinewidth": 0,
              "ticks": ""
             }
            },
            "type": "parcoords"
           }
          ],
          "pie": [
           {
            "automargin": true,
            "type": "pie"
           }
          ],
          "scatter": [
           {
            "fillpattern": {
             "fillmode": "overlay",
             "size": 10,
             "solidity": 0.2
            },
            "type": "scatter"
           }
          ],
          "scatter3d": [
           {
            "line": {
             "colorbar": {
              "outlinewidth": 0,
              "ticks": ""
             }
            },
            "marker": {
             "colorbar": {
              "outlinewidth": 0,
              "ticks": ""
             }
            },
            "type": "scatter3d"
           }
          ],
          "scattercarpet": [
           {
            "marker": {
             "colorbar": {
              "outlinewidth": 0,
              "ticks": ""
             }
            },
            "type": "scattercarpet"
           }
          ],
          "scattergeo": [
           {
            "marker": {
             "colorbar": {
              "outlinewidth": 0,
              "ticks": ""
             }
            },
            "type": "scattergeo"
           }
          ],
          "scattergl": [
           {
            "marker": {
             "colorbar": {
              "outlinewidth": 0,
              "ticks": ""
             }
            },
            "type": "scattergl"
           }
          ],
          "scattermapbox": [
           {
            "marker": {
             "colorbar": {
              "outlinewidth": 0,
              "ticks": ""
             }
            },
            "type": "scattermapbox"
           }
          ],
          "scatterpolar": [
           {
            "marker": {
             "colorbar": {
              "outlinewidth": 0,
              "ticks": ""
             }
            },
            "type": "scatterpolar"
           }
          ],
          "scatterpolargl": [
           {
            "marker": {
             "colorbar": {
              "outlinewidth": 0,
              "ticks": ""
             }
            },
            "type": "scatterpolargl"
           }
          ],
          "scatterternary": [
           {
            "marker": {
             "colorbar": {
              "outlinewidth": 0,
              "ticks": ""
             }
            },
            "type": "scatterternary"
           }
          ],
          "surface": [
           {
            "colorbar": {
             "outlinewidth": 0,
             "ticks": ""
            },
            "colorscale": [
             [
              0,
              "#0d0887"
             ],
             [
              0.1111111111111111,
              "#46039f"
             ],
             [
              0.2222222222222222,
              "#7201a8"
             ],
             [
              0.3333333333333333,
              "#9c179e"
             ],
             [
              0.4444444444444444,
              "#bd3786"
             ],
             [
              0.5555555555555556,
              "#d8576b"
             ],
             [
              0.6666666666666666,
              "#ed7953"
             ],
             [
              0.7777777777777778,
              "#fb9f3a"
             ],
             [
              0.8888888888888888,
              "#fdca26"
             ],
             [
              1,
              "#f0f921"
             ]
            ],
            "type": "surface"
           }
          ],
          "table": [
           {
            "cells": {
             "fill": {
              "color": "#EBF0F8"
             },
             "line": {
              "color": "white"
             }
            },
            "header": {
             "fill": {
              "color": "#C8D4E3"
             },
             "line": {
              "color": "white"
             }
            },
            "type": "table"
           }
          ]
         },
         "layout": {
          "annotationdefaults": {
           "arrowcolor": "#2a3f5f",
           "arrowhead": 0,
           "arrowwidth": 1
          },
          "autotypenumbers": "strict",
          "coloraxis": {
           "colorbar": {
            "outlinewidth": 0,
            "ticks": ""
           }
          },
          "colorscale": {
           "diverging": [
            [
             0,
             "#8e0152"
            ],
            [
             0.1,
             "#c51b7d"
            ],
            [
             0.2,
             "#de77ae"
            ],
            [
             0.3,
             "#f1b6da"
            ],
            [
             0.4,
             "#fde0ef"
            ],
            [
             0.5,
             "#f7f7f7"
            ],
            [
             0.6,
             "#e6f5d0"
            ],
            [
             0.7,
             "#b8e186"
            ],
            [
             0.8,
             "#7fbc41"
            ],
            [
             0.9,
             "#4d9221"
            ],
            [
             1,
             "#276419"
            ]
           ],
           "sequential": [
            [
             0,
             "#0d0887"
            ],
            [
             0.1111111111111111,
             "#46039f"
            ],
            [
             0.2222222222222222,
             "#7201a8"
            ],
            [
             0.3333333333333333,
             "#9c179e"
            ],
            [
             0.4444444444444444,
             "#bd3786"
            ],
            [
             0.5555555555555556,
             "#d8576b"
            ],
            [
             0.6666666666666666,
             "#ed7953"
            ],
            [
             0.7777777777777778,
             "#fb9f3a"
            ],
            [
             0.8888888888888888,
             "#fdca26"
            ],
            [
             1,
             "#f0f921"
            ]
           ],
           "sequentialminus": [
            [
             0,
             "#0d0887"
            ],
            [
             0.1111111111111111,
             "#46039f"
            ],
            [
             0.2222222222222222,
             "#7201a8"
            ],
            [
             0.3333333333333333,
             "#9c179e"
            ],
            [
             0.4444444444444444,
             "#bd3786"
            ],
            [
             0.5555555555555556,
             "#d8576b"
            ],
            [
             0.6666666666666666,
             "#ed7953"
            ],
            [
             0.7777777777777778,
             "#fb9f3a"
            ],
            [
             0.8888888888888888,
             "#fdca26"
            ],
            [
             1,
             "#f0f921"
            ]
           ]
          },
          "colorway": [
           "#636efa",
           "#EF553B",
           "#00cc96",
           "#ab63fa",
           "#FFA15A",
           "#19d3f3",
           "#FF6692",
           "#B6E880",
           "#FF97FF",
           "#FECB52"
          ],
          "font": {
           "color": "#2a3f5f"
          },
          "geo": {
           "bgcolor": "white",
           "lakecolor": "white",
           "landcolor": "#E5ECF6",
           "showlakes": true,
           "showland": true,
           "subunitcolor": "white"
          },
          "hoverlabel": {
           "align": "left"
          },
          "hovermode": "closest",
          "mapbox": {
           "style": "light"
          },
          "paper_bgcolor": "white",
          "plot_bgcolor": "#E5ECF6",
          "polar": {
           "angularaxis": {
            "gridcolor": "white",
            "linecolor": "white",
            "ticks": ""
           },
           "bgcolor": "#E5ECF6",
           "radialaxis": {
            "gridcolor": "white",
            "linecolor": "white",
            "ticks": ""
           }
          },
          "scene": {
           "xaxis": {
            "backgroundcolor": "#E5ECF6",
            "gridcolor": "white",
            "gridwidth": 2,
            "linecolor": "white",
            "showbackground": true,
            "ticks": "",
            "zerolinecolor": "white"
           },
           "yaxis": {
            "backgroundcolor": "#E5ECF6",
            "gridcolor": "white",
            "gridwidth": 2,
            "linecolor": "white",
            "showbackground": true,
            "ticks": "",
            "zerolinecolor": "white"
           },
           "zaxis": {
            "backgroundcolor": "#E5ECF6",
            "gridcolor": "white",
            "gridwidth": 2,
            "linecolor": "white",
            "showbackground": true,
            "ticks": "",
            "zerolinecolor": "white"
           }
          },
          "shapedefaults": {
           "line": {
            "color": "#2a3f5f"
           }
          },
          "ternary": {
           "aaxis": {
            "gridcolor": "white",
            "linecolor": "white",
            "ticks": ""
           },
           "baxis": {
            "gridcolor": "white",
            "linecolor": "white",
            "ticks": ""
           },
           "bgcolor": "#E5ECF6",
           "caxis": {
            "gridcolor": "white",
            "linecolor": "white",
            "ticks": ""
           }
          },
          "title": {
           "x": 0.05
          },
          "xaxis": {
           "automargin": true,
           "gridcolor": "white",
           "linecolor": "white",
           "ticks": "",
           "title": {
            "standoff": 15
           },
           "zerolinecolor": "white",
           "zerolinewidth": 2
          },
          "yaxis": {
           "automargin": true,
           "gridcolor": "white",
           "linecolor": "white",
           "ticks": "",
           "title": {
            "standoff": 15
           },
           "zerolinecolor": "white",
           "zerolinewidth": 2
          }
         }
        },
        "title": {
         "text": "Market Share Distribution by Brand"
        }
       }
      },
      "text/html": [
       "<div>                            <div id=\"ec117241-d084-45a6-badd-98725d6a6055\" class=\"plotly-graph-div\" style=\"height:525px; width:100%;\"></div>            <script type=\"text/javascript\">                require([\"plotly\"], function(Plotly) {                    window.PLOTLYENV=window.PLOTLYENV || {};                                    if (document.getElementById(\"ec117241-d084-45a6-badd-98725d6a6055\")) {                    Plotly.newPlot(                        \"ec117241-d084-45a6-badd-98725d6a6055\",                        [{\"domain\":{\"x\":[0.0,1.0],\"y\":[0.0,1.0]},\"hovertemplate\":\"Brand=%{label}\\u003cbr\\u003eMarket Share=%{value}\\u003cextra\\u003e\\u003c\\u002fextra\\u003e\",\"labels\":[\"Purina\",\"Iris\",\"Hill'S Prescription Diet\",\"Orijen\",\"Sheba Wet Food\",\"Instinct\",\"Hill'S Pet Nutrition\",\"Meow Mix\",\"Weruva\",\"Petlibro\",\"Wellness\",\"Iris Usa, Inc.\",\"Reopet\",\"Sheba\",\"Purina Pro Plan\",\"Hill'S Science Diet\",\"Iams\",\"Other\",\"Purina One\",\"Blue Buffalo\",\"Friskies\",\"Purina Fancy Feast\"],\"legendgroup\":\"\",\"name\":\"\",\"showlegend\":true,\"values\":[1.0745769287262463,1.149974880513488,1.272636106698075,1.405219108222882,1.4450537332152564,1.622112016389864,1.8364384460248275,1.901990403113329,2.2076040996391586,2.2471621518423994,2.2840049105358027,2.2845771591360196,2.328834942383488,5.726648351162768,5.9298981246809115,6.184157411834651,6.245820771129738,7.403740295835551,7.816974707165987,8.443355353024847,9.313311424845724,19.875908673878982],\"type\":\"pie\"}],                        {\"template\":{\"data\":{\"histogram2dcontour\":[{\"type\":\"histogram2dcontour\",\"colorbar\":{\"outlinewidth\":0,\"ticks\":\"\"},\"colorscale\":[[0.0,\"#0d0887\"],[0.1111111111111111,\"#46039f\"],[0.2222222222222222,\"#7201a8\"],[0.3333333333333333,\"#9c179e\"],[0.4444444444444444,\"#bd3786\"],[0.5555555555555556,\"#d8576b\"],[0.6666666666666666,\"#ed7953\"],[0.7777777777777778,\"#fb9f3a\"],[0.8888888888888888,\"#fdca26\"],[1.0,\"#f0f921\"]]}],\"choropleth\":[{\"type\":\"choropleth\",\"colorbar\":{\"outlinewidth\":0,\"ticks\":\"\"}}],\"histogram2d\":[{\"type\":\"histogram2d\",\"colorbar\":{\"outlinewidth\":0,\"ticks\":\"\"},\"colorscale\":[[0.0,\"#0d0887\"],[0.1111111111111111,\"#46039f\"],[0.2222222222222222,\"#7201a8\"],[0.3333333333333333,\"#9c179e\"],[0.4444444444444444,\"#bd3786\"],[0.5555555555555556,\"#d8576b\"],[0.6666666666666666,\"#ed7953\"],[0.7777777777777778,\"#fb9f3a\"],[0.8888888888888888,\"#fdca26\"],[1.0,\"#f0f921\"]]}],\"heatmap\":[{\"type\":\"heatmap\",\"colorbar\":{\"outlinewidth\":0,\"ticks\":\"\"},\"colorscale\":[[0.0,\"#0d0887\"],[0.1111111111111111,\"#46039f\"],[0.2222222222222222,\"#7201a8\"],[0.3333333333333333,\"#9c179e\"],[0.4444444444444444,\"#bd3786\"],[0.5555555555555556,\"#d8576b\"],[0.6666666666666666,\"#ed7953\"],[0.7777777777777778,\"#fb9f3a\"],[0.8888888888888888,\"#fdca26\"],[1.0,\"#f0f921\"]]}],\"heatmapgl\":[{\"type\":\"heatmapgl\",\"colorbar\":{\"outlinewidth\":0,\"ticks\":\"\"},\"colorscale\":[[0.0,\"#0d0887\"],[0.1111111111111111,\"#46039f\"],[0.2222222222222222,\"#7201a8\"],[0.3333333333333333,\"#9c179e\"],[0.4444444444444444,\"#bd3786\"],[0.5555555555555556,\"#d8576b\"],[0.6666666666666666,\"#ed7953\"],[0.7777777777777778,\"#fb9f3a\"],[0.8888888888888888,\"#fdca26\"],[1.0,\"#f0f921\"]]}],\"contourcarpet\":[{\"type\":\"contourcarpet\",\"colorbar\":{\"outlinewidth\":0,\"ticks\":\"\"}}],\"contour\":[{\"type\":\"contour\",\"colorbar\":{\"outlinewidth\":0,\"ticks\":\"\"},\"colorscale\":[[0.0,\"#0d0887\"],[0.1111111111111111,\"#46039f\"],[0.2222222222222222,\"#7201a8\"],[0.3333333333333333,\"#9c179e\"],[0.4444444444444444,\"#bd3786\"],[0.5555555555555556,\"#d8576b\"],[0.6666666666666666,\"#ed7953\"],[0.7777777777777778,\"#fb9f3a\"],[0.8888888888888888,\"#fdca26\"],[1.0,\"#f0f921\"]]}],\"surface\":[{\"type\":\"surface\",\"colorbar\":{\"outlinewidth\":0,\"ticks\":\"\"},\"colorscale\":[[0.0,\"#0d0887\"],[0.1111111111111111,\"#46039f\"],[0.2222222222222222,\"#7201a8\"],[0.3333333333333333,\"#9c179e\"],[0.4444444444444444,\"#bd3786\"],[0.5555555555555556,\"#d8576b\"],[0.6666666666666666,\"#ed7953\"],[0.7777777777777778,\"#fb9f3a\"],[0.8888888888888888,\"#fdca26\"],[1.0,\"#f0f921\"]]}],\"mesh3d\":[{\"type\":\"mesh3d\",\"colorbar\":{\"outlinewidth\":0,\"ticks\":\"\"}}],\"scatter\":[{\"fillpattern\":{\"fillmode\":\"overlay\",\"size\":10,\"solidity\":0.2},\"type\":\"scatter\"}],\"parcoords\":[{\"type\":\"parcoords\",\"line\":{\"colorbar\":{\"outlinewidth\":0,\"ticks\":\"\"}}}],\"scatterpolargl\":[{\"type\":\"scatterpolargl\",\"marker\":{\"colorbar\":{\"outlinewidth\":0,\"ticks\":\"\"}}}],\"bar\":[{\"error_x\":{\"color\":\"#2a3f5f\"},\"error_y\":{\"color\":\"#2a3f5f\"},\"marker\":{\"line\":{\"color\":\"#E5ECF6\",\"width\":0.5},\"pattern\":{\"fillmode\":\"overlay\",\"size\":10,\"solidity\":0.2}},\"type\":\"bar\"}],\"scattergeo\":[{\"type\":\"scattergeo\",\"marker\":{\"colorbar\":{\"outlinewidth\":0,\"ticks\":\"\"}}}],\"scatterpolar\":[{\"type\":\"scatterpolar\",\"marker\":{\"colorbar\":{\"outlinewidth\":0,\"ticks\":\"\"}}}],\"histogram\":[{\"marker\":{\"pattern\":{\"fillmode\":\"overlay\",\"size\":10,\"solidity\":0.2}},\"type\":\"histogram\"}],\"scattergl\":[{\"type\":\"scattergl\",\"marker\":{\"colorbar\":{\"outlinewidth\":0,\"ticks\":\"\"}}}],\"scatter3d\":[{\"type\":\"scatter3d\",\"line\":{\"colorbar\":{\"outlinewidth\":0,\"ticks\":\"\"}},\"marker\":{\"colorbar\":{\"outlinewidth\":0,\"ticks\":\"\"}}}],\"scattermapbox\":[{\"type\":\"scattermapbox\",\"marker\":{\"colorbar\":{\"outlinewidth\":0,\"ticks\":\"\"}}}],\"scatterternary\":[{\"type\":\"scatterternary\",\"marker\":{\"colorbar\":{\"outlinewidth\":0,\"ticks\":\"\"}}}],\"scattercarpet\":[{\"type\":\"scattercarpet\",\"marker\":{\"colorbar\":{\"outlinewidth\":0,\"ticks\":\"\"}}}],\"carpet\":[{\"aaxis\":{\"endlinecolor\":\"#2a3f5f\",\"gridcolor\":\"white\",\"linecolor\":\"white\",\"minorgridcolor\":\"white\",\"startlinecolor\":\"#2a3f5f\"},\"baxis\":{\"endlinecolor\":\"#2a3f5f\",\"gridcolor\":\"white\",\"linecolor\":\"white\",\"minorgridcolor\":\"white\",\"startlinecolor\":\"#2a3f5f\"},\"type\":\"carpet\"}],\"table\":[{\"cells\":{\"fill\":{\"color\":\"#EBF0F8\"},\"line\":{\"color\":\"white\"}},\"header\":{\"fill\":{\"color\":\"#C8D4E3\"},\"line\":{\"color\":\"white\"}},\"type\":\"table\"}],\"barpolar\":[{\"marker\":{\"line\":{\"color\":\"#E5ECF6\",\"width\":0.5},\"pattern\":{\"fillmode\":\"overlay\",\"size\":10,\"solidity\":0.2}},\"type\":\"barpolar\"}],\"pie\":[{\"automargin\":true,\"type\":\"pie\"}]},\"layout\":{\"autotypenumbers\":\"strict\",\"colorway\":[\"#636efa\",\"#EF553B\",\"#00cc96\",\"#ab63fa\",\"#FFA15A\",\"#19d3f3\",\"#FF6692\",\"#B6E880\",\"#FF97FF\",\"#FECB52\"],\"font\":{\"color\":\"#2a3f5f\"},\"hovermode\":\"closest\",\"hoverlabel\":{\"align\":\"left\"},\"paper_bgcolor\":\"white\",\"plot_bgcolor\":\"#E5ECF6\",\"polar\":{\"bgcolor\":\"#E5ECF6\",\"angularaxis\":{\"gridcolor\":\"white\",\"linecolor\":\"white\",\"ticks\":\"\"},\"radialaxis\":{\"gridcolor\":\"white\",\"linecolor\":\"white\",\"ticks\":\"\"}},\"ternary\":{\"bgcolor\":\"#E5ECF6\",\"aaxis\":{\"gridcolor\":\"white\",\"linecolor\":\"white\",\"ticks\":\"\"},\"baxis\":{\"gridcolor\":\"white\",\"linecolor\":\"white\",\"ticks\":\"\"},\"caxis\":{\"gridcolor\":\"white\",\"linecolor\":\"white\",\"ticks\":\"\"}},\"coloraxis\":{\"colorbar\":{\"outlinewidth\":0,\"ticks\":\"\"}},\"colorscale\":{\"sequential\":[[0.0,\"#0d0887\"],[0.1111111111111111,\"#46039f\"],[0.2222222222222222,\"#7201a8\"],[0.3333333333333333,\"#9c179e\"],[0.4444444444444444,\"#bd3786\"],[0.5555555555555556,\"#d8576b\"],[0.6666666666666666,\"#ed7953\"],[0.7777777777777778,\"#fb9f3a\"],[0.8888888888888888,\"#fdca26\"],[1.0,\"#f0f921\"]],\"sequentialminus\":[[0.0,\"#0d0887\"],[0.1111111111111111,\"#46039f\"],[0.2222222222222222,\"#7201a8\"],[0.3333333333333333,\"#9c179e\"],[0.4444444444444444,\"#bd3786\"],[0.5555555555555556,\"#d8576b\"],[0.6666666666666666,\"#ed7953\"],[0.7777777777777778,\"#fb9f3a\"],[0.8888888888888888,\"#fdca26\"],[1.0,\"#f0f921\"]],\"diverging\":[[0,\"#8e0152\"],[0.1,\"#c51b7d\"],[0.2,\"#de77ae\"],[0.3,\"#f1b6da\"],[0.4,\"#fde0ef\"],[0.5,\"#f7f7f7\"],[0.6,\"#e6f5d0\"],[0.7,\"#b8e186\"],[0.8,\"#7fbc41\"],[0.9,\"#4d9221\"],[1,\"#276419\"]]},\"xaxis\":{\"gridcolor\":\"white\",\"linecolor\":\"white\",\"ticks\":\"\",\"title\":{\"standoff\":15},\"zerolinecolor\":\"white\",\"automargin\":true,\"zerolinewidth\":2},\"yaxis\":{\"gridcolor\":\"white\",\"linecolor\":\"white\",\"ticks\":\"\",\"title\":{\"standoff\":15},\"zerolinecolor\":\"white\",\"automargin\":true,\"zerolinewidth\":2},\"scene\":{\"xaxis\":{\"backgroundcolor\":\"#E5ECF6\",\"gridcolor\":\"white\",\"linecolor\":\"white\",\"showbackground\":true,\"ticks\":\"\",\"zerolinecolor\":\"white\",\"gridwidth\":2},\"yaxis\":{\"backgroundcolor\":\"#E5ECF6\",\"gridcolor\":\"white\",\"linecolor\":\"white\",\"showbackground\":true,\"ticks\":\"\",\"zerolinecolor\":\"white\",\"gridwidth\":2},\"zaxis\":{\"backgroundcolor\":\"#E5ECF6\",\"gridcolor\":\"white\",\"linecolor\":\"white\",\"showbackground\":true,\"ticks\":\"\",\"zerolinecolor\":\"white\",\"gridwidth\":2}},\"shapedefaults\":{\"line\":{\"color\":\"#2a3f5f\"}},\"annotationdefaults\":{\"arrowcolor\":\"#2a3f5f\",\"arrowhead\":0,\"arrowwidth\":1},\"geo\":{\"bgcolor\":\"white\",\"landcolor\":\"#E5ECF6\",\"subunitcolor\":\"white\",\"showland\":true,\"showlakes\":true,\"lakecolor\":\"white\"},\"title\":{\"x\":0.05},\"mapbox\":{\"style\":\"light\"}}},\"legend\":{\"tracegroupgap\":0},\"title\":{\"text\":\"Market Share Distribution by Brand\"}},                        {\"responsive\": true}                    ).then(function(){\n",
       "                            \n",
       "var gd = document.getElementById('ec117241-d084-45a6-badd-98725d6a6055');\n",
       "var x = new MutationObserver(function (mutations, observer) {{\n",
       "        var display = window.getComputedStyle(gd).display;\n",
       "        if (!display || display === 'none') {{\n",
       "            console.log([gd, 'removed!']);\n",
       "            Plotly.purge(gd);\n",
       "            observer.disconnect();\n",
       "        }}\n",
       "}});\n",
       "\n",
       "// Listen for the removal of the full notebook cells\n",
       "var notebookContainer = gd.closest('#notebook-container');\n",
       "if (notebookContainer) {{\n",
       "    x.observe(notebookContainer, {childList: true});\n",
       "}}\n",
       "\n",
       "// Listen for the clearing of the current output cell\n",
       "var outputEl = gd.closest('.output');\n",
       "if (outputEl) {{\n",
       "    x.observe(outputEl, {childList: true});\n",
       "}}\n",
       "\n",
       "                        })                };                });            </script>        </div>"
      ]
     },
     "metadata": {},
     "output_type": "display_data"
    }
   ],
   "source": [
    "# Load brand data\n",
    "brand_data = pd.read_excel('Customer_Success_Engineer_-_Project_Data.xlsx', sheet_name='Segment Brands', header=1)\n",
    "\n",
    "# Summarize total revenue by brand\n",
    "brand_revenue = brand_data.groupby('Brand')['Revenue'].sum().reset_index()\n",
    "\n",
    "# Calculate market share\n",
    "brand_revenue['Market Share'] = (brand_revenue['Revenue'] / brand_revenue['Revenue'].sum()) * 100\n",
    "\n",
    "# Define a threshold for minimum market share to be shown individually\n",
    "threshold = 1  # for example, 1%\n",
    "\n",
    "# Create a new row for 'Other' by summing up brands below the threshold\n",
    "other_revenue = brand_revenue[brand_revenue['Market Share'] < threshold]['Revenue'].sum()\n",
    "other_market_share = brand_revenue[brand_revenue['Market Share'] < threshold]['Market Share'].sum()\n",
    "\n",
    "# Remove brands below the threshold\n",
    "brand_revenue = brand_revenue[brand_revenue['Market Share'] >= threshold]\n",
    "\n",
    "# Append the 'Other' category to the DataFrame\n",
    "other_row = pd.DataFrame(data={'Brand': ['Other'], 'Revenue': [other_revenue], 'Market Share': [other_market_share]})\n",
    "brand_revenue = pd.concat([brand_revenue, other_row], ignore_index=True)\n",
    "\n",
    "# Sort by market share to ensure 'Other' is not dominating the chart if it's a large share\n",
    "brand_revenue.sort_values('Market Share', inplace=True)\n",
    "\n",
    "# Create a pie chart\n",
    "fig = px.pie(brand_revenue, values='Market Share', names='Brand', title='Market Share Distribution by Brand')\n",
    "\n",
    "# Show the pie chart\n",
    "fig.show()"
   ]
  },
  {
   "cell_type": "markdown",
   "id": "9f95417c",
   "metadata": {},
   "source": [
    "Brand Performance Comparison\n",
    "\n",
    "Grouping the data by 'Brand' to calculate the sum of revenues for each.\n",
    "Sorting the results to ensure that the bar chart shows brands in order of their revenue performance.\n",
    "Plotting the data using Plotly's bar chart function."
   ]
  },
  {
   "cell_type": "code",
   "execution_count": 202,
   "id": "9ed208b4",
   "metadata": {},
   "outputs": [
    {
     "data": {
      "application/vnd.plotly.v1+json": {
       "config": {
        "plotlyServerURL": "https://plot.ly"
       },
       "data": [
        {
         "alignmentgroup": "True",
         "hovertemplate": "Brand=%{x}<br>Revenue=%{y}<extra></extra>",
         "legendgroup": "",
         "marker": {
          "color": "#636efa",
          "pattern": {
           "shape": ""
          }
         },
         "name": "",
         "offsetgroup": "",
         "orientation": "v",
         "showlegend": false,
         "textposition": "auto",
         "type": "bar",
         "x": [
          "Purina Fancy Feast",
          "Friskies",
          "Blue Buffalo",
          "Purina One",
          "Iams",
          "Hill'S Science Diet",
          "Purina Pro Plan",
          "Sheba",
          "Reopet",
          "Iris Usa, Inc.",
          "Wellness",
          "Petlibro",
          "Weruva",
          "Meow Mix",
          "Hill'S Pet Nutrition",
          "Instinct",
          "Sheba Wet Food",
          "Orijen",
          "Hill'S Prescription Diet",
          "Iris",
          "Purina",
          "Simplehuman",
          "Rachael Ray Nutrish",
          "Hoki Found",
          "Royal Canin",
          "Reveal Limited Ingredients Approved By Cats",
          "Neater Feeder",
          "Stella & Chewy'S",
          "Merrick",
          "Fancy Feast",
          "Gorilla Grip",
          "9lives",
          "Petsafe",
          "Air Wick",
          "Purina Beyond",
          "Iris Usa",
          "Squishmallow",
          "Wellness Natural Pet Food"
         ],
         "xaxis": "x",
         "y": [
          96383518.36667095,
          45162701.112168014,
          40944054.89063754,
          37906570.090558596,
          30287630.663158648,
          29988608.785936028,
          28755638.50641942,
          27770026.799285103,
          11293134.272505095,
          11078516.619823555,
          11075741.63557633,
          10897081.39078102,
          10705253.972289631,
          9223252.6300861,
          8905373.91753626,
          7866048.586245482,
          7007446.317119615,
          6814277.724298108,
          6171347.814916477,
          5576531.2085,
          5210906.67328338,
          4604996.4867477985,
          4355580.375255854,
          3712204.9152255184,
          3490728.190912,
          3452009.1293648584,
          3089840.335364495,
          2960246.87919425,
          2726629.8387673656,
          1987341.7098253733,
          1320955.6658079838,
          1163292.07346,
          1118577.8866249342,
          664197.2237408846,
          566909.8631074735,
          565608.5427605,
          123568.42856375,
          0
         ],
         "yaxis": "y"
        }
       ],
       "layout": {
        "barmode": "relative",
        "legend": {
         "tracegroupgap": 0
        },
        "template": {
         "data": {
          "bar": [
           {
            "error_x": {
             "color": "#2a3f5f"
            },
            "error_y": {
             "color": "#2a3f5f"
            },
            "marker": {
             "line": {
              "color": "#E5ECF6",
              "width": 0.5
             },
             "pattern": {
              "fillmode": "overlay",
              "size": 10,
              "solidity": 0.2
             }
            },
            "type": "bar"
           }
          ],
          "barpolar": [
           {
            "marker": {
             "line": {
              "color": "#E5ECF6",
              "width": 0.5
             },
             "pattern": {
              "fillmode": "overlay",
              "size": 10,
              "solidity": 0.2
             }
            },
            "type": "barpolar"
           }
          ],
          "carpet": [
           {
            "aaxis": {
             "endlinecolor": "#2a3f5f",
             "gridcolor": "white",
             "linecolor": "white",
             "minorgridcolor": "white",
             "startlinecolor": "#2a3f5f"
            },
            "baxis": {
             "endlinecolor": "#2a3f5f",
             "gridcolor": "white",
             "linecolor": "white",
             "minorgridcolor": "white",
             "startlinecolor": "#2a3f5f"
            },
            "type": "carpet"
           }
          ],
          "choropleth": [
           {
            "colorbar": {
             "outlinewidth": 0,
             "ticks": ""
            },
            "type": "choropleth"
           }
          ],
          "contour": [
           {
            "colorbar": {
             "outlinewidth": 0,
             "ticks": ""
            },
            "colorscale": [
             [
              0,
              "#0d0887"
             ],
             [
              0.1111111111111111,
              "#46039f"
             ],
             [
              0.2222222222222222,
              "#7201a8"
             ],
             [
              0.3333333333333333,
              "#9c179e"
             ],
             [
              0.4444444444444444,
              "#bd3786"
             ],
             [
              0.5555555555555556,
              "#d8576b"
             ],
             [
              0.6666666666666666,
              "#ed7953"
             ],
             [
              0.7777777777777778,
              "#fb9f3a"
             ],
             [
              0.8888888888888888,
              "#fdca26"
             ],
             [
              1,
              "#f0f921"
             ]
            ],
            "type": "contour"
           }
          ],
          "contourcarpet": [
           {
            "colorbar": {
             "outlinewidth": 0,
             "ticks": ""
            },
            "type": "contourcarpet"
           }
          ],
          "heatmap": [
           {
            "colorbar": {
             "outlinewidth": 0,
             "ticks": ""
            },
            "colorscale": [
             [
              0,
              "#0d0887"
             ],
             [
              0.1111111111111111,
              "#46039f"
             ],
             [
              0.2222222222222222,
              "#7201a8"
             ],
             [
              0.3333333333333333,
              "#9c179e"
             ],
             [
              0.4444444444444444,
              "#bd3786"
             ],
             [
              0.5555555555555556,
              "#d8576b"
             ],
             [
              0.6666666666666666,
              "#ed7953"
             ],
             [
              0.7777777777777778,
              "#fb9f3a"
             ],
             [
              0.8888888888888888,
              "#fdca26"
             ],
             [
              1,
              "#f0f921"
             ]
            ],
            "type": "heatmap"
           }
          ],
          "heatmapgl": [
           {
            "colorbar": {
             "outlinewidth": 0,
             "ticks": ""
            },
            "colorscale": [
             [
              0,
              "#0d0887"
             ],
             [
              0.1111111111111111,
              "#46039f"
             ],
             [
              0.2222222222222222,
              "#7201a8"
             ],
             [
              0.3333333333333333,
              "#9c179e"
             ],
             [
              0.4444444444444444,
              "#bd3786"
             ],
             [
              0.5555555555555556,
              "#d8576b"
             ],
             [
              0.6666666666666666,
              "#ed7953"
             ],
             [
              0.7777777777777778,
              "#fb9f3a"
             ],
             [
              0.8888888888888888,
              "#fdca26"
             ],
             [
              1,
              "#f0f921"
             ]
            ],
            "type": "heatmapgl"
           }
          ],
          "histogram": [
           {
            "marker": {
             "pattern": {
              "fillmode": "overlay",
              "size": 10,
              "solidity": 0.2
             }
            },
            "type": "histogram"
           }
          ],
          "histogram2d": [
           {
            "colorbar": {
             "outlinewidth": 0,
             "ticks": ""
            },
            "colorscale": [
             [
              0,
              "#0d0887"
             ],
             [
              0.1111111111111111,
              "#46039f"
             ],
             [
              0.2222222222222222,
              "#7201a8"
             ],
             [
              0.3333333333333333,
              "#9c179e"
             ],
             [
              0.4444444444444444,
              "#bd3786"
             ],
             [
              0.5555555555555556,
              "#d8576b"
             ],
             [
              0.6666666666666666,
              "#ed7953"
             ],
             [
              0.7777777777777778,
              "#fb9f3a"
             ],
             [
              0.8888888888888888,
              "#fdca26"
             ],
             [
              1,
              "#f0f921"
             ]
            ],
            "type": "histogram2d"
           }
          ],
          "histogram2dcontour": [
           {
            "colorbar": {
             "outlinewidth": 0,
             "ticks": ""
            },
            "colorscale": [
             [
              0,
              "#0d0887"
             ],
             [
              0.1111111111111111,
              "#46039f"
             ],
             [
              0.2222222222222222,
              "#7201a8"
             ],
             [
              0.3333333333333333,
              "#9c179e"
             ],
             [
              0.4444444444444444,
              "#bd3786"
             ],
             [
              0.5555555555555556,
              "#d8576b"
             ],
             [
              0.6666666666666666,
              "#ed7953"
             ],
             [
              0.7777777777777778,
              "#fb9f3a"
             ],
             [
              0.8888888888888888,
              "#fdca26"
             ],
             [
              1,
              "#f0f921"
             ]
            ],
            "type": "histogram2dcontour"
           }
          ],
          "mesh3d": [
           {
            "colorbar": {
             "outlinewidth": 0,
             "ticks": ""
            },
            "type": "mesh3d"
           }
          ],
          "parcoords": [
           {
            "line": {
             "colorbar": {
              "outlinewidth": 0,
              "ticks": ""
             }
            },
            "type": "parcoords"
           }
          ],
          "pie": [
           {
            "automargin": true,
            "type": "pie"
           }
          ],
          "scatter": [
           {
            "fillpattern": {
             "fillmode": "overlay",
             "size": 10,
             "solidity": 0.2
            },
            "type": "scatter"
           }
          ],
          "scatter3d": [
           {
            "line": {
             "colorbar": {
              "outlinewidth": 0,
              "ticks": ""
             }
            },
            "marker": {
             "colorbar": {
              "outlinewidth": 0,
              "ticks": ""
             }
            },
            "type": "scatter3d"
           }
          ],
          "scattercarpet": [
           {
            "marker": {
             "colorbar": {
              "outlinewidth": 0,
              "ticks": ""
             }
            },
            "type": "scattercarpet"
           }
          ],
          "scattergeo": [
           {
            "marker": {
             "colorbar": {
              "outlinewidth": 0,
              "ticks": ""
             }
            },
            "type": "scattergeo"
           }
          ],
          "scattergl": [
           {
            "marker": {
             "colorbar": {
              "outlinewidth": 0,
              "ticks": ""
             }
            },
            "type": "scattergl"
           }
          ],
          "scattermapbox": [
           {
            "marker": {
             "colorbar": {
              "outlinewidth": 0,
              "ticks": ""
             }
            },
            "type": "scattermapbox"
           }
          ],
          "scatterpolar": [
           {
            "marker": {
             "colorbar": {
              "outlinewidth": 0,
              "ticks": ""
             }
            },
            "type": "scatterpolar"
           }
          ],
          "scatterpolargl": [
           {
            "marker": {
             "colorbar": {
              "outlinewidth": 0,
              "ticks": ""
             }
            },
            "type": "scatterpolargl"
           }
          ],
          "scatterternary": [
           {
            "marker": {
             "colorbar": {
              "outlinewidth": 0,
              "ticks": ""
             }
            },
            "type": "scatterternary"
           }
          ],
          "surface": [
           {
            "colorbar": {
             "outlinewidth": 0,
             "ticks": ""
            },
            "colorscale": [
             [
              0,
              "#0d0887"
             ],
             [
              0.1111111111111111,
              "#46039f"
             ],
             [
              0.2222222222222222,
              "#7201a8"
             ],
             [
              0.3333333333333333,
              "#9c179e"
             ],
             [
              0.4444444444444444,
              "#bd3786"
             ],
             [
              0.5555555555555556,
              "#d8576b"
             ],
             [
              0.6666666666666666,
              "#ed7953"
             ],
             [
              0.7777777777777778,
              "#fb9f3a"
             ],
             [
              0.8888888888888888,
              "#fdca26"
             ],
             [
              1,
              "#f0f921"
             ]
            ],
            "type": "surface"
           }
          ],
          "table": [
           {
            "cells": {
             "fill": {
              "color": "#EBF0F8"
             },
             "line": {
              "color": "white"
             }
            },
            "header": {
             "fill": {
              "color": "#C8D4E3"
             },
             "line": {
              "color": "white"
             }
            },
            "type": "table"
           }
          ]
         },
         "layout": {
          "annotationdefaults": {
           "arrowcolor": "#2a3f5f",
           "arrowhead": 0,
           "arrowwidth": 1
          },
          "autotypenumbers": "strict",
          "coloraxis": {
           "colorbar": {
            "outlinewidth": 0,
            "ticks": ""
           }
          },
          "colorscale": {
           "diverging": [
            [
             0,
             "#8e0152"
            ],
            [
             0.1,
             "#c51b7d"
            ],
            [
             0.2,
             "#de77ae"
            ],
            [
             0.3,
             "#f1b6da"
            ],
            [
             0.4,
             "#fde0ef"
            ],
            [
             0.5,
             "#f7f7f7"
            ],
            [
             0.6,
             "#e6f5d0"
            ],
            [
             0.7,
             "#b8e186"
            ],
            [
             0.8,
             "#7fbc41"
            ],
            [
             0.9,
             "#4d9221"
            ],
            [
             1,
             "#276419"
            ]
           ],
           "sequential": [
            [
             0,
             "#0d0887"
            ],
            [
             0.1111111111111111,
             "#46039f"
            ],
            [
             0.2222222222222222,
             "#7201a8"
            ],
            [
             0.3333333333333333,
             "#9c179e"
            ],
            [
             0.4444444444444444,
             "#bd3786"
            ],
            [
             0.5555555555555556,
             "#d8576b"
            ],
            [
             0.6666666666666666,
             "#ed7953"
            ],
            [
             0.7777777777777778,
             "#fb9f3a"
            ],
            [
             0.8888888888888888,
             "#fdca26"
            ],
            [
             1,
             "#f0f921"
            ]
           ],
           "sequentialminus": [
            [
             0,
             "#0d0887"
            ],
            [
             0.1111111111111111,
             "#46039f"
            ],
            [
             0.2222222222222222,
             "#7201a8"
            ],
            [
             0.3333333333333333,
             "#9c179e"
            ],
            [
             0.4444444444444444,
             "#bd3786"
            ],
            [
             0.5555555555555556,
             "#d8576b"
            ],
            [
             0.6666666666666666,
             "#ed7953"
            ],
            [
             0.7777777777777778,
             "#fb9f3a"
            ],
            [
             0.8888888888888888,
             "#fdca26"
            ],
            [
             1,
             "#f0f921"
            ]
           ]
          },
          "colorway": [
           "#636efa",
           "#EF553B",
           "#00cc96",
           "#ab63fa",
           "#FFA15A",
           "#19d3f3",
           "#FF6692",
           "#B6E880",
           "#FF97FF",
           "#FECB52"
          ],
          "font": {
           "color": "#2a3f5f"
          },
          "geo": {
           "bgcolor": "white",
           "lakecolor": "white",
           "landcolor": "#E5ECF6",
           "showlakes": true,
           "showland": true,
           "subunitcolor": "white"
          },
          "hoverlabel": {
           "align": "left"
          },
          "hovermode": "closest",
          "mapbox": {
           "style": "light"
          },
          "paper_bgcolor": "white",
          "plot_bgcolor": "#E5ECF6",
          "polar": {
           "angularaxis": {
            "gridcolor": "white",
            "linecolor": "white",
            "ticks": ""
           },
           "bgcolor": "#E5ECF6",
           "radialaxis": {
            "gridcolor": "white",
            "linecolor": "white",
            "ticks": ""
           }
          },
          "scene": {
           "xaxis": {
            "backgroundcolor": "#E5ECF6",
            "gridcolor": "white",
            "gridwidth": 2,
            "linecolor": "white",
            "showbackground": true,
            "ticks": "",
            "zerolinecolor": "white"
           },
           "yaxis": {
            "backgroundcolor": "#E5ECF6",
            "gridcolor": "white",
            "gridwidth": 2,
            "linecolor": "white",
            "showbackground": true,
            "ticks": "",
            "zerolinecolor": "white"
           },
           "zaxis": {
            "backgroundcolor": "#E5ECF6",
            "gridcolor": "white",
            "gridwidth": 2,
            "linecolor": "white",
            "showbackground": true,
            "ticks": "",
            "zerolinecolor": "white"
           }
          },
          "shapedefaults": {
           "line": {
            "color": "#2a3f5f"
           }
          },
          "ternary": {
           "aaxis": {
            "gridcolor": "white",
            "linecolor": "white",
            "ticks": ""
           },
           "baxis": {
            "gridcolor": "white",
            "linecolor": "white",
            "ticks": ""
           },
           "bgcolor": "#E5ECF6",
           "caxis": {
            "gridcolor": "white",
            "linecolor": "white",
            "ticks": ""
           }
          },
          "title": {
           "x": 0.05
          },
          "xaxis": {
           "automargin": true,
           "gridcolor": "white",
           "linecolor": "white",
           "ticks": "",
           "title": {
            "standoff": 15
           },
           "zerolinecolor": "white",
           "zerolinewidth": 2
          },
          "yaxis": {
           "automargin": true,
           "gridcolor": "white",
           "linecolor": "white",
           "ticks": "",
           "title": {
            "standoff": 15
           },
           "zerolinecolor": "white",
           "zerolinewidth": 2
          }
         }
        },
        "title": {
         "text": "Brand Performance Comparison"
        },
        "xaxis": {
         "anchor": "y",
         "categoryorder": "total descending",
         "domain": [
          0,
          1
         ],
         "title": {
          "text": "Brand"
         }
        },
        "yaxis": {
         "anchor": "x",
         "domain": [
          0,
          1
         ],
         "title": {
          "text": "Total Revenue ($)"
         },
         "type": "log"
        }
       }
      },
      "text/html": [
       "<div>                            <div id=\"4eb4be0c-5ad4-4fba-a6ae-25e859a395ad\" class=\"plotly-graph-div\" style=\"height:525px; width:100%;\"></div>            <script type=\"text/javascript\">                require([\"plotly\"], function(Plotly) {                    window.PLOTLYENV=window.PLOTLYENV || {};                                    if (document.getElementById(\"4eb4be0c-5ad4-4fba-a6ae-25e859a395ad\")) {                    Plotly.newPlot(                        \"4eb4be0c-5ad4-4fba-a6ae-25e859a395ad\",                        [{\"alignmentgroup\":\"True\",\"hovertemplate\":\"Brand=%{x}\\u003cbr\\u003eRevenue=%{y}\\u003cextra\\u003e\\u003c\\u002fextra\\u003e\",\"legendgroup\":\"\",\"marker\":{\"color\":\"#636efa\",\"pattern\":{\"shape\":\"\"}},\"name\":\"\",\"offsetgroup\":\"\",\"orientation\":\"v\",\"showlegend\":false,\"textposition\":\"auto\",\"x\":[\"Purina Fancy Feast\",\"Friskies\",\"Blue Buffalo\",\"Purina One\",\"Iams\",\"Hill'S Science Diet\",\"Purina Pro Plan\",\"Sheba\",\"Reopet\",\"Iris Usa, Inc.\",\"Wellness\",\"Petlibro\",\"Weruva\",\"Meow Mix\",\"Hill'S Pet Nutrition\",\"Instinct\",\"Sheba Wet Food\",\"Orijen\",\"Hill'S Prescription Diet\",\"Iris\",\"Purina\",\"Simplehuman\",\"Rachael Ray Nutrish\",\"Hoki Found\",\"Royal Canin\",\"Reveal Limited Ingredients Approved By Cats\",\"Neater Feeder\",\"Stella & Chewy'S\",\"Merrick\",\"Fancy Feast\",\"Gorilla Grip\",\"9lives\",\"Petsafe\",\"Air Wick\",\"Purina Beyond\",\"Iris Usa\",\"Squishmallow\",\"Wellness Natural Pet Food\"],\"xaxis\":\"x\",\"y\":[96383518.36667095,45162701.112168014,40944054.89063754,37906570.090558596,30287630.663158648,29988608.785936028,28755638.50641942,27770026.799285103,11293134.272505095,11078516.619823555,11075741.63557633,10897081.39078102,10705253.972289631,9223252.6300861,8905373.91753626,7866048.586245482,7007446.317119615,6814277.724298108,6171347.814916477,5576531.2085,5210906.67328338,4604996.4867477985,4355580.375255854,3712204.9152255184,3490728.190912,3452009.1293648584,3089840.335364495,2960246.87919425,2726629.8387673656,1987341.7098253733,1320955.6658079838,1163292.07346,1118577.8866249342,664197.2237408846,566909.8631074735,565608.5427605,123568.42856375,0.0],\"yaxis\":\"y\",\"type\":\"bar\"}],                        {\"template\":{\"data\":{\"histogram2dcontour\":[{\"type\":\"histogram2dcontour\",\"colorbar\":{\"outlinewidth\":0,\"ticks\":\"\"},\"colorscale\":[[0.0,\"#0d0887\"],[0.1111111111111111,\"#46039f\"],[0.2222222222222222,\"#7201a8\"],[0.3333333333333333,\"#9c179e\"],[0.4444444444444444,\"#bd3786\"],[0.5555555555555556,\"#d8576b\"],[0.6666666666666666,\"#ed7953\"],[0.7777777777777778,\"#fb9f3a\"],[0.8888888888888888,\"#fdca26\"],[1.0,\"#f0f921\"]]}],\"choropleth\":[{\"type\":\"choropleth\",\"colorbar\":{\"outlinewidth\":0,\"ticks\":\"\"}}],\"histogram2d\":[{\"type\":\"histogram2d\",\"colorbar\":{\"outlinewidth\":0,\"ticks\":\"\"},\"colorscale\":[[0.0,\"#0d0887\"],[0.1111111111111111,\"#46039f\"],[0.2222222222222222,\"#7201a8\"],[0.3333333333333333,\"#9c179e\"],[0.4444444444444444,\"#bd3786\"],[0.5555555555555556,\"#d8576b\"],[0.6666666666666666,\"#ed7953\"],[0.7777777777777778,\"#fb9f3a\"],[0.8888888888888888,\"#fdca26\"],[1.0,\"#f0f921\"]]}],\"heatmap\":[{\"type\":\"heatmap\",\"colorbar\":{\"outlinewidth\":0,\"ticks\":\"\"},\"colorscale\":[[0.0,\"#0d0887\"],[0.1111111111111111,\"#46039f\"],[0.2222222222222222,\"#7201a8\"],[0.3333333333333333,\"#9c179e\"],[0.4444444444444444,\"#bd3786\"],[0.5555555555555556,\"#d8576b\"],[0.6666666666666666,\"#ed7953\"],[0.7777777777777778,\"#fb9f3a\"],[0.8888888888888888,\"#fdca26\"],[1.0,\"#f0f921\"]]}],\"heatmapgl\":[{\"type\":\"heatmapgl\",\"colorbar\":{\"outlinewidth\":0,\"ticks\":\"\"},\"colorscale\":[[0.0,\"#0d0887\"],[0.1111111111111111,\"#46039f\"],[0.2222222222222222,\"#7201a8\"],[0.3333333333333333,\"#9c179e\"],[0.4444444444444444,\"#bd3786\"],[0.5555555555555556,\"#d8576b\"],[0.6666666666666666,\"#ed7953\"],[0.7777777777777778,\"#fb9f3a\"],[0.8888888888888888,\"#fdca26\"],[1.0,\"#f0f921\"]]}],\"contourcarpet\":[{\"type\":\"contourcarpet\",\"colorbar\":{\"outlinewidth\":0,\"ticks\":\"\"}}],\"contour\":[{\"type\":\"contour\",\"colorbar\":{\"outlinewidth\":0,\"ticks\":\"\"},\"colorscale\":[[0.0,\"#0d0887\"],[0.1111111111111111,\"#46039f\"],[0.2222222222222222,\"#7201a8\"],[0.3333333333333333,\"#9c179e\"],[0.4444444444444444,\"#bd3786\"],[0.5555555555555556,\"#d8576b\"],[0.6666666666666666,\"#ed7953\"],[0.7777777777777778,\"#fb9f3a\"],[0.8888888888888888,\"#fdca26\"],[1.0,\"#f0f921\"]]}],\"surface\":[{\"type\":\"surface\",\"colorbar\":{\"outlinewidth\":0,\"ticks\":\"\"},\"colorscale\":[[0.0,\"#0d0887\"],[0.1111111111111111,\"#46039f\"],[0.2222222222222222,\"#7201a8\"],[0.3333333333333333,\"#9c179e\"],[0.4444444444444444,\"#bd3786\"],[0.5555555555555556,\"#d8576b\"],[0.6666666666666666,\"#ed7953\"],[0.7777777777777778,\"#fb9f3a\"],[0.8888888888888888,\"#fdca26\"],[1.0,\"#f0f921\"]]}],\"mesh3d\":[{\"type\":\"mesh3d\",\"colorbar\":{\"outlinewidth\":0,\"ticks\":\"\"}}],\"scatter\":[{\"fillpattern\":{\"fillmode\":\"overlay\",\"size\":10,\"solidity\":0.2},\"type\":\"scatter\"}],\"parcoords\":[{\"type\":\"parcoords\",\"line\":{\"colorbar\":{\"outlinewidth\":0,\"ticks\":\"\"}}}],\"scatterpolargl\":[{\"type\":\"scatterpolargl\",\"marker\":{\"colorbar\":{\"outlinewidth\":0,\"ticks\":\"\"}}}],\"bar\":[{\"error_x\":{\"color\":\"#2a3f5f\"},\"error_y\":{\"color\":\"#2a3f5f\"},\"marker\":{\"line\":{\"color\":\"#E5ECF6\",\"width\":0.5},\"pattern\":{\"fillmode\":\"overlay\",\"size\":10,\"solidity\":0.2}},\"type\":\"bar\"}],\"scattergeo\":[{\"type\":\"scattergeo\",\"marker\":{\"colorbar\":{\"outlinewidth\":0,\"ticks\":\"\"}}}],\"scatterpolar\":[{\"type\":\"scatterpolar\",\"marker\":{\"colorbar\":{\"outlinewidth\":0,\"ticks\":\"\"}}}],\"histogram\":[{\"marker\":{\"pattern\":{\"fillmode\":\"overlay\",\"size\":10,\"solidity\":0.2}},\"type\":\"histogram\"}],\"scattergl\":[{\"type\":\"scattergl\",\"marker\":{\"colorbar\":{\"outlinewidth\":0,\"ticks\":\"\"}}}],\"scatter3d\":[{\"type\":\"scatter3d\",\"line\":{\"colorbar\":{\"outlinewidth\":0,\"ticks\":\"\"}},\"marker\":{\"colorbar\":{\"outlinewidth\":0,\"ticks\":\"\"}}}],\"scattermapbox\":[{\"type\":\"scattermapbox\",\"marker\":{\"colorbar\":{\"outlinewidth\":0,\"ticks\":\"\"}}}],\"scatterternary\":[{\"type\":\"scatterternary\",\"marker\":{\"colorbar\":{\"outlinewidth\":0,\"ticks\":\"\"}}}],\"scattercarpet\":[{\"type\":\"scattercarpet\",\"marker\":{\"colorbar\":{\"outlinewidth\":0,\"ticks\":\"\"}}}],\"carpet\":[{\"aaxis\":{\"endlinecolor\":\"#2a3f5f\",\"gridcolor\":\"white\",\"linecolor\":\"white\",\"minorgridcolor\":\"white\",\"startlinecolor\":\"#2a3f5f\"},\"baxis\":{\"endlinecolor\":\"#2a3f5f\",\"gridcolor\":\"white\",\"linecolor\":\"white\",\"minorgridcolor\":\"white\",\"startlinecolor\":\"#2a3f5f\"},\"type\":\"carpet\"}],\"table\":[{\"cells\":{\"fill\":{\"color\":\"#EBF0F8\"},\"line\":{\"color\":\"white\"}},\"header\":{\"fill\":{\"color\":\"#C8D4E3\"},\"line\":{\"color\":\"white\"}},\"type\":\"table\"}],\"barpolar\":[{\"marker\":{\"line\":{\"color\":\"#E5ECF6\",\"width\":0.5},\"pattern\":{\"fillmode\":\"overlay\",\"size\":10,\"solidity\":0.2}},\"type\":\"barpolar\"}],\"pie\":[{\"automargin\":true,\"type\":\"pie\"}]},\"layout\":{\"autotypenumbers\":\"strict\",\"colorway\":[\"#636efa\",\"#EF553B\",\"#00cc96\",\"#ab63fa\",\"#FFA15A\",\"#19d3f3\",\"#FF6692\",\"#B6E880\",\"#FF97FF\",\"#FECB52\"],\"font\":{\"color\":\"#2a3f5f\"},\"hovermode\":\"closest\",\"hoverlabel\":{\"align\":\"left\"},\"paper_bgcolor\":\"white\",\"plot_bgcolor\":\"#E5ECF6\",\"polar\":{\"bgcolor\":\"#E5ECF6\",\"angularaxis\":{\"gridcolor\":\"white\",\"linecolor\":\"white\",\"ticks\":\"\"},\"radialaxis\":{\"gridcolor\":\"white\",\"linecolor\":\"white\",\"ticks\":\"\"}},\"ternary\":{\"bgcolor\":\"#E5ECF6\",\"aaxis\":{\"gridcolor\":\"white\",\"linecolor\":\"white\",\"ticks\":\"\"},\"baxis\":{\"gridcolor\":\"white\",\"linecolor\":\"white\",\"ticks\":\"\"},\"caxis\":{\"gridcolor\":\"white\",\"linecolor\":\"white\",\"ticks\":\"\"}},\"coloraxis\":{\"colorbar\":{\"outlinewidth\":0,\"ticks\":\"\"}},\"colorscale\":{\"sequential\":[[0.0,\"#0d0887\"],[0.1111111111111111,\"#46039f\"],[0.2222222222222222,\"#7201a8\"],[0.3333333333333333,\"#9c179e\"],[0.4444444444444444,\"#bd3786\"],[0.5555555555555556,\"#d8576b\"],[0.6666666666666666,\"#ed7953\"],[0.7777777777777778,\"#fb9f3a\"],[0.8888888888888888,\"#fdca26\"],[1.0,\"#f0f921\"]],\"sequentialminus\":[[0.0,\"#0d0887\"],[0.1111111111111111,\"#46039f\"],[0.2222222222222222,\"#7201a8\"],[0.3333333333333333,\"#9c179e\"],[0.4444444444444444,\"#bd3786\"],[0.5555555555555556,\"#d8576b\"],[0.6666666666666666,\"#ed7953\"],[0.7777777777777778,\"#fb9f3a\"],[0.8888888888888888,\"#fdca26\"],[1.0,\"#f0f921\"]],\"diverging\":[[0,\"#8e0152\"],[0.1,\"#c51b7d\"],[0.2,\"#de77ae\"],[0.3,\"#f1b6da\"],[0.4,\"#fde0ef\"],[0.5,\"#f7f7f7\"],[0.6,\"#e6f5d0\"],[0.7,\"#b8e186\"],[0.8,\"#7fbc41\"],[0.9,\"#4d9221\"],[1,\"#276419\"]]},\"xaxis\":{\"gridcolor\":\"white\",\"linecolor\":\"white\",\"ticks\":\"\",\"title\":{\"standoff\":15},\"zerolinecolor\":\"white\",\"automargin\":true,\"zerolinewidth\":2},\"yaxis\":{\"gridcolor\":\"white\",\"linecolor\":\"white\",\"ticks\":\"\",\"title\":{\"standoff\":15},\"zerolinecolor\":\"white\",\"automargin\":true,\"zerolinewidth\":2},\"scene\":{\"xaxis\":{\"backgroundcolor\":\"#E5ECF6\",\"gridcolor\":\"white\",\"linecolor\":\"white\",\"showbackground\":true,\"ticks\":\"\",\"zerolinecolor\":\"white\",\"gridwidth\":2},\"yaxis\":{\"backgroundcolor\":\"#E5ECF6\",\"gridcolor\":\"white\",\"linecolor\":\"white\",\"showbackground\":true,\"ticks\":\"\",\"zerolinecolor\":\"white\",\"gridwidth\":2},\"zaxis\":{\"backgroundcolor\":\"#E5ECF6\",\"gridcolor\":\"white\",\"linecolor\":\"white\",\"showbackground\":true,\"ticks\":\"\",\"zerolinecolor\":\"white\",\"gridwidth\":2}},\"shapedefaults\":{\"line\":{\"color\":\"#2a3f5f\"}},\"annotationdefaults\":{\"arrowcolor\":\"#2a3f5f\",\"arrowhead\":0,\"arrowwidth\":1},\"geo\":{\"bgcolor\":\"white\",\"landcolor\":\"#E5ECF6\",\"subunitcolor\":\"white\",\"showland\":true,\"showlakes\":true,\"lakecolor\":\"white\"},\"title\":{\"x\":0.05},\"mapbox\":{\"style\":\"light\"}}},\"xaxis\":{\"anchor\":\"y\",\"domain\":[0.0,1.0],\"title\":{\"text\":\"Brand\"},\"categoryorder\":\"total descending\"},\"yaxis\":{\"anchor\":\"x\",\"domain\":[0.0,1.0],\"title\":{\"text\":\"Total Revenue ($)\"},\"type\":\"log\"},\"legend\":{\"tracegroupgap\":0},\"title\":{\"text\":\"Brand Performance Comparison\"},\"barmode\":\"relative\"},                        {\"responsive\": true}                    ).then(function(){\n",
       "                            \n",
       "var gd = document.getElementById('4eb4be0c-5ad4-4fba-a6ae-25e859a395ad');\n",
       "var x = new MutationObserver(function (mutations, observer) {{\n",
       "        var display = window.getComputedStyle(gd).display;\n",
       "        if (!display || display === 'none') {{\n",
       "            console.log([gd, 'removed!']);\n",
       "            Plotly.purge(gd);\n",
       "            observer.disconnect();\n",
       "        }}\n",
       "}});\n",
       "\n",
       "// Listen for the removal of the full notebook cells\n",
       "var notebookContainer = gd.closest('#notebook-container');\n",
       "if (notebookContainer) {{\n",
       "    x.observe(notebookContainer, {childList: true});\n",
       "}}\n",
       "\n",
       "// Listen for the clearing of the current output cell\n",
       "var outputEl = gd.closest('.output');\n",
       "if (outputEl) {{\n",
       "    x.observe(outputEl, {childList: true});\n",
       "}}\n",
       "\n",
       "                        })                };                });            </script>        </div>"
      ]
     },
     "metadata": {},
     "output_type": "display_data"
    }
   ],
   "source": [
    "# Load brand data from the Excel sheet\n",
    "brand_data = pd.read_excel('Customer_Success_Engineer_-_Project_Data.xlsx', sheet_name='Segment Brands', header=1)\n",
    "\n",
    "# Summarize total revenue by brand (assuming 'Brand' is the correct column name)\n",
    "brand_performance = brand_data.groupby('Brand')['Revenue'].sum().reset_index()\n",
    "\n",
    "# Sort the DataFrame based on revenue in descending order for better visualization\n",
    "brand_performance = brand_performance.sort_values('Revenue', ascending=False)\n",
    "\n",
    "# Create the bar chart\n",
    "fig = px.bar(brand_performance, x='Brand', y='Revenue', title='Brand Performance Comparison')\n",
    "\n",
    "# Improve the layout\n",
    "fig.update_layout(\n",
    "    xaxis_title='Brand',\n",
    "    yaxis_title='Total Revenue ($)',\n",
    "    xaxis={'categoryorder':'total descending'},  # This ensures the bars are sorted by revenue\n",
    "    yaxis=dict(type='log')  # Using a log scale for the y-axis can be helpful if there are large differences in revenue\n",
    ")\n",
    "\n",
    "# Show the figure\n",
    "fig.show()"
   ]
  },
  {
   "cell_type": "markdown",
   "id": "ead156bf",
   "metadata": {},
   "source": [
    "Unit Sales Over Time for Top Brands"
   ]
  },
  {
   "cell_type": "code",
   "execution_count": 203,
   "id": "fc70c53f",
   "metadata": {},
   "outputs": [
    {
     "data": {
      "application/vnd.plotly.v1+json": {
       "config": {
        "plotlyServerURL": "https://plot.ly"
       },
       "data": [
        {
         "hovertemplate": "Brand=Blue Buffalo<br>Week=%{x}<br>Units=%{y}<extra></extra>",
         "legendgroup": "Blue Buffalo",
         "line": {
          "color": "#636efa",
          "dash": "solid"
         },
         "marker": {
          "symbol": "circle"
         },
         "mode": "lines",
         "name": "Blue Buffalo",
         "orientation": "v",
         "showlegend": true,
         "type": "scatter",
         "x": [
          "2023-01-07T00:00:00",
          "2023-01-09T00:00:00",
          "2023-01-16T00:00:00",
          "2023-01-23T00:00:00",
          "2023-01-30T00:00:00",
          "2023-02-06T00:00:00",
          "2023-02-13T00:00:00",
          "2023-02-20T00:00:00",
          "2023-02-27T00:00:00",
          "2023-03-06T00:00:00",
          "2023-03-13T00:00:00",
          "2023-03-20T00:00:00",
          "2023-03-27T00:00:00",
          "2023-04-03T00:00:00",
          "2023-04-10T00:00:00",
          "2023-04-17T00:00:00",
          "2023-04-24T00:00:00",
          "2023-05-01T00:00:00",
          "2023-05-08T00:00:00",
          "2023-05-15T00:00:00",
          "2023-05-22T00:00:00",
          "2023-05-29T00:00:00",
          "2023-06-05T00:00:00",
          "2023-06-12T00:00:00",
          "2023-06-19T00:00:00",
          "2023-06-26T00:00:00",
          "2023-07-03T00:00:00",
          "2023-07-10T00:00:00",
          "2023-07-17T00:00:00",
          "2023-07-24T00:00:00",
          "2023-07-31T00:00:00",
          "2023-08-07T00:00:00",
          "2023-08-14T00:00:00",
          "2023-08-21T00:00:00",
          "2023-08-28T00:00:00",
          "2023-09-04T00:00:00",
          "2023-09-11T00:00:00",
          "2023-09-18T00:00:00",
          "2023-09-25T00:00:00",
          "2023-10-02T00:00:00",
          "2023-10-09T00:00:00",
          "2023-10-16T00:00:00",
          "2023-10-23T00:00:00",
          "2023-10-30T00:00:00",
          "2023-11-06T00:00:00",
          "2023-11-13T00:00:00",
          "2023-11-20T00:00:00",
          "2023-11-27T00:00:00",
          "2023-12-04T00:00:00",
          "2023-12-11T00:00:00",
          "2023-12-18T00:00:00",
          "2023-12-25T00:00:00",
          "2024-01-01T00:00:00"
         ],
         "xaxis": "x",
         "y": [
          7562.5495,
          25759.2723,
          25132.676,
          24102.731649999998,
          22154.4861,
          25358.861,
          27228.3606,
          25488.90655,
          24216.82438922818,
          22812.021116666667,
          22824.49556666667,
          12995.5981,
          25057.64025,
          22858.19875,
          21763.620016666668,
          20583.11175,
          20932.5841,
          18712.8556,
          18281.02585,
          18939.6538,
          20029.77735,
          20524.22067508717,
          21369.19615,
          23274.3832,
          23328.03615,
          21295.043550000002,
          25800.5313,
          21819.118300000002,
          20757.28685,
          20780.99405,
          21250.113250000002,
          20497.8005,
          20708.6208,
          22164.69265,
          23380.41415,
          23138.05865,
          21867.42065,
          20739.37455,
          21035.22125,
          22402.8575,
          21186.371733333333,
          22986.83725,
          23870.6946,
          21612.71636190476,
          21636.55265,
          21546.5516,
          27853.358,
          25353.589,
          24487.286849999997,
          20350.88215,
          22969.50605,
          27733.79215,
          23336.51845
         ],
         "yaxis": "y"
        },
        {
         "hovertemplate": "Brand=Friskies<br>Week=%{x}<br>Units=%{y}<extra></extra>",
         "legendgroup": "Friskies",
         "line": {
          "color": "#EF553B",
          "dash": "solid"
         },
         "marker": {
          "symbol": "circle"
         },
         "mode": "lines",
         "name": "Friskies",
         "orientation": "v",
         "showlegend": true,
         "type": "scatter",
         "x": [
          "2023-01-07T00:00:00",
          "2023-01-09T00:00:00",
          "2023-01-16T00:00:00",
          "2023-01-23T00:00:00",
          "2023-01-30T00:00:00",
          "2023-02-06T00:00:00",
          "2023-02-13T00:00:00",
          "2023-02-20T00:00:00",
          "2023-02-27T00:00:00",
          "2023-03-06T00:00:00",
          "2023-03-13T00:00:00",
          "2023-03-20T00:00:00",
          "2023-03-27T00:00:00",
          "2023-04-03T00:00:00",
          "2023-04-10T00:00:00",
          "2023-04-17T00:00:00",
          "2023-04-24T00:00:00",
          "2023-05-01T00:00:00",
          "2023-05-08T00:00:00",
          "2023-05-15T00:00:00",
          "2023-05-22T00:00:00",
          "2023-05-29T00:00:00",
          "2023-06-05T00:00:00",
          "2023-06-12T00:00:00",
          "2023-06-19T00:00:00",
          "2023-06-26T00:00:00",
          "2023-07-03T00:00:00",
          "2023-07-10T00:00:00",
          "2023-07-17T00:00:00",
          "2023-07-24T00:00:00",
          "2023-07-31T00:00:00",
          "2023-08-07T00:00:00",
          "2023-08-14T00:00:00",
          "2023-08-21T00:00:00",
          "2023-08-28T00:00:00",
          "2023-09-04T00:00:00",
          "2023-09-11T00:00:00",
          "2023-09-18T00:00:00",
          "2023-09-25T00:00:00",
          "2023-10-02T00:00:00",
          "2023-10-09T00:00:00",
          "2023-10-16T00:00:00",
          "2023-10-23T00:00:00",
          "2023-10-30T00:00:00",
          "2023-11-06T00:00:00",
          "2023-11-13T00:00:00",
          "2023-11-20T00:00:00",
          "2023-11-27T00:00:00",
          "2023-12-04T00:00:00",
          "2023-12-11T00:00:00",
          "2023-12-18T00:00:00",
          "2023-12-25T00:00:00",
          "2024-01-01T00:00:00"
         ],
         "xaxis": "x",
         "y": [
          10664.6472,
          35572.27585,
          30523.0624,
          34516.4095,
          36287.2372,
          36363.613750000004,
          36070.13805,
          37664.7611,
          35423.5801,
          29896.08775,
          26956.9279,
          19036.29875,
          34713.55315,
          36048.54575,
          32189.9097,
          33989.83775,
          35189.8069,
          33887.2964,
          31104.337600000003,
          31684.155199999997,
          30842.47005,
          32569.190450000002,
          35401.68045,
          33336.3512,
          35811.69785,
          38721.70825,
          46278.0541,
          38166.466199999995,
          35674.0656,
          37151.84025,
          41431.632981832016,
          33006.15949548258,
          31773.101749999998,
          31331.831014285715,
          34072.68445,
          29309.7617,
          24972.228300000002,
          22492.60565,
          21243.36885,
          21961.20585,
          22711.7054,
          22155.9508,
          21311.34875441533,
          20313.8522,
          20727.2756,
          29840.36415,
          28703.0644,
          25593.68425,
          24288.02605,
          21139.617416666668,
          18520.52045,
          20657.961924760846,
          18301.875119217446
         ],
         "yaxis": "y"
        },
        {
         "hovertemplate": "Brand=Iams<br>Week=%{x}<br>Units=%{y}<extra></extra>",
         "legendgroup": "Iams",
         "line": {
          "color": "#00cc96",
          "dash": "solid"
         },
         "marker": {
          "symbol": "circle"
         },
         "mode": "lines",
         "name": "Iams",
         "orientation": "v",
         "showlegend": true,
         "type": "scatter",
         "x": [
          "2023-01-07T00:00:00",
          "2023-01-09T00:00:00",
          "2023-01-16T00:00:00",
          "2023-01-23T00:00:00",
          "2023-01-30T00:00:00",
          "2023-02-06T00:00:00",
          "2023-02-13T00:00:00",
          "2023-02-20T00:00:00",
          "2023-02-27T00:00:00",
          "2023-03-06T00:00:00",
          "2023-03-13T00:00:00",
          "2023-03-20T00:00:00",
          "2023-03-27T00:00:00",
          "2023-04-03T00:00:00",
          "2023-04-10T00:00:00",
          "2023-04-17T00:00:00",
          "2023-04-24T00:00:00",
          "2023-05-01T00:00:00",
          "2023-05-08T00:00:00",
          "2023-05-15T00:00:00",
          "2023-05-22T00:00:00",
          "2023-05-29T00:00:00",
          "2023-06-05T00:00:00",
          "2023-06-12T00:00:00",
          "2023-06-19T00:00:00",
          "2023-06-26T00:00:00",
          "2023-07-03T00:00:00",
          "2023-07-10T00:00:00",
          "2023-07-17T00:00:00",
          "2023-07-24T00:00:00",
          "2023-07-31T00:00:00",
          "2023-08-07T00:00:00",
          "2023-08-14T00:00:00",
          "2023-08-21T00:00:00",
          "2023-08-28T00:00:00",
          "2023-09-04T00:00:00",
          "2023-09-11T00:00:00",
          "2023-09-18T00:00:00",
          "2023-09-25T00:00:00",
          "2023-10-02T00:00:00",
          "2023-10-09T00:00:00",
          "2023-10-16T00:00:00",
          "2023-10-23T00:00:00",
          "2023-10-30T00:00:00",
          "2023-11-06T00:00:00",
          "2023-11-13T00:00:00",
          "2023-11-20T00:00:00",
          "2023-11-27T00:00:00",
          "2023-12-04T00:00:00",
          "2023-12-11T00:00:00",
          "2023-12-18T00:00:00",
          "2023-12-25T00:00:00",
          "2024-01-01T00:00:00"
         ],
         "xaxis": "x",
         "y": [
          8387.362,
          26543.52965,
          28250.90135,
          24487.23525,
          22872.6864,
          25748.47965,
          26389.64265,
          30352.962333333333,
          29875.321503817246,
          33256.42075,
          33945.9673,
          17926.5738,
          30303.90425,
          25547.6494,
          25281.97535,
          23292.8611,
          22304.7461,
          20930.41705,
          21407.9108,
          23529.977899999998,
          21998.05225,
          21901.10419467822,
          24073.5698,
          24936.29725,
          22666.741369662057,
          24447.107654369276,
          29256.801872555203,
          25248.802559469696,
          21263.139399242424,
          22357.16115,
          24238.1328,
          25040.4581,
          19978.17538362583,
          20511.38935,
          21101.7319,
          20075.362650000003,
          20576.3662,
          21506.05135,
          21597.63687767634,
          25886.074200000003,
          23826.083,
          24651.79965,
          21332.86555,
          23477.1358,
          19359.7535,
          20098.76915,
          22174.581700000002,
          21796.1309,
          21818.60175,
          19579.519249999998,
          18250.6829,
          21594.3662,
          20601.139750000002
         ],
         "yaxis": "y"
        },
        {
         "hovertemplate": "Brand=Purina Fancy Feast<br>Week=%{x}<br>Units=%{y}<extra></extra>",
         "legendgroup": "Purina Fancy Feast",
         "line": {
          "color": "#ab63fa",
          "dash": "solid"
         },
         "marker": {
          "symbol": "circle"
         },
         "mode": "lines",
         "name": "Purina Fancy Feast",
         "orientation": "v",
         "showlegend": true,
         "type": "scatter",
         "x": [
          "2023-01-07T00:00:00",
          "2023-01-09T00:00:00",
          "2023-01-16T00:00:00",
          "2023-01-23T00:00:00",
          "2023-01-30T00:00:00",
          "2023-02-06T00:00:00",
          "2023-02-13T00:00:00",
          "2023-02-20T00:00:00",
          "2023-02-27T00:00:00",
          "2023-03-06T00:00:00",
          "2023-03-13T00:00:00",
          "2023-03-20T00:00:00",
          "2023-03-27T00:00:00",
          "2023-04-03T00:00:00",
          "2023-04-10T00:00:00",
          "2023-04-17T00:00:00",
          "2023-04-24T00:00:00",
          "2023-05-01T00:00:00",
          "2023-05-08T00:00:00",
          "2023-05-15T00:00:00",
          "2023-05-22T00:00:00",
          "2023-05-29T00:00:00",
          "2023-06-05T00:00:00",
          "2023-06-12T00:00:00",
          "2023-06-19T00:00:00",
          "2023-06-26T00:00:00",
          "2023-07-03T00:00:00",
          "2023-07-10T00:00:00",
          "2023-07-17T00:00:00",
          "2023-07-24T00:00:00",
          "2023-07-31T00:00:00",
          "2023-08-07T00:00:00",
          "2023-08-14T00:00:00",
          "2023-08-21T00:00:00",
          "2023-08-28T00:00:00",
          "2023-09-04T00:00:00",
          "2023-09-11T00:00:00",
          "2023-09-18T00:00:00",
          "2023-09-25T00:00:00",
          "2023-10-02T00:00:00",
          "2023-10-09T00:00:00",
          "2023-10-16T00:00:00",
          "2023-10-23T00:00:00",
          "2023-10-30T00:00:00",
          "2023-11-06T00:00:00",
          "2023-11-13T00:00:00",
          "2023-11-20T00:00:00",
          "2023-11-27T00:00:00",
          "2023-12-04T00:00:00",
          "2023-12-11T00:00:00",
          "2023-12-18T00:00:00",
          "2023-12-25T00:00:00",
          "2024-01-01T00:00:00"
         ],
         "xaxis": "x",
         "y": [
          4081.4543999999996,
          62078.343475,
          60779.65904583334,
          89766.57023058203,
          83507.38553,
          91817.50214286946,
          101655.84821974095,
          107525.10913593015,
          108010.93132,
          100113.17366666667,
          91527.55685833334,
          52896.248133333334,
          92902.63656666667,
          103757.2338,
          102755.87094392993,
          88594.77895379237,
          92831.842725,
          84002.01225223615,
          84325.98878946969,
          80931.77869166667,
          78804.86251666666,
          84167.11933322981,
          92065.004125,
          91969.228325,
          99294.69665,
          107929.77553333333,
          130601.56151666667,
          101577.735875,
          89138.2863125,
          92560.52643126424,
          107624.32666779535,
          91204.23284530104,
          72535.82533319817,
          68660.56955476191,
          79445.16226964285,
          78918.459275,
          83042.83976518584,
          72088.7587541555,
          80598.20248191427,
          89240.88548641911,
          102365.00287970925,
          104404.18585201069,
          107899.70014556788,
          102384.31958521626,
          76186.50153775481,
          86646.62723194675,
          87205.083925,
          80292.89495,
          89414.39740833333,
          82206.74489448614,
          67976.24075,
          81416.12746877718,
          74719.29444785089
         ],
         "yaxis": "y"
        },
        {
         "hovertemplate": "Brand=Purina One<br>Week=%{x}<br>Units=%{y}<extra></extra>",
         "legendgroup": "Purina One",
         "line": {
          "color": "#FFA15A",
          "dash": "solid"
         },
         "marker": {
          "symbol": "circle"
         },
         "mode": "lines",
         "name": "Purina One",
         "orientation": "v",
         "showlegend": true,
         "type": "scatter",
         "x": [
          "2023-01-07T00:00:00",
          "2023-01-09T00:00:00",
          "2023-01-16T00:00:00",
          "2023-01-23T00:00:00",
          "2023-01-30T00:00:00",
          "2023-02-06T00:00:00",
          "2023-02-13T00:00:00",
          "2023-02-20T00:00:00",
          "2023-02-27T00:00:00",
          "2023-03-06T00:00:00",
          "2023-03-13T00:00:00",
          "2023-03-20T00:00:00",
          "2023-03-27T00:00:00",
          "2023-04-03T00:00:00",
          "2023-04-10T00:00:00",
          "2023-04-17T00:00:00",
          "2023-04-24T00:00:00",
          "2023-05-01T00:00:00",
          "2023-05-08T00:00:00",
          "2023-05-15T00:00:00",
          "2023-05-22T00:00:00",
          "2023-05-29T00:00:00",
          "2023-06-05T00:00:00",
          "2023-06-12T00:00:00",
          "2023-06-19T00:00:00",
          "2023-06-26T00:00:00",
          "2023-07-03T00:00:00",
          "2023-07-10T00:00:00",
          "2023-07-17T00:00:00",
          "2023-07-24T00:00:00",
          "2023-07-31T00:00:00",
          "2023-08-07T00:00:00",
          "2023-08-14T00:00:00",
          "2023-08-21T00:00:00",
          "2023-08-28T00:00:00",
          "2023-09-04T00:00:00",
          "2023-09-11T00:00:00",
          "2023-09-18T00:00:00",
          "2023-09-25T00:00:00",
          "2023-10-02T00:00:00",
          "2023-10-09T00:00:00",
          "2023-10-16T00:00:00",
          "2023-10-23T00:00:00",
          "2023-10-30T00:00:00",
          "2023-11-06T00:00:00",
          "2023-11-13T00:00:00",
          "2023-11-20T00:00:00",
          "2023-11-27T00:00:00",
          "2023-12-04T00:00:00",
          "2023-12-11T00:00:00",
          "2023-12-18T00:00:00",
          "2023-12-25T00:00:00",
          "2024-01-01T00:00:00"
         ],
         "xaxis": "x",
         "y": [
          7691.58175,
          26906.89935,
          27575.2391,
          33956.13895,
          31181.9289,
          28726.1364,
          24303.331149999998,
          26257.45285,
          31129.249516666667,
          20930.65055,
          22073.00535,
          11741.84835,
          23854.655700000003,
          27329.86725,
          24283.53965,
          22419.61005,
          24648.74195,
          25692.0108,
          23348.12665,
          20346.408649999998,
          20266.6069,
          21119.4036,
          21951.49425,
          22753.421199999997,
          25393.11565,
          28045.19325,
          33710.71695,
          26228.6788,
          24721.4107,
          24850.478,
          28206.4601,
          24474.031349999997,
          25209.29305,
          21614.3598,
          21437.61315,
          21312.882400000002,
          21376.40495,
          21405.941,
          22084.69965,
          25425.742749999998,
          24692.5352,
          24871.6747,
          24601.9995,
          27250.36015,
          23441.72119814716,
          23008.37945,
          26469.744,
          25562.08535,
          25148.1899,
          22673.496100000004,
          19947.278599999998,
          23083.72975,
          20546.1339
         ],
         "yaxis": "y"
        }
       ],
       "layout": {
        "legend": {
         "title": {
          "text": "Brand"
         },
         "tracegroupgap": 0
        },
        "template": {
         "data": {
          "bar": [
           {
            "error_x": {
             "color": "#2a3f5f"
            },
            "error_y": {
             "color": "#2a3f5f"
            },
            "marker": {
             "line": {
              "color": "#E5ECF6",
              "width": 0.5
             },
             "pattern": {
              "fillmode": "overlay",
              "size": 10,
              "solidity": 0.2
             }
            },
            "type": "bar"
           }
          ],
          "barpolar": [
           {
            "marker": {
             "line": {
              "color": "#E5ECF6",
              "width": 0.5
             },
             "pattern": {
              "fillmode": "overlay",
              "size": 10,
              "solidity": 0.2
             }
            },
            "type": "barpolar"
           }
          ],
          "carpet": [
           {
            "aaxis": {
             "endlinecolor": "#2a3f5f",
             "gridcolor": "white",
             "linecolor": "white",
             "minorgridcolor": "white",
             "startlinecolor": "#2a3f5f"
            },
            "baxis": {
             "endlinecolor": "#2a3f5f",
             "gridcolor": "white",
             "linecolor": "white",
             "minorgridcolor": "white",
             "startlinecolor": "#2a3f5f"
            },
            "type": "carpet"
           }
          ],
          "choropleth": [
           {
            "colorbar": {
             "outlinewidth": 0,
             "ticks": ""
            },
            "type": "choropleth"
           }
          ],
          "contour": [
           {
            "colorbar": {
             "outlinewidth": 0,
             "ticks": ""
            },
            "colorscale": [
             [
              0,
              "#0d0887"
             ],
             [
              0.1111111111111111,
              "#46039f"
             ],
             [
              0.2222222222222222,
              "#7201a8"
             ],
             [
              0.3333333333333333,
              "#9c179e"
             ],
             [
              0.4444444444444444,
              "#bd3786"
             ],
             [
              0.5555555555555556,
              "#d8576b"
             ],
             [
              0.6666666666666666,
              "#ed7953"
             ],
             [
              0.7777777777777778,
              "#fb9f3a"
             ],
             [
              0.8888888888888888,
              "#fdca26"
             ],
             [
              1,
              "#f0f921"
             ]
            ],
            "type": "contour"
           }
          ],
          "contourcarpet": [
           {
            "colorbar": {
             "outlinewidth": 0,
             "ticks": ""
            },
            "type": "contourcarpet"
           }
          ],
          "heatmap": [
           {
            "colorbar": {
             "outlinewidth": 0,
             "ticks": ""
            },
            "colorscale": [
             [
              0,
              "#0d0887"
             ],
             [
              0.1111111111111111,
              "#46039f"
             ],
             [
              0.2222222222222222,
              "#7201a8"
             ],
             [
              0.3333333333333333,
              "#9c179e"
             ],
             [
              0.4444444444444444,
              "#bd3786"
             ],
             [
              0.5555555555555556,
              "#d8576b"
             ],
             [
              0.6666666666666666,
              "#ed7953"
             ],
             [
              0.7777777777777778,
              "#fb9f3a"
             ],
             [
              0.8888888888888888,
              "#fdca26"
             ],
             [
              1,
              "#f0f921"
             ]
            ],
            "type": "heatmap"
           }
          ],
          "heatmapgl": [
           {
            "colorbar": {
             "outlinewidth": 0,
             "ticks": ""
            },
            "colorscale": [
             [
              0,
              "#0d0887"
             ],
             [
              0.1111111111111111,
              "#46039f"
             ],
             [
              0.2222222222222222,
              "#7201a8"
             ],
             [
              0.3333333333333333,
              "#9c179e"
             ],
             [
              0.4444444444444444,
              "#bd3786"
             ],
             [
              0.5555555555555556,
              "#d8576b"
             ],
             [
              0.6666666666666666,
              "#ed7953"
             ],
             [
              0.7777777777777778,
              "#fb9f3a"
             ],
             [
              0.8888888888888888,
              "#fdca26"
             ],
             [
              1,
              "#f0f921"
             ]
            ],
            "type": "heatmapgl"
           }
          ],
          "histogram": [
           {
            "marker": {
             "pattern": {
              "fillmode": "overlay",
              "size": 10,
              "solidity": 0.2
             }
            },
            "type": "histogram"
           }
          ],
          "histogram2d": [
           {
            "colorbar": {
             "outlinewidth": 0,
             "ticks": ""
            },
            "colorscale": [
             [
              0,
              "#0d0887"
             ],
             [
              0.1111111111111111,
              "#46039f"
             ],
             [
              0.2222222222222222,
              "#7201a8"
             ],
             [
              0.3333333333333333,
              "#9c179e"
             ],
             [
              0.4444444444444444,
              "#bd3786"
             ],
             [
              0.5555555555555556,
              "#d8576b"
             ],
             [
              0.6666666666666666,
              "#ed7953"
             ],
             [
              0.7777777777777778,
              "#fb9f3a"
             ],
             [
              0.8888888888888888,
              "#fdca26"
             ],
             [
              1,
              "#f0f921"
             ]
            ],
            "type": "histogram2d"
           }
          ],
          "histogram2dcontour": [
           {
            "colorbar": {
             "outlinewidth": 0,
             "ticks": ""
            },
            "colorscale": [
             [
              0,
              "#0d0887"
             ],
             [
              0.1111111111111111,
              "#46039f"
             ],
             [
              0.2222222222222222,
              "#7201a8"
             ],
             [
              0.3333333333333333,
              "#9c179e"
             ],
             [
              0.4444444444444444,
              "#bd3786"
             ],
             [
              0.5555555555555556,
              "#d8576b"
             ],
             [
              0.6666666666666666,
              "#ed7953"
             ],
             [
              0.7777777777777778,
              "#fb9f3a"
             ],
             [
              0.8888888888888888,
              "#fdca26"
             ],
             [
              1,
              "#f0f921"
             ]
            ],
            "type": "histogram2dcontour"
           }
          ],
          "mesh3d": [
           {
            "colorbar": {
             "outlinewidth": 0,
             "ticks": ""
            },
            "type": "mesh3d"
           }
          ],
          "parcoords": [
           {
            "line": {
             "colorbar": {
              "outlinewidth": 0,
              "ticks": ""
             }
            },
            "type": "parcoords"
           }
          ],
          "pie": [
           {
            "automargin": true,
            "type": "pie"
           }
          ],
          "scatter": [
           {
            "fillpattern": {
             "fillmode": "overlay",
             "size": 10,
             "solidity": 0.2
            },
            "type": "scatter"
           }
          ],
          "scatter3d": [
           {
            "line": {
             "colorbar": {
              "outlinewidth": 0,
              "ticks": ""
             }
            },
            "marker": {
             "colorbar": {
              "outlinewidth": 0,
              "ticks": ""
             }
            },
            "type": "scatter3d"
           }
          ],
          "scattercarpet": [
           {
            "marker": {
             "colorbar": {
              "outlinewidth": 0,
              "ticks": ""
             }
            },
            "type": "scattercarpet"
           }
          ],
          "scattergeo": [
           {
            "marker": {
             "colorbar": {
              "outlinewidth": 0,
              "ticks": ""
             }
            },
            "type": "scattergeo"
           }
          ],
          "scattergl": [
           {
            "marker": {
             "colorbar": {
              "outlinewidth": 0,
              "ticks": ""
             }
            },
            "type": "scattergl"
           }
          ],
          "scattermapbox": [
           {
            "marker": {
             "colorbar": {
              "outlinewidth": 0,
              "ticks": ""
             }
            },
            "type": "scattermapbox"
           }
          ],
          "scatterpolar": [
           {
            "marker": {
             "colorbar": {
              "outlinewidth": 0,
              "ticks": ""
             }
            },
            "type": "scatterpolar"
           }
          ],
          "scatterpolargl": [
           {
            "marker": {
             "colorbar": {
              "outlinewidth": 0,
              "ticks": ""
             }
            },
            "type": "scatterpolargl"
           }
          ],
          "scatterternary": [
           {
            "marker": {
             "colorbar": {
              "outlinewidth": 0,
              "ticks": ""
             }
            },
            "type": "scatterternary"
           }
          ],
          "surface": [
           {
            "colorbar": {
             "outlinewidth": 0,
             "ticks": ""
            },
            "colorscale": [
             [
              0,
              "#0d0887"
             ],
             [
              0.1111111111111111,
              "#46039f"
             ],
             [
              0.2222222222222222,
              "#7201a8"
             ],
             [
              0.3333333333333333,
              "#9c179e"
             ],
             [
              0.4444444444444444,
              "#bd3786"
             ],
             [
              0.5555555555555556,
              "#d8576b"
             ],
             [
              0.6666666666666666,
              "#ed7953"
             ],
             [
              0.7777777777777778,
              "#fb9f3a"
             ],
             [
              0.8888888888888888,
              "#fdca26"
             ],
             [
              1,
              "#f0f921"
             ]
            ],
            "type": "surface"
           }
          ],
          "table": [
           {
            "cells": {
             "fill": {
              "color": "#EBF0F8"
             },
             "line": {
              "color": "white"
             }
            },
            "header": {
             "fill": {
              "color": "#C8D4E3"
             },
             "line": {
              "color": "white"
             }
            },
            "type": "table"
           }
          ]
         },
         "layout": {
          "annotationdefaults": {
           "arrowcolor": "#2a3f5f",
           "arrowhead": 0,
           "arrowwidth": 1
          },
          "autotypenumbers": "strict",
          "coloraxis": {
           "colorbar": {
            "outlinewidth": 0,
            "ticks": ""
           }
          },
          "colorscale": {
           "diverging": [
            [
             0,
             "#8e0152"
            ],
            [
             0.1,
             "#c51b7d"
            ],
            [
             0.2,
             "#de77ae"
            ],
            [
             0.3,
             "#f1b6da"
            ],
            [
             0.4,
             "#fde0ef"
            ],
            [
             0.5,
             "#f7f7f7"
            ],
            [
             0.6,
             "#e6f5d0"
            ],
            [
             0.7,
             "#b8e186"
            ],
            [
             0.8,
             "#7fbc41"
            ],
            [
             0.9,
             "#4d9221"
            ],
            [
             1,
             "#276419"
            ]
           ],
           "sequential": [
            [
             0,
             "#0d0887"
            ],
            [
             0.1111111111111111,
             "#46039f"
            ],
            [
             0.2222222222222222,
             "#7201a8"
            ],
            [
             0.3333333333333333,
             "#9c179e"
            ],
            [
             0.4444444444444444,
             "#bd3786"
            ],
            [
             0.5555555555555556,
             "#d8576b"
            ],
            [
             0.6666666666666666,
             "#ed7953"
            ],
            [
             0.7777777777777778,
             "#fb9f3a"
            ],
            [
             0.8888888888888888,
             "#fdca26"
            ],
            [
             1,
             "#f0f921"
            ]
           ],
           "sequentialminus": [
            [
             0,
             "#0d0887"
            ],
            [
             0.1111111111111111,
             "#46039f"
            ],
            [
             0.2222222222222222,
             "#7201a8"
            ],
            [
             0.3333333333333333,
             "#9c179e"
            ],
            [
             0.4444444444444444,
             "#bd3786"
            ],
            [
             0.5555555555555556,
             "#d8576b"
            ],
            [
             0.6666666666666666,
             "#ed7953"
            ],
            [
             0.7777777777777778,
             "#fb9f3a"
            ],
            [
             0.8888888888888888,
             "#fdca26"
            ],
            [
             1,
             "#f0f921"
            ]
           ]
          },
          "colorway": [
           "#636efa",
           "#EF553B",
           "#00cc96",
           "#ab63fa",
           "#FFA15A",
           "#19d3f3",
           "#FF6692",
           "#B6E880",
           "#FF97FF",
           "#FECB52"
          ],
          "font": {
           "color": "#2a3f5f"
          },
          "geo": {
           "bgcolor": "white",
           "lakecolor": "white",
           "landcolor": "#E5ECF6",
           "showlakes": true,
           "showland": true,
           "subunitcolor": "white"
          },
          "hoverlabel": {
           "align": "left"
          },
          "hovermode": "closest",
          "mapbox": {
           "style": "light"
          },
          "paper_bgcolor": "white",
          "plot_bgcolor": "#E5ECF6",
          "polar": {
           "angularaxis": {
            "gridcolor": "white",
            "linecolor": "white",
            "ticks": ""
           },
           "bgcolor": "#E5ECF6",
           "radialaxis": {
            "gridcolor": "white",
            "linecolor": "white",
            "ticks": ""
           }
          },
          "scene": {
           "xaxis": {
            "backgroundcolor": "#E5ECF6",
            "gridcolor": "white",
            "gridwidth": 2,
            "linecolor": "white",
            "showbackground": true,
            "ticks": "",
            "zerolinecolor": "white"
           },
           "yaxis": {
            "backgroundcolor": "#E5ECF6",
            "gridcolor": "white",
            "gridwidth": 2,
            "linecolor": "white",
            "showbackground": true,
            "ticks": "",
            "zerolinecolor": "white"
           },
           "zaxis": {
            "backgroundcolor": "#E5ECF6",
            "gridcolor": "white",
            "gridwidth": 2,
            "linecolor": "white",
            "showbackground": true,
            "ticks": "",
            "zerolinecolor": "white"
           }
          },
          "shapedefaults": {
           "line": {
            "color": "#2a3f5f"
           }
          },
          "ternary": {
           "aaxis": {
            "gridcolor": "white",
            "linecolor": "white",
            "ticks": ""
           },
           "baxis": {
            "gridcolor": "white",
            "linecolor": "white",
            "ticks": ""
           },
           "bgcolor": "#E5ECF6",
           "caxis": {
            "gridcolor": "white",
            "linecolor": "white",
            "ticks": ""
           }
          },
          "title": {
           "x": 0.05
          },
          "xaxis": {
           "automargin": true,
           "gridcolor": "white",
           "linecolor": "white",
           "ticks": "",
           "title": {
            "standoff": 15
           },
           "zerolinecolor": "white",
           "zerolinewidth": 2
          },
          "yaxis": {
           "automargin": true,
           "gridcolor": "white",
           "linecolor": "white",
           "ticks": "",
           "title": {
            "standoff": 15
           },
           "zerolinecolor": "white",
           "zerolinewidth": 2
          }
         }
        },
        "title": {
         "text": "Unit Sales Over Time for Top Brands"
        },
        "xaxis": {
         "anchor": "y",
         "domain": [
          0,
          1
         ],
         "title": {
          "text": "Date"
         }
        },
        "yaxis": {
         "anchor": "x",
         "domain": [
          0,
          1
         ],
         "title": {
          "text": "Unit Sales"
         }
        }
       }
      },
      "text/html": [
       "<div>                            <div id=\"fccf2a0e-0428-4100-9b5b-ac947da19919\" class=\"plotly-graph-div\" style=\"height:525px; width:100%;\"></div>            <script type=\"text/javascript\">                require([\"plotly\"], function(Plotly) {                    window.PLOTLYENV=window.PLOTLYENV || {};                                    if (document.getElementById(\"fccf2a0e-0428-4100-9b5b-ac947da19919\")) {                    Plotly.newPlot(                        \"fccf2a0e-0428-4100-9b5b-ac947da19919\",                        [{\"hovertemplate\":\"Brand=Blue Buffalo\\u003cbr\\u003eWeek=%{x}\\u003cbr\\u003eUnits=%{y}\\u003cextra\\u003e\\u003c\\u002fextra\\u003e\",\"legendgroup\":\"Blue Buffalo\",\"line\":{\"color\":\"#636efa\",\"dash\":\"solid\"},\"marker\":{\"symbol\":\"circle\"},\"mode\":\"lines\",\"name\":\"Blue Buffalo\",\"orientation\":\"v\",\"showlegend\":true,\"x\":[\"2023-01-07T00:00:00\",\"2023-01-09T00:00:00\",\"2023-01-16T00:00:00\",\"2023-01-23T00:00:00\",\"2023-01-30T00:00:00\",\"2023-02-06T00:00:00\",\"2023-02-13T00:00:00\",\"2023-02-20T00:00:00\",\"2023-02-27T00:00:00\",\"2023-03-06T00:00:00\",\"2023-03-13T00:00:00\",\"2023-03-20T00:00:00\",\"2023-03-27T00:00:00\",\"2023-04-03T00:00:00\",\"2023-04-10T00:00:00\",\"2023-04-17T00:00:00\",\"2023-04-24T00:00:00\",\"2023-05-01T00:00:00\",\"2023-05-08T00:00:00\",\"2023-05-15T00:00:00\",\"2023-05-22T00:00:00\",\"2023-05-29T00:00:00\",\"2023-06-05T00:00:00\",\"2023-06-12T00:00:00\",\"2023-06-19T00:00:00\",\"2023-06-26T00:00:00\",\"2023-07-03T00:00:00\",\"2023-07-10T00:00:00\",\"2023-07-17T00:00:00\",\"2023-07-24T00:00:00\",\"2023-07-31T00:00:00\",\"2023-08-07T00:00:00\",\"2023-08-14T00:00:00\",\"2023-08-21T00:00:00\",\"2023-08-28T00:00:00\",\"2023-09-04T00:00:00\",\"2023-09-11T00:00:00\",\"2023-09-18T00:00:00\",\"2023-09-25T00:00:00\",\"2023-10-02T00:00:00\",\"2023-10-09T00:00:00\",\"2023-10-16T00:00:00\",\"2023-10-23T00:00:00\",\"2023-10-30T00:00:00\",\"2023-11-06T00:00:00\",\"2023-11-13T00:00:00\",\"2023-11-20T00:00:00\",\"2023-11-27T00:00:00\",\"2023-12-04T00:00:00\",\"2023-12-11T00:00:00\",\"2023-12-18T00:00:00\",\"2023-12-25T00:00:00\",\"2024-01-01T00:00:00\"],\"xaxis\":\"x\",\"y\":[7562.5495,25759.2723,25132.676,24102.731649999998,22154.4861,25358.861,27228.3606,25488.90655,24216.82438922818,22812.021116666667,22824.49556666667,12995.5981,25057.64025,22858.19875,21763.620016666668,20583.11175,20932.5841,18712.8556,18281.02585,18939.6538,20029.77735,20524.22067508717,21369.19615,23274.3832,23328.03615,21295.043550000002,25800.5313,21819.118300000002,20757.28685,20780.99405,21250.113250000002,20497.8005,20708.6208,22164.69265,23380.41415,23138.05865,21867.42065,20739.37455,21035.22125,22402.8575,21186.371733333333,22986.83725,23870.6946,21612.71636190476,21636.55265,21546.5516,27853.358,25353.589,24487.286849999997,20350.88215,22969.50605,27733.79215,23336.51845],\"yaxis\":\"y\",\"type\":\"scatter\"},{\"hovertemplate\":\"Brand=Friskies\\u003cbr\\u003eWeek=%{x}\\u003cbr\\u003eUnits=%{y}\\u003cextra\\u003e\\u003c\\u002fextra\\u003e\",\"legendgroup\":\"Friskies\",\"line\":{\"color\":\"#EF553B\",\"dash\":\"solid\"},\"marker\":{\"symbol\":\"circle\"},\"mode\":\"lines\",\"name\":\"Friskies\",\"orientation\":\"v\",\"showlegend\":true,\"x\":[\"2023-01-07T00:00:00\",\"2023-01-09T00:00:00\",\"2023-01-16T00:00:00\",\"2023-01-23T00:00:00\",\"2023-01-30T00:00:00\",\"2023-02-06T00:00:00\",\"2023-02-13T00:00:00\",\"2023-02-20T00:00:00\",\"2023-02-27T00:00:00\",\"2023-03-06T00:00:00\",\"2023-03-13T00:00:00\",\"2023-03-20T00:00:00\",\"2023-03-27T00:00:00\",\"2023-04-03T00:00:00\",\"2023-04-10T00:00:00\",\"2023-04-17T00:00:00\",\"2023-04-24T00:00:00\",\"2023-05-01T00:00:00\",\"2023-05-08T00:00:00\",\"2023-05-15T00:00:00\",\"2023-05-22T00:00:00\",\"2023-05-29T00:00:00\",\"2023-06-05T00:00:00\",\"2023-06-12T00:00:00\",\"2023-06-19T00:00:00\",\"2023-06-26T00:00:00\",\"2023-07-03T00:00:00\",\"2023-07-10T00:00:00\",\"2023-07-17T00:00:00\",\"2023-07-24T00:00:00\",\"2023-07-31T00:00:00\",\"2023-08-07T00:00:00\",\"2023-08-14T00:00:00\",\"2023-08-21T00:00:00\",\"2023-08-28T00:00:00\",\"2023-09-04T00:00:00\",\"2023-09-11T00:00:00\",\"2023-09-18T00:00:00\",\"2023-09-25T00:00:00\",\"2023-10-02T00:00:00\",\"2023-10-09T00:00:00\",\"2023-10-16T00:00:00\",\"2023-10-23T00:00:00\",\"2023-10-30T00:00:00\",\"2023-11-06T00:00:00\",\"2023-11-13T00:00:00\",\"2023-11-20T00:00:00\",\"2023-11-27T00:00:00\",\"2023-12-04T00:00:00\",\"2023-12-11T00:00:00\",\"2023-12-18T00:00:00\",\"2023-12-25T00:00:00\",\"2024-01-01T00:00:00\"],\"xaxis\":\"x\",\"y\":[10664.6472,35572.27585,30523.0624,34516.4095,36287.2372,36363.613750000004,36070.13805,37664.7611,35423.5801,29896.08775,26956.9279,19036.29875,34713.55315,36048.54575,32189.9097,33989.83775,35189.8069,33887.2964,31104.337600000003,31684.155199999997,30842.47005,32569.190450000002,35401.68045,33336.3512,35811.69785,38721.70825,46278.0541,38166.466199999995,35674.0656,37151.84025,41431.632981832016,33006.15949548258,31773.101749999998,31331.831014285715,34072.68445,29309.7617,24972.228300000002,22492.60565,21243.36885,21961.20585,22711.7054,22155.9508,21311.34875441533,20313.8522,20727.2756,29840.36415,28703.0644,25593.68425,24288.02605,21139.617416666668,18520.52045,20657.961924760846,18301.875119217446],\"yaxis\":\"y\",\"type\":\"scatter\"},{\"hovertemplate\":\"Brand=Iams\\u003cbr\\u003eWeek=%{x}\\u003cbr\\u003eUnits=%{y}\\u003cextra\\u003e\\u003c\\u002fextra\\u003e\",\"legendgroup\":\"Iams\",\"line\":{\"color\":\"#00cc96\",\"dash\":\"solid\"},\"marker\":{\"symbol\":\"circle\"},\"mode\":\"lines\",\"name\":\"Iams\",\"orientation\":\"v\",\"showlegend\":true,\"x\":[\"2023-01-07T00:00:00\",\"2023-01-09T00:00:00\",\"2023-01-16T00:00:00\",\"2023-01-23T00:00:00\",\"2023-01-30T00:00:00\",\"2023-02-06T00:00:00\",\"2023-02-13T00:00:00\",\"2023-02-20T00:00:00\",\"2023-02-27T00:00:00\",\"2023-03-06T00:00:00\",\"2023-03-13T00:00:00\",\"2023-03-20T00:00:00\",\"2023-03-27T00:00:00\",\"2023-04-03T00:00:00\",\"2023-04-10T00:00:00\",\"2023-04-17T00:00:00\",\"2023-04-24T00:00:00\",\"2023-05-01T00:00:00\",\"2023-05-08T00:00:00\",\"2023-05-15T00:00:00\",\"2023-05-22T00:00:00\",\"2023-05-29T00:00:00\",\"2023-06-05T00:00:00\",\"2023-06-12T00:00:00\",\"2023-06-19T00:00:00\",\"2023-06-26T00:00:00\",\"2023-07-03T00:00:00\",\"2023-07-10T00:00:00\",\"2023-07-17T00:00:00\",\"2023-07-24T00:00:00\",\"2023-07-31T00:00:00\",\"2023-08-07T00:00:00\",\"2023-08-14T00:00:00\",\"2023-08-21T00:00:00\",\"2023-08-28T00:00:00\",\"2023-09-04T00:00:00\",\"2023-09-11T00:00:00\",\"2023-09-18T00:00:00\",\"2023-09-25T00:00:00\",\"2023-10-02T00:00:00\",\"2023-10-09T00:00:00\",\"2023-10-16T00:00:00\",\"2023-10-23T00:00:00\",\"2023-10-30T00:00:00\",\"2023-11-06T00:00:00\",\"2023-11-13T00:00:00\",\"2023-11-20T00:00:00\",\"2023-11-27T00:00:00\",\"2023-12-04T00:00:00\",\"2023-12-11T00:00:00\",\"2023-12-18T00:00:00\",\"2023-12-25T00:00:00\",\"2024-01-01T00:00:00\"],\"xaxis\":\"x\",\"y\":[8387.362,26543.52965,28250.90135,24487.23525,22872.6864,25748.47965,26389.64265,30352.962333333333,29875.321503817246,33256.42075,33945.9673,17926.5738,30303.90425,25547.6494,25281.97535,23292.8611,22304.7461,20930.41705,21407.9108,23529.977899999998,21998.05225,21901.10419467822,24073.5698,24936.29725,22666.741369662057,24447.107654369276,29256.801872555203,25248.802559469696,21263.139399242424,22357.16115,24238.1328,25040.4581,19978.17538362583,20511.38935,21101.7319,20075.362650000003,20576.3662,21506.05135,21597.63687767634,25886.074200000003,23826.083,24651.79965,21332.86555,23477.1358,19359.7535,20098.76915,22174.581700000002,21796.1309,21818.60175,19579.519249999998,18250.6829,21594.3662,20601.139750000002],\"yaxis\":\"y\",\"type\":\"scatter\"},{\"hovertemplate\":\"Brand=Purina Fancy Feast\\u003cbr\\u003eWeek=%{x}\\u003cbr\\u003eUnits=%{y}\\u003cextra\\u003e\\u003c\\u002fextra\\u003e\",\"legendgroup\":\"Purina Fancy Feast\",\"line\":{\"color\":\"#ab63fa\",\"dash\":\"solid\"},\"marker\":{\"symbol\":\"circle\"},\"mode\":\"lines\",\"name\":\"Purina Fancy Feast\",\"orientation\":\"v\",\"showlegend\":true,\"x\":[\"2023-01-07T00:00:00\",\"2023-01-09T00:00:00\",\"2023-01-16T00:00:00\",\"2023-01-23T00:00:00\",\"2023-01-30T00:00:00\",\"2023-02-06T00:00:00\",\"2023-02-13T00:00:00\",\"2023-02-20T00:00:00\",\"2023-02-27T00:00:00\",\"2023-03-06T00:00:00\",\"2023-03-13T00:00:00\",\"2023-03-20T00:00:00\",\"2023-03-27T00:00:00\",\"2023-04-03T00:00:00\",\"2023-04-10T00:00:00\",\"2023-04-17T00:00:00\",\"2023-04-24T00:00:00\",\"2023-05-01T00:00:00\",\"2023-05-08T00:00:00\",\"2023-05-15T00:00:00\",\"2023-05-22T00:00:00\",\"2023-05-29T00:00:00\",\"2023-06-05T00:00:00\",\"2023-06-12T00:00:00\",\"2023-06-19T00:00:00\",\"2023-06-26T00:00:00\",\"2023-07-03T00:00:00\",\"2023-07-10T00:00:00\",\"2023-07-17T00:00:00\",\"2023-07-24T00:00:00\",\"2023-07-31T00:00:00\",\"2023-08-07T00:00:00\",\"2023-08-14T00:00:00\",\"2023-08-21T00:00:00\",\"2023-08-28T00:00:00\",\"2023-09-04T00:00:00\",\"2023-09-11T00:00:00\",\"2023-09-18T00:00:00\",\"2023-09-25T00:00:00\",\"2023-10-02T00:00:00\",\"2023-10-09T00:00:00\",\"2023-10-16T00:00:00\",\"2023-10-23T00:00:00\",\"2023-10-30T00:00:00\",\"2023-11-06T00:00:00\",\"2023-11-13T00:00:00\",\"2023-11-20T00:00:00\",\"2023-11-27T00:00:00\",\"2023-12-04T00:00:00\",\"2023-12-11T00:00:00\",\"2023-12-18T00:00:00\",\"2023-12-25T00:00:00\",\"2024-01-01T00:00:00\"],\"xaxis\":\"x\",\"y\":[4081.4543999999996,62078.343475,60779.65904583334,89766.57023058203,83507.38553,91817.50214286946,101655.84821974095,107525.10913593015,108010.93132,100113.17366666667,91527.55685833334,52896.248133333334,92902.63656666667,103757.2338,102755.87094392993,88594.77895379237,92831.842725,84002.01225223615,84325.98878946969,80931.77869166667,78804.86251666666,84167.11933322981,92065.004125,91969.228325,99294.69665,107929.77553333333,130601.56151666667,101577.735875,89138.2863125,92560.52643126424,107624.32666779535,91204.23284530104,72535.82533319817,68660.56955476191,79445.16226964285,78918.459275,83042.83976518584,72088.7587541555,80598.20248191427,89240.88548641911,102365.00287970925,104404.18585201069,107899.70014556788,102384.31958521626,76186.50153775481,86646.62723194675,87205.083925,80292.89495,89414.39740833333,82206.74489448614,67976.24075,81416.12746877718,74719.29444785089],\"yaxis\":\"y\",\"type\":\"scatter\"},{\"hovertemplate\":\"Brand=Purina One\\u003cbr\\u003eWeek=%{x}\\u003cbr\\u003eUnits=%{y}\\u003cextra\\u003e\\u003c\\u002fextra\\u003e\",\"legendgroup\":\"Purina One\",\"line\":{\"color\":\"#FFA15A\",\"dash\":\"solid\"},\"marker\":{\"symbol\":\"circle\"},\"mode\":\"lines\",\"name\":\"Purina One\",\"orientation\":\"v\",\"showlegend\":true,\"x\":[\"2023-01-07T00:00:00\",\"2023-01-09T00:00:00\",\"2023-01-16T00:00:00\",\"2023-01-23T00:00:00\",\"2023-01-30T00:00:00\",\"2023-02-06T00:00:00\",\"2023-02-13T00:00:00\",\"2023-02-20T00:00:00\",\"2023-02-27T00:00:00\",\"2023-03-06T00:00:00\",\"2023-03-13T00:00:00\",\"2023-03-20T00:00:00\",\"2023-03-27T00:00:00\",\"2023-04-03T00:00:00\",\"2023-04-10T00:00:00\",\"2023-04-17T00:00:00\",\"2023-04-24T00:00:00\",\"2023-05-01T00:00:00\",\"2023-05-08T00:00:00\",\"2023-05-15T00:00:00\",\"2023-05-22T00:00:00\",\"2023-05-29T00:00:00\",\"2023-06-05T00:00:00\",\"2023-06-12T00:00:00\",\"2023-06-19T00:00:00\",\"2023-06-26T00:00:00\",\"2023-07-03T00:00:00\",\"2023-07-10T00:00:00\",\"2023-07-17T00:00:00\",\"2023-07-24T00:00:00\",\"2023-07-31T00:00:00\",\"2023-08-07T00:00:00\",\"2023-08-14T00:00:00\",\"2023-08-21T00:00:00\",\"2023-08-28T00:00:00\",\"2023-09-04T00:00:00\",\"2023-09-11T00:00:00\",\"2023-09-18T00:00:00\",\"2023-09-25T00:00:00\",\"2023-10-02T00:00:00\",\"2023-10-09T00:00:00\",\"2023-10-16T00:00:00\",\"2023-10-23T00:00:00\",\"2023-10-30T00:00:00\",\"2023-11-06T00:00:00\",\"2023-11-13T00:00:00\",\"2023-11-20T00:00:00\",\"2023-11-27T00:00:00\",\"2023-12-04T00:00:00\",\"2023-12-11T00:00:00\",\"2023-12-18T00:00:00\",\"2023-12-25T00:00:00\",\"2024-01-01T00:00:00\"],\"xaxis\":\"x\",\"y\":[7691.58175,26906.89935,27575.2391,33956.13895,31181.9289,28726.1364,24303.331149999998,26257.45285,31129.249516666667,20930.65055,22073.00535,11741.84835,23854.655700000003,27329.86725,24283.53965,22419.61005,24648.74195,25692.0108,23348.12665,20346.408649999998,20266.6069,21119.4036,21951.49425,22753.421199999997,25393.11565,28045.19325,33710.71695,26228.6788,24721.4107,24850.478,28206.4601,24474.031349999997,25209.29305,21614.3598,21437.61315,21312.882400000002,21376.40495,21405.941,22084.69965,25425.742749999998,24692.5352,24871.6747,24601.9995,27250.36015,23441.72119814716,23008.37945,26469.744,25562.08535,25148.1899,22673.496100000004,19947.278599999998,23083.72975,20546.1339],\"yaxis\":\"y\",\"type\":\"scatter\"}],                        {\"template\":{\"data\":{\"histogram2dcontour\":[{\"type\":\"histogram2dcontour\",\"colorbar\":{\"outlinewidth\":0,\"ticks\":\"\"},\"colorscale\":[[0.0,\"#0d0887\"],[0.1111111111111111,\"#46039f\"],[0.2222222222222222,\"#7201a8\"],[0.3333333333333333,\"#9c179e\"],[0.4444444444444444,\"#bd3786\"],[0.5555555555555556,\"#d8576b\"],[0.6666666666666666,\"#ed7953\"],[0.7777777777777778,\"#fb9f3a\"],[0.8888888888888888,\"#fdca26\"],[1.0,\"#f0f921\"]]}],\"choropleth\":[{\"type\":\"choropleth\",\"colorbar\":{\"outlinewidth\":0,\"ticks\":\"\"}}],\"histogram2d\":[{\"type\":\"histogram2d\",\"colorbar\":{\"outlinewidth\":0,\"ticks\":\"\"},\"colorscale\":[[0.0,\"#0d0887\"],[0.1111111111111111,\"#46039f\"],[0.2222222222222222,\"#7201a8\"],[0.3333333333333333,\"#9c179e\"],[0.4444444444444444,\"#bd3786\"],[0.5555555555555556,\"#d8576b\"],[0.6666666666666666,\"#ed7953\"],[0.7777777777777778,\"#fb9f3a\"],[0.8888888888888888,\"#fdca26\"],[1.0,\"#f0f921\"]]}],\"heatmap\":[{\"type\":\"heatmap\",\"colorbar\":{\"outlinewidth\":0,\"ticks\":\"\"},\"colorscale\":[[0.0,\"#0d0887\"],[0.1111111111111111,\"#46039f\"],[0.2222222222222222,\"#7201a8\"],[0.3333333333333333,\"#9c179e\"],[0.4444444444444444,\"#bd3786\"],[0.5555555555555556,\"#d8576b\"],[0.6666666666666666,\"#ed7953\"],[0.7777777777777778,\"#fb9f3a\"],[0.8888888888888888,\"#fdca26\"],[1.0,\"#f0f921\"]]}],\"heatmapgl\":[{\"type\":\"heatmapgl\",\"colorbar\":{\"outlinewidth\":0,\"ticks\":\"\"},\"colorscale\":[[0.0,\"#0d0887\"],[0.1111111111111111,\"#46039f\"],[0.2222222222222222,\"#7201a8\"],[0.3333333333333333,\"#9c179e\"],[0.4444444444444444,\"#bd3786\"],[0.5555555555555556,\"#d8576b\"],[0.6666666666666666,\"#ed7953\"],[0.7777777777777778,\"#fb9f3a\"],[0.8888888888888888,\"#fdca26\"],[1.0,\"#f0f921\"]]}],\"contourcarpet\":[{\"type\":\"contourcarpet\",\"colorbar\":{\"outlinewidth\":0,\"ticks\":\"\"}}],\"contour\":[{\"type\":\"contour\",\"colorbar\":{\"outlinewidth\":0,\"ticks\":\"\"},\"colorscale\":[[0.0,\"#0d0887\"],[0.1111111111111111,\"#46039f\"],[0.2222222222222222,\"#7201a8\"],[0.3333333333333333,\"#9c179e\"],[0.4444444444444444,\"#bd3786\"],[0.5555555555555556,\"#d8576b\"],[0.6666666666666666,\"#ed7953\"],[0.7777777777777778,\"#fb9f3a\"],[0.8888888888888888,\"#fdca26\"],[1.0,\"#f0f921\"]]}],\"surface\":[{\"type\":\"surface\",\"colorbar\":{\"outlinewidth\":0,\"ticks\":\"\"},\"colorscale\":[[0.0,\"#0d0887\"],[0.1111111111111111,\"#46039f\"],[0.2222222222222222,\"#7201a8\"],[0.3333333333333333,\"#9c179e\"],[0.4444444444444444,\"#bd3786\"],[0.5555555555555556,\"#d8576b\"],[0.6666666666666666,\"#ed7953\"],[0.7777777777777778,\"#fb9f3a\"],[0.8888888888888888,\"#fdca26\"],[1.0,\"#f0f921\"]]}],\"mesh3d\":[{\"type\":\"mesh3d\",\"colorbar\":{\"outlinewidth\":0,\"ticks\":\"\"}}],\"scatter\":[{\"fillpattern\":{\"fillmode\":\"overlay\",\"size\":10,\"solidity\":0.2},\"type\":\"scatter\"}],\"parcoords\":[{\"type\":\"parcoords\",\"line\":{\"colorbar\":{\"outlinewidth\":0,\"ticks\":\"\"}}}],\"scatterpolargl\":[{\"type\":\"scatterpolargl\",\"marker\":{\"colorbar\":{\"outlinewidth\":0,\"ticks\":\"\"}}}],\"bar\":[{\"error_x\":{\"color\":\"#2a3f5f\"},\"error_y\":{\"color\":\"#2a3f5f\"},\"marker\":{\"line\":{\"color\":\"#E5ECF6\",\"width\":0.5},\"pattern\":{\"fillmode\":\"overlay\",\"size\":10,\"solidity\":0.2}},\"type\":\"bar\"}],\"scattergeo\":[{\"type\":\"scattergeo\",\"marker\":{\"colorbar\":{\"outlinewidth\":0,\"ticks\":\"\"}}}],\"scatterpolar\":[{\"type\":\"scatterpolar\",\"marker\":{\"colorbar\":{\"outlinewidth\":0,\"ticks\":\"\"}}}],\"histogram\":[{\"marker\":{\"pattern\":{\"fillmode\":\"overlay\",\"size\":10,\"solidity\":0.2}},\"type\":\"histogram\"}],\"scattergl\":[{\"type\":\"scattergl\",\"marker\":{\"colorbar\":{\"outlinewidth\":0,\"ticks\":\"\"}}}],\"scatter3d\":[{\"type\":\"scatter3d\",\"line\":{\"colorbar\":{\"outlinewidth\":0,\"ticks\":\"\"}},\"marker\":{\"colorbar\":{\"outlinewidth\":0,\"ticks\":\"\"}}}],\"scattermapbox\":[{\"type\":\"scattermapbox\",\"marker\":{\"colorbar\":{\"outlinewidth\":0,\"ticks\":\"\"}}}],\"scatterternary\":[{\"type\":\"scatterternary\",\"marker\":{\"colorbar\":{\"outlinewidth\":0,\"ticks\":\"\"}}}],\"scattercarpet\":[{\"type\":\"scattercarpet\",\"marker\":{\"colorbar\":{\"outlinewidth\":0,\"ticks\":\"\"}}}],\"carpet\":[{\"aaxis\":{\"endlinecolor\":\"#2a3f5f\",\"gridcolor\":\"white\",\"linecolor\":\"white\",\"minorgridcolor\":\"white\",\"startlinecolor\":\"#2a3f5f\"},\"baxis\":{\"endlinecolor\":\"#2a3f5f\",\"gridcolor\":\"white\",\"linecolor\":\"white\",\"minorgridcolor\":\"white\",\"startlinecolor\":\"#2a3f5f\"},\"type\":\"carpet\"}],\"table\":[{\"cells\":{\"fill\":{\"color\":\"#EBF0F8\"},\"line\":{\"color\":\"white\"}},\"header\":{\"fill\":{\"color\":\"#C8D4E3\"},\"line\":{\"color\":\"white\"}},\"type\":\"table\"}],\"barpolar\":[{\"marker\":{\"line\":{\"color\":\"#E5ECF6\",\"width\":0.5},\"pattern\":{\"fillmode\":\"overlay\",\"size\":10,\"solidity\":0.2}},\"type\":\"barpolar\"}],\"pie\":[{\"automargin\":true,\"type\":\"pie\"}]},\"layout\":{\"autotypenumbers\":\"strict\",\"colorway\":[\"#636efa\",\"#EF553B\",\"#00cc96\",\"#ab63fa\",\"#FFA15A\",\"#19d3f3\",\"#FF6692\",\"#B6E880\",\"#FF97FF\",\"#FECB52\"],\"font\":{\"color\":\"#2a3f5f\"},\"hovermode\":\"closest\",\"hoverlabel\":{\"align\":\"left\"},\"paper_bgcolor\":\"white\",\"plot_bgcolor\":\"#E5ECF6\",\"polar\":{\"bgcolor\":\"#E5ECF6\",\"angularaxis\":{\"gridcolor\":\"white\",\"linecolor\":\"white\",\"ticks\":\"\"},\"radialaxis\":{\"gridcolor\":\"white\",\"linecolor\":\"white\",\"ticks\":\"\"}},\"ternary\":{\"bgcolor\":\"#E5ECF6\",\"aaxis\":{\"gridcolor\":\"white\",\"linecolor\":\"white\",\"ticks\":\"\"},\"baxis\":{\"gridcolor\":\"white\",\"linecolor\":\"white\",\"ticks\":\"\"},\"caxis\":{\"gridcolor\":\"white\",\"linecolor\":\"white\",\"ticks\":\"\"}},\"coloraxis\":{\"colorbar\":{\"outlinewidth\":0,\"ticks\":\"\"}},\"colorscale\":{\"sequential\":[[0.0,\"#0d0887\"],[0.1111111111111111,\"#46039f\"],[0.2222222222222222,\"#7201a8\"],[0.3333333333333333,\"#9c179e\"],[0.4444444444444444,\"#bd3786\"],[0.5555555555555556,\"#d8576b\"],[0.6666666666666666,\"#ed7953\"],[0.7777777777777778,\"#fb9f3a\"],[0.8888888888888888,\"#fdca26\"],[1.0,\"#f0f921\"]],\"sequentialminus\":[[0.0,\"#0d0887\"],[0.1111111111111111,\"#46039f\"],[0.2222222222222222,\"#7201a8\"],[0.3333333333333333,\"#9c179e\"],[0.4444444444444444,\"#bd3786\"],[0.5555555555555556,\"#d8576b\"],[0.6666666666666666,\"#ed7953\"],[0.7777777777777778,\"#fb9f3a\"],[0.8888888888888888,\"#fdca26\"],[1.0,\"#f0f921\"]],\"diverging\":[[0,\"#8e0152\"],[0.1,\"#c51b7d\"],[0.2,\"#de77ae\"],[0.3,\"#f1b6da\"],[0.4,\"#fde0ef\"],[0.5,\"#f7f7f7\"],[0.6,\"#e6f5d0\"],[0.7,\"#b8e186\"],[0.8,\"#7fbc41\"],[0.9,\"#4d9221\"],[1,\"#276419\"]]},\"xaxis\":{\"gridcolor\":\"white\",\"linecolor\":\"white\",\"ticks\":\"\",\"title\":{\"standoff\":15},\"zerolinecolor\":\"white\",\"automargin\":true,\"zerolinewidth\":2},\"yaxis\":{\"gridcolor\":\"white\",\"linecolor\":\"white\",\"ticks\":\"\",\"title\":{\"standoff\":15},\"zerolinecolor\":\"white\",\"automargin\":true,\"zerolinewidth\":2},\"scene\":{\"xaxis\":{\"backgroundcolor\":\"#E5ECF6\",\"gridcolor\":\"white\",\"linecolor\":\"white\",\"showbackground\":true,\"ticks\":\"\",\"zerolinecolor\":\"white\",\"gridwidth\":2},\"yaxis\":{\"backgroundcolor\":\"#E5ECF6\",\"gridcolor\":\"white\",\"linecolor\":\"white\",\"showbackground\":true,\"ticks\":\"\",\"zerolinecolor\":\"white\",\"gridwidth\":2},\"zaxis\":{\"backgroundcolor\":\"#E5ECF6\",\"gridcolor\":\"white\",\"linecolor\":\"white\",\"showbackground\":true,\"ticks\":\"\",\"zerolinecolor\":\"white\",\"gridwidth\":2}},\"shapedefaults\":{\"line\":{\"color\":\"#2a3f5f\"}},\"annotationdefaults\":{\"arrowcolor\":\"#2a3f5f\",\"arrowhead\":0,\"arrowwidth\":1},\"geo\":{\"bgcolor\":\"white\",\"landcolor\":\"#E5ECF6\",\"subunitcolor\":\"white\",\"showland\":true,\"showlakes\":true,\"lakecolor\":\"white\"},\"title\":{\"x\":0.05},\"mapbox\":{\"style\":\"light\"}}},\"xaxis\":{\"anchor\":\"y\",\"domain\":[0.0,1.0],\"title\":{\"text\":\"Date\"}},\"yaxis\":{\"anchor\":\"x\",\"domain\":[0.0,1.0],\"title\":{\"text\":\"Unit Sales\"}},\"legend\":{\"title\":{\"text\":\"Brand\"},\"tracegroupgap\":0},\"title\":{\"text\":\"Unit Sales Over Time for Top Brands\"}},                        {\"responsive\": true}                    ).then(function(){\n",
       "                            \n",
       "var gd = document.getElementById('fccf2a0e-0428-4100-9b5b-ac947da19919');\n",
       "var x = new MutationObserver(function (mutations, observer) {{\n",
       "        var display = window.getComputedStyle(gd).display;\n",
       "        if (!display || display === 'none') {{\n",
       "            console.log([gd, 'removed!']);\n",
       "            Plotly.purge(gd);\n",
       "            observer.disconnect();\n",
       "        }}\n",
       "}});\n",
       "\n",
       "// Listen for the removal of the full notebook cells\n",
       "var notebookContainer = gd.closest('#notebook-container');\n",
       "if (notebookContainer) {{\n",
       "    x.observe(notebookContainer, {childList: true});\n",
       "}}\n",
       "\n",
       "// Listen for the clearing of the current output cell\n",
       "var outputEl = gd.closest('.output');\n",
       "if (outputEl) {{\n",
       "    x.observe(outputEl, {childList: true});\n",
       "}}\n",
       "\n",
       "                        })                };                });            </script>        </div>"
      ]
     },
     "metadata": {},
     "output_type": "display_data"
    }
   ],
   "source": [
    "# Load the 'Weekly' data, assuming 'Weekly' data has the unit sales and 'Brand' information\n",
    "sales_data = pd.read_excel('Customer_Success_Engineer_-_Project_Data.xlsx', sheet_name='Weekly', header=1)\n",
    "\n",
    "# Convert 'Week' to datetime (the following is a basic method; you may need to adjust it based on your actual data format)\n",
    "sales_data['Week'] = pd.to_datetime(sales_data['Week'].str.split(' - ').str[0])\n",
    "\n",
    "# Identify the top brands by total unit sales\n",
    "top_brands = sales_data.groupby('Brand')['Units'].sum().nlargest(5).index\n",
    "\n",
    "# Filter the data to include only the top brands\n",
    "top_brands_data = sales_data[sales_data['Brand'].isin(top_brands)]\n",
    "\n",
    "# Group by 'Week' and 'Brand' and sum up unit sales\n",
    "unit_sales_over_time = top_brands_data.groupby(['Week', 'Brand'])['Units'].sum().reset_index()\n",
    "\n",
    "# Pivot the data to have 'Week' as index and the unit sales of each top brand as a column\n",
    "unit_sales_pivot = unit_sales_over_time.pivot(index='Week', columns='Brand', values='Units')\n",
    "\n",
    "# Reset the index to turn 'Week' back into a column\n",
    "unit_sales_pivot.reset_index(inplace=True)\n",
    "\n",
    "# Melt the DataFrame to have a single 'Units' column with corresponding 'Brand' and 'Week'\n",
    "unit_sales_melted = unit_sales_pivot.melt(id_vars='Week', var_name='Brand', value_name='Units')\n",
    "\n",
    "# Plotting the multi-line chart\n",
    "fig = px.line(unit_sales_melted, x='Week', y='Units', color='Brand', title='Unit Sales Over Time for Top Brands')\n",
    "\n",
    "# Improve the layout\n",
    "fig.update_layout(\n",
    "    xaxis_title='Date',\n",
    "    yaxis_title='Unit Sales',\n",
    "    legend_title='Brand'\n",
    ")\n",
    "\n",
    "# Show the figure\n",
    "fig.show()"
   ]
  },
  {
   "cell_type": "markdown",
   "id": "2e0e2519",
   "metadata": {},
   "source": [
    "1P vs 3P Revenue over time. 3P beat 1P in march. "
   ]
  },
  {
   "cell_type": "code",
   "execution_count": 204,
   "id": "dd061559",
   "metadata": {},
   "outputs": [
    {
     "data": {
      "application/vnd.plotly.v1+json": {
       "config": {
        "plotlyServerURL": "https://plot.ly"
       },
       "data": [
        {
         "mode": "lines",
         "name": "1P Revenue",
         "type": "scatter",
         "x": [
          "2023-01-07T00:00:00",
          "2023-01-08T00:00:00",
          "2023-01-09T00:00:00",
          "2023-01-10T00:00:00",
          "2023-01-11T00:00:00",
          "2023-01-12T00:00:00",
          "2023-01-13T00:00:00",
          "2023-01-14T00:00:00",
          "2023-01-15T00:00:00",
          "2023-01-16T00:00:00",
          "2023-01-17T00:00:00",
          "2023-01-18T00:00:00",
          "2023-01-19T00:00:00",
          "2023-01-20T00:00:00",
          "2023-01-21T00:00:00",
          "2023-01-22T00:00:00",
          "2023-01-23T00:00:00",
          "2023-01-24T00:00:00",
          "2023-01-25T00:00:00",
          "2023-01-26T00:00:00",
          "2023-01-27T00:00:00",
          "2023-01-28T00:00:00",
          "2023-01-29T00:00:00",
          "2023-01-30T00:00:00",
          "2023-01-31T00:00:00",
          "2023-02-01T00:00:00",
          "2023-02-02T00:00:00",
          "2023-02-03T00:00:00",
          "2023-02-04T00:00:00",
          "2023-02-05T00:00:00",
          "2023-02-06T00:00:00",
          "2023-02-07T00:00:00",
          "2023-02-08T00:00:00",
          "2023-02-09T00:00:00",
          "2023-02-10T00:00:00",
          "2023-02-11T00:00:00",
          "2023-02-12T00:00:00",
          "2023-02-13T00:00:00",
          "2023-02-14T00:00:00",
          "2023-02-15T00:00:00",
          "2023-02-16T00:00:00",
          "2023-02-17T00:00:00",
          "2023-02-18T00:00:00",
          "2023-02-19T00:00:00",
          "2023-02-20T00:00:00",
          "2023-02-21T00:00:00",
          "2023-02-22T00:00:00",
          "2023-02-23T00:00:00",
          "2023-02-24T00:00:00",
          "2023-02-25T00:00:00",
          "2023-02-26T00:00:00",
          "2023-02-27T00:00:00",
          "2023-02-28T00:00:00",
          "2023-03-01T00:00:00",
          "2023-03-02T00:00:00",
          "2023-03-03T00:00:00",
          "2023-03-04T00:00:00",
          "2023-03-05T00:00:00",
          "2023-03-06T00:00:00",
          "2023-03-07T00:00:00",
          "2023-03-08T00:00:00",
          "2023-03-09T00:00:00",
          "2023-03-10T00:00:00",
          "2023-03-11T00:00:00",
          "2023-03-12T00:00:00",
          "2023-03-13T00:00:00",
          "2023-03-14T00:00:00",
          "2023-03-15T00:00:00",
          "2023-03-16T00:00:00",
          "2023-03-17T00:00:00",
          "2023-03-18T00:00:00",
          "2023-03-19T00:00:00",
          "2023-03-20T00:00:00",
          "2023-03-21T00:00:00",
          "2023-03-22T00:00:00",
          "2023-03-23T00:00:00",
          "2023-03-24T00:00:00",
          "2023-03-25T00:00:00",
          "2023-03-26T00:00:00",
          "2023-03-27T00:00:00",
          "2023-03-28T00:00:00",
          "2023-03-29T00:00:00",
          "2023-03-30T00:00:00",
          "2023-03-31T00:00:00",
          "2023-04-01T00:00:00",
          "2023-04-02T00:00:00",
          "2023-04-03T00:00:00",
          "2023-04-04T00:00:00",
          "2023-04-05T00:00:00",
          "2023-04-06T00:00:00",
          "2023-04-07T00:00:00",
          "2023-04-08T00:00:00",
          "2023-04-09T00:00:00",
          "2023-04-10T00:00:00",
          "2023-04-11T00:00:00",
          "2023-04-12T00:00:00",
          "2023-04-13T00:00:00",
          "2023-04-14T00:00:00",
          "2023-04-15T00:00:00",
          "2023-04-16T00:00:00",
          "2023-04-17T00:00:00",
          "2023-04-18T00:00:00",
          "2023-04-19T00:00:00",
          "2023-04-20T00:00:00",
          "2023-04-21T00:00:00",
          "2023-04-22T00:00:00",
          "2023-04-23T00:00:00",
          "2023-04-24T00:00:00",
          "2023-04-25T00:00:00",
          "2023-04-26T00:00:00",
          "2023-04-27T00:00:00",
          "2023-04-28T00:00:00",
          "2023-04-29T00:00:00",
          "2023-04-30T00:00:00",
          "2023-05-01T00:00:00",
          "2023-05-02T00:00:00",
          "2023-05-03T00:00:00",
          "2023-05-04T00:00:00",
          "2023-05-05T00:00:00",
          "2023-05-06T00:00:00",
          "2023-05-07T00:00:00",
          "2023-05-08T00:00:00",
          "2023-05-09T00:00:00",
          "2023-05-10T00:00:00",
          "2023-05-11T00:00:00",
          "2023-05-12T00:00:00",
          "2023-05-13T00:00:00",
          "2023-05-14T00:00:00",
          "2023-05-15T00:00:00",
          "2023-05-16T00:00:00",
          "2023-05-17T00:00:00",
          "2023-05-18T00:00:00",
          "2023-05-19T00:00:00",
          "2023-05-20T00:00:00",
          "2023-05-21T00:00:00",
          "2023-05-22T00:00:00",
          "2023-05-23T00:00:00",
          "2023-05-24T00:00:00",
          "2023-05-25T00:00:00",
          "2023-05-26T00:00:00",
          "2023-05-27T00:00:00",
          "2023-05-28T00:00:00",
          "2023-05-29T00:00:00",
          "2023-05-30T00:00:00",
          "2023-05-31T00:00:00",
          "2023-06-01T00:00:00",
          "2023-06-02T00:00:00",
          "2023-06-03T00:00:00",
          "2023-06-04T00:00:00",
          "2023-06-05T00:00:00",
          "2023-06-06T00:00:00",
          "2023-06-07T00:00:00",
          "2023-06-08T00:00:00",
          "2023-06-09T00:00:00",
          "2023-06-10T00:00:00",
          "2023-06-11T00:00:00",
          "2023-06-12T00:00:00",
          "2023-06-13T00:00:00",
          "2023-06-14T00:00:00",
          "2023-06-15T00:00:00",
          "2023-06-16T00:00:00",
          "2023-06-17T00:00:00",
          "2023-06-18T00:00:00",
          "2023-06-19T00:00:00",
          "2023-06-20T00:00:00",
          "2023-06-21T00:00:00",
          "2023-06-22T00:00:00",
          "2023-06-23T00:00:00",
          "2023-06-24T00:00:00",
          "2023-06-25T00:00:00",
          "2023-06-26T00:00:00",
          "2023-06-27T00:00:00",
          "2023-06-28T00:00:00",
          "2023-06-29T00:00:00",
          "2023-06-30T00:00:00",
          "2023-07-01T00:00:00",
          "2023-07-02T00:00:00",
          "2023-07-03T00:00:00",
          "2023-07-04T00:00:00",
          "2023-07-05T00:00:00",
          "2023-07-06T00:00:00",
          "2023-07-07T00:00:00",
          "2023-07-08T00:00:00",
          "2023-07-09T00:00:00",
          "2023-07-10T00:00:00",
          "2023-07-11T00:00:00",
          "2023-07-12T00:00:00",
          "2023-07-13T00:00:00",
          "2023-07-14T00:00:00",
          "2023-07-15T00:00:00",
          "2023-07-16T00:00:00",
          "2023-07-17T00:00:00",
          "2023-07-18T00:00:00",
          "2023-07-19T00:00:00",
          "2023-07-20T00:00:00",
          "2023-07-21T00:00:00",
          "2023-07-22T00:00:00",
          "2023-07-23T00:00:00",
          "2023-07-24T00:00:00",
          "2023-07-25T00:00:00",
          "2023-07-26T00:00:00",
          "2023-07-27T00:00:00",
          "2023-07-28T00:00:00",
          "2023-07-29T00:00:00",
          "2023-07-30T00:00:00",
          "2023-07-31T00:00:00",
          "2023-08-01T00:00:00",
          "2023-08-02T00:00:00",
          "2023-08-03T00:00:00",
          "2023-08-04T00:00:00",
          "2023-08-05T00:00:00",
          "2023-08-06T00:00:00",
          "2023-08-07T00:00:00",
          "2023-08-08T00:00:00",
          "2023-08-09T00:00:00",
          "2023-08-10T00:00:00",
          "2023-08-11T00:00:00",
          "2023-08-12T00:00:00",
          "2023-08-13T00:00:00",
          "2023-08-14T00:00:00",
          "2023-08-15T00:00:00",
          "2023-08-16T00:00:00",
          "2023-08-17T00:00:00",
          "2023-08-18T00:00:00",
          "2023-08-19T00:00:00",
          "2023-08-20T00:00:00",
          "2023-08-21T00:00:00",
          "2023-08-22T00:00:00",
          "2023-08-23T00:00:00",
          "2023-08-24T00:00:00",
          "2023-08-25T00:00:00",
          "2023-08-26T00:00:00",
          "2023-08-27T00:00:00",
          "2023-08-28T00:00:00",
          "2023-08-29T00:00:00",
          "2023-08-30T00:00:00",
          "2023-08-31T00:00:00",
          "2023-09-01T00:00:00",
          "2023-09-02T00:00:00",
          "2023-09-03T00:00:00",
          "2023-09-04T00:00:00",
          "2023-09-05T00:00:00",
          "2023-09-06T00:00:00",
          "2023-09-07T00:00:00",
          "2023-09-08T00:00:00",
          "2023-09-09T00:00:00",
          "2023-09-10T00:00:00",
          "2023-09-11T00:00:00",
          "2023-09-12T00:00:00",
          "2023-09-13T00:00:00",
          "2023-09-14T00:00:00",
          "2023-09-15T00:00:00",
          "2023-09-16T00:00:00",
          "2023-09-17T00:00:00",
          "2023-09-18T00:00:00",
          "2023-09-19T00:00:00",
          "2023-09-20T00:00:00",
          "2023-09-21T00:00:00",
          "2023-09-22T00:00:00",
          "2023-09-23T00:00:00",
          "2023-09-24T00:00:00",
          "2023-09-25T00:00:00",
          "2023-09-26T00:00:00",
          "2023-09-27T00:00:00",
          "2023-09-28T00:00:00",
          "2023-09-29T00:00:00",
          "2023-09-30T00:00:00",
          "2023-10-01T00:00:00",
          "2023-10-02T00:00:00",
          "2023-10-03T00:00:00",
          "2023-10-04T00:00:00",
          "2023-10-05T00:00:00",
          "2023-10-06T00:00:00",
          "2023-10-07T00:00:00",
          "2023-10-08T00:00:00",
          "2023-10-09T00:00:00",
          "2023-10-10T00:00:00",
          "2023-10-11T00:00:00",
          "2023-10-12T00:00:00",
          "2023-10-13T00:00:00",
          "2023-10-14T00:00:00",
          "2023-10-15T00:00:00",
          "2023-10-16T00:00:00",
          "2023-10-17T00:00:00",
          "2023-10-18T00:00:00",
          "2023-10-19T00:00:00",
          "2023-10-20T00:00:00",
          "2023-10-21T00:00:00",
          "2023-10-22T00:00:00",
          "2023-10-23T00:00:00",
          "2023-10-24T00:00:00",
          "2023-10-25T00:00:00",
          "2023-10-26T00:00:00",
          "2023-10-27T00:00:00",
          "2023-10-28T00:00:00",
          "2023-10-29T00:00:00",
          "2023-10-30T00:00:00",
          "2023-10-31T00:00:00",
          "2023-11-01T00:00:00",
          "2023-11-02T00:00:00",
          "2023-11-03T00:00:00",
          "2023-11-04T00:00:00",
          "2023-11-05T00:00:00",
          "2023-11-06T00:00:00",
          "2023-11-07T00:00:00",
          "2023-11-08T00:00:00",
          "2023-11-09T00:00:00",
          "2023-11-10T00:00:00",
          "2023-11-11T00:00:00",
          "2023-11-12T00:00:00",
          "2023-11-13T00:00:00",
          "2023-11-14T00:00:00",
          "2023-11-15T00:00:00",
          "2023-11-16T00:00:00",
          "2023-11-17T00:00:00",
          "2023-11-18T00:00:00",
          "2023-11-19T00:00:00",
          "2023-11-20T00:00:00",
          "2023-11-21T00:00:00",
          "2023-11-22T00:00:00",
          "2023-11-23T00:00:00",
          "2023-11-24T00:00:00",
          "2023-11-25T00:00:00",
          "2023-11-26T00:00:00",
          "2023-11-27T00:00:00",
          "2023-11-28T00:00:00",
          "2023-11-29T00:00:00",
          "2023-11-30T00:00:00",
          "2023-12-01T00:00:00",
          "2023-12-02T00:00:00",
          "2023-12-03T00:00:00",
          "2023-12-04T00:00:00",
          "2023-12-05T00:00:00",
          "2023-12-06T00:00:00",
          "2023-12-07T00:00:00",
          "2023-12-08T00:00:00",
          "2023-12-09T00:00:00",
          "2023-12-10T00:00:00",
          "2023-12-11T00:00:00",
          "2023-12-12T00:00:00",
          "2023-12-13T00:00:00",
          "2023-12-14T00:00:00",
          "2023-12-15T00:00:00",
          "2023-12-16T00:00:00",
          "2023-12-17T00:00:00",
          "2023-12-18T00:00:00",
          "2023-12-19T00:00:00",
          "2023-12-20T00:00:00",
          "2023-12-21T00:00:00",
          "2023-12-22T00:00:00",
          "2023-12-23T00:00:00",
          "2023-12-24T00:00:00",
          "2023-12-25T00:00:00",
          "2023-12-26T00:00:00",
          "2023-12-27T00:00:00",
          "2023-12-28T00:00:00",
          "2023-12-29T00:00:00",
          "2023-12-30T00:00:00",
          "2023-12-31T00:00:00",
          "2024-01-01T00:00:00",
          "2024-01-02T00:00:00",
          "2024-01-03T00:00:00",
          "2024-01-04T00:00:00",
          "2024-01-05T00:00:00",
          "2024-01-06T00:00:00"
         ],
         "y": [
          1377975.3359693484,
          1397122.71686045,
          1350900.4888273713,
          1408015.325384177,
          1329214.0417690105,
          1284927.9778521522,
          1395502.0284957124,
          1323906.9379512125,
          1296921.7384560604,
          1313454.7274246614,
          1317679.6561393626,
          1339710.979142821,
          1342947.3072877584,
          1350283.53827855,
          1373393.4028825292,
          1303138.5601466543,
          1298933.2598975834,
          1389062.2431497022,
          1410170.666491479,
          1386182.7607846737,
          1385616.4876814876,
          1359431.9595454447,
          1289203.39789235,
          1313729.1984835982,
          1362233.318341631,
          1315971.4895442904,
          1322133.7791947988,
          1389384.1639620871,
          1505387.0302046768,
          1287738.9411373583,
          1348481.158256375,
          1384635.8931201166,
          1308279.5049099743,
          1384321.03943911,
          1533998.9587993992,
          1391184.1352146454,
          1390749.4307624246,
          1430472.4196230152,
          1440655.380031485,
          1479555.4954043578,
          1495247.2408859278,
          1506150.8090338768,
          1383291.5914400076,
          1287418.9179227834,
          1379438.723749569,
          1446031.9665189954,
          1644799.3928541364,
          1617068.6562259563,
          1448319.412711827,
          1606274.7976709018,
          1529071.1452266958,
          1423244.9882970238,
          1588621.3905835361,
          1526807.1916775787,
          1559237.709516808,
          1509801.9260105786,
          1556368.7153203827,
          1370553.2098571516,
          1442312.255505082,
          1544511.28423189,
          1466595.0519288038,
          1424944.2388077443,
          1394925.577098814,
          1391146.2099383378,
          1356777.1894085223,
          1408889.8822607452,
          1461840.140150391,
          1367336.4088249744,
          1374984.833906625,
          1378914.0956235272,
          1362715.3448947165,
          1295958.5294039238,
          1270627.4239708523,
          1477766.6180331632,
          18755.189102,
          18072.578314000002,
          22285.209548000003,
          1272315.0824913234,
          1239713.00115512,
          1263805.636718575,
          1354105.502959562,
          1325713.285086122,
          1351733.1636299393,
          1251634.7736881042,
          1253389.473989885,
          1266189.359672285,
          1276170.418989808,
          1287983.5727793286,
          1358181.374963403,
          1243338.4494946608,
          1257939.1943572396,
          1257154.8125957083,
          1195391.760218087,
          1203182.1471072154,
          1265356.7649264995,
          1322601.6181494093,
          1213846.6042059243,
          1202110.7741264154,
          1091020.3759100717,
          1027591.9380325215,
          1045093.9624684704,
          1112888.983187609,
          1034558.5409930834,
          1052590.603708936,
          1123121.1991237178,
          1127923.5781260275,
          1130564.4784852886,
          1176971.2660960448,
          1186099.6111529134,
          1230786.7759888303,
          1156899.4380591635,
          1178648.5418921635,
          1174600.4857974134,
          1127564.9998541635,
          1124610.248005891,
          1073032.9269892613,
          1154541.6794281157,
          1071735.9837245385,
          1095637.9500901634,
          1128549.2512867053,
          1014082.5997738927,
          1032907.6234642051,
          1080481.6044493718,
          1059838.4970798343,
          1052975.5441363023,
          1094368.0629775948,
          1076057.8098926635,
          1035209.0750041219,
          1025876.2335457051,
          1079552.3285544552,
          1075894.5580337443,
          1064546.9089873885,
          1068404.1697267052,
          1066321.997355122,
          1039354.9555754552,
          1047868.5387178884,
          1070799.7211856218,
          1106693.4774041218,
          1105724.6289612884,
          1128890.3686986635,
          1120369.4043188302,
          1083249.462122705,
          1067370.2803249038,
          1085636.9628693576,
          1109624.0006116636,
          1114756.462211105,
          1121776.5909494134,
          1124430.4265384334,
          1083089.29119075,
          1055371.589258875,
          1077498.9986761666,
          1197188.5944043333,
          1222919.1267290667,
          1171796.580801807,
          1161922.122440537,
          1110767.5471037827,
          1095900.1542919762,
          1129385.9192501,
          1093645.6500348335,
          1120921.9928735,
          1158336.9843102084,
          1165555.4159238334,
          1125232.1043866666,
          1151792.6339705833,
          1120214.9209283125,
          1181296.8665351209,
          1229965.0796271667,
          1223649.6353173333,
          1226219.169629875,
          1223849.0469519582,
          1194777.3885572918,
          1219437.5339170287,
          1261825.5798247196,
          1262241.2935115835,
          1286875.9253056042,
          1306594.9006983014,
          1254966.9362709166,
          1321251.13086183,
          1427355.53022625,
          1511031.3864378333,
          1519942.845772125,
          1552091.4410205416,
          1577748.4858550418,
          1543147.69180925,
          1511204.1825539167,
          1406013.3595291667,
          1202199.044116161,
          1168375.920220907,
          1390357.623089246,
          1518362.4171317082,
          1085926.0943380417,
          1099185.217559488,
          1205875.2347804783,
          1235608.4799641506,
          1168288.868350593,
          1163562.9940411763,
          1178015.6905726762,
          1157411.889482107,
          1193645.496270093,
          1189034.3178969435,
          1232472.0615388846,
          1222744.0067283255,
          1218512.6632016872,
          1211009.8654478013,
          1306820.064481843,
          1290165.673656947,
          1346190.3004317943,
          1324566.217109878,
          1315398.3587594263,
          1359852.6789972596,
          1326997.0469141346,
          1314814.6272336491,
          1246068.4602661347,
          1223272.3242642812,
          1284743.0909778366,
          1337607.8052758535,
          1219431.7308561346,
          1090399.1281843847,
          1053317.828290718,
          1053955.088136968,
          1076153.507056718,
          1147371.399766063,
          1123591.938219455,
          1143913.3055019064,
          1128891.2126559343,
          1083174.747090101,
          1093054.6963424552,
          1240245.7817824134,
          1049863.671453202,
          1124218.6891566785,
          1100228.170405875,
          1114610.1080458302,
          1113751.703284712,
          1110629.252604098,
          1105527.2760344204,
          1146250.7794455176,
          1145899.1583774167,
          1190843.4775300245,
          1125906.307360986,
          1143408.8878567847,
          1128182.022854639,
          1110362.179689125,
          1165852.300937889,
          1087286.9163648472,
          1135519.2999670764,
          1160154.0027670427,
          1113447.5443678135,
          1109048.318658904,
          1139328.1174342372,
          1172898.89875964,
          1167681.9886752788,
          1183961.532854,
          1162847.9097213473,
          1048989.9314693394,
          1044464.4491492732,
          1083855.8173876079,
          1223193.870249122,
          1149258.2043007885,
          1149682.250875266,
          1147501.4629196285,
          1123704.7276933682,
          1129738.8359879619,
          1170460.1704750592,
          1138736.2987689052,
          1231688.0008550037,
          1209061.8065685385,
          1204410.7270896563,
          1178250.7055755386,
          1187865.437075355,
          1247189.4099930886,
          1227563.134067122,
          1331966.4201689134,
          1199325.7166214024,
          1249745.8325129747,
          1270315.7666265368,
          1243092.2960268403,
          1240194.3258574747,
          1025878.4108185662,
          1058737.8161761418,
          1205082.1909615495,
          1406880.070248105,
          1286498.3506669549,
          1272054.2892826218,
          1220042.6192225663,
          1287688.2973071218,
          1389293.376424718,
          1215856.3264392,
          1176569.8801077916,
          1149380.3070545415,
          1140765.318603882,
          1120564.1477653494,
          1159356.727785875,
          1423799.6537753332,
          1225659.3791069284,
          1167618.8090851519,
          1110351.0932041344,
          1143119.4741497098,
          1201149.7841448102,
          1137438.2402955892,
          1388032.9030842746,
          1164888.03694154,
          1137175.8644865097,
          997818.7019701375,
          1005958.3071716097,
          1028719.531967769,
          976483.0439248594,
          1013165.727127377,
          1024788.742950615,
          1032788.8522988657,
          1020116.1866905433,
          992434.1421617704,
          983145.808382599,
          996463.4108554804,
          1031714.6221029063,
          1106122.7065368625,
          994979.2556390357,
          1263214.6013973958,
          1208156.1845138401,
          1203539.399421699,
          1180218.6056191276,
          1219553.845496238,
          1252344.9517826368,
          1107279.7890725827,
          1128481.7794396072,
          1099639.896214756,
          986459.547920625,
          1036799.9315255476,
          1208090.534882146,
          1229143.8340841457,
          1204118.7804658334,
          1156134.3807949584,
          1120184.9984384791,
          1144447.2452616876,
          1153401.1132432292,
          1215133.2973790609,
          1163142.9291138733,
          1128593.08450954,
          1082654.57074804,
          1047195.7655445772,
          1048721.9581239775,
          1134685.4692820192,
          1000936.5636534567,
          1018289.1613290401,
          1012158.7511028707,
          947540.6914082024,
          912784.8434079214,
          934200.3962608355,
          923820.8950314776,
          957958.721200665,
          972545.9872649957,
          1024080.1267538255,
          1049090.2225538972,
          1134750.4320232293,
          1175454.6720406236,
          1150902.4742647372,
          1238964.3662452486,
          1215834.2451374151,
          1250935.7685628266,
          1231004.2121401061,
          1188731.3183946332,
          1196065.962494255,
          1294615.7532376144,
          1292323.431861568,
          1250588.7826972848,
          1363228.7578387903
         ]
        },
        {
         "mode": "lines",
         "name": "3P Revenue",
         "type": "scatter",
         "x": [
          "2023-01-07T00:00:00",
          "2023-01-08T00:00:00",
          "2023-01-09T00:00:00",
          "2023-01-10T00:00:00",
          "2023-01-11T00:00:00",
          "2023-01-12T00:00:00",
          "2023-01-13T00:00:00",
          "2023-01-14T00:00:00",
          "2023-01-15T00:00:00",
          "2023-01-16T00:00:00",
          "2023-01-17T00:00:00",
          "2023-01-18T00:00:00",
          "2023-01-19T00:00:00",
          "2023-01-20T00:00:00",
          "2023-01-21T00:00:00",
          "2023-01-22T00:00:00",
          "2023-01-23T00:00:00",
          "2023-01-24T00:00:00",
          "2023-01-25T00:00:00",
          "2023-01-26T00:00:00",
          "2023-01-27T00:00:00",
          "2023-01-28T00:00:00",
          "2023-01-29T00:00:00",
          "2023-01-30T00:00:00",
          "2023-01-31T00:00:00",
          "2023-02-01T00:00:00",
          "2023-02-02T00:00:00",
          "2023-02-03T00:00:00",
          "2023-02-04T00:00:00",
          "2023-02-05T00:00:00",
          "2023-02-06T00:00:00",
          "2023-02-07T00:00:00",
          "2023-02-08T00:00:00",
          "2023-02-09T00:00:00",
          "2023-02-10T00:00:00",
          "2023-02-11T00:00:00",
          "2023-02-12T00:00:00",
          "2023-02-13T00:00:00",
          "2023-02-14T00:00:00",
          "2023-02-15T00:00:00",
          "2023-02-16T00:00:00",
          "2023-02-17T00:00:00",
          "2023-02-18T00:00:00",
          "2023-02-19T00:00:00",
          "2023-02-20T00:00:00",
          "2023-02-21T00:00:00",
          "2023-02-22T00:00:00",
          "2023-02-23T00:00:00",
          "2023-02-24T00:00:00",
          "2023-02-25T00:00:00",
          "2023-02-26T00:00:00",
          "2023-02-27T00:00:00",
          "2023-02-28T00:00:00",
          "2023-03-01T00:00:00",
          "2023-03-02T00:00:00",
          "2023-03-03T00:00:00",
          "2023-03-04T00:00:00",
          "2023-03-05T00:00:00",
          "2023-03-06T00:00:00",
          "2023-03-07T00:00:00",
          "2023-03-08T00:00:00",
          "2023-03-09T00:00:00",
          "2023-03-10T00:00:00",
          "2023-03-11T00:00:00",
          "2023-03-12T00:00:00",
          "2023-03-13T00:00:00",
          "2023-03-14T00:00:00",
          "2023-03-15T00:00:00",
          "2023-03-16T00:00:00",
          "2023-03-17T00:00:00",
          "2023-03-18T00:00:00",
          "2023-03-19T00:00:00",
          "2023-03-20T00:00:00",
          "2023-03-21T00:00:00",
          "2023-03-22T00:00:00",
          "2023-03-23T00:00:00",
          "2023-03-24T00:00:00",
          "2023-03-25T00:00:00",
          "2023-03-26T00:00:00",
          "2023-03-27T00:00:00",
          "2023-03-28T00:00:00",
          "2023-03-29T00:00:00",
          "2023-03-30T00:00:00",
          "2023-03-31T00:00:00",
          "2023-04-01T00:00:00",
          "2023-04-02T00:00:00",
          "2023-04-03T00:00:00",
          "2023-04-04T00:00:00",
          "2023-04-05T00:00:00",
          "2023-04-06T00:00:00",
          "2023-04-07T00:00:00",
          "2023-04-08T00:00:00",
          "2023-04-09T00:00:00",
          "2023-04-10T00:00:00",
          "2023-04-11T00:00:00",
          "2023-04-12T00:00:00",
          "2023-04-13T00:00:00",
          "2023-04-14T00:00:00",
          "2023-04-15T00:00:00",
          "2023-04-16T00:00:00",
          "2023-04-17T00:00:00",
          "2023-04-18T00:00:00",
          "2023-04-19T00:00:00",
          "2023-04-20T00:00:00",
          "2023-04-21T00:00:00",
          "2023-04-22T00:00:00",
          "2023-04-23T00:00:00",
          "2023-04-24T00:00:00",
          "2023-04-25T00:00:00",
          "2023-04-26T00:00:00",
          "2023-04-27T00:00:00",
          "2023-04-28T00:00:00",
          "2023-04-29T00:00:00",
          "2023-04-30T00:00:00",
          "2023-05-01T00:00:00",
          "2023-05-02T00:00:00",
          "2023-05-03T00:00:00",
          "2023-05-04T00:00:00",
          "2023-05-05T00:00:00",
          "2023-05-06T00:00:00",
          "2023-05-07T00:00:00",
          "2023-05-08T00:00:00",
          "2023-05-09T00:00:00",
          "2023-05-10T00:00:00",
          "2023-05-11T00:00:00",
          "2023-05-12T00:00:00",
          "2023-05-13T00:00:00",
          "2023-05-14T00:00:00",
          "2023-05-15T00:00:00",
          "2023-05-16T00:00:00",
          "2023-05-17T00:00:00",
          "2023-05-18T00:00:00",
          "2023-05-19T00:00:00",
          "2023-05-20T00:00:00",
          "2023-05-21T00:00:00",
          "2023-05-22T00:00:00",
          "2023-05-23T00:00:00",
          "2023-05-24T00:00:00",
          "2023-05-25T00:00:00",
          "2023-05-26T00:00:00",
          "2023-05-27T00:00:00",
          "2023-05-28T00:00:00",
          "2023-05-29T00:00:00",
          "2023-05-30T00:00:00",
          "2023-05-31T00:00:00",
          "2023-06-01T00:00:00",
          "2023-06-02T00:00:00",
          "2023-06-03T00:00:00",
          "2023-06-04T00:00:00",
          "2023-06-05T00:00:00",
          "2023-06-06T00:00:00",
          "2023-06-07T00:00:00",
          "2023-06-08T00:00:00",
          "2023-06-09T00:00:00",
          "2023-06-10T00:00:00",
          "2023-06-11T00:00:00",
          "2023-06-12T00:00:00",
          "2023-06-13T00:00:00",
          "2023-06-14T00:00:00",
          "2023-06-15T00:00:00",
          "2023-06-16T00:00:00",
          "2023-06-17T00:00:00",
          "2023-06-18T00:00:00",
          "2023-06-19T00:00:00",
          "2023-06-20T00:00:00",
          "2023-06-21T00:00:00",
          "2023-06-22T00:00:00",
          "2023-06-23T00:00:00",
          "2023-06-24T00:00:00",
          "2023-06-25T00:00:00",
          "2023-06-26T00:00:00",
          "2023-06-27T00:00:00",
          "2023-06-28T00:00:00",
          "2023-06-29T00:00:00",
          "2023-06-30T00:00:00",
          "2023-07-01T00:00:00",
          "2023-07-02T00:00:00",
          "2023-07-03T00:00:00",
          "2023-07-04T00:00:00",
          "2023-07-05T00:00:00",
          "2023-07-06T00:00:00",
          "2023-07-07T00:00:00",
          "2023-07-08T00:00:00",
          "2023-07-09T00:00:00",
          "2023-07-10T00:00:00",
          "2023-07-11T00:00:00",
          "2023-07-12T00:00:00",
          "2023-07-13T00:00:00",
          "2023-07-14T00:00:00",
          "2023-07-15T00:00:00",
          "2023-07-16T00:00:00",
          "2023-07-17T00:00:00",
          "2023-07-18T00:00:00",
          "2023-07-19T00:00:00",
          "2023-07-20T00:00:00",
          "2023-07-21T00:00:00",
          "2023-07-22T00:00:00",
          "2023-07-23T00:00:00",
          "2023-07-24T00:00:00",
          "2023-07-25T00:00:00",
          "2023-07-26T00:00:00",
          "2023-07-27T00:00:00",
          "2023-07-28T00:00:00",
          "2023-07-29T00:00:00",
          "2023-07-30T00:00:00",
          "2023-07-31T00:00:00",
          "2023-08-01T00:00:00",
          "2023-08-02T00:00:00",
          "2023-08-03T00:00:00",
          "2023-08-04T00:00:00",
          "2023-08-05T00:00:00",
          "2023-08-06T00:00:00",
          "2023-08-07T00:00:00",
          "2023-08-08T00:00:00",
          "2023-08-09T00:00:00",
          "2023-08-10T00:00:00",
          "2023-08-11T00:00:00",
          "2023-08-12T00:00:00",
          "2023-08-13T00:00:00",
          "2023-08-14T00:00:00",
          "2023-08-15T00:00:00",
          "2023-08-16T00:00:00",
          "2023-08-17T00:00:00",
          "2023-08-18T00:00:00",
          "2023-08-19T00:00:00",
          "2023-08-20T00:00:00",
          "2023-08-21T00:00:00",
          "2023-08-22T00:00:00",
          "2023-08-23T00:00:00",
          "2023-08-24T00:00:00",
          "2023-08-25T00:00:00",
          "2023-08-26T00:00:00",
          "2023-08-27T00:00:00",
          "2023-08-28T00:00:00",
          "2023-08-29T00:00:00",
          "2023-08-30T00:00:00",
          "2023-08-31T00:00:00",
          "2023-09-01T00:00:00",
          "2023-09-02T00:00:00",
          "2023-09-03T00:00:00",
          "2023-09-04T00:00:00",
          "2023-09-05T00:00:00",
          "2023-09-06T00:00:00",
          "2023-09-07T00:00:00",
          "2023-09-08T00:00:00",
          "2023-09-09T00:00:00",
          "2023-09-10T00:00:00",
          "2023-09-11T00:00:00",
          "2023-09-12T00:00:00",
          "2023-09-13T00:00:00",
          "2023-09-14T00:00:00",
          "2023-09-15T00:00:00",
          "2023-09-16T00:00:00",
          "2023-09-17T00:00:00",
          "2023-09-18T00:00:00",
          "2023-09-19T00:00:00",
          "2023-09-20T00:00:00",
          "2023-09-21T00:00:00",
          "2023-09-22T00:00:00",
          "2023-09-23T00:00:00",
          "2023-09-24T00:00:00",
          "2023-09-25T00:00:00",
          "2023-09-26T00:00:00",
          "2023-09-27T00:00:00",
          "2023-09-28T00:00:00",
          "2023-09-29T00:00:00",
          "2023-09-30T00:00:00",
          "2023-10-01T00:00:00",
          "2023-10-02T00:00:00",
          "2023-10-03T00:00:00",
          "2023-10-04T00:00:00",
          "2023-10-05T00:00:00",
          "2023-10-06T00:00:00",
          "2023-10-07T00:00:00",
          "2023-10-08T00:00:00",
          "2023-10-09T00:00:00",
          "2023-10-10T00:00:00",
          "2023-10-11T00:00:00",
          "2023-10-12T00:00:00",
          "2023-10-13T00:00:00",
          "2023-10-14T00:00:00",
          "2023-10-15T00:00:00",
          "2023-10-16T00:00:00",
          "2023-10-17T00:00:00",
          "2023-10-18T00:00:00",
          "2023-10-19T00:00:00",
          "2023-10-20T00:00:00",
          "2023-10-21T00:00:00",
          "2023-10-22T00:00:00",
          "2023-10-23T00:00:00",
          "2023-10-24T00:00:00",
          "2023-10-25T00:00:00",
          "2023-10-26T00:00:00",
          "2023-10-27T00:00:00",
          "2023-10-28T00:00:00",
          "2023-10-29T00:00:00",
          "2023-10-30T00:00:00",
          "2023-10-31T00:00:00",
          "2023-11-01T00:00:00",
          "2023-11-02T00:00:00",
          "2023-11-03T00:00:00",
          "2023-11-04T00:00:00",
          "2023-11-05T00:00:00",
          "2023-11-06T00:00:00",
          "2023-11-07T00:00:00",
          "2023-11-08T00:00:00",
          "2023-11-09T00:00:00",
          "2023-11-10T00:00:00",
          "2023-11-11T00:00:00",
          "2023-11-12T00:00:00",
          "2023-11-13T00:00:00",
          "2023-11-14T00:00:00",
          "2023-11-15T00:00:00",
          "2023-11-16T00:00:00",
          "2023-11-17T00:00:00",
          "2023-11-18T00:00:00",
          "2023-11-19T00:00:00",
          "2023-11-20T00:00:00",
          "2023-11-21T00:00:00",
          "2023-11-22T00:00:00",
          "2023-11-23T00:00:00",
          "2023-11-24T00:00:00",
          "2023-11-25T00:00:00",
          "2023-11-26T00:00:00",
          "2023-11-27T00:00:00",
          "2023-11-28T00:00:00",
          "2023-11-29T00:00:00",
          "2023-11-30T00:00:00",
          "2023-12-01T00:00:00",
          "2023-12-02T00:00:00",
          "2023-12-03T00:00:00",
          "2023-12-04T00:00:00",
          "2023-12-05T00:00:00",
          "2023-12-06T00:00:00",
          "2023-12-07T00:00:00",
          "2023-12-08T00:00:00",
          "2023-12-09T00:00:00",
          "2023-12-10T00:00:00",
          "2023-12-11T00:00:00",
          "2023-12-12T00:00:00",
          "2023-12-13T00:00:00",
          "2023-12-14T00:00:00",
          "2023-12-15T00:00:00",
          "2023-12-16T00:00:00",
          "2023-12-17T00:00:00",
          "2023-12-18T00:00:00",
          "2023-12-19T00:00:00",
          "2023-12-20T00:00:00",
          "2023-12-21T00:00:00",
          "2023-12-22T00:00:00",
          "2023-12-23T00:00:00",
          "2023-12-24T00:00:00",
          "2023-12-25T00:00:00",
          "2023-12-26T00:00:00",
          "2023-12-27T00:00:00",
          "2023-12-28T00:00:00",
          "2023-12-29T00:00:00",
          "2023-12-30T00:00:00",
          "2023-12-31T00:00:00",
          "2024-01-01T00:00:00",
          "2024-01-02T00:00:00",
          "2024-01-03T00:00:00",
          "2024-01-04T00:00:00",
          "2024-01-05T00:00:00",
          "2024-01-06T00:00:00"
         ],
         "y": [
          108496.63462859827,
          86290.58464275666,
          138060.40755853677,
          106359.74483569534,
          98384.94424420806,
          94674.92080475205,
          109559.92852225757,
          100574.66800465222,
          104971.28579573783,
          91450.1951519375,
          91640.78175241333,
          86733.38154691,
          84226.13491457333,
          84228.74656432527,
          83056.048457625,
          108492.908690375,
          93730.9179045,
          110885.011515,
          80960.27284545833,
          77765.640272875,
          143640.61708560417,
          86753.58742921354,
          97266.92530708334,
          157828.22680614583,
          144740.910454375,
          136245.24659940705,
          105111.88719003205,
          116647.71920834375,
          118088.00975291667,
          101315.12488966667,
          111874.97597064583,
          140909.90974564583,
          141918.02850556248,
          125420.5232286,
          134389.3381024375,
          104793.98480396142,
          121880.21265106944,
          108936.00604161875,
          126912.66160891666,
          123014.22707587501,
          111932.693954625,
          118185.91863139166,
          145386.5926893125,
          145672.697353,
          179432.6892554236,
          166497.90280605556,
          130453.43710444444,
          110963.20585968332,
          217011.20728690416,
          156459.40209483332,
          160880.8334703125,
          201422.67548116666,
          108751.94945554722,
          109139.99285228532,
          105596.63362389445,
          269821.3100605896,
          184514.54560864388,
          248880.92102779585,
          132972.33770097274,
          122429.69456364351,
          124282.17300098698,
          162826.41667295832,
          164148.64224472916,
          162387.477766325,
          178262.34883705302,
          165452.95838675,
          137737.56990811363,
          143598.12399616666,
          147413.62202137877,
          176567.59220345152,
          204178.8712400884,
          197884.56201982388,
          174544.55821561365,
          156909.23883737216,
          47888.045183,
          45852.407392999994,
          44838.816881,
          250818.30990735133,
          248821.9549446155,
          234735.22812853032,
          231805.86960172158,
          241580.31688991666,
          239807.4192148347,
          333174.2778451875,
          304983.1224596629,
          323204.2103529129,
          314038.30033829546,
          241622.75360748376,
          220721.80500015558,
          200833.93904118182,
          235964.73972578504,
          240031.09923229166,
          247911.24620008335,
          228460.9258420974,
          232387.28929826722,
          203515.64092202878,
          195127.62118341235,
          200636.61814898092,
          241376.30792300001,
          233473.8397194,
          236893.2824835602,
          233825.52046025972,
          216879.6978921894,
          204276.803363078,
          215595.042044,
          194486.65758016665,
          193904.38284687497,
          193347.96709915908,
          205132.23772523864,
          187101.883020375,
          198363.65040512502,
          187520.385372875,
          176039.22515820834,
          172969.44663201136,
          170488.39502629166,
          188072.7732052898,
          144309.6492741856,
          150442.1346408409,
          159378.90502910985,
          155972.91626900758,
          212290.0627446534,
          192193.26144752273,
          194805.71110809848,
          208925.74886180303,
          195949.3950723384,
          164519.5135863712,
          167544.72014315153,
          198083.18837377272,
          185656.77428834848,
          178273.26180160607,
          185060.903796375,
          167672.855571,
          165530.62464833335,
          148523.32891041666,
          128209.79335320834,
          124284.79014825,
          120828.04380541666,
          104570.30392675001,
          151569.63662425,
          139151.664663375,
          122928.295954875,
          130106.96976558333,
          134129.41218327137,
          133005.25996937027,
          134953.924098625,
          131495.60154425,
          127649.544608625,
          125171.97486816668,
          130230.37457875001,
          138319.22448925002,
          140505.11740333334,
          152543.81863066665,
          103477.54127850001,
          102457.01490750001,
          105952.08116179169,
          97889.90639689584,
          97031.58854266666,
          89427.13842974999,
          133675.29805141667,
          93445.77756325,
          96119.51189216667,
          100713.370258375,
          90960.10278883333,
          106775.10429791667,
          95650.2247316875,
          144003.91636475,
          94733.23515333334,
          96657.766595,
          102047.117149375,
          99995.37317470834,
          101140.485777125,
          98517.86756716667,
          114598.07863647916,
          94435.59616683333,
          95906.8541970625,
          93086.01800724998,
          106565.58480224998,
          117020.7007584375,
          115385.19816108333,
          122331.51186462499,
          144192.71069824998,
          147509.01564329167,
          170257.39843508333,
          146978.382223,
          142795.52210108333,
          122788.89205358333,
          151160.38219139772,
          140425.74620736743,
          136620.27019151012,
          142137.08908297349,
          139462.98921995834,
          150255.465241125,
          120695.55945575,
          130205.08426462498,
          142381.87193020832,
          134989.16782995834,
          133794.243341625,
          112323.07451891666,
          127183.09009345833,
          108235.851132,
          110028.07241041667,
          110526.59335575002,
          108418.32038370831,
          117731.47069166668,
          153055.4334579583,
          160060.61100035414,
          140959.95795002626,
          131529.69985526602,
          126758.57973978676,
          128181.33371412498,
          122681.48823631971,
          119557.64830742031,
          105561.01573130723,
          108602.43791242597,
          117124.98278889773,
          117387.06477058333,
          99553.04857386362,
          90044.4889625,
          111409.82564512499,
          111880.95882399999,
          102983.14091950002,
          133154.890103,
          99967.212892,
          97542.9380351875,
          96368.0094805,
          98662.9447486875,
          94486.96131310001,
          88681.421001625,
          118250.18182113324,
          87572.6300596108,
          82800.712502375,
          67090.81478249679,
          89824.44635185417,
          89913.40608507051,
          72605.69996641186,
          77590.8042359952,
          71281.64205530769,
          70565.45178215385,
          69801.49585533653,
          71142.23355447756,
          52648.71776285577,
          48935.7593289391,
          46693.913055538455,
          56050.18383492628,
          46361.53723348878,
          45623.57615919231,
          57512.414909024046,
          48493.25632094231,
          44857.12102093269,
          45640.420226942304,
          47206.92350332372,
          45067.582421426276,
          44314.524000740385,
          62030.344819461534,
          72506.78341557282,
          62370.614542836534,
          63951.16143094871,
          60554.145389769226,
          63392.62944972115,
          72261.60433392307,
          74226.85293036485,
          67447.85916826922,
          61799.40764757692,
          64231.173882333336,
          57302.666026576924,
          56719.16676671795,
          50936.18752772115,
          65284.051191644234,
          69128.7253635673,
          71773.7364350641,
          97621.44608947435,
          200401.490700625,
          88461.22031600961,
          89546.12930263461,
          92965.2760865,
          97099.86898688035,
          92790.9843775,
          114779.87627433929,
          123289.05416893751,
          108282.6702195,
          110642.2604415,
          117461.1008145,
          107939.69125075001,
          107394.44851833335,
          98172.62000425,
          106266.4610965,
          108383.03609325,
          103535.07363095833,
          113992.59802645833,
          106187.5895313937,
          99179.76709708333,
          95134.954139,
          102111.919442125,
          133361.58264474082,
          144090.24858756966,
          114151.41710579167,
          144199.1703340893,
          133500.065279625,
          131942.93327011904,
          193529.705430875,
          100557.09109008333,
          85564.83825266667,
          82958.57196555042,
          90485.95854537499,
          98235.559242,
          91321.02384029166,
          94381.20005266667,
          97407.57354214149,
          81444.56682475,
          83378.69799338025,
          84538.6592845,
          80987.6816565,
          83712.54672525,
          275720.452922875,
          96302.22764900001,
          98479.5973385,
          140927.95710854165,
          134644.530362625,
          130549.00934391668,
          223842.5527192197,
          87862.57500808334,
          95615.11430704166,
          72663.097748125,
          61781.477682000004,
          63701.15380120833,
          80570.539593375,
          101454.26414591666,
          93233.1838681875,
          97275.35197376326,
          71598.93407251516,
          68363.9827675303,
          73221.70654745834,
          76254.3301975,
          77332.59804077083,
          65975.27186378134,
          60716.97882766666,
          56788.82005675563,
          52828.34900208333,
          58198.53247333333,
          59322.23487072917,
          60663.21465702083,
          57614.934203583325,
          52467.672275749996,
          51424.8572778307,
          49248.05283770833,
          51069.000080791666,
          56100.17508778902,
          51744.2365858125,
          45875.111772625,
          54293.534808955694,
          40664.025696,
          42698.498493458326,
          47675.8960858307,
          73495.532090375,
          71002.3555348476,
          52807.42163625,
          48972.92675033333,
          58120.50811816666,
          76970.89477769812,
          50947.76966,
          51953.366193666654,
          58825.264454875,
          47725.81969875,
          47944.29971335417,
          76285.49297974112
         ]
        }
       ],
       "layout": {
        "legend": {
         "title": {
          "text": "Type of Revenue"
         }
        },
        "template": {
         "data": {
          "bar": [
           {
            "error_x": {
             "color": "#2a3f5f"
            },
            "error_y": {
             "color": "#2a3f5f"
            },
            "marker": {
             "line": {
              "color": "#E5ECF6",
              "width": 0.5
             },
             "pattern": {
              "fillmode": "overlay",
              "size": 10,
              "solidity": 0.2
             }
            },
            "type": "bar"
           }
          ],
          "barpolar": [
           {
            "marker": {
             "line": {
              "color": "#E5ECF6",
              "width": 0.5
             },
             "pattern": {
              "fillmode": "overlay",
              "size": 10,
              "solidity": 0.2
             }
            },
            "type": "barpolar"
           }
          ],
          "carpet": [
           {
            "aaxis": {
             "endlinecolor": "#2a3f5f",
             "gridcolor": "white",
             "linecolor": "white",
             "minorgridcolor": "white",
             "startlinecolor": "#2a3f5f"
            },
            "baxis": {
             "endlinecolor": "#2a3f5f",
             "gridcolor": "white",
             "linecolor": "white",
             "minorgridcolor": "white",
             "startlinecolor": "#2a3f5f"
            },
            "type": "carpet"
           }
          ],
          "choropleth": [
           {
            "colorbar": {
             "outlinewidth": 0,
             "ticks": ""
            },
            "type": "choropleth"
           }
          ],
          "contour": [
           {
            "colorbar": {
             "outlinewidth": 0,
             "ticks": ""
            },
            "colorscale": [
             [
              0,
              "#0d0887"
             ],
             [
              0.1111111111111111,
              "#46039f"
             ],
             [
              0.2222222222222222,
              "#7201a8"
             ],
             [
              0.3333333333333333,
              "#9c179e"
             ],
             [
              0.4444444444444444,
              "#bd3786"
             ],
             [
              0.5555555555555556,
              "#d8576b"
             ],
             [
              0.6666666666666666,
              "#ed7953"
             ],
             [
              0.7777777777777778,
              "#fb9f3a"
             ],
             [
              0.8888888888888888,
              "#fdca26"
             ],
             [
              1,
              "#f0f921"
             ]
            ],
            "type": "contour"
           }
          ],
          "contourcarpet": [
           {
            "colorbar": {
             "outlinewidth": 0,
             "ticks": ""
            },
            "type": "contourcarpet"
           }
          ],
          "heatmap": [
           {
            "colorbar": {
             "outlinewidth": 0,
             "ticks": ""
            },
            "colorscale": [
             [
              0,
              "#0d0887"
             ],
             [
              0.1111111111111111,
              "#46039f"
             ],
             [
              0.2222222222222222,
              "#7201a8"
             ],
             [
              0.3333333333333333,
              "#9c179e"
             ],
             [
              0.4444444444444444,
              "#bd3786"
             ],
             [
              0.5555555555555556,
              "#d8576b"
             ],
             [
              0.6666666666666666,
              "#ed7953"
             ],
             [
              0.7777777777777778,
              "#fb9f3a"
             ],
             [
              0.8888888888888888,
              "#fdca26"
             ],
             [
              1,
              "#f0f921"
             ]
            ],
            "type": "heatmap"
           }
          ],
          "heatmapgl": [
           {
            "colorbar": {
             "outlinewidth": 0,
             "ticks": ""
            },
            "colorscale": [
             [
              0,
              "#0d0887"
             ],
             [
              0.1111111111111111,
              "#46039f"
             ],
             [
              0.2222222222222222,
              "#7201a8"
             ],
             [
              0.3333333333333333,
              "#9c179e"
             ],
             [
              0.4444444444444444,
              "#bd3786"
             ],
             [
              0.5555555555555556,
              "#d8576b"
             ],
             [
              0.6666666666666666,
              "#ed7953"
             ],
             [
              0.7777777777777778,
              "#fb9f3a"
             ],
             [
              0.8888888888888888,
              "#fdca26"
             ],
             [
              1,
              "#f0f921"
             ]
            ],
            "type": "heatmapgl"
           }
          ],
          "histogram": [
           {
            "marker": {
             "pattern": {
              "fillmode": "overlay",
              "size": 10,
              "solidity": 0.2
             }
            },
            "type": "histogram"
           }
          ],
          "histogram2d": [
           {
            "colorbar": {
             "outlinewidth": 0,
             "ticks": ""
            },
            "colorscale": [
             [
              0,
              "#0d0887"
             ],
             [
              0.1111111111111111,
              "#46039f"
             ],
             [
              0.2222222222222222,
              "#7201a8"
             ],
             [
              0.3333333333333333,
              "#9c179e"
             ],
             [
              0.4444444444444444,
              "#bd3786"
             ],
             [
              0.5555555555555556,
              "#d8576b"
             ],
             [
              0.6666666666666666,
              "#ed7953"
             ],
             [
              0.7777777777777778,
              "#fb9f3a"
             ],
             [
              0.8888888888888888,
              "#fdca26"
             ],
             [
              1,
              "#f0f921"
             ]
            ],
            "type": "histogram2d"
           }
          ],
          "histogram2dcontour": [
           {
            "colorbar": {
             "outlinewidth": 0,
             "ticks": ""
            },
            "colorscale": [
             [
              0,
              "#0d0887"
             ],
             [
              0.1111111111111111,
              "#46039f"
             ],
             [
              0.2222222222222222,
              "#7201a8"
             ],
             [
              0.3333333333333333,
              "#9c179e"
             ],
             [
              0.4444444444444444,
              "#bd3786"
             ],
             [
              0.5555555555555556,
              "#d8576b"
             ],
             [
              0.6666666666666666,
              "#ed7953"
             ],
             [
              0.7777777777777778,
              "#fb9f3a"
             ],
             [
              0.8888888888888888,
              "#fdca26"
             ],
             [
              1,
              "#f0f921"
             ]
            ],
            "type": "histogram2dcontour"
           }
          ],
          "mesh3d": [
           {
            "colorbar": {
             "outlinewidth": 0,
             "ticks": ""
            },
            "type": "mesh3d"
           }
          ],
          "parcoords": [
           {
            "line": {
             "colorbar": {
              "outlinewidth": 0,
              "ticks": ""
             }
            },
            "type": "parcoords"
           }
          ],
          "pie": [
           {
            "automargin": true,
            "type": "pie"
           }
          ],
          "scatter": [
           {
            "fillpattern": {
             "fillmode": "overlay",
             "size": 10,
             "solidity": 0.2
            },
            "type": "scatter"
           }
          ],
          "scatter3d": [
           {
            "line": {
             "colorbar": {
              "outlinewidth": 0,
              "ticks": ""
             }
            },
            "marker": {
             "colorbar": {
              "outlinewidth": 0,
              "ticks": ""
             }
            },
            "type": "scatter3d"
           }
          ],
          "scattercarpet": [
           {
            "marker": {
             "colorbar": {
              "outlinewidth": 0,
              "ticks": ""
             }
            },
            "type": "scattercarpet"
           }
          ],
          "scattergeo": [
           {
            "marker": {
             "colorbar": {
              "outlinewidth": 0,
              "ticks": ""
             }
            },
            "type": "scattergeo"
           }
          ],
          "scattergl": [
           {
            "marker": {
             "colorbar": {
              "outlinewidth": 0,
              "ticks": ""
             }
            },
            "type": "scattergl"
           }
          ],
          "scattermapbox": [
           {
            "marker": {
             "colorbar": {
              "outlinewidth": 0,
              "ticks": ""
             }
            },
            "type": "scattermapbox"
           }
          ],
          "scatterpolar": [
           {
            "marker": {
             "colorbar": {
              "outlinewidth": 0,
              "ticks": ""
             }
            },
            "type": "scatterpolar"
           }
          ],
          "scatterpolargl": [
           {
            "marker": {
             "colorbar": {
              "outlinewidth": 0,
              "ticks": ""
             }
            },
            "type": "scatterpolargl"
           }
          ],
          "scatterternary": [
           {
            "marker": {
             "colorbar": {
              "outlinewidth": 0,
              "ticks": ""
             }
            },
            "type": "scatterternary"
           }
          ],
          "surface": [
           {
            "colorbar": {
             "outlinewidth": 0,
             "ticks": ""
            },
            "colorscale": [
             [
              0,
              "#0d0887"
             ],
             [
              0.1111111111111111,
              "#46039f"
             ],
             [
              0.2222222222222222,
              "#7201a8"
             ],
             [
              0.3333333333333333,
              "#9c179e"
             ],
             [
              0.4444444444444444,
              "#bd3786"
             ],
             [
              0.5555555555555556,
              "#d8576b"
             ],
             [
              0.6666666666666666,
              "#ed7953"
             ],
             [
              0.7777777777777778,
              "#fb9f3a"
             ],
             [
              0.8888888888888888,
              "#fdca26"
             ],
             [
              1,
              "#f0f921"
             ]
            ],
            "type": "surface"
           }
          ],
          "table": [
           {
            "cells": {
             "fill": {
              "color": "#EBF0F8"
             },
             "line": {
              "color": "white"
             }
            },
            "header": {
             "fill": {
              "color": "#C8D4E3"
             },
             "line": {
              "color": "white"
             }
            },
            "type": "table"
           }
          ]
         },
         "layout": {
          "annotationdefaults": {
           "arrowcolor": "#2a3f5f",
           "arrowhead": 0,
           "arrowwidth": 1
          },
          "autotypenumbers": "strict",
          "coloraxis": {
           "colorbar": {
            "outlinewidth": 0,
            "ticks": ""
           }
          },
          "colorscale": {
           "diverging": [
            [
             0,
             "#8e0152"
            ],
            [
             0.1,
             "#c51b7d"
            ],
            [
             0.2,
             "#de77ae"
            ],
            [
             0.3,
             "#f1b6da"
            ],
            [
             0.4,
             "#fde0ef"
            ],
            [
             0.5,
             "#f7f7f7"
            ],
            [
             0.6,
             "#e6f5d0"
            ],
            [
             0.7,
             "#b8e186"
            ],
            [
             0.8,
             "#7fbc41"
            ],
            [
             0.9,
             "#4d9221"
            ],
            [
             1,
             "#276419"
            ]
           ],
           "sequential": [
            [
             0,
             "#0d0887"
            ],
            [
             0.1111111111111111,
             "#46039f"
            ],
            [
             0.2222222222222222,
             "#7201a8"
            ],
            [
             0.3333333333333333,
             "#9c179e"
            ],
            [
             0.4444444444444444,
             "#bd3786"
            ],
            [
             0.5555555555555556,
             "#d8576b"
            ],
            [
             0.6666666666666666,
             "#ed7953"
            ],
            [
             0.7777777777777778,
             "#fb9f3a"
            ],
            [
             0.8888888888888888,
             "#fdca26"
            ],
            [
             1,
             "#f0f921"
            ]
           ],
           "sequentialminus": [
            [
             0,
             "#0d0887"
            ],
            [
             0.1111111111111111,
             "#46039f"
            ],
            [
             0.2222222222222222,
             "#7201a8"
            ],
            [
             0.3333333333333333,
             "#9c179e"
            ],
            [
             0.4444444444444444,
             "#bd3786"
            ],
            [
             0.5555555555555556,
             "#d8576b"
            ],
            [
             0.6666666666666666,
             "#ed7953"
            ],
            [
             0.7777777777777778,
             "#fb9f3a"
            ],
            [
             0.8888888888888888,
             "#fdca26"
            ],
            [
             1,
             "#f0f921"
            ]
           ]
          },
          "colorway": [
           "#636efa",
           "#EF553B",
           "#00cc96",
           "#ab63fa",
           "#FFA15A",
           "#19d3f3",
           "#FF6692",
           "#B6E880",
           "#FF97FF",
           "#FECB52"
          ],
          "font": {
           "color": "#2a3f5f"
          },
          "geo": {
           "bgcolor": "white",
           "lakecolor": "white",
           "landcolor": "#E5ECF6",
           "showlakes": true,
           "showland": true,
           "subunitcolor": "white"
          },
          "hoverlabel": {
           "align": "left"
          },
          "hovermode": "closest",
          "mapbox": {
           "style": "light"
          },
          "paper_bgcolor": "white",
          "plot_bgcolor": "#E5ECF6",
          "polar": {
           "angularaxis": {
            "gridcolor": "white",
            "linecolor": "white",
            "ticks": ""
           },
           "bgcolor": "#E5ECF6",
           "radialaxis": {
            "gridcolor": "white",
            "linecolor": "white",
            "ticks": ""
           }
          },
          "scene": {
           "xaxis": {
            "backgroundcolor": "#E5ECF6",
            "gridcolor": "white",
            "gridwidth": 2,
            "linecolor": "white",
            "showbackground": true,
            "ticks": "",
            "zerolinecolor": "white"
           },
           "yaxis": {
            "backgroundcolor": "#E5ECF6",
            "gridcolor": "white",
            "gridwidth": 2,
            "linecolor": "white",
            "showbackground": true,
            "ticks": "",
            "zerolinecolor": "white"
           },
           "zaxis": {
            "backgroundcolor": "#E5ECF6",
            "gridcolor": "white",
            "gridwidth": 2,
            "linecolor": "white",
            "showbackground": true,
            "ticks": "",
            "zerolinecolor": "white"
           }
          },
          "shapedefaults": {
           "line": {
            "color": "#2a3f5f"
           }
          },
          "ternary": {
           "aaxis": {
            "gridcolor": "white",
            "linecolor": "white",
            "ticks": ""
           },
           "baxis": {
            "gridcolor": "white",
            "linecolor": "white",
            "ticks": ""
           },
           "bgcolor": "#E5ECF6",
           "caxis": {
            "gridcolor": "white",
            "linecolor": "white",
            "ticks": ""
           }
          },
          "title": {
           "x": 0.05
          },
          "xaxis": {
           "automargin": true,
           "gridcolor": "white",
           "linecolor": "white",
           "ticks": "",
           "title": {
            "standoff": 15
           },
           "zerolinecolor": "white",
           "zerolinewidth": 2
          },
          "yaxis": {
           "automargin": true,
           "gridcolor": "white",
           "linecolor": "white",
           "ticks": "",
           "title": {
            "standoff": 15
           },
           "zerolinecolor": "white",
           "zerolinewidth": 2
          }
         }
        },
        "title": {
         "text": "1P vs. 3P Revenue Over Time"
        },
        "xaxis": {
         "rangeselector": {
          "buttons": [
           {
            "count": 1,
            "label": "1M",
            "step": "month",
            "stepmode": "backward"
           },
           {
            "count": 6,
            "label": "6M",
            "step": "month",
            "stepmode": "backward"
           },
           {
            "step": "all"
           }
          ]
         },
         "title": {
          "text": "Date"
         },
         "type": "date"
        },
        "yaxis": {
         "title": {
          "text": "Revenue"
         }
        }
       }
      },
      "text/html": [
       "<div>                            <div id=\"97ed5f38-ab3a-4b9a-9bce-a191c3a3fd4a\" class=\"plotly-graph-div\" style=\"height:525px; width:100%;\"></div>            <script type=\"text/javascript\">                require([\"plotly\"], function(Plotly) {                    window.PLOTLYENV=window.PLOTLYENV || {};                                    if (document.getElementById(\"97ed5f38-ab3a-4b9a-9bce-a191c3a3fd4a\")) {                    Plotly.newPlot(                        \"97ed5f38-ab3a-4b9a-9bce-a191c3a3fd4a\",                        [{\"mode\":\"lines\",\"name\":\"1P Revenue\",\"x\":[\"2023-01-07T00:00:00\",\"2023-01-08T00:00:00\",\"2023-01-09T00:00:00\",\"2023-01-10T00:00:00\",\"2023-01-11T00:00:00\",\"2023-01-12T00:00:00\",\"2023-01-13T00:00:00\",\"2023-01-14T00:00:00\",\"2023-01-15T00:00:00\",\"2023-01-16T00:00:00\",\"2023-01-17T00:00:00\",\"2023-01-18T00:00:00\",\"2023-01-19T00:00:00\",\"2023-01-20T00:00:00\",\"2023-01-21T00:00:00\",\"2023-01-22T00:00:00\",\"2023-01-23T00:00:00\",\"2023-01-24T00:00:00\",\"2023-01-25T00:00:00\",\"2023-01-26T00:00:00\",\"2023-01-27T00:00:00\",\"2023-01-28T00:00:00\",\"2023-01-29T00:00:00\",\"2023-01-30T00:00:00\",\"2023-01-31T00:00:00\",\"2023-02-01T00:00:00\",\"2023-02-02T00:00:00\",\"2023-02-03T00:00:00\",\"2023-02-04T00:00:00\",\"2023-02-05T00:00:00\",\"2023-02-06T00:00:00\",\"2023-02-07T00:00:00\",\"2023-02-08T00:00:00\",\"2023-02-09T00:00:00\",\"2023-02-10T00:00:00\",\"2023-02-11T00:00:00\",\"2023-02-12T00:00:00\",\"2023-02-13T00:00:00\",\"2023-02-14T00:00:00\",\"2023-02-15T00:00:00\",\"2023-02-16T00:00:00\",\"2023-02-17T00:00:00\",\"2023-02-18T00:00:00\",\"2023-02-19T00:00:00\",\"2023-02-20T00:00:00\",\"2023-02-21T00:00:00\",\"2023-02-22T00:00:00\",\"2023-02-23T00:00:00\",\"2023-02-24T00:00:00\",\"2023-02-25T00:00:00\",\"2023-02-26T00:00:00\",\"2023-02-27T00:00:00\",\"2023-02-28T00:00:00\",\"2023-03-01T00:00:00\",\"2023-03-02T00:00:00\",\"2023-03-03T00:00:00\",\"2023-03-04T00:00:00\",\"2023-03-05T00:00:00\",\"2023-03-06T00:00:00\",\"2023-03-07T00:00:00\",\"2023-03-08T00:00:00\",\"2023-03-09T00:00:00\",\"2023-03-10T00:00:00\",\"2023-03-11T00:00:00\",\"2023-03-12T00:00:00\",\"2023-03-13T00:00:00\",\"2023-03-14T00:00:00\",\"2023-03-15T00:00:00\",\"2023-03-16T00:00:00\",\"2023-03-17T00:00:00\",\"2023-03-18T00:00:00\",\"2023-03-19T00:00:00\",\"2023-03-20T00:00:00\",\"2023-03-21T00:00:00\",\"2023-03-22T00:00:00\",\"2023-03-23T00:00:00\",\"2023-03-24T00:00:00\",\"2023-03-25T00:00:00\",\"2023-03-26T00:00:00\",\"2023-03-27T00:00:00\",\"2023-03-28T00:00:00\",\"2023-03-29T00:00:00\",\"2023-03-30T00:00:00\",\"2023-03-31T00:00:00\",\"2023-04-01T00:00:00\",\"2023-04-02T00:00:00\",\"2023-04-03T00:00:00\",\"2023-04-04T00:00:00\",\"2023-04-05T00:00:00\",\"2023-04-06T00:00:00\",\"2023-04-07T00:00:00\",\"2023-04-08T00:00:00\",\"2023-04-09T00:00:00\",\"2023-04-10T00:00:00\",\"2023-04-11T00:00:00\",\"2023-04-12T00:00:00\",\"2023-04-13T00:00:00\",\"2023-04-14T00:00:00\",\"2023-04-15T00:00:00\",\"2023-04-16T00:00:00\",\"2023-04-17T00:00:00\",\"2023-04-18T00:00:00\",\"2023-04-19T00:00:00\",\"2023-04-20T00:00:00\",\"2023-04-21T00:00:00\",\"2023-04-22T00:00:00\",\"2023-04-23T00:00:00\",\"2023-04-24T00:00:00\",\"2023-04-25T00:00:00\",\"2023-04-26T00:00:00\",\"2023-04-27T00:00:00\",\"2023-04-28T00:00:00\",\"2023-04-29T00:00:00\",\"2023-04-30T00:00:00\",\"2023-05-01T00:00:00\",\"2023-05-02T00:00:00\",\"2023-05-03T00:00:00\",\"2023-05-04T00:00:00\",\"2023-05-05T00:00:00\",\"2023-05-06T00:00:00\",\"2023-05-07T00:00:00\",\"2023-05-08T00:00:00\",\"2023-05-09T00:00:00\",\"2023-05-10T00:00:00\",\"2023-05-11T00:00:00\",\"2023-05-12T00:00:00\",\"2023-05-13T00:00:00\",\"2023-05-14T00:00:00\",\"2023-05-15T00:00:00\",\"2023-05-16T00:00:00\",\"2023-05-17T00:00:00\",\"2023-05-18T00:00:00\",\"2023-05-19T00:00:00\",\"2023-05-20T00:00:00\",\"2023-05-21T00:00:00\",\"2023-05-22T00:00:00\",\"2023-05-23T00:00:00\",\"2023-05-24T00:00:00\",\"2023-05-25T00:00:00\",\"2023-05-26T00:00:00\",\"2023-05-27T00:00:00\",\"2023-05-28T00:00:00\",\"2023-05-29T00:00:00\",\"2023-05-30T00:00:00\",\"2023-05-31T00:00:00\",\"2023-06-01T00:00:00\",\"2023-06-02T00:00:00\",\"2023-06-03T00:00:00\",\"2023-06-04T00:00:00\",\"2023-06-05T00:00:00\",\"2023-06-06T00:00:00\",\"2023-06-07T00:00:00\",\"2023-06-08T00:00:00\",\"2023-06-09T00:00:00\",\"2023-06-10T00:00:00\",\"2023-06-11T00:00:00\",\"2023-06-12T00:00:00\",\"2023-06-13T00:00:00\",\"2023-06-14T00:00:00\",\"2023-06-15T00:00:00\",\"2023-06-16T00:00:00\",\"2023-06-17T00:00:00\",\"2023-06-18T00:00:00\",\"2023-06-19T00:00:00\",\"2023-06-20T00:00:00\",\"2023-06-21T00:00:00\",\"2023-06-22T00:00:00\",\"2023-06-23T00:00:00\",\"2023-06-24T00:00:00\",\"2023-06-25T00:00:00\",\"2023-06-26T00:00:00\",\"2023-06-27T00:00:00\",\"2023-06-28T00:00:00\",\"2023-06-29T00:00:00\",\"2023-06-30T00:00:00\",\"2023-07-01T00:00:00\",\"2023-07-02T00:00:00\",\"2023-07-03T00:00:00\",\"2023-07-04T00:00:00\",\"2023-07-05T00:00:00\",\"2023-07-06T00:00:00\",\"2023-07-07T00:00:00\",\"2023-07-08T00:00:00\",\"2023-07-09T00:00:00\",\"2023-07-10T00:00:00\",\"2023-07-11T00:00:00\",\"2023-07-12T00:00:00\",\"2023-07-13T00:00:00\",\"2023-07-14T00:00:00\",\"2023-07-15T00:00:00\",\"2023-07-16T00:00:00\",\"2023-07-17T00:00:00\",\"2023-07-18T00:00:00\",\"2023-07-19T00:00:00\",\"2023-07-20T00:00:00\",\"2023-07-21T00:00:00\",\"2023-07-22T00:00:00\",\"2023-07-23T00:00:00\",\"2023-07-24T00:00:00\",\"2023-07-25T00:00:00\",\"2023-07-26T00:00:00\",\"2023-07-27T00:00:00\",\"2023-07-28T00:00:00\",\"2023-07-29T00:00:00\",\"2023-07-30T00:00:00\",\"2023-07-31T00:00:00\",\"2023-08-01T00:00:00\",\"2023-08-02T00:00:00\",\"2023-08-03T00:00:00\",\"2023-08-04T00:00:00\",\"2023-08-05T00:00:00\",\"2023-08-06T00:00:00\",\"2023-08-07T00:00:00\",\"2023-08-08T00:00:00\",\"2023-08-09T00:00:00\",\"2023-08-10T00:00:00\",\"2023-08-11T00:00:00\",\"2023-08-12T00:00:00\",\"2023-08-13T00:00:00\",\"2023-08-14T00:00:00\",\"2023-08-15T00:00:00\",\"2023-08-16T00:00:00\",\"2023-08-17T00:00:00\",\"2023-08-18T00:00:00\",\"2023-08-19T00:00:00\",\"2023-08-20T00:00:00\",\"2023-08-21T00:00:00\",\"2023-08-22T00:00:00\",\"2023-08-23T00:00:00\",\"2023-08-24T00:00:00\",\"2023-08-25T00:00:00\",\"2023-08-26T00:00:00\",\"2023-08-27T00:00:00\",\"2023-08-28T00:00:00\",\"2023-08-29T00:00:00\",\"2023-08-30T00:00:00\",\"2023-08-31T00:00:00\",\"2023-09-01T00:00:00\",\"2023-09-02T00:00:00\",\"2023-09-03T00:00:00\",\"2023-09-04T00:00:00\",\"2023-09-05T00:00:00\",\"2023-09-06T00:00:00\",\"2023-09-07T00:00:00\",\"2023-09-08T00:00:00\",\"2023-09-09T00:00:00\",\"2023-09-10T00:00:00\",\"2023-09-11T00:00:00\",\"2023-09-12T00:00:00\",\"2023-09-13T00:00:00\",\"2023-09-14T00:00:00\",\"2023-09-15T00:00:00\",\"2023-09-16T00:00:00\",\"2023-09-17T00:00:00\",\"2023-09-18T00:00:00\",\"2023-09-19T00:00:00\",\"2023-09-20T00:00:00\",\"2023-09-21T00:00:00\",\"2023-09-22T00:00:00\",\"2023-09-23T00:00:00\",\"2023-09-24T00:00:00\",\"2023-09-25T00:00:00\",\"2023-09-26T00:00:00\",\"2023-09-27T00:00:00\",\"2023-09-28T00:00:00\",\"2023-09-29T00:00:00\",\"2023-09-30T00:00:00\",\"2023-10-01T00:00:00\",\"2023-10-02T00:00:00\",\"2023-10-03T00:00:00\",\"2023-10-04T00:00:00\",\"2023-10-05T00:00:00\",\"2023-10-06T00:00:00\",\"2023-10-07T00:00:00\",\"2023-10-08T00:00:00\",\"2023-10-09T00:00:00\",\"2023-10-10T00:00:00\",\"2023-10-11T00:00:00\",\"2023-10-12T00:00:00\",\"2023-10-13T00:00:00\",\"2023-10-14T00:00:00\",\"2023-10-15T00:00:00\",\"2023-10-16T00:00:00\",\"2023-10-17T00:00:00\",\"2023-10-18T00:00:00\",\"2023-10-19T00:00:00\",\"2023-10-20T00:00:00\",\"2023-10-21T00:00:00\",\"2023-10-22T00:00:00\",\"2023-10-23T00:00:00\",\"2023-10-24T00:00:00\",\"2023-10-25T00:00:00\",\"2023-10-26T00:00:00\",\"2023-10-27T00:00:00\",\"2023-10-28T00:00:00\",\"2023-10-29T00:00:00\",\"2023-10-30T00:00:00\",\"2023-10-31T00:00:00\",\"2023-11-01T00:00:00\",\"2023-11-02T00:00:00\",\"2023-11-03T00:00:00\",\"2023-11-04T00:00:00\",\"2023-11-05T00:00:00\",\"2023-11-06T00:00:00\",\"2023-11-07T00:00:00\",\"2023-11-08T00:00:00\",\"2023-11-09T00:00:00\",\"2023-11-10T00:00:00\",\"2023-11-11T00:00:00\",\"2023-11-12T00:00:00\",\"2023-11-13T00:00:00\",\"2023-11-14T00:00:00\",\"2023-11-15T00:00:00\",\"2023-11-16T00:00:00\",\"2023-11-17T00:00:00\",\"2023-11-18T00:00:00\",\"2023-11-19T00:00:00\",\"2023-11-20T00:00:00\",\"2023-11-21T00:00:00\",\"2023-11-22T00:00:00\",\"2023-11-23T00:00:00\",\"2023-11-24T00:00:00\",\"2023-11-25T00:00:00\",\"2023-11-26T00:00:00\",\"2023-11-27T00:00:00\",\"2023-11-28T00:00:00\",\"2023-11-29T00:00:00\",\"2023-11-30T00:00:00\",\"2023-12-01T00:00:00\",\"2023-12-02T00:00:00\",\"2023-12-03T00:00:00\",\"2023-12-04T00:00:00\",\"2023-12-05T00:00:00\",\"2023-12-06T00:00:00\",\"2023-12-07T00:00:00\",\"2023-12-08T00:00:00\",\"2023-12-09T00:00:00\",\"2023-12-10T00:00:00\",\"2023-12-11T00:00:00\",\"2023-12-12T00:00:00\",\"2023-12-13T00:00:00\",\"2023-12-14T00:00:00\",\"2023-12-15T00:00:00\",\"2023-12-16T00:00:00\",\"2023-12-17T00:00:00\",\"2023-12-18T00:00:00\",\"2023-12-19T00:00:00\",\"2023-12-20T00:00:00\",\"2023-12-21T00:00:00\",\"2023-12-22T00:00:00\",\"2023-12-23T00:00:00\",\"2023-12-24T00:00:00\",\"2023-12-25T00:00:00\",\"2023-12-26T00:00:00\",\"2023-12-27T00:00:00\",\"2023-12-28T00:00:00\",\"2023-12-29T00:00:00\",\"2023-12-30T00:00:00\",\"2023-12-31T00:00:00\",\"2024-01-01T00:00:00\",\"2024-01-02T00:00:00\",\"2024-01-03T00:00:00\",\"2024-01-04T00:00:00\",\"2024-01-05T00:00:00\",\"2024-01-06T00:00:00\"],\"y\":[1377975.3359693484,1397122.71686045,1350900.4888273713,1408015.325384177,1329214.0417690105,1284927.9778521522,1395502.0284957124,1323906.9379512125,1296921.7384560604,1313454.7274246614,1317679.6561393626,1339710.979142821,1342947.3072877584,1350283.53827855,1373393.4028825292,1303138.5601466543,1298933.2598975834,1389062.2431497022,1410170.666491479,1386182.7607846737,1385616.4876814876,1359431.9595454447,1289203.39789235,1313729.1984835982,1362233.318341631,1315971.4895442904,1322133.7791947988,1389384.1639620871,1505387.0302046768,1287738.9411373583,1348481.158256375,1384635.8931201166,1308279.5049099743,1384321.03943911,1533998.9587993992,1391184.1352146454,1390749.4307624246,1430472.4196230152,1440655.380031485,1479555.4954043578,1495247.2408859278,1506150.8090338768,1383291.5914400076,1287418.9179227834,1379438.723749569,1446031.9665189954,1644799.3928541364,1617068.6562259563,1448319.412711827,1606274.7976709018,1529071.1452266958,1423244.9882970238,1588621.3905835361,1526807.1916775787,1559237.709516808,1509801.9260105786,1556368.7153203827,1370553.2098571516,1442312.255505082,1544511.28423189,1466595.0519288038,1424944.2388077443,1394925.577098814,1391146.2099383378,1356777.1894085223,1408889.8822607452,1461840.140150391,1367336.4088249744,1374984.833906625,1378914.0956235272,1362715.3448947165,1295958.5294039238,1270627.4239708523,1477766.6180331632,18755.189102,18072.578314000002,22285.209548000003,1272315.0824913234,1239713.00115512,1263805.636718575,1354105.502959562,1325713.285086122,1351733.1636299393,1251634.7736881042,1253389.473989885,1266189.359672285,1276170.418989808,1287983.5727793286,1358181.374963403,1243338.4494946608,1257939.1943572396,1257154.8125957083,1195391.760218087,1203182.1471072154,1265356.7649264995,1322601.6181494093,1213846.6042059243,1202110.7741264154,1091020.3759100717,1027591.9380325215,1045093.9624684704,1112888.983187609,1034558.5409930834,1052590.603708936,1123121.1991237178,1127923.5781260275,1130564.4784852886,1176971.2660960448,1186099.6111529134,1230786.7759888303,1156899.4380591635,1178648.5418921635,1174600.4857974134,1127564.9998541635,1124610.248005891,1073032.9269892613,1154541.6794281157,1071735.9837245385,1095637.9500901634,1128549.2512867053,1014082.5997738927,1032907.6234642051,1080481.6044493718,1059838.4970798343,1052975.5441363023,1094368.0629775948,1076057.8098926635,1035209.0750041219,1025876.2335457051,1079552.3285544552,1075894.5580337443,1064546.9089873885,1068404.1697267052,1066321.997355122,1039354.9555754552,1047868.5387178884,1070799.7211856218,1106693.4774041218,1105724.6289612884,1128890.3686986635,1120369.4043188302,1083249.462122705,1067370.2803249038,1085636.9628693576,1109624.0006116636,1114756.462211105,1121776.5909494134,1124430.4265384334,1083089.29119075,1055371.589258875,1077498.9986761666,1197188.5944043333,1222919.1267290667,1171796.580801807,1161922.122440537,1110767.5471037827,1095900.1542919762,1129385.9192501,1093645.6500348335,1120921.9928735,1158336.9843102084,1165555.4159238334,1125232.1043866666,1151792.6339705833,1120214.9209283125,1181296.8665351209,1229965.0796271667,1223649.6353173333,1226219.169629875,1223849.0469519582,1194777.3885572918,1219437.5339170287,1261825.5798247196,1262241.2935115835,1286875.9253056042,1306594.9006983014,1254966.9362709166,1321251.13086183,1427355.53022625,1511031.3864378333,1519942.845772125,1552091.4410205416,1577748.4858550418,1543147.69180925,1511204.1825539167,1406013.3595291667,1202199.044116161,1168375.920220907,1390357.623089246,1518362.4171317082,1085926.0943380417,1099185.217559488,1205875.2347804783,1235608.4799641506,1168288.868350593,1163562.9940411763,1178015.6905726762,1157411.889482107,1193645.496270093,1189034.3178969435,1232472.0615388846,1222744.0067283255,1218512.6632016872,1211009.8654478013,1306820.064481843,1290165.673656947,1346190.3004317943,1324566.217109878,1315398.3587594263,1359852.6789972596,1326997.0469141346,1314814.6272336491,1246068.4602661347,1223272.3242642812,1284743.0909778366,1337607.8052758535,1219431.7308561346,1090399.1281843847,1053317.828290718,1053955.088136968,1076153.507056718,1147371.399766063,1123591.938219455,1143913.3055019064,1128891.2126559343,1083174.747090101,1093054.6963424552,1240245.7817824134,1049863.671453202,1124218.6891566785,1100228.170405875,1114610.1080458302,1113751.703284712,1110629.252604098,1105527.2760344204,1146250.7794455176,1145899.1583774167,1190843.4775300245,1125906.307360986,1143408.8878567847,1128182.022854639,1110362.179689125,1165852.300937889,1087286.9163648472,1135519.2999670764,1160154.0027670427,1113447.5443678135,1109048.318658904,1139328.1174342372,1172898.89875964,1167681.9886752788,1183961.532854,1162847.9097213473,1048989.9314693394,1044464.4491492732,1083855.8173876079,1223193.870249122,1149258.2043007885,1149682.250875266,1147501.4629196285,1123704.7276933682,1129738.8359879619,1170460.1704750592,1138736.2987689052,1231688.0008550037,1209061.8065685385,1204410.7270896563,1178250.7055755386,1187865.437075355,1247189.4099930886,1227563.134067122,1331966.4201689134,1199325.7166214024,1249745.8325129747,1270315.7666265368,1243092.2960268403,1240194.3258574747,1025878.4108185662,1058737.8161761418,1205082.1909615495,1406880.070248105,1286498.3506669549,1272054.2892826218,1220042.6192225663,1287688.2973071218,1389293.376424718,1215856.3264392,1176569.8801077916,1149380.3070545415,1140765.318603882,1120564.1477653494,1159356.727785875,1423799.6537753332,1225659.3791069284,1167618.8090851519,1110351.0932041344,1143119.4741497098,1201149.7841448102,1137438.2402955892,1388032.9030842746,1164888.03694154,1137175.8644865097,997818.7019701375,1005958.3071716097,1028719.531967769,976483.0439248594,1013165.727127377,1024788.742950615,1032788.8522988657,1020116.1866905433,992434.1421617704,983145.808382599,996463.4108554804,1031714.6221029063,1106122.7065368625,994979.2556390357,1263214.6013973958,1208156.1845138401,1203539.399421699,1180218.6056191276,1219553.845496238,1252344.9517826368,1107279.7890725827,1128481.7794396072,1099639.896214756,986459.547920625,1036799.9315255476,1208090.534882146,1229143.8340841457,1204118.7804658334,1156134.3807949584,1120184.9984384791,1144447.2452616876,1153401.1132432292,1215133.2973790609,1163142.9291138733,1128593.08450954,1082654.57074804,1047195.7655445772,1048721.9581239775,1134685.4692820192,1000936.5636534567,1018289.1613290401,1012158.7511028707,947540.6914082024,912784.8434079214,934200.3962608355,923820.8950314776,957958.721200665,972545.9872649957,1024080.1267538255,1049090.2225538972,1134750.4320232293,1175454.6720406236,1150902.4742647372,1238964.3662452486,1215834.2451374151,1250935.7685628266,1231004.2121401061,1188731.3183946332,1196065.962494255,1294615.7532376144,1292323.431861568,1250588.7826972848,1363228.7578387903],\"type\":\"scatter\"},{\"mode\":\"lines\",\"name\":\"3P Revenue\",\"x\":[\"2023-01-07T00:00:00\",\"2023-01-08T00:00:00\",\"2023-01-09T00:00:00\",\"2023-01-10T00:00:00\",\"2023-01-11T00:00:00\",\"2023-01-12T00:00:00\",\"2023-01-13T00:00:00\",\"2023-01-14T00:00:00\",\"2023-01-15T00:00:00\",\"2023-01-16T00:00:00\",\"2023-01-17T00:00:00\",\"2023-01-18T00:00:00\",\"2023-01-19T00:00:00\",\"2023-01-20T00:00:00\",\"2023-01-21T00:00:00\",\"2023-01-22T00:00:00\",\"2023-01-23T00:00:00\",\"2023-01-24T00:00:00\",\"2023-01-25T00:00:00\",\"2023-01-26T00:00:00\",\"2023-01-27T00:00:00\",\"2023-01-28T00:00:00\",\"2023-01-29T00:00:00\",\"2023-01-30T00:00:00\",\"2023-01-31T00:00:00\",\"2023-02-01T00:00:00\",\"2023-02-02T00:00:00\",\"2023-02-03T00:00:00\",\"2023-02-04T00:00:00\",\"2023-02-05T00:00:00\",\"2023-02-06T00:00:00\",\"2023-02-07T00:00:00\",\"2023-02-08T00:00:00\",\"2023-02-09T00:00:00\",\"2023-02-10T00:00:00\",\"2023-02-11T00:00:00\",\"2023-02-12T00:00:00\",\"2023-02-13T00:00:00\",\"2023-02-14T00:00:00\",\"2023-02-15T00:00:00\",\"2023-02-16T00:00:00\",\"2023-02-17T00:00:00\",\"2023-02-18T00:00:00\",\"2023-02-19T00:00:00\",\"2023-02-20T00:00:00\",\"2023-02-21T00:00:00\",\"2023-02-22T00:00:00\",\"2023-02-23T00:00:00\",\"2023-02-24T00:00:00\",\"2023-02-25T00:00:00\",\"2023-02-26T00:00:00\",\"2023-02-27T00:00:00\",\"2023-02-28T00:00:00\",\"2023-03-01T00:00:00\",\"2023-03-02T00:00:00\",\"2023-03-03T00:00:00\",\"2023-03-04T00:00:00\",\"2023-03-05T00:00:00\",\"2023-03-06T00:00:00\",\"2023-03-07T00:00:00\",\"2023-03-08T00:00:00\",\"2023-03-09T00:00:00\",\"2023-03-10T00:00:00\",\"2023-03-11T00:00:00\",\"2023-03-12T00:00:00\",\"2023-03-13T00:00:00\",\"2023-03-14T00:00:00\",\"2023-03-15T00:00:00\",\"2023-03-16T00:00:00\",\"2023-03-17T00:00:00\",\"2023-03-18T00:00:00\",\"2023-03-19T00:00:00\",\"2023-03-20T00:00:00\",\"2023-03-21T00:00:00\",\"2023-03-22T00:00:00\",\"2023-03-23T00:00:00\",\"2023-03-24T00:00:00\",\"2023-03-25T00:00:00\",\"2023-03-26T00:00:00\",\"2023-03-27T00:00:00\",\"2023-03-28T00:00:00\",\"2023-03-29T00:00:00\",\"2023-03-30T00:00:00\",\"2023-03-31T00:00:00\",\"2023-04-01T00:00:00\",\"2023-04-02T00:00:00\",\"2023-04-03T00:00:00\",\"2023-04-04T00:00:00\",\"2023-04-05T00:00:00\",\"2023-04-06T00:00:00\",\"2023-04-07T00:00:00\",\"2023-04-08T00:00:00\",\"2023-04-09T00:00:00\",\"2023-04-10T00:00:00\",\"2023-04-11T00:00:00\",\"2023-04-12T00:00:00\",\"2023-04-13T00:00:00\",\"2023-04-14T00:00:00\",\"2023-04-15T00:00:00\",\"2023-04-16T00:00:00\",\"2023-04-17T00:00:00\",\"2023-04-18T00:00:00\",\"2023-04-19T00:00:00\",\"2023-04-20T00:00:00\",\"2023-04-21T00:00:00\",\"2023-04-22T00:00:00\",\"2023-04-23T00:00:00\",\"2023-04-24T00:00:00\",\"2023-04-25T00:00:00\",\"2023-04-26T00:00:00\",\"2023-04-27T00:00:00\",\"2023-04-28T00:00:00\",\"2023-04-29T00:00:00\",\"2023-04-30T00:00:00\",\"2023-05-01T00:00:00\",\"2023-05-02T00:00:00\",\"2023-05-03T00:00:00\",\"2023-05-04T00:00:00\",\"2023-05-05T00:00:00\",\"2023-05-06T00:00:00\",\"2023-05-07T00:00:00\",\"2023-05-08T00:00:00\",\"2023-05-09T00:00:00\",\"2023-05-10T00:00:00\",\"2023-05-11T00:00:00\",\"2023-05-12T00:00:00\",\"2023-05-13T00:00:00\",\"2023-05-14T00:00:00\",\"2023-05-15T00:00:00\",\"2023-05-16T00:00:00\",\"2023-05-17T00:00:00\",\"2023-05-18T00:00:00\",\"2023-05-19T00:00:00\",\"2023-05-20T00:00:00\",\"2023-05-21T00:00:00\",\"2023-05-22T00:00:00\",\"2023-05-23T00:00:00\",\"2023-05-24T00:00:00\",\"2023-05-25T00:00:00\",\"2023-05-26T00:00:00\",\"2023-05-27T00:00:00\",\"2023-05-28T00:00:00\",\"2023-05-29T00:00:00\",\"2023-05-30T00:00:00\",\"2023-05-31T00:00:00\",\"2023-06-01T00:00:00\",\"2023-06-02T00:00:00\",\"2023-06-03T00:00:00\",\"2023-06-04T00:00:00\",\"2023-06-05T00:00:00\",\"2023-06-06T00:00:00\",\"2023-06-07T00:00:00\",\"2023-06-08T00:00:00\",\"2023-06-09T00:00:00\",\"2023-06-10T00:00:00\",\"2023-06-11T00:00:00\",\"2023-06-12T00:00:00\",\"2023-06-13T00:00:00\",\"2023-06-14T00:00:00\",\"2023-06-15T00:00:00\",\"2023-06-16T00:00:00\",\"2023-06-17T00:00:00\",\"2023-06-18T00:00:00\",\"2023-06-19T00:00:00\",\"2023-06-20T00:00:00\",\"2023-06-21T00:00:00\",\"2023-06-22T00:00:00\",\"2023-06-23T00:00:00\",\"2023-06-24T00:00:00\",\"2023-06-25T00:00:00\",\"2023-06-26T00:00:00\",\"2023-06-27T00:00:00\",\"2023-06-28T00:00:00\",\"2023-06-29T00:00:00\",\"2023-06-30T00:00:00\",\"2023-07-01T00:00:00\",\"2023-07-02T00:00:00\",\"2023-07-03T00:00:00\",\"2023-07-04T00:00:00\",\"2023-07-05T00:00:00\",\"2023-07-06T00:00:00\",\"2023-07-07T00:00:00\",\"2023-07-08T00:00:00\",\"2023-07-09T00:00:00\",\"2023-07-10T00:00:00\",\"2023-07-11T00:00:00\",\"2023-07-12T00:00:00\",\"2023-07-13T00:00:00\",\"2023-07-14T00:00:00\",\"2023-07-15T00:00:00\",\"2023-07-16T00:00:00\",\"2023-07-17T00:00:00\",\"2023-07-18T00:00:00\",\"2023-07-19T00:00:00\",\"2023-07-20T00:00:00\",\"2023-07-21T00:00:00\",\"2023-07-22T00:00:00\",\"2023-07-23T00:00:00\",\"2023-07-24T00:00:00\",\"2023-07-25T00:00:00\",\"2023-07-26T00:00:00\",\"2023-07-27T00:00:00\",\"2023-07-28T00:00:00\",\"2023-07-29T00:00:00\",\"2023-07-30T00:00:00\",\"2023-07-31T00:00:00\",\"2023-08-01T00:00:00\",\"2023-08-02T00:00:00\",\"2023-08-03T00:00:00\",\"2023-08-04T00:00:00\",\"2023-08-05T00:00:00\",\"2023-08-06T00:00:00\",\"2023-08-07T00:00:00\",\"2023-08-08T00:00:00\",\"2023-08-09T00:00:00\",\"2023-08-10T00:00:00\",\"2023-08-11T00:00:00\",\"2023-08-12T00:00:00\",\"2023-08-13T00:00:00\",\"2023-08-14T00:00:00\",\"2023-08-15T00:00:00\",\"2023-08-16T00:00:00\",\"2023-08-17T00:00:00\",\"2023-08-18T00:00:00\",\"2023-08-19T00:00:00\",\"2023-08-20T00:00:00\",\"2023-08-21T00:00:00\",\"2023-08-22T00:00:00\",\"2023-08-23T00:00:00\",\"2023-08-24T00:00:00\",\"2023-08-25T00:00:00\",\"2023-08-26T00:00:00\",\"2023-08-27T00:00:00\",\"2023-08-28T00:00:00\",\"2023-08-29T00:00:00\",\"2023-08-30T00:00:00\",\"2023-08-31T00:00:00\",\"2023-09-01T00:00:00\",\"2023-09-02T00:00:00\",\"2023-09-03T00:00:00\",\"2023-09-04T00:00:00\",\"2023-09-05T00:00:00\",\"2023-09-06T00:00:00\",\"2023-09-07T00:00:00\",\"2023-09-08T00:00:00\",\"2023-09-09T00:00:00\",\"2023-09-10T00:00:00\",\"2023-09-11T00:00:00\",\"2023-09-12T00:00:00\",\"2023-09-13T00:00:00\",\"2023-09-14T00:00:00\",\"2023-09-15T00:00:00\",\"2023-09-16T00:00:00\",\"2023-09-17T00:00:00\",\"2023-09-18T00:00:00\",\"2023-09-19T00:00:00\",\"2023-09-20T00:00:00\",\"2023-09-21T00:00:00\",\"2023-09-22T00:00:00\",\"2023-09-23T00:00:00\",\"2023-09-24T00:00:00\",\"2023-09-25T00:00:00\",\"2023-09-26T00:00:00\",\"2023-09-27T00:00:00\",\"2023-09-28T00:00:00\",\"2023-09-29T00:00:00\",\"2023-09-30T00:00:00\",\"2023-10-01T00:00:00\",\"2023-10-02T00:00:00\",\"2023-10-03T00:00:00\",\"2023-10-04T00:00:00\",\"2023-10-05T00:00:00\",\"2023-10-06T00:00:00\",\"2023-10-07T00:00:00\",\"2023-10-08T00:00:00\",\"2023-10-09T00:00:00\",\"2023-10-10T00:00:00\",\"2023-10-11T00:00:00\",\"2023-10-12T00:00:00\",\"2023-10-13T00:00:00\",\"2023-10-14T00:00:00\",\"2023-10-15T00:00:00\",\"2023-10-16T00:00:00\",\"2023-10-17T00:00:00\",\"2023-10-18T00:00:00\",\"2023-10-19T00:00:00\",\"2023-10-20T00:00:00\",\"2023-10-21T00:00:00\",\"2023-10-22T00:00:00\",\"2023-10-23T00:00:00\",\"2023-10-24T00:00:00\",\"2023-10-25T00:00:00\",\"2023-10-26T00:00:00\",\"2023-10-27T00:00:00\",\"2023-10-28T00:00:00\",\"2023-10-29T00:00:00\",\"2023-10-30T00:00:00\",\"2023-10-31T00:00:00\",\"2023-11-01T00:00:00\",\"2023-11-02T00:00:00\",\"2023-11-03T00:00:00\",\"2023-11-04T00:00:00\",\"2023-11-05T00:00:00\",\"2023-11-06T00:00:00\",\"2023-11-07T00:00:00\",\"2023-11-08T00:00:00\",\"2023-11-09T00:00:00\",\"2023-11-10T00:00:00\",\"2023-11-11T00:00:00\",\"2023-11-12T00:00:00\",\"2023-11-13T00:00:00\",\"2023-11-14T00:00:00\",\"2023-11-15T00:00:00\",\"2023-11-16T00:00:00\",\"2023-11-17T00:00:00\",\"2023-11-18T00:00:00\",\"2023-11-19T00:00:00\",\"2023-11-20T00:00:00\",\"2023-11-21T00:00:00\",\"2023-11-22T00:00:00\",\"2023-11-23T00:00:00\",\"2023-11-24T00:00:00\",\"2023-11-25T00:00:00\",\"2023-11-26T00:00:00\",\"2023-11-27T00:00:00\",\"2023-11-28T00:00:00\",\"2023-11-29T00:00:00\",\"2023-11-30T00:00:00\",\"2023-12-01T00:00:00\",\"2023-12-02T00:00:00\",\"2023-12-03T00:00:00\",\"2023-12-04T00:00:00\",\"2023-12-05T00:00:00\",\"2023-12-06T00:00:00\",\"2023-12-07T00:00:00\",\"2023-12-08T00:00:00\",\"2023-12-09T00:00:00\",\"2023-12-10T00:00:00\",\"2023-12-11T00:00:00\",\"2023-12-12T00:00:00\",\"2023-12-13T00:00:00\",\"2023-12-14T00:00:00\",\"2023-12-15T00:00:00\",\"2023-12-16T00:00:00\",\"2023-12-17T00:00:00\",\"2023-12-18T00:00:00\",\"2023-12-19T00:00:00\",\"2023-12-20T00:00:00\",\"2023-12-21T00:00:00\",\"2023-12-22T00:00:00\",\"2023-12-23T00:00:00\",\"2023-12-24T00:00:00\",\"2023-12-25T00:00:00\",\"2023-12-26T00:00:00\",\"2023-12-27T00:00:00\",\"2023-12-28T00:00:00\",\"2023-12-29T00:00:00\",\"2023-12-30T00:00:00\",\"2023-12-31T00:00:00\",\"2024-01-01T00:00:00\",\"2024-01-02T00:00:00\",\"2024-01-03T00:00:00\",\"2024-01-04T00:00:00\",\"2024-01-05T00:00:00\",\"2024-01-06T00:00:00\"],\"y\":[108496.63462859827,86290.58464275666,138060.40755853677,106359.74483569534,98384.94424420806,94674.92080475205,109559.92852225757,100574.66800465222,104971.28579573783,91450.1951519375,91640.78175241333,86733.38154691,84226.13491457333,84228.74656432527,83056.048457625,108492.908690375,93730.9179045,110885.011515,80960.27284545833,77765.640272875,143640.61708560417,86753.58742921354,97266.92530708334,157828.22680614583,144740.910454375,136245.24659940705,105111.88719003205,116647.71920834375,118088.00975291667,101315.12488966667,111874.97597064583,140909.90974564583,141918.02850556248,125420.5232286,134389.3381024375,104793.98480396142,121880.21265106944,108936.00604161875,126912.66160891666,123014.22707587501,111932.693954625,118185.91863139166,145386.5926893125,145672.697353,179432.6892554236,166497.90280605556,130453.43710444444,110963.20585968332,217011.20728690416,156459.40209483332,160880.8334703125,201422.67548116666,108751.94945554722,109139.99285228532,105596.63362389445,269821.3100605896,184514.54560864388,248880.92102779585,132972.33770097274,122429.69456364351,124282.17300098698,162826.41667295832,164148.64224472916,162387.477766325,178262.34883705302,165452.95838675,137737.56990811363,143598.12399616666,147413.62202137877,176567.59220345152,204178.8712400884,197884.56201982388,174544.55821561365,156909.23883737216,47888.045183,45852.407392999994,44838.816881,250818.30990735133,248821.9549446155,234735.22812853032,231805.86960172158,241580.31688991666,239807.4192148347,333174.2778451875,304983.1224596629,323204.2103529129,314038.30033829546,241622.75360748376,220721.80500015558,200833.93904118182,235964.73972578504,240031.09923229166,247911.24620008335,228460.9258420974,232387.28929826722,203515.64092202878,195127.62118341235,200636.61814898092,241376.30792300001,233473.8397194,236893.2824835602,233825.52046025972,216879.6978921894,204276.803363078,215595.042044,194486.65758016665,193904.38284687497,193347.96709915908,205132.23772523864,187101.883020375,198363.65040512502,187520.385372875,176039.22515820834,172969.44663201136,170488.39502629166,188072.7732052898,144309.6492741856,150442.1346408409,159378.90502910985,155972.91626900758,212290.0627446534,192193.26144752273,194805.71110809848,208925.74886180303,195949.3950723384,164519.5135863712,167544.72014315153,198083.18837377272,185656.77428834848,178273.26180160607,185060.903796375,167672.855571,165530.62464833335,148523.32891041666,128209.79335320834,124284.79014825,120828.04380541666,104570.30392675001,151569.63662425,139151.664663375,122928.295954875,130106.96976558333,134129.41218327137,133005.25996937027,134953.924098625,131495.60154425,127649.544608625,125171.97486816668,130230.37457875001,138319.22448925002,140505.11740333334,152543.81863066665,103477.54127850001,102457.01490750001,105952.08116179169,97889.90639689584,97031.58854266666,89427.13842974999,133675.29805141667,93445.77756325,96119.51189216667,100713.370258375,90960.10278883333,106775.10429791667,95650.2247316875,144003.91636475,94733.23515333334,96657.766595,102047.117149375,99995.37317470834,101140.485777125,98517.86756716667,114598.07863647916,94435.59616683333,95906.8541970625,93086.01800724998,106565.58480224998,117020.7007584375,115385.19816108333,122331.51186462499,144192.71069824998,147509.01564329167,170257.39843508333,146978.382223,142795.52210108333,122788.89205358333,151160.38219139772,140425.74620736743,136620.27019151012,142137.08908297349,139462.98921995834,150255.465241125,120695.55945575,130205.08426462498,142381.87193020832,134989.16782995834,133794.243341625,112323.07451891666,127183.09009345833,108235.851132,110028.07241041667,110526.59335575002,108418.32038370831,117731.47069166668,153055.4334579583,160060.61100035414,140959.95795002626,131529.69985526602,126758.57973978676,128181.33371412498,122681.48823631971,119557.64830742031,105561.01573130723,108602.43791242597,117124.98278889773,117387.06477058333,99553.04857386362,90044.4889625,111409.82564512499,111880.95882399999,102983.14091950002,133154.890103,99967.212892,97542.9380351875,96368.0094805,98662.9447486875,94486.96131310001,88681.421001625,118250.18182113324,87572.6300596108,82800.712502375,67090.81478249679,89824.44635185417,89913.40608507051,72605.69996641186,77590.8042359952,71281.64205530769,70565.45178215385,69801.49585533653,71142.23355447756,52648.71776285577,48935.7593289391,46693.913055538455,56050.18383492628,46361.53723348878,45623.57615919231,57512.414909024046,48493.25632094231,44857.12102093269,45640.420226942304,47206.92350332372,45067.582421426276,44314.524000740385,62030.344819461534,72506.78341557282,62370.614542836534,63951.16143094871,60554.145389769226,63392.62944972115,72261.60433392307,74226.85293036485,67447.85916826922,61799.40764757692,64231.173882333336,57302.666026576924,56719.16676671795,50936.18752772115,65284.051191644234,69128.7253635673,71773.7364350641,97621.44608947435,200401.490700625,88461.22031600961,89546.12930263461,92965.2760865,97099.86898688035,92790.9843775,114779.87627433929,123289.05416893751,108282.6702195,110642.2604415,117461.1008145,107939.69125075001,107394.44851833335,98172.62000425,106266.4610965,108383.03609325,103535.07363095833,113992.59802645833,106187.5895313937,99179.76709708333,95134.954139,102111.919442125,133361.58264474082,144090.24858756966,114151.41710579167,144199.1703340893,133500.065279625,131942.93327011904,193529.705430875,100557.09109008333,85564.83825266667,82958.57196555042,90485.95854537499,98235.559242,91321.02384029166,94381.20005266667,97407.57354214149,81444.56682475,83378.69799338025,84538.6592845,80987.6816565,83712.54672525,275720.452922875,96302.22764900001,98479.5973385,140927.95710854165,134644.530362625,130549.00934391668,223842.5527192197,87862.57500808334,95615.11430704166,72663.097748125,61781.477682000004,63701.15380120833,80570.539593375,101454.26414591666,93233.1838681875,97275.35197376326,71598.93407251516,68363.9827675303,73221.70654745834,76254.3301975,77332.59804077083,65975.27186378134,60716.97882766666,56788.82005675563,52828.34900208333,58198.53247333333,59322.23487072917,60663.21465702083,57614.934203583325,52467.672275749996,51424.8572778307,49248.05283770833,51069.000080791666,56100.17508778902,51744.2365858125,45875.111772625,54293.534808955694,40664.025696,42698.498493458326,47675.8960858307,73495.532090375,71002.3555348476,52807.42163625,48972.92675033333,58120.50811816666,76970.89477769812,50947.76966,51953.366193666654,58825.264454875,47725.81969875,47944.29971335417,76285.49297974112],\"type\":\"scatter\"}],                        {\"template\":{\"data\":{\"histogram2dcontour\":[{\"type\":\"histogram2dcontour\",\"colorbar\":{\"outlinewidth\":0,\"ticks\":\"\"},\"colorscale\":[[0.0,\"#0d0887\"],[0.1111111111111111,\"#46039f\"],[0.2222222222222222,\"#7201a8\"],[0.3333333333333333,\"#9c179e\"],[0.4444444444444444,\"#bd3786\"],[0.5555555555555556,\"#d8576b\"],[0.6666666666666666,\"#ed7953\"],[0.7777777777777778,\"#fb9f3a\"],[0.8888888888888888,\"#fdca26\"],[1.0,\"#f0f921\"]]}],\"choropleth\":[{\"type\":\"choropleth\",\"colorbar\":{\"outlinewidth\":0,\"ticks\":\"\"}}],\"histogram2d\":[{\"type\":\"histogram2d\",\"colorbar\":{\"outlinewidth\":0,\"ticks\":\"\"},\"colorscale\":[[0.0,\"#0d0887\"],[0.1111111111111111,\"#46039f\"],[0.2222222222222222,\"#7201a8\"],[0.3333333333333333,\"#9c179e\"],[0.4444444444444444,\"#bd3786\"],[0.5555555555555556,\"#d8576b\"],[0.6666666666666666,\"#ed7953\"],[0.7777777777777778,\"#fb9f3a\"],[0.8888888888888888,\"#fdca26\"],[1.0,\"#f0f921\"]]}],\"heatmap\":[{\"type\":\"heatmap\",\"colorbar\":{\"outlinewidth\":0,\"ticks\":\"\"},\"colorscale\":[[0.0,\"#0d0887\"],[0.1111111111111111,\"#46039f\"],[0.2222222222222222,\"#7201a8\"],[0.3333333333333333,\"#9c179e\"],[0.4444444444444444,\"#bd3786\"],[0.5555555555555556,\"#d8576b\"],[0.6666666666666666,\"#ed7953\"],[0.7777777777777778,\"#fb9f3a\"],[0.8888888888888888,\"#fdca26\"],[1.0,\"#f0f921\"]]}],\"heatmapgl\":[{\"type\":\"heatmapgl\",\"colorbar\":{\"outlinewidth\":0,\"ticks\":\"\"},\"colorscale\":[[0.0,\"#0d0887\"],[0.1111111111111111,\"#46039f\"],[0.2222222222222222,\"#7201a8\"],[0.3333333333333333,\"#9c179e\"],[0.4444444444444444,\"#bd3786\"],[0.5555555555555556,\"#d8576b\"],[0.6666666666666666,\"#ed7953\"],[0.7777777777777778,\"#fb9f3a\"],[0.8888888888888888,\"#fdca26\"],[1.0,\"#f0f921\"]]}],\"contourcarpet\":[{\"type\":\"contourcarpet\",\"colorbar\":{\"outlinewidth\":0,\"ticks\":\"\"}}],\"contour\":[{\"type\":\"contour\",\"colorbar\":{\"outlinewidth\":0,\"ticks\":\"\"},\"colorscale\":[[0.0,\"#0d0887\"],[0.1111111111111111,\"#46039f\"],[0.2222222222222222,\"#7201a8\"],[0.3333333333333333,\"#9c179e\"],[0.4444444444444444,\"#bd3786\"],[0.5555555555555556,\"#d8576b\"],[0.6666666666666666,\"#ed7953\"],[0.7777777777777778,\"#fb9f3a\"],[0.8888888888888888,\"#fdca26\"],[1.0,\"#f0f921\"]]}],\"surface\":[{\"type\":\"surface\",\"colorbar\":{\"outlinewidth\":0,\"ticks\":\"\"},\"colorscale\":[[0.0,\"#0d0887\"],[0.1111111111111111,\"#46039f\"],[0.2222222222222222,\"#7201a8\"],[0.3333333333333333,\"#9c179e\"],[0.4444444444444444,\"#bd3786\"],[0.5555555555555556,\"#d8576b\"],[0.6666666666666666,\"#ed7953\"],[0.7777777777777778,\"#fb9f3a\"],[0.8888888888888888,\"#fdca26\"],[1.0,\"#f0f921\"]]}],\"mesh3d\":[{\"type\":\"mesh3d\",\"colorbar\":{\"outlinewidth\":0,\"ticks\":\"\"}}],\"scatter\":[{\"fillpattern\":{\"fillmode\":\"overlay\",\"size\":10,\"solidity\":0.2},\"type\":\"scatter\"}],\"parcoords\":[{\"type\":\"parcoords\",\"line\":{\"colorbar\":{\"outlinewidth\":0,\"ticks\":\"\"}}}],\"scatterpolargl\":[{\"type\":\"scatterpolargl\",\"marker\":{\"colorbar\":{\"outlinewidth\":0,\"ticks\":\"\"}}}],\"bar\":[{\"error_x\":{\"color\":\"#2a3f5f\"},\"error_y\":{\"color\":\"#2a3f5f\"},\"marker\":{\"line\":{\"color\":\"#E5ECF6\",\"width\":0.5},\"pattern\":{\"fillmode\":\"overlay\",\"size\":10,\"solidity\":0.2}},\"type\":\"bar\"}],\"scattergeo\":[{\"type\":\"scattergeo\",\"marker\":{\"colorbar\":{\"outlinewidth\":0,\"ticks\":\"\"}}}],\"scatterpolar\":[{\"type\":\"scatterpolar\",\"marker\":{\"colorbar\":{\"outlinewidth\":0,\"ticks\":\"\"}}}],\"histogram\":[{\"marker\":{\"pattern\":{\"fillmode\":\"overlay\",\"size\":10,\"solidity\":0.2}},\"type\":\"histogram\"}],\"scattergl\":[{\"type\":\"scattergl\",\"marker\":{\"colorbar\":{\"outlinewidth\":0,\"ticks\":\"\"}}}],\"scatter3d\":[{\"type\":\"scatter3d\",\"line\":{\"colorbar\":{\"outlinewidth\":0,\"ticks\":\"\"}},\"marker\":{\"colorbar\":{\"outlinewidth\":0,\"ticks\":\"\"}}}],\"scattermapbox\":[{\"type\":\"scattermapbox\",\"marker\":{\"colorbar\":{\"outlinewidth\":0,\"ticks\":\"\"}}}],\"scatterternary\":[{\"type\":\"scatterternary\",\"marker\":{\"colorbar\":{\"outlinewidth\":0,\"ticks\":\"\"}}}],\"scattercarpet\":[{\"type\":\"scattercarpet\",\"marker\":{\"colorbar\":{\"outlinewidth\":0,\"ticks\":\"\"}}}],\"carpet\":[{\"aaxis\":{\"endlinecolor\":\"#2a3f5f\",\"gridcolor\":\"white\",\"linecolor\":\"white\",\"minorgridcolor\":\"white\",\"startlinecolor\":\"#2a3f5f\"},\"baxis\":{\"endlinecolor\":\"#2a3f5f\",\"gridcolor\":\"white\",\"linecolor\":\"white\",\"minorgridcolor\":\"white\",\"startlinecolor\":\"#2a3f5f\"},\"type\":\"carpet\"}],\"table\":[{\"cells\":{\"fill\":{\"color\":\"#EBF0F8\"},\"line\":{\"color\":\"white\"}},\"header\":{\"fill\":{\"color\":\"#C8D4E3\"},\"line\":{\"color\":\"white\"}},\"type\":\"table\"}],\"barpolar\":[{\"marker\":{\"line\":{\"color\":\"#E5ECF6\",\"width\":0.5},\"pattern\":{\"fillmode\":\"overlay\",\"size\":10,\"solidity\":0.2}},\"type\":\"barpolar\"}],\"pie\":[{\"automargin\":true,\"type\":\"pie\"}]},\"layout\":{\"autotypenumbers\":\"strict\",\"colorway\":[\"#636efa\",\"#EF553B\",\"#00cc96\",\"#ab63fa\",\"#FFA15A\",\"#19d3f3\",\"#FF6692\",\"#B6E880\",\"#FF97FF\",\"#FECB52\"],\"font\":{\"color\":\"#2a3f5f\"},\"hovermode\":\"closest\",\"hoverlabel\":{\"align\":\"left\"},\"paper_bgcolor\":\"white\",\"plot_bgcolor\":\"#E5ECF6\",\"polar\":{\"bgcolor\":\"#E5ECF6\",\"angularaxis\":{\"gridcolor\":\"white\",\"linecolor\":\"white\",\"ticks\":\"\"},\"radialaxis\":{\"gridcolor\":\"white\",\"linecolor\":\"white\",\"ticks\":\"\"}},\"ternary\":{\"bgcolor\":\"#E5ECF6\",\"aaxis\":{\"gridcolor\":\"white\",\"linecolor\":\"white\",\"ticks\":\"\"},\"baxis\":{\"gridcolor\":\"white\",\"linecolor\":\"white\",\"ticks\":\"\"},\"caxis\":{\"gridcolor\":\"white\",\"linecolor\":\"white\",\"ticks\":\"\"}},\"coloraxis\":{\"colorbar\":{\"outlinewidth\":0,\"ticks\":\"\"}},\"colorscale\":{\"sequential\":[[0.0,\"#0d0887\"],[0.1111111111111111,\"#46039f\"],[0.2222222222222222,\"#7201a8\"],[0.3333333333333333,\"#9c179e\"],[0.4444444444444444,\"#bd3786\"],[0.5555555555555556,\"#d8576b\"],[0.6666666666666666,\"#ed7953\"],[0.7777777777777778,\"#fb9f3a\"],[0.8888888888888888,\"#fdca26\"],[1.0,\"#f0f921\"]],\"sequentialminus\":[[0.0,\"#0d0887\"],[0.1111111111111111,\"#46039f\"],[0.2222222222222222,\"#7201a8\"],[0.3333333333333333,\"#9c179e\"],[0.4444444444444444,\"#bd3786\"],[0.5555555555555556,\"#d8576b\"],[0.6666666666666666,\"#ed7953\"],[0.7777777777777778,\"#fb9f3a\"],[0.8888888888888888,\"#fdca26\"],[1.0,\"#f0f921\"]],\"diverging\":[[0,\"#8e0152\"],[0.1,\"#c51b7d\"],[0.2,\"#de77ae\"],[0.3,\"#f1b6da\"],[0.4,\"#fde0ef\"],[0.5,\"#f7f7f7\"],[0.6,\"#e6f5d0\"],[0.7,\"#b8e186\"],[0.8,\"#7fbc41\"],[0.9,\"#4d9221\"],[1,\"#276419\"]]},\"xaxis\":{\"gridcolor\":\"white\",\"linecolor\":\"white\",\"ticks\":\"\",\"title\":{\"standoff\":15},\"zerolinecolor\":\"white\",\"automargin\":true,\"zerolinewidth\":2},\"yaxis\":{\"gridcolor\":\"white\",\"linecolor\":\"white\",\"ticks\":\"\",\"title\":{\"standoff\":15},\"zerolinecolor\":\"white\",\"automargin\":true,\"zerolinewidth\":2},\"scene\":{\"xaxis\":{\"backgroundcolor\":\"#E5ECF6\",\"gridcolor\":\"white\",\"linecolor\":\"white\",\"showbackground\":true,\"ticks\":\"\",\"zerolinecolor\":\"white\",\"gridwidth\":2},\"yaxis\":{\"backgroundcolor\":\"#E5ECF6\",\"gridcolor\":\"white\",\"linecolor\":\"white\",\"showbackground\":true,\"ticks\":\"\",\"zerolinecolor\":\"white\",\"gridwidth\":2},\"zaxis\":{\"backgroundcolor\":\"#E5ECF6\",\"gridcolor\":\"white\",\"linecolor\":\"white\",\"showbackground\":true,\"ticks\":\"\",\"zerolinecolor\":\"white\",\"gridwidth\":2}},\"shapedefaults\":{\"line\":{\"color\":\"#2a3f5f\"}},\"annotationdefaults\":{\"arrowcolor\":\"#2a3f5f\",\"arrowhead\":0,\"arrowwidth\":1},\"geo\":{\"bgcolor\":\"white\",\"landcolor\":\"#E5ECF6\",\"subunitcolor\":\"white\",\"showland\":true,\"showlakes\":true,\"lakecolor\":\"white\"},\"title\":{\"x\":0.05},\"mapbox\":{\"style\":\"light\"}}},\"xaxis\":{\"title\":{\"text\":\"Date\"},\"rangeselector\":{\"buttons\":[{\"count\":1,\"label\":\"1M\",\"step\":\"month\",\"stepmode\":\"backward\"},{\"count\":6,\"label\":\"6M\",\"step\":\"month\",\"stepmode\":\"backward\"},{\"step\":\"all\"}]},\"type\":\"date\"},\"title\":{\"text\":\"1P vs. 3P Revenue Over Time\"},\"yaxis\":{\"title\":{\"text\":\"Revenue\"}},\"legend\":{\"title\":{\"text\":\"Type of Revenue\"}}},                        {\"responsive\": true}                    ).then(function(){\n",
       "                            \n",
       "var gd = document.getElementById('97ed5f38-ab3a-4b9a-9bce-a191c3a3fd4a');\n",
       "var x = new MutationObserver(function (mutations, observer) {{\n",
       "        var display = window.getComputedStyle(gd).display;\n",
       "        if (!display || display === 'none') {{\n",
       "            console.log([gd, 'removed!']);\n",
       "            Plotly.purge(gd);\n",
       "            observer.disconnect();\n",
       "        }}\n",
       "}});\n",
       "\n",
       "// Listen for the removal of the full notebook cells\n",
       "var notebookContainer = gd.closest('#notebook-container');\n",
       "if (notebookContainer) {{\n",
       "    x.observe(notebookContainer, {childList: true});\n",
       "}}\n",
       "\n",
       "// Listen for the clearing of the current output cell\n",
       "var outputEl = gd.closest('.output');\n",
       "if (outputEl) {{\n",
       "    x.observe(outputEl, {childList: true});\n",
       "}}\n",
       "\n",
       "                        })                };                });            </script>        </div>"
      ]
     },
     "metadata": {},
     "output_type": "display_data"
    }
   ],
   "source": [
    "# Load data from the 'Segment Trends' sheet\n",
    "trends_data = pd.read_excel('Customer_Success_Engineer_-_Project_Data.xlsx', sheet_name='Segment Trends', header=1)\n",
    "\n",
    "# Make sure the 'Date' column is in datetime format\n",
    "trends_data['Date'] = pd.to_datetime(trends_data['Date'])\n",
    "\n",
    "# Initialize a figure\n",
    "fig = go.Figure()\n",
    "\n",
    "# Add traces for 1P Revenue and 3P Revenue\n",
    "fig.add_trace(go.Scatter(x=trends_data['Date'], y=trends_data['1P Revenue'], mode='lines', name='1P Revenue'))\n",
    "fig.add_trace(go.Scatter(x=trends_data['Date'], y=trends_data['3P Revenue'], mode='lines', name='3P Revenue'))\n",
    "\n",
    "# Customize the layout\n",
    "fig.update_layout(\n",
    "    title='1P vs. 3P Revenue Over Time',\n",
    "    xaxis_title='Date',\n",
    "    yaxis_title='Revenue',\n",
    "    legend_title='Type of Revenue',\n",
    "    xaxis=dict(\n",
    "        rangeselector=dict(\n",
    "            buttons=list([\n",
    "                dict(count=1, label=\"1M\", step=\"month\", stepmode=\"backward\"),\n",
    "                dict(count=6, label=\"6M\", step=\"month\", stepmode=\"backward\"),\n",
    "                dict(step=\"all\")\n",
    "            ])\n",
    "        ),\n",
    "        type=\"date\"\n",
    "    )\n",
    ")\n",
    "\n",
    "# Show the plot\n",
    "fig.show()\n"
   ]
  },
  {
   "cell_type": "markdown",
   "id": "2ab66a0b",
   "metadata": {},
   "source": [
    "Unit Sales Growth Trend, Monthly\n",
    "\n",
    "seems there was a recall in december 2023 which sharply affected brand sales. https://www.petful.com/brands/purina-recall/\n",
    "\n",
    "It seems some of the same sources of ingredients may have been in multiple brands. These dropped down to 0 in December 2023. \n",
    "\n",
    "1. Hoki Found\n",
    "\n",
    "2. Reopet\n",
    "\n",
    "3. Wellness Natural Pet Food\n",
    "\n",
    "4. Petlibro\n",
    "\n",
    "5.Hill'S Science Diet\n",
    "\n",
    "6.Hill'S Prescription Diet\n",
    "\n",
    "7.Purina Pro Plan\n",
    "\n",
    "8.Purina Pro Plan\n",
    "\n",
    "9.Purina Fancy Feast\n",
    "\n",
    "\n",
    "SQUISHMALLOW had massive growth; and interestingly they seem to be plushies for humans. Seems they have had big success in this segment as well. \n"
   ]
  },
  {
   "cell_type": "code",
   "execution_count": 205,
   "id": "368ab5c7",
   "metadata": {},
   "outputs": [
    {
     "data": {
      "application/vnd.plotly.v1+json": {
       "config": {
        "plotlyServerURL": "https://plot.ly"
       },
       "data": [
        {
         "alignmentgroup": "True",
         "hovertemplate": "Brand=%{x}<br>Growth=%{y}<extra></extra>",
         "legendgroup": "",
         "marker": {
          "color": "#636efa",
          "pattern": {
           "shape": ""
          }
         },
         "name": "",
         "offsetgroup": "",
         "orientation": "v",
         "showlegend": false,
         "textposition": "auto",
         "type": "bar",
         "x": [
          "Squishmallow",
          "Hill'S Pet Nutrition",
          "Instinct",
          "Orijen",
          "Friskies",
          "Iris Usa",
          "Air Wick",
          "Reveal Limited Ingredients Approved By Cats",
          "Gorilla Grip",
          "Simplehuman",
          "9lives",
          "Reopet",
          "Royal Canin",
          "Iris Usa, Inc.",
          "Neater Feeder",
          "Iris",
          "Stella & Chewy'S",
          "Rachael Ray Nutrish",
          "Merrick",
          "Petsafe",
          "Meow Mix",
          "Wellness",
          "Purina Beyond",
          "Sheba Wet Food",
          "Sheba",
          "Petlibro",
          "Purina Pro Plan",
          "Purina One",
          "Purina Fancy Feast",
          "Purina",
          "Iams",
          "Hoki Found",
          "Hill'S Science Diet",
          "Hill'S Prescription Diet",
          "Blue Buffalo",
          "Weruva",
          "Wellness Natural Pet Food"
         ],
         "xaxis": "x",
         "y": [
          264.8957081505082,
          216.42197751810298,
          186.46558345222888,
          40.89563161348745,
          6.4311956204987295,
          0,
          0,
          -8.1798987256031,
          -37.82527056172334,
          -58.80961659662635,
          -60.69835508149177,
          -72.03345727428109,
          -75.52149610720627,
          -76.03054706003974,
          -76.84663642446428,
          -79.56421350538764,
          -79.99905397562189,
          -80.24251814690138,
          -82.27146712365975,
          -82.64827765949974,
          -88.36262636576505,
          -94.4235578529241,
          -99.77091638480178,
          -100,
          -100,
          -100,
          -100,
          -100,
          -100,
          -100,
          -100,
          -100,
          -100,
          -100,
          -100,
          -100,
          null
         ],
         "yaxis": "y"
        }
       ],
       "layout": {
        "barmode": "relative",
        "legend": {
         "tracegroupgap": 0
        },
        "template": {
         "data": {
          "bar": [
           {
            "error_x": {
             "color": "#2a3f5f"
            },
            "error_y": {
             "color": "#2a3f5f"
            },
            "marker": {
             "line": {
              "color": "#E5ECF6",
              "width": 0.5
             },
             "pattern": {
              "fillmode": "overlay",
              "size": 10,
              "solidity": 0.2
             }
            },
            "type": "bar"
           }
          ],
          "barpolar": [
           {
            "marker": {
             "line": {
              "color": "#E5ECF6",
              "width": 0.5
             },
             "pattern": {
              "fillmode": "overlay",
              "size": 10,
              "solidity": 0.2
             }
            },
            "type": "barpolar"
           }
          ],
          "carpet": [
           {
            "aaxis": {
             "endlinecolor": "#2a3f5f",
             "gridcolor": "white",
             "linecolor": "white",
             "minorgridcolor": "white",
             "startlinecolor": "#2a3f5f"
            },
            "baxis": {
             "endlinecolor": "#2a3f5f",
             "gridcolor": "white",
             "linecolor": "white",
             "minorgridcolor": "white",
             "startlinecolor": "#2a3f5f"
            },
            "type": "carpet"
           }
          ],
          "choropleth": [
           {
            "colorbar": {
             "outlinewidth": 0,
             "ticks": ""
            },
            "type": "choropleth"
           }
          ],
          "contour": [
           {
            "colorbar": {
             "outlinewidth": 0,
             "ticks": ""
            },
            "colorscale": [
             [
              0,
              "#0d0887"
             ],
             [
              0.1111111111111111,
              "#46039f"
             ],
             [
              0.2222222222222222,
              "#7201a8"
             ],
             [
              0.3333333333333333,
              "#9c179e"
             ],
             [
              0.4444444444444444,
              "#bd3786"
             ],
             [
              0.5555555555555556,
              "#d8576b"
             ],
             [
              0.6666666666666666,
              "#ed7953"
             ],
             [
              0.7777777777777778,
              "#fb9f3a"
             ],
             [
              0.8888888888888888,
              "#fdca26"
             ],
             [
              1,
              "#f0f921"
             ]
            ],
            "type": "contour"
           }
          ],
          "contourcarpet": [
           {
            "colorbar": {
             "outlinewidth": 0,
             "ticks": ""
            },
            "type": "contourcarpet"
           }
          ],
          "heatmap": [
           {
            "colorbar": {
             "outlinewidth": 0,
             "ticks": ""
            },
            "colorscale": [
             [
              0,
              "#0d0887"
             ],
             [
              0.1111111111111111,
              "#46039f"
             ],
             [
              0.2222222222222222,
              "#7201a8"
             ],
             [
              0.3333333333333333,
              "#9c179e"
             ],
             [
              0.4444444444444444,
              "#bd3786"
             ],
             [
              0.5555555555555556,
              "#d8576b"
             ],
             [
              0.6666666666666666,
              "#ed7953"
             ],
             [
              0.7777777777777778,
              "#fb9f3a"
             ],
             [
              0.8888888888888888,
              "#fdca26"
             ],
             [
              1,
              "#f0f921"
             ]
            ],
            "type": "heatmap"
           }
          ],
          "heatmapgl": [
           {
            "colorbar": {
             "outlinewidth": 0,
             "ticks": ""
            },
            "colorscale": [
             [
              0,
              "#0d0887"
             ],
             [
              0.1111111111111111,
              "#46039f"
             ],
             [
              0.2222222222222222,
              "#7201a8"
             ],
             [
              0.3333333333333333,
              "#9c179e"
             ],
             [
              0.4444444444444444,
              "#bd3786"
             ],
             [
              0.5555555555555556,
              "#d8576b"
             ],
             [
              0.6666666666666666,
              "#ed7953"
             ],
             [
              0.7777777777777778,
              "#fb9f3a"
             ],
             [
              0.8888888888888888,
              "#fdca26"
             ],
             [
              1,
              "#f0f921"
             ]
            ],
            "type": "heatmapgl"
           }
          ],
          "histogram": [
           {
            "marker": {
             "pattern": {
              "fillmode": "overlay",
              "size": 10,
              "solidity": 0.2
             }
            },
            "type": "histogram"
           }
          ],
          "histogram2d": [
           {
            "colorbar": {
             "outlinewidth": 0,
             "ticks": ""
            },
            "colorscale": [
             [
              0,
              "#0d0887"
             ],
             [
              0.1111111111111111,
              "#46039f"
             ],
             [
              0.2222222222222222,
              "#7201a8"
             ],
             [
              0.3333333333333333,
              "#9c179e"
             ],
             [
              0.4444444444444444,
              "#bd3786"
             ],
             [
              0.5555555555555556,
              "#d8576b"
             ],
             [
              0.6666666666666666,
              "#ed7953"
             ],
             [
              0.7777777777777778,
              "#fb9f3a"
             ],
             [
              0.8888888888888888,
              "#fdca26"
             ],
             [
              1,
              "#f0f921"
             ]
            ],
            "type": "histogram2d"
           }
          ],
          "histogram2dcontour": [
           {
            "colorbar": {
             "outlinewidth": 0,
             "ticks": ""
            },
            "colorscale": [
             [
              0,
              "#0d0887"
             ],
             [
              0.1111111111111111,
              "#46039f"
             ],
             [
              0.2222222222222222,
              "#7201a8"
             ],
             [
              0.3333333333333333,
              "#9c179e"
             ],
             [
              0.4444444444444444,
              "#bd3786"
             ],
             [
              0.5555555555555556,
              "#d8576b"
             ],
             [
              0.6666666666666666,
              "#ed7953"
             ],
             [
              0.7777777777777778,
              "#fb9f3a"
             ],
             [
              0.8888888888888888,
              "#fdca26"
             ],
             [
              1,
              "#f0f921"
             ]
            ],
            "type": "histogram2dcontour"
           }
          ],
          "mesh3d": [
           {
            "colorbar": {
             "outlinewidth": 0,
             "ticks": ""
            },
            "type": "mesh3d"
           }
          ],
          "parcoords": [
           {
            "line": {
             "colorbar": {
              "outlinewidth": 0,
              "ticks": ""
             }
            },
            "type": "parcoords"
           }
          ],
          "pie": [
           {
            "automargin": true,
            "type": "pie"
           }
          ],
          "scatter": [
           {
            "fillpattern": {
             "fillmode": "overlay",
             "size": 10,
             "solidity": 0.2
            },
            "type": "scatter"
           }
          ],
          "scatter3d": [
           {
            "line": {
             "colorbar": {
              "outlinewidth": 0,
              "ticks": ""
             }
            },
            "marker": {
             "colorbar": {
              "outlinewidth": 0,
              "ticks": ""
             }
            },
            "type": "scatter3d"
           }
          ],
          "scattercarpet": [
           {
            "marker": {
             "colorbar": {
              "outlinewidth": 0,
              "ticks": ""
             }
            },
            "type": "scattercarpet"
           }
          ],
          "scattergeo": [
           {
            "marker": {
             "colorbar": {
              "outlinewidth": 0,
              "ticks": ""
             }
            },
            "type": "scattergeo"
           }
          ],
          "scattergl": [
           {
            "marker": {
             "colorbar": {
              "outlinewidth": 0,
              "ticks": ""
             }
            },
            "type": "scattergl"
           }
          ],
          "scattermapbox": [
           {
            "marker": {
             "colorbar": {
              "outlinewidth": 0,
              "ticks": ""
             }
            },
            "type": "scattermapbox"
           }
          ],
          "scatterpolar": [
           {
            "marker": {
             "colorbar": {
              "outlinewidth": 0,
              "ticks": ""
             }
            },
            "type": "scatterpolar"
           }
          ],
          "scatterpolargl": [
           {
            "marker": {
             "colorbar": {
              "outlinewidth": 0,
              "ticks": ""
             }
            },
            "type": "scatterpolargl"
           }
          ],
          "scatterternary": [
           {
            "marker": {
             "colorbar": {
              "outlinewidth": 0,
              "ticks": ""
             }
            },
            "type": "scatterternary"
           }
          ],
          "surface": [
           {
            "colorbar": {
             "outlinewidth": 0,
             "ticks": ""
            },
            "colorscale": [
             [
              0,
              "#0d0887"
             ],
             [
              0.1111111111111111,
              "#46039f"
             ],
             [
              0.2222222222222222,
              "#7201a8"
             ],
             [
              0.3333333333333333,
              "#9c179e"
             ],
             [
              0.4444444444444444,
              "#bd3786"
             ],
             [
              0.5555555555555556,
              "#d8576b"
             ],
             [
              0.6666666666666666,
              "#ed7953"
             ],
             [
              0.7777777777777778,
              "#fb9f3a"
             ],
             [
              0.8888888888888888,
              "#fdca26"
             ],
             [
              1,
              "#f0f921"
             ]
            ],
            "type": "surface"
           }
          ],
          "table": [
           {
            "cells": {
             "fill": {
              "color": "#EBF0F8"
             },
             "line": {
              "color": "white"
             }
            },
            "header": {
             "fill": {
              "color": "#C8D4E3"
             },
             "line": {
              "color": "white"
             }
            },
            "type": "table"
           }
          ]
         },
         "layout": {
          "annotationdefaults": {
           "arrowcolor": "#2a3f5f",
           "arrowhead": 0,
           "arrowwidth": 1
          },
          "autotypenumbers": "strict",
          "coloraxis": {
           "colorbar": {
            "outlinewidth": 0,
            "ticks": ""
           }
          },
          "colorscale": {
           "diverging": [
            [
             0,
             "#8e0152"
            ],
            [
             0.1,
             "#c51b7d"
            ],
            [
             0.2,
             "#de77ae"
            ],
            [
             0.3,
             "#f1b6da"
            ],
            [
             0.4,
             "#fde0ef"
            ],
            [
             0.5,
             "#f7f7f7"
            ],
            [
             0.6,
             "#e6f5d0"
            ],
            [
             0.7,
             "#b8e186"
            ],
            [
             0.8,
             "#7fbc41"
            ],
            [
             0.9,
             "#4d9221"
            ],
            [
             1,
             "#276419"
            ]
           ],
           "sequential": [
            [
             0,
             "#0d0887"
            ],
            [
             0.1111111111111111,
             "#46039f"
            ],
            [
             0.2222222222222222,
             "#7201a8"
            ],
            [
             0.3333333333333333,
             "#9c179e"
            ],
            [
             0.4444444444444444,
             "#bd3786"
            ],
            [
             0.5555555555555556,
             "#d8576b"
            ],
            [
             0.6666666666666666,
             "#ed7953"
            ],
            [
             0.7777777777777778,
             "#fb9f3a"
            ],
            [
             0.8888888888888888,
             "#fdca26"
            ],
            [
             1,
             "#f0f921"
            ]
           ],
           "sequentialminus": [
            [
             0,
             "#0d0887"
            ],
            [
             0.1111111111111111,
             "#46039f"
            ],
            [
             0.2222222222222222,
             "#7201a8"
            ],
            [
             0.3333333333333333,
             "#9c179e"
            ],
            [
             0.4444444444444444,
             "#bd3786"
            ],
            [
             0.5555555555555556,
             "#d8576b"
            ],
            [
             0.6666666666666666,
             "#ed7953"
            ],
            [
             0.7777777777777778,
             "#fb9f3a"
            ],
            [
             0.8888888888888888,
             "#fdca26"
            ],
            [
             1,
             "#f0f921"
            ]
           ]
          },
          "colorway": [
           "#636efa",
           "#EF553B",
           "#00cc96",
           "#ab63fa",
           "#FFA15A",
           "#19d3f3",
           "#FF6692",
           "#B6E880",
           "#FF97FF",
           "#FECB52"
          ],
          "font": {
           "color": "#2a3f5f"
          },
          "geo": {
           "bgcolor": "white",
           "lakecolor": "white",
           "landcolor": "#E5ECF6",
           "showlakes": true,
           "showland": true,
           "subunitcolor": "white"
          },
          "hoverlabel": {
           "align": "left"
          },
          "hovermode": "closest",
          "mapbox": {
           "style": "light"
          },
          "paper_bgcolor": "white",
          "plot_bgcolor": "#E5ECF6",
          "polar": {
           "angularaxis": {
            "gridcolor": "white",
            "linecolor": "white",
            "ticks": ""
           },
           "bgcolor": "#E5ECF6",
           "radialaxis": {
            "gridcolor": "white",
            "linecolor": "white",
            "ticks": ""
           }
          },
          "scene": {
           "xaxis": {
            "backgroundcolor": "#E5ECF6",
            "gridcolor": "white",
            "gridwidth": 2,
            "linecolor": "white",
            "showbackground": true,
            "ticks": "",
            "zerolinecolor": "white"
           },
           "yaxis": {
            "backgroundcolor": "#E5ECF6",
            "gridcolor": "white",
            "gridwidth": 2,
            "linecolor": "white",
            "showbackground": true,
            "ticks": "",
            "zerolinecolor": "white"
           },
           "zaxis": {
            "backgroundcolor": "#E5ECF6",
            "gridcolor": "white",
            "gridwidth": 2,
            "linecolor": "white",
            "showbackground": true,
            "ticks": "",
            "zerolinecolor": "white"
           }
          },
          "shapedefaults": {
           "line": {
            "color": "#2a3f5f"
           }
          },
          "ternary": {
           "aaxis": {
            "gridcolor": "white",
            "linecolor": "white",
            "ticks": ""
           },
           "baxis": {
            "gridcolor": "white",
            "linecolor": "white",
            "ticks": ""
           },
           "bgcolor": "#E5ECF6",
           "caxis": {
            "gridcolor": "white",
            "linecolor": "white",
            "ticks": ""
           }
          },
          "title": {
           "x": 0.05
          },
          "xaxis": {
           "automargin": true,
           "gridcolor": "white",
           "linecolor": "white",
           "ticks": "",
           "title": {
            "standoff": 15
           },
           "zerolinecolor": "white",
           "zerolinewidth": 2
          },
          "yaxis": {
           "automargin": true,
           "gridcolor": "white",
           "linecolor": "white",
           "ticks": "",
           "title": {
            "standoff": 15
           },
           "zerolinecolor": "white",
           "zerolinewidth": 2
          }
         }
        },
        "title": {
         "text": "Year-Over-Year Unit Sales Growth by Brand"
        },
        "xaxis": {
         "anchor": "y",
         "domain": [
          0,
          1
         ],
         "title": {
          "text": "Brand"
         }
        },
        "yaxis": {
         "anchor": "x",
         "domain": [
          0,
          1
         ],
         "title": {
          "text": "Growth"
         }
        }
       }
      },
      "text/html": [
       "<div>                            <div id=\"752d57a4-e690-4264-a671-8dc8e56213ac\" class=\"plotly-graph-div\" style=\"height:525px; width:100%;\"></div>            <script type=\"text/javascript\">                require([\"plotly\"], function(Plotly) {                    window.PLOTLYENV=window.PLOTLYENV || {};                                    if (document.getElementById(\"752d57a4-e690-4264-a671-8dc8e56213ac\")) {                    Plotly.newPlot(                        \"752d57a4-e690-4264-a671-8dc8e56213ac\",                        [{\"alignmentgroup\":\"True\",\"hovertemplate\":\"Brand=%{x}\\u003cbr\\u003eGrowth=%{y}\\u003cextra\\u003e\\u003c\\u002fextra\\u003e\",\"legendgroup\":\"\",\"marker\":{\"color\":\"#636efa\",\"pattern\":{\"shape\":\"\"}},\"name\":\"\",\"offsetgroup\":\"\",\"orientation\":\"v\",\"showlegend\":false,\"textposition\":\"auto\",\"x\":[\"Squishmallow\",\"Hill'S Pet Nutrition\",\"Instinct\",\"Orijen\",\"Friskies\",\"Iris Usa\",\"Air Wick\",\"Reveal Limited Ingredients Approved By Cats\",\"Gorilla Grip\",\"Simplehuman\",\"9lives\",\"Reopet\",\"Royal Canin\",\"Iris Usa, Inc.\",\"Neater Feeder\",\"Iris\",\"Stella & Chewy'S\",\"Rachael Ray Nutrish\",\"Merrick\",\"Petsafe\",\"Meow Mix\",\"Wellness\",\"Purina Beyond\",\"Sheba Wet Food\",\"Sheba\",\"Petlibro\",\"Purina Pro Plan\",\"Purina One\",\"Purina Fancy Feast\",\"Purina\",\"Iams\",\"Hoki Found\",\"Hill'S Science Diet\",\"Hill'S Prescription Diet\",\"Blue Buffalo\",\"Weruva\",\"Wellness Natural Pet Food\"],\"xaxis\":\"x\",\"y\":[264.8957081505082,216.42197751810298,186.46558345222888,40.89563161348745,6.4311956204987295,0.0,0.0,-8.1798987256031,-37.82527056172334,-58.80961659662635,-60.69835508149177,-72.03345727428109,-75.52149610720627,-76.03054706003974,-76.84663642446428,-79.56421350538764,-79.99905397562189,-80.24251814690138,-82.27146712365975,-82.64827765949974,-88.36262636576505,-94.4235578529241,-99.77091638480178,-100.0,-100.0,-100.0,-100.0,-100.0,-100.0,-100.0,-100.0,-100.0,-100.0,-100.0,-100.0,-100.0,null],\"yaxis\":\"y\",\"type\":\"bar\"}],                        {\"template\":{\"data\":{\"histogram2dcontour\":[{\"type\":\"histogram2dcontour\",\"colorbar\":{\"outlinewidth\":0,\"ticks\":\"\"},\"colorscale\":[[0.0,\"#0d0887\"],[0.1111111111111111,\"#46039f\"],[0.2222222222222222,\"#7201a8\"],[0.3333333333333333,\"#9c179e\"],[0.4444444444444444,\"#bd3786\"],[0.5555555555555556,\"#d8576b\"],[0.6666666666666666,\"#ed7953\"],[0.7777777777777778,\"#fb9f3a\"],[0.8888888888888888,\"#fdca26\"],[1.0,\"#f0f921\"]]}],\"choropleth\":[{\"type\":\"choropleth\",\"colorbar\":{\"outlinewidth\":0,\"ticks\":\"\"}}],\"histogram2d\":[{\"type\":\"histogram2d\",\"colorbar\":{\"outlinewidth\":0,\"ticks\":\"\"},\"colorscale\":[[0.0,\"#0d0887\"],[0.1111111111111111,\"#46039f\"],[0.2222222222222222,\"#7201a8\"],[0.3333333333333333,\"#9c179e\"],[0.4444444444444444,\"#bd3786\"],[0.5555555555555556,\"#d8576b\"],[0.6666666666666666,\"#ed7953\"],[0.7777777777777778,\"#fb9f3a\"],[0.8888888888888888,\"#fdca26\"],[1.0,\"#f0f921\"]]}],\"heatmap\":[{\"type\":\"heatmap\",\"colorbar\":{\"outlinewidth\":0,\"ticks\":\"\"},\"colorscale\":[[0.0,\"#0d0887\"],[0.1111111111111111,\"#46039f\"],[0.2222222222222222,\"#7201a8\"],[0.3333333333333333,\"#9c179e\"],[0.4444444444444444,\"#bd3786\"],[0.5555555555555556,\"#d8576b\"],[0.6666666666666666,\"#ed7953\"],[0.7777777777777778,\"#fb9f3a\"],[0.8888888888888888,\"#fdca26\"],[1.0,\"#f0f921\"]]}],\"heatmapgl\":[{\"type\":\"heatmapgl\",\"colorbar\":{\"outlinewidth\":0,\"ticks\":\"\"},\"colorscale\":[[0.0,\"#0d0887\"],[0.1111111111111111,\"#46039f\"],[0.2222222222222222,\"#7201a8\"],[0.3333333333333333,\"#9c179e\"],[0.4444444444444444,\"#bd3786\"],[0.5555555555555556,\"#d8576b\"],[0.6666666666666666,\"#ed7953\"],[0.7777777777777778,\"#fb9f3a\"],[0.8888888888888888,\"#fdca26\"],[1.0,\"#f0f921\"]]}],\"contourcarpet\":[{\"type\":\"contourcarpet\",\"colorbar\":{\"outlinewidth\":0,\"ticks\":\"\"}}],\"contour\":[{\"type\":\"contour\",\"colorbar\":{\"outlinewidth\":0,\"ticks\":\"\"},\"colorscale\":[[0.0,\"#0d0887\"],[0.1111111111111111,\"#46039f\"],[0.2222222222222222,\"#7201a8\"],[0.3333333333333333,\"#9c179e\"],[0.4444444444444444,\"#bd3786\"],[0.5555555555555556,\"#d8576b\"],[0.6666666666666666,\"#ed7953\"],[0.7777777777777778,\"#fb9f3a\"],[0.8888888888888888,\"#fdca26\"],[1.0,\"#f0f921\"]]}],\"surface\":[{\"type\":\"surface\",\"colorbar\":{\"outlinewidth\":0,\"ticks\":\"\"},\"colorscale\":[[0.0,\"#0d0887\"],[0.1111111111111111,\"#46039f\"],[0.2222222222222222,\"#7201a8\"],[0.3333333333333333,\"#9c179e\"],[0.4444444444444444,\"#bd3786\"],[0.5555555555555556,\"#d8576b\"],[0.6666666666666666,\"#ed7953\"],[0.7777777777777778,\"#fb9f3a\"],[0.8888888888888888,\"#fdca26\"],[1.0,\"#f0f921\"]]}],\"mesh3d\":[{\"type\":\"mesh3d\",\"colorbar\":{\"outlinewidth\":0,\"ticks\":\"\"}}],\"scatter\":[{\"fillpattern\":{\"fillmode\":\"overlay\",\"size\":10,\"solidity\":0.2},\"type\":\"scatter\"}],\"parcoords\":[{\"type\":\"parcoords\",\"line\":{\"colorbar\":{\"outlinewidth\":0,\"ticks\":\"\"}}}],\"scatterpolargl\":[{\"type\":\"scatterpolargl\",\"marker\":{\"colorbar\":{\"outlinewidth\":0,\"ticks\":\"\"}}}],\"bar\":[{\"error_x\":{\"color\":\"#2a3f5f\"},\"error_y\":{\"color\":\"#2a3f5f\"},\"marker\":{\"line\":{\"color\":\"#E5ECF6\",\"width\":0.5},\"pattern\":{\"fillmode\":\"overlay\",\"size\":10,\"solidity\":0.2}},\"type\":\"bar\"}],\"scattergeo\":[{\"type\":\"scattergeo\",\"marker\":{\"colorbar\":{\"outlinewidth\":0,\"ticks\":\"\"}}}],\"scatterpolar\":[{\"type\":\"scatterpolar\",\"marker\":{\"colorbar\":{\"outlinewidth\":0,\"ticks\":\"\"}}}],\"histogram\":[{\"marker\":{\"pattern\":{\"fillmode\":\"overlay\",\"size\":10,\"solidity\":0.2}},\"type\":\"histogram\"}],\"scattergl\":[{\"type\":\"scattergl\",\"marker\":{\"colorbar\":{\"outlinewidth\":0,\"ticks\":\"\"}}}],\"scatter3d\":[{\"type\":\"scatter3d\",\"line\":{\"colorbar\":{\"outlinewidth\":0,\"ticks\":\"\"}},\"marker\":{\"colorbar\":{\"outlinewidth\":0,\"ticks\":\"\"}}}],\"scattermapbox\":[{\"type\":\"scattermapbox\",\"marker\":{\"colorbar\":{\"outlinewidth\":0,\"ticks\":\"\"}}}],\"scatterternary\":[{\"type\":\"scatterternary\",\"marker\":{\"colorbar\":{\"outlinewidth\":0,\"ticks\":\"\"}}}],\"scattercarpet\":[{\"type\":\"scattercarpet\",\"marker\":{\"colorbar\":{\"outlinewidth\":0,\"ticks\":\"\"}}}],\"carpet\":[{\"aaxis\":{\"endlinecolor\":\"#2a3f5f\",\"gridcolor\":\"white\",\"linecolor\":\"white\",\"minorgridcolor\":\"white\",\"startlinecolor\":\"#2a3f5f\"},\"baxis\":{\"endlinecolor\":\"#2a3f5f\",\"gridcolor\":\"white\",\"linecolor\":\"white\",\"minorgridcolor\":\"white\",\"startlinecolor\":\"#2a3f5f\"},\"type\":\"carpet\"}],\"table\":[{\"cells\":{\"fill\":{\"color\":\"#EBF0F8\"},\"line\":{\"color\":\"white\"}},\"header\":{\"fill\":{\"color\":\"#C8D4E3\"},\"line\":{\"color\":\"white\"}},\"type\":\"table\"}],\"barpolar\":[{\"marker\":{\"line\":{\"color\":\"#E5ECF6\",\"width\":0.5},\"pattern\":{\"fillmode\":\"overlay\",\"size\":10,\"solidity\":0.2}},\"type\":\"barpolar\"}],\"pie\":[{\"automargin\":true,\"type\":\"pie\"}]},\"layout\":{\"autotypenumbers\":\"strict\",\"colorway\":[\"#636efa\",\"#EF553B\",\"#00cc96\",\"#ab63fa\",\"#FFA15A\",\"#19d3f3\",\"#FF6692\",\"#B6E880\",\"#FF97FF\",\"#FECB52\"],\"font\":{\"color\":\"#2a3f5f\"},\"hovermode\":\"closest\",\"hoverlabel\":{\"align\":\"left\"},\"paper_bgcolor\":\"white\",\"plot_bgcolor\":\"#E5ECF6\",\"polar\":{\"bgcolor\":\"#E5ECF6\",\"angularaxis\":{\"gridcolor\":\"white\",\"linecolor\":\"white\",\"ticks\":\"\"},\"radialaxis\":{\"gridcolor\":\"white\",\"linecolor\":\"white\",\"ticks\":\"\"}},\"ternary\":{\"bgcolor\":\"#E5ECF6\",\"aaxis\":{\"gridcolor\":\"white\",\"linecolor\":\"white\",\"ticks\":\"\"},\"baxis\":{\"gridcolor\":\"white\",\"linecolor\":\"white\",\"ticks\":\"\"},\"caxis\":{\"gridcolor\":\"white\",\"linecolor\":\"white\",\"ticks\":\"\"}},\"coloraxis\":{\"colorbar\":{\"outlinewidth\":0,\"ticks\":\"\"}},\"colorscale\":{\"sequential\":[[0.0,\"#0d0887\"],[0.1111111111111111,\"#46039f\"],[0.2222222222222222,\"#7201a8\"],[0.3333333333333333,\"#9c179e\"],[0.4444444444444444,\"#bd3786\"],[0.5555555555555556,\"#d8576b\"],[0.6666666666666666,\"#ed7953\"],[0.7777777777777778,\"#fb9f3a\"],[0.8888888888888888,\"#fdca26\"],[1.0,\"#f0f921\"]],\"sequentialminus\":[[0.0,\"#0d0887\"],[0.1111111111111111,\"#46039f\"],[0.2222222222222222,\"#7201a8\"],[0.3333333333333333,\"#9c179e\"],[0.4444444444444444,\"#bd3786\"],[0.5555555555555556,\"#d8576b\"],[0.6666666666666666,\"#ed7953\"],[0.7777777777777778,\"#fb9f3a\"],[0.8888888888888888,\"#fdca26\"],[1.0,\"#f0f921\"]],\"diverging\":[[0,\"#8e0152\"],[0.1,\"#c51b7d\"],[0.2,\"#de77ae\"],[0.3,\"#f1b6da\"],[0.4,\"#fde0ef\"],[0.5,\"#f7f7f7\"],[0.6,\"#e6f5d0\"],[0.7,\"#b8e186\"],[0.8,\"#7fbc41\"],[0.9,\"#4d9221\"],[1,\"#276419\"]]},\"xaxis\":{\"gridcolor\":\"white\",\"linecolor\":\"white\",\"ticks\":\"\",\"title\":{\"standoff\":15},\"zerolinecolor\":\"white\",\"automargin\":true,\"zerolinewidth\":2},\"yaxis\":{\"gridcolor\":\"white\",\"linecolor\":\"white\",\"ticks\":\"\",\"title\":{\"standoff\":15},\"zerolinecolor\":\"white\",\"automargin\":true,\"zerolinewidth\":2},\"scene\":{\"xaxis\":{\"backgroundcolor\":\"#E5ECF6\",\"gridcolor\":\"white\",\"linecolor\":\"white\",\"showbackground\":true,\"ticks\":\"\",\"zerolinecolor\":\"white\",\"gridwidth\":2},\"yaxis\":{\"backgroundcolor\":\"#E5ECF6\",\"gridcolor\":\"white\",\"linecolor\":\"white\",\"showbackground\":true,\"ticks\":\"\",\"zerolinecolor\":\"white\",\"gridwidth\":2},\"zaxis\":{\"backgroundcolor\":\"#E5ECF6\",\"gridcolor\":\"white\",\"linecolor\":\"white\",\"showbackground\":true,\"ticks\":\"\",\"zerolinecolor\":\"white\",\"gridwidth\":2}},\"shapedefaults\":{\"line\":{\"color\":\"#2a3f5f\"}},\"annotationdefaults\":{\"arrowcolor\":\"#2a3f5f\",\"arrowhead\":0,\"arrowwidth\":1},\"geo\":{\"bgcolor\":\"white\",\"landcolor\":\"#E5ECF6\",\"subunitcolor\":\"white\",\"showland\":true,\"showlakes\":true,\"lakecolor\":\"white\"},\"title\":{\"x\":0.05},\"mapbox\":{\"style\":\"light\"}}},\"xaxis\":{\"anchor\":\"y\",\"domain\":[0.0,1.0],\"title\":{\"text\":\"Brand\"}},\"yaxis\":{\"anchor\":\"x\",\"domain\":[0.0,1.0],\"title\":{\"text\":\"Growth\"}},\"legend\":{\"tracegroupgap\":0},\"title\":{\"text\":\"Year-Over-Year Unit Sales Growth by Brand\"},\"barmode\":\"relative\"},                        {\"responsive\": true}                    ).then(function(){\n",
       "                            \n",
       "var gd = document.getElementById('752d57a4-e690-4264-a671-8dc8e56213ac');\n",
       "var x = new MutationObserver(function (mutations, observer) {{\n",
       "        var display = window.getComputedStyle(gd).display;\n",
       "        if (!display || display === 'none') {{\n",
       "            console.log([gd, 'removed!']);\n",
       "            Plotly.purge(gd);\n",
       "            observer.disconnect();\n",
       "        }}\n",
       "}});\n",
       "\n",
       "// Listen for the removal of the full notebook cells\n",
       "var notebookContainer = gd.closest('#notebook-container');\n",
       "if (notebookContainer) {{\n",
       "    x.observe(notebookContainer, {childList: true});\n",
       "}}\n",
       "\n",
       "// Listen for the clearing of the current output cell\n",
       "var outputEl = gd.closest('.output');\n",
       "if (outputEl) {{\n",
       "    x.observe(outputEl, {childList: true});\n",
       "}}\n",
       "\n",
       "                        })                };                });            </script>        </div>"
      ]
     },
     "metadata": {},
     "output_type": "display_data"
    }
   ],
   "source": [
    "# Load the monthly data\n",
    "monthly_data = pd.read_excel('Customer_Success_Engineer_-_Project_Data.xlsx', sheet_name='Monthly', header=1)\n",
    "\n",
    "# Convert the 'Month' column to datetime to ensure proper sorting\n",
    "monthly_data['Month'] = pd.to_datetime(monthly_data['Month'], format='%B')\n",
    "\n",
    "# Sort the data\n",
    "monthly_data.sort_values(by=['Brand', 'Year', 'Month'], inplace=True)\n",
    "\n",
    "# Group by Brand and calculate the first and last entry for Units\n",
    "# Assuming that the data is structured such that the first entry is from January and the last from December\n",
    "brand_growth = monthly_data.groupby('Brand').agg(\n",
    "    first_units=pd.NamedAgg(column='Units', aggfunc='first'),\n",
    "    last_units=pd.NamedAgg(column='Units', aggfunc='last')\n",
    ").reset_index()\n",
    "\n",
    "def calculate_growth(row):\n",
    "    if row['first_units'] == 0:\n",
    "        return None if row['last_units'] == 0 else float('inf')\n",
    "    return ((row['last_units'] - row['first_units']) / row['first_units']) * 100\n",
    "\n",
    "brand_growth['Growth'] = brand_growth.apply(calculate_growth, axis=1)\n",
    "\n",
    "# Calculate the growth percentage\n",
    "\n",
    "# Sort by growth percentage\n",
    "brand_growth = brand_growth.sort_values(by='Growth', ascending=False)\n",
    "\n",
    "# Create a bar chart\n",
    "fig = px.bar(brand_growth, x='Brand', y='Growth', title='Year-Over-Year Unit Sales Growth by Brand')\n",
    "\n",
    "# Show the figure\n",
    "fig.show()\n"
   ]
  },
  {
   "cell_type": "markdown",
   "id": "32de8380",
   "metadata": {},
   "source": [
    "Shows market share of each subcategory. "
   ]
  },
  {
   "cell_type": "code",
   "execution_count": 207,
   "id": "2fc16d27",
   "metadata": {},
   "outputs": [
    {
     "data": {
      "application/vnd.plotly.v1+json": {
       "config": {
        "plotlyServerURL": "https://plot.ly"
       },
       "data": [
        {
         "branchvalues": "total",
         "domain": {
          "x": [
           0,
           1
          ],
          "y": [
           0,
           1
          ]
         },
         "hovertemplate": "labels=%{label}<br>Revenue=%{value}<br>parent=%{parent}<br>id=%{id}<extra></extra>",
         "ids": [
          "Amazon Launchpad Pets",
          "Automatic Cat Feeders",
          "Automatic Feeders",
          "Basic Bowls",
          "Basic Dog Bowls",
          "Bowls & Dishes",
          "Canned",
          "Canned Cat Food",
          "Canned Dog Food",
          "Cat Bowls & Dishes",
          "Cat Feeding Mats",
          "Cat Food Pouches",
          "Cat Food Storage",
          "Cat Snacks",
          "Comederos Automáticos para Animales Pequeños",
          "Comida Seca para Gato",
          "Comida de Gato Enlatada",
          "Dehydrated",
          "Dehydrated & Freeze-Dried Cat Food",
          "Dog Automatic Feeders",
          "Dog Feeding Mats",
          "Dog Food Storage",
          "Dosenfutter für Katzen",
          "Dry",
          "Dry Cat Food",
          "Dry Dog Food",
          "Feeding & Watering Supplies",
          "Feeding Mats",
          "Food Storage",
          "Freeze-Dried",
          "Freeze-Dried Cat Food",
          "Frozen",
          "Frozen Cat Food",
          "Pet Supplies",
          "Pouches",
          "Raised Bowls",
          "Small Animal Automatic Feeders",
          "Small Animal Feeding & Watering Supplies",
          "Snacks",
          "Stuffed Animals & Teddy Bears",
          "Tapetes para Comer para Gatos",
          "Unique Cat Products",
          "Unique Pet Products",
          "Veterinary Diet Cat Food",
          "Veterinary Diets",
          "Wet"
         ],
         "labels": [
          "Amazon Launchpad Pets",
          "Automatic Cat Feeders",
          "Automatic Feeders",
          "Basic Bowls",
          "Basic Dog Bowls",
          "Bowls & Dishes",
          "Canned",
          "Canned Cat Food",
          "Canned Dog Food",
          "Cat Bowls & Dishes",
          "Cat Feeding Mats",
          "Cat Food Pouches",
          "Cat Food Storage",
          "Cat Snacks",
          "Comederos Automáticos para Animales Pequeños",
          "Comida Seca para Gato",
          "Comida de Gato Enlatada",
          "Dehydrated",
          "Dehydrated & Freeze-Dried Cat Food",
          "Dog Automatic Feeders",
          "Dog Feeding Mats",
          "Dog Food Storage",
          "Dosenfutter für Katzen",
          "Dry",
          "Dry Cat Food",
          "Dry Dog Food",
          "Feeding & Watering Supplies",
          "Feeding Mats",
          "Food Storage",
          "Freeze-Dried",
          "Freeze-Dried Cat Food",
          "Frozen",
          "Frozen Cat Food",
          "Pet Supplies",
          "Pouches",
          "Raised Bowls",
          "Small Animal Automatic Feeders",
          "Small Animal Feeding & Watering Supplies",
          "Snacks",
          "Stuffed Animals & Teddy Bears",
          "Tapetes para Comer para Gatos",
          "Unique Cat Products",
          "Unique Pet Products",
          "Veterinary Diet Cat Food",
          "Veterinary Diets",
          "Wet"
         ],
         "name": "",
         "parents": [
          "",
          "",
          "",
          "",
          "",
          "",
          "",
          "",
          "",
          "",
          "",
          "",
          "",
          "",
          "",
          "",
          "",
          "",
          "",
          "",
          "",
          "",
          "",
          "",
          "",
          "",
          "",
          "",
          "",
          "",
          "",
          "",
          "",
          "",
          "",
          "",
          "",
          "",
          "",
          "",
          "",
          "",
          "",
          "",
          "",
          ""
         ],
         "type": "treemap",
         "values": [
          6910440.154099156,
          7056532.023273875,
          10875248.48281552,
          4208418.22198943,
          426877.49074112496,
          1118577.8866249342,
          286067344.4414402,
          209900089.56355813,
          45235517.30572533,
          1025260.5306699341,
          9725573.498074207,
          60802972.37803976,
          11683954.245394554,
          4056600.949393927,
          3065358.654499875,
          52178667.012398675,
          59898999.49519987,
          2651006.97519775,
          2558194.03866925,
          3065358.654499875,
          9725573.498074207,
          18423809.601035476,
          5740595.284486865,
          183307446.52594054,
          160619703.00552592,
          422715.7362945,
          3562873.057051333,
          16326294.853538597,
          24693086.800497603,
          2651006.97519775,
          2558194.03866925,
          2558194.03866925,
          2558194.03866925,
          430835479.9540813,
          50006626.20283743,
          3089840.335364495,
          7068369.584863375,
          187420.940917,
          4056600.949393927,
          123568.42856375,
          2603940.110419255,
          3374470.4003774063,
          11463066.75244252,
          1985503.5726225001,
          1617629.4858504368,
          4904297.699008133
         ]
        }
       ],
       "layout": {
        "legend": {
         "tracegroupgap": 0
        },
        "template": {
         "data": {
          "bar": [
           {
            "error_x": {
             "color": "#2a3f5f"
            },
            "error_y": {
             "color": "#2a3f5f"
            },
            "marker": {
             "line": {
              "color": "#E5ECF6",
              "width": 0.5
             },
             "pattern": {
              "fillmode": "overlay",
              "size": 10,
              "solidity": 0.2
             }
            },
            "type": "bar"
           }
          ],
          "barpolar": [
           {
            "marker": {
             "line": {
              "color": "#E5ECF6",
              "width": 0.5
             },
             "pattern": {
              "fillmode": "overlay",
              "size": 10,
              "solidity": 0.2
             }
            },
            "type": "barpolar"
           }
          ],
          "carpet": [
           {
            "aaxis": {
             "endlinecolor": "#2a3f5f",
             "gridcolor": "white",
             "linecolor": "white",
             "minorgridcolor": "white",
             "startlinecolor": "#2a3f5f"
            },
            "baxis": {
             "endlinecolor": "#2a3f5f",
             "gridcolor": "white",
             "linecolor": "white",
             "minorgridcolor": "white",
             "startlinecolor": "#2a3f5f"
            },
            "type": "carpet"
           }
          ],
          "choropleth": [
           {
            "colorbar": {
             "outlinewidth": 0,
             "ticks": ""
            },
            "type": "choropleth"
           }
          ],
          "contour": [
           {
            "colorbar": {
             "outlinewidth": 0,
             "ticks": ""
            },
            "colorscale": [
             [
              0,
              "#0d0887"
             ],
             [
              0.1111111111111111,
              "#46039f"
             ],
             [
              0.2222222222222222,
              "#7201a8"
             ],
             [
              0.3333333333333333,
              "#9c179e"
             ],
             [
              0.4444444444444444,
              "#bd3786"
             ],
             [
              0.5555555555555556,
              "#d8576b"
             ],
             [
              0.6666666666666666,
              "#ed7953"
             ],
             [
              0.7777777777777778,
              "#fb9f3a"
             ],
             [
              0.8888888888888888,
              "#fdca26"
             ],
             [
              1,
              "#f0f921"
             ]
            ],
            "type": "contour"
           }
          ],
          "contourcarpet": [
           {
            "colorbar": {
             "outlinewidth": 0,
             "ticks": ""
            },
            "type": "contourcarpet"
           }
          ],
          "heatmap": [
           {
            "colorbar": {
             "outlinewidth": 0,
             "ticks": ""
            },
            "colorscale": [
             [
              0,
              "#0d0887"
             ],
             [
              0.1111111111111111,
              "#46039f"
             ],
             [
              0.2222222222222222,
              "#7201a8"
             ],
             [
              0.3333333333333333,
              "#9c179e"
             ],
             [
              0.4444444444444444,
              "#bd3786"
             ],
             [
              0.5555555555555556,
              "#d8576b"
             ],
             [
              0.6666666666666666,
              "#ed7953"
             ],
             [
              0.7777777777777778,
              "#fb9f3a"
             ],
             [
              0.8888888888888888,
              "#fdca26"
             ],
             [
              1,
              "#f0f921"
             ]
            ],
            "type": "heatmap"
           }
          ],
          "heatmapgl": [
           {
            "colorbar": {
             "outlinewidth": 0,
             "ticks": ""
            },
            "colorscale": [
             [
              0,
              "#0d0887"
             ],
             [
              0.1111111111111111,
              "#46039f"
             ],
             [
              0.2222222222222222,
              "#7201a8"
             ],
             [
              0.3333333333333333,
              "#9c179e"
             ],
             [
              0.4444444444444444,
              "#bd3786"
             ],
             [
              0.5555555555555556,
              "#d8576b"
             ],
             [
              0.6666666666666666,
              "#ed7953"
             ],
             [
              0.7777777777777778,
              "#fb9f3a"
             ],
             [
              0.8888888888888888,
              "#fdca26"
             ],
             [
              1,
              "#f0f921"
             ]
            ],
            "type": "heatmapgl"
           }
          ],
          "histogram": [
           {
            "marker": {
             "pattern": {
              "fillmode": "overlay",
              "size": 10,
              "solidity": 0.2
             }
            },
            "type": "histogram"
           }
          ],
          "histogram2d": [
           {
            "colorbar": {
             "outlinewidth": 0,
             "ticks": ""
            },
            "colorscale": [
             [
              0,
              "#0d0887"
             ],
             [
              0.1111111111111111,
              "#46039f"
             ],
             [
              0.2222222222222222,
              "#7201a8"
             ],
             [
              0.3333333333333333,
              "#9c179e"
             ],
             [
              0.4444444444444444,
              "#bd3786"
             ],
             [
              0.5555555555555556,
              "#d8576b"
             ],
             [
              0.6666666666666666,
              "#ed7953"
             ],
             [
              0.7777777777777778,
              "#fb9f3a"
             ],
             [
              0.8888888888888888,
              "#fdca26"
             ],
             [
              1,
              "#f0f921"
             ]
            ],
            "type": "histogram2d"
           }
          ],
          "histogram2dcontour": [
           {
            "colorbar": {
             "outlinewidth": 0,
             "ticks": ""
            },
            "colorscale": [
             [
              0,
              "#0d0887"
             ],
             [
              0.1111111111111111,
              "#46039f"
             ],
             [
              0.2222222222222222,
              "#7201a8"
             ],
             [
              0.3333333333333333,
              "#9c179e"
             ],
             [
              0.4444444444444444,
              "#bd3786"
             ],
             [
              0.5555555555555556,
              "#d8576b"
             ],
             [
              0.6666666666666666,
              "#ed7953"
             ],
             [
              0.7777777777777778,
              "#fb9f3a"
             ],
             [
              0.8888888888888888,
              "#fdca26"
             ],
             [
              1,
              "#f0f921"
             ]
            ],
            "type": "histogram2dcontour"
           }
          ],
          "mesh3d": [
           {
            "colorbar": {
             "outlinewidth": 0,
             "ticks": ""
            },
            "type": "mesh3d"
           }
          ],
          "parcoords": [
           {
            "line": {
             "colorbar": {
              "outlinewidth": 0,
              "ticks": ""
             }
            },
            "type": "parcoords"
           }
          ],
          "pie": [
           {
            "automargin": true,
            "type": "pie"
           }
          ],
          "scatter": [
           {
            "fillpattern": {
             "fillmode": "overlay",
             "size": 10,
             "solidity": 0.2
            },
            "type": "scatter"
           }
          ],
          "scatter3d": [
           {
            "line": {
             "colorbar": {
              "outlinewidth": 0,
              "ticks": ""
             }
            },
            "marker": {
             "colorbar": {
              "outlinewidth": 0,
              "ticks": ""
             }
            },
            "type": "scatter3d"
           }
          ],
          "scattercarpet": [
           {
            "marker": {
             "colorbar": {
              "outlinewidth": 0,
              "ticks": ""
             }
            },
            "type": "scattercarpet"
           }
          ],
          "scattergeo": [
           {
            "marker": {
             "colorbar": {
              "outlinewidth": 0,
              "ticks": ""
             }
            },
            "type": "scattergeo"
           }
          ],
          "scattergl": [
           {
            "marker": {
             "colorbar": {
              "outlinewidth": 0,
              "ticks": ""
             }
            },
            "type": "scattergl"
           }
          ],
          "scattermapbox": [
           {
            "marker": {
             "colorbar": {
              "outlinewidth": 0,
              "ticks": ""
             }
            },
            "type": "scattermapbox"
           }
          ],
          "scatterpolar": [
           {
            "marker": {
             "colorbar": {
              "outlinewidth": 0,
              "ticks": ""
             }
            },
            "type": "scatterpolar"
           }
          ],
          "scatterpolargl": [
           {
            "marker": {
             "colorbar": {
              "outlinewidth": 0,
              "ticks": ""
             }
            },
            "type": "scatterpolargl"
           }
          ],
          "scatterternary": [
           {
            "marker": {
             "colorbar": {
              "outlinewidth": 0,
              "ticks": ""
             }
            },
            "type": "scatterternary"
           }
          ],
          "surface": [
           {
            "colorbar": {
             "outlinewidth": 0,
             "ticks": ""
            },
            "colorscale": [
             [
              0,
              "#0d0887"
             ],
             [
              0.1111111111111111,
              "#46039f"
             ],
             [
              0.2222222222222222,
              "#7201a8"
             ],
             [
              0.3333333333333333,
              "#9c179e"
             ],
             [
              0.4444444444444444,
              "#bd3786"
             ],
             [
              0.5555555555555556,
              "#d8576b"
             ],
             [
              0.6666666666666666,
              "#ed7953"
             ],
             [
              0.7777777777777778,
              "#fb9f3a"
             ],
             [
              0.8888888888888888,
              "#fdca26"
             ],
             [
              1,
              "#f0f921"
             ]
            ],
            "type": "surface"
           }
          ],
          "table": [
           {
            "cells": {
             "fill": {
              "color": "#EBF0F8"
             },
             "line": {
              "color": "white"
             }
            },
            "header": {
             "fill": {
              "color": "#C8D4E3"
             },
             "line": {
              "color": "white"
             }
            },
            "type": "table"
           }
          ]
         },
         "layout": {
          "annotationdefaults": {
           "arrowcolor": "#2a3f5f",
           "arrowhead": 0,
           "arrowwidth": 1
          },
          "autotypenumbers": "strict",
          "coloraxis": {
           "colorbar": {
            "outlinewidth": 0,
            "ticks": ""
           }
          },
          "colorscale": {
           "diverging": [
            [
             0,
             "#8e0152"
            ],
            [
             0.1,
             "#c51b7d"
            ],
            [
             0.2,
             "#de77ae"
            ],
            [
             0.3,
             "#f1b6da"
            ],
            [
             0.4,
             "#fde0ef"
            ],
            [
             0.5,
             "#f7f7f7"
            ],
            [
             0.6,
             "#e6f5d0"
            ],
            [
             0.7,
             "#b8e186"
            ],
            [
             0.8,
             "#7fbc41"
            ],
            [
             0.9,
             "#4d9221"
            ],
            [
             1,
             "#276419"
            ]
           ],
           "sequential": [
            [
             0,
             "#0d0887"
            ],
            [
             0.1111111111111111,
             "#46039f"
            ],
            [
             0.2222222222222222,
             "#7201a8"
            ],
            [
             0.3333333333333333,
             "#9c179e"
            ],
            [
             0.4444444444444444,
             "#bd3786"
            ],
            [
             0.5555555555555556,
             "#d8576b"
            ],
            [
             0.6666666666666666,
             "#ed7953"
            ],
            [
             0.7777777777777778,
             "#fb9f3a"
            ],
            [
             0.8888888888888888,
             "#fdca26"
            ],
            [
             1,
             "#f0f921"
            ]
           ],
           "sequentialminus": [
            [
             0,
             "#0d0887"
            ],
            [
             0.1111111111111111,
             "#46039f"
            ],
            [
             0.2222222222222222,
             "#7201a8"
            ],
            [
             0.3333333333333333,
             "#9c179e"
            ],
            [
             0.4444444444444444,
             "#bd3786"
            ],
            [
             0.5555555555555556,
             "#d8576b"
            ],
            [
             0.6666666666666666,
             "#ed7953"
            ],
            [
             0.7777777777777778,
             "#fb9f3a"
            ],
            [
             0.8888888888888888,
             "#fdca26"
            ],
            [
             1,
             "#f0f921"
            ]
           ]
          },
          "colorway": [
           "#636efa",
           "#EF553B",
           "#00cc96",
           "#ab63fa",
           "#FFA15A",
           "#19d3f3",
           "#FF6692",
           "#B6E880",
           "#FF97FF",
           "#FECB52"
          ],
          "font": {
           "color": "#2a3f5f"
          },
          "geo": {
           "bgcolor": "white",
           "lakecolor": "white",
           "landcolor": "#E5ECF6",
           "showlakes": true,
           "showland": true,
           "subunitcolor": "white"
          },
          "hoverlabel": {
           "align": "left"
          },
          "hovermode": "closest",
          "mapbox": {
           "style": "light"
          },
          "paper_bgcolor": "white",
          "plot_bgcolor": "#E5ECF6",
          "polar": {
           "angularaxis": {
            "gridcolor": "white",
            "linecolor": "white",
            "ticks": ""
           },
           "bgcolor": "#E5ECF6",
           "radialaxis": {
            "gridcolor": "white",
            "linecolor": "white",
            "ticks": ""
           }
          },
          "scene": {
           "xaxis": {
            "backgroundcolor": "#E5ECF6",
            "gridcolor": "white",
            "gridwidth": 2,
            "linecolor": "white",
            "showbackground": true,
            "ticks": "",
            "zerolinecolor": "white"
           },
           "yaxis": {
            "backgroundcolor": "#E5ECF6",
            "gridcolor": "white",
            "gridwidth": 2,
            "linecolor": "white",
            "showbackground": true,
            "ticks": "",
            "zerolinecolor": "white"
           },
           "zaxis": {
            "backgroundcolor": "#E5ECF6",
            "gridcolor": "white",
            "gridwidth": 2,
            "linecolor": "white",
            "showbackground": true,
            "ticks": "",
            "zerolinecolor": "white"
           }
          },
          "shapedefaults": {
           "line": {
            "color": "#2a3f5f"
           }
          },
          "ternary": {
           "aaxis": {
            "gridcolor": "white",
            "linecolor": "white",
            "ticks": ""
           },
           "baxis": {
            "gridcolor": "white",
            "linecolor": "white",
            "ticks": ""
           },
           "bgcolor": "#E5ECF6",
           "caxis": {
            "gridcolor": "white",
            "linecolor": "white",
            "ticks": ""
           }
          },
          "title": {
           "x": 0.05
          },
          "xaxis": {
           "automargin": true,
           "gridcolor": "white",
           "linecolor": "white",
           "ticks": "",
           "title": {
            "standoff": 15
           },
           "zerolinecolor": "white",
           "zerolinewidth": 2
          },
          "yaxis": {
           "automargin": true,
           "gridcolor": "white",
           "linecolor": "white",
           "ticks": "",
           "title": {
            "standoff": 15
           },
           "zerolinecolor": "white",
           "zerolinewidth": 2
          }
         }
        },
        "title": {
         "text": "Sales Performance by Subcategories"
        },
        "xaxis": {
         "categoryorder": "total descending",
         "title": {
          "text": "Subcategories"
         }
        },
        "yaxis": {
         "title": {
          "text": "Total Revenue ($)"
         }
        }
       }
      },
      "text/html": [
       "<div>                            <div id=\"af3a4635-69a2-41c9-b207-de968b1428cc\" class=\"plotly-graph-div\" style=\"height:525px; width:100%;\"></div>            <script type=\"text/javascript\">                require([\"plotly\"], function(Plotly) {                    window.PLOTLYENV=window.PLOTLYENV || {};                                    if (document.getElementById(\"af3a4635-69a2-41c9-b207-de968b1428cc\")) {                    Plotly.newPlot(                        \"af3a4635-69a2-41c9-b207-de968b1428cc\",                        [{\"branchvalues\":\"total\",\"domain\":{\"x\":[0.0,1.0],\"y\":[0.0,1.0]},\"hovertemplate\":\"labels=%{label}\\u003cbr\\u003eRevenue=%{value}\\u003cbr\\u003eparent=%{parent}\\u003cbr\\u003eid=%{id}\\u003cextra\\u003e\\u003c\\u002fextra\\u003e\",\"ids\":[\"Amazon Launchpad Pets\",\"Automatic Cat Feeders\",\"Automatic Feeders\",\"Basic Bowls\",\"Basic Dog Bowls\",\"Bowls & Dishes\",\"Canned\",\"Canned Cat Food\",\"Canned Dog Food\",\"Cat Bowls & Dishes\",\"Cat Feeding Mats\",\"Cat Food Pouches\",\"Cat Food Storage\",\"Cat Snacks\",\"Comederos Autom\\u00e1ticos para Animales Peque\\u00f1os\",\"Comida Seca para Gato\",\"Comida de Gato Enlatada\",\"Dehydrated\",\"Dehydrated & Freeze-Dried Cat Food\",\"Dog Automatic Feeders\",\"Dog Feeding Mats\",\"Dog Food Storage\",\"Dosenfutter f\\u00fcr Katzen\",\"Dry\",\"Dry Cat Food\",\"Dry Dog Food\",\"Feeding & Watering Supplies\",\"Feeding Mats\",\"Food Storage\",\"Freeze-Dried\",\"Freeze-Dried Cat Food\",\"Frozen\",\"Frozen Cat Food\",\"Pet Supplies\",\"Pouches\",\"Raised Bowls\",\"Small Animal Automatic Feeders\",\"Small Animal Feeding & Watering Supplies\",\"Snacks\",\"Stuffed Animals & Teddy Bears\",\"Tapetes para Comer para Gatos\",\"Unique Cat Products\",\"Unique Pet Products\",\"Veterinary Diet Cat Food\",\"Veterinary Diets\",\"Wet\"],\"labels\":[\"Amazon Launchpad Pets\",\"Automatic Cat Feeders\",\"Automatic Feeders\",\"Basic Bowls\",\"Basic Dog Bowls\",\"Bowls & Dishes\",\"Canned\",\"Canned Cat Food\",\"Canned Dog Food\",\"Cat Bowls & Dishes\",\"Cat Feeding Mats\",\"Cat Food Pouches\",\"Cat Food Storage\",\"Cat Snacks\",\"Comederos Autom\\u00e1ticos para Animales Peque\\u00f1os\",\"Comida Seca para Gato\",\"Comida de Gato Enlatada\",\"Dehydrated\",\"Dehydrated & Freeze-Dried Cat Food\",\"Dog Automatic Feeders\",\"Dog Feeding Mats\",\"Dog Food Storage\",\"Dosenfutter f\\u00fcr Katzen\",\"Dry\",\"Dry Cat Food\",\"Dry Dog Food\",\"Feeding & Watering Supplies\",\"Feeding Mats\",\"Food Storage\",\"Freeze-Dried\",\"Freeze-Dried Cat Food\",\"Frozen\",\"Frozen Cat Food\",\"Pet Supplies\",\"Pouches\",\"Raised Bowls\",\"Small Animal Automatic Feeders\",\"Small Animal Feeding & Watering Supplies\",\"Snacks\",\"Stuffed Animals & Teddy Bears\",\"Tapetes para Comer para Gatos\",\"Unique Cat Products\",\"Unique Pet Products\",\"Veterinary Diet Cat Food\",\"Veterinary Diets\",\"Wet\"],\"name\":\"\",\"parents\":[\"\",\"\",\"\",\"\",\"\",\"\",\"\",\"\",\"\",\"\",\"\",\"\",\"\",\"\",\"\",\"\",\"\",\"\",\"\",\"\",\"\",\"\",\"\",\"\",\"\",\"\",\"\",\"\",\"\",\"\",\"\",\"\",\"\",\"\",\"\",\"\",\"\",\"\",\"\",\"\",\"\",\"\",\"\",\"\",\"\",\"\"],\"values\":[6910440.154099156,7056532.023273875,10875248.48281552,4208418.22198943,426877.49074112496,1118577.8866249342,286067344.4414402,209900089.56355813,45235517.30572533,1025260.5306699341,9725573.498074207,60802972.37803976,11683954.245394554,4056600.949393927,3065358.654499875,52178667.012398675,59898999.49519987,2651006.97519775,2558194.03866925,3065358.654499875,9725573.498074207,18423809.601035476,5740595.284486865,183307446.52594054,160619703.00552592,422715.7362945,3562873.057051333,16326294.853538597,24693086.800497603,2651006.97519775,2558194.03866925,2558194.03866925,2558194.03866925,430835479.9540813,50006626.20283743,3089840.335364495,7068369.584863375,187420.940917,4056600.949393927,123568.42856375,2603940.110419255,3374470.4003774063,11463066.75244252,1985503.5726225001,1617629.4858504368,4904297.699008133],\"type\":\"treemap\"}],                        {\"template\":{\"data\":{\"histogram2dcontour\":[{\"type\":\"histogram2dcontour\",\"colorbar\":{\"outlinewidth\":0,\"ticks\":\"\"},\"colorscale\":[[0.0,\"#0d0887\"],[0.1111111111111111,\"#46039f\"],[0.2222222222222222,\"#7201a8\"],[0.3333333333333333,\"#9c179e\"],[0.4444444444444444,\"#bd3786\"],[0.5555555555555556,\"#d8576b\"],[0.6666666666666666,\"#ed7953\"],[0.7777777777777778,\"#fb9f3a\"],[0.8888888888888888,\"#fdca26\"],[1.0,\"#f0f921\"]]}],\"choropleth\":[{\"type\":\"choropleth\",\"colorbar\":{\"outlinewidth\":0,\"ticks\":\"\"}}],\"histogram2d\":[{\"type\":\"histogram2d\",\"colorbar\":{\"outlinewidth\":0,\"ticks\":\"\"},\"colorscale\":[[0.0,\"#0d0887\"],[0.1111111111111111,\"#46039f\"],[0.2222222222222222,\"#7201a8\"],[0.3333333333333333,\"#9c179e\"],[0.4444444444444444,\"#bd3786\"],[0.5555555555555556,\"#d8576b\"],[0.6666666666666666,\"#ed7953\"],[0.7777777777777778,\"#fb9f3a\"],[0.8888888888888888,\"#fdca26\"],[1.0,\"#f0f921\"]]}],\"heatmap\":[{\"type\":\"heatmap\",\"colorbar\":{\"outlinewidth\":0,\"ticks\":\"\"},\"colorscale\":[[0.0,\"#0d0887\"],[0.1111111111111111,\"#46039f\"],[0.2222222222222222,\"#7201a8\"],[0.3333333333333333,\"#9c179e\"],[0.4444444444444444,\"#bd3786\"],[0.5555555555555556,\"#d8576b\"],[0.6666666666666666,\"#ed7953\"],[0.7777777777777778,\"#fb9f3a\"],[0.8888888888888888,\"#fdca26\"],[1.0,\"#f0f921\"]]}],\"heatmapgl\":[{\"type\":\"heatmapgl\",\"colorbar\":{\"outlinewidth\":0,\"ticks\":\"\"},\"colorscale\":[[0.0,\"#0d0887\"],[0.1111111111111111,\"#46039f\"],[0.2222222222222222,\"#7201a8\"],[0.3333333333333333,\"#9c179e\"],[0.4444444444444444,\"#bd3786\"],[0.5555555555555556,\"#d8576b\"],[0.6666666666666666,\"#ed7953\"],[0.7777777777777778,\"#fb9f3a\"],[0.8888888888888888,\"#fdca26\"],[1.0,\"#f0f921\"]]}],\"contourcarpet\":[{\"type\":\"contourcarpet\",\"colorbar\":{\"outlinewidth\":0,\"ticks\":\"\"}}],\"contour\":[{\"type\":\"contour\",\"colorbar\":{\"outlinewidth\":0,\"ticks\":\"\"},\"colorscale\":[[0.0,\"#0d0887\"],[0.1111111111111111,\"#46039f\"],[0.2222222222222222,\"#7201a8\"],[0.3333333333333333,\"#9c179e\"],[0.4444444444444444,\"#bd3786\"],[0.5555555555555556,\"#d8576b\"],[0.6666666666666666,\"#ed7953\"],[0.7777777777777778,\"#fb9f3a\"],[0.8888888888888888,\"#fdca26\"],[1.0,\"#f0f921\"]]}],\"surface\":[{\"type\":\"surface\",\"colorbar\":{\"outlinewidth\":0,\"ticks\":\"\"},\"colorscale\":[[0.0,\"#0d0887\"],[0.1111111111111111,\"#46039f\"],[0.2222222222222222,\"#7201a8\"],[0.3333333333333333,\"#9c179e\"],[0.4444444444444444,\"#bd3786\"],[0.5555555555555556,\"#d8576b\"],[0.6666666666666666,\"#ed7953\"],[0.7777777777777778,\"#fb9f3a\"],[0.8888888888888888,\"#fdca26\"],[1.0,\"#f0f921\"]]}],\"mesh3d\":[{\"type\":\"mesh3d\",\"colorbar\":{\"outlinewidth\":0,\"ticks\":\"\"}}],\"scatter\":[{\"fillpattern\":{\"fillmode\":\"overlay\",\"size\":10,\"solidity\":0.2},\"type\":\"scatter\"}],\"parcoords\":[{\"type\":\"parcoords\",\"line\":{\"colorbar\":{\"outlinewidth\":0,\"ticks\":\"\"}}}],\"scatterpolargl\":[{\"type\":\"scatterpolargl\",\"marker\":{\"colorbar\":{\"outlinewidth\":0,\"ticks\":\"\"}}}],\"bar\":[{\"error_x\":{\"color\":\"#2a3f5f\"},\"error_y\":{\"color\":\"#2a3f5f\"},\"marker\":{\"line\":{\"color\":\"#E5ECF6\",\"width\":0.5},\"pattern\":{\"fillmode\":\"overlay\",\"size\":10,\"solidity\":0.2}},\"type\":\"bar\"}],\"scattergeo\":[{\"type\":\"scattergeo\",\"marker\":{\"colorbar\":{\"outlinewidth\":0,\"ticks\":\"\"}}}],\"scatterpolar\":[{\"type\":\"scatterpolar\",\"marker\":{\"colorbar\":{\"outlinewidth\":0,\"ticks\":\"\"}}}],\"histogram\":[{\"marker\":{\"pattern\":{\"fillmode\":\"overlay\",\"size\":10,\"solidity\":0.2}},\"type\":\"histogram\"}],\"scattergl\":[{\"type\":\"scattergl\",\"marker\":{\"colorbar\":{\"outlinewidth\":0,\"ticks\":\"\"}}}],\"scatter3d\":[{\"type\":\"scatter3d\",\"line\":{\"colorbar\":{\"outlinewidth\":0,\"ticks\":\"\"}},\"marker\":{\"colorbar\":{\"outlinewidth\":0,\"ticks\":\"\"}}}],\"scattermapbox\":[{\"type\":\"scattermapbox\",\"marker\":{\"colorbar\":{\"outlinewidth\":0,\"ticks\":\"\"}}}],\"scatterternary\":[{\"type\":\"scatterternary\",\"marker\":{\"colorbar\":{\"outlinewidth\":0,\"ticks\":\"\"}}}],\"scattercarpet\":[{\"type\":\"scattercarpet\",\"marker\":{\"colorbar\":{\"outlinewidth\":0,\"ticks\":\"\"}}}],\"carpet\":[{\"aaxis\":{\"endlinecolor\":\"#2a3f5f\",\"gridcolor\":\"white\",\"linecolor\":\"white\",\"minorgridcolor\":\"white\",\"startlinecolor\":\"#2a3f5f\"},\"baxis\":{\"endlinecolor\":\"#2a3f5f\",\"gridcolor\":\"white\",\"linecolor\":\"white\",\"minorgridcolor\":\"white\",\"startlinecolor\":\"#2a3f5f\"},\"type\":\"carpet\"}],\"table\":[{\"cells\":{\"fill\":{\"color\":\"#EBF0F8\"},\"line\":{\"color\":\"white\"}},\"header\":{\"fill\":{\"color\":\"#C8D4E3\"},\"line\":{\"color\":\"white\"}},\"type\":\"table\"}],\"barpolar\":[{\"marker\":{\"line\":{\"color\":\"#E5ECF6\",\"width\":0.5},\"pattern\":{\"fillmode\":\"overlay\",\"size\":10,\"solidity\":0.2}},\"type\":\"barpolar\"}],\"pie\":[{\"automargin\":true,\"type\":\"pie\"}]},\"layout\":{\"autotypenumbers\":\"strict\",\"colorway\":[\"#636efa\",\"#EF553B\",\"#00cc96\",\"#ab63fa\",\"#FFA15A\",\"#19d3f3\",\"#FF6692\",\"#B6E880\",\"#FF97FF\",\"#FECB52\"],\"font\":{\"color\":\"#2a3f5f\"},\"hovermode\":\"closest\",\"hoverlabel\":{\"align\":\"left\"},\"paper_bgcolor\":\"white\",\"plot_bgcolor\":\"#E5ECF6\",\"polar\":{\"bgcolor\":\"#E5ECF6\",\"angularaxis\":{\"gridcolor\":\"white\",\"linecolor\":\"white\",\"ticks\":\"\"},\"radialaxis\":{\"gridcolor\":\"white\",\"linecolor\":\"white\",\"ticks\":\"\"}},\"ternary\":{\"bgcolor\":\"#E5ECF6\",\"aaxis\":{\"gridcolor\":\"white\",\"linecolor\":\"white\",\"ticks\":\"\"},\"baxis\":{\"gridcolor\":\"white\",\"linecolor\":\"white\",\"ticks\":\"\"},\"caxis\":{\"gridcolor\":\"white\",\"linecolor\":\"white\",\"ticks\":\"\"}},\"coloraxis\":{\"colorbar\":{\"outlinewidth\":0,\"ticks\":\"\"}},\"colorscale\":{\"sequential\":[[0.0,\"#0d0887\"],[0.1111111111111111,\"#46039f\"],[0.2222222222222222,\"#7201a8\"],[0.3333333333333333,\"#9c179e\"],[0.4444444444444444,\"#bd3786\"],[0.5555555555555556,\"#d8576b\"],[0.6666666666666666,\"#ed7953\"],[0.7777777777777778,\"#fb9f3a\"],[0.8888888888888888,\"#fdca26\"],[1.0,\"#f0f921\"]],\"sequentialminus\":[[0.0,\"#0d0887\"],[0.1111111111111111,\"#46039f\"],[0.2222222222222222,\"#7201a8\"],[0.3333333333333333,\"#9c179e\"],[0.4444444444444444,\"#bd3786\"],[0.5555555555555556,\"#d8576b\"],[0.6666666666666666,\"#ed7953\"],[0.7777777777777778,\"#fb9f3a\"],[0.8888888888888888,\"#fdca26\"],[1.0,\"#f0f921\"]],\"diverging\":[[0,\"#8e0152\"],[0.1,\"#c51b7d\"],[0.2,\"#de77ae\"],[0.3,\"#f1b6da\"],[0.4,\"#fde0ef\"],[0.5,\"#f7f7f7\"],[0.6,\"#e6f5d0\"],[0.7,\"#b8e186\"],[0.8,\"#7fbc41\"],[0.9,\"#4d9221\"],[1,\"#276419\"]]},\"xaxis\":{\"gridcolor\":\"white\",\"linecolor\":\"white\",\"ticks\":\"\",\"title\":{\"standoff\":15},\"zerolinecolor\":\"white\",\"automargin\":true,\"zerolinewidth\":2},\"yaxis\":{\"gridcolor\":\"white\",\"linecolor\":\"white\",\"ticks\":\"\",\"title\":{\"standoff\":15},\"zerolinecolor\":\"white\",\"automargin\":true,\"zerolinewidth\":2},\"scene\":{\"xaxis\":{\"backgroundcolor\":\"#E5ECF6\",\"gridcolor\":\"white\",\"linecolor\":\"white\",\"showbackground\":true,\"ticks\":\"\",\"zerolinecolor\":\"white\",\"gridwidth\":2},\"yaxis\":{\"backgroundcolor\":\"#E5ECF6\",\"gridcolor\":\"white\",\"linecolor\":\"white\",\"showbackground\":true,\"ticks\":\"\",\"zerolinecolor\":\"white\",\"gridwidth\":2},\"zaxis\":{\"backgroundcolor\":\"#E5ECF6\",\"gridcolor\":\"white\",\"linecolor\":\"white\",\"showbackground\":true,\"ticks\":\"\",\"zerolinecolor\":\"white\",\"gridwidth\":2}},\"shapedefaults\":{\"line\":{\"color\":\"#2a3f5f\"}},\"annotationdefaults\":{\"arrowcolor\":\"#2a3f5f\",\"arrowhead\":0,\"arrowwidth\":1},\"geo\":{\"bgcolor\":\"white\",\"landcolor\":\"#E5ECF6\",\"subunitcolor\":\"white\",\"showland\":true,\"showlakes\":true,\"lakecolor\":\"white\"},\"title\":{\"x\":0.05},\"mapbox\":{\"style\":\"light\"}}},\"legend\":{\"tracegroupgap\":0},\"title\":{\"text\":\"Sales Performance by Subcategories\"},\"xaxis\":{\"title\":{\"text\":\"Subcategories\"},\"categoryorder\":\"total descending\"},\"yaxis\":{\"title\":{\"text\":\"Total Revenue ($)\"}}},                        {\"responsive\": true}                    ).then(function(){\n",
       "                            \n",
       "var gd = document.getElementById('af3a4635-69a2-41c9-b207-de968b1428cc');\n",
       "var x = new MutationObserver(function (mutations, observer) {{\n",
       "        var display = window.getComputedStyle(gd).display;\n",
       "        if (!display || display === 'none') {{\n",
       "            console.log([gd, 'removed!']);\n",
       "            Plotly.purge(gd);\n",
       "            observer.disconnect();\n",
       "        }}\n",
       "}});\n",
       "\n",
       "// Listen for the removal of the full notebook cells\n",
       "var notebookContainer = gd.closest('#notebook-container');\n",
       "if (notebookContainer) {{\n",
       "    x.observe(notebookContainer, {childList: true});\n",
       "}}\n",
       "\n",
       "// Listen for the clearing of the current output cell\n",
       "var outputEl = gd.closest('.output');\n",
       "if (outputEl) {{\n",
       "    x.observe(outputEl, {childList: true});\n",
       "}}\n",
       "\n",
       "                        })                };                });            </script>        </div>"
      ]
     },
     "metadata": {},
     "output_type": "display_data"
    }
   ],
   "source": [
    "\n",
    "\n",
    "# Load the data from the 'Segment Products' sheet\n",
    "products_data = pd.read_excel('Customer_Success_Engineer_-_Project_Data.xlsx', sheet_name='Segment Products', header=1)\n",
    "\n",
    "\n",
    "# We then explode the dataframe to have a separate row for each subcategory of each product.\n",
    "products_data['Subcategories'] = products_data['Subcategories'].str.split(', ')\n",
    "products_data_exploded = products_data.explode('Subcategories')\n",
    "\n",
    "# Now we group by 'Subcategories' and sum up the 'Revenue'\n",
    "category_performance = products_data_exploded.groupby('Subcategories')['Revenue'].sum().reset_index()\n",
    "\n",
    "# Sort the categories by revenue in descending order\n",
    "category_performance.sort_values('Revenue', ascending=False, inplace=True)\n",
    "\n",
    "# Create a bar chart or a treemap to visualize sales performance by subcategory\n",
    "# fig = px.bar(category_performance, x='Subcategories', y='Revenue', title='Sales Performance by Subcategories')\n",
    "# Or use a treemap:\n",
    "fig = px.treemap(category_performance, path=['Subcategories'], values='Revenue', title='Sales Performance by Subcategories')\n",
    "\n",
    "# Improve layout of the plot\n",
    "fig.update_layout(xaxis_title='Subcategories', yaxis_title='Total Revenue ($)', xaxis={'categoryorder':'total descending'})\n",
    "\n",
    "# Show the figure\n",
    "fig.show()\n"
   ]
  }
 ],
 "metadata": {
  "kernelspec": {
   "display_name": "Python 3 (ipykernel)",
   "language": "python",
   "name": "python3"
  },
  "language_info": {
   "codemirror_mode": {
    "name": "ipython",
    "version": 3
   },
   "file_extension": ".py",
   "mimetype": "text/x-python",
   "name": "python",
   "nbconvert_exporter": "python",
   "pygments_lexer": "ipython3",
   "version": "3.10.0"
  }
 },
 "nbformat": 4,
 "nbformat_minor": 5
}
