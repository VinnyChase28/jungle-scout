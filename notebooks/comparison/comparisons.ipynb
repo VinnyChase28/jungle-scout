{
 "cells": [
  {
   "cell_type": "markdown",
   "metadata": {},
   "source": [
    "Various comparisons of any company Vs the rest of the market. "
   ]
  },
  {
   "cell_type": "markdown",
   "metadata": {},
   "source": [
    "Revenue per review"
   ]
  },
  {
   "cell_type": "code",
   "execution_count": 39,
   "metadata": {},
   "outputs": [
    {
     "data": {
      "application/vnd.plotly.v1+json": {
       "config": {
        "plotlyServerURL": "https://plot.ly"
       },
       "data": [
        {
         "marker": {
          "color": "royalblue"
         },
         "name": "Purina Fancy Feast",
         "type": "bar",
         "x": [
          "Purina Fancy Feast"
         ],
         "y": [
          96879962.01264869
         ]
        },
        {
         "marker": {
          "color": "lightskyblue"
         },
         "name": "Friskies",
         "type": "bar",
         "x": [
          "Friskies"
         ],
         "y": [
          45152404.391888015
         ]
        },
        {
         "marker": {
          "color": "lightskyblue"
         },
         "name": "Blue Buffalo",
         "type": "bar",
         "x": [
          "Blue Buffalo"
         ],
         "y": [
          40944054.89063754
         ]
        },
        {
         "marker": {
          "color": "lightskyblue"
         },
         "name": "Purina One",
         "type": "bar",
         "x": [
          "Purina One"
         ],
         "y": [
          37906570.090558596
         ]
        },
        {
         "marker": {
          "color": "lightskyblue"
         },
         "name": "Iams",
         "type": "bar",
         "x": [
          "Iams"
         ],
         "y": [
          30287630.663158648
         ]
        },
        {
         "marker": {
          "color": "lightskyblue"
         },
         "name": "Hill'S Science Diet",
         "type": "bar",
         "x": [
          "Hill'S Science Diet"
         ],
         "y": [
          30191714.489372026
         ]
        },
        {
         "marker": {
          "color": "lightskyblue"
         },
         "name": "Purina Pro Plan",
         "type": "bar",
         "x": [
          "Purina Pro Plan"
         ],
         "y": [
          28755638.50641942
         ]
        },
        {
         "marker": {
          "color": "lightskyblue"
         },
         "name": "Sheba",
         "type": "bar",
         "x": [
          "Sheba"
         ],
         "y": [
          27489475.839923862
         ]
        },
        {
         "marker": {
          "color": "lightskyblue"
         },
         "name": "Iris Usa, Inc.",
         "type": "bar",
         "x": [
          "Iris Usa, Inc."
         ],
         "y": [
          11455594.470850553
         ]
        },
        {
         "marker": {
          "color": "lightskyblue"
         },
         "name": "Reopet",
         "type": "bar",
         "x": [
          "Reopet"
         ],
         "y": [
          11293134.272505095
         ]
        },
        {
         "marker": {
          "color": "lightskyblue"
         },
         "name": "Wellness",
         "type": "bar",
         "x": [
          "Wellness"
         ],
         "y": [
          11075741.63557633
         ]
        }
       ],
       "layout": {
        "barmode": "group",
        "template": {
         "data": {
          "bar": [
           {
            "error_x": {
             "color": "#2a3f5f"
            },
            "error_y": {
             "color": "#2a3f5f"
            },
            "marker": {
             "line": {
              "color": "#E5ECF6",
              "width": 0.5
             },
             "pattern": {
              "fillmode": "overlay",
              "size": 10,
              "solidity": 0.2
             }
            },
            "type": "bar"
           }
          ],
          "barpolar": [
           {
            "marker": {
             "line": {
              "color": "#E5ECF6",
              "width": 0.5
             },
             "pattern": {
              "fillmode": "overlay",
              "size": 10,
              "solidity": 0.2
             }
            },
            "type": "barpolar"
           }
          ],
          "carpet": [
           {
            "aaxis": {
             "endlinecolor": "#2a3f5f",
             "gridcolor": "white",
             "linecolor": "white",
             "minorgridcolor": "white",
             "startlinecolor": "#2a3f5f"
            },
            "baxis": {
             "endlinecolor": "#2a3f5f",
             "gridcolor": "white",
             "linecolor": "white",
             "minorgridcolor": "white",
             "startlinecolor": "#2a3f5f"
            },
            "type": "carpet"
           }
          ],
          "choropleth": [
           {
            "colorbar": {
             "outlinewidth": 0,
             "ticks": ""
            },
            "type": "choropleth"
           }
          ],
          "contour": [
           {
            "colorbar": {
             "outlinewidth": 0,
             "ticks": ""
            },
            "colorscale": [
             [
              0,
              "#0d0887"
             ],
             [
              0.1111111111111111,
              "#46039f"
             ],
             [
              0.2222222222222222,
              "#7201a8"
             ],
             [
              0.3333333333333333,
              "#9c179e"
             ],
             [
              0.4444444444444444,
              "#bd3786"
             ],
             [
              0.5555555555555556,
              "#d8576b"
             ],
             [
              0.6666666666666666,
              "#ed7953"
             ],
             [
              0.7777777777777778,
              "#fb9f3a"
             ],
             [
              0.8888888888888888,
              "#fdca26"
             ],
             [
              1,
              "#f0f921"
             ]
            ],
            "type": "contour"
           }
          ],
          "contourcarpet": [
           {
            "colorbar": {
             "outlinewidth": 0,
             "ticks": ""
            },
            "type": "contourcarpet"
           }
          ],
          "heatmap": [
           {
            "colorbar": {
             "outlinewidth": 0,
             "ticks": ""
            },
            "colorscale": [
             [
              0,
              "#0d0887"
             ],
             [
              0.1111111111111111,
              "#46039f"
             ],
             [
              0.2222222222222222,
              "#7201a8"
             ],
             [
              0.3333333333333333,
              "#9c179e"
             ],
             [
              0.4444444444444444,
              "#bd3786"
             ],
             [
              0.5555555555555556,
              "#d8576b"
             ],
             [
              0.6666666666666666,
              "#ed7953"
             ],
             [
              0.7777777777777778,
              "#fb9f3a"
             ],
             [
              0.8888888888888888,
              "#fdca26"
             ],
             [
              1,
              "#f0f921"
             ]
            ],
            "type": "heatmap"
           }
          ],
          "heatmapgl": [
           {
            "colorbar": {
             "outlinewidth": 0,
             "ticks": ""
            },
            "colorscale": [
             [
              0,
              "#0d0887"
             ],
             [
              0.1111111111111111,
              "#46039f"
             ],
             [
              0.2222222222222222,
              "#7201a8"
             ],
             [
              0.3333333333333333,
              "#9c179e"
             ],
             [
              0.4444444444444444,
              "#bd3786"
             ],
             [
              0.5555555555555556,
              "#d8576b"
             ],
             [
              0.6666666666666666,
              "#ed7953"
             ],
             [
              0.7777777777777778,
              "#fb9f3a"
             ],
             [
              0.8888888888888888,
              "#fdca26"
             ],
             [
              1,
              "#f0f921"
             ]
            ],
            "type": "heatmapgl"
           }
          ],
          "histogram": [
           {
            "marker": {
             "pattern": {
              "fillmode": "overlay",
              "size": 10,
              "solidity": 0.2
             }
            },
            "type": "histogram"
           }
          ],
          "histogram2d": [
           {
            "colorbar": {
             "outlinewidth": 0,
             "ticks": ""
            },
            "colorscale": [
             [
              0,
              "#0d0887"
             ],
             [
              0.1111111111111111,
              "#46039f"
             ],
             [
              0.2222222222222222,
              "#7201a8"
             ],
             [
              0.3333333333333333,
              "#9c179e"
             ],
             [
              0.4444444444444444,
              "#bd3786"
             ],
             [
              0.5555555555555556,
              "#d8576b"
             ],
             [
              0.6666666666666666,
              "#ed7953"
             ],
             [
              0.7777777777777778,
              "#fb9f3a"
             ],
             [
              0.8888888888888888,
              "#fdca26"
             ],
             [
              1,
              "#f0f921"
             ]
            ],
            "type": "histogram2d"
           }
          ],
          "histogram2dcontour": [
           {
            "colorbar": {
             "outlinewidth": 0,
             "ticks": ""
            },
            "colorscale": [
             [
              0,
              "#0d0887"
             ],
             [
              0.1111111111111111,
              "#46039f"
             ],
             [
              0.2222222222222222,
              "#7201a8"
             ],
             [
              0.3333333333333333,
              "#9c179e"
             ],
             [
              0.4444444444444444,
              "#bd3786"
             ],
             [
              0.5555555555555556,
              "#d8576b"
             ],
             [
              0.6666666666666666,
              "#ed7953"
             ],
             [
              0.7777777777777778,
              "#fb9f3a"
             ],
             [
              0.8888888888888888,
              "#fdca26"
             ],
             [
              1,
              "#f0f921"
             ]
            ],
            "type": "histogram2dcontour"
           }
          ],
          "mesh3d": [
           {
            "colorbar": {
             "outlinewidth": 0,
             "ticks": ""
            },
            "type": "mesh3d"
           }
          ],
          "parcoords": [
           {
            "line": {
             "colorbar": {
              "outlinewidth": 0,
              "ticks": ""
             }
            },
            "type": "parcoords"
           }
          ],
          "pie": [
           {
            "automargin": true,
            "type": "pie"
           }
          ],
          "scatter": [
           {
            "fillpattern": {
             "fillmode": "overlay",
             "size": 10,
             "solidity": 0.2
            },
            "type": "scatter"
           }
          ],
          "scatter3d": [
           {
            "line": {
             "colorbar": {
              "outlinewidth": 0,
              "ticks": ""
             }
            },
            "marker": {
             "colorbar": {
              "outlinewidth": 0,
              "ticks": ""
             }
            },
            "type": "scatter3d"
           }
          ],
          "scattercarpet": [
           {
            "marker": {
             "colorbar": {
              "outlinewidth": 0,
              "ticks": ""
             }
            },
            "type": "scattercarpet"
           }
          ],
          "scattergeo": [
           {
            "marker": {
             "colorbar": {
              "outlinewidth": 0,
              "ticks": ""
             }
            },
            "type": "scattergeo"
           }
          ],
          "scattergl": [
           {
            "marker": {
             "colorbar": {
              "outlinewidth": 0,
              "ticks": ""
             }
            },
            "type": "scattergl"
           }
          ],
          "scattermapbox": [
           {
            "marker": {
             "colorbar": {
              "outlinewidth": 0,
              "ticks": ""
             }
            },
            "type": "scattermapbox"
           }
          ],
          "scatterpolar": [
           {
            "marker": {
             "colorbar": {
              "outlinewidth": 0,
              "ticks": ""
             }
            },
            "type": "scatterpolar"
           }
          ],
          "scatterpolargl": [
           {
            "marker": {
             "colorbar": {
              "outlinewidth": 0,
              "ticks": ""
             }
            },
            "type": "scatterpolargl"
           }
          ],
          "scatterternary": [
           {
            "marker": {
             "colorbar": {
              "outlinewidth": 0,
              "ticks": ""
             }
            },
            "type": "scatterternary"
           }
          ],
          "surface": [
           {
            "colorbar": {
             "outlinewidth": 0,
             "ticks": ""
            },
            "colorscale": [
             [
              0,
              "#0d0887"
             ],
             [
              0.1111111111111111,
              "#46039f"
             ],
             [
              0.2222222222222222,
              "#7201a8"
             ],
             [
              0.3333333333333333,
              "#9c179e"
             ],
             [
              0.4444444444444444,
              "#bd3786"
             ],
             [
              0.5555555555555556,
              "#d8576b"
             ],
             [
              0.6666666666666666,
              "#ed7953"
             ],
             [
              0.7777777777777778,
              "#fb9f3a"
             ],
             [
              0.8888888888888888,
              "#fdca26"
             ],
             [
              1,
              "#f0f921"
             ]
            ],
            "type": "surface"
           }
          ],
          "table": [
           {
            "cells": {
             "fill": {
              "color": "#EBF0F8"
             },
             "line": {
              "color": "white"
             }
            },
            "header": {
             "fill": {
              "color": "#C8D4E3"
             },
             "line": {
              "color": "white"
             }
            },
            "type": "table"
           }
          ]
         },
         "layout": {
          "annotationdefaults": {
           "arrowcolor": "#2a3f5f",
           "arrowhead": 0,
           "arrowwidth": 1
          },
          "autotypenumbers": "strict",
          "coloraxis": {
           "colorbar": {
            "outlinewidth": 0,
            "ticks": ""
           }
          },
          "colorscale": {
           "diverging": [
            [
             0,
             "#8e0152"
            ],
            [
             0.1,
             "#c51b7d"
            ],
            [
             0.2,
             "#de77ae"
            ],
            [
             0.3,
             "#f1b6da"
            ],
            [
             0.4,
             "#fde0ef"
            ],
            [
             0.5,
             "#f7f7f7"
            ],
            [
             0.6,
             "#e6f5d0"
            ],
            [
             0.7,
             "#b8e186"
            ],
            [
             0.8,
             "#7fbc41"
            ],
            [
             0.9,
             "#4d9221"
            ],
            [
             1,
             "#276419"
            ]
           ],
           "sequential": [
            [
             0,
             "#0d0887"
            ],
            [
             0.1111111111111111,
             "#46039f"
            ],
            [
             0.2222222222222222,
             "#7201a8"
            ],
            [
             0.3333333333333333,
             "#9c179e"
            ],
            [
             0.4444444444444444,
             "#bd3786"
            ],
            [
             0.5555555555555556,
             "#d8576b"
            ],
            [
             0.6666666666666666,
             "#ed7953"
            ],
            [
             0.7777777777777778,
             "#fb9f3a"
            ],
            [
             0.8888888888888888,
             "#fdca26"
            ],
            [
             1,
             "#f0f921"
            ]
           ],
           "sequentialminus": [
            [
             0,
             "#0d0887"
            ],
            [
             0.1111111111111111,
             "#46039f"
            ],
            [
             0.2222222222222222,
             "#7201a8"
            ],
            [
             0.3333333333333333,
             "#9c179e"
            ],
            [
             0.4444444444444444,
             "#bd3786"
            ],
            [
             0.5555555555555556,
             "#d8576b"
            ],
            [
             0.6666666666666666,
             "#ed7953"
            ],
            [
             0.7777777777777778,
             "#fb9f3a"
            ],
            [
             0.8888888888888888,
             "#fdca26"
            ],
            [
             1,
             "#f0f921"
            ]
           ]
          },
          "colorway": [
           "#636efa",
           "#EF553B",
           "#00cc96",
           "#ab63fa",
           "#FFA15A",
           "#19d3f3",
           "#FF6692",
           "#B6E880",
           "#FF97FF",
           "#FECB52"
          ],
          "font": {
           "color": "#2a3f5f"
          },
          "geo": {
           "bgcolor": "white",
           "lakecolor": "white",
           "landcolor": "#E5ECF6",
           "showlakes": true,
           "showland": true,
           "subunitcolor": "white"
          },
          "hoverlabel": {
           "align": "left"
          },
          "hovermode": "closest",
          "mapbox": {
           "style": "light"
          },
          "paper_bgcolor": "white",
          "plot_bgcolor": "#E5ECF6",
          "polar": {
           "angularaxis": {
            "gridcolor": "white",
            "linecolor": "white",
            "ticks": ""
           },
           "bgcolor": "#E5ECF6",
           "radialaxis": {
            "gridcolor": "white",
            "linecolor": "white",
            "ticks": ""
           }
          },
          "scene": {
           "xaxis": {
            "backgroundcolor": "#E5ECF6",
            "gridcolor": "white",
            "gridwidth": 2,
            "linecolor": "white",
            "showbackground": true,
            "ticks": "",
            "zerolinecolor": "white"
           },
           "yaxis": {
            "backgroundcolor": "#E5ECF6",
            "gridcolor": "white",
            "gridwidth": 2,
            "linecolor": "white",
            "showbackground": true,
            "ticks": "",
            "zerolinecolor": "white"
           },
           "zaxis": {
            "backgroundcolor": "#E5ECF6",
            "gridcolor": "white",
            "gridwidth": 2,
            "linecolor": "white",
            "showbackground": true,
            "ticks": "",
            "zerolinecolor": "white"
           }
          },
          "shapedefaults": {
           "line": {
            "color": "#2a3f5f"
           }
          },
          "ternary": {
           "aaxis": {
            "gridcolor": "white",
            "linecolor": "white",
            "ticks": ""
           },
           "baxis": {
            "gridcolor": "white",
            "linecolor": "white",
            "ticks": ""
           },
           "bgcolor": "#E5ECF6",
           "caxis": {
            "gridcolor": "white",
            "linecolor": "white",
            "ticks": ""
           }
          },
          "title": {
           "x": 0.05
          },
          "xaxis": {
           "automargin": true,
           "gridcolor": "white",
           "linecolor": "white",
           "ticks": "",
           "title": {
            "standoff": 15
           },
           "zerolinecolor": "white",
           "zerolinewidth": 2
          },
          "yaxis": {
           "automargin": true,
           "gridcolor": "white",
           "linecolor": "white",
           "ticks": "",
           "title": {
            "standoff": 15
           },
           "zerolinecolor": "white",
           "zerolinewidth": 2
          }
         }
        },
        "title": {
         "text": "Annual Revenue Comparison: Purina Fancy Feast vs Top 10 Other Brands"
        },
        "updatemenus": [
         {
          "buttons": [
           {
            "args": [
             {
              "marker.color": [
               "royalblue",
               "lightskyblue",
               "lightskyblue",
               "lightskyblue",
               "lightskyblue",
               "lightskyblue",
               "lightskyblue",
               "lightskyblue",
               "lightskyblue",
               "lightskyblue",
               "lightskyblue"
              ]
             },
             {
              "title": "Annual Revenue Comparison: Purina Fancy Feast vs Top 10 Other Brands"
             }
            ],
            "label": "Purina Fancy Feast",
            "method": "restyle"
           },
           {
            "args": [
             {
              "marker.color": [
               "lightskyblue",
               "royalblue",
               "lightskyblue",
               "lightskyblue",
               "lightskyblue",
               "lightskyblue",
               "lightskyblue",
               "lightskyblue",
               "lightskyblue",
               "lightskyblue",
               "lightskyblue"
              ]
             },
             {
              "title": "Annual Revenue Comparison: Friskies vs Top 10 Other Brands"
             }
            ],
            "label": "Friskies",
            "method": "restyle"
           },
           {
            "args": [
             {
              "marker.color": [
               "lightskyblue",
               "lightskyblue",
               "royalblue",
               "lightskyblue",
               "lightskyblue",
               "lightskyblue",
               "lightskyblue",
               "lightskyblue",
               "lightskyblue",
               "lightskyblue",
               "lightskyblue"
              ]
             },
             {
              "title": "Annual Revenue Comparison: Blue Buffalo vs Top 10 Other Brands"
             }
            ],
            "label": "Blue Buffalo",
            "method": "restyle"
           },
           {
            "args": [
             {
              "marker.color": [
               "lightskyblue",
               "lightskyblue",
               "lightskyblue",
               "royalblue",
               "lightskyblue",
               "lightskyblue",
               "lightskyblue",
               "lightskyblue",
               "lightskyblue",
               "lightskyblue",
               "lightskyblue"
              ]
             },
             {
              "title": "Annual Revenue Comparison: Purina One vs Top 10 Other Brands"
             }
            ],
            "label": "Purina One",
            "method": "restyle"
           },
           {
            "args": [
             {
              "marker.color": [
               "lightskyblue",
               "lightskyblue",
               "lightskyblue",
               "lightskyblue",
               "royalblue",
               "lightskyblue",
               "lightskyblue",
               "lightskyblue",
               "lightskyblue",
               "lightskyblue",
               "lightskyblue"
              ]
             },
             {
              "title": "Annual Revenue Comparison: Iams vs Top 10 Other Brands"
             }
            ],
            "label": "Iams",
            "method": "restyle"
           },
           {
            "args": [
             {
              "marker.color": [
               "lightskyblue",
               "lightskyblue",
               "lightskyblue",
               "lightskyblue",
               "lightskyblue",
               "royalblue",
               "lightskyblue",
               "lightskyblue",
               "lightskyblue",
               "lightskyblue",
               "lightskyblue"
              ]
             },
             {
              "title": "Annual Revenue Comparison: Hill'S Science Diet vs Top 10 Other Brands"
             }
            ],
            "label": "Hill'S Science Diet",
            "method": "restyle"
           },
           {
            "args": [
             {
              "marker.color": [
               "lightskyblue",
               "lightskyblue",
               "lightskyblue",
               "lightskyblue",
               "lightskyblue",
               "lightskyblue",
               "royalblue",
               "lightskyblue",
               "lightskyblue",
               "lightskyblue",
               "lightskyblue"
              ]
             },
             {
              "title": "Annual Revenue Comparison: Purina Pro Plan vs Top 10 Other Brands"
             }
            ],
            "label": "Purina Pro Plan",
            "method": "restyle"
           },
           {
            "args": [
             {
              "marker.color": [
               "lightskyblue",
               "lightskyblue",
               "lightskyblue",
               "lightskyblue",
               "lightskyblue",
               "lightskyblue",
               "lightskyblue",
               "royalblue",
               "lightskyblue",
               "lightskyblue",
               "lightskyblue"
              ]
             },
             {
              "title": "Annual Revenue Comparison: Sheba vs Top 10 Other Brands"
             }
            ],
            "label": "Sheba",
            "method": "restyle"
           },
           {
            "args": [
             {
              "marker.color": [
               "lightskyblue",
               "lightskyblue",
               "lightskyblue",
               "lightskyblue",
               "lightskyblue",
               "lightskyblue",
               "lightskyblue",
               "lightskyblue",
               "royalblue",
               "lightskyblue",
               "lightskyblue"
              ]
             },
             {
              "title": "Annual Revenue Comparison: Iris Usa, Inc. vs Top 10 Other Brands"
             }
            ],
            "label": "Iris Usa, Inc.",
            "method": "restyle"
           },
           {
            "args": [
             {
              "marker.color": [
               "lightskyblue",
               "lightskyblue",
               "lightskyblue",
               "lightskyblue",
               "lightskyblue",
               "lightskyblue",
               "lightskyblue",
               "lightskyblue",
               "lightskyblue",
               "royalblue",
               "lightskyblue"
              ]
             },
             {
              "title": "Annual Revenue Comparison: Reopet vs Top 10 Other Brands"
             }
            ],
            "label": "Reopet",
            "method": "restyle"
           },
           {
            "args": [
             {
              "marker.color": [
               "lightskyblue",
               "lightskyblue",
               "lightskyblue",
               "lightskyblue",
               "lightskyblue",
               "lightskyblue",
               "lightskyblue",
               "lightskyblue",
               "lightskyblue",
               "lightskyblue",
               "royalblue"
              ]
             },
             {
              "title": "Annual Revenue Comparison: Wellness vs Top 10 Other Brands"
             }
            ],
            "label": "Wellness",
            "method": "restyle"
           }
          ],
          "direction": "down",
          "pad": {
           "r": 10,
           "t": 10
          },
          "showactive": true,
          "x": 0.1,
          "xanchor": "left",
          "y": 1.1,
          "yanchor": "top"
         }
        ],
        "xaxis": {
         "title": {
          "text": "Brand"
         }
        },
        "yaxis": {
         "title": {
          "text": "Total Revenue"
         }
        }
       }
      },
      "text/html": [
       "<div>                            <div id=\"6dbd17e9-bf78-4070-b198-2146f80faa02\" class=\"plotly-graph-div\" style=\"height:525px; width:100%;\"></div>            <script type=\"text/javascript\">                require([\"plotly\"], function(Plotly) {                    window.PLOTLYENV=window.PLOTLYENV || {};                                    if (document.getElementById(\"6dbd17e9-bf78-4070-b198-2146f80faa02\")) {                    Plotly.newPlot(                        \"6dbd17e9-bf78-4070-b198-2146f80faa02\",                        [{\"marker\":{\"color\":\"royalblue\"},\"name\":\"Purina Fancy Feast\",\"x\":[\"Purina Fancy Feast\"],\"y\":[96879962.01264869],\"type\":\"bar\"},{\"marker\":{\"color\":\"lightskyblue\"},\"name\":\"Friskies\",\"x\":[\"Friskies\"],\"y\":[45152404.391888015],\"type\":\"bar\"},{\"marker\":{\"color\":\"lightskyblue\"},\"name\":\"Blue Buffalo\",\"x\":[\"Blue Buffalo\"],\"y\":[40944054.89063754],\"type\":\"bar\"},{\"marker\":{\"color\":\"lightskyblue\"},\"name\":\"Purina One\",\"x\":[\"Purina One\"],\"y\":[37906570.090558596],\"type\":\"bar\"},{\"marker\":{\"color\":\"lightskyblue\"},\"name\":\"Iams\",\"x\":[\"Iams\"],\"y\":[30287630.663158648],\"type\":\"bar\"},{\"marker\":{\"color\":\"lightskyblue\"},\"name\":\"Hill'S Science Diet\",\"x\":[\"Hill'S Science Diet\"],\"y\":[30191714.489372026],\"type\":\"bar\"},{\"marker\":{\"color\":\"lightskyblue\"},\"name\":\"Purina Pro Plan\",\"x\":[\"Purina Pro Plan\"],\"y\":[28755638.50641942],\"type\":\"bar\"},{\"marker\":{\"color\":\"lightskyblue\"},\"name\":\"Sheba\",\"x\":[\"Sheba\"],\"y\":[27489475.839923862],\"type\":\"bar\"},{\"marker\":{\"color\":\"lightskyblue\"},\"name\":\"Iris Usa, Inc.\",\"x\":[\"Iris Usa, Inc.\"],\"y\":[11455594.470850553],\"type\":\"bar\"},{\"marker\":{\"color\":\"lightskyblue\"},\"name\":\"Reopet\",\"x\":[\"Reopet\"],\"y\":[11293134.272505095],\"type\":\"bar\"},{\"marker\":{\"color\":\"lightskyblue\"},\"name\":\"Wellness\",\"x\":[\"Wellness\"],\"y\":[11075741.63557633],\"type\":\"bar\"}],                        {\"template\":{\"data\":{\"histogram2dcontour\":[{\"type\":\"histogram2dcontour\",\"colorbar\":{\"outlinewidth\":0,\"ticks\":\"\"},\"colorscale\":[[0.0,\"#0d0887\"],[0.1111111111111111,\"#46039f\"],[0.2222222222222222,\"#7201a8\"],[0.3333333333333333,\"#9c179e\"],[0.4444444444444444,\"#bd3786\"],[0.5555555555555556,\"#d8576b\"],[0.6666666666666666,\"#ed7953\"],[0.7777777777777778,\"#fb9f3a\"],[0.8888888888888888,\"#fdca26\"],[1.0,\"#f0f921\"]]}],\"choropleth\":[{\"type\":\"choropleth\",\"colorbar\":{\"outlinewidth\":0,\"ticks\":\"\"}}],\"histogram2d\":[{\"type\":\"histogram2d\",\"colorbar\":{\"outlinewidth\":0,\"ticks\":\"\"},\"colorscale\":[[0.0,\"#0d0887\"],[0.1111111111111111,\"#46039f\"],[0.2222222222222222,\"#7201a8\"],[0.3333333333333333,\"#9c179e\"],[0.4444444444444444,\"#bd3786\"],[0.5555555555555556,\"#d8576b\"],[0.6666666666666666,\"#ed7953\"],[0.7777777777777778,\"#fb9f3a\"],[0.8888888888888888,\"#fdca26\"],[1.0,\"#f0f921\"]]}],\"heatmap\":[{\"type\":\"heatmap\",\"colorbar\":{\"outlinewidth\":0,\"ticks\":\"\"},\"colorscale\":[[0.0,\"#0d0887\"],[0.1111111111111111,\"#46039f\"],[0.2222222222222222,\"#7201a8\"],[0.3333333333333333,\"#9c179e\"],[0.4444444444444444,\"#bd3786\"],[0.5555555555555556,\"#d8576b\"],[0.6666666666666666,\"#ed7953\"],[0.7777777777777778,\"#fb9f3a\"],[0.8888888888888888,\"#fdca26\"],[1.0,\"#f0f921\"]]}],\"heatmapgl\":[{\"type\":\"heatmapgl\",\"colorbar\":{\"outlinewidth\":0,\"ticks\":\"\"},\"colorscale\":[[0.0,\"#0d0887\"],[0.1111111111111111,\"#46039f\"],[0.2222222222222222,\"#7201a8\"],[0.3333333333333333,\"#9c179e\"],[0.4444444444444444,\"#bd3786\"],[0.5555555555555556,\"#d8576b\"],[0.6666666666666666,\"#ed7953\"],[0.7777777777777778,\"#fb9f3a\"],[0.8888888888888888,\"#fdca26\"],[1.0,\"#f0f921\"]]}],\"contourcarpet\":[{\"type\":\"contourcarpet\",\"colorbar\":{\"outlinewidth\":0,\"ticks\":\"\"}}],\"contour\":[{\"type\":\"contour\",\"colorbar\":{\"outlinewidth\":0,\"ticks\":\"\"},\"colorscale\":[[0.0,\"#0d0887\"],[0.1111111111111111,\"#46039f\"],[0.2222222222222222,\"#7201a8\"],[0.3333333333333333,\"#9c179e\"],[0.4444444444444444,\"#bd3786\"],[0.5555555555555556,\"#d8576b\"],[0.6666666666666666,\"#ed7953\"],[0.7777777777777778,\"#fb9f3a\"],[0.8888888888888888,\"#fdca26\"],[1.0,\"#f0f921\"]]}],\"surface\":[{\"type\":\"surface\",\"colorbar\":{\"outlinewidth\":0,\"ticks\":\"\"},\"colorscale\":[[0.0,\"#0d0887\"],[0.1111111111111111,\"#46039f\"],[0.2222222222222222,\"#7201a8\"],[0.3333333333333333,\"#9c179e\"],[0.4444444444444444,\"#bd3786\"],[0.5555555555555556,\"#d8576b\"],[0.6666666666666666,\"#ed7953\"],[0.7777777777777778,\"#fb9f3a\"],[0.8888888888888888,\"#fdca26\"],[1.0,\"#f0f921\"]]}],\"mesh3d\":[{\"type\":\"mesh3d\",\"colorbar\":{\"outlinewidth\":0,\"ticks\":\"\"}}],\"scatter\":[{\"fillpattern\":{\"fillmode\":\"overlay\",\"size\":10,\"solidity\":0.2},\"type\":\"scatter\"}],\"parcoords\":[{\"type\":\"parcoords\",\"line\":{\"colorbar\":{\"outlinewidth\":0,\"ticks\":\"\"}}}],\"scatterpolargl\":[{\"type\":\"scatterpolargl\",\"marker\":{\"colorbar\":{\"outlinewidth\":0,\"ticks\":\"\"}}}],\"bar\":[{\"error_x\":{\"color\":\"#2a3f5f\"},\"error_y\":{\"color\":\"#2a3f5f\"},\"marker\":{\"line\":{\"color\":\"#E5ECF6\",\"width\":0.5},\"pattern\":{\"fillmode\":\"overlay\",\"size\":10,\"solidity\":0.2}},\"type\":\"bar\"}],\"scattergeo\":[{\"type\":\"scattergeo\",\"marker\":{\"colorbar\":{\"outlinewidth\":0,\"ticks\":\"\"}}}],\"scatterpolar\":[{\"type\":\"scatterpolar\",\"marker\":{\"colorbar\":{\"outlinewidth\":0,\"ticks\":\"\"}}}],\"histogram\":[{\"marker\":{\"pattern\":{\"fillmode\":\"overlay\",\"size\":10,\"solidity\":0.2}},\"type\":\"histogram\"}],\"scattergl\":[{\"type\":\"scattergl\",\"marker\":{\"colorbar\":{\"outlinewidth\":0,\"ticks\":\"\"}}}],\"scatter3d\":[{\"type\":\"scatter3d\",\"line\":{\"colorbar\":{\"outlinewidth\":0,\"ticks\":\"\"}},\"marker\":{\"colorbar\":{\"outlinewidth\":0,\"ticks\":\"\"}}}],\"scattermapbox\":[{\"type\":\"scattermapbox\",\"marker\":{\"colorbar\":{\"outlinewidth\":0,\"ticks\":\"\"}}}],\"scatterternary\":[{\"type\":\"scatterternary\",\"marker\":{\"colorbar\":{\"outlinewidth\":0,\"ticks\":\"\"}}}],\"scattercarpet\":[{\"type\":\"scattercarpet\",\"marker\":{\"colorbar\":{\"outlinewidth\":0,\"ticks\":\"\"}}}],\"carpet\":[{\"aaxis\":{\"endlinecolor\":\"#2a3f5f\",\"gridcolor\":\"white\",\"linecolor\":\"white\",\"minorgridcolor\":\"white\",\"startlinecolor\":\"#2a3f5f\"},\"baxis\":{\"endlinecolor\":\"#2a3f5f\",\"gridcolor\":\"white\",\"linecolor\":\"white\",\"minorgridcolor\":\"white\",\"startlinecolor\":\"#2a3f5f\"},\"type\":\"carpet\"}],\"table\":[{\"cells\":{\"fill\":{\"color\":\"#EBF0F8\"},\"line\":{\"color\":\"white\"}},\"header\":{\"fill\":{\"color\":\"#C8D4E3\"},\"line\":{\"color\":\"white\"}},\"type\":\"table\"}],\"barpolar\":[{\"marker\":{\"line\":{\"color\":\"#E5ECF6\",\"width\":0.5},\"pattern\":{\"fillmode\":\"overlay\",\"size\":10,\"solidity\":0.2}},\"type\":\"barpolar\"}],\"pie\":[{\"automargin\":true,\"type\":\"pie\"}]},\"layout\":{\"autotypenumbers\":\"strict\",\"colorway\":[\"#636efa\",\"#EF553B\",\"#00cc96\",\"#ab63fa\",\"#FFA15A\",\"#19d3f3\",\"#FF6692\",\"#B6E880\",\"#FF97FF\",\"#FECB52\"],\"font\":{\"color\":\"#2a3f5f\"},\"hovermode\":\"closest\",\"hoverlabel\":{\"align\":\"left\"},\"paper_bgcolor\":\"white\",\"plot_bgcolor\":\"#E5ECF6\",\"polar\":{\"bgcolor\":\"#E5ECF6\",\"angularaxis\":{\"gridcolor\":\"white\",\"linecolor\":\"white\",\"ticks\":\"\"},\"radialaxis\":{\"gridcolor\":\"white\",\"linecolor\":\"white\",\"ticks\":\"\"}},\"ternary\":{\"bgcolor\":\"#E5ECF6\",\"aaxis\":{\"gridcolor\":\"white\",\"linecolor\":\"white\",\"ticks\":\"\"},\"baxis\":{\"gridcolor\":\"white\",\"linecolor\":\"white\",\"ticks\":\"\"},\"caxis\":{\"gridcolor\":\"white\",\"linecolor\":\"white\",\"ticks\":\"\"}},\"coloraxis\":{\"colorbar\":{\"outlinewidth\":0,\"ticks\":\"\"}},\"colorscale\":{\"sequential\":[[0.0,\"#0d0887\"],[0.1111111111111111,\"#46039f\"],[0.2222222222222222,\"#7201a8\"],[0.3333333333333333,\"#9c179e\"],[0.4444444444444444,\"#bd3786\"],[0.5555555555555556,\"#d8576b\"],[0.6666666666666666,\"#ed7953\"],[0.7777777777777778,\"#fb9f3a\"],[0.8888888888888888,\"#fdca26\"],[1.0,\"#f0f921\"]],\"sequentialminus\":[[0.0,\"#0d0887\"],[0.1111111111111111,\"#46039f\"],[0.2222222222222222,\"#7201a8\"],[0.3333333333333333,\"#9c179e\"],[0.4444444444444444,\"#bd3786\"],[0.5555555555555556,\"#d8576b\"],[0.6666666666666666,\"#ed7953\"],[0.7777777777777778,\"#fb9f3a\"],[0.8888888888888888,\"#fdca26\"],[1.0,\"#f0f921\"]],\"diverging\":[[0,\"#8e0152\"],[0.1,\"#c51b7d\"],[0.2,\"#de77ae\"],[0.3,\"#f1b6da\"],[0.4,\"#fde0ef\"],[0.5,\"#f7f7f7\"],[0.6,\"#e6f5d0\"],[0.7,\"#b8e186\"],[0.8,\"#7fbc41\"],[0.9,\"#4d9221\"],[1,\"#276419\"]]},\"xaxis\":{\"gridcolor\":\"white\",\"linecolor\":\"white\",\"ticks\":\"\",\"title\":{\"standoff\":15},\"zerolinecolor\":\"white\",\"automargin\":true,\"zerolinewidth\":2},\"yaxis\":{\"gridcolor\":\"white\",\"linecolor\":\"white\",\"ticks\":\"\",\"title\":{\"standoff\":15},\"zerolinecolor\":\"white\",\"automargin\":true,\"zerolinewidth\":2},\"scene\":{\"xaxis\":{\"backgroundcolor\":\"#E5ECF6\",\"gridcolor\":\"white\",\"linecolor\":\"white\",\"showbackground\":true,\"ticks\":\"\",\"zerolinecolor\":\"white\",\"gridwidth\":2},\"yaxis\":{\"backgroundcolor\":\"#E5ECF6\",\"gridcolor\":\"white\",\"linecolor\":\"white\",\"showbackground\":true,\"ticks\":\"\",\"zerolinecolor\":\"white\",\"gridwidth\":2},\"zaxis\":{\"backgroundcolor\":\"#E5ECF6\",\"gridcolor\":\"white\",\"linecolor\":\"white\",\"showbackground\":true,\"ticks\":\"\",\"zerolinecolor\":\"white\",\"gridwidth\":2}},\"shapedefaults\":{\"line\":{\"color\":\"#2a3f5f\"}},\"annotationdefaults\":{\"arrowcolor\":\"#2a3f5f\",\"arrowhead\":0,\"arrowwidth\":1},\"geo\":{\"bgcolor\":\"white\",\"landcolor\":\"#E5ECF6\",\"subunitcolor\":\"white\",\"showland\":true,\"showlakes\":true,\"lakecolor\":\"white\"},\"title\":{\"x\":0.05},\"mapbox\":{\"style\":\"light\"}}},\"updatemenus\":[{\"buttons\":[{\"args\":[{\"marker.color\":[\"royalblue\",\"lightskyblue\",\"lightskyblue\",\"lightskyblue\",\"lightskyblue\",\"lightskyblue\",\"lightskyblue\",\"lightskyblue\",\"lightskyblue\",\"lightskyblue\",\"lightskyblue\"]},{\"title\":\"Annual Revenue Comparison: Purina Fancy Feast vs Top 10 Other Brands\"}],\"label\":\"Purina Fancy Feast\",\"method\":\"restyle\"},{\"args\":[{\"marker.color\":[\"lightskyblue\",\"royalblue\",\"lightskyblue\",\"lightskyblue\",\"lightskyblue\",\"lightskyblue\",\"lightskyblue\",\"lightskyblue\",\"lightskyblue\",\"lightskyblue\",\"lightskyblue\"]},{\"title\":\"Annual Revenue Comparison: Friskies vs Top 10 Other Brands\"}],\"label\":\"Friskies\",\"method\":\"restyle\"},{\"args\":[{\"marker.color\":[\"lightskyblue\",\"lightskyblue\",\"royalblue\",\"lightskyblue\",\"lightskyblue\",\"lightskyblue\",\"lightskyblue\",\"lightskyblue\",\"lightskyblue\",\"lightskyblue\",\"lightskyblue\"]},{\"title\":\"Annual Revenue Comparison: Blue Buffalo vs Top 10 Other Brands\"}],\"label\":\"Blue Buffalo\",\"method\":\"restyle\"},{\"args\":[{\"marker.color\":[\"lightskyblue\",\"lightskyblue\",\"lightskyblue\",\"royalblue\",\"lightskyblue\",\"lightskyblue\",\"lightskyblue\",\"lightskyblue\",\"lightskyblue\",\"lightskyblue\",\"lightskyblue\"]},{\"title\":\"Annual Revenue Comparison: Purina One vs Top 10 Other Brands\"}],\"label\":\"Purina One\",\"method\":\"restyle\"},{\"args\":[{\"marker.color\":[\"lightskyblue\",\"lightskyblue\",\"lightskyblue\",\"lightskyblue\",\"royalblue\",\"lightskyblue\",\"lightskyblue\",\"lightskyblue\",\"lightskyblue\",\"lightskyblue\",\"lightskyblue\"]},{\"title\":\"Annual Revenue Comparison: Iams vs Top 10 Other Brands\"}],\"label\":\"Iams\",\"method\":\"restyle\"},{\"args\":[{\"marker.color\":[\"lightskyblue\",\"lightskyblue\",\"lightskyblue\",\"lightskyblue\",\"lightskyblue\",\"royalblue\",\"lightskyblue\",\"lightskyblue\",\"lightskyblue\",\"lightskyblue\",\"lightskyblue\"]},{\"title\":\"Annual Revenue Comparison: Hill'S Science Diet vs Top 10 Other Brands\"}],\"label\":\"Hill'S Science Diet\",\"method\":\"restyle\"},{\"args\":[{\"marker.color\":[\"lightskyblue\",\"lightskyblue\",\"lightskyblue\",\"lightskyblue\",\"lightskyblue\",\"lightskyblue\",\"royalblue\",\"lightskyblue\",\"lightskyblue\",\"lightskyblue\",\"lightskyblue\"]},{\"title\":\"Annual Revenue Comparison: Purina Pro Plan vs Top 10 Other Brands\"}],\"label\":\"Purina Pro Plan\",\"method\":\"restyle\"},{\"args\":[{\"marker.color\":[\"lightskyblue\",\"lightskyblue\",\"lightskyblue\",\"lightskyblue\",\"lightskyblue\",\"lightskyblue\",\"lightskyblue\",\"royalblue\",\"lightskyblue\",\"lightskyblue\",\"lightskyblue\"]},{\"title\":\"Annual Revenue Comparison: Sheba vs Top 10 Other Brands\"}],\"label\":\"Sheba\",\"method\":\"restyle\"},{\"args\":[{\"marker.color\":[\"lightskyblue\",\"lightskyblue\",\"lightskyblue\",\"lightskyblue\",\"lightskyblue\",\"lightskyblue\",\"lightskyblue\",\"lightskyblue\",\"royalblue\",\"lightskyblue\",\"lightskyblue\"]},{\"title\":\"Annual Revenue Comparison: Iris Usa, Inc. vs Top 10 Other Brands\"}],\"label\":\"Iris Usa, Inc.\",\"method\":\"restyle\"},{\"args\":[{\"marker.color\":[\"lightskyblue\",\"lightskyblue\",\"lightskyblue\",\"lightskyblue\",\"lightskyblue\",\"lightskyblue\",\"lightskyblue\",\"lightskyblue\",\"lightskyblue\",\"royalblue\",\"lightskyblue\"]},{\"title\":\"Annual Revenue Comparison: Reopet vs Top 10 Other Brands\"}],\"label\":\"Reopet\",\"method\":\"restyle\"},{\"args\":[{\"marker.color\":[\"lightskyblue\",\"lightskyblue\",\"lightskyblue\",\"lightskyblue\",\"lightskyblue\",\"lightskyblue\",\"lightskyblue\",\"lightskyblue\",\"lightskyblue\",\"lightskyblue\",\"royalblue\"]},{\"title\":\"Annual Revenue Comparison: Wellness vs Top 10 Other Brands\"}],\"label\":\"Wellness\",\"method\":\"restyle\"}],\"direction\":\"down\",\"pad\":{\"r\":10,\"t\":10},\"showactive\":true,\"x\":0.1,\"xanchor\":\"left\",\"y\":1.1,\"yanchor\":\"top\"}],\"title\":{\"text\":\"Annual Revenue Comparison: Purina Fancy Feast vs Top 10 Other Brands\"},\"xaxis\":{\"title\":{\"text\":\"Brand\"}},\"yaxis\":{\"title\":{\"text\":\"Total Revenue\"}},\"barmode\":\"group\"},                        {\"responsive\": true}                    ).then(function(){\n",
       "                            \n",
       "var gd = document.getElementById('6dbd17e9-bf78-4070-b198-2146f80faa02');\n",
       "var x = new MutationObserver(function (mutations, observer) {{\n",
       "        var display = window.getComputedStyle(gd).display;\n",
       "        if (!display || display === 'none') {{\n",
       "            console.log([gd, 'removed!']);\n",
       "            Plotly.purge(gd);\n",
       "            observer.disconnect();\n",
       "        }}\n",
       "}});\n",
       "\n",
       "// Listen for the removal of the full notebook cells\n",
       "var notebookContainer = gd.closest('#notebook-container');\n",
       "if (notebookContainer) {{\n",
       "    x.observe(notebookContainer, {childList: true});\n",
       "}}\n",
       "\n",
       "// Listen for the clearing of the current output cell\n",
       "var outputEl = gd.closest('.output');\n",
       "if (outputEl) {{\n",
       "    x.observe(outputEl, {childList: true});\n",
       "}}\n",
       "\n",
       "                        })                };                });            </script>        </div>"
      ]
     },
     "metadata": {},
     "output_type": "display_data"
    }
   ],
   "source": [
    "import pandas as pd\n",
    "import plotly.graph_objects as go\n",
    "\n",
    "# Load the weekly data from the Excel file\n",
    "weekly_data = pd.read_excel('../Customer_Success_Engineer_-_Project_Data.xlsx', sheet_name='Weekly', header=1)\n",
    "\n",
    "# Calculate the total annual revenue per brand\n",
    "total_revenue_per_brand = weekly_data.groupby('Brand')['Revenue'].sum().reset_index()\n",
    "\n",
    "# Sort brands by total revenue and select the top 10\n",
    "top_brands = total_revenue_per_brand.nlargest(11, 'Revenue')\n",
    "\n",
    "# Create the initial figure object with all brands and a uniform color\n",
    "fig = go.Figure()\n",
    "for brand in top_brands['Brand']:\n",
    "    fig.add_trace(go.Bar(\n",
    "        x=[brand],\n",
    "        y=top_brands[top_brands['Brand'] == brand]['Revenue'],\n",
    "        name=brand,\n",
    "        marker_color='lightskyblue'  # uniform color for initial load\n",
    "    ))\n",
    "\n",
    "# Define the function to change the color of the selected brand\n",
    "def create_color_list(selected_index):\n",
    "    colors = ['lightskyblue'] * len(top_brands)  # default color\n",
    "    colors[selected_index] = 'royalblue'  # highlight color for the selected brand\n",
    "    return colors\n",
    "\n",
    "# Set the initial brand to display\n",
    "initial_index = 0  # Index of the brand to highlight initially\n",
    "fig.data[initial_index].marker.color = 'royalblue'  # Highlight the initial brand\n",
    "\n",
    "# Create dropdown options for all brands in the top 11\n",
    "dropdown_buttons = [\n",
    "    {\n",
    "        'label': brand,\n",
    "        'method': 'restyle',\n",
    "        'args': [\n",
    "            {'marker.color': create_color_list(i)},  # Update colors based on selection\n",
    "            {'title': f'Annual Revenue Comparison: {brand} vs Top 10 Other Brands'}  # Update title\n",
    "        ]\n",
    "    } for i, brand in enumerate(top_brands['Brand'])\n",
    "]\n",
    "\n",
    "# Add dropdown to the figure\n",
    "fig.update_layout(\n",
    "    updatemenus=[{\n",
    "        'buttons': dropdown_buttons,\n",
    "        'direction': 'down',\n",
    "        'pad': {'r': 10, 't': 10},\n",
    "        'showactive': True,\n",
    "        'x': 0.1,\n",
    "        'xanchor': 'left',\n",
    "        'y': 1.1,\n",
    "        'yanchor': 'top'\n",
    "    }],\n",
    "    title=f'Annual Revenue Comparison: {top_brands.iloc[initial_index][\"Brand\"]} vs Top 10 Other Brands',\n",
    "    xaxis_title='Brand',\n",
    "    yaxis_title='Total Revenue',\n",
    "    barmode='group'\n",
    ")\n",
    "\n",
    "# Display the figure in your local environment\n",
    "fig.show()\n"
   ]
  },
  {
   "cell_type": "code",
   "execution_count": null,
   "metadata": {},
   "outputs": [],
   "source": []
  }
 ],
 "metadata": {
  "kernelspec": {
   "display_name": "env",
   "language": "python",
   "name": "python3"
  },
  "language_info": {
   "codemirror_mode": {
    "name": "ipython",
    "version": 3
   },
   "file_extension": ".py",
   "mimetype": "text/x-python",
   "name": "python",
   "nbconvert_exporter": "python",
   "pygments_lexer": "ipython3",
   "version": "3.10.0"
  }
 },
 "nbformat": 4,
 "nbformat_minor": 2
}
