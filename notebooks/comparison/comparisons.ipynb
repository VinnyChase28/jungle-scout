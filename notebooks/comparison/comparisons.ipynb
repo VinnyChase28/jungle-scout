{
 "cells": [
  {
   "cell_type": "markdown",
   "metadata": {},
   "source": [
    "Various comparisons of any company Vs the rest of the market. "
   ]
  },
  {
   "cell_type": "code",
   "execution_count": 67,
   "metadata": {},
   "outputs": [
    {
     "data": {
      "application/vnd.jupyter.widget-view+json": {
       "model_id": "304acce8a1a44d2cb0d82f0a2a5f029f",
       "version_major": 2,
       "version_minor": 0
      },
      "text/plain": [
       "FigureWidget({\n",
       "    'data': [{'labels': [], 'type': 'pie', 'uid': 'a83a55a9-b1a2-4478-a939-9a33eadcf990', 'values': []}],\n",
       "    'layout': {'template': '...', 'title': {'text': 'Revenue Market Share'}}\n",
       "})"
      ]
     },
     "metadata": {},
     "output_type": "display_data"
    },
    {
     "data": {
      "application/vnd.jupyter.widget-view+json": {
       "model_id": "08d8e04a96c64083a896a0255ec8b1ae",
       "version_major": 2,
       "version_minor": 0
      },
      "text/plain": [
       "FigureWidget({\n",
       "    'data': [{'labels': [], 'type': 'pie', 'uid': '4a30efd2-1282-4585-aeea-1b163d61f8bf', 'values': []}],\n",
       "    'layout': {'template': '...', 'title': {'text': 'Unit Market Share'}}\n",
       "})"
      ]
     },
     "metadata": {},
     "output_type": "display_data"
    },
    {
     "data": {
      "application/vnd.jupyter.widget-view+json": {
       "model_id": "9c0c710a524b4f168ffdfa85cc9c05c6",
       "version_major": 2,
       "version_minor": 0
      },
      "text/plain": [
       "interactive(children=(Dropdown(description='selected_brand', options=('9lives', 'Purina Pro Plan', 'Blue Buffa…"
      ]
     },
     "metadata": {},
     "output_type": "display_data"
    },
    {
     "data": {
      "text/plain": [
       "<function __main__.update_market_share_plots(selected_brand)>"
      ]
     },
     "execution_count": 67,
     "metadata": {},
     "output_type": "execute_result"
    }
   ],
   "source": [
    "import pandas as pd\n",
    "import plotly.graph_objs as go\n",
    "from ipywidgets import interact, Dropdown\n",
    "import ipywidgets as widgets\n",
    "\n",
    "# Load data from the 'Segment Brands' sheet of the Excel file\n",
    "data = pd.read_excel('../Customer_Success_Engineer_-_Project_Data.xlsx', sheet_name='Segment Brands', header=1)\n",
    "\n",
    "# Create initial market share plots (empty)\n",
    "revenue_market_share_fig = go.FigureWidget(data=[go.Pie(labels=[], values=[])], layout=go.Layout(title='Revenue Market Share'))\n",
    "units_market_share_fig = go.FigureWidget(data=[go.Pie(labels=[], values=[])], layout=go.Layout(title='Unit Market Share'))\n",
    "\n",
    "# Display the figures initially\n",
    "display(revenue_market_share_fig, units_market_share_fig)\n",
    "\n",
    "# Function to update plots based on selected brand\n",
    "def update_market_share_plots(selected_brand):\n",
    "    if selected_brand is None:\n",
    "        return\n",
    "\n",
    "    # Filter data for selected brand vs. others\n",
    "    selected_brand_data = data[data['Brand'] == selected_brand]\n",
    "    other_brands_data = data[data['Brand'] != selected_brand]\n",
    "\n",
    "    # Calculate the sum of market shares for 'Others'\n",
    "    selected_brand_revenue_share = selected_brand_data['Revenue Market Share'].values[0] * 100  # Adjust this multiplication as necessary\n",
    "    selected_brand_unit_share = selected_brand_data['Unit Market Share'].values[0] * 100       # Adjust this multiplication as necessary\n",
    "    other_revenue_share = 100 - selected_brand_revenue_share\n",
    "    other_unit_share = 100 - selected_brand_unit_share\n",
    "\n",
    "    # Update revenue market share pie chart\n",
    "    with revenue_market_share_fig.batch_update():\n",
    "        revenue_market_share_fig.data = []\n",
    "        revenue_market_share_fig.add_pie(labels=[selected_brand, 'Others'], values=[selected_brand_revenue_share, other_revenue_share])\n",
    "        revenue_market_share_fig.layout.title = f'Revenue Market Share: {selected_brand} vs Others'\n",
    "\n",
    "    # Update unit market share pie chart\n",
    "    with units_market_share_fig.batch_update():\n",
    "        units_market_share_fig.data = []\n",
    "        units_market_share_fig.add_pie(labels=[selected_brand, 'Others'], values=[selected_brand_unit_share, other_unit_share])\n",
    "        units_market_share_fig.layout.title = f'Unit Market Share: {selected_brand} vs Others'\n",
    "\n",
    "# Ensure this reflects in the dropdown widget interaction as well\n",
    "interact(update_market_share_plots, selected_brand=brand_picker)\n"
   ]
  },
  {
   "cell_type": "code",
   "execution_count": 72,
   "metadata": {},
   "outputs": [
    {
     "data": {
      "application/vnd.jupyter.widget-view+json": {
       "model_id": "e24a8d72f9cb4169bd03324c263e5a0c",
       "version_major": 2,
       "version_minor": 0
      },
      "text/plain": [
       "FigureWidget({\n",
       "    'data': [], 'layout': {'template': '...', 'title': {'text': 'Weekly Revenue Trends'}}\n",
       "})"
      ]
     },
     "metadata": {},
     "output_type": "display_data"
    },
    {
     "data": {
      "application/vnd.jupyter.widget-view+json": {
       "model_id": "af477550d1914c868304f9d26d5393f0",
       "version_major": 2,
       "version_minor": 0
      },
      "text/plain": [
       "FigureWidget({\n",
       "    'data': [], 'layout': {'template': '...', 'title': {'text': 'Weekly Unit Sales Trends'}}\n",
       "})"
      ]
     },
     "metadata": {},
     "output_type": "display_data"
    },
    {
     "data": {
      "application/vnd.jupyter.widget-view+json": {
       "model_id": "bdfb0129e5d34f6aaf818484e9cda170",
       "version_major": 2,
       "version_minor": 0
      },
      "text/plain": [
       "interactive(children=(Dropdown(description='selected_brand', options=('9lives', 'Purina Pro Plan', 'Blue Buffa…"
      ]
     },
     "metadata": {},
     "output_type": "display_data"
    },
    {
     "data": {
      "text/plain": [
       "<function __main__.update_trend_plots(selected_brand)>"
      ]
     },
     "execution_count": 72,
     "metadata": {},
     "output_type": "execute_result"
    }
   ],
   "source": [
    "# Load weekly data from the Excel file, assuming 'Weekly' sheet contains the relevant data\n",
    "weekly_data = pd.read_excel('../Customer_Success_Engineer_-_Project_Data.xlsx', sheet_name='Weekly', header=1)\n",
    "\n",
    "# Create initial plots for revenue and sales trends\n",
    "revenue_trend_fig = go.FigureWidget(layout=go.Layout(title='Weekly Revenue Trends'))\n",
    "sales_trend_fig = go.FigureWidget(layout=go.Layout(title='Weekly Unit Sales Trends'))\n",
    "\n",
    "# Display the figures initially\n",
    "display(revenue_trend_fig, sales_trend_fig)\n",
    "\n",
    "# Function to update revenue and sales trends based on selected brand\n",
    "def update_trend_plots(selected_brand):\n",
    "    if selected_brand is None:\n",
    "        return\n",
    "    \n",
    "    # Filter data for selected brand\n",
    "    brand_data = weekly_data[weekly_data['Brand'] == selected_brand]\n",
    "    \n",
    "    # Update revenue trend bar chart\n",
    "    with revenue_trend_fig.batch_update():\n",
    "        revenue_trend_fig.data = []\n",
    "        revenue_trend_fig.add_bar(x=brand_data['Week'], y=brand_data['Revenue'], name=selected_brand)\n",
    "        revenue_trend_fig.layout.title = f'Weekly Revenue Trends for {selected_brand}'\n",
    "\n",
    "    # Update unit sales trend bar chart\n",
    "    with sales_trend_fig.batch_update():\n",
    "        sales_trend_fig.data = []\n",
    "        sales_trend_fig.add_bar(x=brand_data['Week'], y=brand_data['Units'], name=selected_brand)\n",
    "        sales_trend_fig.layout.title = f'Weekly Unit Sales Trends for {selected_brand}'\n",
    "\n",
    "# Dropdown widget for brand selection\n",
    "brand_picker = Dropdown(options=weekly_data['Brand'].unique())\n",
    "\n",
    "# Update plots interactively\n",
    "interact(update_trend_plots, selected_brand=brand_picker)"
   ]
  },
  {
   "cell_type": "code",
   "execution_count": null,
   "metadata": {},
   "outputs": [],
   "source": []
  }
 ],
 "metadata": {
  "kernelspec": {
   "display_name": "Python 3 (ipykernel)",
   "language": "python",
   "name": "python3"
  },
  "language_info": {
   "codemirror_mode": {
    "name": "ipython",
    "version": 3
   },
   "file_extension": ".py",
   "mimetype": "text/x-python",
   "name": "python",
   "nbconvert_exporter": "python",
   "pygments_lexer": "ipython3",
   "version": "3.10.0"
  }
 },
 "nbformat": 4,
 "nbformat_minor": 4
}
