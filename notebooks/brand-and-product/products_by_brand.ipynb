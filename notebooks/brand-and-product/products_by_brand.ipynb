{
 "cells": [
  {
   "cell_type": "code",
   "execution_count": 1,
   "metadata": {},
   "outputs": [],
   "source": [
    "import pandas as pd\n",
    "import plotly.graph_objects as go\n",
    "from ipywidgets import Dropdown, Output\n",
    "import ipywidgets as widgets\n",
    "from IPython.display import display"
   ]
  },
  {
   "cell_type": "code",
   "execution_count": null,
   "metadata": {},
   "outputs": [],
   "source": [
    "\n",
    "\n",
    "# Load the data\n",
    "segment_products_data = pd.read_excel('../Customer_Success_Engineer_-_Project_Data.xlsx', sheet_name='Segment Products', header=1)\n",
    "\n",
    "# Sort data by brand and revenue descending to get top products\n",
    "products_data_sorted = segment_products_data.sort_values(by=['Brand', 'Revenue'], ascending=[True, False])\n",
    "\n",
    "# Group by brand and take top N products, here N=5\n",
    "top_products_per_brand = products_data_sorted.groupby('Brand').head(5)\n",
    "\n",
    "# Create a dropdown widget with all unique brand names\n",
    "dropdown = Dropdown(\n",
    "    options=top_products_per_brand['Brand'].unique(),\n",
    "    value=top_products_per_brand['Brand'].unique()[0],\n",
    "    description='Brand:',\n",
    ")\n",
    "\n",
    "# Output widget to control where the figure is displayed\n",
    "output = Output()\n",
    "\n",
    "# Function to update the pie chart based on the selected brand\n",
    "def update_pie_chart(change):\n",
    "    with output:\n",
    "        output.clear_output(wait=True)\n",
    "        filtered_data = top_products_per_brand[top_products_per_brand['Brand'] == change.new]\n",
    "        # Create a pie chart\n",
    "        pie_chart = go.Figure(data=[\n",
    "            go.Pie(labels=filtered_data['ASIN'], values=filtered_data['Revenue'], textinfo='label+percent')\n",
    "        ])\n",
    "        pie_chart.update_layout(title=f\"Top 5 Products for {change.new} Based on Revenue\")\n",
    "        pie_chart.show()\n",
    "\n",
    "# Display the dropdown\n",
    "display(dropdown)\n",
    "\n",
    "# Display the output area where the figure will be shown\n",
    "display(output)\n",
    "\n",
    "# Create an initial pie chart\n",
    "initial_brand = dropdown.value\n",
    "initial_data = top_products_per_brand[top_products_per_brand['Brand'] == initial_brand]\n",
    "initial_pie_chart = go.Figure(data=[\n",
    "    go.Pie(labels=initial_data['ASIN'], values=initial_data['Revenue'], textinfo='label+percent')\n",
    "])\n",
    "initial_pie_chart.update_layout(title=f\"Top 5 Products for {initial_brand} Based on Revenue\")\n",
    "with output:\n",
    "    initial_pie_chart.show()\n",
    "\n",
    "# Call update_pie_chart function when a new brand is selected from the dropdown\n",
    "dropdown.observe(update_pie_chart, names='value')"
   ]
  }
 ],
 "metadata": {
  "kernelspec": {
   "display_name": "env",
   "language": "python",
   "name": "python3"
  },
  "language_info": {
   "codemirror_mode": {
    "name": "ipython",
    "version": 3
   },
   "file_extension": ".py",
   "mimetype": "text/x-python",
   "name": "python",
   "nbconvert_exporter": "python",
   "pygments_lexer": "ipython3",
   "version": "3.10.0"
  }
 },
 "nbformat": 4,
 "nbformat_minor": 2
}
