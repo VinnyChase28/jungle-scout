{
 "cells": [
  {
   "cell_type": "code",
   "execution_count": 3,
   "metadata": {},
   "outputs": [],
   "source": [
    "import pandas as pd\n",
    "import plotly.graph_objs as go\n",
    "from ipywidgets import widgets\n",
    "from IPython.display import display"
   ]
  },
  {
   "cell_type": "code",
   "execution_count": 4,
   "metadata": {},
   "outputs": [
    {
     "data": {
      "application/vnd.jupyter.widget-view+json": {
       "model_id": "194c71651dc643219f8dc362a2e0c4a1",
       "version_major": 2,
       "version_minor": 0
      },
      "text/plain": [
       "Dropdown(description='Brand:', options=('9lives', 'Blue Buffalo', 'Friskies', 'Gorilla Grip', \"Hill'S Pet Nutr…"
      ]
     },
     "metadata": {},
     "output_type": "display_data"
    },
    {
     "data": {
      "application/vnd.jupyter.widget-view+json": {
       "model_id": "deb2f3b31f8c4370b1adab1d2de2afca",
       "version_major": 2,
       "version_minor": 0
      },
      "text/plain": [
       "FigureWidget({\n",
       "    'data': [{'type': 'bar',\n",
       "              'uid': '1e4be27c-d9d9-4e48-8e7f-50137d3cba44',\n",
       "              'x': array(['B07DWJDH19'], dtype=object),\n",
       "              'y': array([1163292.07346])}],\n",
       "    'layout': {'template': '...', 'title': {'text': 'Top 5 Products for 9lives Based on Revenue'}}\n",
       "})"
      ]
     },
     "metadata": {},
     "output_type": "display_data"
    }
   ],
   "source": [
    "# Load the data\n",
    "segment_products_data = pd.read_excel('../Customer_Success_Engineer_-_Project_Data.xlsx', sheet_name='Segment Products', header=1)\n",
    "\n",
    "# Sort data by brand and revenue descending to get top products\n",
    "products_data_sorted = segment_products_data.sort_values(by=['Brand', 'Revenue'], ascending=[True, False])\n",
    "\n",
    "# Group by brand and take top N products, here N=5\n",
    "top_products_per_brand = products_data_sorted.groupby('Brand').head(5)\n",
    "\n",
    "# Create a dropdown widget with all unique brand names\n",
    "dropdown = widgets.Dropdown(\n",
    "    options=top_products_per_brand['Brand'].unique(),\n",
    "    value=top_products_per_brand['Brand'].unique()[0],\n",
    "    description='Brand:',\n",
    ")\n",
    "\n",
    "# Function to update the bar chart based on the selected brand\n",
    "def update_bar_chart(change):\n",
    "    filtered_data = top_products_per_brand[top_products_per_brand['Brand'] == change.new]\n",
    "    bar_chart.data = []\n",
    "    bar_chart.add_trace(go.Bar(x=filtered_data['ASIN'], y=filtered_data['Revenue']))\n",
    "    bar_chart.update_layout(title=f\"Top 5 Products for {change.new} Based on Revenue\")\n",
    "\n",
    "# Create an initial bar chart\n",
    "initial_brand = dropdown.value\n",
    "initial_data = top_products_per_brand[top_products_per_brand['Brand'] == initial_brand]\n",
    "bar_chart = go.FigureWidget(data=[\n",
    "    go.Bar(x=initial_data['ASIN'], y=initial_data['Revenue'])\n",
    "])\n",
    "bar_chart.update_layout(title=f\"Top 5 Products for {initial_brand} Based on Revenue\")\n",
    "\n",
    "# Display the dropdown and the initial bar chart\n",
    "display(dropdown)\n",
    "display(bar_chart)\n",
    "\n",
    "# Call update_bar_chart function when a new brand is selected from the dropdown\n",
    "dropdown.observe(update_bar_chart, names='value')\n"
   ]
  }
 ],
 "metadata": {
  "kernelspec": {
   "display_name": "env",
   "language": "python",
   "name": "python3"
  },
  "language_info": {
   "codemirror_mode": {
    "name": "ipython",
    "version": 3
   },
   "file_extension": ".py",
   "mimetype": "text/x-python",
   "name": "python",
   "nbconvert_exporter": "python",
   "pygments_lexer": "ipython3",
   "version": "3.10.0"
  }
 },
 "nbformat": 4,
 "nbformat_minor": 2
}
